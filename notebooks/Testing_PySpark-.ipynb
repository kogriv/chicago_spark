{
 "cells": [
  {
   "cell_type": "code",
   "execution_count": 1,
   "id": "b2c050ff-1499-43b6-b3a3-59e722bbec0d",
   "metadata": {},
   "outputs": [],
   "source": [
    "import os\n",
    "import sys\n",
    "import tracemalloc"
   ]
  },
  {
   "cell_type": "code",
   "execution_count": 2,
   "id": "fb08703c-331a-4d17-9573-3940f6f1ad8d",
   "metadata": {},
   "outputs": [
    {
     "ename": "ModuleNotFoundError",
     "evalue": "No module named 'pandas'",
     "output_type": "error",
     "traceback": [
      "\u001b[0;31m---------------------------------------------------------------------------\u001b[0m",
      "\u001b[0;31mModuleNotFoundError\u001b[0m                       Traceback (most recent call last)",
      "\u001b[0;32m/tmp/ipykernel_42199/4080736814.py\u001b[0m in \u001b[0;36m<module>\u001b[0;34m\u001b[0m\n\u001b[0;32m----> 1\u001b[0;31m \u001b[0;32mimport\u001b[0m \u001b[0mpandas\u001b[0m \u001b[0;32mas\u001b[0m \u001b[0mpd\u001b[0m\u001b[0;34m\u001b[0m\u001b[0;34m\u001b[0m\u001b[0m\n\u001b[0m",
      "\u001b[0;31mModuleNotFoundError\u001b[0m: No module named 'pandas'"
     ]
    }
   ],
   "source": [
    "import pandas as pd"
   ]
  },
  {
   "cell_type": "code",
   "execution_count": 3,
   "id": "1652b0f9-9bc2-4277-9685-844a00acfcaa",
   "metadata": {},
   "outputs": [],
   "source": [
    "from pyspark import SparkContext\n",
    "from pyspark.sql import SparkSession"
   ]
  },
  {
   "cell_type": "code",
   "execution_count": 4,
   "id": "58f11566-72a3-400f-ba51-d72cb5f64fd9",
   "metadata": {},
   "outputs": [
    {
     "name": "stdout",
     "output_type": "stream",
     "text": [
      "VIRTUAL_ENV = None\n",
      "CONDA_DEFAULT_ENV = None\n",
      "PYTHONTRACEMALLOC = None\n",
      "PYTHONPATH = None\n",
      "\n",
      "sys.path =  ['/home/d/pro/chicago_spark/notebooks', '/usr/lib/python310.zip', '/usr/lib/python3.10', '/usr/lib/python3.10/lib-dynload', '', '/home/d/.local/lib/python3.10/site-packages', '/usr/local/lib/python3.10/dist-packages', '/usr/lib/python3/dist-packages', '/usr/lib/python3.10/dist-packages', '/usr/lib/python3/dist-packages/IPython/extensions', '/home/d/.ipython']\n",
      "sys.executable =  /usr/bin/python3\n"
     ]
    }
   ],
   "source": [
    "print('VIRTUAL_ENV =',os.environ.get('VIRTUAL_ENV'))\n",
    "print('CONDA_DEFAULT_ENV =',os.environ.get('CONDA_DEFAULT_ENV'))\n",
    "print('PYTHONTRACEMALLOC =',os.environ.get('PYTHONTRACEMALLOC'))\n",
    "print('PYTHONPATH =',os.environ.get('PYTHONPATH'))\n",
    "print()\n",
    "print('sys.path = ',sys.path)\n",
    "print('sys.executable = ',sys.executable)"
   ]
  },
  {
   "cell_type": "code",
   "execution_count": 5,
   "id": "28fdca19-bfe4-4fee-9fbc-301d482e7a1e",
   "metadata": {},
   "outputs": [],
   "source": [
    "# Включаем трассировку\n",
    "tracemalloc.start()"
   ]
  },
  {
   "cell_type": "code",
   "execution_count": 6,
   "id": "cc75b998-123c-4b9f-86a4-9fc55d8086f8",
   "metadata": {},
   "outputs": [],
   "source": [
    "def total_memory_allocated(verbose=True):\n",
    "    # Получаем текущую статистику использования памяти\n",
    "    snapshot = tracemalloc.take_snapshot()\n",
    "    top_stats = snapshot.statistics('lineno')\n",
    "    # Вычисляем общий объем аллоцированной памяти\n",
    "    total_memory_allocated = sum(stat.size for stat in top_stats)\n",
    "    if verbose:\n",
    "        print(\"Общий объем аллоцированной памяти:\", '{:,}'\\\n",
    "              .format(total_memory_allocated).replace(',', '\\''), \"байт\")\n",
    "    return total_memory_allocated"
   ]
  },
  {
   "cell_type": "code",
   "execution_count": 7,
   "id": "696e10e8-7226-4b99-a1f3-cfb746b5debc",
   "metadata": {},
   "outputs": [
    {
     "name": "stdout",
     "output_type": "stream",
     "text": [
      "Общий объем аллоцированной памяти: 35'812 байт\n"
     ]
    }
   ],
   "source": [
    "tma = total_memory_allocated()"
   ]
  },
  {
   "cell_type": "code",
   "execution_count": 8,
   "id": "559d9e4d-bbd9-4b43-8be0-f08fde9bac0b",
   "metadata": {},
   "outputs": [],
   "source": [
    "# Функция отображения прироста объема аллоцированной памяти\n",
    "def tmach(tma):\n",
    "    if not tma:\n",
    "        tma = 0\n",
    "    tma1 = total_memory_allocated(verbose=False)\n",
    "    print(\"Прирост:\", '{:,}'\\\n",
    "    .format(tma1-tma).replace(',', '\\''), \"байт\")\n",
    "    return tma1"
   ]
  },
  {
   "cell_type": "markdown",
   "id": "c6a6bd27-6b9c-4dff-9f3c-c9b8c932be66",
   "metadata": {},
   "source": [
    "Testing operations_1_-0-"
   ]
  },
  {
   "cell_type": "markdown",
   "id": "8e4bc8fe-ba5e-4389-b6b5-8cfef00691c8",
   "metadata": {},
   "source": [
    "#### Точка входа = Приложение с использованием SparkContext"
   ]
  },
  {
   "cell_type": "code",
   "execution_count": 9,
   "id": "5db7d960-6804-4299-a06c-a54472c0d2e9",
   "metadata": {},
   "outputs": [
    {
     "name": "stderr",
     "output_type": "stream",
     "text": [
      "JAVA_HOME is not set\n"
     ]
    },
    {
     "ename": "RuntimeError",
     "evalue": "Java gateway process exited before sending its port number",
     "output_type": "error",
     "traceback": [
      "\u001b[0;31m---------------------------------------------------------------------------\u001b[0m",
      "\u001b[0;31mRuntimeError\u001b[0m                              Traceback (most recent call last)",
      "\u001b[0;32m/tmp/ipykernel_42199/2857813811.py\u001b[0m in \u001b[0;36m<module>\u001b[0;34m\u001b[0m\n\u001b[0;32m----> 1\u001b[0;31m \u001b[0msc\u001b[0m \u001b[0;34m=\u001b[0m \u001b[0mSparkContext\u001b[0m\u001b[0;34m(\u001b[0m\u001b[0mappName\u001b[0m\u001b[0;34m=\u001b[0m\u001b[0;34m\"appName\"\u001b[0m\u001b[0;34m)\u001b[0m\u001b[0;34m\u001b[0m\u001b[0;34m\u001b[0m\u001b[0m\n\u001b[0m\u001b[1;32m      2\u001b[0m \u001b[0mweather_entry\u001b[0m \u001b[0;34m=\u001b[0m \u001b[0msc\u001b[0m\u001b[0;34m.\u001b[0m\u001b[0mparallelize\u001b[0m\u001b[0;34m(\u001b[0m\u001b[0;34m[\u001b[0m\u001b[0;34m'2009-01-01'\u001b[0m\u001b[0;34m,\u001b[0m \u001b[0;36m15.1\u001b[0m\u001b[0;34m,\u001b[0m\u001b[0;36m26.1\u001b[0m\u001b[0;34m]\u001b[0m\u001b[0;34m)\u001b[0m\u001b[0;34m\u001b[0m\u001b[0;34m\u001b[0m\u001b[0m\n\u001b[1;32m      3\u001b[0m \u001b[0mprint\u001b[0m\u001b[0;34m(\u001b[0m\u001b[0mweather_entry\u001b[0m\u001b[0;34m.\u001b[0m\u001b[0mtake\u001b[0m\u001b[0;34m(\u001b[0m\u001b[0;36m3\u001b[0m\u001b[0;34m)\u001b[0m\u001b[0;34m)\u001b[0m\u001b[0;34m\u001b[0m\u001b[0;34m\u001b[0m\u001b[0m\n",
      "\u001b[0;32m~/.local/lib/python3.10/site-packages/pyspark/context.py\u001b[0m in \u001b[0;36m__init__\u001b[0;34m(self, master, appName, sparkHome, pyFiles, environment, batchSize, serializer, conf, gateway, jsc, profiler_cls, udf_profiler_cls, memory_profiler_cls)\u001b[0m\n\u001b[1;32m    196\u001b[0m             )\n\u001b[1;32m    197\u001b[0m \u001b[0;34m\u001b[0m\u001b[0m\n\u001b[0;32m--> 198\u001b[0;31m         \u001b[0mSparkContext\u001b[0m\u001b[0;34m.\u001b[0m\u001b[0m_ensure_initialized\u001b[0m\u001b[0;34m(\u001b[0m\u001b[0mself\u001b[0m\u001b[0;34m,\u001b[0m \u001b[0mgateway\u001b[0m\u001b[0;34m=\u001b[0m\u001b[0mgateway\u001b[0m\u001b[0;34m,\u001b[0m \u001b[0mconf\u001b[0m\u001b[0;34m=\u001b[0m\u001b[0mconf\u001b[0m\u001b[0;34m)\u001b[0m\u001b[0;34m\u001b[0m\u001b[0;34m\u001b[0m\u001b[0m\n\u001b[0m\u001b[1;32m    199\u001b[0m         \u001b[0;32mtry\u001b[0m\u001b[0;34m:\u001b[0m\u001b[0;34m\u001b[0m\u001b[0;34m\u001b[0m\u001b[0m\n\u001b[1;32m    200\u001b[0m             self._do_init(\n",
      "\u001b[0;32m~/.local/lib/python3.10/site-packages/pyspark/context.py\u001b[0m in \u001b[0;36m_ensure_initialized\u001b[0;34m(cls, instance, gateway, conf)\u001b[0m\n\u001b[1;32m    430\u001b[0m         \u001b[0;32mwith\u001b[0m \u001b[0mSparkContext\u001b[0m\u001b[0;34m.\u001b[0m\u001b[0m_lock\u001b[0m\u001b[0;34m:\u001b[0m\u001b[0;34m\u001b[0m\u001b[0;34m\u001b[0m\u001b[0m\n\u001b[1;32m    431\u001b[0m             \u001b[0;32mif\u001b[0m \u001b[0;32mnot\u001b[0m \u001b[0mSparkContext\u001b[0m\u001b[0;34m.\u001b[0m\u001b[0m_gateway\u001b[0m\u001b[0;34m:\u001b[0m\u001b[0;34m\u001b[0m\u001b[0;34m\u001b[0m\u001b[0m\n\u001b[0;32m--> 432\u001b[0;31m                 \u001b[0mSparkContext\u001b[0m\u001b[0;34m.\u001b[0m\u001b[0m_gateway\u001b[0m \u001b[0;34m=\u001b[0m \u001b[0mgateway\u001b[0m \u001b[0;32mor\u001b[0m \u001b[0mlaunch_gateway\u001b[0m\u001b[0;34m(\u001b[0m\u001b[0mconf\u001b[0m\u001b[0;34m)\u001b[0m\u001b[0;34m\u001b[0m\u001b[0;34m\u001b[0m\u001b[0m\n\u001b[0m\u001b[1;32m    433\u001b[0m                 \u001b[0mSparkContext\u001b[0m\u001b[0;34m.\u001b[0m\u001b[0m_jvm\u001b[0m \u001b[0;34m=\u001b[0m \u001b[0mSparkContext\u001b[0m\u001b[0;34m.\u001b[0m\u001b[0m_gateway\u001b[0m\u001b[0;34m.\u001b[0m\u001b[0mjvm\u001b[0m\u001b[0;34m\u001b[0m\u001b[0;34m\u001b[0m\u001b[0m\n\u001b[1;32m    434\u001b[0m \u001b[0;34m\u001b[0m\u001b[0m\n",
      "\u001b[0;32m~/.local/lib/python3.10/site-packages/pyspark/java_gateway.py\u001b[0m in \u001b[0;36mlaunch_gateway\u001b[0;34m(conf, popen_kwargs)\u001b[0m\n\u001b[1;32m    104\u001b[0m \u001b[0;34m\u001b[0m\u001b[0m\n\u001b[1;32m    105\u001b[0m             \u001b[0;32mif\u001b[0m \u001b[0;32mnot\u001b[0m \u001b[0mos\u001b[0m\u001b[0;34m.\u001b[0m\u001b[0mpath\u001b[0m\u001b[0;34m.\u001b[0m\u001b[0misfile\u001b[0m\u001b[0;34m(\u001b[0m\u001b[0mconn_info_file\u001b[0m\u001b[0;34m)\u001b[0m\u001b[0;34m:\u001b[0m\u001b[0;34m\u001b[0m\u001b[0;34m\u001b[0m\u001b[0m\n\u001b[0;32m--> 106\u001b[0;31m                 \u001b[0;32mraise\u001b[0m \u001b[0mRuntimeError\u001b[0m\u001b[0;34m(\u001b[0m\u001b[0;34m\"Java gateway process exited before sending its port number\"\u001b[0m\u001b[0;34m)\u001b[0m\u001b[0;34m\u001b[0m\u001b[0;34m\u001b[0m\u001b[0m\n\u001b[0m\u001b[1;32m    107\u001b[0m \u001b[0;34m\u001b[0m\u001b[0m\n\u001b[1;32m    108\u001b[0m             \u001b[0;32mwith\u001b[0m \u001b[0mopen\u001b[0m\u001b[0;34m(\u001b[0m\u001b[0mconn_info_file\u001b[0m\u001b[0;34m,\u001b[0m \u001b[0;34m\"rb\"\u001b[0m\u001b[0;34m)\u001b[0m \u001b[0;32mas\u001b[0m \u001b[0minfo\u001b[0m\u001b[0;34m:\u001b[0m\u001b[0;34m\u001b[0m\u001b[0;34m\u001b[0m\u001b[0m\n",
      "\u001b[0;31mRuntimeError\u001b[0m: Java gateway process exited before sending its port number"
     ]
    }
   ],
   "source": [
    "sc = SparkContext(appName=\"appName\")\n",
    "weather_entry = sc.parallelize(['2009-01-01', 15.1,26.1])\n",
    "print(weather_entry.take(3))"
   ]
  },
  {
   "cell_type": "code",
   "execution_count": 10,
   "id": "b90cc37d-202d-4c54-a10d-8a1161fcc75d",
   "metadata": {},
   "outputs": [
    {
     "name": "stdout",
     "output_type": "stream",
     "text": [
      "Прирост: 1'015'326 байт\n"
     ]
    }
   ],
   "source": [
    "tma = tmach(tma)"
   ]
  },
  {
   "cell_type": "code",
   "execution_count": 11,
   "id": "f746b7d3-6a41-42e6-90d8-8fd311e29b31",
   "metadata": {},
   "outputs": [
    {
     "ename": "NameError",
     "evalue": "name 'sc' is not defined",
     "output_type": "error",
     "traceback": [
      "\u001b[0;31m---------------------------------------------------------------------------\u001b[0m",
      "\u001b[0;31mNameError\u001b[0m                                 Traceback (most recent call last)",
      "\u001b[0;32m/tmp/ipykernel_42199/4134826275.py\u001b[0m in \u001b[0;36m<module>\u001b[0;34m\u001b[0m\n\u001b[0;32m----> 1\u001b[0;31m \u001b[0msc\u001b[0m\u001b[0;34m.\u001b[0m\u001b[0mstop\u001b[0m\u001b[0;34m(\u001b[0m\u001b[0;34m)\u001b[0m\u001b[0;34m\u001b[0m\u001b[0;34m\u001b[0m\u001b[0m\n\u001b[0m",
      "\u001b[0;31mNameError\u001b[0m: name 'sc' is not defined"
     ]
    }
   ],
   "source": [
    "sc.stop()"
   ]
  },
  {
   "cell_type": "markdown",
   "id": "a6534319-a275-46b2-9a78-755adbdcd86f",
   "metadata": {},
   "source": [
    "#### Точка входа = Приложение с использованием SparkSession\n",
    "\n",
    "Данный способ является болеее предпочтительным в новых версиях по сравненеию с SparkContext"
   ]
  },
  {
   "cell_type": "code",
   "execution_count": 12,
   "id": "e7aee1b7-3f44-4602-a823-a34daf4e7387",
   "metadata": {},
   "outputs": [
    {
     "name": "stderr",
     "output_type": "stream",
     "text": [
      "JAVA_HOME is not set\n"
     ]
    },
    {
     "ename": "RuntimeError",
     "evalue": "Java gateway process exited before sending its port number",
     "output_type": "error",
     "traceback": [
      "\u001b[0;31m---------------------------------------------------------------------------\u001b[0m",
      "\u001b[0;31mRuntimeError\u001b[0m                              Traceback (most recent call last)",
      "\u001b[0;32m/tmp/ipykernel_42199/1321472695.py\u001b[0m in \u001b[0;36m<module>\u001b[0;34m\u001b[0m\n\u001b[1;32m      1\u001b[0m \u001b[0mAPP_NAME\u001b[0m \u001b[0;34m=\u001b[0m \u001b[0;34m'sampleApp'\u001b[0m\u001b[0;34m\u001b[0m\u001b[0;34m\u001b[0m\u001b[0m\n\u001b[0;32m----> 2\u001b[0;31m \u001b[0mspark\u001b[0m \u001b[0;34m=\u001b[0m \u001b[0mSparkSession\u001b[0m\u001b[0;34m.\u001b[0m\u001b[0mbuilder\u001b[0m\u001b[0;34m.\u001b[0m\u001b[0mappName\u001b[0m\u001b[0;34m(\u001b[0m\u001b[0mAPP_NAME\u001b[0m\u001b[0;34m)\u001b[0m\u001b[0;34m.\u001b[0m\u001b[0mgetOrCreate\u001b[0m\u001b[0;34m(\u001b[0m\u001b[0;34m)\u001b[0m\u001b[0;34m\u001b[0m\u001b[0;34m\u001b[0m\u001b[0m\n\u001b[0m\u001b[1;32m      3\u001b[0m \u001b[0;31m# Вывести свойства объекта spark\u001b[0m\u001b[0;34m\u001b[0m\u001b[0;34m\u001b[0m\u001b[0m\n\u001b[1;32m      4\u001b[0m \u001b[0mprint\u001b[0m\u001b[0;34m(\u001b[0m\u001b[0;34m\"AppName:\"\u001b[0m\u001b[0;34m,\u001b[0m \u001b[0mspark\u001b[0m\u001b[0;34m.\u001b[0m\u001b[0msparkContext\u001b[0m\u001b[0;34m.\u001b[0m\u001b[0mappName\u001b[0m\u001b[0;34m)\u001b[0m\u001b[0;34m\u001b[0m\u001b[0;34m\u001b[0m\u001b[0m\n\u001b[1;32m      5\u001b[0m \u001b[0mprint\u001b[0m\u001b[0;34m(\u001b[0m\u001b[0;34m\"Master:\"\u001b[0m\u001b[0;34m,\u001b[0m \u001b[0mspark\u001b[0m\u001b[0;34m.\u001b[0m\u001b[0msparkContext\u001b[0m\u001b[0;34m.\u001b[0m\u001b[0mmaster\u001b[0m\u001b[0;34m)\u001b[0m\u001b[0;34m\u001b[0m\u001b[0;34m\u001b[0m\u001b[0m\n",
      "\u001b[0;32m~/.local/lib/python3.10/site-packages/pyspark/sql/session.py\u001b[0m in \u001b[0;36mgetOrCreate\u001b[0;34m(self)\u001b[0m\n\u001b[1;32m    475\u001b[0m                         \u001b[0msparkConf\u001b[0m\u001b[0;34m.\u001b[0m\u001b[0mset\u001b[0m\u001b[0;34m(\u001b[0m\u001b[0mkey\u001b[0m\u001b[0;34m,\u001b[0m \u001b[0mvalue\u001b[0m\u001b[0;34m)\u001b[0m\u001b[0;34m\u001b[0m\u001b[0;34m\u001b[0m\u001b[0m\n\u001b[1;32m    476\u001b[0m                     \u001b[0;31m# This SparkContext may be an existing one.\u001b[0m\u001b[0;34m\u001b[0m\u001b[0;34m\u001b[0m\u001b[0m\n\u001b[0;32m--> 477\u001b[0;31m                     \u001b[0msc\u001b[0m \u001b[0;34m=\u001b[0m \u001b[0mSparkContext\u001b[0m\u001b[0;34m.\u001b[0m\u001b[0mgetOrCreate\u001b[0m\u001b[0;34m(\u001b[0m\u001b[0msparkConf\u001b[0m\u001b[0;34m)\u001b[0m\u001b[0;34m\u001b[0m\u001b[0;34m\u001b[0m\u001b[0m\n\u001b[0m\u001b[1;32m    478\u001b[0m                     \u001b[0;31m# Do not update `SparkConf` for existing `SparkContext`, as it's shared\u001b[0m\u001b[0;34m\u001b[0m\u001b[0;34m\u001b[0m\u001b[0m\n\u001b[1;32m    479\u001b[0m                     \u001b[0;31m# by all sessions.\u001b[0m\u001b[0;34m\u001b[0m\u001b[0;34m\u001b[0m\u001b[0m\n",
      "\u001b[0;32m~/.local/lib/python3.10/site-packages/pyspark/context.py\u001b[0m in \u001b[0;36mgetOrCreate\u001b[0;34m(cls, conf)\u001b[0m\n\u001b[1;32m    510\u001b[0m         \u001b[0;32mwith\u001b[0m \u001b[0mSparkContext\u001b[0m\u001b[0;34m.\u001b[0m\u001b[0m_lock\u001b[0m\u001b[0;34m:\u001b[0m\u001b[0;34m\u001b[0m\u001b[0;34m\u001b[0m\u001b[0m\n\u001b[1;32m    511\u001b[0m             \u001b[0;32mif\u001b[0m \u001b[0mSparkContext\u001b[0m\u001b[0;34m.\u001b[0m\u001b[0m_active_spark_context\u001b[0m \u001b[0;32mis\u001b[0m \u001b[0;32mNone\u001b[0m\u001b[0;34m:\u001b[0m\u001b[0;34m\u001b[0m\u001b[0;34m\u001b[0m\u001b[0m\n\u001b[0;32m--> 512\u001b[0;31m                 \u001b[0mSparkContext\u001b[0m\u001b[0;34m(\u001b[0m\u001b[0mconf\u001b[0m\u001b[0;34m=\u001b[0m\u001b[0mconf\u001b[0m \u001b[0;32mor\u001b[0m \u001b[0mSparkConf\u001b[0m\u001b[0;34m(\u001b[0m\u001b[0;34m)\u001b[0m\u001b[0;34m)\u001b[0m\u001b[0;34m\u001b[0m\u001b[0;34m\u001b[0m\u001b[0m\n\u001b[0m\u001b[1;32m    513\u001b[0m             \u001b[0;32massert\u001b[0m \u001b[0mSparkContext\u001b[0m\u001b[0;34m.\u001b[0m\u001b[0m_active_spark_context\u001b[0m \u001b[0;32mis\u001b[0m \u001b[0;32mnot\u001b[0m \u001b[0;32mNone\u001b[0m\u001b[0;34m\u001b[0m\u001b[0;34m\u001b[0m\u001b[0m\n\u001b[1;32m    514\u001b[0m             \u001b[0;32mreturn\u001b[0m \u001b[0mSparkContext\u001b[0m\u001b[0;34m.\u001b[0m\u001b[0m_active_spark_context\u001b[0m\u001b[0;34m\u001b[0m\u001b[0;34m\u001b[0m\u001b[0m\n",
      "\u001b[0;32m~/.local/lib/python3.10/site-packages/pyspark/context.py\u001b[0m in \u001b[0;36m__init__\u001b[0;34m(self, master, appName, sparkHome, pyFiles, environment, batchSize, serializer, conf, gateway, jsc, profiler_cls, udf_profiler_cls, memory_profiler_cls)\u001b[0m\n\u001b[1;32m    196\u001b[0m             )\n\u001b[1;32m    197\u001b[0m \u001b[0;34m\u001b[0m\u001b[0m\n\u001b[0;32m--> 198\u001b[0;31m         \u001b[0mSparkContext\u001b[0m\u001b[0;34m.\u001b[0m\u001b[0m_ensure_initialized\u001b[0m\u001b[0;34m(\u001b[0m\u001b[0mself\u001b[0m\u001b[0;34m,\u001b[0m \u001b[0mgateway\u001b[0m\u001b[0;34m=\u001b[0m\u001b[0mgateway\u001b[0m\u001b[0;34m,\u001b[0m \u001b[0mconf\u001b[0m\u001b[0;34m=\u001b[0m\u001b[0mconf\u001b[0m\u001b[0;34m)\u001b[0m\u001b[0;34m\u001b[0m\u001b[0;34m\u001b[0m\u001b[0m\n\u001b[0m\u001b[1;32m    199\u001b[0m         \u001b[0;32mtry\u001b[0m\u001b[0;34m:\u001b[0m\u001b[0;34m\u001b[0m\u001b[0;34m\u001b[0m\u001b[0m\n\u001b[1;32m    200\u001b[0m             self._do_init(\n",
      "\u001b[0;32m~/.local/lib/python3.10/site-packages/pyspark/context.py\u001b[0m in \u001b[0;36m_ensure_initialized\u001b[0;34m(cls, instance, gateway, conf)\u001b[0m\n\u001b[1;32m    430\u001b[0m         \u001b[0;32mwith\u001b[0m \u001b[0mSparkContext\u001b[0m\u001b[0;34m.\u001b[0m\u001b[0m_lock\u001b[0m\u001b[0;34m:\u001b[0m\u001b[0;34m\u001b[0m\u001b[0;34m\u001b[0m\u001b[0m\n\u001b[1;32m    431\u001b[0m             \u001b[0;32mif\u001b[0m \u001b[0;32mnot\u001b[0m \u001b[0mSparkContext\u001b[0m\u001b[0;34m.\u001b[0m\u001b[0m_gateway\u001b[0m\u001b[0;34m:\u001b[0m\u001b[0;34m\u001b[0m\u001b[0;34m\u001b[0m\u001b[0m\n\u001b[0;32m--> 432\u001b[0;31m                 \u001b[0mSparkContext\u001b[0m\u001b[0;34m.\u001b[0m\u001b[0m_gateway\u001b[0m \u001b[0;34m=\u001b[0m \u001b[0mgateway\u001b[0m \u001b[0;32mor\u001b[0m \u001b[0mlaunch_gateway\u001b[0m\u001b[0;34m(\u001b[0m\u001b[0mconf\u001b[0m\u001b[0;34m)\u001b[0m\u001b[0;34m\u001b[0m\u001b[0;34m\u001b[0m\u001b[0m\n\u001b[0m\u001b[1;32m    433\u001b[0m                 \u001b[0mSparkContext\u001b[0m\u001b[0;34m.\u001b[0m\u001b[0m_jvm\u001b[0m \u001b[0;34m=\u001b[0m \u001b[0mSparkContext\u001b[0m\u001b[0;34m.\u001b[0m\u001b[0m_gateway\u001b[0m\u001b[0;34m.\u001b[0m\u001b[0mjvm\u001b[0m\u001b[0;34m\u001b[0m\u001b[0;34m\u001b[0m\u001b[0m\n\u001b[1;32m    434\u001b[0m \u001b[0;34m\u001b[0m\u001b[0m\n",
      "\u001b[0;32m~/.local/lib/python3.10/site-packages/pyspark/java_gateway.py\u001b[0m in \u001b[0;36mlaunch_gateway\u001b[0;34m(conf, popen_kwargs)\u001b[0m\n\u001b[1;32m    104\u001b[0m \u001b[0;34m\u001b[0m\u001b[0m\n\u001b[1;32m    105\u001b[0m             \u001b[0;32mif\u001b[0m \u001b[0;32mnot\u001b[0m \u001b[0mos\u001b[0m\u001b[0;34m.\u001b[0m\u001b[0mpath\u001b[0m\u001b[0;34m.\u001b[0m\u001b[0misfile\u001b[0m\u001b[0;34m(\u001b[0m\u001b[0mconn_info_file\u001b[0m\u001b[0;34m)\u001b[0m\u001b[0;34m:\u001b[0m\u001b[0;34m\u001b[0m\u001b[0;34m\u001b[0m\u001b[0m\n\u001b[0;32m--> 106\u001b[0;31m                 \u001b[0;32mraise\u001b[0m \u001b[0mRuntimeError\u001b[0m\u001b[0;34m(\u001b[0m\u001b[0;34m\"Java gateway process exited before sending its port number\"\u001b[0m\u001b[0;34m)\u001b[0m\u001b[0;34m\u001b[0m\u001b[0;34m\u001b[0m\u001b[0m\n\u001b[0m\u001b[1;32m    107\u001b[0m \u001b[0;34m\u001b[0m\u001b[0m\n\u001b[1;32m    108\u001b[0m             \u001b[0;32mwith\u001b[0m \u001b[0mopen\u001b[0m\u001b[0;34m(\u001b[0m\u001b[0mconn_info_file\u001b[0m\u001b[0;34m,\u001b[0m \u001b[0;34m\"rb\"\u001b[0m\u001b[0;34m)\u001b[0m \u001b[0;32mas\u001b[0m \u001b[0minfo\u001b[0m\u001b[0;34m:\u001b[0m\u001b[0;34m\u001b[0m\u001b[0;34m\u001b[0m\u001b[0m\n",
      "\u001b[0;31mRuntimeError\u001b[0m: Java gateway process exited before sending its port number"
     ]
    }
   ],
   "source": [
    "APP_NAME = 'sampleApp'\n",
    "spark = SparkSession.builder.appName(APP_NAME).getOrCreate()\n",
    "# Вывести свойства объекта spark\n",
    "print(\"AppName:\", spark.sparkContext.appName)\n",
    "print(\"Master:\", spark.sparkContext.master)\n",
    "print(\"Version:\", spark.version)\n",
    "# Другие свойства, которые вы хотите вывести..."
   ]
  },
  {
   "cell_type": "code",
   "execution_count": 13,
   "id": "cc409ec5-d0af-4c32-a6c7-8a6ca5eea682",
   "metadata": {},
   "outputs": [
    {
     "name": "stdout",
     "output_type": "stream",
     "text": [
      "Прирост: 127'711 байт\n"
     ]
    }
   ],
   "source": [
    "tma = tmach(tma)"
   ]
  },
  {
   "cell_type": "code",
   "execution_count": 14,
   "id": "20f1ee46-293a-4a0d-a5da-438c027f9b14",
   "metadata": {},
   "outputs": [],
   "source": [
    "spark.stop()"
   ]
  },
  {
   "cell_type": "markdown",
   "id": "5fdc354a-f8d1-4c48-a896-8fe542229890",
   "metadata": {},
   "source": [
    "#### Создание сессии с явным указанием SPARK_MASTER_IP"
   ]
  },
  {
   "cell_type": "code",
   "execution_count": 15,
   "id": "1387de63-12c9-4a64-990f-364202cf0024",
   "metadata": {},
   "outputs": [],
   "source": [
    "# from pyspark.sql import SparkSession\n",
    "# # Вводим Spark Master IP, который выдаст нам скрипт \n",
    "# SPARK_MASTER_IP = '172.18.0.2' \n",
    "# spark = SparkSession.builder.appName(\"pyspark-taxi-forecasting\") \\\n",
    "#     .master(f\"spark://{SPARK_MASTER_IP}:7077\") \\\n",
    "#     .config(\"spark.executor.cores\", 1) \\\n",
    "#     .config(\"spark.task.cpus\", 1) \\\n",
    "#     .getOrCreate()\n",
    "## .config(\"spark.executor.memory\", \"1g\") \\"
   ]
  },
  {
   "cell_type": "markdown",
   "id": "e72c5b92-31a7-4d30-bc28-754b72036464",
   "metadata": {},
   "source": [
    "#### Запуск сессии с использованием переменной окружения SPARK_MASTER_IP.\n",
    "\n",
    "При создании кластера Спарк предполагается определение значения Спарк-мастер IP и его установка в переменную окружения контейнера jupyter_lab"
   ]
  },
  {
   "cell_type": "code",
   "execution_count": 16,
   "id": "203f5b24-b1dd-4bc1-93de-e6606495648b",
   "metadata": {},
   "outputs": [],
   "source": [
    "# Получаем значение переменной окружения SPARK_MASTER_IP\n",
    "spark_master_ip = os.getenv('SPARK_MASTER_IP')"
   ]
  },
  {
   "cell_type": "code",
   "execution_count": 17,
   "id": "86e517bc-be00-4f33-a08f-5938cb7febc9",
   "metadata": {},
   "outputs": [
    {
     "name": "stdout",
     "output_type": "stream",
     "text": [
      "Spark Master IP: 172.18.0.2\n"
     ]
    }
   ],
   "source": [
    "# Если переменная окружения установлена, используем ее для настройки Spark Session\n",
    "if spark_master_ip:\n",
    "    from pyspark.sql import SparkSession\n",
    "    spark = SparkSession.builder.appName(\"pyspark-taxi-forecasting\") \\\n",
    "        .master(f\"spark://{spark_master_ip}:7077\") \\\n",
    "        .config(\"spark.executor.cores\", \"1\") \\\n",
    "        .config(\"spark.task.cpus\", 1) \\\n",
    "        .getOrCreate()\n",
    "    print(f\"Spark Master IP: {spark_master_ip}\")\n",
    "else:\n",
    "    print(\"Переменная окружения SPARK_MASTER_IP не установлена\")"
   ]
  },
  {
   "cell_type": "code",
   "execution_count": 18,
   "id": "1cdc31b9-77b0-4a97-8f36-f9f62c6b001f",
   "metadata": {},
   "outputs": [
    {
     "name": "stdout",
     "output_type": "stream",
     "text": [
      "Прирост: 24'151 байт\n"
     ]
    }
   ],
   "source": [
    "tma = tmach(tma)"
   ]
  },
  {
   "cell_type": "code",
   "execution_count": 19,
   "id": "5b2d11f0-99d0-40fc-8900-b56aa2310347",
   "metadata": {},
   "outputs": [
    {
     "name": "stdout",
     "output_type": "stream",
     "text": [
      "AppName: pyspark-taxi-forecasting\n",
      "Master: spark://172.18.0.2:7077\n",
      "Version: 3.4.1\n"
     ]
    }
   ],
   "source": [
    "# Вывести свойства объекта spark\n",
    "print(\"AppName:\", spark.sparkContext.appName)\n",
    "print(\"Master:\", spark.sparkContext.master)\n",
    "print(\"Version:\", spark.version)"
   ]
  },
  {
   "cell_type": "markdown",
   "id": "3afadf97-bcdf-4497-a147-6efce0387673",
   "metadata": {},
   "source": [
    "### Загрузка данных"
   ]
  },
  {
   "cell_type": "code",
   "execution_count": 24,
   "id": "5f50168b-c6c4-4958-b857-5d80985f2a9c",
   "metadata": {},
   "outputs": [
    {
     "name": "stdout",
     "output_type": "stream",
     "text": [
      "CPU times: user 0 ns, sys: 15.1 ms, total: 15.1 ms\n",
      "Wall time: 25.4 s\n"
     ]
    }
   ],
   "source": [
    "%%time\n",
    "taxi = spark.read.load('/work/data/Taxi_Trips_-_2023.csv', \n",
    "                       format='csv', header='true', inferSchema='true')"
   ]
  },
  {
   "cell_type": "code",
   "execution_count": 25,
   "id": "b9851ddf-e6f7-4e07-8723-1b3f63352e91",
   "metadata": {},
   "outputs": [
    {
     "name": "stdout",
     "output_type": "stream",
     "text": [
      "Прирост: 10'255'246 байт\n"
     ]
    }
   ],
   "source": [
    "tma = tmach(tma)"
   ]
  },
  {
   "cell_type": "code",
   "execution_count": 26,
   "id": "32df512d-98ec-4c4a-8df2-18ed9abfffc6",
   "metadata": {},
   "outputs": [
    {
     "name": "stdout",
     "output_type": "stream",
     "text": [
      "root\n",
      " |-- Trip ID: string (nullable = true)\n",
      " |-- Taxi ID: string (nullable = true)\n",
      " |-- Trip Start Timestamp: string (nullable = true)\n",
      " |-- Trip End Timestamp: string (nullable = true)\n",
      " |-- Trip Seconds: integer (nullable = true)\n",
      " |-- Trip Miles: double (nullable = true)\n",
      " |-- Pickup Census Tract: long (nullable = true)\n",
      " |-- Dropoff Census Tract: long (nullable = true)\n",
      " |-- Pickup Community Area: integer (nullable = true)\n",
      " |-- Dropoff Community Area: integer (nullable = true)\n",
      " |-- Fare: double (nullable = true)\n",
      " |-- Tips: double (nullable = true)\n",
      " |-- Tolls: double (nullable = true)\n",
      " |-- Extras: double (nullable = true)\n",
      " |-- Trip Total: double (nullable = true)\n",
      " |-- Payment Type: string (nullable = true)\n",
      " |-- Company: string (nullable = true)\n",
      " |-- Pickup Centroid Latitude: double (nullable = true)\n",
      " |-- Pickup Centroid Longitude: double (nullable = true)\n",
      " |-- Pickup Centroid Location: string (nullable = true)\n",
      " |-- Dropoff Centroid Latitude: double (nullable = true)\n",
      " |-- Dropoff Centroid Longitude: double (nullable = true)\n",
      " |-- Dropoff Centroid  Location: string (nullable = true)\n",
      "\n",
      "CPU times: user 3.91 ms, sys: 131 µs, total: 4.04 ms\n",
      "Wall time: 6.93 ms\n"
     ]
    }
   ],
   "source": [
    "%%time\n",
    "# Вывести схему данных\n",
    "taxi.printSchema()"
   ]
  },
  {
   "cell_type": "code",
   "execution_count": 24,
   "id": "cfc6ec03-a73c-4840-ac0b-a1d2e2816f54",
   "metadata": {},
   "outputs": [],
   "source": [
    "# Отобразить первые несколько строк DataFrame\n",
    "# taxi.show()"
   ]
  },
  {
   "cell_type": "markdown",
   "id": "bc2bdad7-5271-4c78-bcd8-3bb813de9447",
   "metadata": {},
   "source": [
    "#### Загрузка таблицы с описанием полей данных"
   ]
  },
  {
   "cell_type": "code",
   "execution_count": 25,
   "id": "55b0beed-e4d3-4cf6-ace8-8017d5245318",
   "metadata": {},
   "outputs": [],
   "source": [
    "table_descr = pd.read_csv('/work/data/table_descr.csv',sep=';')"
   ]
  },
  {
   "cell_type": "code",
   "execution_count": 26,
   "id": "ccaae8be-261d-4393-b7bc-153bd67d9c04",
   "metadata": {},
   "outputs": [
    {
     "data": {
      "text/html": [
       "<div>\n",
       "<style scoped>\n",
       "    .dataframe tbody tr th:only-of-type {\n",
       "        vertical-align: middle;\n",
       "    }\n",
       "\n",
       "    .dataframe tbody tr th {\n",
       "        vertical-align: top;\n",
       "    }\n",
       "\n",
       "    .dataframe thead th {\n",
       "        text-align: right;\n",
       "    }\n",
       "</style>\n",
       "<table border=\"1\" class=\"dataframe\">\n",
       "  <thead>\n",
       "    <tr style=\"text-align: right;\">\n",
       "      <th></th>\n",
       "      <th>Column Name</th>\n",
       "      <th>Description</th>\n",
       "      <th>Type</th>\n",
       "      <th>Описание</th>\n",
       "      <th>Тип</th>\n",
       "    </tr>\n",
       "  </thead>\n",
       "  <tbody>\n",
       "    <tr>\n",
       "      <th>0</th>\n",
       "      <td>Trip ID</td>\n",
       "      <td>A unique identifier for the trip.</td>\n",
       "      <td>Plain Text</td>\n",
       "      <td>Уникальный идентификатор поездки</td>\n",
       "      <td>Обычный текст</td>\n",
       "    </tr>\n",
       "    <tr>\n",
       "      <th>1</th>\n",
       "      <td>Taxi ID</td>\n",
       "      <td>A unique identifier for the taxi.</td>\n",
       "      <td>Plain Text</td>\n",
       "      <td>Уникальный идентификатор такси</td>\n",
       "      <td>Обычный текст</td>\n",
       "    </tr>\n",
       "    <tr>\n",
       "      <th>2</th>\n",
       "      <td>Trip Start Timestamp</td>\n",
       "      <td>When the trip started rounded to the nearest 1...</td>\n",
       "      <td>Date &amp; Time</td>\n",
       "      <td>Время начала поездки округленное до ближайших...</td>\n",
       "      <td>Дата и время</td>\n",
       "    </tr>\n",
       "    <tr>\n",
       "      <th>3</th>\n",
       "      <td>Trip End Timestamp</td>\n",
       "      <td>When the trip ended rounded to the nearest 15 ...</td>\n",
       "      <td>Date &amp; Time</td>\n",
       "      <td>Время окончания поездки округленное до ближай...</td>\n",
       "      <td>Дата и время</td>\n",
       "    </tr>\n",
       "    <tr>\n",
       "      <th>4</th>\n",
       "      <td>Trip Seconds</td>\n",
       "      <td>Time of the trip in seconds.</td>\n",
       "      <td>Number</td>\n",
       "      <td>Продолжительность поездки в секундах</td>\n",
       "      <td>Число</td>\n",
       "    </tr>\n",
       "    <tr>\n",
       "      <th>5</th>\n",
       "      <td>Trip Miles</td>\n",
       "      <td>Distance of the trip in miles.</td>\n",
       "      <td>Number</td>\n",
       "      <td>Расстояние поездки в милях</td>\n",
       "      <td>Число</td>\n",
       "    </tr>\n",
       "    <tr>\n",
       "      <th>6</th>\n",
       "      <td>Pickup Census Tract</td>\n",
       "      <td>The Census Tract where the trip began. For pri...</td>\n",
       "      <td>Plain Text</td>\n",
       "      <td>Код района по переписи населения  где началас...</td>\n",
       "      <td>Обычный текст</td>\n",
       "    </tr>\n",
       "    <tr>\n",
       "      <th>7</th>\n",
       "      <td>Dropoff Census Tract</td>\n",
       "      <td>The Census Tract where the trip ended. For pri...</td>\n",
       "      <td>Plain Text</td>\n",
       "      <td>Код района по переписи населения  где заверши...</td>\n",
       "      <td>Обычный текст</td>\n",
       "    </tr>\n",
       "    <tr>\n",
       "      <th>8</th>\n",
       "      <td>Pickup Community Area</td>\n",
       "      <td>The Community Area where the trip began. This ...</td>\n",
       "      <td>Number</td>\n",
       "      <td>Номер коммунальной области  где началась поез...</td>\n",
       "      <td>Число</td>\n",
       "    </tr>\n",
       "    <tr>\n",
       "      <th>9</th>\n",
       "      <td>Dropoff Community Area</td>\n",
       "      <td>The Community Area where the trip ended. This ...</td>\n",
       "      <td>Number</td>\n",
       "      <td>Номер коммунальной области  где завершилась п...</td>\n",
       "      <td>Число</td>\n",
       "    </tr>\n",
       "    <tr>\n",
       "      <th>10</th>\n",
       "      <td>Fare</td>\n",
       "      <td>The fare for the trip.</td>\n",
       "      <td>Number</td>\n",
       "      <td>Стоимость поездки.</td>\n",
       "      <td>Число</td>\n",
       "    </tr>\n",
       "    <tr>\n",
       "      <th>11</th>\n",
       "      <td>Tips</td>\n",
       "      <td>The tip for the trip. Cash tips generally will...</td>\n",
       "      <td>Number</td>\n",
       "      <td>Сумма чаевых за поездку. Наличные чаевые обыч...</td>\n",
       "      <td>Число</td>\n",
       "    </tr>\n",
       "    <tr>\n",
       "      <th>12</th>\n",
       "      <td>Tolls</td>\n",
       "      <td>The tolls for the trip.</td>\n",
       "      <td>Number</td>\n",
       "      <td>Сумма оплаты за проезд (платные дороги) за по...</td>\n",
       "      <td>Число</td>\n",
       "    </tr>\n",
       "    <tr>\n",
       "      <th>13</th>\n",
       "      <td>Extras</td>\n",
       "      <td>Extra charges for the trip.</td>\n",
       "      <td>Number</td>\n",
       "      <td>Дополнительные сборы за поездку.</td>\n",
       "      <td>Число</td>\n",
       "    </tr>\n",
       "    <tr>\n",
       "      <th>14</th>\n",
       "      <td>Trip Total</td>\n",
       "      <td>Total cost of the trip the total of the previo...</td>\n",
       "      <td>Number</td>\n",
       "      <td>Общая стоимость поездки сумма предыдущих стол...</td>\n",
       "      <td>Число</td>\n",
       "    </tr>\n",
       "    <tr>\n",
       "      <th>15</th>\n",
       "      <td>Payment Type</td>\n",
       "      <td>Type of payment for the trip.</td>\n",
       "      <td>Plain Text</td>\n",
       "      <td>Способ оплаты поездки.</td>\n",
       "      <td>Обычный текст</td>\n",
       "    </tr>\n",
       "    <tr>\n",
       "      <th>16</th>\n",
       "      <td>Company</td>\n",
       "      <td>The taxi company.</td>\n",
       "      <td>Plain Text</td>\n",
       "      <td>Название такси-компании.</td>\n",
       "      <td>Обычный текст</td>\n",
       "    </tr>\n",
       "    <tr>\n",
       "      <th>17</th>\n",
       "      <td>Pickup Centroid Latitude</td>\n",
       "      <td>The latitude of the center of the pickup censu...</td>\n",
       "      <td>Number</td>\n",
       "      <td>Широта центра района по переписи или коммунал...</td>\n",
       "      <td>Число</td>\n",
       "    </tr>\n",
       "    <tr>\n",
       "      <th>18</th>\n",
       "      <td>Pickup Centroid Longitude</td>\n",
       "      <td>The longitude of the center of the pickup cens...</td>\n",
       "      <td>Number</td>\n",
       "      <td>Долгота центра района по переписи или коммуна...</td>\n",
       "      <td>Число</td>\n",
       "    </tr>\n",
       "    <tr>\n",
       "      <th>19</th>\n",
       "      <td>Pickup Centroid Location</td>\n",
       "      <td>The location of the center of the pickup censu...</td>\n",
       "      <td>Point</td>\n",
       "      <td>Местоположение центра района по переписи или ...</td>\n",
       "      <td>Точка (координаты)</td>\n",
       "    </tr>\n",
       "    <tr>\n",
       "      <th>20</th>\n",
       "      <td>Dropoff Centroid Latitude</td>\n",
       "      <td>The latitude of the center of the dropoff cens...</td>\n",
       "      <td>Number</td>\n",
       "      <td>Широта центра района по переписи или коммунал...</td>\n",
       "      <td>Число</td>\n",
       "    </tr>\n",
       "    <tr>\n",
       "      <th>21</th>\n",
       "      <td>Dropoff Centroid Longitude</td>\n",
       "      <td>The longitude of the center of the dropoff cen...</td>\n",
       "      <td>Number</td>\n",
       "      <td>Долгота центра района по переписи или коммуна...</td>\n",
       "      <td>Число</td>\n",
       "    </tr>\n",
       "    <tr>\n",
       "      <th>22</th>\n",
       "      <td>Dropoff Centroid Location</td>\n",
       "      <td>The location of the center of the dropoff cens...</td>\n",
       "      <td>Point</td>\n",
       "      <td>Местоположение центра района по переписи или ...</td>\n",
       "      <td>Точка (координаты)</td>\n",
       "    </tr>\n",
       "  </tbody>\n",
       "</table>\n",
       "</div>"
      ],
      "text/plain": [
       "                   Column Name  \\\n",
       "0                      Trip ID   \n",
       "1                      Taxi ID   \n",
       "2         Trip Start Timestamp   \n",
       "3           Trip End Timestamp   \n",
       "4                 Trip Seconds   \n",
       "5                   Trip Miles   \n",
       "6          Pickup Census Tract   \n",
       "7         Dropoff Census Tract   \n",
       "8        Pickup Community Area   \n",
       "9       Dropoff Community Area   \n",
       "10                        Fare   \n",
       "11                        Tips   \n",
       "12                       Tolls   \n",
       "13                      Extras   \n",
       "14                  Trip Total   \n",
       "15                Payment Type   \n",
       "16                     Company   \n",
       "17    Pickup Centroid Latitude   \n",
       "18   Pickup Centroid Longitude   \n",
       "19    Pickup Centroid Location   \n",
       "20   Dropoff Centroid Latitude   \n",
       "21  Dropoff Centroid Longitude   \n",
       "22   Dropoff Centroid Location   \n",
       "\n",
       "                                          Description         Type  \\\n",
       "0                   A unique identifier for the trip.   Plain Text   \n",
       "1                   A unique identifier for the taxi.   Plain Text   \n",
       "2   When the trip started rounded to the nearest 1...  Date & Time   \n",
       "3   When the trip ended rounded to the nearest 15 ...  Date & Time   \n",
       "4                        Time of the trip in seconds.       Number   \n",
       "5                      Distance of the trip in miles.       Number   \n",
       "6   The Census Tract where the trip began. For pri...   Plain Text   \n",
       "7   The Census Tract where the trip ended. For pri...   Plain Text   \n",
       "8   The Community Area where the trip began. This ...       Number   \n",
       "9   The Community Area where the trip ended. This ...       Number   \n",
       "10                             The fare for the trip.       Number   \n",
       "11  The tip for the trip. Cash tips generally will...       Number   \n",
       "12                            The tolls for the trip.       Number   \n",
       "13                        Extra charges for the trip.       Number   \n",
       "14  Total cost of the trip the total of the previo...       Number   \n",
       "15                      Type of payment for the trip.   Plain Text   \n",
       "16                                  The taxi company.   Plain Text   \n",
       "17  The latitude of the center of the pickup censu...       Number   \n",
       "18  The longitude of the center of the pickup cens...       Number   \n",
       "19  The location of the center of the pickup censu...        Point   \n",
       "20  The latitude of the center of the dropoff cens...       Number   \n",
       "21  The longitude of the center of the dropoff cen...       Number   \n",
       "22  The location of the center of the dropoff cens...        Point   \n",
       "\n",
       "                                             Описание                  Тип  \n",
       "0                    Уникальный идентификатор поездки        Обычный текст  \n",
       "1                      Уникальный идентификатор такси        Обычный текст  \n",
       "2    Время начала поездки округленное до ближайших...         Дата и время  \n",
       "3    Время окончания поездки округленное до ближай...         Дата и время  \n",
       "4                Продолжительность поездки в секундах                Число  \n",
       "5                          Расстояние поездки в милях                Число  \n",
       "6    Код района по переписи населения  где началас...        Обычный текст  \n",
       "7    Код района по переписи населения  где заверши...        Обычный текст  \n",
       "8    Номер коммунальной области  где началась поез...                Число  \n",
       "9    Номер коммунальной области  где завершилась п...                Число  \n",
       "10                                 Стоимость поездки.                Число  \n",
       "11   Сумма чаевых за поездку. Наличные чаевые обыч...                Число  \n",
       "12   Сумма оплаты за проезд (платные дороги) за по...                Число  \n",
       "13                   Дополнительные сборы за поездку.                Число  \n",
       "14   Общая стоимость поездки сумма предыдущих стол...                Число  \n",
       "15                             Способ оплаты поездки.        Обычный текст  \n",
       "16                           Название такси-компании.        Обычный текст  \n",
       "17   Широта центра района по переписи или коммунал...                Число  \n",
       "18   Долгота центра района по переписи или коммуна...                Число  \n",
       "19   Местоположение центра района по переписи или ...   Точка (координаты)  \n",
       "20   Широта центра района по переписи или коммунал...                Число  \n",
       "21   Долгота центра района по переписи или коммуна...                Число  \n",
       "22   Местоположение центра района по переписи или ...   Точка (координаты)  "
      ]
     },
     "execution_count": 26,
     "metadata": {},
     "output_type": "execute_result"
    }
   ],
   "source": [
    "table_descr"
   ]
  },
  {
   "cell_type": "code",
   "execution_count": 27,
   "id": "15ec7a18-4c2d-4e19-82e2-76b051c58172",
   "metadata": {},
   "outputs": [],
   "source": [
    "# taxi[[\"Trip ID\", \"Taxi ID\", \"Trip Miles\",\"Trip Start Timestamp\",\"Trip End Timestamp\",\"Trip Seconds\",\"Trip Miles\",\"Pickup Census Tract\"]].show(5)"
   ]
  },
  {
   "cell_type": "code",
   "execution_count": null,
   "id": "4796c2c3-293d-4db5-9523-600a9adff305",
   "metadata": {},
   "outputs": [],
   "source": [
    "# taxi[[\"Trip ID\", \"Dropoff Census Tract\", \"Pickup Community Area\",\"Dropoff Community Area\",\"Trip End Timestamp\",\"Trip Total\",\"Trip Miles\",\"Company\"]].show(5)"
   ]
  },
  {
   "cell_type": "code",
   "execution_count": null,
   "id": "b889edf2-85eb-4267-82a7-b87d0b1d4abd",
   "metadata": {},
   "outputs": [],
   "source": [
    "# taxi[[\"Trip ID\", \"Pickup Centroid Latitude\", \"Pickup Centroid Longitude\",\"Pickup Centroid Location\",\n",
    "#       \"Dropoff Centroid Latitude\",\"Dropoff Centroid Longitude\",\"Dropoff Centroid  Location\"]].show(5)"
   ]
  },
  {
   "cell_type": "code",
   "execution_count": 27,
   "id": "caeb2d06-5542-4877-bc60-d62ce2b81084",
   "metadata": {},
   "outputs": [
    {
     "name": "stdout",
     "output_type": "stream",
     "text": [
      "CPU times: user 403 ms, sys: 88.7 ms, total: 492 ms\n",
      "Wall time: 1min 36s\n"
     ]
    }
   ],
   "source": [
    "%%time\n",
    "# print(taxi.describe().show())\n",
    "# Запустите метод describe() на вашем PySpark DataFrame (например, taxi)\n",
    "describe_result = taxi.describe().toPandas()"
   ]
  },
  {
   "cell_type": "code",
   "execution_count": 28,
   "id": "15320335-8a71-4852-a4e0-84cdda4427fd",
   "metadata": {},
   "outputs": [
    {
     "data": {
      "text/html": [
       "<div>\n",
       "<style scoped>\n",
       "    .dataframe tbody tr th:only-of-type {\n",
       "        vertical-align: middle;\n",
       "    }\n",
       "\n",
       "    .dataframe tbody tr th {\n",
       "        vertical-align: top;\n",
       "    }\n",
       "\n",
       "    .dataframe thead th {\n",
       "        text-align: right;\n",
       "    }\n",
       "</style>\n",
       "<table border=\"1\" class=\"dataframe\">\n",
       "  <thead>\n",
       "    <tr style=\"text-align: right;\">\n",
       "      <th></th>\n",
       "      <th>summary</th>\n",
       "      <th>Trip ID</th>\n",
       "      <th>Taxi ID</th>\n",
       "      <th>Trip Start Timestamp</th>\n",
       "      <th>Trip End Timestamp</th>\n",
       "      <th>Trip Seconds</th>\n",
       "      <th>Trip Miles</th>\n",
       "      <th>Pickup Census Tract</th>\n",
       "      <th>Dropoff Census Tract</th>\n",
       "      <th>Pickup Community Area</th>\n",
       "      <th>...</th>\n",
       "      <th>Extras</th>\n",
       "      <th>Trip Total</th>\n",
       "      <th>Payment Type</th>\n",
       "      <th>Company</th>\n",
       "      <th>Pickup Centroid Latitude</th>\n",
       "      <th>Pickup Centroid Longitude</th>\n",
       "      <th>Pickup Centroid Location</th>\n",
       "      <th>Dropoff Centroid Latitude</th>\n",
       "      <th>Dropoff Centroid Longitude</th>\n",
       "      <th>Dropoff Centroid  Location</th>\n",
       "    </tr>\n",
       "  </thead>\n",
       "  <tbody>\n",
       "    <tr>\n",
       "      <th>0</th>\n",
       "      <td>count</td>\n",
       "      <td>3783730</td>\n",
       "      <td>3783730</td>\n",
       "      <td>3783730</td>\n",
       "      <td>3783682</td>\n",
       "      <td>3783012</td>\n",
       "      <td>3783717</td>\n",
       "      <td>1650232</td>\n",
       "      <td>1617623</td>\n",
       "      <td>3615963</td>\n",
       "      <td>...</td>\n",
       "      <td>3778327</td>\n",
       "      <td>3778327</td>\n",
       "      <td>3783730</td>\n",
       "      <td>3783730</td>\n",
       "      <td>3617351</td>\n",
       "      <td>3617351</td>\n",
       "      <td>3617351</td>\n",
       "      <td>3441935</td>\n",
       "      <td>3441935</td>\n",
       "      <td>3441935</td>\n",
       "    </tr>\n",
       "    <tr>\n",
       "      <th>1</th>\n",
       "      <td>mean</td>\n",
       "      <td>None</td>\n",
       "      <td>None</td>\n",
       "      <td>None</td>\n",
       "      <td>None</td>\n",
       "      <td>1235.3278387697421</td>\n",
       "      <td>6.471233194766421</td>\n",
       "      <td>1.7031501647110167E10</td>\n",
       "      <td>1.7031414613682808E10</td>\n",
       "      <td>35.03091652209937</td>\n",
       "      <td>...</td>\n",
       "      <td>2.241853884007393</td>\n",
       "      <td>27.371134848836103</td>\n",
       "      <td>None</td>\n",
       "      <td>None</td>\n",
       "      <td>41.90200067412448</td>\n",
       "      <td>-87.69906175284666</td>\n",
       "      <td>None</td>\n",
       "      <td>41.89419484402875</td>\n",
       "      <td>-87.66236339478645</td>\n",
       "      <td>None</td>\n",
       "    </tr>\n",
       "    <tr>\n",
       "      <th>2</th>\n",
       "      <td>stddev</td>\n",
       "      <td>None</td>\n",
       "      <td>None</td>\n",
       "      <td>None</td>\n",
       "      <td>None</td>\n",
       "      <td>1736.5661018295184</td>\n",
       "      <td>7.593310441212217</td>\n",
       "      <td>373503.064706103</td>\n",
       "      <td>344107.3452521375</td>\n",
       "      <td>26.0787201470195</td>\n",
       "      <td>...</td>\n",
       "      <td>19.47903838213312</td>\n",
       "      <td>37.03373571024758</td>\n",
       "      <td>None</td>\n",
       "      <td>None</td>\n",
       "      <td>0.06251123711511888</td>\n",
       "      <td>0.11213128488994714</td>\n",
       "      <td>None</td>\n",
       "      <td>0.05656711663584078</td>\n",
       "      <td>0.07345541720850372</td>\n",
       "      <td>None</td>\n",
       "    </tr>\n",
       "    <tr>\n",
       "      <th>3</th>\n",
       "      <td>min</td>\n",
       "      <td>0000012deb83dbb55726d5a75c374197d0641fa0</td>\n",
       "      <td>00110971c7c4a7173fcf93f49a22d6b9b0a02c27c4b9f8...</td>\n",
       "      <td>01/01/2023 01:00:00 AM</td>\n",
       "      <td>01/01/2023 01:00:00 AM</td>\n",
       "      <td>0</td>\n",
       "      <td>0.0</td>\n",
       "      <td>17031010100</td>\n",
       "      <td>17031010100</td>\n",
       "      <td>1</td>\n",
       "      <td>...</td>\n",
       "      <td>0.0</td>\n",
       "      <td>0.0</td>\n",
       "      <td>Cash</td>\n",
       "      <td>2733 - 74600 Benny Jona</td>\n",
       "      <td>41.651921576</td>\n",
       "      <td>-87.913624596</td>\n",
       "      <td>POINT (-87.5313862567 41.7204632831)</td>\n",
       "      <td>41.660136051</td>\n",
       "      <td>-87.913624596</td>\n",
       "      <td>POINT (-87.5349029012 41.707311449)</td>\n",
       "    </tr>\n",
       "    <tr>\n",
       "      <th>4</th>\n",
       "      <td>max</td>\n",
       "      <td>fffffe03acfa1552c98fad12d73ff0aca70a5c2a</td>\n",
       "      <td>ffd231d2536b9463d888cfbb42f36d543b37d22d96a6dd...</td>\n",
       "      <td>08/01/2023 12:00:00 AM</td>\n",
       "      <td>10/17/2022 10:00:00 AM</td>\n",
       "      <td>86340</td>\n",
       "      <td>945.4</td>\n",
       "      <td>17031980100</td>\n",
       "      <td>17031980100</td>\n",
       "      <td>77</td>\n",
       "      <td>...</td>\n",
       "      <td>9446.65</td>\n",
       "      <td>9999.75</td>\n",
       "      <td>Unknown</td>\n",
       "      <td>U Taxicab</td>\n",
       "      <td>42.021223593</td>\n",
       "      <td>-87.531386257</td>\n",
       "      <td>POINT (-87.913624596 41.9802643146)</td>\n",
       "      <td>42.021223593</td>\n",
       "      <td>-87.534902901</td>\n",
       "      <td>POINT (-87.913624596 41.9802643146)</td>\n",
       "    </tr>\n",
       "  </tbody>\n",
       "</table>\n",
       "<p>5 rows × 24 columns</p>\n",
       "</div>"
      ],
      "text/plain": [
       "  summary                                   Trip ID  \\\n",
       "0   count                                   3783730   \n",
       "1    mean                                      None   \n",
       "2  stddev                                      None   \n",
       "3     min  0000012deb83dbb55726d5a75c374197d0641fa0   \n",
       "4     max  fffffe03acfa1552c98fad12d73ff0aca70a5c2a   \n",
       "\n",
       "                                             Taxi ID    Trip Start Timestamp  \\\n",
       "0                                            3783730                 3783730   \n",
       "1                                               None                    None   \n",
       "2                                               None                    None   \n",
       "3  00110971c7c4a7173fcf93f49a22d6b9b0a02c27c4b9f8...  01/01/2023 01:00:00 AM   \n",
       "4  ffd231d2536b9463d888cfbb42f36d543b37d22d96a6dd...  08/01/2023 12:00:00 AM   \n",
       "\n",
       "       Trip End Timestamp        Trip Seconds         Trip Miles  \\\n",
       "0                 3783682             3783012            3783717   \n",
       "1                    None  1235.3278387697421  6.471233194766421   \n",
       "2                    None  1736.5661018295184  7.593310441212217   \n",
       "3  01/01/2023 01:00:00 AM                   0                0.0   \n",
       "4  10/17/2022 10:00:00 AM               86340              945.4   \n",
       "\n",
       "     Pickup Census Tract   Dropoff Census Tract Pickup Community Area  ...  \\\n",
       "0                1650232                1617623               3615963  ...   \n",
       "1  1.7031501647110167E10  1.7031414613682808E10     35.03091652209937  ...   \n",
       "2       373503.064706103      344107.3452521375      26.0787201470195  ...   \n",
       "3            17031010100            17031010100                     1  ...   \n",
       "4            17031980100            17031980100                    77  ...   \n",
       "\n",
       "              Extras          Trip Total Payment Type  \\\n",
       "0            3778327             3778327      3783730   \n",
       "1  2.241853884007393  27.371134848836103         None   \n",
       "2  19.47903838213312   37.03373571024758         None   \n",
       "3                0.0                 0.0         Cash   \n",
       "4            9446.65             9999.75      Unknown   \n",
       "\n",
       "                   Company Pickup Centroid Latitude Pickup Centroid Longitude  \\\n",
       "0                  3783730                  3617351                   3617351   \n",
       "1                     None        41.90200067412448        -87.69906175284666   \n",
       "2                     None      0.06251123711511888       0.11213128488994714   \n",
       "3  2733 - 74600 Benny Jona             41.651921576             -87.913624596   \n",
       "4                U Taxicab             42.021223593             -87.531386257   \n",
       "\n",
       "               Pickup Centroid Location Dropoff Centroid Latitude  \\\n",
       "0                               3617351                   3441935   \n",
       "1                                  None         41.89419484402875   \n",
       "2                                  None       0.05656711663584078   \n",
       "3  POINT (-87.5313862567 41.7204632831)              41.660136051   \n",
       "4   POINT (-87.913624596 41.9802643146)              42.021223593   \n",
       "\n",
       "  Dropoff Centroid Longitude           Dropoff Centroid  Location  \n",
       "0                    3441935                              3441935  \n",
       "1         -87.66236339478645                                 None  \n",
       "2        0.07345541720850372                                 None  \n",
       "3              -87.913624596  POINT (-87.5349029012 41.707311449)  \n",
       "4              -87.534902901  POINT (-87.913624596 41.9802643146)  \n",
       "\n",
       "[5 rows x 24 columns]"
      ]
     },
     "execution_count": 28,
     "metadata": {},
     "output_type": "execute_result"
    }
   ],
   "source": [
    "describe_result"
   ]
  },
  {
   "cell_type": "code",
   "execution_count": 29,
   "id": "7e56bbdc-b794-4786-80a0-fc1bd7ffae7b",
   "metadata": {},
   "outputs": [],
   "source": [
    "describe_result = pd.read_csv('/work/data/2023_describe.csv',sep=',')"
   ]
  },
  {
   "cell_type": "code",
   "execution_count": 30,
   "id": "1d091d2e-37b0-4bf5-85fc-92489105e131",
   "metadata": {},
   "outputs": [
    {
     "name": "stdout",
     "output_type": "stream",
     "text": [
      "                                    0                   1              2  \\\n",
      "summary                         count                mean         stddev   \n",
      "Trip ID                       3783730                 NaN            NaN   \n",
      "Taxi ID                       3783730                 NaN            NaN   \n",
      "Trip Start Timestamp          3783730                 NaN            NaN   \n",
      "Trip End Timestamp            3783682                 NaN            NaN   \n",
      "Trip Seconds                3783012.0         1235.327839    1736.566102   \n",
      "Trip Miles                  3783717.0            6.471233        7.59331   \n",
      "Pickup Census Tract         1650232.0  17031501647.110168  373503.064706   \n",
      "Dropoff Census Tract        1617623.0  17031414613.682808  344107.345252   \n",
      "Pickup Community Area       3615963.0           35.030917       26.07872   \n",
      "Dropoff Community Area      3419046.0           26.097846      20.917892   \n",
      "Fare                        3778327.0            21.99552      22.233947   \n",
      "Tips                        3778327.0            2.926381       4.200412   \n",
      "Tolls                       3778327.0            0.050003      11.569869   \n",
      "Extras                      3778327.0            2.241854      19.479038   \n",
      "Trip Total                  3778327.0           27.371135      37.033736   \n",
      "Payment Type                  3783730                 NaN            NaN   \n",
      "Company                       3783730                 NaN            NaN   \n",
      "Pickup Centroid Latitude    3617351.0           41.902001       0.062511   \n",
      "Pickup Centroid Longitude   3617351.0          -87.699062       0.112131   \n",
      "Pickup Centroid Location      3617351                 NaN            NaN   \n",
      "Dropoff Centroid Latitude   3441935.0           41.894195       0.056567   \n",
      "Dropoff Centroid Longitude  3441935.0          -87.662363       0.073455   \n",
      "Dropoff Centroid  Location    3441935                 NaN            NaN   \n",
      "\n",
      "                                                                            3  \\\n",
      "summary                                                                   min   \n",
      "Trip ID                              0000012deb83dbb55726d5a75c374197d0641fa0   \n",
      "Taxi ID                     00110971c7c4a7173fcf93f49a22d6b9b0a02c27c4b9f8...   \n",
      "Trip Start Timestamp                                   01/01/2023 01:00:00 AM   \n",
      "Trip End Timestamp                                     01/01/2023 01:00:00 AM   \n",
      "Trip Seconds                                                              0.0   \n",
      "Trip Miles                                                                0.0   \n",
      "Pickup Census Tract                                             17031010100.0   \n",
      "Dropoff Census Tract                                            17031010100.0   \n",
      "Pickup Community Area                                                     1.0   \n",
      "Dropoff Community Area                                                    1.0   \n",
      "Fare                                                                      0.0   \n",
      "Tips                                                                      0.0   \n",
      "Tolls                                                                     0.0   \n",
      "Extras                                                                    0.0   \n",
      "Trip Total                                                                0.0   \n",
      "Payment Type                                                             Cash   \n",
      "Company                                               2733 - 74600 Benny Jona   \n",
      "Pickup Centroid Latitude                                            41.651922   \n",
      "Pickup Centroid Longitude                                          -87.913625   \n",
      "Pickup Centroid Location                 POINT (-87.5313862567 41.7204632831)   \n",
      "Dropoff Centroid Latitude                                           41.660136   \n",
      "Dropoff Centroid Longitude                                         -87.913625   \n",
      "Dropoff Centroid  Location                POINT (-87.5349029012 41.707311449)   \n",
      "\n",
      "                                                                            4  \n",
      "summary                                                                   max  \n",
      "Trip ID                              fffffe03acfa1552c98fad12d73ff0aca70a5c2a  \n",
      "Taxi ID                     ffd231d2536b9463d888cfbb42f36d543b37d22d96a6dd...  \n",
      "Trip Start Timestamp                                   08/01/2023 12:00:00 AM  \n",
      "Trip End Timestamp                                     10/17/2022 10:00:00 AM  \n",
      "Trip Seconds                                                          86340.0  \n",
      "Trip Miles                                                              945.4  \n",
      "Pickup Census Tract                                             17031980100.0  \n",
      "Dropoff Census Tract                                            17031980100.0  \n",
      "Pickup Community Area                                                    77.0  \n",
      "Dropoff Community Area                                                   77.0  \n",
      "Fare                                                                  9999.75  \n",
      "Tips                                                                    375.0  \n",
      "Tolls                                                                 6666.66  \n",
      "Extras                                                                9446.65  \n",
      "Trip Total                                                            9999.75  \n",
      "Payment Type                                                          Unknown  \n",
      "Company                                                             U Taxicab  \n",
      "Pickup Centroid Latitude                                            42.021224  \n",
      "Pickup Centroid Longitude                                          -87.531386  \n",
      "Pickup Centroid Location                  POINT (-87.913624596 41.9802643146)  \n",
      "Dropoff Centroid Latitude                                           42.021224  \n",
      "Dropoff Centroid Longitude                                         -87.534903  \n",
      "Dropoff Centroid  Location                POINT (-87.913624596 41.9802643146)  \n"
     ]
    }
   ],
   "source": [
    "print(describe_result.transpose())"
   ]
  },
  {
   "cell_type": "code",
   "execution_count": null,
   "id": "97b4d818-ae7c-4435-96ba-81ed9cac4a42",
   "metadata": {},
   "outputs": [],
   "source": [
    "# output_file_path = '/work/2023_describe.csv'\n",
    "# describe_result.to_csv(output_file_path, index=False) #transpose()."
   ]
  },
  {
   "cell_type": "code",
   "execution_count": null,
   "id": "5168e50f-a2df-4d30-8155-1786582cea09",
   "metadata": {},
   "outputs": [],
   "source": [
    "# taxi.registerTempTable(\"taxi\")\n",
    "\"\"\"\n",
    "/usr/local/spark/python/pyspark/sql/dataframe.py:330: FutureWarning: Deprecated in 2.0, use createOrReplaceTempView instead.\n",
    "  warnings.warn(\"Deprecated in 2.0, use createOrReplaceTempView instead.\", FutureWarning)\n",
    "\"\"\"\n",
    "taxi.createOrReplaceTempView(\"taxi\")"
   ]
  },
  {
   "cell_type": "code",
   "execution_count": null,
   "id": "dddb71da-62d4-4871-ae30-f93ff5cda78b",
   "metadata": {},
   "outputs": [],
   "source": [
    "%%time\n",
    "# вам нужно использовать обратные кавычки ` ` (backticks) или просто имя столбца без кавычек\n",
    "print(spark.sql(\"SELECT COUNT(*) FROM taxi WHERE `Trip Seconds` < 300\").show())"
   ]
  },
  {
   "cell_type": "code",
   "execution_count": null,
   "id": "efd4a5aa-45ee-4dfd-96b9-6bc6dd9b46b9",
   "metadata": {},
   "outputs": [],
   "source": [
    "from pyspark.sql.functions import col, dayofweek, to_timestamp, rand, substring"
   ]
  },
  {
   "cell_type": "code",
   "execution_count": null,
   "id": "8ff2d596-c5f9-43f7-b8a5-236ec4e16df0",
   "metadata": {},
   "outputs": [],
   "source": [
    "def random_sample_dataframe(dataframe, percentage):\n",
    "    # Генерируем случайные числа от 0 до 1 и фильтруем строки\n",
    "    taxis = dataframe.filter(rand() < percentage)\n",
    "    \n",
    "    return taxis"
   ]
  },
  {
   "cell_type": "code",
   "execution_count": null,
   "id": "d9f48b97-aef2-4674-b09e-3f1988d29b39",
   "metadata": {},
   "outputs": [],
   "source": [
    "taxis = random_sample_dataframe(taxi, 0.05)"
   ]
  },
  {
   "cell_type": "code",
   "execution_count": null,
   "id": "a1e6ac92-7767-4ee7-8e1f-a7daaaeadc82",
   "metadata": {},
   "outputs": [],
   "source": [
    "taxis[[\"Trip ID\", \"Trip Start Timestamp\"]].show(5)"
   ]
  },
  {
   "cell_type": "code",
   "execution_count": null,
   "id": "9579f76e-5d61-4726-91f0-ee3c96185edc",
   "metadata": {},
   "outputs": [],
   "source": [
    "def determine_date_format(dataframe):\n",
    "    # Выбираем первые два символа из столбца \"Trip Start Timestamp\"\n",
    "    first_two_chars = dataframe.select(substring(\"Trip Start Timestamp\", 1, 2))\n",
    "    \n",
    "    # Подсчитываем уникальные значения первых двух символов\n",
    "    unique_values = first_two_chars.distinct().count()\n",
    "    \n",
    "    # Определяем маску на основе количества уникальных значений\n",
    "    date_format = \"dd/MM/yyyy\" if unique_values >= 13 else \"MM/dd/yyyy\"\n",
    "    \n",
    "    return date_format, unique_values"
   ]
  },
  {
   "cell_type": "code",
   "execution_count": null,
   "id": "8598aab4-d32e-469a-8bb4-548b37edc42e",
   "metadata": {},
   "outputs": [],
   "source": [
    "%%time\n",
    "# Пример использования:\n",
    "date_format, unique_values = determine_date_format(taxis)\n",
    "print(\"Дата формат:\", date_format,\", количество уникальных значений в 1-х двух знаках:\",unique_values)"
   ]
  },
  {
   "cell_type": "code",
   "execution_count": null,
   "id": "82e37807-f034-4cad-941b-dc98c4905f42",
   "metadata": {},
   "outputs": [],
   "source": [
    "taxis.select(substring(\"Trip Start Timestamp\", 1, 2)).distinct().show()"
   ]
  },
  {
   "cell_type": "code",
   "execution_count": null,
   "id": "84c7f651-74f1-4a47-a297-525ac2a43f87",
   "metadata": {},
   "outputs": [],
   "source": [
    "taxis[[\"Trip Start Timestamp\"]].show(n=15, truncate=False)"
   ]
  },
  {
   "cell_type": "code",
   "execution_count": null,
   "id": "2bfd9326-6741-4d9f-a0f9-5f2c41cbd5a4",
   "metadata": {},
   "outputs": [],
   "source": [
    "taxis.select(to_timestamp(taxis[\"Trip Start Timestamp\"], 'MM/dd/yyyy hh:mm:ss a').alias(\"Trip Start Timestamp\")).show(15)"
   ]
  },
  {
   "cell_type": "code",
   "execution_count": null,
   "id": "4d6b2420-ecac-4f00-b3f8-393abf3ea938",
   "metadata": {},
   "outputs": [],
   "source": [
    "taxis = taxis.withColumn(\"Trip Start Timestamp\", to_timestamp(taxis[\"Trip Start Timestamp\"], 'MM/dd/yyyy hh:mm:ss a'))"
   ]
  },
  {
   "cell_type": "code",
   "execution_count": null,
   "id": "441ecc1d-6db4-4790-804c-c9e175720109",
   "metadata": {},
   "outputs": [],
   "source": [
    "taxis[[\"Trip Start Timestamp\"]].show(n=15, truncate=False)"
   ]
  },
  {
   "cell_type": "code",
   "execution_count": null,
   "id": "718ce05e-d4dc-42a6-9963-f7250d82dd05",
   "metadata": {},
   "outputs": [],
   "source": [
    "taxis = taxis.withColumn(\"DayOfWeek\", dayofweek(col(\"Trip Start Timestamp\")))"
   ]
  },
  {
   "cell_type": "code",
   "execution_count": null,
   "id": "35e9edcf-144f-4b70-8d15-99668b96c2c2",
   "metadata": {},
   "outputs": [],
   "source": [
    "%%time\n",
    "# taxis.createOrReplaceTempView(\"taxis\")\n",
    "q = \\\n",
    "\"\"\"\n",
    "SELECT\n",
    "    DayOfWeek,\n",
    "    AVG(`Trip Seconds`)\n",
    "FROM taxis\n",
    "GROUP BY DayOfWeek\n",
    "\"\"\"\n",
    "print(spark.sql(q).show(10))"
   ]
  },
  {
   "cell_type": "markdown",
   "id": "b6bb6010-3cc7-4c7c-a8e3-ed9f0e75903f",
   "metadata": {},
   "source": [
    "Вывод %%time в Jupyter Notebook содержит информацию о времени выполнения кода в двух разных контекстах:\n",
    "\n",
    "    CPU times: Это время, которое ваш код фактически проводит в CPU (Central Processing Unit) или процессоре. Он разбивается на две части:\n",
    "        user: Это время, в течение которого CPU выполняет пользовательский код (ваш код).\n",
    "        sys: Это время, которое CPU тратит на выполнение системных операций, таких как ввод/вывод данных.\n",
    "\n",
    "    Wall time: Это общее время, которое прошло с начала выполнения кода до его завершения. Это включает в себя не только вычислительное время, но и время, которое может быть затрачено на ожидание ввода/вывода, блокировку потоков и другие факторы, которые могут вызвать задержки в выполнении кода.\n",
    "\n",
    "В вашем конкретном выводе:\n",
    "\n",
    "    user составляет 10.5 миллисекунд (0.0105 секунд).\n",
    "    sys составляет 2.63 миллисекунд (0.00263 секунд).\n",
    "    total (сумма user и sys) равно 13.2 миллисекунд (0.0132 секунд).\n",
    "\n",
    "Это время, которое фактически затратилось на выполнение кода на процессоре.\n",
    "\n",
    "    Wall time составляет 25.3 секунды. Это общее время с момента запуска ячейки до ее завершения, включая все вычисления и возможные задержки.\n",
    "\n",
    "Обратите внимание, что Wall time (время на стенке) обычно больше, чем сумма user и sys, потому что оно включает в себя также время, которое может быть затрачено на ожидание ввода/вывода или другие факторы, которые могут замедлить выполнение кода."
   ]
  },
  {
   "cell_type": "code",
   "execution_count": null,
   "id": "7cb0db5d-f597-4278-a606-e74d66b1bb2e",
   "metadata": {},
   "outputs": [],
   "source": [
    "taxis.printSchema()"
   ]
  },
  {
   "cell_type": "code",
   "execution_count": null,
   "id": "a249c157-0c83-47fa-9772-1e42fd072d7f",
   "metadata": {},
   "outputs": [],
   "source": [
    "taxis[[\"Trip ID\", \"Trip Start Timestamp\",\"DayOfWeek\"]].show(5)"
   ]
  },
  {
   "cell_type": "code",
   "execution_count": null,
   "id": "110edf51-14ac-4296-a338-1e26bcc86f68",
   "metadata": {},
   "outputs": [],
   "source": []
  }
 ],
 "metadata": {
  "kernelspec": {
   "display_name": "Python 3 (ipykernel)",
   "language": "python",
   "name": "python3"
  },
  "language_info": {
   "codemirror_mode": {
    "name": "ipython",
    "version": 3
   },
   "file_extension": ".py",
   "mimetype": "text/x-python",
   "name": "python",
   "nbconvert_exporter": "python",
   "pygments_lexer": "ipython3",
   "version": "3.10.12"
  }
 },
 "nbformat": 4,
 "nbformat_minor": 5
}
