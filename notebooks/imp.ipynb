{
 "cells": [
  {
   "cell_type": "code",
   "execution_count": 1,
   "id": "2f56da8a-2cb7-447c-ba03-572a92101e65",
   "metadata": {},
   "outputs": [],
   "source": [
    "import os"
   ]
  },
  {
   "cell_type": "code",
   "execution_count": 2,
   "id": "7fd7d380-1124-49dd-8ccf-99b17179ee47",
   "metadata": {},
   "outputs": [
    {
     "data": {
      "text/plain": [
       "'/work'"
      ]
     },
     "execution_count": 2,
     "metadata": {},
     "output_type": "execute_result"
    }
   ],
   "source": [
    "os.environ.get('PYTHONPATH')"
   ]
  },
  {
   "cell_type": "code",
   "execution_count": 3,
   "id": "467ed7c7-6e4f-4674-b32f-a9d8043893d9",
   "metadata": {},
   "outputs": [],
   "source": [
    "from ChiSpark.enviserv.depsgetter import DepsGetter"
   ]
  },
  {
   "cell_type": "code",
   "execution_count": 4,
   "id": "c75dfefc-5417-44b7-b31c-1860e0f3a614",
   "metadata": {},
   "outputs": [
    {
     "name": "stderr",
     "output_type": "stream",
     "text": [
      "Shell bash is available\n",
      "Shell Bash and Path to find equal to '/', finding using Python os.walk()\n",
      "Attempting to find files using Python\n"
     ]
    },
    {
     "name": "stdout",
     "output_type": "stream",
     "text": [
      "Getting venvs paths...\n",
      "Getting conda env list...\n",
      "Conda installed.\n",
      "Function get_conda_envs finished successfully\n",
      "---------------------------------------\n",
      "Checked activate scripts paths:\n",
      "{\n",
      "    venv: \n",
      "    {\n",
      "        base: /usr/lib/python3.10/venv/scripts/common/activate\n",
      "    }\n",
      "    virtualenvs: { }\n",
      "    conda: \n",
      "    {\n",
      "        base: /opt/conda\n",
      "        myenv: /opt/conda/envs/myenv\n",
      "    }\n",
      "}\n"
     ]
    }
   ],
   "source": [
    "deps_getter = DepsGetter()\n",
    "print(\"Getting venvs paths...\")\n",
    "deps_getter.get_venvs_paths(verbose=True)\n",
    "print(\"Getting conda env list...\")\n",
    "deps_getter.get_conda_envs(verbose=True)\n",
    "print(\"---------------------------------------\")\n",
    "print(\"Checked activate scripts paths:\")\n",
    "deps_getter.da.print_dict(deps_getter.grouped_paths)"
   ]
  },
  {
   "cell_type": "code",
   "execution_count": 8,
   "id": "9f949f2b-ed8a-41be-9b75-428bd5a4ca6a",
   "metadata": {},
   "outputs": [
    {
     "name": "stdout",
     "output_type": "stream",
     "text": [
      "---------------------------------------\n",
      "Getting dependencies for some venvs...\n",
      "----------------------------------------------------------------------\n",
      "Getting dependencies for packman = conda | venv_name = myenv\n",
      "-- Dependencies not retrieved yet --\n",
      "Venv dict contains such data. Running get_dependencies().\n",
      "Start getting dependencies...\n",
      "Linux shell path: /bin/bash\n",
      "venv_path = check_venv_founded(): /opt/conda/envs/myenv\n",
      "Attempting to run command: ['conda', 'list', '-n', 'myenv']\n",
      "There are no dependencies in this environment: myenv\n",
      "dependencies = get_dependencies_conda(env_name): {}....\n",
      "--- Dependencies obtained! Updating deps dict ---\n",
      "----------------------------------------------------------------------\n",
      "Getting dependencies for packman = conda | venv_name = base\n",
      "-- Dependencies not retrieved yet --\n",
      "Venv dict contains such data. Running get_dependencies().\n",
      "Start getting dependencies...\n",
      "Linux shell path: /bin/bash\n",
      "venv_path = check_venv_founded(): /opt/conda\n",
      "Attempting to run command: ['conda', 'list', '-n', 'base']\n",
      "dependencies = get_dependencies_conda(env_name): {'_libgcc_mutex': '0.1', '_openmp_mutex': '4.5', '....\n",
      "--- Dependencies obtained! Updating deps dict ---\n",
      "----------------------------------------------------------------------\n",
      "Getting dependencies for packman = venv | venv_name = base\n",
      "-- Dependencies not retrieved yet --\n",
      "Venv dict contains such data. Running get_dependencies().\n",
      "Start getting dependencies...\n",
      "Linux shell path: /bin/bash\n",
      "venv_path = check_venv_founded(): /usr/lib/python3.10/venv/scripts/common/activate\n",
      "Attempting to use venv to run command: source /usr/lib/python3.10/venv/scripts/common/activate && pip list\n",
      "--- Dependencies obtained! Updating deps dict ---\n",
      "---------------------------------------\n",
      "- get_some_dependencies result ------\n",
      "==================================================================\n",
      "- some deps obtained ------\n",
      "==================================================================\n"
     ]
    }
   ],
   "source": [
    "print(\"---------------------------------------\")\n",
    "print(\"Getting dependencies for some venvs...\")\n",
    "prompt_nested_lists = [\n",
    "            ['conda', 'myenv'],\n",
    "            ['conda', 'base'],\n",
    "            #['venv', 'myenv'],\n",
    "            ['venv', 'base'],\n",
    "            #['venv', 'base_python3.11'],\n",
    "            # ['venv', 'base_python3.9'],\n",
    "            #['virtualenvs', 'Buratino']\n",
    "        ]\n",
    "deps = deps_getter.get_some_dependencies(prompt_nested_lists=prompt_nested_lists,\n",
    "                                         venvs=deps_getter.grouped_paths,\n",
    "                                         verbose=True)\n",
    "print(\"---------------------------------------\")\n",
    "print(\"- get_some_dependencies result ------\")\n",
    "#deps_getter.da.print_dict(deps)\n",
    "if deps:\n",
    "    print(\"==================================================================\")\n",
    "    print(\"- some deps obtained ------\")\n",
    "    print(\"==================================================================\")\n",
    "else:\n",
    "    print(\"==================================================================\")\n",
    "    print(\"- some deps NOT obtained --\")\n",
    "    print(\"==================================================================\")"
   ]
  },
  {
   "cell_type": "code",
   "execution_count": 47,
   "id": "f7571f30-9537-4ab4-9f4e-c0558ca764c3",
   "metadata": {},
   "outputs": [
    {
     "name": "stdout",
     "output_type": "stream",
     "text": [
      "---------------------------------------\n",
      "Getting dependencies for some venvs...\n",
      "---------------------------------------\n",
      "- get_some_dependencies result in deps \n"
     ]
    }
   ],
   "source": [
    "print(\"---------------------------------------\")\n",
    "print(\"Getting dependencies for some venvs...\")\n",
    "prompt_nested_lists = [\n",
    "            ['conda', 'myenv'],\n",
    "            ['conda', 'base'],\n",
    "            #['venv', 'myenv'],\n",
    "            ['venv', 'base'],\n",
    "            #['venv', 'base_python3.11'],\n",
    "            # ['venv', 'base_python3.9'],\n",
    "            #['virtualenvs', 'Buratino']\n",
    "        ]\n",
    "deps = deps_getter.get_some_dependencies(prompt_nested_lists=prompt_nested_lists,\n",
    "                                         venvs=deps_getter.grouped_paths,\n",
    "                                         verbose=False)\n",
    "if deps:\n",
    "    print(\"---------------------------------------\")\n",
    "    print(\"- get_some_dependencies result in deps \")\n",
    "# deps_getter.da.print_dict(deps)"
   ]
  },
  {
   "cell_type": "code",
   "execution_count": 9,
   "id": "e48c595a-5a59-41e4-b3ce-16fe5ef074d2",
   "metadata": {},
   "outputs": [],
   "source": [
    "from importlib.metadata import version, PackageNotFoundError"
   ]
  },
  {
   "cell_type": "code",
   "execution_count": 10,
   "id": "2bb8b04d-bbbb-42cc-9e68-f017e69c83d3",
   "metadata": {},
   "outputs": [],
   "source": [
    "def check_library(library_name):\n",
    "    try:\n",
    "        library_version = version(library_name)\n",
    "        #print(f\"{library_name} is installed (version: {library_version}).\")\n",
    "        #print(\"+++\")\n",
    "        r=1\n",
    "    except PackageNotFoundError:\n",
    "        #print(f\"{library_name} is not installed.\")\n",
    "        # print(\"---\")\n",
    "        r=0\n",
    "    return  r if r else 0"
   ]
  },
  {
   "cell_type": "code",
   "execution_count": 11,
   "id": "2c998745-eab9-44d6-b8e1-24599eb221ff",
   "metadata": {},
   "outputs": [
    {
     "name": "stdout",
     "output_type": "stream",
     "text": [
      "Installed: 213  | Count: 213\n",
      "Checked vevn equal (or included in)  current\n"
     ]
    }
   ],
   "source": [
    "i, n = 0, 0\n",
    "for library_name in deps['venv']['base']:\n",
    "    i += int(check_library(library_name))\n",
    "    n += 1\n",
    "print(\"Installed:\",i,\" | Count:\",n)\n",
    "if i == n:\n",
    "    print(\"Checked vevn equal (or included in)  current\")\n",
    "else: print(\"Checked vevn not equal current\")"
   ]
  },
  {
   "cell_type": "code",
   "execution_count": 21,
   "id": "53a4b423-24c8-4a5d-b4c6-785e466b8aad",
   "metadata": {},
   "outputs": [],
   "source": [
    "# from pkg_resources import working_set\n",
    "\n",
    "# def get_dependencies():\n",
    "#     dependencies = {}\n",
    "#     for package in working_set:\n",
    "#         dependencies[package.project_name] = package.version\n",
    "#     return dependencies\n",
    "\n",
    "from importlib.metadata import distributions\n",
    "\n",
    "def get_dependencies():\n",
    "    dependencies = {}\n",
    "    for distribution in distributions():\n",
    "        dependencies[distribution.metadata['Name']] = distribution.version\n",
    "    return dependencies\n",
    "\n",
    "# Пример использования функции\n",
    "# dependencies = get_dependencies()\n",
    "# print(dependencies)\n",
    "\n",
    "# Пример использования функции\n",
    "dependencies = get_dependencies()\n",
    "# print(get_dependencies())"
   ]
  },
  {
   "cell_type": "code",
   "execution_count": 22,
   "id": "7cdc8a1b-b075-44e1-80a9-11f259f1bc8a",
   "metadata": {},
   "outputs": [
    {
     "data": {
      "text/plain": [
       "['__annotations__',\n",
       " '__builtins__',\n",
       " '__call__',\n",
       " '__class__',\n",
       " '__closure__',\n",
       " '__code__',\n",
       " '__defaults__',\n",
       " '__delattr__',\n",
       " '__dict__',\n",
       " '__dir__',\n",
       " '__doc__',\n",
       " '__eq__',\n",
       " '__format__',\n",
       " '__ge__',\n",
       " '__get__',\n",
       " '__getattribute__',\n",
       " '__getstate__',\n",
       " '__globals__',\n",
       " '__gt__',\n",
       " '__hash__',\n",
       " '__init__',\n",
       " '__init_subclass__',\n",
       " '__kwdefaults__',\n",
       " '__le__',\n",
       " '__lt__',\n",
       " '__module__',\n",
       " '__name__',\n",
       " '__ne__',\n",
       " '__new__',\n",
       " '__qualname__',\n",
       " '__reduce__',\n",
       " '__reduce_ex__',\n",
       " '__repr__',\n",
       " '__setattr__',\n",
       " '__sizeof__',\n",
       " '__str__',\n",
       " '__subclasshook__']"
      ]
     },
     "execution_count": 22,
     "metadata": {},
     "output_type": "execute_result"
    }
   ],
   "source": [
    "dir(distributions)"
   ]
  },
  {
   "cell_type": "code",
   "execution_count": 18,
   "id": "6bc27ad6-c565-42e4-915f-e3b9a0d3f78e",
   "metadata": {},
   "outputs": [
    {
     "name": "stdout",
     "output_type": "stream",
     "text": [
      "Installed: 213  | Count: 213\n",
      "Checked vevn equal (or included in)  current\n"
     ]
    }
   ],
   "source": [
    "i, n = 0, 0\n",
    "depno = []\n",
    "for library_name in dependencies:\n",
    "    if library_name in deps['venv']['base'] \\\n",
    "        or library_name.replace('-','_') in deps['venv']['base']:\n",
    "        print(\n",
    "        i += 1\n",
    "    else:\n",
    "        print(\"NOT installed:\",library_name)\n",
    "        depno.append(library_name)\n",
    "    n += 1\n",
    "print(\"Installed:\",i,\" | Count:\",n)\n",
    "if i == n:\n",
    "    print(\"Checked vevn equal (or included in)  current\")\n",
    "else: print(\"Checked vevn not equal current\")"
   ]
  },
  {
   "cell_type": "code",
   "execution_count": null,
   "id": "d8903eb1-0369-4d8b-9f11-5892300ff4d4",
   "metadata": {},
   "outputs": [],
   "source": []
  }
 ],
 "metadata": {
  "kernelspec": {
   "display_name": "Python 3 (ipykernel)",
   "language": "python",
   "name": "python3"
  },
  "language_info": {
   "codemirror_mode": {
    "name": "ipython",
    "version": 3
   },
   "file_extension": ".py",
   "mimetype": "text/x-python",
   "name": "python",
   "nbconvert_exporter": "python",
   "pygments_lexer": "ipython3",
   "version": "3.11.6"
  }
 },
 "nbformat": 4,
 "nbformat_minor": 5
}
