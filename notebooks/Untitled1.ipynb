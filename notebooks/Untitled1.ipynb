{
 "cells": [
  {
   "cell_type": "code",
   "execution_count": 12,
   "id": "72fa59ec-9ad3-4185-a411-18057c4aef0b",
   "metadata": {},
   "outputs": [],
   "source": [
    "from ChiSpark.enviserv.depsgetter import DepsGetter"
   ]
  },
  {
   "cell_type": "code",
   "execution_count": 13,
   "id": "d3fd9c55-3760-4977-b824-5ffeaf4540e7",
   "metadata": {},
   "outputs": [],
   "source": [
    "deps_getter = DepsGetter()"
   ]
  },
  {
   "cell_type": "code",
   "execution_count": 14,
   "id": "e4e50367-303f-4589-b203-ea0e71bb7bf5",
   "metadata": {},
   "outputs": [
    {
     "data": {
      "text/plain": [
       "{'venv': {}, 'virtualenvs': {}, 'conda': {}}"
      ]
     },
     "execution_count": 14,
     "metadata": {},
     "output_type": "execute_result"
    }
   ],
   "source": [
    "deps_getter.grouped_paths"
   ]
  },
  {
   "cell_type": "code",
   "execution_count": 15,
   "id": "425e134e-960a-49fd-a442-2ec7498daca5",
   "metadata": {},
   "outputs": [
    {
     "name": "stdout",
     "output_type": "stream",
     "text": [
      "---------------------------------------------------------\n",
      "- Function get_all_dependencies() started ---------------\n",
      "- Getting all dependencies. This may take a while -------\n",
      "---------------------------------------------------------\n",
      "--packman = virtualenvs exists in venvs dict -------------\n",
      "---------------------------------------------------------\n",
      "--packman = conda exists in venvs dict -------------\n",
      "---------------------------------------------------------\n",
      "--packman = venv exists in venvs dict -------------\n",
      "==== FINDING VIRTUAL ENVS DEPENDENCIES FINISHED ====\n"
     ]
    }
   ],
   "source": [
    "venv = deps_getter.check_current_venv_path(update_data = True, verbose=True)"
   ]
  },
  {
   "cell_type": "code",
   "execution_count": 4,
   "id": "45230119-41cf-4154-b64c-96d36d03aec8",
   "metadata": {},
   "outputs": [
    {
     "data": {
      "text/plain": [
       "{'venv': {}, 'virtualenvs': {}, 'conda': {}}"
      ]
     },
     "execution_count": 4,
     "metadata": {},
     "output_type": "execute_result"
    }
   ],
   "source": [
    "deps_getter.grouped_paths"
   ]
  },
  {
   "cell_type": "code",
   "execution_count": null,
   "id": "9c4615a1-54d1-4679-853e-612caab65765",
   "metadata": {},
   "outputs": [],
   "source": []
  }
 ],
 "metadata": {
  "kernelspec": {
   "display_name": "Python 3 (ipykernel)",
   "language": "python",
   "name": "python3"
  },
  "language_info": {
   "codemirror_mode": {
    "name": "ipython",
    "version": 3
   },
   "file_extension": ".py",
   "mimetype": "text/x-python",
   "name": "python",
   "nbconvert_exporter": "python",
   "pygments_lexer": "ipython3",
   "version": "3.11.4"
  }
 },
 "nbformat": 4,
 "nbformat_minor": 5
}
