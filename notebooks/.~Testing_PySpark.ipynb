{
 "cells": [
  {
   "cell_type": "markdown",
   "id": "c6a6bd27-6b9c-4dff-9f3c-c9b8c932be66",
   "metadata": {},
   "source": [
    "Testing operations"
   ]
  },
  {
   "cell_type": "code",
   "execution_count": 4,
   "id": "3ce92868-9c5d-4e34-addb-68446a98a52c",
   "metadata": {},
   "outputs": [
    {
     "name": "stdout",
     "output_type": "stream",
     "text": [
      "['2009-01-01', 15.1, 26.1]\n"
     ]
    }
   ],
   "source": [
    "from pyspark import SparkContext\n",
    "\n",
    "sc = SparkContext(appName=\"appName\") # < напишите код здесь >\n",
    "weather_entry = sc.parallelize(['2009-01-01', 15.1,26.1]) # < напишите код здесь >\n",
    "print(weather_entry.take(3))"
   ]
  },
  {
   "cell_type": "code",
   "execution_count": 5,
   "id": "f746b7d3-6a41-42e6-90d8-8fd311e29b31",
   "metadata": {},
   "outputs": [],
   "source": [
    "# Не забудьте остановить SparkContext после использования\n",
    "sc.stop()"
   ]
  },
  {
   "cell_type": "code",
   "execution_count": 8,
   "id": "e7aee1b7-3f44-4602-a823-a34daf4e7387",
   "metadata": {},
   "outputs": [
    {
     "name": "stdout",
     "output_type": "stream",
     "text": [
      "AppName: sampleApp\n",
      "Master: local[*]\n",
      "Version: 3.4.1\n"
     ]
    }
   ],
   "source": [
    "from pyspark.sql import SparkSession\n",
    " \n",
    "APP_NAME = 'sampleApp'\n",
    "spark = SparkSession.builder.appName(APP_NAME).getOrCreate()\n",
    "# Вывести свойства объекта spark\n",
    "print(\"AppName:\", spark.sparkContext.appName)\n",
    "print(\"Master:\", spark.sparkContext.master)\n",
    "print(\"Version:\", spark.version)\n",
    "# Другие свойства, которые вы хотите вывести..."
   ]
  },
  {
   "cell_type": "code",
   "execution_count": 12,
   "id": "20f1ee46-293a-4a0d-a5da-438c027f9b14",
   "metadata": {},
   "outputs": [],
   "source": [
    "spark.stop()"
   ]
  },
  {
   "cell_type": "code",
   "execution_count": 13,
   "id": "1387de63-12c9-4a64-990f-364202cf0024",
   "metadata": {},
   "outputs": [],
   "source": [
    "from pyspark.sql import SparkSession\n",
    "# Вводим Spark Master IP, который выдаст нам скрипт \n",
    "SPARK_MASTER_IP = '172.18.0.2' \n",
    "spark = SparkSession.builder.appName(\"pyspark-taxi-forecasting\") \\\n",
    "    .master(f\"spark://{SPARK_MASTER_IP}:7077\") \\\n",
    "    .config(\"spark.executor.cores\", 1) \\\n",
    "    .config(\"spark.task.cpus\", 1) \\\n",
    "    .getOrCreate()"
   ]
  },
  {
   "cell_type": "code",
   "execution_count": 14,
   "id": "5b2d11f0-99d0-40fc-8900-b56aa2310347",
   "metadata": {},
   "outputs": [
    {
     "name": "stdout",
     "output_type": "stream",
     "text": [
      "AppName: pyspark-taxi-forecasting\n",
      "Master: spark://172.18.0.2:7077\n",
      "Version: 3.4.1\n"
     ]
    }
   ],
   "source": [
    "# Вывести свойства объекта spark\n",
    "print(\"AppName:\", spark.sparkContext.appName)\n",
    "print(\"Master:\", spark.sparkContext.master)\n",
    "print(\"Version:\", spark.version)"
   ]
  },
  {
   "cell_type": "code",
   "execution_count": 15,
   "id": "5f50168b-c6c4-4958-b857-5d80985f2a9c",
   "metadata": {},
   "outputs": [
    {
     "name": "stdout",
     "output_type": "stream",
     "text": [
      "CPU times: user 13.9 ms, sys: 31.1 ms, total: 45 ms\n",
      "Wall time: 37.8 s\n"
     ]
    }
   ],
   "source": [
    "%%time\n",
    "taxi = spark.read.load('/work/Taxi_Trips_-_2023.csv', \n",
    "                       format='csv', header='true', inferSchema='true')"
   ]
  },
  {
   "cell_type": "code",
   "execution_count": 16,
   "id": "32df512d-98ec-4c4a-8df2-18ed9abfffc6",
   "metadata": {},
   "outputs": [
    {
     "name": "stdout",
     "output_type": "stream",
     "text": [
      "root\n",
      " |-- Trip ID: string (nullable = true)\n",
      " |-- Taxi ID: string (nullable = true)\n",
      " |-- Trip Start Timestamp: string (nullable = true)\n",
      " |-- Trip End Timestamp: string (nullable = true)\n",
      " |-- Trip Seconds: integer (nullable = true)\n",
      " |-- Trip Miles: double (nullable = true)\n",
      " |-- Pickup Census Tract: long (nullable = true)\n",
      " |-- Dropoff Census Tract: long (nullable = true)\n",
      " |-- Pickup Community Area: integer (nullable = true)\n",
      " |-- Dropoff Community Area: integer (nullable = true)\n",
      " |-- Fare: double (nullable = true)\n",
      " |-- Tips: double (nullable = true)\n",
      " |-- Tolls: double (nullable = true)\n",
      " |-- Extras: double (nullable = true)\n",
      " |-- Trip Total: double (nullable = true)\n",
      " |-- Payment Type: string (nullable = true)\n",
      " |-- Company: string (nullable = true)\n",
      " |-- Pickup Centroid Latitude: double (nullable = true)\n",
      " |-- Pickup Centroid Longitude: double (nullable = true)\n",
      " |-- Pickup Centroid Location: string (nullable = true)\n",
      " |-- Dropoff Centroid Latitude: double (nullable = true)\n",
      " |-- Dropoff Centroid Longitude: double (nullable = true)\n",
      " |-- Dropoff Centroid  Location: string (nullable = true)\n",
      "\n",
      "CPU times: user 29.2 ms, sys: 21 ms, total: 50.2 ms\n",
      "Wall time: 53 ms\n"
     ]
    }
   ],
   "source": [
    "%%time\n",
    "# Вывести схему данных\n",
    "taxi.printSchema()"
   ]
  },
  {
   "cell_type": "code",
   "execution_count": 18,
   "id": "cfc6ec03-a73c-4840-ac0b-a1d2e2816f54",
   "metadata": {},
   "outputs": [],
   "source": [
    "# Отобразить первые несколько строк DataFrame\n",
    "# taxi.show()"
   ]
  },
  {
   "cell_type": "code",
   "execution_count": 19,
   "id": "38198110-a557-44ca-8fe6-6f3f7641723b",
   "metadata": {},
   "outputs": [],
   "source": [
    "import pandas as pd"
   ]
  },
  {
   "cell_type": "code",
   "execution_count": 20,
   "id": "55b0beed-e4d3-4cf6-ace8-8017d5245318",
   "metadata": {},
   "outputs": [],
   "source": [
    "table_descr = pd.read_csv('/work/table_descr.csv',sep=';')"
   ]
  },
  {
   "cell_type": "code",
   "execution_count": 21,
   "id": "ccaae8be-261d-4393-b7bc-153bd67d9c04",
   "metadata": {},
   "outputs": [
    {
     "data": {
      "text/html": [
       "<div>\n",
       "<style scoped>\n",
       "    .dataframe tbody tr th:only-of-type {\n",
       "        vertical-align: middle;\n",
       "    }\n",
       "\n",
       "    .dataframe tbody tr th {\n",
       "        vertical-align: top;\n",
       "    }\n",
       "\n",
       "    .dataframe thead th {\n",
       "        text-align: right;\n",
       "    }\n",
       "</style>\n",
       "<table border=\"1\" class=\"dataframe\">\n",
       "  <thead>\n",
       "    <tr style=\"text-align: right;\">\n",
       "      <th></th>\n",
       "      <th>Column Name</th>\n",
       "      <th>Description</th>\n",
       "      <th>Type</th>\n",
       "      <th>Описание</th>\n",
       "      <th>Тип</th>\n",
       "      <th>Unnamed: 5</th>\n",
       "    </tr>\n",
       "  </thead>\n",
       "  <tbody>\n",
       "    <tr>\n",
       "      <th>0</th>\n",
       "      <td>Trip ID</td>\n",
       "      <td>A unique identifier for the trip.</td>\n",
       "      <td>Plain Text</td>\n",
       "      <td>Уникальный идентификатор поездки</td>\n",
       "      <td>Обычный текст</td>\n",
       "      <td>Ошибка:510</td>\n",
       "    </tr>\n",
       "    <tr>\n",
       "      <th>1</th>\n",
       "      <td>Taxi ID</td>\n",
       "      <td>A unique identifier for the taxi.</td>\n",
       "      <td>Plain Text</td>\n",
       "      <td>Уникальный идентификатор такси</td>\n",
       "      <td>Обычный текст</td>\n",
       "      <td>NaN</td>\n",
       "    </tr>\n",
       "    <tr>\n",
       "      <th>2</th>\n",
       "      <td>Trip Start Timestamp</td>\n",
       "      <td>When the trip started rounded to the nearest 1...</td>\n",
       "      <td>Date &amp; Time</td>\n",
       "      <td>Время начала поездки округленное до ближайших...</td>\n",
       "      <td>Дата и время</td>\n",
       "      <td>NaN</td>\n",
       "    </tr>\n",
       "    <tr>\n",
       "      <th>3</th>\n",
       "      <td>Trip End Timestamp</td>\n",
       "      <td>When the trip ended rounded to the nearest 15 ...</td>\n",
       "      <td>Date &amp; Time</td>\n",
       "      <td>Время окончания поездки округленное до ближай...</td>\n",
       "      <td>Дата и время</td>\n",
       "      <td>NaN</td>\n",
       "    </tr>\n",
       "    <tr>\n",
       "      <th>4</th>\n",
       "      <td>Trip Seconds</td>\n",
       "      <td>Time of the trip in seconds.</td>\n",
       "      <td>Number</td>\n",
       "      <td>Продолжительность поездки в секундах</td>\n",
       "      <td>Число</td>\n",
       "      <td>NaN</td>\n",
       "    </tr>\n",
       "    <tr>\n",
       "      <th>5</th>\n",
       "      <td>Trip Miles</td>\n",
       "      <td>Distance of the trip in miles.</td>\n",
       "      <td>Number</td>\n",
       "      <td>Расстояние поездки в милях</td>\n",
       "      <td>Число</td>\n",
       "      <td>NaN</td>\n",
       "    </tr>\n",
       "    <tr>\n",
       "      <th>6</th>\n",
       "      <td>Pickup Census Tract</td>\n",
       "      <td>The Census Tract where the trip began. For pri...</td>\n",
       "      <td>Plain Text</td>\n",
       "      <td>Код района по переписи населения  где началас...</td>\n",
       "      <td>Обычный текст</td>\n",
       "      <td>NaN</td>\n",
       "    </tr>\n",
       "    <tr>\n",
       "      <th>7</th>\n",
       "      <td>Dropoff Census Tract</td>\n",
       "      <td>The Census Tract where the trip ended. For pri...</td>\n",
       "      <td>Plain Text</td>\n",
       "      <td>Код района по переписи населения  где заверши...</td>\n",
       "      <td>Обычный текст</td>\n",
       "      <td>NaN</td>\n",
       "    </tr>\n",
       "    <tr>\n",
       "      <th>8</th>\n",
       "      <td>Pickup Community Area</td>\n",
       "      <td>The Community Area where the trip began. This ...</td>\n",
       "      <td>Number</td>\n",
       "      <td>Номер коммунальной области  где началась поез...</td>\n",
       "      <td>Число</td>\n",
       "      <td>NaN</td>\n",
       "    </tr>\n",
       "    <tr>\n",
       "      <th>9</th>\n",
       "      <td>Dropoff Community Area</td>\n",
       "      <td>The Community Area where the trip ended. This ...</td>\n",
       "      <td>Number</td>\n",
       "      <td>Номер коммунальной области  где завершилась п...</td>\n",
       "      <td>Число</td>\n",
       "      <td>NaN</td>\n",
       "    </tr>\n",
       "    <tr>\n",
       "      <th>10</th>\n",
       "      <td>Fare</td>\n",
       "      <td>The fare for the trip.</td>\n",
       "      <td>Number</td>\n",
       "      <td>Стоимость поездки.</td>\n",
       "      <td>Число</td>\n",
       "      <td>NaN</td>\n",
       "    </tr>\n",
       "    <tr>\n",
       "      <th>11</th>\n",
       "      <td>Tips</td>\n",
       "      <td>The tip for the trip. Cash tips generally will...</td>\n",
       "      <td>Number</td>\n",
       "      <td>Сумма чаевых за поездку. Наличные чаевые обыч...</td>\n",
       "      <td>Число</td>\n",
       "      <td>NaN</td>\n",
       "    </tr>\n",
       "    <tr>\n",
       "      <th>12</th>\n",
       "      <td>Tolls</td>\n",
       "      <td>The tolls for the trip.</td>\n",
       "      <td>Number</td>\n",
       "      <td>Сумма оплаты за проезд (платные дороги) за по...</td>\n",
       "      <td>Число</td>\n",
       "      <td>NaN</td>\n",
       "    </tr>\n",
       "    <tr>\n",
       "      <th>13</th>\n",
       "      <td>Extras</td>\n",
       "      <td>Extra charges for the trip.</td>\n",
       "      <td>Number</td>\n",
       "      <td>Дополнительные сборы за поездку.</td>\n",
       "      <td>Число</td>\n",
       "      <td>NaN</td>\n",
       "    </tr>\n",
       "    <tr>\n",
       "      <th>14</th>\n",
       "      <td>Trip Total</td>\n",
       "      <td>Total cost of the trip the total of the previo...</td>\n",
       "      <td>Number</td>\n",
       "      <td>Общая стоимость поездки сумма предыдущих стол...</td>\n",
       "      <td>Число</td>\n",
       "      <td>NaN</td>\n",
       "    </tr>\n",
       "    <tr>\n",
       "      <th>15</th>\n",
       "      <td>Payment Type</td>\n",
       "      <td>Type of payment for the trip.</td>\n",
       "      <td>Plain Text</td>\n",
       "      <td>Способ оплаты поездки.</td>\n",
       "      <td>Обычный текст</td>\n",
       "      <td>NaN</td>\n",
       "    </tr>\n",
       "    <tr>\n",
       "      <th>16</th>\n",
       "      <td>Company</td>\n",
       "      <td>The taxi company.</td>\n",
       "      <td>Plain Text</td>\n",
       "      <td>Название такси-компании.</td>\n",
       "      <td>Обычный текст</td>\n",
       "      <td>NaN</td>\n",
       "    </tr>\n",
       "    <tr>\n",
       "      <th>17</th>\n",
       "      <td>Pickup Centroid Latitude</td>\n",
       "      <td>The latitude of the center of the pickup censu...</td>\n",
       "      <td>Number</td>\n",
       "      <td>Широта центра района по переписи или коммунал...</td>\n",
       "      <td>Число</td>\n",
       "      <td>NaN</td>\n",
       "    </tr>\n",
       "    <tr>\n",
       "      <th>18</th>\n",
       "      <td>Pickup Centroid Longitude</td>\n",
       "      <td>The longitude of the center of the pickup cens...</td>\n",
       "      <td>Number</td>\n",
       "      <td>Долгота центра района по переписи или коммуна...</td>\n",
       "      <td>Число</td>\n",
       "      <td>NaN</td>\n",
       "    </tr>\n",
       "    <tr>\n",
       "      <th>19</th>\n",
       "      <td>Pickup Centroid Location</td>\n",
       "      <td>The location of the center of the pickup censu...</td>\n",
       "      <td>Point</td>\n",
       "      <td>Местоположение центра района по переписи или ...</td>\n",
       "      <td>Точка (координаты)</td>\n",
       "      <td>NaN</td>\n",
       "    </tr>\n",
       "    <tr>\n",
       "      <th>20</th>\n",
       "      <td>Dropoff Centroid Latitude</td>\n",
       "      <td>The latitude of the center of the dropoff cens...</td>\n",
       "      <td>Number</td>\n",
       "      <td>Широта центра района по переписи или коммунал...</td>\n",
       "      <td>Число</td>\n",
       "      <td>NaN</td>\n",
       "    </tr>\n",
       "    <tr>\n",
       "      <th>21</th>\n",
       "      <td>Dropoff Centroid Longitude</td>\n",
       "      <td>The longitude of the center of the dropoff cen...</td>\n",
       "      <td>Number</td>\n",
       "      <td>Долгота центра района по переписи или коммуна...</td>\n",
       "      <td>Число</td>\n",
       "      <td>NaN</td>\n",
       "    </tr>\n",
       "    <tr>\n",
       "      <th>22</th>\n",
       "      <td>Dropoff Centroid Location</td>\n",
       "      <td>The location of the center of the dropoff cens...</td>\n",
       "      <td>Point</td>\n",
       "      <td>Местоположение центра района по переписи или ...</td>\n",
       "      <td>Точка (координаты)</td>\n",
       "      <td>NaN</td>\n",
       "    </tr>\n",
       "  </tbody>\n",
       "</table>\n",
       "</div>"
      ],
      "text/plain": [
       "                   Column Name  \\\n",
       "0                      Trip ID   \n",
       "1                      Taxi ID   \n",
       "2         Trip Start Timestamp   \n",
       "3           Trip End Timestamp   \n",
       "4                 Trip Seconds   \n",
       "5                   Trip Miles   \n",
       "6          Pickup Census Tract   \n",
       "7         Dropoff Census Tract   \n",
       "8        Pickup Community Area   \n",
       "9       Dropoff Community Area   \n",
       "10                        Fare   \n",
       "11                        Tips   \n",
       "12                       Tolls   \n",
       "13                      Extras   \n",
       "14                  Trip Total   \n",
       "15                Payment Type   \n",
       "16                     Company   \n",
       "17    Pickup Centroid Latitude   \n",
       "18   Pickup Centroid Longitude   \n",
       "19    Pickup Centroid Location   \n",
       "20   Dropoff Centroid Latitude   \n",
       "21  Dropoff Centroid Longitude   \n",
       "22   Dropoff Centroid Location   \n",
       "\n",
       "                                          Description         Type  \\\n",
       "0                   A unique identifier for the trip.   Plain Text   \n",
       "1                   A unique identifier for the taxi.   Plain Text   \n",
       "2   When the trip started rounded to the nearest 1...  Date & Time   \n",
       "3   When the trip ended rounded to the nearest 15 ...  Date & Time   \n",
       "4                        Time of the trip in seconds.       Number   \n",
       "5                      Distance of the trip in miles.       Number   \n",
       "6   The Census Tract where the trip began. For pri...   Plain Text   \n",
       "7   The Census Tract where the trip ended. For pri...   Plain Text   \n",
       "8   The Community Area where the trip began. This ...       Number   \n",
       "9   The Community Area where the trip ended. This ...       Number   \n",
       "10                             The fare for the trip.       Number   \n",
       "11  The tip for the trip. Cash tips generally will...       Number   \n",
       "12                            The tolls for the trip.       Number   \n",
       "13                        Extra charges for the trip.       Number   \n",
       "14  Total cost of the trip the total of the previo...       Number   \n",
       "15                      Type of payment for the trip.   Plain Text   \n",
       "16                                  The taxi company.   Plain Text   \n",
       "17  The latitude of the center of the pickup censu...       Number   \n",
       "18  The longitude of the center of the pickup cens...       Number   \n",
       "19  The location of the center of the pickup censu...        Point   \n",
       "20  The latitude of the center of the dropoff cens...       Number   \n",
       "21  The longitude of the center of the dropoff cen...       Number   \n",
       "22  The location of the center of the dropoff cens...        Point   \n",
       "\n",
       "                                             Описание                  Тип  \\\n",
       "0                    Уникальный идентификатор поездки        Обычный текст   \n",
       "1                      Уникальный идентификатор такси        Обычный текст   \n",
       "2    Время начала поездки округленное до ближайших...         Дата и время   \n",
       "3    Время окончания поездки округленное до ближай...         Дата и время   \n",
       "4                Продолжительность поездки в секундах                Число   \n",
       "5                          Расстояние поездки в милях                Число   \n",
       "6    Код района по переписи населения  где началас...        Обычный текст   \n",
       "7    Код района по переписи населения  где заверши...        Обычный текст   \n",
       "8    Номер коммунальной области  где началась поез...                Число   \n",
       "9    Номер коммунальной области  где завершилась п...                Число   \n",
       "10                                 Стоимость поездки.                Число   \n",
       "11   Сумма чаевых за поездку. Наличные чаевые обыч...                Число   \n",
       "12   Сумма оплаты за проезд (платные дороги) за по...                Число   \n",
       "13                   Дополнительные сборы за поездку.                Число   \n",
       "14   Общая стоимость поездки сумма предыдущих стол...                Число   \n",
       "15                             Способ оплаты поездки.        Обычный текст   \n",
       "16                           Название такси-компании.        Обычный текст   \n",
       "17   Широта центра района по переписи или коммунал...                Число   \n",
       "18   Долгота центра района по переписи или коммуна...                Число   \n",
       "19   Местоположение центра района по переписи или ...   Точка (координаты)   \n",
       "20   Широта центра района по переписи или коммунал...                Число   \n",
       "21   Долгота центра района по переписи или коммуна...                Число   \n",
       "22   Местоположение центра района по переписи или ...   Точка (координаты)   \n",
       "\n",
       "    Unnamed: 5  \n",
       "0   Ошибка:510  \n",
       "1          NaN  \n",
       "2          NaN  \n",
       "3          NaN  \n",
       "4          NaN  \n",
       "5          NaN  \n",
       "6          NaN  \n",
       "7          NaN  \n",
       "8          NaN  \n",
       "9          NaN  \n",
       "10         NaN  \n",
       "11         NaN  \n",
       "12         NaN  \n",
       "13         NaN  \n",
       "14         NaN  \n",
       "15         NaN  \n",
       "16         NaN  \n",
       "17         NaN  \n",
       "18         NaN  \n",
       "19         NaN  \n",
       "20         NaN  \n",
       "21         NaN  \n",
       "22         NaN  "
      ]
     },
     "execution_count": 21,
     "metadata": {},
     "output_type": "execute_result"
    }
   ],
   "source": [
    "table_descr"
   ]
  },
  {
   "cell_type": "code",
   "execution_count": 22,
   "id": "15ec7a18-4c2d-4e19-82e2-76b051c58172",
   "metadata": {},
   "outputs": [
    {
     "name": "stdout",
     "output_type": "stream",
     "text": [
      "+--------------------+--------------------+----------+--------------------+--------------------+------------+----------+-------------------+\n",
      "|             Trip ID|             Taxi ID|Trip Miles|Trip Start Timestamp|  Trip End Timestamp|Trip Seconds|Trip Miles|Pickup Census Tract|\n",
      "+--------------------+--------------------+----------+--------------------+--------------------+------------+----------+-------------------+\n",
      "|0fca59218b1168827...|e2c349c7cbb608d55...|      4.82|01/01/2023 12:00:...|01/01/2023 12:15:...|        1037|      4.82|               null|\n",
      "|1e539d6e7501164c6...|4ab7a7510c1ebcc9b...|     16.63|01/01/2023 12:00:...|01/01/2023 12:15:...|        1341|     16.63|               null|\n",
      "|2b3c5200439d51f62...|8c76eb82f069c0731...|      3.84|01/01/2023 12:00:...|01/01/2023 12:15:...|         844|      3.84|               null|\n",
      "|45b2ea39cfff64d61...|a688de71e9eb70603...|      0.63|01/01/2023 12:00:...|01/01/2023 12:00:...|         361|      0.63|               null|\n",
      "|464df6aaaf97ca874...|8b1a88e5a09cfd55c...|      0.99|01/01/2023 12:00:...|01/01/2023 12:15:...|         704|      0.99|               null|\n",
      "+--------------------+--------------------+----------+--------------------+--------------------+------------+----------+-------------------+\n",
      "only showing top 5 rows\n",
      "\n"
     ]
    }
   ],
   "source": [
    "taxi[[\"Trip ID\", \"Taxi ID\", \"Trip Miles\",\"Trip Start Timestamp\",\"Trip End Timestamp\",\"Trip Seconds\",\"Trip Miles\",\"Pickup Census Tract\"]].show(5)"
   ]
  },
  {
   "cell_type": "code",
   "execution_count": 13,
   "id": "4796c2c3-293d-4db5-9523-600a9adff305",
   "metadata": {},
   "outputs": [
    {
     "name": "stdout",
     "output_type": "stream",
     "text": [
      "+--------------------+--------------------+---------------------+----------------------+--------------------+----------+----------+--------------------+\n",
      "|             Trip ID|Dropoff Census Tract|Pickup Community Area|Dropoff Community Area|  Trip End Timestamp|Trip Total|Trip Miles|             Company|\n",
      "+--------------------+--------------------+---------------------+----------------------+--------------------+----------+----------+--------------------+\n",
      "|0fca59218b1168827...|                null|                    6|                    32|01/01/2023 12:15:...|      19.5|      4.82|Taxicab Insurance...|\n",
      "|1e539d6e7501164c6...|                null|                   76|                     8|01/01/2023 12:15:...|      53.0|     16.63|            Sun Taxi|\n",
      "|2b3c5200439d51f62...|                null|                   24|                     8|01/01/2023 12:15:...|     20.17|      3.84|            Sun Taxi|\n",
      "|45b2ea39cfff64d61...|                null|                   32|                    32|01/01/2023 12:00:...|       6.5|      0.63|         5 Star Taxi|\n",
      "|464df6aaaf97ca874...|                null|                   14|                    14|01/01/2023 12:15:...|      7.75|      0.99|           Flash Cab|\n",
      "+--------------------+--------------------+---------------------+----------------------+--------------------+----------+----------+--------------------+\n",
      "only showing top 5 rows\n",
      "\n"
     ]
    }
   ],
   "source": [
    "taxi[[\"Trip ID\", \"Dropoff Census Tract\", \"Pickup Community Area\",\"Dropoff Community Area\",\"Trip End Timestamp\",\"Trip Total\",\"Trip Miles\",\"Company\"]].show(5)"
   ]
  },
  {
   "cell_type": "code",
   "execution_count": 23,
   "id": "b889edf2-85eb-4267-82a7-b87d0b1d4abd",
   "metadata": {},
   "outputs": [
    {
     "name": "stdout",
     "output_type": "stream",
     "text": [
      "+--------------------+------------------------+-------------------------+------------------------+-------------------------+--------------------------+--------------------------+\n",
      "|             Trip ID|Pickup Centroid Latitude|Pickup Centroid Longitude|Pickup Centroid Location|Dropoff Centroid Latitude|Dropoff Centroid Longitude|Dropoff Centroid  Location|\n",
      "+--------------------+------------------------+-------------------------+------------------------+-------------------------+--------------------------+--------------------------+\n",
      "|0fca59218b1168827...|            41.944226601|            -87.655998182|    POINT (-87.655998...|             41.878865584|             -87.625192142|      POINT (-87.625192...|\n",
      "|1e539d6e7501164c6...|            41.980264315|            -87.913624596|    POINT (-87.913624...|             41.899602111|             -87.633308037|      POINT (-87.633308...|\n",
      "|2b3c5200439d51f62...|            41.901206994|            -87.676355989|    POINT (-87.676355...|             41.899602111|             -87.633308037|      POINT (-87.633308...|\n",
      "|45b2ea39cfff64d61...|            41.878865584|            -87.625192142|    POINT (-87.625192...|             41.878865584|             -87.625192142|      POINT (-87.625192...|\n",
      "|464df6aaaf97ca874...|               41.968069|            -87.721559063|    POINT (-87.721559...|                41.968069|             -87.721559063|      POINT (-87.721559...|\n",
      "+--------------------+------------------------+-------------------------+------------------------+-------------------------+--------------------------+--------------------------+\n",
      "only showing top 5 rows\n",
      "\n"
     ]
    }
   ],
   "source": [
    "taxi[[\"Trip ID\", \"Pickup Centroid Latitude\", \"Pickup Centroid Longitude\",\"Pickup Centroid Location\",\n",
    "      \"Dropoff Centroid Latitude\",\"Dropoff Centroid Longitude\",\"Dropoff Centroid  Location\"]].show(5)"
   ]
  },
  {
   "cell_type": "code",
   "execution_count": 24,
   "id": "caeb2d06-5542-4877-bc60-d62ce2b81084",
   "metadata": {},
   "outputs": [],
   "source": [
    "# print(taxi.describe().show())\n",
    "# Запустите метод describe() на вашем PySpark DataFrame (например, taxi)\n",
    "describe_result = taxi.describe().toPandas()"
   ]
  },
  {
   "cell_type": "code",
   "execution_count": 25,
   "id": "15320335-8a71-4852-a4e0-84cdda4427fd",
   "metadata": {},
   "outputs": [
    {
     "data": {
      "text/html": [
       "<div>\n",
       "<style scoped>\n",
       "    .dataframe tbody tr th:only-of-type {\n",
       "        vertical-align: middle;\n",
       "    }\n",
       "\n",
       "    .dataframe tbody tr th {\n",
       "        vertical-align: top;\n",
       "    }\n",
       "\n",
       "    .dataframe thead th {\n",
       "        text-align: right;\n",
       "    }\n",
       "</style>\n",
       "<table border=\"1\" class=\"dataframe\">\n",
       "  <thead>\n",
       "    <tr style=\"text-align: right;\">\n",
       "      <th></th>\n",
       "      <th>summary</th>\n",
       "      <th>Trip ID</th>\n",
       "      <th>Taxi ID</th>\n",
       "      <th>Trip Start Timestamp</th>\n",
       "      <th>Trip End Timestamp</th>\n",
       "      <th>Trip Seconds</th>\n",
       "      <th>Trip Miles</th>\n",
       "      <th>Pickup Census Tract</th>\n",
       "      <th>Dropoff Census Tract</th>\n",
       "      <th>Pickup Community Area</th>\n",
       "      <th>...</th>\n",
       "      <th>Extras</th>\n",
       "      <th>Trip Total</th>\n",
       "      <th>Payment Type</th>\n",
       "      <th>Company</th>\n",
       "      <th>Pickup Centroid Latitude</th>\n",
       "      <th>Pickup Centroid Longitude</th>\n",
       "      <th>Pickup Centroid Location</th>\n",
       "      <th>Dropoff Centroid Latitude</th>\n",
       "      <th>Dropoff Centroid Longitude</th>\n",
       "      <th>Dropoff Centroid  Location</th>\n",
       "    </tr>\n",
       "  </thead>\n",
       "  <tbody>\n",
       "    <tr>\n",
       "      <th>0</th>\n",
       "      <td>count</td>\n",
       "      <td>3783730</td>\n",
       "      <td>3783730</td>\n",
       "      <td>3783730</td>\n",
       "      <td>3783682</td>\n",
       "      <td>3783012</td>\n",
       "      <td>3783717</td>\n",
       "      <td>1650232</td>\n",
       "      <td>1617623</td>\n",
       "      <td>3615963</td>\n",
       "      <td>...</td>\n",
       "      <td>3778327</td>\n",
       "      <td>3778327</td>\n",
       "      <td>3783730</td>\n",
       "      <td>3783730</td>\n",
       "      <td>3617351</td>\n",
       "      <td>3617351</td>\n",
       "      <td>3617351</td>\n",
       "      <td>3441935</td>\n",
       "      <td>3441935</td>\n",
       "      <td>3441935</td>\n",
       "    </tr>\n",
       "    <tr>\n",
       "      <th>1</th>\n",
       "      <td>mean</td>\n",
       "      <td>None</td>\n",
       "      <td>None</td>\n",
       "      <td>None</td>\n",
       "      <td>None</td>\n",
       "      <td>1235.3278387697421</td>\n",
       "      <td>6.471233194766421</td>\n",
       "      <td>1.7031501647110167E10</td>\n",
       "      <td>1.7031414613682808E10</td>\n",
       "      <td>35.03091652209937</td>\n",
       "      <td>...</td>\n",
       "      <td>2.241853884007393</td>\n",
       "      <td>27.371134848836103</td>\n",
       "      <td>None</td>\n",
       "      <td>None</td>\n",
       "      <td>41.90200067412448</td>\n",
       "      <td>-87.69906175284666</td>\n",
       "      <td>None</td>\n",
       "      <td>41.89419484402875</td>\n",
       "      <td>-87.66236339478645</td>\n",
       "      <td>None</td>\n",
       "    </tr>\n",
       "    <tr>\n",
       "      <th>2</th>\n",
       "      <td>stddev</td>\n",
       "      <td>None</td>\n",
       "      <td>None</td>\n",
       "      <td>None</td>\n",
       "      <td>None</td>\n",
       "      <td>1736.5661018295184</td>\n",
       "      <td>7.593310441212216</td>\n",
       "      <td>373503.0647060848</td>\n",
       "      <td>344107.34525212937</td>\n",
       "      <td>26.0787201470195</td>\n",
       "      <td>...</td>\n",
       "      <td>19.47903838213312</td>\n",
       "      <td>37.03373571024758</td>\n",
       "      <td>None</td>\n",
       "      <td>None</td>\n",
       "      <td>0.0625112371151189</td>\n",
       "      <td>0.11213128488994711</td>\n",
       "      <td>None</td>\n",
       "      <td>0.05656711663584076</td>\n",
       "      <td>0.07345541720850367</td>\n",
       "      <td>None</td>\n",
       "    </tr>\n",
       "    <tr>\n",
       "      <th>3</th>\n",
       "      <td>min</td>\n",
       "      <td>0000012deb83dbb55726d5a75c374197d0641fa0</td>\n",
       "      <td>00110971c7c4a7173fcf93f49a22d6b9b0a02c27c4b9f8...</td>\n",
       "      <td>01/01/2023 01:00:00 AM</td>\n",
       "      <td>01/01/2023 01:00:00 AM</td>\n",
       "      <td>0</td>\n",
       "      <td>0.0</td>\n",
       "      <td>17031010100</td>\n",
       "      <td>17031010100</td>\n",
       "      <td>1</td>\n",
       "      <td>...</td>\n",
       "      <td>0.0</td>\n",
       "      <td>0.0</td>\n",
       "      <td>Cash</td>\n",
       "      <td>2733 - 74600 Benny Jona</td>\n",
       "      <td>41.651921576</td>\n",
       "      <td>-87.913624596</td>\n",
       "      <td>POINT (-87.5313862567 41.7204632831)</td>\n",
       "      <td>41.660136051</td>\n",
       "      <td>-87.913624596</td>\n",
       "      <td>POINT (-87.5349029012 41.707311449)</td>\n",
       "    </tr>\n",
       "    <tr>\n",
       "      <th>4</th>\n",
       "      <td>max</td>\n",
       "      <td>fffffe03acfa1552c98fad12d73ff0aca70a5c2a</td>\n",
       "      <td>ffd231d2536b9463d888cfbb42f36d543b37d22d96a6dd...</td>\n",
       "      <td>08/01/2023 12:00:00 AM</td>\n",
       "      <td>10/17/2022 10:00:00 AM</td>\n",
       "      <td>86340</td>\n",
       "      <td>945.4</td>\n",
       "      <td>17031980100</td>\n",
       "      <td>17031980100</td>\n",
       "      <td>77</td>\n",
       "      <td>...</td>\n",
       "      <td>9446.65</td>\n",
       "      <td>9999.75</td>\n",
       "      <td>Unknown</td>\n",
       "      <td>U Taxicab</td>\n",
       "      <td>42.021223593</td>\n",
       "      <td>-87.531386257</td>\n",
       "      <td>POINT (-87.913624596 41.9802643146)</td>\n",
       "      <td>42.021223593</td>\n",
       "      <td>-87.534902901</td>\n",
       "      <td>POINT (-87.913624596 41.9802643146)</td>\n",
       "    </tr>\n",
       "  </tbody>\n",
       "</table>\n",
       "<p>5 rows × 24 columns</p>\n",
       "</div>"
      ],
      "text/plain": [
       "  summary                                   Trip ID  \\\n",
       "0   count                                   3783730   \n",
       "1    mean                                      None   \n",
       "2  stddev                                      None   \n",
       "3     min  0000012deb83dbb55726d5a75c374197d0641fa0   \n",
       "4     max  fffffe03acfa1552c98fad12d73ff0aca70a5c2a   \n",
       "\n",
       "                                             Taxi ID    Trip Start Timestamp  \\\n",
       "0                                            3783730                 3783730   \n",
       "1                                               None                    None   \n",
       "2                                               None                    None   \n",
       "3  00110971c7c4a7173fcf93f49a22d6b9b0a02c27c4b9f8...  01/01/2023 01:00:00 AM   \n",
       "4  ffd231d2536b9463d888cfbb42f36d543b37d22d96a6dd...  08/01/2023 12:00:00 AM   \n",
       "\n",
       "       Trip End Timestamp        Trip Seconds         Trip Miles  \\\n",
       "0                 3783682             3783012            3783717   \n",
       "1                    None  1235.3278387697421  6.471233194766421   \n",
       "2                    None  1736.5661018295184  7.593310441212216   \n",
       "3  01/01/2023 01:00:00 AM                   0                0.0   \n",
       "4  10/17/2022 10:00:00 AM               86340              945.4   \n",
       "\n",
       "     Pickup Census Tract   Dropoff Census Tract Pickup Community Area  ...  \\\n",
       "0                1650232                1617623               3615963  ...   \n",
       "1  1.7031501647110167E10  1.7031414613682808E10     35.03091652209937  ...   \n",
       "2      373503.0647060848     344107.34525212937      26.0787201470195  ...   \n",
       "3            17031010100            17031010100                     1  ...   \n",
       "4            17031980100            17031980100                    77  ...   \n",
       "\n",
       "              Extras          Trip Total Payment Type  \\\n",
       "0            3778327             3778327      3783730   \n",
       "1  2.241853884007393  27.371134848836103         None   \n",
       "2  19.47903838213312   37.03373571024758         None   \n",
       "3                0.0                 0.0         Cash   \n",
       "4            9446.65             9999.75      Unknown   \n",
       "\n",
       "                   Company Pickup Centroid Latitude Pickup Centroid Longitude  \\\n",
       "0                  3783730                  3617351                   3617351   \n",
       "1                     None        41.90200067412448        -87.69906175284666   \n",
       "2                     None       0.0625112371151189       0.11213128488994711   \n",
       "3  2733 - 74600 Benny Jona             41.651921576             -87.913624596   \n",
       "4                U Taxicab             42.021223593             -87.531386257   \n",
       "\n",
       "               Pickup Centroid Location Dropoff Centroid Latitude  \\\n",
       "0                               3617351                   3441935   \n",
       "1                                  None         41.89419484402875   \n",
       "2                                  None       0.05656711663584076   \n",
       "3  POINT (-87.5313862567 41.7204632831)              41.660136051   \n",
       "4   POINT (-87.913624596 41.9802643146)              42.021223593   \n",
       "\n",
       "  Dropoff Centroid Longitude           Dropoff Centroid  Location  \n",
       "0                    3441935                              3441935  \n",
       "1         -87.66236339478645                                 None  \n",
       "2        0.07345541720850367                                 None  \n",
       "3              -87.913624596  POINT (-87.5349029012 41.707311449)  \n",
       "4              -87.534902901  POINT (-87.913624596 41.9802643146)  \n",
       "\n",
       "[5 rows x 24 columns]"
      ]
     },
     "execution_count": 25,
     "metadata": {},
     "output_type": "execute_result"
    }
   ],
   "source": [
    "describe_result"
   ]
  },
  {
   "cell_type": "code",
   "execution_count": 26,
   "id": "7e56bbdc-b794-4786-80a0-fc1bd7ffae7b",
   "metadata": {},
   "outputs": [],
   "source": [
    "describe_result = pd.read_csv('/work/2023_describe.csv',sep=',')"
   ]
  },
  {
   "cell_type": "code",
   "execution_count": 27,
   "id": "1d091d2e-37b0-4bf5-85fc-92489105e131",
   "metadata": {},
   "outputs": [
    {
     "name": "stdout",
     "output_type": "stream",
     "text": [
      "                                    0                   1              2  \\\n",
      "summary                         count                mean         stddev   \n",
      "Trip ID                       3783730                 NaN            NaN   \n",
      "Taxi ID                       3783730                 NaN            NaN   \n",
      "Trip Start Timestamp          3783730                 NaN            NaN   \n",
      "Trip End Timestamp            3783682                 NaN            NaN   \n",
      "Trip Seconds                3783012.0         1235.327839    1736.566102   \n",
      "Trip Miles                  3783717.0            6.471233        7.59331   \n",
      "Pickup Census Tract         1650232.0  17031501647.110168  373503.064706   \n",
      "Dropoff Census Tract        1617623.0  17031414613.682808  344107.345252   \n",
      "Pickup Community Area       3615963.0           35.030917       26.07872   \n",
      "Dropoff Community Area      3419046.0           26.097846      20.917892   \n",
      "Fare                        3778327.0            21.99552      22.233947   \n",
      "Tips                        3778327.0            2.926381       4.200412   \n",
      "Tolls                       3778327.0            0.050003      11.569869   \n",
      "Extras                      3778327.0            2.241854      19.479038   \n",
      "Trip Total                  3778327.0           27.371135      37.033736   \n",
      "Payment Type                  3783730                 NaN            NaN   \n",
      "Company                       3783730                 NaN            NaN   \n",
      "Pickup Centroid Latitude    3617351.0           41.902001       0.062511   \n",
      "Pickup Centroid Longitude   3617351.0          -87.699062       0.112131   \n",
      "Pickup Centroid Location      3617351                 NaN            NaN   \n",
      "Dropoff Centroid Latitude   3441935.0           41.894195       0.056567   \n",
      "Dropoff Centroid Longitude  3441935.0          -87.662363       0.073455   \n",
      "Dropoff Centroid  Location    3441935                 NaN            NaN   \n",
      "\n",
      "                                                                            3  \\\n",
      "summary                                                                   min   \n",
      "Trip ID                              0000012deb83dbb55726d5a75c374197d0641fa0   \n",
      "Taxi ID                     00110971c7c4a7173fcf93f49a22d6b9b0a02c27c4b9f8...   \n",
      "Trip Start Timestamp                                   01/01/2023 01:00:00 AM   \n",
      "Trip End Timestamp                                     01/01/2023 01:00:00 AM   \n",
      "Trip Seconds                                                              0.0   \n",
      "Trip Miles                                                                0.0   \n",
      "Pickup Census Tract                                             17031010100.0   \n",
      "Dropoff Census Tract                                            17031010100.0   \n",
      "Pickup Community Area                                                     1.0   \n",
      "Dropoff Community Area                                                    1.0   \n",
      "Fare                                                                      0.0   \n",
      "Tips                                                                      0.0   \n",
      "Tolls                                                                     0.0   \n",
      "Extras                                                                    0.0   \n",
      "Trip Total                                                                0.0   \n",
      "Payment Type                                                             Cash   \n",
      "Company                                               2733 - 74600 Benny Jona   \n",
      "Pickup Centroid Latitude                                            41.651922   \n",
      "Pickup Centroid Longitude                                          -87.913625   \n",
      "Pickup Centroid Location                 POINT (-87.5313862567 41.7204632831)   \n",
      "Dropoff Centroid Latitude                                           41.660136   \n",
      "Dropoff Centroid Longitude                                         -87.913625   \n",
      "Dropoff Centroid  Location                POINT (-87.5349029012 41.707311449)   \n",
      "\n",
      "                                                                            4  \n",
      "summary                                                                   max  \n",
      "Trip ID                              fffffe03acfa1552c98fad12d73ff0aca70a5c2a  \n",
      "Taxi ID                     ffd231d2536b9463d888cfbb42f36d543b37d22d96a6dd...  \n",
      "Trip Start Timestamp                                   08/01/2023 12:00:00 AM  \n",
      "Trip End Timestamp                                     10/17/2022 10:00:00 AM  \n",
      "Trip Seconds                                                          86340.0  \n",
      "Trip Miles                                                              945.4  \n",
      "Pickup Census Tract                                             17031980100.0  \n",
      "Dropoff Census Tract                                            17031980100.0  \n",
      "Pickup Community Area                                                    77.0  \n",
      "Dropoff Community Area                                                   77.0  \n",
      "Fare                                                                  9999.75  \n",
      "Tips                                                                    375.0  \n",
      "Tolls                                                                 6666.66  \n",
      "Extras                                                                9446.65  \n",
      "Trip Total                                                            9999.75  \n",
      "Payment Type                                                          Unknown  \n",
      "Company                                                             U Taxicab  \n",
      "Pickup Centroid Latitude                                            42.021224  \n",
      "Pickup Centroid Longitude                                          -87.531386  \n",
      "Pickup Centroid Location                  POINT (-87.913624596 41.9802643146)  \n",
      "Dropoff Centroid Latitude                                           42.021224  \n",
      "Dropoff Centroid Longitude                                         -87.534903  \n",
      "Dropoff Centroid  Location                POINT (-87.913624596 41.9802643146)  \n"
     ]
    }
   ],
   "source": [
    "print(describe_result.transpose())"
   ]
  },
  {
   "cell_type": "code",
   "execution_count": 99,
   "id": "97b4d818-ae7c-4435-96ba-81ed9cac4a42",
   "metadata": {},
   "outputs": [],
   "source": [
    "# output_file_path = '/work/2023_describe.csv'\n",
    "# describe_result.to_csv(output_file_path, index=False) #transpose()."
   ]
  },
  {
   "cell_type": "code",
   "execution_count": 28,
   "id": "5168e50f-a2df-4d30-8155-1786582cea09",
   "metadata": {},
   "outputs": [],
   "source": [
    "# taxi.registerTempTable(\"taxi\")\n",
    "\"\"\"\n",
    "/usr/local/spark/python/pyspark/sql/dataframe.py:330: FutureWarning: Deprecated in 2.0, use createOrReplaceTempView instead.\n",
    "  warnings.warn(\"Deprecated in 2.0, use createOrReplaceTempView instead.\", FutureWarning)\n",
    "\"\"\"\n",
    "taxi.createOrReplaceTempView(\"taxi\")"
   ]
  },
  {
   "cell_type": "code",
   "execution_count": 29,
   "id": "dddb71da-62d4-4871-ae30-f93ff5cda78b",
   "metadata": {},
   "outputs": [
    {
     "name": "stdout",
     "output_type": "stream",
     "text": [
      "+--------+\n",
      "|count(1)|\n",
      "+--------+\n",
      "|  489757|\n",
      "+--------+\n",
      "\n",
      "None\n",
      "CPU times: user 6.41 ms, sys: 0 ns, total: 6.41 ms\n",
      "Wall time: 7.53 s\n"
     ]
    }
   ],
   "source": [
    "%%time\n",
    "# вам нужно использовать обратные кавычки ` ` (backticks) или просто имя столбца без кавычек\n",
    "print(spark.sql(\"SELECT COUNT(*) FROM taxi WHERE `Trip Seconds` < 300\").show())"
   ]
  },
  {
   "cell_type": "code",
   "execution_count": 30,
   "id": "efd4a5aa-45ee-4dfd-96b9-6bc6dd9b46b9",
   "metadata": {},
   "outputs": [],
   "source": [
    "from pyspark.sql.functions import col, dayofweek, to_timestamp, rand, substring"
   ]
  },
  {
   "cell_type": "code",
   "execution_count": 31,
   "id": "8ff2d596-c5f9-43f7-b8a5-236ec4e16df0",
   "metadata": {},
   "outputs": [],
   "source": [
    "def random_sample_dataframe(dataframe, percentage):\n",
    "    # Генерируем случайные числа от 0 до 1 и фильтруем строки\n",
    "    taxis = dataframe.filter(rand() < percentage)\n",
    "    \n",
    "    return taxis"
   ]
  },
  {
   "cell_type": "code",
   "execution_count": 32,
   "id": "d9f48b97-aef2-4674-b09e-3f1988d29b39",
   "metadata": {},
   "outputs": [],
   "source": [
    "taxis = random_sample_dataframe(taxi, 0.05)"
   ]
  },
  {
   "cell_type": "code",
   "execution_count": 33,
   "id": "a1e6ac92-7767-4ee7-8e1f-a7daaaeadc82",
   "metadata": {},
   "outputs": [
    {
     "name": "stdout",
     "output_type": "stream",
     "text": [
      "+--------------------+--------------------+\n",
      "|             Trip ID|Trip Start Timestamp|\n",
      "+--------------------+--------------------+\n",
      "|2b3c5200439d51f62...|01/01/2023 12:00:...|\n",
      "|6e26e8341d032293c...|01/01/2023 12:00:...|\n",
      "|e56ff16af8b0b5234...|01/01/2023 12:00:...|\n",
      "|1117f21cfce35b2bd...|01/01/2023 12:15:...|\n",
      "|8a3a48dd3283e3c9b...|01/01/2023 12:15:...|\n",
      "+--------------------+--------------------+\n",
      "only showing top 5 rows\n",
      "\n"
     ]
    }
   ],
   "source": [
    "taxis[[\"Trip ID\", \"Trip Start Timestamp\"]].show(5)"
   ]
  },
  {
   "cell_type": "code",
   "execution_count": 33,
   "id": "9579f76e-5d61-4726-91f0-ee3c96185edc",
   "metadata": {},
   "outputs": [],
   "source": [
    "def determine_date_format(dataframe):\n",
    "    # Выбираем первые два символа из столбца \"Trip Start Timestamp\"\n",
    "    first_two_chars = dataframe.select(substring(\"Trip Start Timestamp\", 1, 2))\n",
    "    \n",
    "    # Подсчитываем уникальные значения первых двух символов\n",
    "    unique_values = first_two_chars.distinct().count()\n",
    "    \n",
    "    # Определяем маску на основе количества уникальных значений\n",
    "    date_format = \"dd/MM/yyyy\" if unique_values >= 13 else \"MM/dd/yyyy\"\n",
    "    \n",
    "    return date_format, unique_values"
   ]
  },
  {
   "cell_type": "code",
   "execution_count": 79,
   "id": "8598aab4-d32e-469a-8bb4-548b37edc42e",
   "metadata": {},
   "outputs": [
    {
     "name": "stdout",
     "output_type": "stream",
     "text": [
      "Дата формат: MM/dd/yyyy , количество уникальных значений в 1-х двух знаках: 8\n",
      "CPU times: user 5.09 ms, sys: 1.6 ms, total: 6.69 ms\n",
      "Wall time: 6.53 s\n"
     ]
    }
   ],
   "source": [
    "%%time\n",
    "# Пример использования:\n",
    "date_format, unique_values = determine_date_format(taxis)\n",
    "print(\"Дата формат:\", date_format,\", количество уникальных значений в 1-х двух знаках:\",unique_values)"
   ]
  },
  {
   "cell_type": "code",
   "execution_count": 80,
   "id": "82e37807-f034-4cad-941b-dc98c4905f42",
   "metadata": {},
   "outputs": [
    {
     "name": "stdout",
     "output_type": "stream",
     "text": [
      "+-------------------------------------+\n",
      "|substring(Trip Start Timestamp, 1, 2)|\n",
      "+-------------------------------------+\n",
      "|                                   03|\n",
      "|                                   04|\n",
      "|                                   07|\n",
      "|                                   02|\n",
      "|                                   05|\n",
      "|                                   06|\n",
      "|                                   01|\n",
      "|                                   08|\n",
      "+-------------------------------------+\n",
      "\n"
     ]
    }
   ],
   "source": [
    "taxis.select(substring(\"Trip Start Timestamp\", 1, 2)).distinct().show()"
   ]
  },
  {
   "cell_type": "code",
   "execution_count": 81,
   "id": "84c7f651-74f1-4a47-a297-525ac2a43f87",
   "metadata": {},
   "outputs": [
    {
     "name": "stdout",
     "output_type": "stream",
     "text": [
      "+----------------------+\n",
      "|Trip Start Timestamp  |\n",
      "+----------------------+\n",
      "|01/01/2023 12:00:00 AM|\n",
      "|01/01/2023 12:00:00 AM|\n",
      "|01/01/2023 12:00:00 AM|\n",
      "|01/01/2023 12:00:00 AM|\n",
      "|01/01/2023 12:00:00 AM|\n",
      "|01/01/2023 12:00:00 AM|\n",
      "|01/01/2023 12:00:00 AM|\n",
      "|01/01/2023 12:00:00 AM|\n",
      "|01/01/2023 12:15:00 AM|\n",
      "|01/01/2023 12:15:00 AM|\n",
      "|01/01/2023 12:15:00 AM|\n",
      "|01/01/2023 12:15:00 AM|\n",
      "|01/01/2023 12:15:00 AM|\n",
      "|01/01/2023 12:15:00 AM|\n",
      "|01/01/2023 12:15:00 AM|\n",
      "+----------------------+\n",
      "only showing top 15 rows\n",
      "\n"
     ]
    }
   ],
   "source": [
    "taxis[[\"Trip Start Timestamp\"]].show(n=15, truncate=False)"
   ]
  },
  {
   "cell_type": "code",
   "execution_count": 82,
   "id": "2bfd9326-6741-4d9f-a0f9-5f2c41cbd5a4",
   "metadata": {},
   "outputs": [
    {
     "name": "stdout",
     "output_type": "stream",
     "text": [
      "+--------------------+\n",
      "|Trip Start Timestamp|\n",
      "+--------------------+\n",
      "| 2023-01-01 00:00:00|\n",
      "| 2023-01-01 00:00:00|\n",
      "| 2023-01-01 00:00:00|\n",
      "| 2023-01-01 00:00:00|\n",
      "| 2023-01-01 00:00:00|\n",
      "| 2023-01-01 00:00:00|\n",
      "| 2023-01-01 00:00:00|\n",
      "| 2023-01-01 00:00:00|\n",
      "| 2023-01-01 00:15:00|\n",
      "| 2023-01-01 00:15:00|\n",
      "| 2023-01-01 00:15:00|\n",
      "| 2023-01-01 00:15:00|\n",
      "| 2023-01-01 00:15:00|\n",
      "| 2023-01-01 00:15:00|\n",
      "| 2023-01-01 00:15:00|\n",
      "+--------------------+\n",
      "only showing top 15 rows\n",
      "\n"
     ]
    }
   ],
   "source": [
    "taxis.select(to_timestamp(taxis[\"Trip Start Timestamp\"], 'MM/dd/yyyy hh:mm:ss a').alias(\"Trip Start Timestamp\")).show(15)"
   ]
  },
  {
   "cell_type": "code",
   "execution_count": 85,
   "id": "4d6b2420-ecac-4f00-b3f8-393abf3ea938",
   "metadata": {},
   "outputs": [],
   "source": [
    "taxis = taxis.withColumn(\"Trip Start Timestamp\", to_timestamp(taxis[\"Trip Start Timestamp\"], 'MM/dd/yyyy hh:mm:ss a'))"
   ]
  },
  {
   "cell_type": "code",
   "execution_count": 86,
   "id": "441ecc1d-6db4-4790-804c-c9e175720109",
   "metadata": {},
   "outputs": [
    {
     "name": "stdout",
     "output_type": "stream",
     "text": [
      "+--------------------+\n",
      "|Trip Start Timestamp|\n",
      "+--------------------+\n",
      "|2023-01-01 00:00:00 |\n",
      "|2023-01-01 00:00:00 |\n",
      "|2023-01-01 00:00:00 |\n",
      "|2023-01-01 00:00:00 |\n",
      "|2023-01-01 00:00:00 |\n",
      "|2023-01-01 00:00:00 |\n",
      "|2023-01-01 00:00:00 |\n",
      "|2023-01-01 00:00:00 |\n",
      "|2023-01-01 00:15:00 |\n",
      "|2023-01-01 00:15:00 |\n",
      "|2023-01-01 00:15:00 |\n",
      "|2023-01-01 00:15:00 |\n",
      "|2023-01-01 00:15:00 |\n",
      "|2023-01-01 00:15:00 |\n",
      "|2023-01-01 00:15:00 |\n",
      "+--------------------+\n",
      "only showing top 15 rows\n",
      "\n"
     ]
    }
   ],
   "source": [
    "taxis[[\"Trip Start Timestamp\"]].show(n=15, truncate=False)"
   ]
  },
  {
   "cell_type": "code",
   "execution_count": 87,
   "id": "718ce05e-d4dc-42a6-9963-f7250d82dd05",
   "metadata": {},
   "outputs": [],
   "source": [
    "taxis = taxis.withColumn(\"DayOfWeek\", dayofweek(col(\"Trip Start Timestamp\")))"
   ]
  },
  {
   "cell_type": "code",
   "execution_count": 93,
   "id": "35e9edcf-144f-4b70-8d15-99668b96c2c2",
   "metadata": {},
   "outputs": [
    {
     "name": "stdout",
     "output_type": "stream",
     "text": [
      "+---------+------------------+\n",
      "|DayOfWeek| avg(Trip Seconds)|\n",
      "+---------+------------------+\n",
      "|        1|1251.8656300217413|\n",
      "|        6|1245.3464070073985|\n",
      "|        3|1208.4795715916075|\n",
      "|        5|1268.5626337898955|\n",
      "|        4|1223.8157303753105|\n",
      "|        7|1179.3079529999331|\n",
      "|        2|1237.2134771972103|\n",
      "+---------+------------------+\n",
      "\n",
      "None\n",
      "CPU times: user 5.69 ms, sys: 1.78 ms, total: 7.47 ms\n",
      "Wall time: 8.98 s\n"
     ]
    }
   ],
   "source": [
    "%%time\n",
    "# taxis.createOrReplaceTempView(\"taxis\")\n",
    "q = \\\n",
    "\"\"\"\n",
    "SELECT\n",
    "    DayOfWeek,\n",
    "    AVG(`Trip Seconds`)\n",
    "FROM taxis\n",
    "GROUP BY DayOfWeek\n",
    "\"\"\"\n",
    "print(spark.sql(q).show(10))"
   ]
  },
  {
   "cell_type": "markdown",
   "id": "b6bb6010-3cc7-4c7c-a8e3-ed9f0e75903f",
   "metadata": {},
   "source": [
    "Вывод %%time в Jupyter Notebook содержит информацию о времени выполнения кода в двух разных контекстах:\n",
    "\n",
    "    CPU times: Это время, которое ваш код фактически проводит в CPU (Central Processing Unit) или процессоре. Он разбивается на две части:\n",
    "        user: Это время, в течение которого CPU выполняет пользовательский код (ваш код).\n",
    "        sys: Это время, которое CPU тратит на выполнение системных операций, таких как ввод/вывод данных.\n",
    "\n",
    "    Wall time: Это общее время, которое прошло с начала выполнения кода до его завершения. Это включает в себя не только вычислительное время, но и время, которое может быть затрачено на ожидание ввода/вывода, блокировку потоков и другие факторы, которые могут вызвать задержки в выполнении кода.\n",
    "\n",
    "В вашем конкретном выводе:\n",
    "\n",
    "    user составляет 10.5 миллисекунд (0.0105 секунд).\n",
    "    sys составляет 2.63 миллисекунд (0.00263 секунд).\n",
    "    total (сумма user и sys) равно 13.2 миллисекунд (0.0132 секунд).\n",
    "\n",
    "Это время, которое фактически затратилось на выполнение кода на процессоре.\n",
    "\n",
    "    Wall time составляет 25.3 секунды. Это общее время с момента запуска ячейки до ее завершения, включая все вычисления и возможные задержки.\n",
    "\n",
    "Обратите внимание, что Wall time (время на стенке) обычно больше, чем сумма user и sys, потому что оно включает в себя также время, которое может быть затрачено на ожидание ввода/вывода или другие факторы, которые могут замедлить выполнение кода."
   ]
  },
  {
   "cell_type": "code",
   "execution_count": 89,
   "id": "7cb0db5d-f597-4278-a606-e74d66b1bb2e",
   "metadata": {},
   "outputs": [
    {
     "name": "stdout",
     "output_type": "stream",
     "text": [
      "root\n",
      " |-- Trip ID: string (nullable = true)\n",
      " |-- Taxi ID: string (nullable = true)\n",
      " |-- Trip Start Timestamp: timestamp (nullable = true)\n",
      " |-- Trip End Timestamp: string (nullable = true)\n",
      " |-- Trip Seconds: integer (nullable = true)\n",
      " |-- Trip Miles: double (nullable = true)\n",
      " |-- Pickup Census Tract: long (nullable = true)\n",
      " |-- Dropoff Census Tract: long (nullable = true)\n",
      " |-- Pickup Community Area: integer (nullable = true)\n",
      " |-- Dropoff Community Area: integer (nullable = true)\n",
      " |-- Fare: double (nullable = true)\n",
      " |-- Tips: double (nullable = true)\n",
      " |-- Tolls: double (nullable = true)\n",
      " |-- Extras: double (nullable = true)\n",
      " |-- Trip Total: double (nullable = true)\n",
      " |-- Payment Type: string (nullable = true)\n",
      " |-- Company: string (nullable = true)\n",
      " |-- Pickup Centroid Latitude: double (nullable = true)\n",
      " |-- Pickup Centroid Longitude: double (nullable = true)\n",
      " |-- Pickup Centroid Location: string (nullable = true)\n",
      " |-- Dropoff Centroid Latitude: double (nullable = true)\n",
      " |-- Dropoff Centroid Longitude: double (nullable = true)\n",
      " |-- Dropoff Centroid  Location: string (nullable = true)\n",
      " |-- DayOfWeek: integer (nullable = true)\n",
      "\n"
     ]
    }
   ],
   "source": [
    "taxis.printSchema()"
   ]
  },
  {
   "cell_type": "code",
   "execution_count": 90,
   "id": "a249c157-0c83-47fa-9772-1e42fd072d7f",
   "metadata": {},
   "outputs": [
    {
     "name": "stdout",
     "output_type": "stream",
     "text": [
      "+--------------------+--------------------+---------+\n",
      "|             Trip ID|Trip Start Timestamp|DayOfWeek|\n",
      "+--------------------+--------------------+---------+\n",
      "|1e539d6e7501164c6...| 2023-01-01 00:00:00|        1|\n",
      "|121060d23b4c3cf77...| 2023-01-01 00:00:00|        1|\n",
      "|26d8ad56a2c363618...| 2023-01-01 00:00:00|        1|\n",
      "|3e23ed6f78b4f284e...| 2023-01-01 00:00:00|        1|\n",
      "|3f07cb261574b2047...| 2023-01-01 00:00:00|        1|\n",
      "+--------------------+--------------------+---------+\n",
      "only showing top 5 rows\n",
      "\n"
     ]
    }
   ],
   "source": [
    "taxis[[\"Trip ID\", \"Trip Start Timestamp\",\"DayOfWeek\"]].show(5)"
   ]
  },
  {
   "cell_type": "code",
   "execution_count": null,
   "id": "110edf51-14ac-4296-a338-1e26bcc86f68",
   "metadata": {},
   "outputs": [],
   "source": []
  }
 ],
 "metadata": {
  "kernelspec": {
   "display_name": "Python 3 (ipykernel)",
   "language": "python",
   "name": "python3"
  },
  "language_info": {
   "codemirror_mode": {
    "name": "ipython",
    "version": 3
   },
   "file_extension": ".py",
   "mimetype": "text/x-python",
   "name": "python",
   "nbconvert_exporter": "python",
   "pygments_lexer": "ipython3",
   "version": "3.11.4"
  }
 },
 "nbformat": 4,
 "nbformat_minor": 5
}
