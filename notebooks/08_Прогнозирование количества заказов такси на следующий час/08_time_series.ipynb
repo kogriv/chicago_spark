{
 "cells": [
  {
   "cell_type": "markdown",
   "metadata": {},
   "source": [
    "#  Прогнозирование заказов такси"
   ]
  },
  {
   "cell_type": "code",
   "execution_count": 1,
   "metadata": {},
   "outputs": [],
   "source": [
    "import warnings\n",
    "warnings.filterwarnings(\"ignore\")\n",
    "import time\n",
    "import pandas as pd\n",
    "import numpy as np\n",
    "\n",
    "import matplotlib.pyplot as plt\n",
    "\n",
    "from scipy import stats as st\n",
    "from scipy.signal import welch\n",
    "\n",
    "import lightgbm as lgb\n",
    "from sklearn.ensemble import RandomForestRegressor\n",
    "from sklearn.linear_model import Ridge\n",
    "\n",
    "from sklearn.model_selection import (train_test_split, TimeSeriesSplit,\n",
    "                                     RandomizedSearchCV)\n",
    "from sklearn.metrics import mean_squared_error\n",
    "\n",
    "from statsmodels.tsa.seasonal import seasonal_decompose\n",
    "\n",
    "from sklearn.preprocessing import StandardScaler, OneHotEncoder, PolynomialFeatures\n",
    "\n",
    "# Импортирую библиотеку для отображения статус-бара\n",
    "import tqdm"
   ]
  },
  {
   "cell_type": "code",
   "execution_count": 2,
   "metadata": {},
   "outputs": [],
   "source": [
    "STATE = np.random.RandomState(12345)"
   ]
  },
  {
   "cell_type": "markdown",
   "metadata": {},
   "source": [
    "## Подготовка"
   ]
  },
  {
   "cell_type": "markdown",
   "metadata": {},
   "source": [
    "Сразу при открытии файла устанавливать индекс не буду- посмотрю пропуски"
   ]
  },
  {
   "cell_type": "code",
   "execution_count": 3,
   "metadata": {},
   "outputs": [
    {
     "name": "stdout",
     "output_type": "stream",
     "text": [
      "Прочитали данные в сети\n"
     ]
    }
   ],
   "source": [
    "try:\n",
    "    data = pd.read_csv('path_to/taxi.csv')\n",
    "    print('Прочитали данные с диска')\n",
    "except:\n",
    "    data = pd.read_csv('/datasets/taxi.csv')\n",
    "    print('Прочитали данные в сети')"
   ]
  },
  {
   "cell_type": "code",
   "execution_count": 4,
   "metadata": {},
   "outputs": [
    {
     "name": "stdout",
     "output_type": "stream",
     "text": [
      "<class 'pandas.core.frame.DataFrame'>\n",
      "RangeIndex: 26496 entries, 0 to 26495\n",
      "Data columns (total 2 columns):\n",
      " #   Column      Non-Null Count  Dtype \n",
      "---  ------      --------------  ----- \n",
      " 0   datetime    26496 non-null  object\n",
      " 1   num_orders  26496 non-null  int64 \n",
      "dtypes: int64(1), object(1)\n",
      "memory usage: 414.1+ KB\n"
     ]
    }
   ],
   "source": [
    "data.info()"
   ]
  },
  {
   "cell_type": "markdown",
   "metadata": {},
   "source": [
    "Датасет не содержит содержит пустые значения (пропуски).\n",
    "\n",
    "Установим в качестве индекса данные из поля datetime"
   ]
  },
  {
   "cell_type": "code",
   "execution_count": 5,
   "metadata": {},
   "outputs": [],
   "source": [
    "# Установка нового индекса\n",
    "data['datetime'] = pd.to_datetime(data['datetime'])\n",
    "data = data.sort_values('datetime')"
   ]
  },
  {
   "cell_type": "code",
   "execution_count": 6,
   "metadata": {},
   "outputs": [],
   "source": [
    "data = data.set_index('datetime')"
   ]
  },
  {
   "cell_type": "code",
   "execution_count": 7,
   "metadata": {},
   "outputs": [
    {
     "data": {
      "text/html": [
       "<div>\n",
       "<style scoped>\n",
       "    .dataframe tbody tr th:only-of-type {\n",
       "        vertical-align: middle;\n",
       "    }\n",
       "\n",
       "    .dataframe tbody tr th {\n",
       "        vertical-align: top;\n",
       "    }\n",
       "\n",
       "    .dataframe thead th {\n",
       "        text-align: right;\n",
       "    }\n",
       "</style>\n",
       "<table border=\"1\" class=\"dataframe\">\n",
       "  <thead>\n",
       "    <tr style=\"text-align: right;\">\n",
       "      <th></th>\n",
       "      <th>num_orders</th>\n",
       "    </tr>\n",
       "    <tr>\n",
       "      <th>datetime</th>\n",
       "      <th></th>\n",
       "    </tr>\n",
       "  </thead>\n",
       "  <tbody>\n",
       "    <tr>\n",
       "      <th>2018-03-01 00:00:00</th>\n",
       "      <td>9</td>\n",
       "    </tr>\n",
       "    <tr>\n",
       "      <th>2018-03-01 00:10:00</th>\n",
       "      <td>14</td>\n",
       "    </tr>\n",
       "    <tr>\n",
       "      <th>2018-03-01 00:20:00</th>\n",
       "      <td>28</td>\n",
       "    </tr>\n",
       "    <tr>\n",
       "      <th>2018-03-01 00:30:00</th>\n",
       "      <td>20</td>\n",
       "    </tr>\n",
       "    <tr>\n",
       "      <th>2018-03-01 00:40:00</th>\n",
       "      <td>32</td>\n",
       "    </tr>\n",
       "    <tr>\n",
       "      <th>2018-03-01 00:50:00</th>\n",
       "      <td>21</td>\n",
       "    </tr>\n",
       "    <tr>\n",
       "      <th>2018-03-01 01:00:00</th>\n",
       "      <td>7</td>\n",
       "    </tr>\n",
       "    <tr>\n",
       "      <th>2018-03-01 01:10:00</th>\n",
       "      <td>5</td>\n",
       "    </tr>\n",
       "    <tr>\n",
       "      <th>2018-03-01 01:20:00</th>\n",
       "      <td>17</td>\n",
       "    </tr>\n",
       "    <tr>\n",
       "      <th>2018-03-01 01:30:00</th>\n",
       "      <td>12</td>\n",
       "    </tr>\n",
       "  </tbody>\n",
       "</table>\n",
       "</div>"
      ],
      "text/plain": [
       "                     num_orders\n",
       "datetime                       \n",
       "2018-03-01 00:00:00           9\n",
       "2018-03-01 00:10:00          14\n",
       "2018-03-01 00:20:00          28\n",
       "2018-03-01 00:30:00          20\n",
       "2018-03-01 00:40:00          32\n",
       "2018-03-01 00:50:00          21\n",
       "2018-03-01 01:00:00           7\n",
       "2018-03-01 01:10:00           5\n",
       "2018-03-01 01:20:00          17\n",
       "2018-03-01 01:30:00          12"
      ]
     },
     "execution_count": 7,
     "metadata": {},
     "output_type": "execute_result"
    }
   ],
   "source": [
    "data.head(10)"
   ]
  },
  {
   "cell_type": "markdown",
   "metadata": {},
   "source": [
    "Видим, что данныe являются десятиминутными срезами.\n",
    "\n",
    "Прогнозировать буду значение суммы заказов за каждый час."
   ]
  },
  {
   "cell_type": "code",
   "execution_count": 8,
   "metadata": {},
   "outputs": [
    {
     "data": {
      "text/html": [
       "<div>\n",
       "<style scoped>\n",
       "    .dataframe tbody tr th:only-of-type {\n",
       "        vertical-align: middle;\n",
       "    }\n",
       "\n",
       "    .dataframe tbody tr th {\n",
       "        vertical-align: top;\n",
       "    }\n",
       "\n",
       "    .dataframe thead th {\n",
       "        text-align: right;\n",
       "    }\n",
       "</style>\n",
       "<table border=\"1\" class=\"dataframe\">\n",
       "  <thead>\n",
       "    <tr style=\"text-align: right;\">\n",
       "      <th></th>\n",
       "      <th>sum</th>\n",
       "    </tr>\n",
       "    <tr>\n",
       "      <th>datetime</th>\n",
       "      <th></th>\n",
       "    </tr>\n",
       "  </thead>\n",
       "  <tbody>\n",
       "    <tr>\n",
       "      <th>2018-03-01 00:00:00</th>\n",
       "      <td>124</td>\n",
       "    </tr>\n",
       "    <tr>\n",
       "      <th>2018-03-01 01:00:00</th>\n",
       "      <td>85</td>\n",
       "    </tr>\n",
       "    <tr>\n",
       "      <th>2018-03-01 02:00:00</th>\n",
       "      <td>71</td>\n",
       "    </tr>\n",
       "    <tr>\n",
       "      <th>2018-03-01 03:00:00</th>\n",
       "      <td>66</td>\n",
       "    </tr>\n",
       "    <tr>\n",
       "      <th>2018-03-01 04:00:00</th>\n",
       "      <td>43</td>\n",
       "    </tr>\n",
       "    <tr>\n",
       "      <th>...</th>\n",
       "      <td>...</td>\n",
       "    </tr>\n",
       "    <tr>\n",
       "      <th>2018-08-31 19:00:00</th>\n",
       "      <td>136</td>\n",
       "    </tr>\n",
       "    <tr>\n",
       "      <th>2018-08-31 20:00:00</th>\n",
       "      <td>154</td>\n",
       "    </tr>\n",
       "    <tr>\n",
       "      <th>2018-08-31 21:00:00</th>\n",
       "      <td>159</td>\n",
       "    </tr>\n",
       "    <tr>\n",
       "      <th>2018-08-31 22:00:00</th>\n",
       "      <td>223</td>\n",
       "    </tr>\n",
       "    <tr>\n",
       "      <th>2018-08-31 23:00:00</th>\n",
       "      <td>205</td>\n",
       "    </tr>\n",
       "  </tbody>\n",
       "</table>\n",
       "<p>4416 rows × 1 columns</p>\n",
       "</div>"
      ],
      "text/plain": [
       "                     sum\n",
       "datetime                \n",
       "2018-03-01 00:00:00  124\n",
       "2018-03-01 01:00:00   85\n",
       "2018-03-01 02:00:00   71\n",
       "2018-03-01 03:00:00   66\n",
       "2018-03-01 04:00:00   43\n",
       "...                  ...\n",
       "2018-08-31 19:00:00  136\n",
       "2018-08-31 20:00:00  154\n",
       "2018-08-31 21:00:00  159\n",
       "2018-08-31 22:00:00  223\n",
       "2018-08-31 23:00:00  205\n",
       "\n",
       "[4416 rows x 1 columns]"
      ]
     },
     "execution_count": 8,
     "metadata": {},
     "output_type": "execute_result"
    }
   ],
   "source": [
    "# преобразую данные в часовые интервалы и выполню агрегацию\n",
    "hour = data.resample('1H').agg(['sum'])\n",
    "hour.columns = hour.columns.droplevel(0)\n",
    "hour"
   ]
  },
  {
   "cell_type": "markdown",
   "metadata": {},
   "source": [
    "Проверим равномерность приращений значений индекса"
   ]
  },
  {
   "cell_type": "code",
   "execution_count": 9,
   "metadata": {},
   "outputs": [
    {
     "name": "stdout",
     "output_type": "stream",
     "text": [
      "Индекс содержит равномерную частоту значений\n"
     ]
    }
   ],
   "source": [
    "freq_uniform = (hour.index[1:] - hour.index[:-1]).value_counts()\n",
    "if len(freq_uniform) == 1 and freq_uniform.index[0] == pd.Timedelta(hours=1):\n",
    "    print(\"Индекс содержит равномерную частоту значений\")\n",
    "else:\n",
    "    print(\"Индекс не содержит равномерную частоту значений\")"
   ]
  },
  {
   "cell_type": "markdown",
   "metadata": {},
   "source": [
    "Значения индекса (времени) увеличиваются всегда на 1 час. Т.о. ряд полный, интерполяция не требуется"
   ]
  },
  {
   "cell_type": "markdown",
   "metadata": {},
   "source": [
    "## Анализ"
   ]
  },
  {
   "cell_type": "markdown",
   "metadata": {},
   "source": [
    "Разделю ряд на обучающую и тестовую выборки для исключения утечки при разложении на трендовую и сезонную составляющую"
   ]
  },
  {
   "cell_type": "code",
   "execution_count": 10,
   "metadata": {},
   "outputs": [],
   "source": [
    "h, t = train_test_split(hour,shuffle=False,test_size=0.1)"
   ]
  },
  {
   "cell_type": "code",
   "execution_count": 11,
   "metadata": {},
   "outputs": [
    {
     "data": {
      "image/png": "[encoded data removed]",
      "text/plain": [
       "<Figure size 432x288 with 1 Axes>"
      ]
     },
     "metadata": {
      "needs_background": "light"
     },
     "output_type": "display_data"
    }
   ],
   "source": [
    "# посмотрим график для часовой сумммы за весь доступный период\n",
    "h['sum'].plot();"
   ]
  },
  {
   "cell_type": "markdown",
   "metadata": {},
   "source": [
    "Видим, что значения волатильны. Найдем наиболее значимые частоты. Использую функцию welch из библиотеки scipy для построения периодограммы. Параметр размера окна nperseg задам 1/4 длины ряда."
   ]
  },
  {
   "cell_type": "code",
   "execution_count": 12,
   "metadata": {},
   "outputs": [],
   "source": [
    "fs = 1 / pd.Timedelta(\"1 hour\").total_seconds()  # частота дискретизации\n",
    "f, Pxx = welch(h[\"sum\"].values, fs=fs, nperseg=len(h) // 4)"
   ]
  },
  {
   "cell_type": "code",
   "execution_count": 13,
   "metadata": {},
   "outputs": [
    {
     "data": {
      "image/png": "[encoded data removed]",
      "text/plain": [
       "<Figure size 432x288 with 1 Axes>"
      ]
     },
     "metadata": {
      "needs_background": "light"
     },
     "output_type": "display_data"
    }
   ],
   "source": [
    "# построим диаграмму частота-плотность сигнала\n",
    "plt.plot(f, Pxx)\n",
    "plt.xlabel('Frequency [Hz]')\n",
    "plt.ylabel('Power Spectral Density')\n",
    "plt.show()"
   ]
  },
  {
   "cell_type": "markdown",
   "metadata": {},
   "source": [
    "Видим 10 пиков плотности, которые соответствуют самым значимым частотам колебаний значений ряда. Выведем эти частоты"
   ]
  },
  {
   "cell_type": "code",
   "execution_count": 14,
   "metadata": {},
   "outputs": [
    {
     "name": "stdout",
     "output_type": "stream",
     "text": [
      "Частота: 0.00000504      Гц, Количество часов между колебаниями: 55.17\n",
      "Частота: 0.00006937      Гц, Количество часов между колебаниями: 4.00\n",
      "Частота: 0.00003497      Гц, Количество часов между колебаниями: 7.94\n",
      "Частота: 0.00004616      Гц, Количество часов между колебаниями: 6.02\n",
      "Частота: 0.00004644      Гц, Количество часов между колебаниями: 5.98\n",
      "Частота: 0.00001175      Гц, Количество часов между колебаниями: 23.64\n",
      "Частота: 0.00003469      Гц, Количество часов между колебаниями: 8.01\n",
      "Частота: 0.00002294      Гц, Количество часов между колебаниями: 12.11\n",
      "Частота: 0.00001147      Гц, Количество часов между колебаниями: 24.22\n",
      "Частота: 0.00002322      Гц, Количество часов между колебаниями: 11.96\n"
     ]
    }
   ],
   "source": [
    "# Получение индексов 10 наибольших пиков\n",
    "peak_indices = np.argsort(Pxx)[-10:]\n",
    "for index in peak_indices:\n",
    "    # Нахождение частоты и периода для текущего пика\n",
    "    peak_frequency = f[index]\n",
    "    peak_period = 1 / peak_frequency\n",
    "\n",
    "    # Нахождение количества часов между колебаниями для текущего пика\n",
    "    hours_between_cycles = peak_period /3600\n",
    "\n",
    "    print(f\"Частота: {peak_frequency:.8f} \\\n",
    "     Гц, Количество часов между колебаниями: {hours_between_cycles:.2f}\")"
   ]
  },
  {
   "cell_type": "markdown",
   "metadata": {},
   "source": [
    "Видим, что основные частоты это 55, 24, 8, 4, 12 часов.\n",
    "\n",
    "Т.о. можно сказать, что значения повторяются с этими лагами."
   ]
  },
  {
   "cell_type": "markdown",
   "metadata": {},
   "source": [
    "Разложим данные на трендовую и сезонную составляющую"
   ]
  },
  {
   "cell_type": "markdown",
   "metadata": {},
   "source": [
    "Посмотрим как изменяетя среднеквадратичное отклонение разности между трендом и исходным значением, в зависимости от размера усреднения (параметр period в seasonal_decompose)"
   ]
  },
  {
   "cell_type": "code",
   "execution_count": 15,
   "metadata": {},
   "outputs": [],
   "source": [
    "# задаем список значений window_size\n",
    "window_sizes = [2, 4, 6, 8, 12, 24, 48, 168]\n",
    "\n",
    "# создаем пустой датафрейм для хранения результатов\n",
    "result_df = pd.DataFrame(columns=['window_size', 'mean_res_seas', 'std_res_seas','mean_res','std_res'])\n",
    "\n",
    "# цикл по window_size\n",
    "for window_size in window_sizes:\n",
    "    # рассчитываем decomposed для заданного window_size\n",
    "    decomposed = seasonal_decompose(h['sum'], period=window_size)\n",
    "    # извлекаем тренд из decomposed\n",
    "    trend = decomposed.trend.dropna()\n",
    "    season = decomposed.seasonal.dropna()\n",
    "    # вычисляем разность между исходным рядом и трендом\n",
    "    diff_res_seas = h['sum'] - trend\n",
    "    diff_res = h['sum'] - trend - season\n",
    "    # вычисляем статистические характеристики разности\n",
    "    mean_res_seas = diff_res_seas.mean()\n",
    "    std_res_seas = diff_res_seas.std()\n",
    "    mean_res = diff_res.mean()\n",
    "    std_res = diff_res.std()\n",
    "    # сохраняем результаты в датафрейм\n",
    "    result_df = result_df.append({'window_size': window_size,\n",
    "                                  'mean_res_seas': mean_res_seas,\n",
    "                                  'std_res_seas': std_res_seas,\n",
    "                                  'mean_res': mean_res,\n",
    "                                  'std_res': std_res},\n",
    "                                 ignore_index=True)"
   ]
  },
  {
   "cell_type": "code",
   "execution_count": 16,
   "metadata": {},
   "outputs": [
    {
     "data": {
      "text/html": [
       "<div>\n",
       "<style scoped>\n",
       "    .dataframe tbody tr th:only-of-type {\n",
       "        vertical-align: middle;\n",
       "    }\n",
       "\n",
       "    .dataframe tbody tr th {\n",
       "        vertical-align: top;\n",
       "    }\n",
       "\n",
       "    .dataframe thead th {\n",
       "        text-align: right;\n",
       "    }\n",
       "</style>\n",
       "<table border=\"1\" class=\"dataframe\">\n",
       "  <thead>\n",
       "    <tr style=\"text-align: right;\">\n",
       "      <th></th>\n",
       "      <th>window_size</th>\n",
       "      <th>mean_res_seas</th>\n",
       "      <th>std_res_seas</th>\n",
       "      <th>mean_res</th>\n",
       "      <th>std_res</th>\n",
       "    </tr>\n",
       "  </thead>\n",
       "  <tbody>\n",
       "    <tr>\n",
       "      <th>0</th>\n",
       "      <td>2.0</td>\n",
       "      <td>-0.004154</td>\n",
       "      <td>14.583349</td>\n",
       "      <td>-0.004154</td>\n",
       "      <td>14.386439</td>\n",
       "    </tr>\n",
       "    <tr>\n",
       "      <th>1</th>\n",
       "      <td>4.0</td>\n",
       "      <td>0.002928</td>\n",
       "      <td>21.329001</td>\n",
       "      <td>0.004826</td>\n",
       "      <td>20.510252</td>\n",
       "    </tr>\n",
       "    <tr>\n",
       "      <th>2</th>\n",
       "      <td>6.0</td>\n",
       "      <td>-0.002142</td>\n",
       "      <td>24.880001</td>\n",
       "      <td>-0.007465</td>\n",
       "      <td>23.309299</td>\n",
       "    </tr>\n",
       "    <tr>\n",
       "      <th>3</th>\n",
       "      <td>8.0</td>\n",
       "      <td>-0.022441</td>\n",
       "      <td>27.678994</td>\n",
       "      <td>-0.020144</td>\n",
       "      <td>24.554605</td>\n",
       "    </tr>\n",
       "    <tr>\n",
       "      <th>4</th>\n",
       "      <td>12.0</td>\n",
       "      <td>-0.017794</td>\n",
       "      <td>31.114982</td>\n",
       "      <td>-0.001809</td>\n",
       "      <td>26.075072</td>\n",
       "    </tr>\n",
       "    <tr>\n",
       "      <th>5</th>\n",
       "      <td>24.0</td>\n",
       "      <td>-0.010322</td>\n",
       "      <td>32.654828</td>\n",
       "      <td>-0.037029</td>\n",
       "      <td>21.802472</td>\n",
       "    </tr>\n",
       "    <tr>\n",
       "      <th>6</th>\n",
       "      <td>48.0</td>\n",
       "      <td>-0.056968</td>\n",
       "      <td>33.240623</td>\n",
       "      <td>-0.041287</td>\n",
       "      <td>22.585538</td>\n",
       "    </tr>\n",
       "    <tr>\n",
       "      <th>7</th>\n",
       "      <td>168.0</td>\n",
       "      <td>-0.038620</td>\n",
       "      <td>33.465425</td>\n",
       "      <td>-0.052870</td>\n",
       "      <td>20.663458</td>\n",
       "    </tr>\n",
       "  </tbody>\n",
       "</table>\n",
       "</div>"
      ],
      "text/plain": [
       "   window_size  mean_res_seas  std_res_seas  mean_res    std_res\n",
       "0          2.0      -0.004154     14.583349 -0.004154  14.386439\n",
       "1          4.0       0.002928     21.329001  0.004826  20.510252\n",
       "2          6.0      -0.002142     24.880001 -0.007465  23.309299\n",
       "3          8.0      -0.022441     27.678994 -0.020144  24.554605\n",
       "4         12.0      -0.017794     31.114982 -0.001809  26.075072\n",
       "5         24.0      -0.010322     32.654828 -0.037029  21.802472\n",
       "6         48.0      -0.056968     33.240623 -0.041287  22.585538\n",
       "7        168.0      -0.038620     33.465425 -0.052870  20.663458"
      ]
     },
     "execution_count": 16,
     "metadata": {},
     "output_type": "execute_result"
    }
   ],
   "source": [
    "result_df"
   ]
  },
  {
   "cell_type": "markdown",
   "metadata": {},
   "source": [
    "Видим, что среднеквадратичное отклонение для остатков, полученных при вычитании из исходных данных только трендовых значений, увеличивается при увеличении усреднения до 12 часов и далее почти не меняется. Для чистых остатков (вычитание тренда и сезонной составляющей) std растет при росте периода усреднения до 12 часов и далее снижается"
   ]
  },
  {
   "cell_type": "markdown",
   "metadata": {},
   "source": [
    "Разложим ряд: в качестве периода усредения возьмем частоту равную 168, которая соответствует минимальной дисперсии чистых остатков."
   ]
  },
  {
   "cell_type": "code",
   "execution_count": 17,
   "metadata": {},
   "outputs": [],
   "source": [
    "de_168 = seasonal_decompose(h['sum'], period = 168)\n",
    "de_168_trend = de_168.trend.dropna()\n",
    "de_168_seas  = de_168.seasonal.dropna()\n",
    "de_168_resid = de_168.resid.dropna()"
   ]
  },
  {
   "cell_type": "markdown",
   "metadata": {},
   "source": [
    "Посмотрим график сезонной составляющей в произвольном окне размером 3 недели"
   ]
  },
  {
   "cell_type": "code",
   "execution_count": 18,
   "metadata": {},
   "outputs": [
    {
     "data": {
      "image/png": "[encoded data removed]",
      "text/plain": [
       "<Figure size 720x216 with 1 Axes>"
      ]
     },
     "metadata": {
      "needs_background": "light"
     },
     "output_type": "display_data"
    }
   ],
   "source": [
    "de_168_seas['2018-05-03':'2018-05-25'].plot(figsize=(10,3));"
   ]
  },
  {
   "cell_type": "markdown",
   "metadata": {},
   "source": [
    "Частота повторения значений равна 168 часов. "
   ]
  },
  {
   "cell_type": "markdown",
   "metadata": {},
   "source": [
    "Оценим остатки разложения. Посмотрим их гистограмму."
   ]
  },
  {
   "cell_type": "code",
   "execution_count": 19,
   "metadata": {},
   "outputs": [
    {
     "data": {
      "image/png": "[encoded data removed]",
      "text/plain": [
       "<Figure size 432x288 with 1 Axes>"
      ]
     },
     "metadata": {
      "needs_background": "light"
     },
     "output_type": "display_data"
    }
   ],
   "source": [
    "de_168_resid.hist(bins=100);"
   ]
  },
  {
   "cell_type": "markdown",
   "metadata": {},
   "source": [
    "Визуально, можно говорить о нормальном распределении остатков (с хвостом выбросов справа). Оценим нормальность остатков."
   ]
  },
  {
   "cell_type": "code",
   "execution_count": 20,
   "metadata": {},
   "outputs": [
    {
     "name": "stdout",
     "output_type": "stream",
     "text": [
      "Statistic=480.4470941355685, p-value=4.701528631543165e-105\n",
      "Остатки не имеют нормальное распределение\n"
     ]
    }
   ],
   "source": [
    "from scipy.stats import normaltest\n",
    "\n",
    "# Проверка нормальности распределения остатков\n",
    "stat, p = normaltest(de_168_resid)\n",
    "print(f\"Statistic={stat}, p-value={p}\")\n",
    "if p < 0.1:\n",
    "    print(\"Остатки не имеют нормальное распределение\")\n",
    "else:\n",
    "    print(\"Остатки имеют нормальное распределение\")"
   ]
  },
  {
   "cell_type": "markdown",
   "metadata": {},
   "source": [
    "Формально остатки не распределены нормально. Т.е. теоретически - могут содержать важную информацию для прогнозирования.\n",
    "Оценим, имеет ли смысл далее декомпозировать остатки"
   ]
  },
  {
   "cell_type": "code",
   "execution_count": 21,
   "metadata": {},
   "outputs": [
    {
     "data": {
      "text/plain": [
       "20.663457922987384"
      ]
     },
     "execution_count": 21,
     "metadata": {},
     "output_type": "execute_result"
    }
   ],
   "source": [
    "# посмотрим стандартное отклонение остатков\n",
    "de_168_resid.std()"
   ]
  },
  {
   "cell_type": "code",
   "execution_count": 22,
   "metadata": {},
   "outputs": [
    {
     "name": "stdout",
     "output_type": "stream",
     "text": [
      "Стандартное отклонение для тренда / остатков от остатков для периода  4: 10.527  /  16.912\n",
      "Стандартное отклонение для тренда / остатков от остатков для периода  8:  7.913  /  18.729\n",
      "Стандартное отклонение для тренда / остатков от остатков для периода 12:  7.913  /  18.729\n"
     ]
    }
   ],
   "source": [
    "# посмотрим уменьшится ли стандартное отклонение для остатков,\n",
    "# полученных при разложении текущих остатков также на тренд и сезон\n",
    "print('Стандартное отклонение для тренда / остатков от остатков для периода  4:',\n",
    "      round((seasonal_decompose(de_168_resid.dropna(), period = 4).trend.std()),3),' / ',\n",
    "      round((seasonal_decompose(de_168_resid.dropna(), period = 4).resid.std()),3))\n",
    "print('Стандартное отклонение для тренда / остатков от остатков для периода  8: ',\n",
    "      round((seasonal_decompose(de_168_resid.dropna(), period = 8).trend.std()),3),' / ',\n",
    "      round((seasonal_decompose(de_168_resid.dropna(), period = 8).resid.std()),3))\n",
    "print('Стандартное отклонение для тренда / остатков от остатков для периода 12: ',\n",
    "      round((seasonal_decompose(de_168_resid.dropna(), period = 8).trend.std()),3),' / ',\n",
    "      round((seasonal_decompose(de_168_resid.dropna(), period = 8).resid.std()),3))"
   ]
  },
  {
   "cell_type": "code",
   "execution_count": 23,
   "metadata": {},
   "outputs": [
    {
     "data": {
      "image/png": "[encoded data removed]",
      "text/plain": [
       "<Figure size 432x288 with 1 Axes>"
      ]
     },
     "metadata": {
      "needs_background": "light"
     },
     "output_type": "display_data"
    }
   ],
   "source": [
    "# также посмотрим на график для тренда от остатков на примере усреднения 8 часов\n",
    "seasonal_decompose(de_168_resid.dropna(), period = 8).trend.plot();"
   ]
  },
  {
   "cell_type": "markdown",
   "metadata": {},
   "source": [
    "Можно сделать вывод, что дальнейшая декомпозиция остатков значительно не уменьшает дисперсию следующих остатков, при том, что трендовая составляющая получает форму шума. Т.о. текущие остатки далее декомпозировать не имеет смысла"
   ]
  },
  {
   "cell_type": "markdown",
   "metadata": {},
   "source": [
    "Теперь добавим полученную на трендовых данных сезонную составляющую и \"растянем\" ее на весь исходный датафрейм "
   ]
  },
  {
   "cell_type": "code",
   "execution_count": 24,
   "metadata": {},
   "outputs": [],
   "source": [
    "de_168_seas_first = de_168_seas[:168]\n",
    "seas_repeated = np.tile(de_168_seas_first.values, hour.shape[0] // 168 + 1)[:hour.shape[0]]\n",
    "hour['de_seas_168'] = seas_repeated"
   ]
  },
  {
   "cell_type": "code",
   "execution_count": 25,
   "metadata": {},
   "outputs": [],
   "source": [
    "h = hour"
   ]
  },
  {
   "cell_type": "markdown",
   "metadata": {},
   "source": [
    " Посчитаем данные для скользащих средних (по сумме заказов за час) за 4, 8, 24 и 168 (неделя) часов."
   ]
  },
  {
   "cell_type": "code",
   "execution_count": 26,
   "metadata": {},
   "outputs": [],
   "source": [
    "h['sum_roll_4'] = h['sum'].rolling(4).mean()\n",
    "h['sum_roll_8'] = h['sum'].rolling(8).mean()\n",
    "h['sum_roll_24'] = h['sum'].rolling(24).mean()\n",
    "h['sum_roll_168'] = h['sum'].rolling(168).mean()"
   ]
  },
  {
   "cell_type": "markdown",
   "metadata": {},
   "source": [
    "Построим график для среднедневной и средненедельной скользящей средней"
   ]
  },
  {
   "cell_type": "code",
   "execution_count": 27,
   "metadata": {},
   "outputs": [
    {
     "data": {
      "image/png": "[encoded data removed]",
      "text/plain": [
       "<Figure size 432x288 with 1 Axes>"
      ]
     },
     "metadata": {
      "needs_background": "light"
     },
     "output_type": "display_data"
    }
   ],
   "source": [
    "h[['sum_roll_24','sum_roll_168']].plot();"
   ]
  },
  {
   "cell_type": "markdown",
   "metadata": {},
   "source": [
    "Отметим общий растущий тренд. На средненедельных данных можно увидеть некоторую амплитуду, но \"на глаз\" сделать вывод о сезонности для больших периодов нельзя"
   ]
  },
  {
   "cell_type": "markdown",
   "metadata": {},
   "source": [
    "Посмотрим графики скользящих внутри недель. Предварительно, добавим поле \"день недели\" - dow"
   ]
  },
  {
   "cell_type": "code",
   "execution_count": 28,
   "metadata": {},
   "outputs": [],
   "source": [
    "h['dow'] = h.index.dayofweek"
   ]
  },
  {
   "cell_type": "code",
   "execution_count": 29,
   "metadata": {},
   "outputs": [],
   "source": [
    "# Функция для \"красивой отрисовки\" графика\n",
    "def paint(h,date_begin,date_end,div,fields_list):\n",
    "#     h           - датафрейм\n",
    "#     date_begin  - дата-время начала окна данных\n",
    "#     date_end    - дата-время конца окна\n",
    "#     div         - делитель нацело для 24 для меток данных и сетки\n",
    "#     fields_list - список полей значений для отрисовки\n",
    "    # выбор периода и поля для отрисовки\n",
    "    h_period = h[date_begin:date_end]\n",
    "    # создание \"двухэтажных\" меток оси X\n",
    "    xticklabels = [f\"{h_period.index[i].strftime('%a')}\\n---\\n {hour}\" \n",
    "                   if (i%12 == 0 and h_period.index[i].strftime('%H:%M') == '00:00') \n",
    "                   else (f\"\\n---\\n{hour}\" if i%div == 0 else \"\") \n",
    "                   for i, (dow, hour) in enumerate(zip(h_period['dow'], h_period.index.strftime('%H')))]\n",
    "    # отрисовка графика\n",
    "    fig, ax = plt.subplots(figsize=(10, 4))\n",
    "    for field in fields_list:\n",
    "        ax.plot(h_period.index, h_period[field], label=field)\n",
    "        # ax.plot(h_period.index, h_period['sum_roll_12'], color='orange', label='sum_roll_12')\n",
    "    ax.set_xticks(h_period.index)\n",
    "    ax.set_xticklabels(xticklabels, fontsize=8)\n",
    "    # нарисуем вертикальные линиии\n",
    "    for i, (dow, hour) in enumerate(zip(h_period['dow'], h_period.index.strftime('%H'))):\n",
    "        if i % div == 0:\n",
    "            ax.axvline(h_period.index[i], linestyle=':', color='gray', alpha=0.5)\n",
    "    ax.set_xlabel('Day of Week / Hour', labelpad=20)\n",
    "    ax.xaxis.set_label_coords(0.5, -0.2)\n",
    "    # ax.set_ylabel('sum_roll_6 / sum_roll_12 / sum')\n",
    "    ax.legend()\n",
    "    plt.show()"
   ]
  },
  {
   "cell_type": "markdown",
   "metadata": {},
   "source": [
    "Посмотрим на поведение данных для разных временных промежутков. Окна данных будем брать равными 15-ми дням, чтобы охватить 2 недели и увидеть \"на глаз\" - как проявляется в данных внутринедельная частотность. Метки данных по оси X установлю кратными 12 часам"
   ]
  },
  {
   "cell_type": "code",
   "execution_count": 30,
   "metadata": {},
   "outputs": [],
   "source": [
    "fields_list = ['sum','sum_roll_8','sum_roll_24']"
   ]
  },
  {
   "cell_type": "code",
   "execution_count": 31,
   "metadata": {},
   "outputs": [
    {
     "data": {
      "image/png": "[encoded data removed]",
      "text/plain": [
       "<Figure size 720x288 with 1 Axes>"
      ]
     },
     "metadata": {
      "needs_background": "light"
     },
     "output_type": "display_data"
    }
   ],
   "source": [
    "paint(h,'2018-03-03','2018-03-18',12,fields_list)"
   ]
  },
  {
   "cell_type": "code",
   "execution_count": 32,
   "metadata": {},
   "outputs": [
    {
     "data": {
      "image/png": "[encoded data removed]",
      "text/plain": [
       "<Figure size 720x288 with 1 Axes>"
      ]
     },
     "metadata": {
      "needs_background": "light"
     },
     "output_type": "display_data"
    }
   ],
   "source": [
    "paint(h,'2018-05-03','2018-05-18',12,fields_list)"
   ]
  },
  {
   "cell_type": "code",
   "execution_count": 33,
   "metadata": {},
   "outputs": [
    {
     "data": {
      "image/png": "[encoded data removed]",
      "text/plain": [
       "<Figure size 720x288 with 1 Axes>"
      ]
     },
     "metadata": {
      "needs_background": "light"
     },
     "output_type": "display_data"
    }
   ],
   "source": [
    "paint(h,'2018-08-03','2018-08-18',12,fields_list)"
   ]
  },
  {
   "cell_type": "markdown",
   "metadata": {},
   "source": [
    "Видим, что для трех разных промежутков данные на графиках ведут себя похоже. При этом зависимости от дня недели (внутринедельной частотности) не обнаружено. Также видим, что на всех трех промежутках имеется внутридневная частотность."
   ]
  },
  {
   "cell_type": "code",
   "execution_count": 34,
   "metadata": {},
   "outputs": [
    {
     "data": {
      "image/png": "[encoded data removed]",
      "text/plain": [
       "<Figure size 720x288 with 1 Axes>"
      ]
     },
     "metadata": {
      "needs_background": "light"
     },
     "output_type": "display_data"
    }
   ],
   "source": [
    "# посмотрим график трендовой составляющей\n",
    "fig, ax = plt.subplots(figsize=(10, 4))\n",
    "ax.plot(de_168_trend.index, de_168_trend, label='de_168_trend')\n",
    "ax.plot(h['sum_roll_168'].index, h['sum_roll_168'], label='sum_roll_168')\n",
    "ax.legend(loc='upper left')\n",
    "ax.set_title('Графики de_168_trend и sum_roll_168')\n",
    "plt.show()"
   ]
  },
  {
   "cell_type": "markdown",
   "metadata": {},
   "source": [
    "График трендовой составляющей идентичен сдвинутому графику скользящей средней с периодом 168. Т.е. напрямую без сдвига признак de_trend_168 использовать в машинном обучении нельзя, т.к. это будет утечкой.\n",
    "\n",
    "При этом сдвигать значения поля сезонной составляющей (на 168 шагов) не нужно, т.к. это будет \"поворотом на 360 градусов\", т.е. мы получим те же самые данные."
   ]
  },
  {
   "cell_type": "markdown",
   "metadata": {},
   "source": [
    "Посмотрим полученные данные"
   ]
  },
  {
   "cell_type": "code",
   "execution_count": 35,
   "metadata": {},
   "outputs": [
    {
     "data": {
      "text/html": [
       "<div>\n",
       "<style scoped>\n",
       "    .dataframe tbody tr th:only-of-type {\n",
       "        vertical-align: middle;\n",
       "    }\n",
       "\n",
       "    .dataframe tbody tr th {\n",
       "        vertical-align: top;\n",
       "    }\n",
       "\n",
       "    .dataframe thead th {\n",
       "        text-align: right;\n",
       "    }\n",
       "</style>\n",
       "<table border=\"1\" class=\"dataframe\">\n",
       "  <thead>\n",
       "    <tr style=\"text-align: right;\">\n",
       "      <th></th>\n",
       "      <th>sum</th>\n",
       "      <th>de_seas_168</th>\n",
       "      <th>sum_roll_4</th>\n",
       "      <th>sum_roll_8</th>\n",
       "      <th>sum_roll_24</th>\n",
       "      <th>sum_roll_168</th>\n",
       "      <th>dow</th>\n",
       "    </tr>\n",
       "    <tr>\n",
       "      <th>datetime</th>\n",
       "      <th></th>\n",
       "      <th></th>\n",
       "      <th></th>\n",
       "      <th></th>\n",
       "      <th></th>\n",
       "      <th></th>\n",
       "      <th></th>\n",
       "    </tr>\n",
       "  </thead>\n",
       "  <tbody>\n",
       "    <tr>\n",
       "      <th>2018-03-01 00:00:00</th>\n",
       "      <td>124</td>\n",
       "      <td>62.541353</td>\n",
       "      <td>NaN</td>\n",
       "      <td>NaN</td>\n",
       "      <td>NaN</td>\n",
       "      <td>NaN</td>\n",
       "      <td>3</td>\n",
       "    </tr>\n",
       "    <tr>\n",
       "      <th>2018-03-01 01:00:00</th>\n",
       "      <td>85</td>\n",
       "      <td>10.430717</td>\n",
       "      <td>NaN</td>\n",
       "      <td>NaN</td>\n",
       "      <td>NaN</td>\n",
       "      <td>NaN</td>\n",
       "      <td>3</td>\n",
       "    </tr>\n",
       "    <tr>\n",
       "      <th>2018-03-01 02:00:00</th>\n",
       "      <td>71</td>\n",
       "      <td>34.456338</td>\n",
       "      <td>NaN</td>\n",
       "      <td>NaN</td>\n",
       "      <td>NaN</td>\n",
       "      <td>NaN</td>\n",
       "      <td>3</td>\n",
       "    </tr>\n",
       "    <tr>\n",
       "      <th>2018-03-01 03:00:00</th>\n",
       "      <td>66</td>\n",
       "      <td>30.394873</td>\n",
       "      <td>86.50</td>\n",
       "      <td>NaN</td>\n",
       "      <td>NaN</td>\n",
       "      <td>NaN</td>\n",
       "      <td>3</td>\n",
       "    </tr>\n",
       "    <tr>\n",
       "      <th>2018-03-01 04:00:00</th>\n",
       "      <td>43</td>\n",
       "      <td>6.806364</td>\n",
       "      <td>66.25</td>\n",
       "      <td>NaN</td>\n",
       "      <td>NaN</td>\n",
       "      <td>NaN</td>\n",
       "      <td>3</td>\n",
       "    </tr>\n",
       "    <tr>\n",
       "      <th>...</th>\n",
       "      <td>...</td>\n",
       "      <td>...</td>\n",
       "      <td>...</td>\n",
       "      <td>...</td>\n",
       "      <td>...</td>\n",
       "      <td>...</td>\n",
       "      <td>...</td>\n",
       "    </tr>\n",
       "    <tr>\n",
       "      <th>2018-03-07 21:00:00</th>\n",
       "      <td>108</td>\n",
       "      <td>14.378310</td>\n",
       "      <td>83.25</td>\n",
       "      <td>65.125</td>\n",
       "      <td>56.166667</td>\n",
       "      <td>NaN</td>\n",
       "      <td>2</td>\n",
       "    </tr>\n",
       "    <tr>\n",
       "      <th>2018-03-07 22:00:00</th>\n",
       "      <td>127</td>\n",
       "      <td>9.792647</td>\n",
       "      <td>90.25</td>\n",
       "      <td>75.625</td>\n",
       "      <td>58.083333</td>\n",
       "      <td>NaN</td>\n",
       "      <td>2</td>\n",
       "    </tr>\n",
       "    <tr>\n",
       "      <th>2018-03-07 23:00:00</th>\n",
       "      <td>94</td>\n",
       "      <td>26.428129</td>\n",
       "      <td>101.25</td>\n",
       "      <td>81.000</td>\n",
       "      <td>60.041667</td>\n",
       "      <td>54.226190</td>\n",
       "      <td>2</td>\n",
       "    </tr>\n",
       "    <tr>\n",
       "      <th>2018-03-08 00:00:00</th>\n",
       "      <td>143</td>\n",
       "      <td>62.541353</td>\n",
       "      <td>118.00</td>\n",
       "      <td>93.125</td>\n",
       "      <td>61.833333</td>\n",
       "      <td>54.339286</td>\n",
       "      <td>3</td>\n",
       "    </tr>\n",
       "    <tr>\n",
       "      <th>2018-03-08 01:00:00</th>\n",
       "      <td>78</td>\n",
       "      <td>10.430717</td>\n",
       "      <td>110.50</td>\n",
       "      <td>96.875</td>\n",
       "      <td>60.041667</td>\n",
       "      <td>54.297619</td>\n",
       "      <td>3</td>\n",
       "    </tr>\n",
       "  </tbody>\n",
       "</table>\n",
       "<p>170 rows × 7 columns</p>\n",
       "</div>"
      ],
      "text/plain": [
       "                     sum  de_seas_168  sum_roll_4  sum_roll_8  sum_roll_24  \\\n",
       "datetime                                                                     \n",
       "2018-03-01 00:00:00  124    62.541353         NaN         NaN          NaN   \n",
       "2018-03-01 01:00:00   85    10.430717         NaN         NaN          NaN   \n",
       "2018-03-01 02:00:00   71    34.456338         NaN         NaN          NaN   \n",
       "2018-03-01 03:00:00   66    30.394873       86.50         NaN          NaN   \n",
       "2018-03-01 04:00:00   43     6.806364       66.25         NaN          NaN   \n",
       "...                  ...          ...         ...         ...          ...   \n",
       "2018-03-07 21:00:00  108    14.378310       83.25      65.125    56.166667   \n",
       "2018-03-07 22:00:00  127     9.792647       90.25      75.625    58.083333   \n",
       "2018-03-07 23:00:00   94    26.428129      101.25      81.000    60.041667   \n",
       "2018-03-08 00:00:00  143    62.541353      118.00      93.125    61.833333   \n",
       "2018-03-08 01:00:00   78    10.430717      110.50      96.875    60.041667   \n",
       "\n",
       "                     sum_roll_168  dow  \n",
       "datetime                                \n",
       "2018-03-01 00:00:00           NaN    3  \n",
       "2018-03-01 01:00:00           NaN    3  \n",
       "2018-03-01 02:00:00           NaN    3  \n",
       "2018-03-01 03:00:00           NaN    3  \n",
       "2018-03-01 04:00:00           NaN    3  \n",
       "...                           ...  ...  \n",
       "2018-03-07 21:00:00           NaN    2  \n",
       "2018-03-07 22:00:00           NaN    2  \n",
       "2018-03-07 23:00:00     54.226190    2  \n",
       "2018-03-08 00:00:00     54.339286    3  \n",
       "2018-03-08 01:00:00     54.297619    3  \n",
       "\n",
       "[170 rows x 7 columns]"
      ]
     },
     "execution_count": 35,
     "metadata": {},
     "output_type": "execute_result"
    }
   ],
   "source": [
    "h.head(170)"
   ]
  },
  {
   "cell_type": "code",
   "execution_count": 36,
   "metadata": {},
   "outputs": [
    {
     "data": {
      "text/html": [
       "<div>\n",
       "<style scoped>\n",
       "    .dataframe tbody tr th:only-of-type {\n",
       "        vertical-align: middle;\n",
       "    }\n",
       "\n",
       "    .dataframe tbody tr th {\n",
       "        vertical-align: top;\n",
       "    }\n",
       "\n",
       "    .dataframe thead th {\n",
       "        text-align: right;\n",
       "    }\n",
       "</style>\n",
       "<table border=\"1\" class=\"dataframe\">\n",
       "  <thead>\n",
       "    <tr style=\"text-align: right;\">\n",
       "      <th></th>\n",
       "      <th>sum</th>\n",
       "      <th>de_seas_168</th>\n",
       "      <th>sum_roll_4</th>\n",
       "      <th>sum_roll_8</th>\n",
       "      <th>sum_roll_24</th>\n",
       "      <th>sum_roll_168</th>\n",
       "      <th>dow</th>\n",
       "    </tr>\n",
       "    <tr>\n",
       "      <th>datetime</th>\n",
       "      <th></th>\n",
       "      <th></th>\n",
       "      <th></th>\n",
       "      <th></th>\n",
       "      <th></th>\n",
       "      <th></th>\n",
       "      <th></th>\n",
       "    </tr>\n",
       "  </thead>\n",
       "  <tbody>\n",
       "    <tr>\n",
       "      <th>2018-08-31 14:00:00</th>\n",
       "      <td>133</td>\n",
       "      <td>-4.287363</td>\n",
       "      <td>150.50</td>\n",
       "      <td>153.000</td>\n",
       "      <td>172.875000</td>\n",
       "      <td>153.553571</td>\n",
       "      <td>4</td>\n",
       "    </tr>\n",
       "    <tr>\n",
       "      <th>2018-08-31 15:00:00</th>\n",
       "      <td>116</td>\n",
       "      <td>-5.354598</td>\n",
       "      <td>137.75</td>\n",
       "      <td>161.750</td>\n",
       "      <td>171.208333</td>\n",
       "      <td>153.547619</td>\n",
       "      <td>4</td>\n",
       "    </tr>\n",
       "    <tr>\n",
       "      <th>2018-08-31 16:00:00</th>\n",
       "      <td>197</td>\n",
       "      <td>28.352383</td>\n",
       "      <td>153.00</td>\n",
       "      <td>163.625</td>\n",
       "      <td>168.833333</td>\n",
       "      <td>153.601190</td>\n",
       "      <td>4</td>\n",
       "    </tr>\n",
       "    <tr>\n",
       "      <th>2018-08-31 17:00:00</th>\n",
       "      <td>217</td>\n",
       "      <td>17.930846</td>\n",
       "      <td>165.75</td>\n",
       "      <td>165.375</td>\n",
       "      <td>163.625000</td>\n",
       "      <td>153.880952</td>\n",
       "      <td>4</td>\n",
       "    </tr>\n",
       "    <tr>\n",
       "      <th>2018-08-31 18:00:00</th>\n",
       "      <td>207</td>\n",
       "      <td>-2.985415</td>\n",
       "      <td>184.25</td>\n",
       "      <td>167.375</td>\n",
       "      <td>164.875000</td>\n",
       "      <td>154.297619</td>\n",
       "      <td>4</td>\n",
       "    </tr>\n",
       "    <tr>\n",
       "      <th>2018-08-31 19:00:00</th>\n",
       "      <td>136</td>\n",
       "      <td>-0.949836</td>\n",
       "      <td>189.25</td>\n",
       "      <td>163.500</td>\n",
       "      <td>167.541667</td>\n",
       "      <td>154.434524</td>\n",
       "      <td>4</td>\n",
       "    </tr>\n",
       "    <tr>\n",
       "      <th>2018-08-31 20:00:00</th>\n",
       "      <td>154</td>\n",
       "      <td>18.947350</td>\n",
       "      <td>178.50</td>\n",
       "      <td>165.750</td>\n",
       "      <td>168.041667</td>\n",
       "      <td>154.285714</td>\n",
       "      <td>4</td>\n",
       "    </tr>\n",
       "    <tr>\n",
       "      <th>2018-08-31 21:00:00</th>\n",
       "      <td>159</td>\n",
       "      <td>28.930846</td>\n",
       "      <td>164.00</td>\n",
       "      <td>164.875</td>\n",
       "      <td>166.416667</td>\n",
       "      <td>154.244048</td>\n",
       "      <td>4</td>\n",
       "    </tr>\n",
       "    <tr>\n",
       "      <th>2018-08-31 22:00:00</th>\n",
       "      <td>223</td>\n",
       "      <td>59.233335</td>\n",
       "      <td>168.00</td>\n",
       "      <td>176.125</td>\n",
       "      <td>169.125000</td>\n",
       "      <td>154.130952</td>\n",
       "      <td>4</td>\n",
       "    </tr>\n",
       "    <tr>\n",
       "      <th>2018-08-31 23:00:00</th>\n",
       "      <td>205</td>\n",
       "      <td>31.541912</td>\n",
       "      <td>185.25</td>\n",
       "      <td>187.250</td>\n",
       "      <td>167.416667</td>\n",
       "      <td>154.321429</td>\n",
       "      <td>4</td>\n",
       "    </tr>\n",
       "  </tbody>\n",
       "</table>\n",
       "</div>"
      ],
      "text/plain": [
       "                     sum  de_seas_168  sum_roll_4  sum_roll_8  sum_roll_24  \\\n",
       "datetime                                                                     \n",
       "2018-08-31 14:00:00  133    -4.287363      150.50     153.000   172.875000   \n",
       "2018-08-31 15:00:00  116    -5.354598      137.75     161.750   171.208333   \n",
       "2018-08-31 16:00:00  197    28.352383      153.00     163.625   168.833333   \n",
       "2018-08-31 17:00:00  217    17.930846      165.75     165.375   163.625000   \n",
       "2018-08-31 18:00:00  207    -2.985415      184.25     167.375   164.875000   \n",
       "2018-08-31 19:00:00  136    -0.949836      189.25     163.500   167.541667   \n",
       "2018-08-31 20:00:00  154    18.947350      178.50     165.750   168.041667   \n",
       "2018-08-31 21:00:00  159    28.930846      164.00     164.875   166.416667   \n",
       "2018-08-31 22:00:00  223    59.233335      168.00     176.125   169.125000   \n",
       "2018-08-31 23:00:00  205    31.541912      185.25     187.250   167.416667   \n",
       "\n",
       "                     sum_roll_168  dow  \n",
       "datetime                                \n",
       "2018-08-31 14:00:00    153.553571    4  \n",
       "2018-08-31 15:00:00    153.547619    4  \n",
       "2018-08-31 16:00:00    153.601190    4  \n",
       "2018-08-31 17:00:00    153.880952    4  \n",
       "2018-08-31 18:00:00    154.297619    4  \n",
       "2018-08-31 19:00:00    154.434524    4  \n",
       "2018-08-31 20:00:00    154.285714    4  \n",
       "2018-08-31 21:00:00    154.244048    4  \n",
       "2018-08-31 22:00:00    154.130952    4  \n",
       "2018-08-31 23:00:00    154.321429    4  "
      ]
     },
     "execution_count": 36,
     "metadata": {},
     "output_type": "execute_result"
    }
   ],
   "source": [
    "h.tail(10)"
   ]
  },
  {
   "cell_type": "markdown",
   "metadata": {},
   "source": [
    "Сдвину скользящие средние и посчитаю разницу между лагом в 1 и 2 периода (для коротких скользящих), и разницу между лагами в 1 и 168 периодов для недельной скользящей. Посчитаю темп прироста скользящих."
   ]
  },
  {
   "cell_type": "code",
   "execution_count": 37,
   "metadata": {},
   "outputs": [],
   "source": [
    "h['sum_roll_4_1'] = h['sum_roll_4'].shift(1)\n",
    "h['sum_roll_4_temp'] = (h['sum_roll_4_1'] - h['sum_roll_4'].shift(2))/h['sum_roll_4_1']\n",
    "h['sum_roll_8_1'] = h['sum_roll_8'].shift(1)\n",
    "h['sum_roll_8_temp'] = (h['sum_roll_8_1'] - h['sum_roll_8'].shift(2))/h['sum_roll_8_1']\n",
    "h['sum_roll_24_1'] = h['sum_roll_24'].shift(1)\n",
    "h['sum_roll_24_temp'] = (h['sum_roll_24_1'] - h['sum_roll_24'].shift(2))/h['sum_roll_24_1']\n",
    "h['sum_roll_168_1'] = h['sum_roll_168'].shift(1)\n",
    "h['sum_roll_168_temp'] = (h['sum_roll_168_1'] - h['sum_roll_168'].shift(168))/h['sum_roll_168_1']"
   ]
  },
  {
   "cell_type": "markdown",
   "metadata": {},
   "source": [
    "Посмотрим полученные данные."
   ]
  },
  {
   "cell_type": "code",
   "execution_count": 38,
   "metadata": {
    "scrolled": true
   },
   "outputs": [
    {
     "data": {
      "text/html": [
       "<div>\n",
       "<style scoped>\n",
       "    .dataframe tbody tr th:only-of-type {\n",
       "        vertical-align: middle;\n",
       "    }\n",
       "\n",
       "    .dataframe tbody tr th {\n",
       "        vertical-align: top;\n",
       "    }\n",
       "\n",
       "    .dataframe thead th {\n",
       "        text-align: right;\n",
       "    }\n",
       "</style>\n",
       "<table border=\"1\" class=\"dataframe\">\n",
       "  <thead>\n",
       "    <tr style=\"text-align: right;\">\n",
       "      <th></th>\n",
       "      <th>sum</th>\n",
       "      <th>de_seas_168</th>\n",
       "      <th>sum_roll_4</th>\n",
       "      <th>sum_roll_8</th>\n",
       "      <th>sum_roll_24</th>\n",
       "      <th>sum_roll_168</th>\n",
       "      <th>dow</th>\n",
       "      <th>sum_roll_4_1</th>\n",
       "      <th>sum_roll_4_temp</th>\n",
       "      <th>sum_roll_8_1</th>\n",
       "      <th>sum_roll_8_temp</th>\n",
       "      <th>sum_roll_24_1</th>\n",
       "      <th>sum_roll_24_temp</th>\n",
       "      <th>sum_roll_168_1</th>\n",
       "      <th>sum_roll_168_temp</th>\n",
       "    </tr>\n",
       "    <tr>\n",
       "      <th>datetime</th>\n",
       "      <th></th>\n",
       "      <th></th>\n",
       "      <th></th>\n",
       "      <th></th>\n",
       "      <th></th>\n",
       "      <th></th>\n",
       "      <th></th>\n",
       "      <th></th>\n",
       "      <th></th>\n",
       "      <th></th>\n",
       "      <th></th>\n",
       "      <th></th>\n",
       "      <th></th>\n",
       "      <th></th>\n",
       "      <th></th>\n",
       "    </tr>\n",
       "  </thead>\n",
       "  <tbody>\n",
       "    <tr>\n",
       "      <th>2018-03-01 00:00:00</th>\n",
       "      <td>124</td>\n",
       "      <td>62.541353</td>\n",
       "      <td>NaN</td>\n",
       "      <td>NaN</td>\n",
       "      <td>NaN</td>\n",
       "      <td>NaN</td>\n",
       "      <td>3</td>\n",
       "      <td>NaN</td>\n",
       "      <td>NaN</td>\n",
       "      <td>NaN</td>\n",
       "      <td>NaN</td>\n",
       "      <td>NaN</td>\n",
       "      <td>NaN</td>\n",
       "      <td>NaN</td>\n",
       "      <td>NaN</td>\n",
       "    </tr>\n",
       "    <tr>\n",
       "      <th>2018-03-01 01:00:00</th>\n",
       "      <td>85</td>\n",
       "      <td>10.430717</td>\n",
       "      <td>NaN</td>\n",
       "      <td>NaN</td>\n",
       "      <td>NaN</td>\n",
       "      <td>NaN</td>\n",
       "      <td>3</td>\n",
       "      <td>NaN</td>\n",
       "      <td>NaN</td>\n",
       "      <td>NaN</td>\n",
       "      <td>NaN</td>\n",
       "      <td>NaN</td>\n",
       "      <td>NaN</td>\n",
       "      <td>NaN</td>\n",
       "      <td>NaN</td>\n",
       "    </tr>\n",
       "    <tr>\n",
       "      <th>2018-03-01 02:00:00</th>\n",
       "      <td>71</td>\n",
       "      <td>34.456338</td>\n",
       "      <td>NaN</td>\n",
       "      <td>NaN</td>\n",
       "      <td>NaN</td>\n",
       "      <td>NaN</td>\n",
       "      <td>3</td>\n",
       "      <td>NaN</td>\n",
       "      <td>NaN</td>\n",
       "      <td>NaN</td>\n",
       "      <td>NaN</td>\n",
       "      <td>NaN</td>\n",
       "      <td>NaN</td>\n",
       "      <td>NaN</td>\n",
       "      <td>NaN</td>\n",
       "    </tr>\n",
       "    <tr>\n",
       "      <th>2018-03-01 03:00:00</th>\n",
       "      <td>66</td>\n",
       "      <td>30.394873</td>\n",
       "      <td>86.50</td>\n",
       "      <td>NaN</td>\n",
       "      <td>NaN</td>\n",
       "      <td>NaN</td>\n",
       "      <td>3</td>\n",
       "      <td>NaN</td>\n",
       "      <td>NaN</td>\n",
       "      <td>NaN</td>\n",
       "      <td>NaN</td>\n",
       "      <td>NaN</td>\n",
       "      <td>NaN</td>\n",
       "      <td>NaN</td>\n",
       "      <td>NaN</td>\n",
       "    </tr>\n",
       "    <tr>\n",
       "      <th>2018-03-01 04:00:00</th>\n",
       "      <td>43</td>\n",
       "      <td>6.806364</td>\n",
       "      <td>66.25</td>\n",
       "      <td>NaN</td>\n",
       "      <td>NaN</td>\n",
       "      <td>NaN</td>\n",
       "      <td>3</td>\n",
       "      <td>86.50</td>\n",
       "      <td>NaN</td>\n",
       "      <td>NaN</td>\n",
       "      <td>NaN</td>\n",
       "      <td>NaN</td>\n",
       "      <td>NaN</td>\n",
       "      <td>NaN</td>\n",
       "      <td>NaN</td>\n",
       "    </tr>\n",
       "    <tr>\n",
       "      <th>...</th>\n",
       "      <td>...</td>\n",
       "      <td>...</td>\n",
       "      <td>...</td>\n",
       "      <td>...</td>\n",
       "      <td>...</td>\n",
       "      <td>...</td>\n",
       "      <td>...</td>\n",
       "      <td>...</td>\n",
       "      <td>...</td>\n",
       "      <td>...</td>\n",
       "      <td>...</td>\n",
       "      <td>...</td>\n",
       "      <td>...</td>\n",
       "      <td>...</td>\n",
       "      <td>...</td>\n",
       "    </tr>\n",
       "    <tr>\n",
       "      <th>2018-03-07 21:00:00</th>\n",
       "      <td>108</td>\n",
       "      <td>14.378310</td>\n",
       "      <td>83.25</td>\n",
       "      <td>65.125</td>\n",
       "      <td>56.166667</td>\n",
       "      <td>NaN</td>\n",
       "      <td>2</td>\n",
       "      <td>68.25</td>\n",
       "      <td>0.109890</td>\n",
       "      <td>58.500</td>\n",
       "      <td>0.089744</td>\n",
       "      <td>54.083333</td>\n",
       "      <td>-0.005393</td>\n",
       "      <td>NaN</td>\n",
       "      <td>NaN</td>\n",
       "    </tr>\n",
       "    <tr>\n",
       "      <th>2018-03-07 22:00:00</th>\n",
       "      <td>127</td>\n",
       "      <td>9.792647</td>\n",
       "      <td>90.25</td>\n",
       "      <td>75.625</td>\n",
       "      <td>58.083333</td>\n",
       "      <td>NaN</td>\n",
       "      <td>2</td>\n",
       "      <td>83.25</td>\n",
       "      <td>0.180180</td>\n",
       "      <td>65.125</td>\n",
       "      <td>0.101727</td>\n",
       "      <td>56.166667</td>\n",
       "      <td>0.037092</td>\n",
       "      <td>NaN</td>\n",
       "      <td>NaN</td>\n",
       "    </tr>\n",
       "    <tr>\n",
       "      <th>2018-03-07 23:00:00</th>\n",
       "      <td>94</td>\n",
       "      <td>26.428129</td>\n",
       "      <td>101.25</td>\n",
       "      <td>81.000</td>\n",
       "      <td>60.041667</td>\n",
       "      <td>54.226190</td>\n",
       "      <td>2</td>\n",
       "      <td>90.25</td>\n",
       "      <td>0.077562</td>\n",
       "      <td>75.625</td>\n",
       "      <td>0.138843</td>\n",
       "      <td>58.083333</td>\n",
       "      <td>0.032999</td>\n",
       "      <td>NaN</td>\n",
       "      <td>NaN</td>\n",
       "    </tr>\n",
       "    <tr>\n",
       "      <th>2018-03-08 00:00:00</th>\n",
       "      <td>143</td>\n",
       "      <td>62.541353</td>\n",
       "      <td>118.00</td>\n",
       "      <td>93.125</td>\n",
       "      <td>61.833333</td>\n",
       "      <td>54.339286</td>\n",
       "      <td>3</td>\n",
       "      <td>101.25</td>\n",
       "      <td>0.108642</td>\n",
       "      <td>81.000</td>\n",
       "      <td>0.066358</td>\n",
       "      <td>60.041667</td>\n",
       "      <td>0.032616</td>\n",
       "      <td>54.226190</td>\n",
       "      <td>NaN</td>\n",
       "    </tr>\n",
       "    <tr>\n",
       "      <th>2018-03-08 01:00:00</th>\n",
       "      <td>78</td>\n",
       "      <td>10.430717</td>\n",
       "      <td>110.50</td>\n",
       "      <td>96.875</td>\n",
       "      <td>60.041667</td>\n",
       "      <td>54.297619</td>\n",
       "      <td>3</td>\n",
       "      <td>118.00</td>\n",
       "      <td>0.141949</td>\n",
       "      <td>93.125</td>\n",
       "      <td>0.130201</td>\n",
       "      <td>61.833333</td>\n",
       "      <td>0.028976</td>\n",
       "      <td>54.339286</td>\n",
       "      <td>NaN</td>\n",
       "    </tr>\n",
       "  </tbody>\n",
       "</table>\n",
       "<p>170 rows × 15 columns</p>\n",
       "</div>"
      ],
      "text/plain": [
       "                     sum  de_seas_168  sum_roll_4  sum_roll_8  sum_roll_24  \\\n",
       "datetime                                                                     \n",
       "2018-03-01 00:00:00  124    62.541353         NaN         NaN          NaN   \n",
       "2018-03-01 01:00:00   85    10.430717         NaN         NaN          NaN   \n",
       "2018-03-01 02:00:00   71    34.456338         NaN         NaN          NaN   \n",
       "2018-03-01 03:00:00   66    30.394873       86.50         NaN          NaN   \n",
       "2018-03-01 04:00:00   43     6.806364       66.25         NaN          NaN   \n",
       "...                  ...          ...         ...         ...          ...   \n",
       "2018-03-07 21:00:00  108    14.378310       83.25      65.125    56.166667   \n",
       "2018-03-07 22:00:00  127     9.792647       90.25      75.625    58.083333   \n",
       "2018-03-07 23:00:00   94    26.428129      101.25      81.000    60.041667   \n",
       "2018-03-08 00:00:00  143    62.541353      118.00      93.125    61.833333   \n",
       "2018-03-08 01:00:00   78    10.430717      110.50      96.875    60.041667   \n",
       "\n",
       "                     sum_roll_168  dow  sum_roll_4_1  sum_roll_4_temp  \\\n",
       "datetime                                                                \n",
       "2018-03-01 00:00:00           NaN    3           NaN              NaN   \n",
       "2018-03-01 01:00:00           NaN    3           NaN              NaN   \n",
       "2018-03-01 02:00:00           NaN    3           NaN              NaN   \n",
       "2018-03-01 03:00:00           NaN    3           NaN              NaN   \n",
       "2018-03-01 04:00:00           NaN    3         86.50              NaN   \n",
       "...                           ...  ...           ...              ...   \n",
       "2018-03-07 21:00:00           NaN    2         68.25         0.109890   \n",
       "2018-03-07 22:00:00           NaN    2         83.25         0.180180   \n",
       "2018-03-07 23:00:00     54.226190    2         90.25         0.077562   \n",
       "2018-03-08 00:00:00     54.339286    3        101.25         0.108642   \n",
       "2018-03-08 01:00:00     54.297619    3        118.00         0.141949   \n",
       "\n",
       "                     sum_roll_8_1  sum_roll_8_temp  sum_roll_24_1  \\\n",
       "datetime                                                            \n",
       "2018-03-01 00:00:00           NaN              NaN            NaN   \n",
       "2018-03-01 01:00:00           NaN              NaN            NaN   \n",
       "2018-03-01 02:00:00           NaN              NaN            NaN   \n",
       "2018-03-01 03:00:00           NaN              NaN            NaN   \n",
       "2018-03-01 04:00:00           NaN              NaN            NaN   \n",
       "...                           ...              ...            ...   \n",
       "2018-03-07 21:00:00        58.500         0.089744      54.083333   \n",
       "2018-03-07 22:00:00        65.125         0.101727      56.166667   \n",
       "2018-03-07 23:00:00        75.625         0.138843      58.083333   \n",
       "2018-03-08 00:00:00        81.000         0.066358      60.041667   \n",
       "2018-03-08 01:00:00        93.125         0.130201      61.833333   \n",
       "\n",
       "                     sum_roll_24_temp  sum_roll_168_1  sum_roll_168_temp  \n",
       "datetime                                                                  \n",
       "2018-03-01 00:00:00               NaN             NaN                NaN  \n",
       "2018-03-01 01:00:00               NaN             NaN                NaN  \n",
       "2018-03-01 02:00:00               NaN             NaN                NaN  \n",
       "2018-03-01 03:00:00               NaN             NaN                NaN  \n",
       "2018-03-01 04:00:00               NaN             NaN                NaN  \n",
       "...                               ...             ...                ...  \n",
       "2018-03-07 21:00:00         -0.005393             NaN                NaN  \n",
       "2018-03-07 22:00:00          0.037092             NaN                NaN  \n",
       "2018-03-07 23:00:00          0.032999             NaN                NaN  \n",
       "2018-03-08 00:00:00          0.032616       54.226190                NaN  \n",
       "2018-03-08 01:00:00          0.028976       54.339286                NaN  \n",
       "\n",
       "[170 rows x 15 columns]"
      ]
     },
     "execution_count": 38,
     "metadata": {},
     "output_type": "execute_result"
    }
   ],
   "source": [
    "h.head(170)"
   ]
  },
  {
   "cell_type": "markdown",
   "metadata": {},
   "source": [
    "Заполню пропуски для полей сумм и скользящих средним значением за дату 2018-03-01 (можно и нулем, но почему бы и не средним значением - да, это будет такая мини-мини утечка в самом начале датасета, но, считаю, не влияющая на общий результат)\n",
    "\n",
    "Пропуски в темпах прироста заполню нулем"
   ]
  },
  {
   "cell_type": "code",
   "execution_count": 39,
   "metadata": {},
   "outputs": [],
   "source": [
    "h = h.dropna()"
   ]
  },
  {
   "cell_type": "code",
   "execution_count": 40,
   "metadata": {},
   "outputs": [],
   "source": [
    "# вычисляем среднее значение для заполнения пропусков в полях без \"_temp\"\n",
    "# fill_value = h.loc[:, ~h.columns.str.contains('_temp')].mean(axis=0)\n",
    "# заполнение пропусков\n",
    "# h = h.fillna(value={col: fill_value[col] if '_temp' not in col else 0 for col in h.columns})"
   ]
  },
  {
   "cell_type": "code",
   "execution_count": 41,
   "metadata": {},
   "outputs": [
    {
     "name": "stdout",
     "output_type": "stream",
     "text": [
      "<class 'pandas.core.frame.DataFrame'>\n",
      "DatetimeIndex: 4081 entries, 2018-03-14 23:00:00 to 2018-08-31 23:00:00\n",
      "Freq: H\n",
      "Data columns (total 15 columns):\n",
      " #   Column             Non-Null Count  Dtype  \n",
      "---  ------             --------------  -----  \n",
      " 0   sum                4081 non-null   int64  \n",
      " 1   de_seas_168        4081 non-null   float64\n",
      " 2   sum_roll_4         4081 non-null   float64\n",
      " 3   sum_roll_8         4081 non-null   float64\n",
      " 4   sum_roll_24        4081 non-null   float64\n",
      " 5   sum_roll_168       4081 non-null   float64\n",
      " 6   dow                4081 non-null   int64  \n",
      " 7   sum_roll_4_1       4081 non-null   float64\n",
      " 8   sum_roll_4_temp    4081 non-null   float64\n",
      " 9   sum_roll_8_1       4081 non-null   float64\n",
      " 10  sum_roll_8_temp    4081 non-null   float64\n",
      " 11  sum_roll_24_1      4081 non-null   float64\n",
      " 12  sum_roll_24_temp   4081 non-null   float64\n",
      " 13  sum_roll_168_1     4081 non-null   float64\n",
      " 14  sum_roll_168_temp  4081 non-null   float64\n",
      "dtypes: float64(13), int64(2)\n",
      "memory usage: 510.1 KB\n"
     ]
    }
   ],
   "source": [
    "h.info()"
   ]
  },
  {
   "cell_type": "markdown",
   "metadata": {},
   "source": [
    "Целевым признаком будет поле 'sum', его сдвигать не надо.\n",
    "Определим список полей признаков- из скользящих оставлю только 8 и 168 периодные"
   ]
  },
  {
   "cell_type": "code",
   "execution_count": 42,
   "metadata": {},
   "outputs": [],
   "source": [
    "feat_list = ['dow'\n",
    "             ,'de_seas_168'\n",
    "#              ,'sum_roll_4_1','sum_roll_4_temp'\n",
    "             ,'sum_roll_8_1','sum_roll_8_temp'\n",
    "#              ,'sum_roll_24_1','sum_roll_24_temp'\n",
    "             ,'sum_roll_168_1','sum_roll_168_temp'\n",
    "            ]"
   ]
  },
  {
   "cell_type": "code",
   "execution_count": 43,
   "metadata": {},
   "outputs": [
    {
     "data": {
      "text/html": [
       "<div>\n",
       "<style scoped>\n",
       "    .dataframe tbody tr th:only-of-type {\n",
       "        vertical-align: middle;\n",
       "    }\n",
       "\n",
       "    .dataframe tbody tr th {\n",
       "        vertical-align: top;\n",
       "    }\n",
       "\n",
       "    .dataframe thead th {\n",
       "        text-align: right;\n",
       "    }\n",
       "</style>\n",
       "<table border=\"1\" class=\"dataframe\">\n",
       "  <thead>\n",
       "    <tr style=\"text-align: right;\">\n",
       "      <th></th>\n",
       "      <th>dow</th>\n",
       "      <th>de_seas_168</th>\n",
       "      <th>sum_roll_8_1</th>\n",
       "      <th>sum_roll_8_temp</th>\n",
       "      <th>sum_roll_168_1</th>\n",
       "      <th>sum_roll_168_temp</th>\n",
       "      <th>sum</th>\n",
       "    </tr>\n",
       "    <tr>\n",
       "      <th>datetime</th>\n",
       "      <th></th>\n",
       "      <th></th>\n",
       "      <th></th>\n",
       "      <th></th>\n",
       "      <th></th>\n",
       "      <th></th>\n",
       "      <th></th>\n",
       "    </tr>\n",
       "  </thead>\n",
       "  <tbody>\n",
       "    <tr>\n",
       "      <th>2018-03-14 23:00:00</th>\n",
       "      <td>2</td>\n",
       "      <td>26.428129</td>\n",
       "      <td>64.875</td>\n",
       "      <td>0.017341</td>\n",
       "      <td>58.928571</td>\n",
       "      <td>0.079798</td>\n",
       "      <td>65</td>\n",
       "    </tr>\n",
       "    <tr>\n",
       "      <th>2018-03-15 00:00:00</th>\n",
       "      <td>3</td>\n",
       "      <td>62.541353</td>\n",
       "      <td>66.625</td>\n",
       "      <td>0.026266</td>\n",
       "      <td>58.755952</td>\n",
       "      <td>0.075170</td>\n",
       "      <td>123</td>\n",
       "    </tr>\n",
       "    <tr>\n",
       "      <th>2018-03-15 01:00:00</th>\n",
       "      <td>3</td>\n",
       "      <td>10.430717</td>\n",
       "      <td>74.625</td>\n",
       "      <td>0.107203</td>\n",
       "      <td>58.636905</td>\n",
       "      <td>0.074003</td>\n",
       "      <td>85</td>\n",
       "    </tr>\n",
       "    <tr>\n",
       "      <th>2018-03-15 02:00:00</th>\n",
       "      <td>3</td>\n",
       "      <td>34.456338</td>\n",
       "      <td>78.125</td>\n",
       "      <td>0.044800</td>\n",
       "      <td>58.678571</td>\n",
       "      <td>0.075269</td>\n",
       "      <td>55</td>\n",
       "    </tr>\n",
       "    <tr>\n",
       "      <th>2018-03-15 03:00:00</th>\n",
       "      <td>3</td>\n",
       "      <td>30.394873</td>\n",
       "      <td>76.875</td>\n",
       "      <td>-0.016260</td>\n",
       "      <td>58.619048</td>\n",
       "      <td>0.074127</td>\n",
       "      <td>42</td>\n",
       "    </tr>\n",
       "    <tr>\n",
       "      <th>...</th>\n",
       "      <td>...</td>\n",
       "      <td>...</td>\n",
       "      <td>...</td>\n",
       "      <td>...</td>\n",
       "      <td>...</td>\n",
       "      <td>...</td>\n",
       "      <td>...</td>\n",
       "    </tr>\n",
       "    <tr>\n",
       "      <th>2018-08-31 19:00:00</th>\n",
       "      <td>4</td>\n",
       "      <td>-0.949836</td>\n",
       "      <td>167.375</td>\n",
       "      <td>0.011949</td>\n",
       "      <td>154.297619</td>\n",
       "      <td>0.143585</td>\n",
       "      <td>136</td>\n",
       "    </tr>\n",
       "    <tr>\n",
       "      <th>2018-08-31 20:00:00</th>\n",
       "      <td>4</td>\n",
       "      <td>18.947350</td>\n",
       "      <td>163.500</td>\n",
       "      <td>-0.023700</td>\n",
       "      <td>154.434524</td>\n",
       "      <td>0.142301</td>\n",
       "      <td>154</td>\n",
       "    </tr>\n",
       "    <tr>\n",
       "      <th>2018-08-31 21:00:00</th>\n",
       "      <td>4</td>\n",
       "      <td>28.930846</td>\n",
       "      <td>165.750</td>\n",
       "      <td>0.013575</td>\n",
       "      <td>154.285714</td>\n",
       "      <td>0.140625</td>\n",
       "      <td>159</td>\n",
       "    </tr>\n",
       "    <tr>\n",
       "      <th>2018-08-31 22:00:00</th>\n",
       "      <td>4</td>\n",
       "      <td>59.233335</td>\n",
       "      <td>164.875</td>\n",
       "      <td>-0.005307</td>\n",
       "      <td>154.244048</td>\n",
       "      <td>0.137499</td>\n",
       "      <td>223</td>\n",
       "    </tr>\n",
       "    <tr>\n",
       "      <th>2018-08-31 23:00:00</th>\n",
       "      <td>4</td>\n",
       "      <td>31.541912</td>\n",
       "      <td>176.125</td>\n",
       "      <td>0.063875</td>\n",
       "      <td>154.130952</td>\n",
       "      <td>0.136171</td>\n",
       "      <td>205</td>\n",
       "    </tr>\n",
       "  </tbody>\n",
       "</table>\n",
       "<p>4081 rows × 7 columns</p>\n",
       "</div>"
      ],
      "text/plain": [
       "                     dow  de_seas_168  sum_roll_8_1  sum_roll_8_temp  \\\n",
       "datetime                                                               \n",
       "2018-03-14 23:00:00    2    26.428129        64.875         0.017341   \n",
       "2018-03-15 00:00:00    3    62.541353        66.625         0.026266   \n",
       "2018-03-15 01:00:00    3    10.430717        74.625         0.107203   \n",
       "2018-03-15 02:00:00    3    34.456338        78.125         0.044800   \n",
       "2018-03-15 03:00:00    3    30.394873        76.875        -0.016260   \n",
       "...                  ...          ...           ...              ...   \n",
       "2018-08-31 19:00:00    4    -0.949836       167.375         0.011949   \n",
       "2018-08-31 20:00:00    4    18.947350       163.500        -0.023700   \n",
       "2018-08-31 21:00:00    4    28.930846       165.750         0.013575   \n",
       "2018-08-31 22:00:00    4    59.233335       164.875        -0.005307   \n",
       "2018-08-31 23:00:00    4    31.541912       176.125         0.063875   \n",
       "\n",
       "                     sum_roll_168_1  sum_roll_168_temp  sum  \n",
       "datetime                                                     \n",
       "2018-03-14 23:00:00       58.928571           0.079798   65  \n",
       "2018-03-15 00:00:00       58.755952           0.075170  123  \n",
       "2018-03-15 01:00:00       58.636905           0.074003   85  \n",
       "2018-03-15 02:00:00       58.678571           0.075269   55  \n",
       "2018-03-15 03:00:00       58.619048           0.074127   42  \n",
       "...                             ...                ...  ...  \n",
       "2018-08-31 19:00:00      154.297619           0.143585  136  \n",
       "2018-08-31 20:00:00      154.434524           0.142301  154  \n",
       "2018-08-31 21:00:00      154.285714           0.140625  159  \n",
       "2018-08-31 22:00:00      154.244048           0.137499  223  \n",
       "2018-08-31 23:00:00      154.130952           0.136171  205  \n",
       "\n",
       "[4081 rows x 7 columns]"
      ]
     },
     "execution_count": 43,
     "metadata": {},
     "output_type": "execute_result"
    }
   ],
   "source": [
    "h[feat_list+['sum']]"
   ]
  },
  {
   "cell_type": "markdown",
   "metadata": {},
   "source": [
    "## Обучение"
   ]
  },
  {
   "cell_type": "markdown",
   "metadata": {},
   "source": [
    "Буду обучать 3 модели. Создам датафрейм для записи итоговых данных по моделям"
   ]
  },
  {
   "cell_type": "code",
   "execution_count": 44,
   "metadata": {},
   "outputs": [],
   "source": [
    "models = ['Ridge','Random Forest','Light GBM']\n",
    "model_results = pd.DataFrame(columns=['rmse_train','time_train','rmse_test','time_test'],\n",
    "                             index=models,dtype=float)"
   ]
  },
  {
   "cell_type": "code",
   "execution_count": 45,
   "metadata": {},
   "outputs": [],
   "source": [
    "train, test = train_test_split(h[feat_list+['sum']],shuffle=False,test_size=0.1)"
   ]
  },
  {
   "cell_type": "code",
   "execution_count": 46,
   "metadata": {},
   "outputs": [],
   "source": [
    "features_train = train[feat_list]\n",
    "target_train = train['sum']\n",
    "features_test = test[feat_list]\n",
    "target_test = test['sum']"
   ]
  },
  {
   "cell_type": "markdown",
   "metadata": {},
   "source": [
    "Создам функцию для рандомного поиска гиперпараметров"
   ]
  },
  {
   "cell_type": "code",
   "execution_count": 47,
   "metadata": {},
   "outputs": [],
   "source": [
    "def f_random_cv(model,grid,CV,score,features,target):\n",
    "    random_cv = RandomizedSearchCV(estimator=model,\n",
    "        param_distributions=grid,\n",
    "        cv=CV, \n",
    "        scoring = score,\n",
    "        n_jobs = -1,\n",
    "        random_state=STATE)\n",
    "    random_cv.fit(features, target)\n",
    "    return random_cv"
   ]
  },
  {
   "cell_type": "code",
   "execution_count": 48,
   "metadata": {},
   "outputs": [],
   "source": [
    "# для все моделей - метрика RMSE\n",
    "scoring = 'neg_root_mean_squared_error'\n",
    "# буду использовать кросс-валидацию, которая учитывает порядок временных рядов \n",
    "tscv = TimeSeriesSplit(n_splits=8)\n",
    "CV = tscv"
   ]
  },
  {
   "cell_type": "markdown",
   "metadata": {},
   "source": [
    "### Линейная ридж-регрессия"
   ]
  },
  {
   "cell_type": "code",
   "execution_count": 49,
   "metadata": {},
   "outputs": [
    {
     "name": "stderr",
     "output_type": "stream",
     "text": [
      "100%|██████████| 1/1 [00:00<00:00,  3.57it/s]\n"
     ]
    }
   ],
   "source": [
    "# Определяем модель Ridge\n",
    "model_ridge = Ridge()\n",
    "# Определяем диапазон параметра alpha\n",
    "grid = {'alpha': [0.01, 0.1, 1, 10, 100]}\n",
    "\n",
    "# Подбираем лучшие гиперпараметры - расчет около 30сек\n",
    "for i in tqdm.tqdm(range(1)): # применил цикл с одной итерацией для запуска статус бара tqdm\n",
    "    random_cv_ridge = f_random_cv(model_ridge,grid,CV,scoring,features_train,target_train)"
   ]
  },
  {
   "cell_type": "code",
   "execution_count": 50,
   "metadata": {},
   "outputs": [
    {
     "name": "stdout",
     "output_type": "stream",
     "text": [
      "Best params:  {'alpha': 0.1}\n",
      "Best score:  21.590958898062098\n"
     ]
    }
   ],
   "source": [
    "# лучшие гиперпараметры и значение метрики\n",
    "print(\"Best params: \", random_cv_ridge.best_params_)\n",
    "print(\"Best score: \", -1*random_cv_ridge.best_score_)"
   ]
  },
  {
   "cell_type": "code",
   "execution_count": 51,
   "metadata": {},
   "outputs": [],
   "source": [
    "mean_fit_time = random_cv_ridge.cv_results_['mean_fit_time']\n",
    "total_time = np.sum(mean_fit_time)\n",
    "\n",
    "model_results.loc['Ridge',['rmse_train','time_train','rmse_test','time_test']]=\\\n",
    "[-1*random_cv_ridge.best_score_,total_time,'n/a','n/a']"
   ]
  },
  {
   "cell_type": "markdown",
   "metadata": {},
   "source": [
    "### Случайный лес"
   ]
  },
  {
   "cell_type": "code",
   "execution_count": 52,
   "metadata": {},
   "outputs": [],
   "source": [
    "# Определим списки значений гиперпараметров, которые будут использоваться в поиске\n",
    "n_estimators_list = [int(x) for x in range(20, 200, 10)]\n",
    "max_depth_list = [int(x) for x in range(1, 30, 3)]\n",
    "# min_samples_split_list = [int(x) for x in range(2,40,4)]\n",
    "# min_samples_leaf_list =  [int(x) for x in range(1,20,4)]"
   ]
  },
  {
   "cell_type": "code",
   "execution_count": 53,
   "metadata": {},
   "outputs": [],
   "source": [
    "# Создадим сетку гиперпараметров\n",
    "grid = {'n_estimators' : n_estimators_list,\n",
    "       'max_depth': max_depth_list\n",
    "#        ,'min_samples_split': min_samples_split_list\n",
    "#        ,'min_samples_leaf' : min_samples_leaf_list\n",
    "       }"
   ]
  },
  {
   "cell_type": "code",
   "execution_count": 54,
   "metadata": {},
   "outputs": [],
   "source": [
    "# инициализируем модель. Все параметры - по умолчанию\n",
    "model_rfr = RandomForestRegressor(random_state=STATE)"
   ]
  },
  {
   "cell_type": "code",
   "execution_count": 55,
   "metadata": {},
   "outputs": [
    {
     "name": "stderr",
     "output_type": "stream",
     "text": [
      "100%|██████████| 1/1 [01:17<00:00, 77.84s/it]\n"
     ]
    }
   ],
   "source": [
    "# \n",
    "for i in tqdm.tqdm(range(1)): # применил цикл с одной итерацией для запуска статус бара tqdm\n",
    "    random_cv_rfr = f_random_cv(model_rfr,grid,CV,scoring,features_train,target_train)"
   ]
  },
  {
   "cell_type": "code",
   "execution_count": 56,
   "metadata": {},
   "outputs": [
    {
     "name": "stdout",
     "output_type": "stream",
     "text": [
      "Best params:  {'n_estimators': 160, 'max_depth': 22}\n",
      "Best score:  23.069996106835404\n"
     ]
    }
   ],
   "source": [
    "# лучшие гиперпараметры и значение метрики\n",
    "print(\"Best params: \", random_cv_rfr.best_params_)\n",
    "print(\"Best score: \", -1*random_cv_rfr.best_score_)"
   ]
  },
  {
   "cell_type": "code",
   "execution_count": 57,
   "metadata": {},
   "outputs": [],
   "source": [
    "mean_fit_time = random_cv_rfr.cv_results_['mean_fit_time']\n",
    "total_time = np.sum(mean_fit_time)\n",
    "\n",
    "model_results.loc['Random Forest',['rmse_train','time_train','rmse_test','time_test']]=\\\n",
    "[-1*random_cv_rfr.best_score_,total_time,'n/a','n/a']"
   ]
  },
  {
   "cell_type": "markdown",
   "metadata": {},
   "source": [
    "### Light GBM"
   ]
  },
  {
   "cell_type": "code",
   "execution_count": 58,
   "metadata": {},
   "outputs": [],
   "source": [
    "# инициализируем модель\n",
    "model_lgb = lgb.LGBMRegressor()"
   ]
  },
  {
   "cell_type": "code",
   "execution_count": 59,
   "metadata": {},
   "outputs": [],
   "source": [
    "# установим сетку гиперпараметров\n",
    "grid = {\n",
    "    'num_leaves': [\n",
    "#         10, 20, 30, 40, \n",
    "        50]\n",
    "    ,'learning_rate': [\n",
    "#         0.01, \n",
    "        0.05\n",
    "#         , 0.1, 0.5\n",
    "    ]\n",
    "    ,'max_depth': [-1\n",
    "#                    , 5, 10, 20\n",
    "                  ]\n",
    "}"
   ]
  },
  {
   "cell_type": "code",
   "execution_count": 60,
   "metadata": {},
   "outputs": [
    {
     "name": "stderr",
     "output_type": "stream",
     "text": [
      "100%|██████████| 1/1 [00:10<00:00, 10.34s/it]\n"
     ]
    }
   ],
   "source": [
    "# Обучим модель на исходных данных - расчет около 30 сек\n",
    "for i in tqdm.tqdm(range(1)): # применил цикл с одной итерацией для запуска статус бара tqdm\n",
    "    random_cv_lgb = f_random_cv(model_lgb,grid,CV,scoring,features_train,target_train)"
   ]
  },
  {
   "cell_type": "code",
   "execution_count": 61,
   "metadata": {},
   "outputs": [
    {
     "name": "stdout",
     "output_type": "stream",
     "text": [
      "Best params:  {'num_leaves': 50, 'max_depth': -1, 'learning_rate': 0.05}\n",
      "Best score:  23.411667819134347\n"
     ]
    }
   ],
   "source": [
    "# Выводим лучшие гиперпараметры и значение метрики\n",
    "print(\"Best params: \", random_cv_lgb.best_params_)\n",
    "print(\"Best score: \", -1*random_cv_lgb.best_score_)"
   ]
  },
  {
   "cell_type": "code",
   "execution_count": 62,
   "metadata": {},
   "outputs": [
    {
     "data": {
      "text/html": [
       "<div>\n",
       "<style scoped>\n",
       "    .dataframe tbody tr th:only-of-type {\n",
       "        vertical-align: middle;\n",
       "    }\n",
       "\n",
       "    .dataframe tbody tr th {\n",
       "        vertical-align: top;\n",
       "    }\n",
       "\n",
       "    .dataframe thead th {\n",
       "        text-align: right;\n",
       "    }\n",
       "</style>\n",
       "<table border=\"1\" class=\"dataframe\">\n",
       "  <thead>\n",
       "    <tr style=\"text-align: right;\">\n",
       "      <th></th>\n",
       "      <th>rmse_train</th>\n",
       "      <th>time_train</th>\n",
       "      <th>rmse_test</th>\n",
       "      <th>time_test</th>\n",
       "    </tr>\n",
       "  </thead>\n",
       "  <tbody>\n",
       "    <tr>\n",
       "      <th>Ridge</th>\n",
       "      <td>21.590959</td>\n",
       "      <td>0.024949</td>\n",
       "      <td>n/a</td>\n",
       "      <td>n/a</td>\n",
       "    </tr>\n",
       "    <tr>\n",
       "      <th>Random Forest</th>\n",
       "      <td>23.069996</td>\n",
       "      <td>9.276432</td>\n",
       "      <td>n/a</td>\n",
       "      <td>n/a</td>\n",
       "    </tr>\n",
       "    <tr>\n",
       "      <th>Light GBM</th>\n",
       "      <td>23.411668</td>\n",
       "      <td>1.140356</td>\n",
       "      <td>n/a</td>\n",
       "      <td>n/a</td>\n",
       "    </tr>\n",
       "  </tbody>\n",
       "</table>\n",
       "</div>"
      ],
      "text/plain": [
       "               rmse_train  time_train rmse_test time_test\n",
       "Ridge           21.590959    0.024949       n/a       n/a\n",
       "Random Forest   23.069996    9.276432       n/a       n/a\n",
       "Light GBM       23.411668    1.140356       n/a       n/a"
      ]
     },
     "execution_count": 62,
     "metadata": {},
     "output_type": "execute_result"
    }
   ],
   "source": [
    "mean_fit_time = random_cv_lgb.cv_results_['mean_fit_time']\n",
    "total_time = np.sum(mean_fit_time)\n",
    "\n",
    "model_results.loc['Light GBM',['rmse_train','time_train','rmse_test','time_test']]=\\\n",
    "[-1*random_cv_lgb.best_score_,total_time,'n/a','n/a']\n",
    "model_results"
   ]
  },
  {
   "cell_type": "markdown",
   "metadata": {},
   "source": [
    "Лучше других выглядит ридж-регрессия."
   ]
  },
  {
   "cell_type": "markdown",
   "metadata": {},
   "source": [
    "## Тестирование"
   ]
  },
  {
   "cell_type": "code",
   "execution_count": 63,
   "metadata": {},
   "outputs": [
    {
     "data": {
      "text/html": [
       "<div>\n",
       "<style scoped>\n",
       "    .dataframe tbody tr th:only-of-type {\n",
       "        vertical-align: middle;\n",
       "    }\n",
       "\n",
       "    .dataframe tbody tr th {\n",
       "        vertical-align: top;\n",
       "    }\n",
       "\n",
       "    .dataframe thead th {\n",
       "        text-align: right;\n",
       "    }\n",
       "</style>\n",
       "<table border=\"1\" class=\"dataframe\">\n",
       "  <thead>\n",
       "    <tr style=\"text-align: right;\">\n",
       "      <th></th>\n",
       "      <th>rmse_train</th>\n",
       "      <th>time_train</th>\n",
       "      <th>rmse_test</th>\n",
       "      <th>time_test</th>\n",
       "    </tr>\n",
       "  </thead>\n",
       "  <tbody>\n",
       "    <tr>\n",
       "      <th>Ridge</th>\n",
       "      <td>21.591</td>\n",
       "      <td>0.025</td>\n",
       "      <td>40.902</td>\n",
       "      <td>0.001959</td>\n",
       "    </tr>\n",
       "    <tr>\n",
       "      <th>Random Forest</th>\n",
       "      <td>23.070</td>\n",
       "      <td>9.276</td>\n",
       "      <td>n/a</td>\n",
       "      <td>n/a</td>\n",
       "    </tr>\n",
       "    <tr>\n",
       "      <th>Light GBM</th>\n",
       "      <td>23.412</td>\n",
       "      <td>1.140</td>\n",
       "      <td>n/a</td>\n",
       "      <td>n/a</td>\n",
       "    </tr>\n",
       "  </tbody>\n",
       "</table>\n",
       "</div>"
      ],
      "text/plain": [
       "               rmse_train  time_train rmse_test time_test\n",
       "Ridge              21.591       0.025    40.902  0.001959\n",
       "Random Forest      23.070       9.276       n/a       n/a\n",
       "Light GBM          23.412       1.140       n/a       n/a"
      ]
     },
     "execution_count": 63,
     "metadata": {},
     "output_type": "execute_result"
    }
   ],
   "source": [
    "best_ridge = random_cv_ridge.best_estimator_\n",
    "start = time.time()\n",
    "pred_ridge = best_ridge.predict(features_test)\n",
    "end = time.time()\n",
    "best_ridge_pred_time = end-start\n",
    "best_ridge_rmse = mean_squared_error(target_test, pred_ridge, squared=False)\n",
    "model_results.loc['Ridge',['rmse_test','time_test']]=\\\n",
    "[round(best_ridge_rmse,3),round(best_ridge_pred_time,6)]\n",
    "model_results.round(3)"
   ]
  },
  {
   "cell_type": "markdown",
   "metadata": {},
   "source": [
    "# Выводы"
   ]
  },
  {
   "cell_type": "markdown",
   "metadata": {},
   "source": [
    "Для рабочей модели мне понадобились всего 4 признака. При этом, теоретически, качество можно еще улучшить, конструируя другие признаки:\n",
    "\n",
    "- выявление пиков данных (разных по уровню)\n",
    "- амплитуда между пиками\n",
    "- темпы прироста между пиками"
   ]
  },
  {
   "cell_type": "markdown",
   "metadata": {},
   "source": [
    "Посмотрим график предсказания и факта"
   ]
  },
  {
   "cell_type": "code",
   "execution_count": 186,
   "metadata": {},
   "outputs": [],
   "source": [
    "def paint_test_pred(start_date,end_date):\n",
    "    target_subset = target_test.loc[start_date:end_date]\n",
    "    pred_subset = best_ridge.predict(features_test.loc[start_date:end_date])\n",
    "    plt.plot(target_subset.index, target_subset, label='Реальные данные')\n",
    "    plt.plot(target_subset.index, pred_subset, label='Предсказания')\n",
    "    plt.xticks(rotation=90,fontsize=8)\n",
    "    plt.legend()\n",
    "    plt.show()"
   ]
  },
  {
   "cell_type": "code",
   "execution_count": 187,
   "metadata": {},
   "outputs": [
    {
     "name": "stdout",
     "output_type": "stream",
     "text": [
      "начало тестовой выборки: 2018-08-14 23:00:00  / конец теста: 2018-08-31 23:00:00\n"
     ]
    }
   ],
   "source": [
    "test_begin = test.index.min()\n",
    "test_end   = test.index.max()\n",
    "print('начало тестовой выборки:',test_begin,' / конец теста:',test_end)"
   ]
  },
  {
   "cell_type": "code",
   "execution_count": 188,
   "metadata": {},
   "outputs": [
    {
     "data": {
      "image/png": "[encoded data removed]",
      "text/plain": [
       "<Figure size 640x480 with 1 Axes>"
      ]
     },
     "metadata": {},
     "output_type": "display_data"
    }
   ],
   "source": [
    "paint_test_pred('2018-08-15','2018-08-22')"
   ]
  },
  {
   "cell_type": "markdown",
   "metadata": {},
   "source": [
    "Модель \"правильно попадает в ритм, но не вытягивает ноты\". Имеем более сглаженные данные. Соответственно, для пиковых часов, машин может не хватать."
   ]
  }
 ],
 "metadata": {
  "ExecuteTimeLog": [
   {
    "duration": 2627,
    "start_time": "2023-05-07T06:40:54.968Z"
   },
   {
    "duration": 3,
    "start_time": "2023-05-07T06:40:57.596Z"
   },
   {
    "duration": 167,
    "start_time": "2023-05-07T06:40:57.600Z"
   },
   {
    "duration": 12,
    "start_time": "2023-05-07T06:43:08.166Z"
   },
   {
    "duration": 10,
    "start_time": "2023-05-07T06:43:09.551Z"
   },
   {
    "duration": 4,
    "start_time": "2023-05-07T06:43:10.003Z"
   },
   {
    "duration": 11,
    "start_time": "2023-05-07T06:43:10.601Z"
   },
   {
    "duration": 15,
    "start_time": "2023-05-07T06:43:11.797Z"
   },
   {
    "duration": 5,
    "start_time": "2023-05-07T06:43:12.521Z"
   },
   {
    "duration": 186,
    "start_time": "2023-05-07T06:43:13.846Z"
   },
   {
    "duration": 107,
    "start_time": "2023-05-07T06:43:15.016Z"
   },
   {
    "duration": 10,
    "start_time": "2023-05-07T06:43:15.205Z"
   },
   {
    "duration": 10,
    "start_time": "2023-05-07T06:43:16.184Z"
   },
   {
    "duration": 5,
    "start_time": "2023-05-07T06:45:22.453Z"
   },
   {
    "duration": 6,
    "start_time": "2023-05-07T06:45:23.096Z"
   },
   {
    "duration": 3,
    "start_time": "2023-05-07T06:45:24.376Z"
   },
   {
    "duration": 1633,
    "start_time": "2023-05-07T06:45:25.198Z"
   },
   {
    "duration": 8,
    "start_time": "2023-05-07T06:45:47.855Z"
   },
   {
    "duration": 312,
    "start_time": "2023-05-07T06:45:48.873Z"
   },
   {
    "duration": 4,
    "start_time": "2023-05-07T06:45:50.852Z"
   },
   {
    "duration": 6,
    "start_time": "2023-05-07T06:45:51.050Z"
   },
   {
    "duration": 3,
    "start_time": "2023-05-07T06:45:52.017Z"
   },
   {
    "duration": 1079,
    "start_time": "2023-05-07T06:45:52.581Z"
   },
   {
    "duration": 1213,
    "start_time": "2023-05-07T06:45:53.662Z"
   },
   {
    "duration": 1083,
    "start_time": "2023-05-07T06:45:54.877Z"
   },
   {
    "duration": 71,
    "start_time": "2023-05-07T06:45:55.962Z"
   },
   {
    "duration": 10,
    "start_time": "2023-05-07T06:45:57.851Z"
   },
   {
    "duration": 14,
    "start_time": "2023-05-07T06:45:58.976Z"
   },
   {
    "duration": 243,
    "start_time": "2023-05-07T06:46:00.627Z"
   },
   {
    "duration": 350,
    "start_time": "2023-05-07T06:46:05.968Z"
   },
   {
    "duration": 10,
    "start_time": "2023-05-07T06:46:06.953Z"
   },
   {
    "duration": 6,
    "start_time": "2023-05-07T06:46:09.146Z"
   },
   {
    "duration": 19,
    "start_time": "2023-05-07T06:46:10.601Z"
   },
   {
    "duration": 181,
    "start_time": "2023-05-07T06:46:11.204Z"
   },
   {
    "duration": 153,
    "start_time": "2023-05-07T06:46:12.472Z"
   },
   {
    "duration": 4,
    "start_time": "2023-05-07T06:46:13.548Z"
   },
   {
    "duration": 15,
    "start_time": "2023-05-07T06:46:14.000Z"
   },
   {
    "duration": 12,
    "start_time": "2023-05-07T06:46:14.497Z"
   },
   {
    "duration": 13,
    "start_time": "2023-05-07T06:46:15.799Z"
   },
   {
    "duration": 24,
    "start_time": "2023-05-07T06:46:16.511Z"
   },
   {
    "duration": 11,
    "start_time": "2023-05-07T06:46:17.766Z"
   },
   {
    "duration": 12,
    "start_time": "2023-05-07T06:46:17.980Z"
   },
   {
    "duration": 2,
    "start_time": "2023-05-07T06:46:18.510Z"
   },
   {
    "duration": 16,
    "start_time": "2023-05-07T06:46:40.689Z"
   },
   {
    "duration": 5,
    "start_time": "2023-05-07T06:47:04.081Z"
   },
   {
    "duration": 5,
    "start_time": "2023-05-07T06:47:04.635Z"
   },
   {
    "duration": 5,
    "start_time": "2023-05-07T06:47:05.125Z"
   },
   {
    "duration": 3,
    "start_time": "2023-05-07T06:47:06.203Z"
   },
   {
    "duration": 3,
    "start_time": "2023-05-07T06:47:12.757Z"
   },
   {
    "duration": 188,
    "start_time": "2023-05-07T06:47:45.998Z"
   },
   {
    "duration": 5,
    "start_time": "2023-05-07T06:47:46.742Z"
   },
   {
    "duration": 6,
    "start_time": "2023-05-07T06:47:47.246Z"
   },
   {
    "duration": 4,
    "start_time": "2023-05-07T06:47:56.103Z"
   },
   {
    "duration": 3,
    "start_time": "2023-05-07T06:47:56.831Z"
   },
   {
    "duration": 5,
    "start_time": "2023-05-07T06:47:58.233Z"
   },
   {
    "duration": 34296,
    "start_time": "2023-05-07T06:47:58.692Z"
   },
   {
    "duration": 4,
    "start_time": "2023-05-07T06:48:32.991Z"
   },
   {
    "duration": 22,
    "start_time": "2023-05-07T06:48:32.997Z"
   },
   {
    "duration": 3,
    "start_time": "2023-05-07T06:49:14.888Z"
   },
   {
    "duration": 3,
    "start_time": "2023-05-07T06:49:15.287Z"
   },
   {
    "duration": 30139,
    "start_time": "2023-05-07T06:49:15.661Z"
   },
   {
    "duration": 4,
    "start_time": "2023-05-07T06:49:45.802Z"
   },
   {
    "duration": 11,
    "start_time": "2023-05-07T06:49:45.884Z"
   },
   {
    "duration": 15,
    "start_time": "2023-05-07T06:50:04.398Z"
   },
   {
    "duration": 1842,
    "start_time": "2023-05-07T09:54:42.489Z"
   },
   {
    "duration": 7,
    "start_time": "2023-05-07T09:54:44.335Z"
   },
   {
    "duration": 216,
    "start_time": "2023-05-07T09:54:45.397Z"
   },
   {
    "duration": 17,
    "start_time": "2023-05-07T09:54:47.966Z"
   },
   {
    "duration": 20,
    "start_time": "2023-05-07T09:54:49.757Z"
   },
   {
    "duration": 8,
    "start_time": "2023-05-07T09:54:50.174Z"
   },
   {
    "duration": 19,
    "start_time": "2023-05-07T09:54:51.089Z"
   },
   {
    "duration": 21,
    "start_time": "2023-05-07T09:54:53.006Z"
   },
   {
    "duration": 11,
    "start_time": "2023-05-07T09:54:55.088Z"
   },
   {
    "duration": 277,
    "start_time": "2023-05-07T09:55:05.219Z"
   },
   {
    "duration": 5,
    "start_time": "2023-05-07T09:55:07.524Z"
   },
   {
    "duration": 173,
    "start_time": "2023-05-07T09:55:09.367Z"
   },
   {
    "duration": 6,
    "start_time": "2023-05-07T09:55:11.683Z"
   },
   {
    "duration": 13,
    "start_time": "2023-05-07T09:57:08.725Z"
   },
   {
    "duration": 326,
    "start_time": "2023-05-07T09:57:09.900Z"
   },
   {
    "duration": 5,
    "start_time": "2023-05-07T09:57:13.787Z"
   },
   {
    "duration": 8,
    "start_time": "2023-05-07T09:57:14.578Z"
   },
   {
    "duration": 3,
    "start_time": "2023-05-07T09:57:15.688Z"
   },
   {
    "duration": 1194,
    "start_time": "2023-05-07T09:57:15.997Z"
   },
   {
    "duration": 1242,
    "start_time": "2023-05-07T09:57:17.565Z"
   },
   {
    "duration": 1033,
    "start_time": "2023-05-07T09:57:18.809Z"
   },
   {
    "duration": 72,
    "start_time": "2023-05-07T09:57:20.286Z"
   },
   {
    "duration": 13,
    "start_time": "2023-05-07T09:57:21.098Z"
   },
   {
    "duration": 20,
    "start_time": "2023-05-07T09:57:22.771Z"
   },
   {
    "duration": 231,
    "start_time": "2023-05-07T09:57:23.886Z"
   },
   {
    "duration": 6,
    "start_time": "2023-05-07T10:47:15.814Z"
   },
   {
    "duration": 3,
    "start_time": "2023-05-07T10:47:16.825Z"
   },
   {
    "duration": 112,
    "start_time": "2023-05-07T10:47:19.701Z"
   },
   {
    "duration": 14,
    "start_time": "2023-05-07T10:47:22.401Z"
   },
   {
    "duration": 13,
    "start_time": "2023-05-07T10:47:24.565Z"
   },
   {
    "duration": 4,
    "start_time": "2023-05-07T10:47:24.982Z"
   },
   {
    "duration": 8,
    "start_time": "2023-05-07T10:47:26.695Z"
   },
   {
    "duration": 15,
    "start_time": "2023-05-07T10:47:33.570Z"
   },
   {
    "duration": 7,
    "start_time": "2023-05-07T10:47:39.614Z"
   },
   {
    "duration": 148,
    "start_time": "2023-05-07T10:48:30.722Z"
   },
   {
    "duration": 21,
    "start_time": "2023-05-07T10:48:57.963Z"
   },
   {
    "duration": 8,
    "start_time": "2023-05-07T10:49:15.368Z"
   },
   {
    "duration": 5,
    "start_time": "2023-05-07T10:49:19.097Z"
   },
   {
    "duration": 253,
    "start_time": "2023-05-07T10:49:46.465Z"
   },
   {
    "duration": 5,
    "start_time": "2023-05-07T10:49:58.814Z"
   },
   {
    "duration": 243,
    "start_time": "2023-05-07T10:50:05.183Z"
   },
   {
    "duration": 9,
    "start_time": "2023-05-07T10:50:16.735Z"
   },
   {
    "duration": 5,
    "start_time": "2023-05-07T10:50:56.959Z"
   },
   {
    "duration": 16,
    "start_time": "2023-05-07T10:50:56.966Z"
   },
   {
    "duration": 79,
    "start_time": "2023-05-07T10:50:56.984Z"
   },
   {
    "duration": 16,
    "start_time": "2023-05-07T10:50:57.071Z"
   },
   {
    "duration": 23,
    "start_time": "2023-05-07T10:50:57.089Z"
   },
   {
    "duration": 4,
    "start_time": "2023-05-07T10:50:57.115Z"
   },
   {
    "duration": 16,
    "start_time": "2023-05-07T10:50:57.121Z"
   },
   {
    "duration": 52,
    "start_time": "2023-05-07T10:50:57.138Z"
   },
   {
    "duration": 6,
    "start_time": "2023-05-07T10:50:57.192Z"
   },
   {
    "duration": 5,
    "start_time": "2023-05-07T10:50:57.200Z"
   },
   {
    "duration": 240,
    "start_time": "2023-05-07T10:50:57.207Z"
   },
   {
    "duration": 5,
    "start_time": "2023-05-07T10:50:57.452Z"
   },
   {
    "duration": 178,
    "start_time": "2023-05-07T10:50:57.460Z"
   },
   {
    "duration": 11,
    "start_time": "2023-05-07T10:50:57.645Z"
   },
   {
    "duration": 57,
    "start_time": "2023-05-07T10:53:10.552Z"
   },
   {
    "duration": 14,
    "start_time": "2023-05-07T10:53:13.827Z"
   },
   {
    "duration": 22,
    "start_time": "2023-05-07T10:53:30.483Z"
   },
   {
    "duration": 225,
    "start_time": "2023-05-07T10:53:31.762Z"
   },
   {
    "duration": 246,
    "start_time": "2023-05-07T10:56:18.657Z"
   },
   {
    "duration": 16,
    "start_time": "2023-05-07T10:56:21.523Z"
   },
   {
    "duration": 9,
    "start_time": "2023-05-07T10:56:45.814Z"
   },
   {
    "duration": 11,
    "start_time": "2023-05-07T10:56:58.559Z"
   },
   {
    "duration": 30,
    "start_time": "2023-05-07T10:57:01.081Z"
   },
   {
    "duration": 201,
    "start_time": "2023-05-07T10:57:04.672Z"
   },
   {
    "duration": 6,
    "start_time": "2023-05-07T10:57:55.395Z"
   },
   {
    "duration": 4,
    "start_time": "2023-05-07T10:58:05.214Z"
   },
   {
    "duration": 13,
    "start_time": "2023-05-07T10:58:20.563Z"
   },
   {
    "duration": 299,
    "start_time": "2023-05-07T10:58:37.425Z"
   },
   {
    "duration": 7,
    "start_time": "2023-05-07T10:58:44.564Z"
   },
   {
    "duration": 140,
    "start_time": "2023-05-07T10:58:52.620Z"
   },
   {
    "duration": 3,
    "start_time": "2023-05-07T10:58:53.927Z"
   },
   {
    "duration": 1337,
    "start_time": "2023-05-07T10:58:55.086Z"
   },
   {
    "duration": 1278,
    "start_time": "2023-05-07T10:59:03.817Z"
   },
   {
    "duration": 1076,
    "start_time": "2023-05-07T10:59:05.662Z"
   },
   {
    "duration": 260,
    "start_time": "2023-05-07T10:59:41.579Z"
   },
   {
    "duration": 262,
    "start_time": "2023-05-07T10:59:47.892Z"
   },
   {
    "duration": 21,
    "start_time": "2023-05-07T11:00:21.993Z"
   },
   {
    "duration": 36,
    "start_time": "2023-05-07T11:00:37.314Z"
   },
   {
    "duration": 24,
    "start_time": "2023-05-07T11:00:39.762Z"
   },
   {
    "duration": 23,
    "start_time": "2023-05-07T11:00:45.553Z"
   },
   {
    "duration": 39,
    "start_time": "2023-05-07T11:00:47.066Z"
   },
   {
    "duration": 29,
    "start_time": "2023-05-07T11:03:26.778Z"
   },
   {
    "duration": 8,
    "start_time": "2023-05-07T11:03:35.461Z"
   },
   {
    "duration": 2,
    "start_time": "2023-05-07T11:03:41.326Z"
   },
   {
    "duration": 14,
    "start_time": "2023-05-07T11:03:43.777Z"
   },
   {
    "duration": 4,
    "start_time": "2023-05-07T11:03:52.163Z"
   },
   {
    "duration": 19,
    "start_time": "2023-05-07T11:04:04.364Z"
   },
   {
    "duration": 5,
    "start_time": "2023-05-07T11:05:21.605Z"
   },
   {
    "duration": 7,
    "start_time": "2023-05-07T11:05:22.504Z"
   },
   {
    "duration": 5,
    "start_time": "2023-05-07T11:05:22.978Z"
   },
   {
    "duration": 4,
    "start_time": "2023-05-07T11:05:24.998Z"
   },
   {
    "duration": 18,
    "start_time": "2023-05-07T11:05:26.550Z"
   },
   {
    "duration": 5,
    "start_time": "2023-05-07T11:05:45.162Z"
   },
   {
    "duration": 411,
    "start_time": "2023-05-07T11:05:48.954Z"
   },
   {
    "duration": 7,
    "start_time": "2023-05-07T11:05:51.063Z"
   },
   {
    "duration": 6,
    "start_time": "2023-05-07T11:05:53.720Z"
   },
   {
    "duration": 4,
    "start_time": "2023-05-07T11:05:59.019Z"
   },
   {
    "duration": 4,
    "start_time": "2023-05-07T11:06:01.059Z"
   },
   {
    "duration": 3,
    "start_time": "2023-05-07T11:06:02.586Z"
   },
   {
    "duration": 69989,
    "start_time": "2023-05-07T11:06:03.415Z"
   },
   {
    "duration": 7,
    "start_time": "2023-05-07T11:07:19.144Z"
   },
   {
    "duration": 5,
    "start_time": "2023-05-07T11:07:20.780Z"
   },
   {
    "duration": 3,
    "start_time": "2023-05-07T11:07:24.806Z"
   },
   {
    "duration": 4,
    "start_time": "2023-05-07T11:07:26.866Z"
   },
   {
    "duration": 1389,
    "start_time": "2023-05-07T11:28:26.058Z"
   },
   {
    "duration": 3,
    "start_time": "2023-05-07T11:28:27.449Z"
   },
   {
    "duration": 67,
    "start_time": "2023-05-07T11:28:29.458Z"
   },
   {
    "duration": 13,
    "start_time": "2023-05-07T11:28:30.994Z"
   },
   {
    "duration": 23,
    "start_time": "2023-05-07T11:28:33.538Z"
   },
   {
    "duration": 4,
    "start_time": "2023-05-07T11:28:34.315Z"
   },
   {
    "duration": 9,
    "start_time": "2023-05-07T11:28:35.476Z"
   },
   {
    "duration": 17,
    "start_time": "2023-05-07T11:28:37.062Z"
   },
   {
    "duration": 6,
    "start_time": "2023-05-07T11:28:40.063Z"
   },
   {
    "duration": 4,
    "start_time": "2023-05-07T11:28:43.021Z"
   },
   {
    "duration": 204,
    "start_time": "2023-05-07T11:28:43.786Z"
   },
   {
    "duration": 6,
    "start_time": "2023-05-07T11:28:47.282Z"
   },
   {
    "duration": 152,
    "start_time": "2023-05-07T11:28:47.763Z"
   },
   {
    "duration": 5,
    "start_time": "2023-05-07T11:28:50.574Z"
   },
   {
    "duration": 71,
    "start_time": "2023-05-07T11:28:59.961Z"
   },
   {
    "duration": 15,
    "start_time": "2023-05-07T11:29:04.667Z"
   },
   {
    "duration": 18,
    "start_time": "2023-05-07T11:29:07.262Z"
   },
   {
    "duration": 220,
    "start_time": "2023-05-07T11:29:09.362Z"
   },
   {
    "duration": 317,
    "start_time": "2023-05-07T11:29:12.894Z"
   },
   {
    "duration": 8,
    "start_time": "2023-05-07T11:29:15.494Z"
   },
   {
    "duration": 5,
    "start_time": "2023-05-07T11:29:30.188Z"
   },
   {
    "duration": 20,
    "start_time": "2023-05-07T11:29:32.270Z"
   },
   {
    "duration": 224,
    "start_time": "2023-05-07T11:29:34.159Z"
   },
   {
    "duration": 6,
    "start_time": "2023-05-07T11:29:46.163Z"
   },
   {
    "duration": 4,
    "start_time": "2023-05-07T11:29:46.767Z"
   },
   {
    "duration": 7,
    "start_time": "2023-05-07T11:30:12.764Z"
   },
   {
    "duration": 275,
    "start_time": "2023-05-07T11:30:14.794Z"
   },
   {
    "duration": 4,
    "start_time": "2023-05-07T11:30:18.994Z"
   },
   {
    "duration": 17,
    "start_time": "2023-05-07T11:30:21.334Z"
   },
   {
    "duration": 2,
    "start_time": "2023-05-07T11:30:24.995Z"
   },
   {
    "duration": 1118,
    "start_time": "2023-05-07T11:30:26.535Z"
   },
   {
    "duration": 1041,
    "start_time": "2023-05-07T11:30:29.295Z"
   },
   {
    "duration": 1110,
    "start_time": "2023-05-07T11:30:30.514Z"
   },
   {
    "duration": 240,
    "start_time": "2023-05-07T11:30:42.027Z"
   },
   {
    "duration": 27,
    "start_time": "2023-05-07T11:30:45.315Z"
   },
   {
    "duration": 12,
    "start_time": "2023-05-07T11:30:46.474Z"
   },
   {
    "duration": 13,
    "start_time": "2023-05-07T11:30:49.714Z"
   },
   {
    "duration": 23,
    "start_time": "2023-05-07T11:30:51.811Z"
   },
   {
    "duration": 6,
    "start_time": "2023-05-07T11:30:57.675Z"
   },
   {
    "duration": 2,
    "start_time": "2023-05-07T11:30:58.995Z"
   },
   {
    "duration": 13,
    "start_time": "2023-05-07T11:30:59.364Z"
   },
   {
    "duration": 3,
    "start_time": "2023-05-07T11:31:01.411Z"
   },
   {
    "duration": 24,
    "start_time": "2023-05-07T11:31:02.734Z"
   },
   {
    "duration": 4,
    "start_time": "2023-05-07T11:31:07.415Z"
   },
   {
    "duration": 6,
    "start_time": "2023-05-07T11:31:07.806Z"
   },
   {
    "duration": 9,
    "start_time": "2023-05-07T11:31:08.235Z"
   },
   {
    "duration": 3,
    "start_time": "2023-05-07T11:31:10.826Z"
   },
   {
    "duration": 10,
    "start_time": "2023-05-07T11:31:14.234Z"
   },
   {
    "duration": 407,
    "start_time": "2023-05-07T11:31:34.559Z"
   },
   {
    "duration": 3,
    "start_time": "2023-05-07T11:31:36.560Z"
   },
   {
    "duration": 11,
    "start_time": "2023-05-07T11:31:37.937Z"
   },
   {
    "duration": 4,
    "start_time": "2023-05-07T11:31:39.757Z"
   },
   {
    "duration": 4,
    "start_time": "2023-05-07T11:31:40.535Z"
   },
   {
    "duration": 2,
    "start_time": "2023-05-07T11:31:41.496Z"
   },
   {
    "duration": 66580,
    "start_time": "2023-05-07T11:31:42.894Z"
   },
   {
    "duration": 5,
    "start_time": "2023-05-07T11:32:54.959Z"
   },
   {
    "duration": 5,
    "start_time": "2023-05-07T11:32:56.775Z"
   },
   {
    "duration": 3,
    "start_time": "2023-05-07T11:32:58.415Z"
   },
   {
    "duration": 3,
    "start_time": "2023-05-07T11:32:59.359Z"
   },
   {
    "duration": 145583,
    "start_time": "2023-05-07T11:32:59.815Z"
   },
   {
    "duration": 12,
    "start_time": "2023-05-07T11:35:54.797Z"
   },
   {
    "duration": 11,
    "start_time": "2023-05-07T11:35:56.961Z"
   },
   {
    "duration": 4,
    "start_time": "2023-05-07T11:36:24.495Z"
   },
   {
    "duration": 334914,
    "start_time": "2023-05-07T11:36:28.475Z"
   },
   {
    "duration": 3,
    "start_time": "2023-05-07T11:42:07.295Z"
   },
   {
    "duration": 68,
    "start_time": "2023-05-07T11:42:07.757Z"
   },
   {
    "duration": 4,
    "start_time": "2023-05-07T11:43:08.061Z"
   },
   {
    "duration": 76991,
    "start_time": "2023-05-07T11:43:09.629Z"
   },
   {
    "duration": 2925,
    "start_time": "2023-05-08T06:31:19.191Z"
   },
   {
    "duration": 3,
    "start_time": "2023-05-08T06:31:22.118Z"
   },
   {
    "duration": 176,
    "start_time": "2023-05-08T06:31:22.122Z"
   },
   {
    "duration": 13,
    "start_time": "2023-05-08T06:31:22.300Z"
   },
   {
    "duration": 22,
    "start_time": "2023-05-08T06:31:22.314Z"
   },
   {
    "duration": 3,
    "start_time": "2023-05-08T06:31:22.600Z"
   },
   {
    "duration": 11,
    "start_time": "2023-05-08T06:31:22.841Z"
   },
   {
    "duration": 18,
    "start_time": "2023-05-08T06:31:23.438Z"
   },
   {
    "duration": 7,
    "start_time": "2023-05-08T06:31:24.891Z"
   },
   {
    "duration": 5,
    "start_time": "2023-05-08T06:31:26.253Z"
   },
   {
    "duration": 218,
    "start_time": "2023-05-08T06:31:26.481Z"
   },
   {
    "duration": 5,
    "start_time": "2023-05-08T06:31:28.393Z"
   },
   {
    "duration": 132,
    "start_time": "2023-05-08T06:31:29.935Z"
   },
   {
    "duration": 5,
    "start_time": "2023-05-08T06:31:31.853Z"
   },
   {
    "duration": 65,
    "start_time": "2023-05-08T06:31:56.528Z"
   },
   {
    "duration": 10,
    "start_time": "2023-05-08T06:31:57.381Z"
   },
   {
    "duration": 25,
    "start_time": "2023-05-08T06:31:58.519Z"
   },
   {
    "duration": 245,
    "start_time": "2023-05-08T06:31:59.740Z"
   },
   {
    "duration": 307,
    "start_time": "2023-05-08T06:32:01.849Z"
   },
   {
    "duration": 7,
    "start_time": "2023-05-08T06:32:02.814Z"
   },
   {
    "duration": 5,
    "start_time": "2023-05-08T06:32:08.889Z"
   },
   {
    "duration": 17,
    "start_time": "2023-05-08T06:32:09.263Z"
   },
   {
    "duration": 222,
    "start_time": "2023-05-08T06:32:10.179Z"
   },
   {
    "duration": 5,
    "start_time": "2023-05-08T06:32:12.375Z"
   },
   {
    "duration": 3,
    "start_time": "2023-05-08T06:32:13.019Z"
   },
   {
    "duration": 9,
    "start_time": "2023-05-08T06:32:14.317Z"
   },
   {
    "duration": 264,
    "start_time": "2023-05-08T06:32:14.742Z"
   },
   {
    "duration": 4,
    "start_time": "2023-05-08T06:32:15.581Z"
   },
   {
    "duration": 6,
    "start_time": "2023-05-08T06:32:15.769Z"
   },
   {
    "duration": 3,
    "start_time": "2023-05-08T06:32:16.144Z"
   },
   {
    "duration": 1231,
    "start_time": "2023-05-08T06:32:16.333Z"
   },
   {
    "duration": 1065,
    "start_time": "2023-05-08T06:32:17.567Z"
   },
   {
    "duration": 1128,
    "start_time": "2023-05-08T06:32:18.633Z"
   },
   {
    "duration": 264,
    "start_time": "2023-05-08T06:32:19.764Z"
   },
   {
    "duration": 19,
    "start_time": "2023-05-08T06:32:20.030Z"
   },
   {
    "duration": 34,
    "start_time": "2023-05-08T06:32:20.051Z"
   },
   {
    "duration": 12,
    "start_time": "2023-05-08T06:32:22.235Z"
   },
   {
    "duration": 22,
    "start_time": "2023-05-08T06:32:23.094Z"
   },
   {
    "duration": 8,
    "start_time": "2023-05-08T06:32:40.735Z"
   },
   {
    "duration": 2,
    "start_time": "2023-05-08T06:32:41.480Z"
   },
   {
    "duration": 17,
    "start_time": "2023-05-08T06:32:42.083Z"
   },
   {
    "duration": 3,
    "start_time": "2023-05-08T06:32:43.596Z"
   },
   {
    "duration": 15,
    "start_time": "2023-05-08T06:32:44.099Z"
   },
   {
    "duration": 4,
    "start_time": "2023-05-08T06:32:48.687Z"
   },
   {
    "duration": 5,
    "start_time": "2023-05-08T06:32:49.377Z"
   },
   {
    "duration": 5,
    "start_time": "2023-05-08T06:32:49.817Z"
   },
   {
    "duration": 3,
    "start_time": "2023-05-08T06:32:52.868Z"
   },
   {
    "duration": 2,
    "start_time": "2023-05-08T06:32:54.642Z"
   },
   {
    "duration": 287,
    "start_time": "2023-05-08T06:33:23.417Z"
   },
   {
    "duration": 4,
    "start_time": "2023-05-08T06:33:24.351Z"
   },
   {
    "duration": 6,
    "start_time": "2023-05-08T06:33:25.089Z"
   },
   {
    "duration": 3,
    "start_time": "2023-05-08T06:34:05.575Z"
   },
   {
    "duration": 3,
    "start_time": "2023-05-08T06:34:06.365Z"
   },
   {
    "duration": 3,
    "start_time": "2023-05-08T06:34:07.047Z"
   },
   {
    "duration": 77849,
    "start_time": "2023-05-08T06:34:07.666Z"
   },
   {
    "duration": 3,
    "start_time": "2023-05-08T06:38:31.730Z"
   },
   {
    "duration": 5,
    "start_time": "2023-05-08T06:38:33.108Z"
   },
   {
    "duration": 3,
    "start_time": "2023-05-08T06:38:36.026Z"
   },
   {
    "duration": 4,
    "start_time": "2023-05-08T06:38:37.418Z"
   },
   {
    "duration": 10343,
    "start_time": "2023-05-08T06:38:38.056Z"
   },
   {
    "duration": 82,
    "start_time": "2023-05-08T06:38:48.401Z"
   },
   {
    "duration": 14,
    "start_time": "2023-05-08T06:38:48.485Z"
   },
   {
    "duration": 14,
    "start_time": "2023-05-08T06:43:00.571Z"
   }
  ],
  "kernelspec": {
   "display_name": "Python 3 (ipykernel)",
   "language": "python",
   "name": "python3"
  },
  "language_info": {
   "codemirror_mode": {
    "name": "ipython",
    "version": 3
   },
   "file_extension": ".py",
   "mimetype": "text/x-python",
   "name": "python",
   "nbconvert_exporter": "python",
   "pygments_lexer": "ipython3",
   "version": "3.11.4"
  },
  "toc": {
   "base_numbering": 1,
   "nav_menu": {},
   "number_sections": true,
   "sideBar": true,
   "skip_h1_title": true,
   "title_cell": "Содержание",
   "title_sidebar": "Contents",
   "toc_cell": true,
   "toc_position": {
    "height": "calc(100% - 180px)",
    "left": "10px",
    "top": "150px",
    "width": "165px"
   },
   "toc_section_display": true,
   "toc_window_display": true
  }
 },
 "nbformat": 4,
 "nbformat_minor": 4
}
