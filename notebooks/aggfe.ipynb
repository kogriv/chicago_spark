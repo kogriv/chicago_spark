{
 "cells": [
  {
   "cell_type": "markdown",
   "id": "64ac4a7a-4644-45d3-8786-944ff88f222a",
   "metadata": {},
   "source": [
    "Ноутбук по проекту chicago_spark.  \n",
    "Агрегация данных по гео-ключам (районы, округа) и временным промежуткам"
   ]
  },
  {
   "cell_type": "markdown",
   "id": "de64cacf-4b21-4fc7-85ca-0d7b7de73885",
   "metadata": {},
   "source": [
    "## Импорты"
   ]
  },
  {
   "cell_type": "code",
   "execution_count": 1,
   "id": "a2f9b287-4613-4f96-9125-2472424b9cfd",
   "metadata": {
    "editable": true,
    "slideshow": {
     "slide_type": ""
    },
    "tags": []
   },
   "outputs": [],
   "source": [
    "import os\n",
    "import sys"
   ]
  },
  {
   "cell_type": "code",
   "execution_count": 72,
   "id": "07c57728-71d4-43e9-a453-c5d23d6a57a3",
   "metadata": {
    "editable": true,
    "slideshow": {
     "slide_type": ""
    },
    "tags": []
   },
   "outputs": [],
   "source": [
    "import pandas as pd\n",
    "from scipy import stats\n",
    "from scipy.signal import welch\n",
    "from sklearn.neighbors import NearestNeighbors\n",
    "import numpy as np"
   ]
  },
  {
   "cell_type": "code",
   "execution_count": 3,
   "id": "efbb9443-57d6-4aab-ad7d-c67719e98e03",
   "metadata": {
    "editable": true,
    "slideshow": {
     "slide_type": ""
    },
    "tags": []
   },
   "outputs": [],
   "source": [
    "from importlib import reload\n",
    "import time\n",
    "from tqdm import tqdm\n",
    "from functools import reduce\n",
    "from itertools import islice\n",
    "from collections import defaultdict"
   ]
  },
  {
   "cell_type": "code",
   "execution_count": 4,
   "id": "d04534c3-1092-4cb4-9ed0-2a6b99acbaa6",
   "metadata": {},
   "outputs": [],
   "source": [
    "import matplotlib.pyplot as plt\n",
    "%matplotlib inline\n",
    "from mpl_toolkits.mplot3d import Axes3D\n",
    "from IPython.display import display, HTML"
   ]
  },
  {
   "cell_type": "code",
   "execution_count": 5,
   "id": "c506d768-519f-49a0-9af6-b44cbcf036bb",
   "metadata": {},
   "outputs": [],
   "source": [
    "from enviserv.dictan import DictAnalyzer # анализ словарей\n",
    "import pandserv as pds # форматирование небольших пандас ДФ"
   ]
  },
  {
   "cell_type": "code",
   "execution_count": 6,
   "id": "4c22c0b8-1ea3-417e-8289-34ca57326d7d",
   "metadata": {},
   "outputs": [],
   "source": [
    "from sparkserv import SparkApp, Cols\n",
    "# в SparkApp упакованы функции создания спарк приложения \n",
    "# с определением IP мастер-ноды и с подключением к кластеру\n",
    "\n",
    "# Col - класс для формирования коротких псевдонимов имен столбцов\n",
    "# при этом исходные имена полей не меняются"
   ]
  },
  {
   "cell_type": "code",
   "execution_count": 7,
   "id": "63596c0d-9087-4e1a-80e3-a1fd7a90babe",
   "metadata": {},
   "outputs": [],
   "source": [
    "import pyspark.sql.functions as f\n",
    "from pyspark.sql.types import StructType, StructField, StringType, DoubleType, IntegerType, LongType\n",
    "from pyspark.sql.window import Window\n",
    "from pyspark.sql import Row"
   ]
  },
  {
   "cell_type": "code",
   "execution_count": 8,
   "id": "4db2ec96-2997-458c-b67a-f9e5dd6aa586",
   "metadata": {},
   "outputs": [],
   "source": [
    "# гео библиотеки\n",
    "import geopandas as gpd\n",
    "from shapely import wkt\n",
    "from shapely.geometry import Point"
   ]
  },
  {
   "cell_type": "markdown",
   "id": "e7e47d77-cebf-4472-99e9-c2e852867df5",
   "metadata": {},
   "source": [
    "## Создание сессии, загрузка данных"
   ]
  },
  {
   "cell_type": "code",
   "execution_count": 9,
   "id": "f6c292a0-9c16-44d8-8aa6-e5a51b5e08ae",
   "metadata": {},
   "outputs": [
    {
     "name": "stderr",
     "output_type": "stream",
     "text": [
      "INFO:spark_app:spark_master_ip: 172.18.0.2\n",
      "INFO:spark_app:pyspark version: 3.4.1\n",
      "INFO:spark_app:starting building spark app object: pyspark-taxi-forecasting\n",
      "INFO:spark_app:Spark app object built as: <pyspark.sql.session.SparkSession object at 0x7f2203d25a10>\n",
      "INFO:spark_app:==================================================================\n",
      "INFO:spark_app:Spark object can be accessed as the SparkApp_object.spark property\n",
      "INFO:spark_app:==================================================================\n"
     ]
    }
   ],
   "source": [
    "spark_app = SparkApp(my_logger_create_level = 'INFO')"
   ]
  },
  {
   "cell_type": "code",
   "execution_count": 10,
   "id": "4de973af-73c4-43f8-90b6-b1d422a3360b",
   "metadata": {},
   "outputs": [
    {
     "name": "stderr",
     "output_type": "stream",
     "text": [
      "INFO:spark_app:spark_master_ip: 172.18.0.2\n"
     ]
    }
   ],
   "source": [
    "spark_master_ip = spark_app.get_spark_master_ip()\n",
    "# print(spark_master_ip)"
   ]
  },
  {
   "cell_type": "code",
   "execution_count": 11,
   "id": "55a91437-60e9-4bc2-a9cb-58365f000efd",
   "metadata": {},
   "outputs": [],
   "source": [
    "# spark = spark_app.build_spark_app(spark_master_ip=spark_master_ip)\n",
    "# spark = spark_app.spark"
   ]
  },
  {
   "cell_type": "markdown",
   "id": "278c7d30-9eed-479c-b899-2fcd6c2d78d4",
   "metadata": {},
   "source": [
    "Для корректного завершения спарк-сессии (например, для переключения между ноутбуками) следует останавливать сессию полностью. Для этого использую метод .stop_spark_app() класса SparkApp"
   ]
  },
  {
   "cell_type": "code",
   "execution_count": 12,
   "id": "412582e5-44f8-44dd-a8f0-7d9fe46ad1f7",
   "metadata": {},
   "outputs": [],
   "source": [
    "# spark_app.stop_spark_app()"
   ]
  },
  {
   "cell_type": "code",
   "execution_count": 13,
   "id": "4b17caf8-7f00-4c20-a83b-744c2d0ab81e",
   "metadata": {},
   "outputs": [
    {
     "name": "stdout",
     "output_type": "stream",
     "text": [
      "<pyspark.sql.session.SparkSession object at 0x7f2203d25a10>\n"
     ]
    }
   ],
   "source": [
    "print(spark_app.spark)"
   ]
  },
  {
   "cell_type": "code",
   "execution_count": 14,
   "id": "5221d404-34f2-4fd8-8b0c-531fd6f93bbb",
   "metadata": {},
   "outputs": [
    {
     "name": "stderr",
     "output_type": "stream",
     "text": [
      "INFO:spark_app:pyspark version: 3.4.1\n",
      "INFO:spark_app:starting building spark app object: pyspark-taxi-forecasting\n",
      "INFO:spark_app:Spark app object built as: <pyspark.sql.session.SparkSession object at 0x7f2203d25a10>\n",
      "INFO:spark_app:==================================================================\n",
      "INFO:spark_app:Spark object can be accessed as the SparkApp_object.spark property\n",
      "INFO:spark_app:==================================================================\n"
     ]
    },
    {
     "data": {
      "text/html": [
       "\n",
       "            <div>\n",
       "                <p><b>SparkSession - in-memory</b></p>\n",
       "                \n",
       "        <div>\n",
       "            <p><b>SparkContext</b></p>\n",
       "\n",
       "            <p><a href=\"http://d10fb5fe9c53:4040\">Spark UI</a></p>\n",
       "\n",
       "            <dl>\n",
       "              <dt>Version</dt>\n",
       "                <dd><code>v3.4.1</code></dd>\n",
       "              <dt>Master</dt>\n",
       "                <dd><code>spark://172.18.0.2:7077</code></dd>\n",
       "              <dt>AppName</dt>\n",
       "                <dd><code>pyspark-taxi-forecasting</code></dd>\n",
       "            </dl>\n",
       "        </div>\n",
       "        \n",
       "            </div>\n",
       "        "
      ],
      "text/plain": [
       "<pyspark.sql.session.SparkSession at 0x7f2203d25a10>"
      ]
     },
     "execution_count": 14,
     "metadata": {},
     "output_type": "execute_result"
    }
   ],
   "source": [
    "spark_app.build_spark_app()"
   ]
  },
  {
   "cell_type": "markdown",
   "id": "7eab1b14-51a4-4d05-9ada-4217282f13ce",
   "metadata": {},
   "source": [
    "Получим стандартный объект `spark` из созданного выше объекта `spark_app`"
   ]
  },
  {
   "cell_type": "code",
   "execution_count": 15,
   "id": "56cdf778-5944-484e-a72f-6e151b2ec3e9",
   "metadata": {},
   "outputs": [],
   "source": [
    "spark = spark_app.spark"
   ]
  },
  {
   "cell_type": "markdown",
   "id": "ca259b2f-ac8d-4de8-800b-754588a3963c",
   "metadata": {},
   "source": [
    "Проверка работы спарк-объекта на кластере. Если все в порядке, то тест должен выполниться достаточно быстро и отобразить тестовый ДФ.  \n",
    "```txt\n",
    "+------------+-----------+\n",
    "|student_name|student_age|\n",
    "+------------+-----------+\n",
    "|       Alice|         10|\n",
    "|         Bob|         20|\n",
    "+------------+-----------+\n",
    "```\n",
    "\n",
    "Если исходные образы кластера собраны с ошибкой, возможно \"зависание\" работы теста."
   ]
  },
  {
   "cell_type": "code",
   "execution_count": 16,
   "id": "65e12fff-3cf5-4918-b8f7-d4ce0d306949",
   "metadata": {},
   "outputs": [
    {
     "name": "stdout",
     "output_type": "stream",
     "text": [
      "Spark session created successfully.\n",
      "DataFrame created successfully.\n",
      "Alias DataFrame created successfully.\n",
      "DataFrame data matches expected result.\n",
      "+------------+-----------+\n",
      "|student_name|student_age|\n",
      "+------------+-----------+\n",
      "|       Alice|         10|\n",
      "|         Bob|         20|\n",
      "+------------+-----------+\n",
      "\n",
      "DataFrame show output matches expected output.\n",
      "\n",
      "=======use======================\n",
      "*      ____              __    *\n",
      "*     / __/__  ___ _____/ /__  *\n",
      "*    _\\ \\/ _ \\/ _ `/ __/  '_/  *\n",
      "*   /__ / .__/\\_,_/_/ /_/\\_\\   *\n",
      "*      /_/                     * \n",
      "================================\n",
      "        \n"
     ]
    }
   ],
   "source": [
    "spark_app.test_spark_functionality()"
   ]
  },
  {
   "cell_type": "markdown",
   "id": "12b788b4-20a6-47dc-b89b-32fd90c2b7c2",
   "metadata": {},
   "source": [
    "## Загрузка и описание данных"
   ]
  },
  {
   "cell_type": "markdown",
   "id": "9b530d7d-8d46-4fbe-939e-e413c491da7f",
   "metadata": {},
   "source": [
    "Первичное исследование датасета проведено в ноутбуке eda_... "
   ]
  },
  {
   "cell_type": "markdown",
   "id": "8f4e4924-5702-43ab-a7c5-171e1e3b0a66",
   "metadata": {},
   "source": [
    "Загрузим очищенные данные. В интерфейсе Докера должно отображаться увеличение загрузки по всем воркерам (почти до 100%). Также можно увидеть рост загрузки на ядрах-потоках процессора, выделенных под кластер.  \n",
    "Если необходимо провести манипуляции с данными- следует раскомментировать ячейку ниже и загрузить полный исходный ДФ. Если этого не требуется - необходимо загрузить ДФ-выборку, для формирования списка полей и просмотра примера содержимого."
   ]
  },
  {
   "cell_type": "code",
   "execution_count": null,
   "id": "e2a09523-1f2b-4dcd-87a0-1fbf57973336",
   "metadata": {},
   "outputs": [],
   "source": [
    "# %%time\n",
    "# # загрузка полного исходного ДФ 18М строк\n",
    "# taxis = spark.read.load('/work/data/taxis_r.csv', \n",
    "#                        format='csv', header='true'\n",
    "#                         , inferSchema='true'\n",
    "#                        )"
   ]
  },
  {
   "cell_type": "code",
   "execution_count": 17,
   "id": "a49c4e5f-8973-485c-8714-94448bbe1adf",
   "metadata": {},
   "outputs": [],
   "source": [
    "# Функция простой рандомизированной выборки\n",
    "def random_sample_dataframe(dataframe, percentage):\n",
    "    # Генерируем случайные числа от 0 до 1 и фильтруем строки\n",
    "    df = dataframe.filter(f.rand() < percentage)\n",
    "    \n",
    "    return df"
   ]
  },
  {
   "cell_type": "code",
   "execution_count": 18,
   "id": "30ec12db-cbde-452d-9852-c7f9c148cd96",
   "metadata": {},
   "outputs": [],
   "source": [
    "# taxis = random_sample_dataframe(taxis, 0.0001)"
   ]
  },
  {
   "cell_type": "code",
   "execution_count": 19,
   "id": "c8504308-d0da-49bc-8ae0-017dd656a530",
   "metadata": {},
   "outputs": [],
   "source": [
    "# %%time\n",
    "# # сохранение выборки\n",
    "# taxis.coalesce(1).write.csv(\"/work/data/taxis_sample.csv\", header=True, mode=\"overwrite\")"
   ]
  },
  {
   "cell_type": "code",
   "execution_count": 20,
   "id": "5f9a3026-1310-4a43-a332-b9b7c1af599d",
   "metadata": {},
   "outputs": [
    {
     "name": "stdout",
     "output_type": "stream",
     "text": [
      "CPU times: user 8.29 ms, sys: 646 µs, total: 8.94 ms\n",
      "Wall time: 6.48 s\n"
     ]
    }
   ],
   "source": [
    "%%time\n",
    "# загрузка выборки\n",
    "taxis = spark.read.load('/work/data/taxis_sample.csv', \n",
    "                       format='csv', header='true'\n",
    "                        , inferSchema='true'\n",
    "                       )"
   ]
  },
  {
   "cell_type": "code",
   "execution_count": 21,
   "id": "6db235cd-1035-4976-b906-7c7c48558e20",
   "metadata": {},
   "outputs": [
    {
     "data": {
      "text/plain": [
       "1909"
      ]
     },
     "execution_count": 21,
     "metadata": {},
     "output_type": "execute_result"
    }
   ],
   "source": [
    "taxis.count()"
   ]
  },
  {
   "cell_type": "code",
   "execution_count": 22,
   "id": "e2fe88fd-6a4d-4b7d-bf1b-b4a0a4dc88b1",
   "metadata": {},
   "outputs": [
    {
     "name": "stdout",
     "output_type": "stream",
     "text": [
      "root\n",
      " |-- Trip ID: string (nullable = true)\n",
      " |-- Taxi ID: string (nullable = true)\n",
      " |-- Trip Start Timestamp: timestamp (nullable = true)\n",
      " |-- Trip End Timestamp: timestamp (nullable = true)\n",
      " |-- Trip Seconds: integer (nullable = true)\n",
      " |-- Trip Miles: double (nullable = true)\n",
      " |-- Pickup Census Tract: long (nullable = true)\n",
      " |-- Dropoff Census Tract: long (nullable = true)\n",
      " |-- Pickup Community Area: integer (nullable = true)\n",
      " |-- Dropoff Community Area: integer (nullable = true)\n",
      " |-- Fare: double (nullable = true)\n",
      " |-- Tips: double (nullable = true)\n",
      " |-- Tolls: double (nullable = true)\n",
      " |-- Extras: double (nullable = true)\n",
      " |-- Trip Total: double (nullable = true)\n",
      " |-- Payment Type: string (nullable = true)\n",
      " |-- Company: string (nullable = true)\n",
      " |-- Pickup Centroid Latitude: double (nullable = true)\n",
      " |-- Pickup Centroid Longitude: double (nullable = true)\n",
      " |-- Pickup Centroid Location: string (nullable = true)\n",
      " |-- Dropoff Centroid Latitude: double (nullable = true)\n",
      " |-- Dropoff Centroid Longitude: double (nullable = true)\n",
      " |-- Dropoff Centroid  Location: string (nullable = true)\n",
      "\n"
     ]
    }
   ],
   "source": [
    "taxis.printSchema()"
   ]
  },
  {
   "cell_type": "code",
   "execution_count": 23,
   "id": "12869dc1-b838-448b-b34b-d205d1381ab4",
   "metadata": {},
   "outputs": [
    {
     "data": {
      "text/plain": [
       "{'trip_i': 'Trip ID',\n",
       " 'taxi_i': 'Taxi ID',\n",
       " 'trip_st': 'Trip Start Timestamp',\n",
       " 'trip_et': 'Trip End Timestamp',\n",
       " 'trip_s': 'Trip Seconds',\n",
       " 'trip_m': 'Trip Miles',\n",
       " 'pickup_ct': 'Pickup Census Tract',\n",
       " 'dropoff_ct': 'Dropoff Census Tract',\n",
       " 'pickup_ca': 'Pickup Community Area',\n",
       " 'dropoff_ca': 'Dropoff Community Area',\n",
       " 'fare': 'Fare',\n",
       " 'tips': 'Tips',\n",
       " 'tolls': 'Tolls',\n",
       " 'extras': 'Extras',\n",
       " 'trip_t': 'Trip Total',\n",
       " 'payment_t': 'Payment Type',\n",
       " 'company': 'Company',\n",
       " 'pickup_cl': 'Pickup Centroid Latitude',\n",
       " 'pickup_clon': 'Pickup Centroid Longitude',\n",
       " 'pickup_cloc': 'Pickup Centroid Location',\n",
       " 'dropoff_cl': 'Dropoff Centroid Latitude',\n",
       " 'dropoff_clon': 'Dropoff Centroid Longitude',\n",
       " 'dropoff_cloc': 'Dropoff Centroid  Location'}"
      ]
     },
     "execution_count": 23,
     "metadata": {},
     "output_type": "execute_result"
    }
   ],
   "source": [
    "# создадим объект для представления имен полей\n",
    "ct = Cols(taxis)\n",
    "ct.get_aliases()"
   ]
  },
  {
   "cell_type": "code",
   "execution_count": null,
   "id": "3312603d-12cc-4993-85bc-4798d757ba49",
   "metadata": {},
   "outputs": [],
   "source": [
    "# %%time\n",
    "# # код ячейки закомментирован, т.к. описание данных\n",
    "# # уже сохранено во внешнейм файле\n",
    "# # но при необходимости пересчитать статистики\n",
    "# # код надо раскомментировать\n",
    "# # CPU times: user 438 ms, sys: 335 ms, total: 773 ms\n",
    "# # Wall time: 13min 28s\n",
    "\n",
    "# tdd_res = taxis.summary().toPandas()"
   ]
  },
  {
   "cell_type": "code",
   "execution_count": null,
   "id": "b879a3c6-821e-4680-9889-4866075c3d27",
   "metadata": {},
   "outputs": [],
   "source": [
    "# output_file_path = '/work/data/all_summary_result.csv'\n",
    "# tdd_res.to_csv(output_file_path, index=False)"
   ]
  },
  {
   "cell_type": "code",
   "execution_count": 24,
   "id": "a2f4c605-678c-4dbc-8e54-00908f5f0157",
   "metadata": {},
   "outputs": [],
   "source": [
    "tdd_res = pd.read_csv('/work/data/all_summary_result.csv',sep=',',index_col='summary')"
   ]
  },
  {
   "cell_type": "code",
   "execution_count": 25,
   "id": "3b2d7b22-0d5e-4e84-84f6-5fea675a8f0d",
   "metadata": {},
   "outputs": [],
   "source": [
    "drf = tdd_res.copy()\n",
    "#  отформатируем таблицу описания\n",
    "pds.get_df_formated(drf, '`',2, 10)"
   ]
  },
  {
   "cell_type": "code",
   "execution_count": 26,
   "id": "701fad28-9f17-45f5-afd4-091676da4d35",
   "metadata": {},
   "outputs": [
    {
     "data": {
      "text/html": [
       "<div>\n",
       "<style scoped>\n",
       "    .dataframe tbody tr th:only-of-type {\n",
       "        vertical-align: middle;\n",
       "    }\n",
       "\n",
       "    .dataframe tbody tr th {\n",
       "        vertical-align: top;\n",
       "    }\n",
       "\n",
       "    .dataframe thead th {\n",
       "        text-align: right;\n",
       "    }\n",
       "</style>\n",
       "<table border=\"1\" class=\"dataframe\">\n",
       "  <thead>\n",
       "    <tr style=\"text-align: right;\">\n",
       "      <th>summary</th>\n",
       "      <th>count</th>\n",
       "      <th>mean</th>\n",
       "      <th>stddev</th>\n",
       "      <th>min</th>\n",
       "      <th>25%</th>\n",
       "      <th>50%</th>\n",
       "      <th>75%</th>\n",
       "      <th>max</th>\n",
       "    </tr>\n",
       "  </thead>\n",
       "  <tbody>\n",
       "    <tr>\n",
       "      <th>Trip ID</th>\n",
       "      <td>18`706`059</td>\n",
       "      <td>nan</td>\n",
       "      <td>nan</td>\n",
       "      <td>0000000c78</td>\n",
       "      <td>nan</td>\n",
       "      <td>nan</td>\n",
       "      <td>nan</td>\n",
       "      <td>ffffffdda8</td>\n",
       "    </tr>\n",
       "    <tr>\n",
       "      <th>Taxi ID</th>\n",
       "      <td>18`706`059</td>\n",
       "      <td>nan</td>\n",
       "      <td>nan</td>\n",
       "      <td>0041f8f0c9</td>\n",
       "      <td>nan</td>\n",
       "      <td>nan</td>\n",
       "      <td>nan</td>\n",
       "      <td>fff84aa08a</td>\n",
       "    </tr>\n",
       "    <tr>\n",
       "      <th>Trip Seconds</th>\n",
       "      <td>18`706`059</td>\n",
       "      <td>1`162.53</td>\n",
       "      <td>945.77</td>\n",
       "      <td>0</td>\n",
       "      <td>468</td>\n",
       "      <td>898</td>\n",
       "      <td>1`655</td>\n",
       "      <td>7`900</td>\n",
       "    </tr>\n",
       "    <tr>\n",
       "      <th>Trip Miles</th>\n",
       "      <td>18`706`059</td>\n",
       "      <td>6.19</td>\n",
       "      <td>6.88</td>\n",
       "      <td>0</td>\n",
       "      <td>0.89</td>\n",
       "      <td>2.70</td>\n",
       "      <td>11.15</td>\n",
       "      <td>53</td>\n",
       "    </tr>\n",
       "    <tr>\n",
       "      <th>Pickup Census Tract</th>\n",
       "      <td>18`706`059</td>\n",
       "      <td>15`529`758`274.25</td>\n",
       "      <td>2`383`702`696.58</td>\n",
       "      <td>10`000`000`000</td>\n",
       "      <td>12`000`000`036</td>\n",
       "      <td>17`031`081`403</td>\n",
       "      <td>17`031`320`100</td>\n",
       "      <td>17`031`980`100</td>\n",
       "    </tr>\n",
       "    <tr>\n",
       "      <th>Dropoff Census Tract</th>\n",
       "      <td>18`706`059</td>\n",
       "      <td>15`259`197`121.54</td>\n",
       "      <td>2`483`394`317.93</td>\n",
       "      <td>11`000`000`000</td>\n",
       "      <td>12`000`000`036</td>\n",
       "      <td>17`031`081`500</td>\n",
       "      <td>17`031`320`100</td>\n",
       "      <td>17`031`980`100</td>\n",
       "    </tr>\n",
       "    <tr>\n",
       "      <th>Pickup Community Area</th>\n",
       "      <td>18`706`059</td>\n",
       "      <td>35.42</td>\n",
       "      <td>27.04</td>\n",
       "      <td>1</td>\n",
       "      <td>8</td>\n",
       "      <td>32</td>\n",
       "      <td>56</td>\n",
       "      <td>91</td>\n",
       "    </tr>\n",
       "    <tr>\n",
       "      <th>Dropoff Community Area</th>\n",
       "      <td>18`706`059</td>\n",
       "      <td>30.61</td>\n",
       "      <td>26.28</td>\n",
       "      <td>1</td>\n",
       "      <td>8</td>\n",
       "      <td>28</td>\n",
       "      <td>35</td>\n",
       "      <td>92</td>\n",
       "    </tr>\n",
       "    <tr>\n",
       "      <th>Fare</th>\n",
       "      <td>18`706`059</td>\n",
       "      <td>21.22</td>\n",
       "      <td>16.48</td>\n",
       "      <td>0</td>\n",
       "      <td>8</td>\n",
       "      <td>14.25</td>\n",
       "      <td>32.75</td>\n",
       "      <td>315</td>\n",
       "    </tr>\n",
       "    <tr>\n",
       "      <th>Tips</th>\n",
       "      <td>18`706`059</td>\n",
       "      <td>2.68</td>\n",
       "      <td>4.01</td>\n",
       "      <td>0</td>\n",
       "      <td>0</td>\n",
       "      <td>0</td>\n",
       "      <td>3.90</td>\n",
       "      <td>260</td>\n",
       "    </tr>\n",
       "    <tr>\n",
       "      <th>Tolls</th>\n",
       "      <td>18`706`059</td>\n",
       "      <td>0.01</td>\n",
       "      <td>0.50</td>\n",
       "      <td>0</td>\n",
       "      <td>0</td>\n",
       "      <td>0</td>\n",
       "      <td>0</td>\n",
       "      <td>300</td>\n",
       "    </tr>\n",
       "    <tr>\n",
       "      <th>Extras</th>\n",
       "      <td>18`706`059</td>\n",
       "      <td>1.93</td>\n",
       "      <td>5.37</td>\n",
       "      <td>0</td>\n",
       "      <td>0</td>\n",
       "      <td>0</td>\n",
       "      <td>2</td>\n",
       "      <td>300.25</td>\n",
       "    </tr>\n",
       "    <tr>\n",
       "      <th>Trip Total</th>\n",
       "      <td>18`706`059</td>\n",
       "      <td>25.83</td>\n",
       "      <td>21.54</td>\n",
       "      <td>0</td>\n",
       "      <td>9.75</td>\n",
       "      <td>17.06</td>\n",
       "      <td>38.98</td>\n",
       "      <td>315</td>\n",
       "    </tr>\n",
       "    <tr>\n",
       "      <th>Payment Type</th>\n",
       "      <td>18`706`059</td>\n",
       "      <td>nan</td>\n",
       "      <td>nan</td>\n",
       "      <td>Cash</td>\n",
       "      <td>nan</td>\n",
       "      <td>nan</td>\n",
       "      <td>nan</td>\n",
       "      <td>Unknown</td>\n",
       "    </tr>\n",
       "    <tr>\n",
       "      <th>Company</th>\n",
       "      <td>18`706`059</td>\n",
       "      <td>nan</td>\n",
       "      <td>nan</td>\n",
       "      <td>24 Seven T</td>\n",
       "      <td>nan</td>\n",
       "      <td>nan</td>\n",
       "      <td>nan</td>\n",
       "      <td>U Taxicab</td>\n",
       "    </tr>\n",
       "    <tr>\n",
       "      <th>Pickup Centroid Latitude</th>\n",
       "      <td>18`198`158</td>\n",
       "      <td>41.90</td>\n",
       "      <td>0.06</td>\n",
       "      <td>41.65</td>\n",
       "      <td>41.88</td>\n",
       "      <td>41.90</td>\n",
       "      <td>41.95</td>\n",
       "      <td>42.02</td>\n",
       "    </tr>\n",
       "    <tr>\n",
       "      <th>Pickup Centroid Longitude</th>\n",
       "      <td>18`198`158</td>\n",
       "      <td>-87.69</td>\n",
       "      <td>0.11</td>\n",
       "      <td>-87.91</td>\n",
       "      <td>-87.71</td>\n",
       "      <td>-87.64</td>\n",
       "      <td>-87.63</td>\n",
       "      <td>-87.53</td>\n",
       "    </tr>\n",
       "    <tr>\n",
       "      <th>Pickup Centroid Location</th>\n",
       "      <td>18`198`158</td>\n",
       "      <td>nan</td>\n",
       "      <td>nan</td>\n",
       "      <td>POINT (-87</td>\n",
       "      <td>nan</td>\n",
       "      <td>nan</td>\n",
       "      <td>nan</td>\n",
       "      <td>POINT (-87</td>\n",
       "    </tr>\n",
       "    <tr>\n",
       "      <th>Dropoff Centroid Latitude</th>\n",
       "      <td>17`491`750</td>\n",
       "      <td>41.89</td>\n",
       "      <td>0.06</td>\n",
       "      <td>41.65</td>\n",
       "      <td>41.88</td>\n",
       "      <td>41.89</td>\n",
       "      <td>41.92</td>\n",
       "      <td>42.02</td>\n",
       "    </tr>\n",
       "    <tr>\n",
       "      <th>Dropoff Centroid Longitude</th>\n",
       "      <td>17`491`750</td>\n",
       "      <td>-87.66</td>\n",
       "      <td>0.07</td>\n",
       "      <td>-87.91</td>\n",
       "      <td>-87.66</td>\n",
       "      <td>-87.63</td>\n",
       "      <td>-87.63</td>\n",
       "      <td>-87.53</td>\n",
       "    </tr>\n",
       "    <tr>\n",
       "      <th>Dropoff Centroid  Location</th>\n",
       "      <td>17`491`750</td>\n",
       "      <td>nan</td>\n",
       "      <td>nan</td>\n",
       "      <td>POINT (-87</td>\n",
       "      <td>nan</td>\n",
       "      <td>nan</td>\n",
       "      <td>nan</td>\n",
       "      <td>POINT (-87</td>\n",
       "    </tr>\n",
       "  </tbody>\n",
       "</table>\n",
       "</div>"
      ],
      "text/plain": [
       "summary                          count               mean            stddev  \\\n",
       "Trip ID                     18`706`059                nan               nan   \n",
       "Taxi ID                     18`706`059                nan               nan   \n",
       "Trip Seconds                18`706`059           1`162.53            945.77   \n",
       "Trip Miles                  18`706`059               6.19              6.88   \n",
       "Pickup Census Tract         18`706`059  15`529`758`274.25  2`383`702`696.58   \n",
       "Dropoff Census Tract        18`706`059  15`259`197`121.54  2`483`394`317.93   \n",
       "Pickup Community Area       18`706`059              35.42             27.04   \n",
       "Dropoff Community Area      18`706`059              30.61             26.28   \n",
       "Fare                        18`706`059              21.22             16.48   \n",
       "Tips                        18`706`059               2.68              4.01   \n",
       "Tolls                       18`706`059               0.01              0.50   \n",
       "Extras                      18`706`059               1.93              5.37   \n",
       "Trip Total                  18`706`059              25.83             21.54   \n",
       "Payment Type                18`706`059                nan               nan   \n",
       "Company                     18`706`059                nan               nan   \n",
       "Pickup Centroid Latitude    18`198`158              41.90              0.06   \n",
       "Pickup Centroid Longitude   18`198`158             -87.69              0.11   \n",
       "Pickup Centroid Location    18`198`158                nan               nan   \n",
       "Dropoff Centroid Latitude   17`491`750              41.89              0.06   \n",
       "Dropoff Centroid Longitude  17`491`750             -87.66              0.07   \n",
       "Dropoff Centroid  Location  17`491`750                nan               nan   \n",
       "\n",
       "summary                                min             25%             50%  \\\n",
       "Trip ID                         0000000c78             nan             nan   \n",
       "Taxi ID                         0041f8f0c9             nan             nan   \n",
       "Trip Seconds                             0             468             898   \n",
       "Trip Miles                               0            0.89            2.70   \n",
       "Pickup Census Tract         10`000`000`000  12`000`000`036  17`031`081`403   \n",
       "Dropoff Census Tract        11`000`000`000  12`000`000`036  17`031`081`500   \n",
       "Pickup Community Area                    1               8              32   \n",
       "Dropoff Community Area                   1               8              28   \n",
       "Fare                                     0               8           14.25   \n",
       "Tips                                     0               0               0   \n",
       "Tolls                                    0               0               0   \n",
       "Extras                                   0               0               0   \n",
       "Trip Total                               0            9.75           17.06   \n",
       "Payment Type                          Cash             nan             nan   \n",
       "Company                         24 Seven T             nan             nan   \n",
       "Pickup Centroid Latitude             41.65           41.88           41.90   \n",
       "Pickup Centroid Longitude           -87.91          -87.71          -87.64   \n",
       "Pickup Centroid Location        POINT (-87             nan             nan   \n",
       "Dropoff Centroid Latitude            41.65           41.88           41.89   \n",
       "Dropoff Centroid Longitude          -87.91          -87.66          -87.63   \n",
       "Dropoff Centroid  Location      POINT (-87             nan             nan   \n",
       "\n",
       "summary                                75%             max  \n",
       "Trip ID                                nan      ffffffdda8  \n",
       "Taxi ID                                nan      fff84aa08a  \n",
       "Trip Seconds                         1`655           7`900  \n",
       "Trip Miles                           11.15              53  \n",
       "Pickup Census Tract         17`031`320`100  17`031`980`100  \n",
       "Dropoff Census Tract        17`031`320`100  17`031`980`100  \n",
       "Pickup Community Area                   56              91  \n",
       "Dropoff Community Area                  35              92  \n",
       "Fare                                 32.75             315  \n",
       "Tips                                  3.90             260  \n",
       "Tolls                                    0             300  \n",
       "Extras                                   2          300.25  \n",
       "Trip Total                           38.98             315  \n",
       "Payment Type                           nan         Unknown  \n",
       "Company                                nan       U Taxicab  \n",
       "Pickup Centroid Latitude             41.95           42.02  \n",
       "Pickup Centroid Longitude           -87.63          -87.53  \n",
       "Pickup Centroid Location               nan      POINT (-87  \n",
       "Dropoff Centroid Latitude            41.92           42.02  \n",
       "Dropoff Centroid Longitude          -87.63          -87.53  \n",
       "Dropoff Centroid  Location             nan      POINT (-87  "
      ]
     },
     "execution_count": 26,
     "metadata": {},
     "output_type": "execute_result"
    }
   ],
   "source": [
    "drf.transpose()"
   ]
  },
  {
   "cell_type": "markdown",
   "id": "1e07ec50-fd3d-4031-9766-007491469746",
   "metadata": {},
   "source": [
    "Загрузим ранее сохраненный файл с описанием полей ДФ такси"
   ]
  },
  {
   "cell_type": "code",
   "execution_count": 27,
   "id": "acbcb171-c5c7-452c-b1bd-3339c11664e6",
   "metadata": {},
   "outputs": [
    {
     "data": {
      "text/html": [
       "<div>\n",
       "<style scoped>\n",
       "    .dataframe tbody tr th:only-of-type {\n",
       "        vertical-align: middle;\n",
       "    }\n",
       "\n",
       "    .dataframe tbody tr th {\n",
       "        vertical-align: top;\n",
       "    }\n",
       "\n",
       "    .dataframe thead th {\n",
       "        text-align: right;\n",
       "    }\n",
       "</style>\n",
       "<table border=\"1\" class=\"dataframe\">\n",
       "  <thead>\n",
       "    <tr style=\"text-align: right;\">\n",
       "      <th></th>\n",
       "      <th>Description</th>\n",
       "      <th>Type</th>\n",
       "      <th>Описание</th>\n",
       "      <th>Тип</th>\n",
       "    </tr>\n",
       "    <tr>\n",
       "      <th>Column Name</th>\n",
       "      <th></th>\n",
       "      <th></th>\n",
       "      <th></th>\n",
       "      <th></th>\n",
       "    </tr>\n",
       "  </thead>\n",
       "  <tbody>\n",
       "    <tr>\n",
       "      <th>Trip ID</th>\n",
       "      <td>A unique identifier for the trip.</td>\n",
       "      <td>Plain Text</td>\n",
       "      <td>Уникальный идентификатор поездки</td>\n",
       "      <td>Обычный текст</td>\n",
       "    </tr>\n",
       "    <tr>\n",
       "      <th>Taxi ID</th>\n",
       "      <td>A unique identifier for the taxi.</td>\n",
       "      <td>Plain Text</td>\n",
       "      <td>Уникальный идентификатор такси</td>\n",
       "      <td>Обычный текст</td>\n",
       "    </tr>\n",
       "    <tr>\n",
       "      <th>Trip Start Timestamp</th>\n",
       "      <td>When the trip started rounded to the nearest 15 minutes.</td>\n",
       "      <td>Date &amp; Time</td>\n",
       "      <td>Время начала поездки округленное до ближайших 15 минут</td>\n",
       "      <td>Дата и время</td>\n",
       "    </tr>\n",
       "    <tr>\n",
       "      <th>Trip End Timestamp</th>\n",
       "      <td>When the trip ended rounded to the nearest 15 minutes.</td>\n",
       "      <td>Date &amp; Time</td>\n",
       "      <td>Время окончания поездки округленное до ближайших 15 минут</td>\n",
       "      <td>Дата и время</td>\n",
       "    </tr>\n",
       "    <tr>\n",
       "      <th>Trip Seconds</th>\n",
       "      <td>Time of the trip in seconds.</td>\n",
       "      <td>Number</td>\n",
       "      <td>Продолжительность поездки в секундах</td>\n",
       "      <td>Число</td>\n",
       "    </tr>\n",
       "    <tr>\n",
       "      <th>Trip Miles</th>\n",
       "      <td>Distance of the trip in miles.</td>\n",
       "      <td>Number</td>\n",
       "      <td>Расстояние поездки в милях</td>\n",
       "      <td>Число</td>\n",
       "    </tr>\n",
       "    <tr>\n",
       "      <th>Pickup Census Tract</th>\n",
       "      <td>The Census Tract where the trip began. For privacy  this Census Tract is not shown for some trips. This column often will be blank for locations outside Chicago.</td>\n",
       "      <td>Plain Text</td>\n",
       "      <td>Код района по переписи населения  где началась поездка. В целях конфиденциальности этот код не отображается для некоторых поездок. Это поле часто остается пустым для мест за пределами Чикаго.</td>\n",
       "      <td>Обычный текст</td>\n",
       "    </tr>\n",
       "    <tr>\n",
       "      <th>Dropoff Census Tract</th>\n",
       "      <td>The Census Tract where the trip ended. For privacy  this Census Tract is not shown for some trips. This column often will be blank for locations outside Chicago.</td>\n",
       "      <td>Plain Text</td>\n",
       "      <td>Код района по переписи населения  где завершилась поездка. В целях конфиденциальности этот код не отображается для некоторых поездок. Это поле часто остается пустым для мест за пределами Чикаго.</td>\n",
       "      <td>Обычный текст</td>\n",
       "    </tr>\n",
       "    <tr>\n",
       "      <th>Pickup Community Area</th>\n",
       "      <td>The Community Area where the trip began. This column will be blank for locations outside Chicago.</td>\n",
       "      <td>Number</td>\n",
       "      <td>Номер коммунальной области  где началась поездка. Это поле остается пустым для мест за пределами Чикаго.</td>\n",
       "      <td>Число</td>\n",
       "    </tr>\n",
       "    <tr>\n",
       "      <th>Dropoff Community Area</th>\n",
       "      <td>The Community Area where the trip ended. This column will be blank for locations outside Chicago.</td>\n",
       "      <td>Number</td>\n",
       "      <td>Номер коммунальной области  где завершилась поездка. Это поле остается пустым для мест за пределами Чикаго.</td>\n",
       "      <td>Число</td>\n",
       "    </tr>\n",
       "    <tr>\n",
       "      <th>Fare</th>\n",
       "      <td>The fare for the trip.</td>\n",
       "      <td>Number</td>\n",
       "      <td>Стоимость поездки.</td>\n",
       "      <td>Число</td>\n",
       "    </tr>\n",
       "    <tr>\n",
       "      <th>Tips</th>\n",
       "      <td>The tip for the trip. Cash tips generally will not be recorded.</td>\n",
       "      <td>Number</td>\n",
       "      <td>Сумма чаевых за поездку. Наличные чаевые обычно не записываются.</td>\n",
       "      <td>Число</td>\n",
       "    </tr>\n",
       "    <tr>\n",
       "      <th>Tolls</th>\n",
       "      <td>The tolls for the trip.</td>\n",
       "      <td>Number</td>\n",
       "      <td>Сумма оплаты за проезд (платные дороги) за поездку.</td>\n",
       "      <td>Число</td>\n",
       "    </tr>\n",
       "    <tr>\n",
       "      <th>Extras</th>\n",
       "      <td>Extra charges for the trip.</td>\n",
       "      <td>Number</td>\n",
       "      <td>Дополнительные сборы за поездку.</td>\n",
       "      <td>Число</td>\n",
       "    </tr>\n",
       "    <tr>\n",
       "      <th>Trip Total</th>\n",
       "      <td>Total cost of the trip the total of the previous columns.</td>\n",
       "      <td>Number</td>\n",
       "      <td>Общая стоимость поездки сумма предыдущих столбцов.</td>\n",
       "      <td>Число</td>\n",
       "    </tr>\n",
       "    <tr>\n",
       "      <th>Payment Type</th>\n",
       "      <td>Type of payment for the trip.</td>\n",
       "      <td>Plain Text</td>\n",
       "      <td>Способ оплаты поездки.</td>\n",
       "      <td>Обычный текст</td>\n",
       "    </tr>\n",
       "    <tr>\n",
       "      <th>Company</th>\n",
       "      <td>The taxi company.</td>\n",
       "      <td>Plain Text</td>\n",
       "      <td>Название такси-компании.</td>\n",
       "      <td>Обычный текст</td>\n",
       "    </tr>\n",
       "    <tr>\n",
       "      <th>Pickup Centroid Latitude</th>\n",
       "      <td>The latitude of the center of the pickup census tract or the community area if the census tract has been hidden for privacy. This column often will be blank for locations outside Chicago.</td>\n",
       "      <td>Number</td>\n",
       "      <td>Широта центра района по переписи или коммунальной области для местности, где началась поездка, если код района скрыт в целях конфиденциальности. Это поле часто остается пустым для мест за пределами Чикаго.</td>\n",
       "      <td>Число</td>\n",
       "    </tr>\n",
       "    <tr>\n",
       "      <th>Pickup Centroid Longitude</th>\n",
       "      <td>The longitude of the center of the pickup census tract or the community area if the census tract has been hidden for privacy. This column often will be blank for locations outside Chicago.</td>\n",
       "      <td>Number</td>\n",
       "      <td>Долгота центра района по переписи или коммунальной области для местности, где началась поездка, если код района скрыт в целях конфиденциальности. Это поле часто остается пустым для мест за пределами Чикаго.</td>\n",
       "      <td>Число</td>\n",
       "    </tr>\n",
       "    <tr>\n",
       "      <th>Pickup Centroid Location</th>\n",
       "      <td>The location of the center of the pickup census tract or the community area if the census tract has been hidden for privacy. This column often will be blank for locations outside Chicago.</td>\n",
       "      <td>Point</td>\n",
       "      <td>Местоположение центра района по переписи или коммунальной области для местности, где началась поездка, если код района скрыт в целях конфиденциальности. Это поле часто остается пустым для мест за пределами Чикаго.</td>\n",
       "      <td>Точка (координаты)</td>\n",
       "    </tr>\n",
       "    <tr>\n",
       "      <th>Dropoff Centroid Latitude</th>\n",
       "      <td>The latitude of the center of the dropoff census tract or the community area if the census tract has been hidden for privacy. This column often will be blank for locations outside Chicago.</td>\n",
       "      <td>Number</td>\n",
       "      <td>Широта центра района по переписи или коммунальной области для местности, где завершилась поездка, если код района скрыт в целях конфиденциальности. Это поле часто остается пустым для мест за пределами Чикаго.</td>\n",
       "      <td>Число</td>\n",
       "    </tr>\n",
       "    <tr>\n",
       "      <th>Dropoff Centroid Longitude</th>\n",
       "      <td>The longitude of the center of the dropoff census tract or the community area if the census tract has been hidden for privacy. This column often will be blank for locations outside Chicago.</td>\n",
       "      <td>Number</td>\n",
       "      <td>Долгота центра района по переписи или коммунальной области для местности, где завершилась поездка, если код района скрыт в целях конфиденциальности. Это поле часто остается пустым для мест за пределами Чикаго.</td>\n",
       "      <td>Число</td>\n",
       "    </tr>\n",
       "    <tr>\n",
       "      <th>Dropoff Centroid Location</th>\n",
       "      <td>The location of the center of the dropoff census tract or the community area if the census tract has been hidden for privacy. This column often will be blank for locations outside Chicago.</td>\n",
       "      <td>Point</td>\n",
       "      <td>Местоположение центра района по переписи или коммунальной области для местности, где завершилась поездка, если код района скрыт в целях конфиденциальности. Это поле часто остается пустым для мест за пределами Чикаго.</td>\n",
       "      <td>Точка (координаты)</td>\n",
       "    </tr>\n",
       "  </tbody>\n",
       "</table>\n",
       "</div>"
      ],
      "text/plain": [
       "                                                                                                                                                                                                              Description  \\\n",
       "Column Name                                                                                                                                                                                                                 \n",
       "Trip ID                                                                                                                                                                                 A unique identifier for the trip.   \n",
       "Taxi ID                                                                                                                                                                                 A unique identifier for the taxi.   \n",
       "Trip Start Timestamp                                                                                                                                             When the trip started rounded to the nearest 15 minutes.   \n",
       "Trip End Timestamp                                                                                                                                                 When the trip ended rounded to the nearest 15 minutes.   \n",
       "Trip Seconds                                                                                                                                                                                 Time of the trip in seconds.   \n",
       "Trip Miles                                                                                                                                                                                 Distance of the trip in miles.   \n",
       "Pickup Census Tract                                     The Census Tract where the trip began. For privacy  this Census Tract is not shown for some trips. This column often will be blank for locations outside Chicago.   \n",
       "Dropoff Census Tract                                    The Census Tract where the trip ended. For privacy  this Census Tract is not shown for some trips. This column often will be blank for locations outside Chicago.   \n",
       "Pickup Community Area                                                                                                   The Community Area where the trip began. This column will be blank for locations outside Chicago.   \n",
       "Dropoff Community Area                                                                                                  The Community Area where the trip ended. This column will be blank for locations outside Chicago.   \n",
       "Fare                                                                                                                                                                                               The fare for the trip.   \n",
       "Tips                                                                                                                                                      The tip for the trip. Cash tips generally will not be recorded.   \n",
       "Tolls                                                                                                                                                                                             The tolls for the trip.   \n",
       "Extras                                                                                                                                                                                        Extra charges for the trip.   \n",
       "Trip Total                                                                                                                                                      Total cost of the trip the total of the previous columns.   \n",
       "Payment Type                                                                                                                                                                                Type of payment for the trip.   \n",
       "Company                                                                                                                                                                                                 The taxi company.   \n",
       "Pickup Centroid Latitude      The latitude of the center of the pickup census tract or the community area if the census tract has been hidden for privacy. This column often will be blank for locations outside Chicago.   \n",
       "Pickup Centroid Longitude    The longitude of the center of the pickup census tract or the community area if the census tract has been hidden for privacy. This column often will be blank for locations outside Chicago.   \n",
       "Pickup Centroid Location      The location of the center of the pickup census tract or the community area if the census tract has been hidden for privacy. This column often will be blank for locations outside Chicago.   \n",
       "Dropoff Centroid Latitude    The latitude of the center of the dropoff census tract or the community area if the census tract has been hidden for privacy. This column often will be blank for locations outside Chicago.   \n",
       "Dropoff Centroid Longitude  The longitude of the center of the dropoff census tract or the community area if the census tract has been hidden for privacy. This column often will be blank for locations outside Chicago.   \n",
       "Dropoff Centroid Location    The location of the center of the dropoff census tract or the community area if the census tract has been hidden for privacy. This column often will be blank for locations outside Chicago.   \n",
       "\n",
       "                                   Type  \\\n",
       "Column Name                               \n",
       "Trip ID                      Plain Text   \n",
       "Taxi ID                      Plain Text   \n",
       "Trip Start Timestamp        Date & Time   \n",
       "Trip End Timestamp          Date & Time   \n",
       "Trip Seconds                     Number   \n",
       "Trip Miles                       Number   \n",
       "Pickup Census Tract          Plain Text   \n",
       "Dropoff Census Tract         Plain Text   \n",
       "Pickup Community Area            Number   \n",
       "Dropoff Community Area           Number   \n",
       "Fare                             Number   \n",
       "Tips                             Number   \n",
       "Tolls                            Number   \n",
       "Extras                           Number   \n",
       "Trip Total                       Number   \n",
       "Payment Type                 Plain Text   \n",
       "Company                      Plain Text   \n",
       "Pickup Centroid Latitude         Number   \n",
       "Pickup Centroid Longitude        Number   \n",
       "Pickup Centroid Location          Point   \n",
       "Dropoff Centroid Latitude        Number   \n",
       "Dropoff Centroid Longitude       Number   \n",
       "Dropoff Centroid Location         Point   \n",
       "\n",
       "                                                                                                                                                                                                                                             Описание  \\\n",
       "Column Name                                                                                                                                                                                                                                             \n",
       "Trip ID                                                                                                                                                                                                              Уникальный идентификатор поездки   \n",
       "Taxi ID                                                                                                                                                                                                                Уникальный идентификатор такси   \n",
       "Trip Start Timestamp                                                                                                                                                                           Время начала поездки округленное до ближайших 15 минут   \n",
       "Trip End Timestamp                                                                                                                                                                          Время окончания поездки округленное до ближайших 15 минут   \n",
       "Trip Seconds                                                                                                                                                                                                     Продолжительность поездки в секундах   \n",
       "Trip Miles                                                                                                                                                                                                                 Расстояние поездки в милях   \n",
       "Pickup Census Tract                                   Код района по переписи населения  где началась поездка. В целях конфиденциальности этот код не отображается для некоторых поездок. Это поле часто остается пустым для мест за пределами Чикаго.   \n",
       "Dropoff Census Tract                               Код района по переписи населения  где завершилась поездка. В целях конфиденциальности этот код не отображается для некоторых поездок. Это поле часто остается пустым для мест за пределами Чикаго.   \n",
       "Pickup Community Area                                                                                                                        Номер коммунальной области  где началась поездка. Это поле остается пустым для мест за пределами Чикаго.   \n",
       "Dropoff Community Area                                                                                                                    Номер коммунальной области  где завершилась поездка. Это поле остается пустым для мест за пределами Чикаго.   \n",
       "Fare                                                                                                                                                                                                                               Стоимость поездки.   \n",
       "Tips                                                                                                                                                                                 Сумма чаевых за поездку. Наличные чаевые обычно не записываются.   \n",
       "Tolls                                                                                                                                                                                             Сумма оплаты за проезд (платные дороги) за поездку.   \n",
       "Extras                                                                                                                                                                                                               Дополнительные сборы за поездку.   \n",
       "Trip Total                                                                                                                                                                                         Общая стоимость поездки сумма предыдущих столбцов.   \n",
       "Payment Type                                                                                                                                                                                                                   Способ оплаты поездки.   \n",
       "Company                                                                                                                                                                                                                      Название такси-компании.   \n",
       "Pickup Centroid Latitude                Широта центра района по переписи или коммунальной области для местности, где началась поездка, если код района скрыт в целях конфиденциальности. Это поле часто остается пустым для мест за пределами Чикаго.   \n",
       "Pickup Centroid Longitude              Долгота центра района по переписи или коммунальной области для местности, где началась поездка, если код района скрыт в целях конфиденциальности. Это поле часто остается пустым для мест за пределами Чикаго.   \n",
       "Pickup Centroid Location        Местоположение центра района по переписи или коммунальной области для местности, где началась поездка, если код района скрыт в целях конфиденциальности. Это поле часто остается пустым для мест за пределами Чикаго.   \n",
       "Dropoff Centroid Latitude            Широта центра района по переписи или коммунальной области для местности, где завершилась поездка, если код района скрыт в целях конфиденциальности. Это поле часто остается пустым для мест за пределами Чикаго.   \n",
       "Dropoff Centroid Longitude          Долгота центра района по переписи или коммунальной области для местности, где завершилась поездка, если код района скрыт в целях конфиденциальности. Это поле часто остается пустым для мест за пределами Чикаго.   \n",
       "Dropoff Centroid Location    Местоположение центра района по переписи или коммунальной области для местности, где завершилась поездка, если код района скрыт в целях конфиденциальности. Это поле часто остается пустым для мест за пределами Чикаго.   \n",
       "\n",
       "                                            Тип  \n",
       "Column Name                                      \n",
       "Trip ID                           Обычный текст  \n",
       "Taxi ID                           Обычный текст  \n",
       "Trip Start Timestamp               Дата и время  \n",
       "Trip End Timestamp                 Дата и время  \n",
       "Trip Seconds                              Число  \n",
       "Trip Miles                                Число  \n",
       "Pickup Census Tract               Обычный текст  \n",
       "Dropoff Census Tract              Обычный текст  \n",
       "Pickup Community Area                     Число  \n",
       "Dropoff Community Area                    Число  \n",
       "Fare                                      Число  \n",
       "Tips                                      Число  \n",
       "Tolls                                     Число  \n",
       "Extras                                    Число  \n",
       "Trip Total                                Число  \n",
       "Payment Type                      Обычный текст  \n",
       "Company                           Обычный текст  \n",
       "Pickup Centroid Latitude                  Число  \n",
       "Pickup Centroid Longitude                 Число  \n",
       "Pickup Centroid Location     Точка (координаты)  \n",
       "Dropoff Centroid Latitude                 Число  \n",
       "Dropoff Centroid Longitude                Число  \n",
       "Dropoff Centroid Location    Точка (координаты)  "
      ]
     },
     "metadata": {},
     "output_type": "display_data"
    }
   ],
   "source": [
    "pd.set_option('display.max_colwidth', None)\n",
    "\n",
    "table_descr = pd.read_csv('/work/data/table_descr.csv',sep=';',index_col='Column Name')\n",
    "display(table_descr)\n",
    "\n",
    "pd.reset_option('display.max_colwidth')  # Сброс максимальной ширины столбцов к значению по умолчанию"
   ]
  },
  {
   "cell_type": "markdown",
   "id": "3613edd0-1309-44ad-9227-a6b02f6f93d7",
   "metadata": {
    "jp-MarkdownHeadingCollapsed": true
   },
   "source": [
    "### Описание полей \"Census Tract\" и \"Community Area\""
   ]
  },
  {
   "cell_type": "markdown",
   "id": "5505ab35-98d4-4f00-a075-45f758ab72f3",
   "metadata": {},
   "source": [
    "Поля \"Census Tract\" и \"Community Area\" представляют собой два различных уровня административных единиц:\n",
    "\n",
    "**Census Tract:**  \n",
    "Это статистические единицы, используемые в переписи населения в США, проводимой каждые 10 лет.\n",
    "Census Tract обычно представляют собой географические области, населенные от 1 200 до 8 000 человек.\n",
    "Они предназначены для обеспечения стандартизированных данных для анализа населения, доходов, расового и этнического состава и других социально-экономических параметров.\n",
    "\n",
    "Далее для краткости буду называть данную адм.единицу - **Район** (хотя правильней было бы \"квартал\", но этот термин будет путаться с временным окном)\n",
    "\n",
    "**Community Area:**  \n",
    "Это административные районы в городе Чикаго, разработанные городским правительством.\n",
    "Community Areas используются для организации и управления городскими службами и ресурсами.\n",
    "Обычно Community Areas выступают в качестве единиц анализа для изучения социальных и экономических показателей, таких как уровень преступности, доступность образования и здравоохранения и др.\n",
    "\n",
    "Далее для краткости буду называть данную адм.единицу - **Округ**\n",
    "\n",
    "Community Area представляют собой административные районы, охватывающие большие части города, в то время как Census Tract более мелкие географические области, которые могут быть распределены по всему Community Area. Таким образом, Community Area охватывает несколько Census Tract и представляет собой более крупную административную единицу.\n",
    "\n",
    "В идеальной ситуации каждый Census Tract должен быть частью только одной Community Area, чтобы избежать перекрытий и дублирования данных. Однако в реальности могут быть исключения из-за изменений границ административных районов или других факторов."
   ]
  },
  {
   "cell_type": "markdown",
   "id": "a4e4cd7f-5f44-432f-aed8-695df14fab80",
   "metadata": {
    "editable": true,
    "jp-MarkdownHeadingCollapsed": true,
    "slideshow": {
     "slide_type": ""
    },
    "tags": []
   },
   "source": [
    "### Ключи-агрегаторы"
   ]
  },
  {
   "cell_type": "markdown",
   "id": "d6ee2823-d614-432a-81b2-79da02f3ed8a",
   "metadata": {},
   "source": [
    "В качестве ключа-агрегатора будет использоваться район - для детальной агрегации и округ для крупной (как и требуется в рамках проекта)"
   ]
  },
  {
   "cell_type": "markdown",
   "id": "92c079f6-14c0-4793-8455-570a9933d24d",
   "metadata": {},
   "source": [
    "## Инвентаризация объектов"
   ]
  },
  {
   "cell_type": "code",
   "execution_count": null,
   "id": "016b104e-d557-4e10-b46b-a1073b42e759",
   "metadata": {},
   "outputs": [],
   "source": [
    "# reload(pds)"
   ]
  },
  {
   "cell_type": "markdown",
   "id": "af3e02b3-a1a9-4db1-aacb-c7cad8ca434b",
   "metadata": {},
   "source": [
    "Посмотрим список объектов в памяти области видимости программы"
   ]
  },
  {
   "cell_type": "code",
   "execution_count": 28,
   "id": "dec2b385-4b3e-4c8e-9a2d-b3f4bec72937",
   "metadata": {},
   "outputs": [
    {
     "data": {
      "text/html": [
       "<div style=\"display: flex; justify-content: space-between;\"><div style=\"flex: 1; padding-right: 10px;\"><table border=\"1\" class=\"dataframe\">\n",
       "  <thead>\n",
       "    <tr style=\"text-align: right;\">\n",
       "      <th>Name</th>\n",
       "      <th>Type</th>\n",
       "      <th>Size (bytes)</th>\n",
       "    </tr>\n",
       "  </thead>\n",
       "  <tbody>\n",
       "    <tr>\n",
       "      <td>HTML</td>\n",
       "      <td>type</td>\n",
       "      <td>1688</td>\n",
       "    </tr>\n",
       "    <tr>\n",
       "      <td>display</td>\n",
       "      <td>function</td>\n",
       "      <td>152</td>\n",
       "    </tr>\n",
       "    <tr>\n",
       "      <td>get_column_types</td>\n",
       "      <td>function</td>\n",
       "      <td>152</td>\n",
       "    </tr>\n",
       "    <tr>\n",
       "      <td>get_df_formated</td>\n",
       "      <td>function</td>\n",
       "      <td>152</td>\n",
       "    </tr>\n",
       "    <tr>\n",
       "      <td>gvf</td>\n",
       "      <td>function</td>\n",
       "      <td>152</td>\n",
       "    </tr>\n",
       "    <tr>\n",
       "      <td>inventory_objects</td>\n",
       "      <td>function</td>\n",
       "      <td>152</td>\n",
       "    </tr>\n",
       "    <tr>\n",
       "      <td>display_chunked</td>\n",
       "      <td>function</td>\n",
       "      <td>152</td>\n",
       "    </tr>\n",
       "    <tr>\n",
       "      <td>pd</td>\n",
       "      <td>module</td>\n",
       "      <td>72</td>\n",
       "    </tr>\n",
       "    <tr>\n",
       "      <td>sys</td>\n",
       "      <td>module</td>\n",
       "      <td>72</td>\n",
       "    </tr>\n",
       "  </tbody>\n",
       "</table></div><div style=\"flex: 1; padding-left: 10px;\"><table border=\"1\" class=\"dataframe\">\n",
       "  <thead>\n",
       "    <tr style=\"text-align: right;\">\n",
       "      <th>Name</th>\n",
       "      <th>Type</th>\n",
       "      <th>Size (bytes)</th>\n",
       "    </tr>\n",
       "  </thead>\n",
       "  <tbody>\n",
       "  </tbody>\n",
       "</table></div></div>"
      ],
      "text/plain": [
       "<IPython.core.display.HTML object>"
      ]
     },
     "metadata": {},
     "output_type": "display_data"
    },
    {
     "name": "stdout",
     "output_type": "stream",
     "text": [
      "Displaying rows 0 to 8 of 9\n"
     ]
    }
   ],
   "source": [
    "# Вызов функций\n",
    "df_inventory = pds.inventory_objects()\n",
    "pds.display_chunked(df_inventory, chunk_size=10)"
   ]
  },
  {
   "cell_type": "markdown",
   "id": "dbdda052-122a-4d30-ba6c-0979e1a01bae",
   "metadata": {},
   "source": [
    "Больших объектов по занимаемой памяти нет. Пока ничего удалять не будем."
   ]
  },
  {
   "cell_type": "markdown",
   "id": "52162243-2d7d-473a-9ed1-5c74913820dc",
   "metadata": {
    "jp-MarkdownHeadingCollapsed": true
   },
   "source": [
    "## Частоты \"Census Tract\""
   ]
  },
  {
   "cell_type": "markdown",
   "id": "7f441fe4-df6b-4130-a2e1-4f4e07e514ba",
   "metadata": {},
   "source": [
    "Посмотрим распределение трактов с координатами"
   ]
  },
  {
   "cell_type": "code",
   "execution_count": null,
   "id": "1c5233a8-5280-4075-b069-4de5edf5c659",
   "metadata": {},
   "outputs": [],
   "source": [
    "ct_p =  taxis.select(\n",
    "    f.col(ct.pickup_ct).alias(\"ct\"),\n",
    "    f.col(ct.pickup_cl).alias(\"lat\"),\n",
    "    f.col(ct.pickup_clon).alias(\"lon\"),\n",
    ").filter(\n",
    "    (f.col(\"ct\").isNotNull()) &\n",
    "    (f.col(\"lat\").isNotNull()) &\n",
    "    (f.col(\"lon\").isNotNull())\n",
    ").groupBy(\"ct\",\"lat\",\"lon\").count().orderBy(f.col(\"count\").desc())\n",
    "\n",
    "# ct_null_p.cache()\n",
    "\n",
    "ct_d =  taxis.select(\n",
    "    f.col(ct.dropoff_ct).alias(\"ct\"),\n",
    "    f.col(ct.dropoff_cl).alias(\"lat\"),\n",
    "    f.col(ct.dropoff_clon).alias(\"lon\")\n",
    ").filter(\n",
    "    (f.col(\"ct\").isNotNull()) &\n",
    "    (f.col(\"lat\").isNotNull()) &\n",
    "    (f.col(\"lon\").isNotNull())\n",
    ").groupBy(\"ct\",\"lat\",\"lon\").count().orderBy(f.col(\"count\").desc())\n",
    "# taxisd.cache()\n"
   ]
  },
  {
   "cell_type": "code",
   "execution_count": null,
   "id": "52a784b8-3418-4926-9770-036abc06e748",
   "metadata": {},
   "outputs": [],
   "source": [
    "print(\"Количество пунктов посадки с координатами:\",ct_p.count())\n",
    "ct_p.show(20)\n",
    "ct_p.cache()\n",
    "print(\"Количество пунктов высадки с координатами:\",ct_d.count())\n",
    "ct_d.show(20)\n",
    "ct_d.cache()"
   ]
  },
  {
   "cell_type": "markdown",
   "id": "dfc84cde-f0ed-4bfb-8905-232b95d00724",
   "metadata": {},
   "source": [
    "Создадим функцию для вывода 3Д гистграмм"
   ]
  },
  {
   "cell_type": "code",
   "execution_count": null,
   "id": "c27bf302-f3af-40bc-bdb6-38c8a1ca8e23",
   "metadata": {},
   "outputs": [],
   "source": [
    "def plot_3d_hist(pdf):\n",
    "    # Настройка размерности гистограммы\n",
    "    x_bins = np.linspace(pdf['lon'].min(), pdf['lon'].max(), num=30)\n",
    "    y_bins = np.linspace(pdf['lat'].min(), pdf['lat'].max(), num=30)\n",
    "    \n",
    "    # Создание гистограммы\n",
    "    hist, x_edges, y_edges = np.histogram2d(pdf['lon'], pdf['lat'], bins=[x_bins, y_bins], weights=pdf['count'])\n",
    "    \n",
    "    # Создание 3D графика\n",
    "    fig = plt.figure(figsize=(10, 7))\n",
    "    ax = fig.add_subplot(111, projection='3d')\n",
    "    \n",
    "    # Создание координат для гистограммы\n",
    "    x_pos, y_pos = np.meshgrid(x_edges[:-1] + 0.25, y_edges[:-1] + 0.25, indexing=\"ij\")\n",
    "    x_pos = x_pos.ravel()\n",
    "    y_pos = y_pos.ravel()\n",
    "    z_pos = 0\n",
    "    \n",
    "    # Размеры гистограммы\n",
    "    dx = dy = 0.012 * np.ones_like(z_pos)  # Уменьшаем толщину столбцов\n",
    "    dz = hist.ravel()\n",
    "    \n",
    "    # Построение гистограммы\n",
    "    ax.bar3d(x_pos, y_pos, z_pos, dx, dy, dz, zsort='average')\n",
    "    \n",
    "    # Настройка меток осей\n",
    "    ax.set_xlabel('Longitude')\n",
    "    ax.set_ylabel('Latitude')\n",
    "    ax.set_zlabel('Number of Trips')\n",
    "    \n",
    "    # Отображение графика\n",
    "    plt.show()"
   ]
  },
  {
   "cell_type": "code",
   "execution_count": null,
   "id": "e3bcb3a1-9764-4939-8284-af07e394fcc9",
   "metadata": {},
   "outputs": [],
   "source": [
    "plot_3d_hist(ct_p.toPandas())"
   ]
  },
  {
   "cell_type": "markdown",
   "id": "c39091a7-6989-4ff8-a4be-3cc264f7a33d",
   "metadata": {},
   "source": [
    "Видим, что самая плотная точка посадки находится на северо-западе (41.899602111|-87.633308037|673'556). Очевидно - это аэропорт О'Хара. \n",
    "Другие плотные точки находятся в центре города.  \n",
    "Посмотрим график для точек с количеством поездок менее 200К"
   ]
  },
  {
   "cell_type": "code",
   "execution_count": null,
   "id": "b7192107-e121-476b-82e1-b65c0ae96766",
   "metadata": {},
   "outputs": [],
   "source": [
    "plot_3d_hist(ct_p.filter(f.col(\"count\")<200000).toPandas())"
   ]
  },
  {
   "cell_type": "markdown",
   "id": "23a3da2e-2af7-4a74-bb62-0cd00da36424",
   "metadata": {},
   "source": [
    "Наиболее плотные области также в центре - вдоль озера.  \n",
    "Посмотрим на точки высадки"
   ]
  },
  {
   "cell_type": "code",
   "execution_count": null,
   "id": "45b6ae92-8965-4b74-a8ff-91e2e19a6b69",
   "metadata": {},
   "outputs": [],
   "source": [
    "plot_3d_hist(ct_d.toPandas())"
   ]
  },
  {
   "cell_type": "code",
   "execution_count": null,
   "id": "aaad44f3-7be3-41a6-8d4d-b9f5af77ed16",
   "metadata": {},
   "outputs": [],
   "source": [
    "plot_3d_hist(ct_p.filter(f.col(\"count\")<200000).toPandas())"
   ]
  },
  {
   "cell_type": "markdown",
   "id": "aa8f7c54-62a7-4dd0-ac99-c1a31b05b427",
   "metadata": {},
   "source": [
    "Плотность точек высадки имеет схожую картину. Но аэропорт не лидирует.  \n",
    "\n",
    "Основные выводы  \n",
    "- следует отдельно анализировать поездки из аэропорта (и в аэропорт)\n",
    "- основная часть поездок совершается по центральным районам"
   ]
  },
  {
   "cell_type": "markdown",
   "id": "2803d14d-a8df-43e6-a6fc-67a281a4c0f8",
   "metadata": {},
   "source": [
    "## Обзор полей 'Payment Type', 'Company'"
   ]
  },
  {
   "cell_type": "markdown",
   "id": "545c2029-2116-45ae-862e-8faa42c7a972",
   "metadata": {},
   "source": [
    "Посмотрим типы платежей"
   ]
  },
  {
   "cell_type": "markdown",
   "id": "d4217329-fe7d-4fa0-9027-ebd70066f8fe",
   "metadata": {},
   "source": [
    "Значения в поле \"тип платежа\" распределены следующим образом:  \n",
    "```yaml\n",
    "| Type        | Count      | Pt_Ratio |\n",
    "|-------------|------------|----------|\n",
    "| Credit Card | 7,122,369  | 38.08    |\n",
    "| Cash        | 6,004,118  | 32.10    |\n",
    "| Mobile      | 2,552,494  | 13.65    |\n",
    "| Prcard      | 1,969,606  | 10.53    |\n",
    "| Unknown     | 1,057,472  | 5.65     |\n"
   ]
  },
  {
   "cell_type": "code",
   "execution_count": null,
   "id": "1d113637-e622-4f54-be12-f2242d5b680b",
   "metadata": {},
   "outputs": [],
   "source": [
    "# payment_types = taxis.select(f.col(ct.payment_t))\\\n",
    "# .groupBy(f.col(ct.payment_t)).count().orderBy(f.col(\"count\").desc()).toPandas()"
   ]
  },
  {
   "cell_type": "code",
   "execution_count": null,
   "id": "75a2cdab-c5cd-4758-8ca0-cd511ef60853",
   "metadata": {},
   "outputs": [],
   "source": [
    "# payment_types.set_index(['Payment Type'], inplace=True)"
   ]
  },
  {
   "cell_type": "code",
   "execution_count": null,
   "id": "d1190da8-3fc9-4d2c-9e75-90f93eac874d",
   "metadata": {},
   "outputs": [],
   "source": [
    "# pt = payment_types.copy()\n",
    "# pt_total = pt['count'].sum()\n",
    "# pt['pt_ratio']=(pt['count']/pt_total)*100\n",
    "# # f\"Доля таких записей в датасете: {(key_full_null_count/row_count)*100:.2f}%\""
   ]
  },
  {
   "cell_type": "code",
   "execution_count": null,
   "id": "bcb0e18c-f1e7-4f00-b934-41a17d221ada",
   "metadata": {},
   "outputs": [],
   "source": [
    "# #  отформатируем таблицу\n",
    "# pds.get_df_formated(pt, '\\'',2, 10)\n",
    "# pt"
   ]
  },
  {
   "cell_type": "markdown",
   "id": "bc3c3e2f-3e04-4ba4-bea7-1901181e4d8c",
   "metadata": {},
   "source": [
    "Посмотрим компании"
   ]
  },
  {
   "cell_type": "code",
   "execution_count": null,
   "id": "c8f2ddd3-ca63-4218-93b1-3ec212b60588",
   "metadata": {},
   "outputs": [],
   "source": [
    "# companies = taxis.select(f.col(ct.company))\\\n",
    "# .groupBy(f.col(ct.company)).count().orderBy(f.col(\"count\").desc()).toPandas()"
   ]
  },
  {
   "cell_type": "code",
   "execution_count": null,
   "id": "7729fe86-2d50-477a-b109-d1a65d3dcea5",
   "metadata": {},
   "outputs": [],
   "source": [
    "# output_file_path = '/work/data/companies.csv'\n",
    "# companies.to_csv(output_file_path, index=False)"
   ]
  },
  {
   "cell_type": "code",
   "execution_count": null,
   "id": "90118bd6-0b78-487b-b417-fd458663cd62",
   "metadata": {},
   "outputs": [],
   "source": [
    "companies = pd.read_csv('/work/data/companies.csv',sep=',')\n",
    "\n",
    "companies.set_index([ct.company], inplace=True)\n",
    "\n",
    "cmps = companies.copy()\n",
    "cmps_total = cmps['count'].sum()\n",
    "cmps['company_ratio']=(cmps['count']/cmps_total)*100"
   ]
  },
  {
   "cell_type": "code",
   "execution_count": null,
   "id": "43d8039a-bd7f-46c1-994c-79bfdcbb48d5",
   "metadata": {},
   "outputs": [],
   "source": [
    "#  отформатируем таблицу\n",
    "pds.get_df_formated(cmps, '\\'',2, 10)\n",
    "cmps['company_ratio'] = cmps['company_ratio'].astype(float)\n",
    "print(\"Количество компаний:\",cmps['count'].count())\n",
    "cmps"
   ]
  },
  {
   "cell_type": "code",
   "execution_count": null,
   "id": "8a3f74a1-9d54-4323-bbb6-ace0f653bace",
   "metadata": {},
   "outputs": [],
   "source": [
    "# список топ команий с индивидуальной общей долей более 5%\n",
    "top_companies = cmps[cmps['company_ratio'] >= 5.0].index.tolist()"
   ]
  },
  {
   "cell_type": "markdown",
   "id": "35de4086-a919-4c47-b0dd-43d1bb936449",
   "metadata": {},
   "source": [
    "## Агрегация описание"
   ]
  },
  {
   "cell_type": "markdown",
   "id": "e97adfd3-b13d-40e4-8931-5c5189be2549",
   "metadata": {},
   "source": [
    "Сделаем агрегацию по четвертьчасовым периодам.  \n",
    "Создадим 2 агрегированных ДФ:\n",
    "- по районам (округам) посадки, без включения полей с гео-ключами высадки - suffix: `_p`\n",
    "- по районам (округам) высадки, без включения полей с гео-ключами посадки - suffix: `_d`\n",
    "\n",
    "Создадим такие поля:\n",
    "- район (тракт): `ct`\n",
    "- округ (ареа): `ca`\n",
    "- начало интервала: `interbeg`\n",
    "- конец интервала: `interend`\n",
    "- количество поездок: `trips`\n",
    "- общая длительность поездок: `time`\n",
    "- общее расстояние поездок: `miles`\n",
    "- средняя скорость поездок: `velocity` = `miles`/`time`\n",
    "- суммы стоимостей: `fare`,`tips`,`tolls`,`extras`,`total`\n",
    "- стоимости на расстояние: `farem`,`tipsm`,`tollsm`,`extrasm`,`totalm`\n",
    "- стоимости на время: `fares`,`tipss`,`tollss`,`extrass`,`totals`\n",
    "- тип платежа не включаю в рассмотрение\n",
    "- кол-во заказов по каждой из 5 крупнейший компаний (с долей от 5% и выше): `comp1`,`comp2`,`comp3`,`comp4`,`comp5`\n",
    "- общее кол-во заказов по компаниям с долей от 5% и ниже: `compless5`"
   ]
  },
  {
   "cell_type": "markdown",
   "id": "7d1de0dd-d2e8-401a-8afd-c7e7fc503104",
   "metadata": {},
   "source": [
    "## Агрегация - манипуляции"
   ]
  },
  {
   "cell_type": "markdown",
   "id": "c876fe39-fb29-46d7-a2f0-cdd9dde84b55",
   "metadata": {},
   "source": [
    "Если необходимо провести первичную агрегацию из исходных данных, выполняются действия в ранном разделе. Либо можно загрузить готовые первично агрегированные данные в соответствующем (последнем) разделе."
   ]
  },
  {
   "cell_type": "code",
   "execution_count": null,
   "id": "bf18579f-f472-4c14-af02-aa1fc46c913d",
   "metadata": {},
   "outputs": [],
   "source": [
    "# ct.get_aliases()"
   ]
  },
  {
   "cell_type": "code",
   "execution_count": null,
   "id": "26336b50-8185-445c-bcc2-af47eca35b3b",
   "metadata": {},
   "outputs": [],
   "source": [
    "# Ф-я для разбиения на четвертьчасовые интервалы\n",
    "def truncate_to_quarter_hour(timestamp_col):\n",
    "    return (f.floor(f.unix_timestamp(timestamp_col) / 900) * 900).cast(\"timestamp\")\n",
    "\n",
    "# def truncate_to_quarter_hour_upper(timestamp_col):\n",
    "#     return (f.floor((f.unix_timestamp(timestamp_col) + 899) / 900) * 900).cast(\"timestamp\")"
   ]
  },
  {
   "cell_type": "code",
   "execution_count": null,
   "id": "87d0b72f-a9fc-4436-88ce-83a216df7b30",
   "metadata": {},
   "outputs": [],
   "source": [
    "# Добавим интервалы\n",
    "taxis = taxis.withColumn(\"interbeg_p\", truncate_to_quarter_hour(\"Trip Start Timestamp\"))\n",
    "taxis = taxis.withColumn(\n",
    "    \"interend_p\",\n",
    "    f.from_unixtime(f.unix_timestamp(\"interbeg_p\") + 15 * 60)\n",
    ")"
   ]
  },
  {
   "cell_type": "markdown",
   "id": "20fe946c-ccf0-4280-b9fc-a01abcf6b384",
   "metadata": {},
   "source": [
    "Интервалы для высадки считаем по времени окончании поездки"
   ]
  },
  {
   "cell_type": "code",
   "execution_count": null,
   "id": "267c4a0f-8a90-47bc-8c76-1e02c795588d",
   "metadata": {},
   "outputs": [],
   "source": [
    "taxis = taxis.withColumn(\"interbeg_d\", truncate_to_quarter_hour(\"Trip End Timestamp\"))\n",
    "taxis = taxis.withColumn(\n",
    "    \"interend_d\",\n",
    "    f.from_unixtime(f.unix_timestamp(\"interbeg_d\") + 15 * 60 * 60)\n",
    ")"
   ]
  },
  {
   "cell_type": "code",
   "execution_count": null,
   "id": "b56698a1-3437-4e51-a3fa-1b6bee1f5dcb",
   "metadata": {},
   "outputs": [],
   "source": [
    "# interbegs_pick = taxis.select(\"interbeg_d\").distinct()\n",
    "# interbegs_drop = taxis.select(\"interbeg_d\").distinct()"
   ]
  },
  {
   "cell_type": "code",
   "execution_count": null,
   "id": "c7d46835-d81d-425e-bfc2-720fed282238",
   "metadata": {},
   "outputs": [],
   "source": [
    "# print(interbegs_pick.count())\n",
    "# interbegs_pick.cache()\n",
    "# interbegs_pick.show(10)\n",
    "# print(interbegs_drop.count())\n",
    "# interbegs_drop.cache()\n",
    "# interbegs_drop.show(10)"
   ]
  },
  {
   "cell_type": "code",
   "execution_count": null,
   "id": "5ba6d400-ffb6-4da5-8d12-0acf12d7c1b3",
   "metadata": {},
   "outputs": [],
   "source": [
    "# создадим выражение для группировки: доля каждой топ-компании в агрегации\n",
    "def comp_expr(top_companies=top_companies, suffix=''):\n",
    "    comp_exprs = [\n",
    "        f.expr(f\"sum(case when Company = '{company}' then 1 else 0 end)\")\\\n",
    "        .alias(f\"comp{idx + 1}{suffix}\")\n",
    "        for idx, company in enumerate(top_companies)\n",
    "    ]\n",
    "    \n",
    "    # общая доля компаний < 5% в агрегации\n",
    "    comp_less5_expr = f.expr(\n",
    "        \"sum(case when Company NOT IN ({}) then 1 else 0 end)\".format(\n",
    "            \", \".join([f\"'{company}'\" for company in top_companies])\n",
    "        )\n",
    "    ).alias(f\"compless5{suffix}\")\n",
    "    \n",
    "    # List of all expressions\n",
    "    all_comp_exprs = comp_exprs + [comp_less5_expr]\n",
    "    return all_comp_exprs"
   ]
  },
  {
   "cell_type": "code",
   "execution_count": null,
   "id": "5f78b505-7f74-4bf3-a620-0cf06f0670c3",
   "metadata": {},
   "outputs": [],
   "source": [
    "# Ф-я агрегации\n",
    "def agg_func(pickup_or_dropoff):\n",
    "    if pickup_or_dropoff == 'pickup':\n",
    "        tract_col, area_col, interbeg, interend = \\\n",
    "        ct.pickup_ct, ct.pickup_ca, 'interbeg_p', 'interend_p'\n",
    "        suffix = '_p'\n",
    "    else:\n",
    "        tract_col, area_col, interbeg, interend = \\\n",
    "        ct.dropoff_ct, ct.dropoff_ca, 'interbeg_d', 'interend_d'\n",
    "        suffix = '_d'\n",
    "\n",
    "\n",
    "    all_comp_exprs = comp_expr(suffix)\n",
    "\n",
    "    return (taxis.groupBy(\n",
    "        f.col(tract_col).alias(f\"ct{suffix}\"),\n",
    "        f.col(area_col).alias(f\"ca{suffix}\"),\n",
    "        interbeg, interend)\n",
    "                .agg(\n",
    "                     f.count(\"*\").alias(f\"trips{suffix}\"),\n",
    "                     f.sum(\"Trip Seconds\").alias(f\"time{suffix}\"),\n",
    "                     f.sum(\"Trip Miles\").alias(f\"miles{suffix}\"),\n",
    "                     f.when(f.sum(\"Trip Seconds\") != 0, f.sum(\"Trip Miles\") / f.sum(\"Trip Seconds\")).otherwise(0).alias(f\"velocity{suffix}\"),\n",
    "                     f.sum(\"Fare\").alias(f\"fare{suffix}\"),\n",
    "                     f.sum(\"Tips\").alias(f\"tips{suffix}\"),\n",
    "                     f.sum(\"Tolls\").alias(f\"tolls{suffix}\"),\n",
    "                     f.sum(\"Extras\").alias(f\"extras{suffix}\"),\n",
    "                     f.sum(\"Trip Total\").alias(f\"total{suffix}\"),\n",
    "                     f.when(f.sum(\"Trip Miles\") != 0,\n",
    "                            f.sum(\"Fare\") / f.sum(\"Trip Miles\")).otherwise(0).alias(f\"farem{suffix}\"),\n",
    "                     f.when(f.sum(\"Trip Miles\") != 0,\n",
    "                            f.sum(\"Tips\") / f.sum(\"Trip Miles\")).otherwise(0).alias(f\"tipsm{suffix}\"),\n",
    "                     f.when(f.sum(\"Trip Miles\") != 0,\n",
    "                            f.sum(\"Tolls\") / f.sum(\"Trip Miles\")).otherwise(0).alias(f\"tollsm{suffix}\"),\n",
    "                     f.when(f.sum(\"Trip Miles\") != 0,\n",
    "                            f.sum(\"Extras\") / f.sum(\"Trip Miles\")).otherwise(0).alias(f\"extrasm{suffix}\"),\n",
    "                     f.when(f.sum(\"Trip Miles\") != 0,\n",
    "                            f.sum(\"Trip Total\") / f.sum(\"Trip Miles\")).otherwise(0).alias(f\"totalm{suffix}\"),\n",
    "                     f.when(f.sum(\"Trip Seconds\") != 0,\n",
    "                            f.sum(\"Fare\") / f.sum(\"Trip Seconds\")).otherwise(0).alias(f\"fares{suffix}\"),\n",
    "                     f.when(f.sum(\"Trip Seconds\") != 0,\n",
    "                            f.sum(\"Tips\") / f.sum(\"Trip Seconds\")).otherwise(0).alias(f\"tipss{suffix}\"),\n",
    "                     f.when(f.sum(\"Trip Seconds\") != 0,\n",
    "                            f.sum(\"Tolls\") / f.sum(\"Trip Seconds\")).otherwise(0).alias(f\"tollss{suffix}\"),\n",
    "                     f.when(f.sum(\"Trip Seconds\") != 0,\n",
    "                            f.sum(\"Extras\") / f.sum(\"Trip Seconds\")).otherwise(0).alias(f\"extrass{suffix}\"),\n",
    "                     f.when(f.sum(\"Trip Seconds\") != 0,\n",
    "                            f.sum(\"Trip Total\") / f.sum(\"Trip Seconds\")).otherwise(0).alias(f\"totals{suffix}\"),\n",
    "                    *all_comp_exprs\n",
    "                ))\n",
    "    "
   ]
  },
  {
   "cell_type": "code",
   "execution_count": null,
   "id": "4dffd31a-5cc8-47fd-81f1-f2ac88650a96",
   "metadata": {},
   "outputs": [],
   "source": [
    "# Aggregate by pickup census tract\n",
    "agg_p_15m = agg_func('pickup')"
   ]
  },
  {
   "cell_type": "code",
   "execution_count": null,
   "id": "56201263-1e08-4d10-8e7b-3db0eacbcaba",
   "metadata": {},
   "outputs": [],
   "source": [
    "# Aggregate by dropoff community area\n",
    "agg_d_15m = agg_func('dropoff')"
   ]
  },
  {
   "cell_type": "code",
   "execution_count": null,
   "id": "3cc66719-2fac-48f5-bf30-9d56934c3327",
   "metadata": {},
   "outputs": [],
   "source": [
    "agg_p_15m.printSchema()"
   ]
  },
  {
   "cell_type": "code",
   "execution_count": null,
   "id": "b99644eb-a012-40d7-9891-c925f0896e19",
   "metadata": {},
   "outputs": [],
   "source": [
    "agg_p_15m.printSchema()"
   ]
  },
  {
   "cell_type": "markdown",
   "id": "7d37687f-9676-4820-b09e-0e8cb8487d26",
   "metadata": {},
   "source": [
    "## Агр 15 мин - сохранение и загрузка"
   ]
  },
  {
   "cell_type": "code",
   "execution_count": null,
   "id": "98d6992b-5a68-4365-b94b-b978abdbd7c3",
   "metadata": {},
   "outputs": [],
   "source": [
    "# %%time\n",
    "# agg_p_15m.coalesce(1).write.csv(\"/work/data/taxis_agg_p_15m.csv\", header=True, mode=\"overwrite\")"
   ]
  },
  {
   "cell_type": "code",
   "execution_count": null,
   "id": "05878fa9-ceb5-43f7-8651-d9747e4592b8",
   "metadata": {},
   "outputs": [],
   "source": [
    "# %%time\n",
    "# agg_d_15m.coalesce(1).write.csv(\"/work/data/taxis_agg_d_15m.csv\", header=True, mode=\"overwrite\")"
   ]
  },
  {
   "cell_type": "code",
   "execution_count": null,
   "id": "1ab2917d-2855-4238-bea9-47210cc221e7",
   "metadata": {},
   "outputs": [],
   "source": [
    "%%time\n",
    "agg_p_15m = spark.read.load('/work/data/taxis_agg_p_15m.csv', \n",
    "                       format='csv', header='true'\n",
    "                        , inferSchema='true'\n",
    "                       )"
   ]
  },
  {
   "cell_type": "code",
   "execution_count": null,
   "id": "d40da479-28cd-4083-9ef0-1cb0313f9f24",
   "metadata": {},
   "outputs": [],
   "source": [
    "%%time\n",
    "agg_d_15m = spark.read.load('/work/data/taxis_agg_d_15m.csv', \n",
    "                       format='csv', header='true'\n",
    "                        , inferSchema='true'\n",
    "                       )"
   ]
  },
  {
   "cell_type": "markdown",
   "id": "6e0a3ffd-2856-4b88-854c-ffddf5940fff",
   "metadata": {},
   "source": [
    "## Районы-округи - выравнивание"
   ]
  },
  {
   "cell_type": "markdown",
   "id": "7a16db09-1103-43e4-8b39-45af798e89f3",
   "metadata": {},
   "source": [
    "Подготовим датафреймы с диапазоанми временных интервалов"
   ]
  },
  {
   "cell_type": "code",
   "execution_count": null,
   "id": "abc378b9-d5a3-4c50-8e97-f6c9d9c83f84",
   "metadata": {},
   "outputs": [],
   "source": [
    "intervals_p = agg_p_15m.groupBy(\"ct_p\",\"ca_p\").agg(\n",
    "    f.min(\"interbeg_p\").alias(\"interbeg_p_min\"),\n",
    "    f.max(\"interbeg_p\").alias(\"interbeg_p_max\"),\n",
    "    f.min(\"interend_p\").alias(\"interend_p_min\"),\n",
    "    f.max(\"interend_p\").alias(\"interend_p_max\"),\n",
    "    f.count(\"ct_p\").alias(\"cnt\")\n",
    ")"
   ]
  },
  {
   "cell_type": "code",
   "execution_count": null,
   "id": "d29382c6-5e01-44a4-9153-d305780f538b",
   "metadata": {},
   "outputs": [],
   "source": [
    "print(intervals_p.count())\n",
    "intervals_p.cache()"
   ]
  },
  {
   "cell_type": "code",
   "execution_count": null,
   "id": "9c1611fe-fbad-44b6-896f-a9416020c337",
   "metadata": {},
   "outputs": [],
   "source": [
    "# intervals_p.show(5)"
   ]
  },
  {
   "cell_type": "markdown",
   "id": "6d5ab5fe-6823-4385-a1b3-d2ac7818b9f7",
   "metadata": {},
   "source": [
    "Посмотрим весь список районов"
   ]
  },
  {
   "cell_type": "code",
   "execution_count": null,
   "id": "ed00d036-a179-4467-be52-94aa2ecaabaf",
   "metadata": {
    "scrolled": true
   },
   "outputs": [],
   "source": [
    "intervals_p.orderBy(f.col(\"ca_p\"),f.col(\"cnt\").desc()).show(750)"
   ]
  },
  {
   "cell_type": "markdown",
   "id": "d921312b-2909-4386-9e58-7b08a19e7d24",
   "metadata": {},
   "source": [
    "Видим, что в основном данные сосредоточены только в одном районе (ct_p) для каждого округа (ct_a). Хотя есть округи с равноценными районами по количеству поездок.  Найдем районы округов с максимальными количествами и заменим значения районов внутри округов, в которых количество поездок менее 10% от этого максимального значения на значения максимального района. После этого еще раз сагрегируем данные agg_p_15m по обновленным парам ct_p, cta."
   ]
  },
  {
   "cell_type": "markdown",
   "id": "10bdd032-3462-47a5-8263-0b8a3c43c15d",
   "metadata": {},
   "source": [
    "Посмотрим дублирующиеся районы"
   ]
  },
  {
   "cell_type": "code",
   "execution_count": null,
   "id": "b5204145-13c7-4c89-bf75-d8e0b7d509e7",
   "metadata": {},
   "outputs": [],
   "source": [
    "ct_p_dbl =intervals_p.groupBy(\"ct_p\").count().filter(f.col(\"count\")>1)"
   ]
  },
  {
   "cell_type": "code",
   "execution_count": null,
   "id": "c6d96801-89ec-459c-9d5e-483cdb833678",
   "metadata": {},
   "outputs": [],
   "source": [
    "ct_p_dbl.count()"
   ]
  },
  {
   "cell_type": "code",
   "execution_count": null,
   "id": "3da98d57-8660-4341-975a-308c30e3ecdf",
   "metadata": {},
   "outputs": [],
   "source": [
    "intervals_p.join(ct_p_dbl, on=[\"ct_p\"]).orderBy(\"ct_p\").show(25)"
   ]
  },
  {
   "cell_type": "markdown",
   "id": "5dc8bc46-4b02-4e3f-8cfa-c14d254fa986",
   "metadata": {},
   "source": [
    "Посмотрим дубли для районов высадки"
   ]
  },
  {
   "cell_type": "code",
   "execution_count": null,
   "id": "d68ef9f5-bfcc-474e-8859-88d83d326e64",
   "metadata": {},
   "outputs": [],
   "source": [
    "intervals_d = agg_d_15m.groupBy(\"ct_d\",\"ca_d\").agg(\n",
    "    f.min(\"interbeg_d\").alias(\"interbeg_d_min\"),\n",
    "    f.max(\"interbeg_d\").alias(\"interbeg_d_max\"),\n",
    "    f.min(\"interend_d\").alias(\"interend_d_min\"),\n",
    "    f.max(\"interend_d\").alias(\"interend_d_max\"),\n",
    "    f.count(\"ct_d\").alias(\"cnt\")\n",
    ")"
   ]
  },
  {
   "cell_type": "code",
   "execution_count": null,
   "id": "9167c414-6799-4297-8817-8a6f5e8374ff",
   "metadata": {},
   "outputs": [],
   "source": [
    "print(intervals_d.count())\n",
    "intervals_d.cache()"
   ]
  },
  {
   "cell_type": "code",
   "execution_count": null,
   "id": "83d38279-ed51-45f9-ac14-a57681e3a29c",
   "metadata": {
    "scrolled": true
   },
   "outputs": [],
   "source": [
    "intervals_d.orderBy(f.col(\"ca_d\"),f.col(\"cnt\").desc()).show(775)"
   ]
  },
  {
   "cell_type": "code",
   "execution_count": null,
   "id": "603cbff0-1053-4ac2-b09e-0e03a1f01579",
   "metadata": {},
   "outputs": [],
   "source": [
    "ct_d_dbl =intervals_d.groupBy(\"ct_d\").count().filter(f.col(\"count\")>1)\n",
    "ct_d_dbl_count =ct_d_dbl.count()\n",
    "print(ct_d_dbl_count)\n",
    "ct_d_dbl.cache()\n",
    "intervals_d.join(ct_d_dbl, on=[\"ct_d\"]).orderBy(\"ct_d\").show(ct_d_dbl_count)"
   ]
  },
  {
   "cell_type": "markdown",
   "id": "26c92812-123a-4835-a58f-c2c2439a89dd",
   "metadata": {},
   "source": [
    "Видим, что такие районы повторяются не более чем в двух округах и имеют почти 100%-ную концентрацию в одном из районов округа. Такая принадлежность одного района к двум округам может быть ошибкой в данных, либо переотнесением районов между округами. Поменяем округ у таких районов на тот в котором было больше поездок."
   ]
  },
  {
   "cell_type": "code",
   "execution_count": null,
   "id": "b28af997-4540-41cd-9035-4857465bc3ee",
   "metadata": {},
   "outputs": [],
   "source": [
    "ct_p_mx =intervals_p.join(ct_p_dbl, on=[\"ct_p\"])\\\n",
    "    .groupBy(\"ct_p\").agg(f.max(\"cnt\").alias(\"mx\")).orderBy(\"ct_p\")\n",
    "upd_ca_p = intervals_p.join(ct_p_mx,on=[\"ct_p\"],how='left')\\\n",
    "    .filter(f.col('cnt')==f.col('mx'))\\\n",
    "    .select(f.col(\"ct_p\").alias(\"joined_ct_p\"),\n",
    "            f.col(\"ca_p\").alias(\"upd_ca_p\"))\n",
    "agg_p_15m = agg_p_15m\\\n",
    "    .join(upd_ca_p, f.col(\"ct_p\")==f.col(\"joined_ct_p\"), how = 'left')\n",
    "agg_p_15m = agg_p_15m.withColumn(\n",
    "    \"ca_p\", f.when(f.col(\"upd_ca_p\").isNotNull(),\n",
    "                    f.col(\"upd_ca_p\")).otherwise(f.col(\"ca_p\"))\n",
    ").drop('joined_ct_p','upd_ca_p')"
   ]
  },
  {
   "cell_type": "code",
   "execution_count": null,
   "id": "f07d6936-a82b-49bd-9b94-42b544ea7821",
   "metadata": {},
   "outputs": [],
   "source": [
    "intervals_p = agg_p_15m.groupBy(\"ct_p\",\"ca_p\").agg(\n",
    "    f.min(\"interbeg_p\").alias(\"interbeg_p_min\"),\n",
    "    f.max(\"interbeg_p\").alias(\"interbeg_p_max\"),\n",
    "    f.min(\"interend_p\").alias(\"interend_p_min\"),\n",
    "    f.max(\"interend_p\").alias(\"interend_p_max\"),\n",
    "    f.count(\"ct_p\").alias(\"cnt\")\n",
    ")"
   ]
  },
  {
   "cell_type": "code",
   "execution_count": null,
   "id": "260886ab-c71f-4c4f-9402-13ae0c3fb063",
   "metadata": {},
   "outputs": [],
   "source": [
    "ct_p_dbl =intervals_p.groupBy(\"ct_p\").count().filter(f.col(\"count\")>1)\n",
    "ct_p_dbl.count()"
   ]
  },
  {
   "cell_type": "code",
   "execution_count": null,
   "id": "8ca257bd-fb28-4192-a517-4ea082646c74",
   "metadata": {},
   "outputs": [],
   "source": [
    "ct_d_mx =intervals_d.join(ct_d_dbl, on=[\"ct_d\"])\\\n",
    "    .groupBy(\"ct_d\").agg(f.max(\"cnt\").alias(\"mx\")).orderBy(\"ct_d\")\n",
    "upd_ca_d = intervals_d.join(ct_d_mx,on=[\"ct_d\"],how='left')\\\n",
    "    .filter(f.col('cnt')==f.col('mx'))\\\n",
    "    .select(f.col(\"ct_d\").alias(\"joined_ct_d\"),\n",
    "            f.col(\"ca_d\").alias(\"upd_ca_d\"))\n",
    "agg_d_15m = agg_d_15m\\\n",
    "    .join(upd_ca_d, f.col(\"ct_d\")==f.col(\"joined_ct_d\"), how = 'left')\n",
    "agg_d_15m = agg_d_15m.withColumn(\n",
    "    \"ca_d\", f.when(f.col(\"upd_ca_d\").isNotNull(),\n",
    "                    f.col(\"upd_ca_d\")).otherwise(f.col(\"ca_d\"))\n",
    ").drop('joined_ct_d','upd_ca_d')"
   ]
  },
  {
   "cell_type": "code",
   "execution_count": null,
   "id": "c8651b7c-89a9-4926-a1d9-45abc52bd488",
   "metadata": {},
   "outputs": [],
   "source": [
    "intervals_d = agg_d_15m.groupBy(\"ct_d\",\"ca_d\").agg(\n",
    "    f.min(\"interbeg_d\").alias(\"interbeg_d_min\"),\n",
    "    f.max(\"interbeg_d\").alias(\"interbeg_d_max\"),\n",
    "    f.min(\"interend_d\").alias(\"interend_d_min\"),\n",
    "    f.max(\"interend_d\").alias(\"interend_d_max\"),\n",
    "    f.count(\"ct_d\").alias(\"cnt\")\n",
    ")"
   ]
  },
  {
   "cell_type": "code",
   "execution_count": null,
   "id": "453f1574-50f1-45b3-bfd1-5e8d5387c421",
   "metadata": {},
   "outputs": [],
   "source": [
    "ct_d_dbl =intervals_d.groupBy(\"ct_d\").count().filter(f.col(\"count\")>1)\n",
    "ct_d_dbl.count()"
   ]
  },
  {
   "cell_type": "markdown",
   "id": "9ee447e3-a753-48f2-bb5e-74e04986e033",
   "metadata": {},
   "source": [
    "Дублирующихся районов не осталось. Сгруппируем небольшие районы с большими."
   ]
  },
  {
   "cell_type": "code",
   "execution_count": null,
   "id": "c2419db6-8fcf-4d47-b727-7d5beb1c1a22",
   "metadata": {},
   "outputs": [],
   "source": [
    "intervals_p.cache()\n",
    "intervals_d.cache()"
   ]
  },
  {
   "cell_type": "code",
   "execution_count": null,
   "id": "9a2ca661-5054-4028-8e44-abe912fbede2",
   "metadata": {},
   "outputs": [],
   "source": [
    "# максимальное количество поездок для каждого округа\n",
    "max_trips_per_ca = intervals_p.groupBy(\"ca_p\").agg(f.max(\"cnt\").alias(\"max_cnt\"))\n",
    "# Объединим с исходной таблицей, чтобы получить максимальное значение для каждого ct_p\n",
    "intervals_p_with_max = intervals_p.join(max_trips_per_ca, on=\"ca_p\")\n",
    "# Вычислим 10% от максимального значения для каждого округа\n",
    "intervals_p_with_max = intervals_p_with_max.withColumn(\n",
    "    \"threshold\", f.col(\"max_cnt\") * 0.1\n",
    ")\n",
    "# Определим ct_p для замены\n",
    "replace_ct_p = intervals_p_with_max.filter(f.col(\"cnt\") < f.col(\"threshold\")).select(\"ct_p\", \"ca_p\")\n",
    "# ct_p с максимальным количеством поездок для каждого округа\n",
    "max_ct_p_per_ca = intervals_p_with_max.filter(f.col(\"cnt\") == f.col(\"max_cnt\")).select(\"ct_p\", \"ca_p\")\n",
    "updated_ct_p = replace_ct_p.alias(\"a\").join(max_ct_p_per_ca.alias(\"b\"), on=[\"ca_p\"]).select(\n",
    "    f.col(\"a.ca_p\"),f.col(\"a.ct_p\"),f.col(\"b.ct_p\").alias(\"ct_p_upd\")\n",
    ")\n",
    "# Заменим значения ct_p\n",
    "updated_intervals_p = intervals_p.join(\n",
    "    updated_ct_p, on=[\"ct_p\", \"ca_p\"], how=\"left\"\n",
    ").withColumn(\n",
    "    \"updated_ct_p\", f.when(f.col(\"ct_p_upd\").isNotNull(), f.col(\"ct_p_upd\")).otherwise(f.col(\"ct_p\"))\n",
    ").select(\n",
    "    \"updated_ct_p\", \"ct_p\", \"ca_p\", \"interbeg_p_min\", \"interbeg_p_max\", \"interend_p_min\", \"interend_p_max\", \"cnt\"\n",
    ")\n",
    "# print(updated_intervals_p.count())\n",
    "# updated_intervals_p.cache()\n",
    "# updated_intervals_p.orderBy(f.col(\"ca_p\"),f.col(\"cnt\").desc()).show(20)\n",
    "ctp_upd = updated_intervals_p.select(\n",
    "    \"updated_ct_p\",\n",
    "    f.col(\"ca_p\").alias(\"joined_ca_p\"),\n",
    "    f.col(\"ct_p\").alias(\"joined_ct_p\"),'cnt'\n",
    ")\n",
    "agg_p_15m_upd = agg_p_15m.alias(\"a\").join(ctp_upd.alias(\"b\"),\n",
    "            f.col(\"a.ct_p\") == f.col(\"b.joined_ct_p\")\n",
    ").drop(\"ct_p\",'joined_ct_p','joined_ca_p','cnt')\\\n",
    ".withColumnRenamed(\"updated_ct_p\", \"ct_p\")"
   ]
  },
  {
   "cell_type": "code",
   "execution_count": null,
   "id": "dcd48e7d-3958-484d-a8b3-67b0fd430d7f",
   "metadata": {},
   "outputs": [],
   "source": [
    "agg_p_15m_upd.printSchema()"
   ]
  },
  {
   "cell_type": "code",
   "execution_count": null,
   "id": "a6e84432-9b93-4f89-8012-a3eeb1241530",
   "metadata": {},
   "outputs": [],
   "source": [
    "# Максимальное количество поездок для каждого округа\n",
    "max_trips_per_ca_d = intervals_d.groupBy(\"ca_d\").agg(f.max(\"cnt\").alias(\"max_cnt\"))\n",
    "\n",
    "# Объединим с исходной таблицей, чтобы получить максимальное значение для каждого ct_d\n",
    "intervals_d_with_max = intervals_d.join(max_trips_per_ca_d, on=\"ca_d\")\n",
    "\n",
    "# Вычислим 10% от максимального значения для каждого округа\n",
    "intervals_d_with_max = intervals_d_with_max.withColumn(\n",
    "    \"threshold\", f.col(\"max_cnt\") * 0.1\n",
    ")\n",
    "\n",
    "# Определим ct_d для замены\n",
    "replace_ct_d = intervals_d_with_max.filter(f.col(\"cnt\") < f.col(\"threshold\")).select(\"ct_d\", \"ca_d\")\n",
    "\n",
    "# ct_d с максимальным количеством поездок для каждого округа\n",
    "max_ct_d_per_ca = intervals_d_with_max.filter(f.col(\"cnt\") == f.col(\"max_cnt\")).select(\"ct_d\", \"ca_d\")\n",
    "\n",
    "updated_ct_d = replace_ct_d.alias(\"a\").join(max_ct_d_per_ca.alias(\"b\"), on=[\"ca_d\"]).select(\n",
    "    f.col(\"a.ca_d\"), f.col(\"a.ct_d\"), f.col(\"b.ct_d\").alias(\"ct_d_upd\")\n",
    ")\n",
    "\n",
    "# Заменим значения ct_d\n",
    "updated_intervals_d = intervals_d.join(\n",
    "    updated_ct_d, on=[\"ct_d\", \"ca_d\"], how=\"left\"\n",
    ").withColumn(\n",
    "    \"updated_ct_d\", f.when(f.col(\"ct_d_upd\").isNotNull(), f.col(\"ct_d_upd\")).otherwise(f.col(\"ct_d\"))\n",
    ").select(\n",
    "    \"updated_ct_d\", \"ct_d\", \"ca_d\", \"interbeg_d_min\", \"interbeg_d_max\", \"interend_d_min\", \"interend_d_max\", \"cnt\"\n",
    ")\n",
    "\n",
    "# print(updated_intervals_d.count())\n",
    "# updated_intervals_d.cache()\n",
    "# updated_intervals_d.orderBy(f.col(\"ca_d\"), f.col(\"cnt\").desc()).show(20)\n",
    "\n",
    "ctd_upd = updated_intervals_d.select(\n",
    "    \"updated_ct_d\",\n",
    "    f.col(\"ca_d\").alias(\"joined_ca_d\"),\n",
    "    f.col(\"ct_d\").alias(\"joined_ct_d\"), 'cnt'\n",
    ")\n",
    "\n",
    "agg_d_15m_upd = agg_d_15m.alias(\"a\").join(ctd_upd.alias(\"b\"),\n",
    "            f.col(\"a.ct_d\") == f.col(\"b.joined_ct_d\")\n",
    ").drop(\"ct_d\", 'joined_ct_d', 'joined_ca_d', 'cnt')\\\n",
    ".withColumnRenamed(\"updated_ct_d\", \"ct_d\")"
   ]
  },
  {
   "cell_type": "code",
   "execution_count": null,
   "id": "99d5edb0-5219-4327-937d-fd7fefee55aa",
   "metadata": {},
   "outputs": [],
   "source": [
    "agg_d_15m_upd.printSchema()"
   ]
  },
  {
   "cell_type": "code",
   "execution_count": null,
   "id": "8cda4fb9-ef84-4f95-8307-1e387207b8f8",
   "metadata": {},
   "outputs": [],
   "source": [
    "# agg_p_15m_upd.select(\"ca_p\",\"updated_ct_p\",\"ct_p\").distinct().orderBy(\"ca_p\",\"ct_p\").show(20)"
   ]
  },
  {
   "cell_type": "code",
   "execution_count": null,
   "id": "0b931b05-96c3-425f-a89b-c4689897768b",
   "metadata": {},
   "outputs": [],
   "source": [
    "# agg_p_15m_upd.printSchema()"
   ]
  },
  {
   "cell_type": "code",
   "execution_count": null,
   "id": "8a2766b5-565e-42ac-aaa9-5b8cde146835",
   "metadata": {},
   "outputs": [],
   "source": [
    "def agg_agg(suffix, df, top_companies):\n",
    "    # Список имен полей компаний\n",
    "    comp_fields = [f\"comp{idx + 1}{suffix}\" for idx in range(len(top_companies))] + [f\"compless5{suffix}\"]\n",
    "    \n",
    "    # Выражения для агрегаций компаний\n",
    "    comp_agg_exprs = [f.sum(field).alias(field) for field in comp_fields]\n",
    "    \n",
    "    # Агрегируем DataFrame\n",
    "    agg_df = df.groupBy(\n",
    "        f\"ct{suffix}\", f\"ca{suffix}\", f\"interbeg{suffix}\", f\"interend{suffix}\"\n",
    "    ).agg(\n",
    "        f.sum(f\"trips{suffix}\").alias(f\"trips{suffix}\"),\n",
    "        f.sum(f\"time{suffix}\").alias(f\"time{suffix}\"),\n",
    "        f.sum(f\"miles{suffix}\").alias(f\"miles{suffix}\"),\n",
    "        f.when(f.sum(f\"time{suffix}\") != 0, f.sum(f\"miles{suffix}\") / f.sum(f\"time{suffix}\")).otherwise(0).alias(f\"velocity{suffix}\"),\n",
    "        f.sum(f\"fare{suffix}\").alias(f\"fare{suffix}\"),\n",
    "        f.sum(f\"tips{suffix}\").alias(f\"tips{suffix}\"),\n",
    "        f.sum(f\"tolls{suffix}\").alias(f\"tolls{suffix}\"),\n",
    "        f.sum(f\"extras{suffix}\").alias(f\"extras{suffix}\"),\n",
    "        f.sum(f\"total{suffix}\").alias(f\"total{suffix}\"),\n",
    "        f.when(f.sum(f\"miles{suffix}\") != 0, \n",
    "               f.sum(f\"fare{suffix}\") / f.sum(f\"miles{suffix}\")).otherwise(0).alias(f\"farem{suffix}\"),\n",
    "        f.when(f.sum(f\"miles{suffix}\") != 0, \n",
    "               f.sum(f\"tips{suffix}\") / f.sum(f\"miles{suffix}\")).otherwise(0).alias(f\"tipsm{suffix}\"),\n",
    "        f.when(f.sum(f\"miles{suffix}\") != 0, \n",
    "               f.sum(f\"tolls{suffix}\") / f.sum(f\"miles{suffix}\")).otherwise(0).alias(f\"tollsm{suffix}\"),\n",
    "        f.when(f.sum(f\"miles{suffix}\") != 0, \n",
    "               f.sum(f\"extras{suffix}\") / f.sum(f\"miles{suffix}\")).otherwise(0).alias(f\"extrasm{suffix}\"),\n",
    "        f.when(f.sum(f\"miles{suffix}\") != 0, \n",
    "               f.sum(f\"total{suffix}\") / f.sum(f\"miles{suffix}\")).otherwise(0).alias(f\"totalm{suffix}\"),\n",
    "        f.when(f.sum(f\"time{suffix}\") != 0, \n",
    "               f.sum(f\"fare{suffix}\") / f.sum(f\"time{suffix}\")).otherwise(0).alias(f\"fares{suffix}\"),\n",
    "        f.when(f.sum(f\"time{suffix}\") != 0, \n",
    "               f.sum(f\"tips{suffix}\") / f.sum(f\"time{suffix}\")).otherwise(0).alias(f\"tipss{suffix}\"),\n",
    "        f.when(f.sum(f\"time{suffix}\") != 0, \n",
    "               f.sum(f\"tolls{suffix}\") / f.sum(f\"time{suffix}\")).otherwise(0).alias(f\"tollss{suffix}\"),\n",
    "        f.when(f.sum(f\"time{suffix}\") != 0, \n",
    "               f.sum(f\"extras{suffix}\") / f.sum(f\"time{suffix}\")).otherwise(0).alias(f\"extrass{suffix}\"),\n",
    "        f.when(f.sum(f\"time{suffix}\") != 0, \n",
    "               f.sum(f\"total{suffix}\") / f.sum(f\"time{suffix}\")).otherwise(0).alias(f\"totals{suffix}\"),\n",
    "        *comp_agg_exprs  # добавление суммированных полей компаний\n",
    "    )\n",
    "    return agg_df"
   ]
  },
  {
   "cell_type": "code",
   "execution_count": null,
   "id": "b52ac907-81d6-46a4-a675-dc24b49cfa16",
   "metadata": {},
   "outputs": [],
   "source": [
    "suffix = \"_p\"\n",
    "agg_p_15m_agg = agg_agg(suffix, agg_p_15m_upd, top_companies)"
   ]
  },
  {
   "cell_type": "code",
   "execution_count": null,
   "id": "ebd2bf4f-8d86-4bbb-b03c-9db009b4e25a",
   "metadata": {},
   "outputs": [],
   "source": [
    "suffix = \"_d\"\n",
    "agg_d_15m_agg = agg_agg(suffix, agg_d_15m_upd, top_companies)"
   ]
  },
  {
   "cell_type": "code",
   "execution_count": null,
   "id": "ff4d77b2-e465-4f16-9474-24ae2834d482",
   "metadata": {},
   "outputs": [],
   "source": [
    "agg_p_15m_agg.printSchema()"
   ]
  },
  {
   "cell_type": "code",
   "execution_count": null,
   "id": "51092d99-a44a-46ed-8ec6-9c1f0de66d39",
   "metadata": {},
   "outputs": [],
   "source": [
    "agg_d_15m_agg.printSchema()"
   ]
  },
  {
   "cell_type": "code",
   "execution_count": null,
   "id": "c53af99c-e81a-4a35-af1e-e6c6a06fb425",
   "metadata": {},
   "outputs": [],
   "source": [
    "intervals_p_agg = agg_p_15m_agg.groupBy(\"ct_p\",\"ca_p\").agg(\n",
    "    f.min(\"interbeg_p\").alias(\"interbeg_p_min\"),\n",
    "    f.max(\"interbeg_p\").alias(\"interbeg_p_max\"),\n",
    "    f.min(\"interend_p\").alias(\"interend_p_min\"),\n",
    "    f.max(\"interend_p\").alias(\"interend_p_max\"),\n",
    "    f.count(\"ct_p\").alias(\"cnt\")\n",
    ")"
   ]
  },
  {
   "cell_type": "code",
   "execution_count": null,
   "id": "79c8798b-482b-46a9-a5dd-93aaa1dc22ce",
   "metadata": {},
   "outputs": [],
   "source": [
    "print(intervals_p_agg.count())\n",
    "intervals_p_agg.cache()"
   ]
  },
  {
   "cell_type": "code",
   "execution_count": null,
   "id": "e7bdf0b4-a162-43e1-8b63-17cd605fd015",
   "metadata": {
    "scrolled": true
   },
   "outputs": [],
   "source": [
    "intervals_p_agg.orderBy(f.col(\"ca_p\"),f.col(\"cnt\").desc()).show(105)"
   ]
  },
  {
   "cell_type": "code",
   "execution_count": null,
   "id": "b8d432bf-b04f-4717-8b32-ef7e4d2c5f2e",
   "metadata": {},
   "outputs": [],
   "source": [
    "intervals_d_agg = agg_d_15m_agg.groupBy(\"ct_d\",\"ca_d\").agg(\n",
    "    f.min(\"interbeg_d\").alias(\"interbeg_d_min\"),\n",
    "    f.max(\"interbeg_d\").alias(\"interbeg_d_max\"),\n",
    "    f.min(\"interend_d\").alias(\"interend_d_min\"),\n",
    "    f.max(\"interend_d\").alias(\"interend_d_max\"),\n",
    "    f.count(\"ct_d\").alias(\"cnt\")\n",
    ")"
   ]
  },
  {
   "cell_type": "code",
   "execution_count": null,
   "id": "e1f0a571-bd18-4d30-86b5-0f455702b929",
   "metadata": {},
   "outputs": [],
   "source": [
    "print(intervals_d_agg.count())\n",
    "intervals_d_agg.cache()"
   ]
  },
  {
   "cell_type": "code",
   "execution_count": null,
   "id": "3e0c40de-a0d6-4dec-a6a8-e5f3c03a8928",
   "metadata": {
    "scrolled": true
   },
   "outputs": [],
   "source": [
    "intervals_d_agg.orderBy(f.col(\"ca_d\"),f.col(\"cnt\").desc()).show(106)"
   ]
  },
  {
   "cell_type": "markdown",
   "id": "9df16f8b-a477-4bb0-8d67-f33d43f8713e",
   "metadata": {},
   "source": [
    "Получили ровный датафрейм интервалов."
   ]
  },
  {
   "cell_type": "markdown",
   "id": "0b557d62-41df-4107-a3d8-66039cc5f331",
   "metadata": {},
   "source": [
    "Посмотрим различия ключей-геоточек в итоговых множествах посадки и высадки"
   ]
  },
  {
   "cell_type": "code",
   "execution_count": null,
   "id": "854ea17a-59a0-42b8-99c3-a964e0e5f444",
   "metadata": {},
   "outputs": [],
   "source": [
    "def pickup_dropoff_diff():\n",
    "    # Найдем уникальные пары (ct_d, ca_d) в intervals_d_agg\n",
    "    unique_pairs_d = intervals_d_agg.select(\"ct_d\", \"ca_d\", \"cnt\").distinct()\n",
    "    \n",
    "    # Найдем уникальные пары (ct_p, ca_p) в intervals_p_agg\n",
    "    unique_pairs_p = intervals_p_agg.select(f.col(\"ct_p\").alias(\"ct_d\"), f.col(\"ca_p\").alias(\"ca_d\"), \"cnt\").distinct()\n",
    "    \n",
    "    # Найдем выбивающиеся пары в intervals_d_agg, которых нет в intervals_p_agg\n",
    "    missing_in_p = unique_pairs_d.join(unique_pairs_p, on=[\"ct_d\", \"ca_d\"], how=\"left_anti\")\n",
    "    missing_in_p = missing_in_p\n",
    "    \n",
    "    # Найдем выбивающиеся пары в intervals_p_agg, которых нет в intervals_d_agg\n",
    "    missing_in_d = unique_pairs_p.join(unique_pairs_d, on=[\"ct_d\", \"ca_d\"], how=\"left_anti\")\\\n",
    "    .withColumnRenamed(\"ct_d\", \"ct_p\").withColumnRenamed(\"ca_d\", \"ca_p\")\n",
    "    \n",
    "    # Показать результаты\n",
    "    print(\"tracts, areas in dropoff missing in pickup\")\n",
    "    missing_in_p.show()\n",
    "    print(\"tracts, areas in pickup missing in dropoff\")\n",
    "    missing_in_d.show()"
   ]
  },
  {
   "cell_type": "markdown",
   "id": "a29b4fa3-cc15-4f15-a452-29bdc721835e",
   "metadata": {},
   "source": [
    "Видим, ожидаемые тракты 11000000000 и 10000000000 - заглушки для поездок, в которых есть данные по пункту посадки (или наоборот высадки) и отсутствуют по высадке (и наоборот - по посадке).  \n",
    "\n",
    "Посмотрим районы посадки для округов 7 и 28"
   ]
  },
  {
   "cell_type": "code",
   "execution_count": null,
   "id": "79912d12-d68c-40ca-a641-c760aa80ef84",
   "metadata": {},
   "outputs": [],
   "source": [
    "intervals_p_agg.filter(f.col(\"ca_p\").isin([7,28])).show()"
   ]
  },
  {
   "cell_type": "code",
   "execution_count": null,
   "id": "d639baba-fea0-403b-9865-1ca17e1c0a1d",
   "metadata": {},
   "outputs": [],
   "source": [
    "intervals_d_agg.filter(f.col(\"ca_d\").isin([7,28])).show()"
   ]
  },
  {
   "cell_type": "markdown",
   "id": "b0a7283b-b9b8-4ad8-9db8-976110fd2195",
   "metadata": {},
   "source": [
    "Заменим в ДФ высадки agg_d_15m_agg коды районов (ct_d)\n",
    "- 17031071500 на 17031242200,\n",
    "- 17031841900 и 17031833100 на 17031030500"
   ]
  },
  {
   "cell_type": "code",
   "execution_count": null,
   "id": "4e9b2f20-1c19-4619-bd5c-f932a25a034a",
   "metadata": {},
   "outputs": [],
   "source": [
    "# Заменяем коды районов\n",
    "agg_d_15m_agg = agg_d_15m_agg.withColumn(\n",
    "    \"ct_d_updated\",\n",
    "    f.when(f.col(\"ct_d\") == \"17031071500\", \"17031242200\")\n",
    "    .when(f.col(\"ct_d\").isin(\"17031841900\", \"17031833100\"), \"17031030500\")\n",
    "    .otherwise(f.col(\"ct_d\"))\n",
    ").drop(\"ct_d\").withColumnRenamed(\"ct_d_updated\", \"ct_d\")"
   ]
  },
  {
   "cell_type": "code",
   "execution_count": null,
   "id": "66844272-ab0a-4a4f-955c-8a9a13267a2c",
   "metadata": {},
   "outputs": [],
   "source": [
    "suffix = \"_d\"\n",
    "agg_d_15m_agg = agg_agg(suffix, agg_d_15m_agg, top_companies)"
   ]
  },
  {
   "cell_type": "code",
   "execution_count": null,
   "id": "e31308a0-aff2-459c-a170-529b6293512f",
   "metadata": {},
   "outputs": [],
   "source": [
    "# agg_d_15m_agg.printSchema()"
   ]
  },
  {
   "cell_type": "code",
   "execution_count": null,
   "id": "351c0613-63d9-4cfd-8da4-66685f4691a2",
   "metadata": {},
   "outputs": [],
   "source": [
    "intervals_d_agg = agg_d_15m_agg.groupBy(\"ct_d\",\"ca_d\").agg(\n",
    "    f.min(\"interbeg_d\").alias(\"interbeg_d_min\"),\n",
    "    f.max(\"interbeg_d\").alias(\"interbeg_d_max\"),\n",
    "    f.min(\"interend_d\").alias(\"interend_d_min\"),\n",
    "    f.max(\"interend_d\").alias(\"interend_d_max\"),\n",
    "    f.count(\"ct_d\").alias(\"cnt\")\n",
    ")"
   ]
  },
  {
   "cell_type": "code",
   "execution_count": null,
   "id": "6ce231a6-3372-4fe9-a730-8de57b2532b2",
   "metadata": {},
   "outputs": [],
   "source": [
    "print(intervals_d_agg.count())\n",
    "intervals_d_agg.cache()"
   ]
  },
  {
   "cell_type": "code",
   "execution_count": null,
   "id": "3ba220f3-1122-4726-b703-eb1f0c0ccf94",
   "metadata": {},
   "outputs": [],
   "source": [
    "pickup_dropoff_diff()"
   ]
  },
  {
   "cell_type": "markdown",
   "id": "7c049956-60b9-4328-baf1-6be2a298d459",
   "metadata": {},
   "source": [
    "Получили два сопоставимых по гео-ключам датафрейма. Подготовим сетку интервалов"
   ]
  },
  {
   "cell_type": "markdown",
   "id": "9dba2bc4-4981-4f62-8acd-b2a4785e301f",
   "metadata": {},
   "source": [
    "## Сетка интервалов"
   ]
  },
  {
   "cell_type": "markdown",
   "id": "623a48d2-d6c7-4831-831e-02ffeeeefdf3",
   "metadata": {},
   "source": [
    "Очевидно в датафреймах есть пробелы в интервалах.\n",
    "Создадим дф с ровным рядом интервалов. Потом к нему лефт джойном присоединим _df_agg для каждого _Census Tract."
   ]
  },
  {
   "cell_type": "markdown",
   "id": "39ca4591-a0e7-486a-b574-6460a6d373fd",
   "metadata": {},
   "source": [
    "Исходный ДФ имеет следующие диапазоны временных интервалов  \n",
    "```yaml\n",
    "| Time Type       | Min                    | Max                    |\n",
    "|-----------------|------------------------|------------------------|\n",
    "| Start time      | 2021-01-01 00:00:00    | 2024-06-01 00:00:00    |\n",
    "| End time        | 2021-01-01 00:00:00    | 2024-06-01 00:45:00    |\n",
    "| Interbeg_p time | 2021-01-01 00:00:00    | 2024-06-01 00:00:00    |\n",
    "| Interend_d      | 2021-01-01 15:00:00    | 2024-06-01 15:45:00    |\n"
   ]
  },
  {
   "cell_type": "code",
   "execution_count": null,
   "id": "bad6542e-a6e8-4edb-b2e0-4afd457ccb1a",
   "metadata": {},
   "outputs": [],
   "source": [
    "# agg_results = taxis.agg(\n",
    "#     f.min(\"Trip Start Timestamp\").alias(\"start_time_min\"),\n",
    "#     f.max(\"Trip Start Timestamp\").alias(\"start_time_max\"),\n",
    "#     f.min(\"Trip End Timestamp\").alias(\"end_time_min\"),\n",
    "#     f.max(\"Trip End Timestamp\").alias(\"end_time_max\"),\n",
    "#     f.min(\"interbeg_p\").alias(\"interbeg_p_min\"),\n",
    "#     f.max(\"interbeg_p\").alias(\"interbeg_p_max\"),\n",
    "#     f.min(\"interend_d\").alias(\"interend_d_min\"),\n",
    "#     f.max(\"interend_d\").alias(\"interend_d_max\")\n",
    "# ).first()\n",
    "\n",
    "# # Извлечение результатов\n",
    "# start_time_min = agg_results['start_time_min']\n",
    "# start_time_max = agg_results['start_time_max']\n",
    "# end_time_min = agg_results['end_time_min']\n",
    "# end_time_max = agg_results['end_time_max']\n",
    "# interbeg_p_min = agg_results['interbeg_p_min']\n",
    "# interbeg_p_max = agg_results['interbeg_p_max']\n",
    "# interend_d_min = agg_results['interend_d_min']\n",
    "# interend_d_max = agg_results['interend_d_max']\n",
    "\n",
    "# print(f\"Start time range: {start_time_min} to {start_time_max}\")\n",
    "# print(f\"End time range: {end_time_min} to {end_time_max}\")\n",
    "# print(f\"Interbeg_p time range: {interbeg_p_min} to {interbeg_p_max}\")\n",
    "# print(f\"Interend_d range: {interend_d_min} to {interend_d_max}\")"
   ]
  },
  {
   "cell_type": "code",
   "execution_count": null,
   "id": "613d7c03-1420-4043-87eb-0b3901c02450",
   "metadata": {},
   "outputs": [],
   "source": [
    "intervals_count_p = intervals_p_agg.agg(f.sum(\"cnt\")).take(1)[0][\"sum(cnt)\"]\n",
    "print(pds.gvf(intervals_count_p))"
   ]
  },
  {
   "cell_type": "code",
   "execution_count": null,
   "id": "c9748172-972e-442f-a502-7fd3b02c0294",
   "metadata": {},
   "outputs": [],
   "source": [
    "print(\"максимальное количество 15-мин интервалов на 103 округах\",pds.gvf(103*4*24*365*3.5))"
   ]
  },
  {
   "cell_type": "markdown",
   "id": "b92180e6-6c1b-481c-a491-0c0c0fe9920b",
   "metadata": {},
   "source": [
    "Общее количество 15-минутных интервалов для 103 районов за период 3.5 года - около 4.1М штук. Это меньше максимального расчетного количества. Создадим сетку интервалов."
   ]
  },
  {
   "cell_type": "code",
   "execution_count": null,
   "id": "689f33da-5239-4281-aa8f-075e3378b061",
   "metadata": {},
   "outputs": [],
   "source": [
    "intervals_p_list = intervals_p_agg.collect()"
   ]
  },
  {
   "cell_type": "code",
   "execution_count": null,
   "id": "9c1349ac-8c8e-4853-a82e-6de01762ca98",
   "metadata": {},
   "outputs": [],
   "source": [
    "# Создаем пустой DataFrame для хранения всех интервалов\n",
    "full_intervals = None\n",
    "\n",
    "# Создаем интервалы для каждой пары ct_p и ca_p\n",
    "for row in tqdm(intervals_p_list):\n",
    "    ct_p = row['ct_p']\n",
    "    ca_p = row['ca_p']\n",
    "    interbeg_p_min = row['interbeg_p_min']\n",
    "    interbeg_p_max = row['interbeg_p_max']\n",
    "    \n",
    "    # Создаем диапазон дат с использованием Spark SQL функций\n",
    "    date_range = spark.sql(f\"\"\"\n",
    "        SELECT explode(sequence(\n",
    "            to_timestamp('{interbeg_p_min}'),\n",
    "            to_timestamp('{interbeg_p_max}'),\n",
    "            interval 15 minutes\n",
    "        )) as interbeg\n",
    "    \"\"\")\n",
    "    \n",
    "    df_intervals = date_range.withColumn(\"interend\", f.col(\"interbeg\") + f.expr(\"INTERVAL 15 MINUTES\"))\n",
    "    \n",
    "    # Добавляем ct_p и ca_p к интервалам\n",
    "    df_intervals = df_intervals.withColumn(\"ct\", f.lit(ct_p)).withColumn(\"ca\", f.lit(ca_p))\n",
    "    \n",
    "    # Объединяем интервалы для всех пар\n",
    "    if full_intervals is None:\n",
    "        full_intervals = df_intervals\n",
    "    else:\n",
    "        full_intervals = full_intervals.union(df_intervals)"
   ]
  },
  {
   "cell_type": "code",
   "execution_count": null,
   "id": "43d3c28f-cb47-4801-b487-753323b592b7",
   "metadata": {},
   "outputs": [],
   "source": [
    "print(\"размер сетки:\",pds.gvf(full_intervals.count()))\n",
    "full_intervals.cache()"
   ]
  },
  {
   "cell_type": "code",
   "execution_count": null,
   "id": "3f6c5f8c-f4bf-47a4-ae7f-3244a0793b3f",
   "metadata": {},
   "outputs": [],
   "source": [
    "full_intervals.show(5)"
   ]
  },
  {
   "cell_type": "markdown",
   "id": "4f3fd89c-5565-4354-be2e-8572010b0b87",
   "metadata": {},
   "source": [
    "Делать сетку для интервалов по районам высадки не будем. Т.к. прогнозы строятся для районов посадки. И те интервалы высадки, которые выходят за пределы созданной сетки для посадки, очевидно могут только \"убегать\" в будущее относительно посадки, соответственно не могут использоваться нами для прогнозов.\n",
    "\n",
    "Присоеденим ДФ с данными по посадке к созданной сетке"
   ]
  },
  {
   "cell_type": "code",
   "execution_count": null,
   "id": "15627032-143b-46ca-a230-9b17f6060839",
   "metadata": {},
   "outputs": [],
   "source": [
    "# agg_p_15m_agg.columns"
   ]
  },
  {
   "cell_type": "code",
   "execution_count": null,
   "id": "eeeec5f7-3ee7-4bc9-843b-f73e651519d4",
   "metadata": {},
   "outputs": [],
   "source": [
    "agg_15m_full = full_intervals.alias(\"a\").join(agg_p_15m_agg.alias(\"b\"),\n",
    "    (f.col(\"a.ct\")==f.col(\"b.ct_p\")) &\n",
    "    (f.col(\"a.interbeg\")==f.col(\"b.interbeg_p\")),\n",
    "    how = 'left'\n",
    ")"
   ]
  },
  {
   "cell_type": "code",
   "execution_count": null,
   "id": "bccc8262-9d63-4691-9375-50e056018015",
   "metadata": {},
   "outputs": [],
   "source": [
    "# agg_15m_full.count()"
   ]
  },
  {
   "cell_type": "markdown",
   "id": "a9d9384c-8d6c-4c85-a284-692b4319fb1b",
   "metadata": {},
   "source": [
    "Присоеденим ДФ с данными по высадке."
   ]
  },
  {
   "cell_type": "code",
   "execution_count": null,
   "id": "29059edb-6adf-4ada-bbfa-a68430f8acb7",
   "metadata": {},
   "outputs": [],
   "source": [
    "agg_15m_full.printSchema()"
   ]
  },
  {
   "cell_type": "code",
   "execution_count": null,
   "id": "5d8b0064-457d-475f-9d86-c1aead932f3b",
   "metadata": {},
   "outputs": [],
   "source": [
    "agg_15m_full = agg_15m_full.alias(\"a\").join(agg_d_15m_agg.alias(\"b\"),\n",
    "    (f.col(\"a.ct\")==f.col(\"b.ct_d\")) &\n",
    "    (f.col(\"a.interbeg\")==f.col(\"b.interbeg_d\")),\n",
    "    how = 'left'\n",
    ")"
   ]
  },
  {
   "cell_type": "code",
   "execution_count": null,
   "id": "20cd50d3-05ac-4784-8216-fbdec61783dd",
   "metadata": {},
   "outputs": [],
   "source": [
    "agg_15m_full = agg_15m_full.fillna(0)"
   ]
  },
  {
   "cell_type": "markdown",
   "id": "06c091c8-fcf1-4a3b-bc38-ea8fb81aa68e",
   "metadata": {},
   "source": [
    "## Агр 15 мин фулл - Сохраним и загрузим полученный ДФ в файл"
   ]
  },
  {
   "cell_type": "code",
   "execution_count": null,
   "id": "e05dc92b-9c5c-4fe5-88b5-6c20057d5496",
   "metadata": {},
   "outputs": [],
   "source": [
    "# %%time\n",
    "# agg_15m_full.coalesce(1).write.csv(\"/work/data/taxis_agg_15m_full.csv\", header=True, mode=\"overwrite\")"
   ]
  },
  {
   "cell_type": "code",
   "execution_count": null,
   "id": "b51a001a-9986-4e3a-9634-8fe5bde93eef",
   "metadata": {},
   "outputs": [],
   "source": [
    "%%time\n",
    "agg_15m_full = spark.read.load('/work/data/taxis_agg_15m_full.csv', \n",
    "                       format='csv', header='true'\n",
    "                        , inferSchema='true'\n",
    "                       )"
   ]
  },
  {
   "cell_type": "code",
   "execution_count": null,
   "id": "8ede7f55-6e17-46a2-a9b1-446a6a3b01ed",
   "metadata": {},
   "outputs": [],
   "source": [
    "agg_15m_full.printSchema()"
   ]
  },
  {
   "cell_type": "markdown",
   "id": "c30f4579-191b-4472-95c4-6e21e52dbd45",
   "metadata": {},
   "source": [
    "## Расчет состояний"
   ]
  },
  {
   "cell_type": "markdown",
   "id": "90f272f2-e8e7-427a-b19d-d5240b2caba2",
   "metadata": {},
   "source": [
    "Расчитаем\n",
    "- баланс поездок (balance) для временного интервала как количество высадок (trips_d) минус количество посадок (trips_p). Состояние - это кумулятивное значение баланса по району.  \n",
    "- балансы количества компаний на линии (comp{i}_bal, compless5_bal) - как: comp{i}_d минус comp{i}_p, ompless5_d минус ompless5_p"
   ]
  },
  {
   "cell_type": "markdown",
   "id": "11a1e7de-f45b-4277-9f6d-a97f6b7f0d93",
   "metadata": {},
   "source": [
    "Поскольку значения полей time_p - totals_p фактически образуются только в конце поездки, их нельзя помещать в исходный временной интервал, т.к. таким образом мы получим утечку. Значения этих полей должны быть сдвинуты. В описании данных  видно, что 75% квантиль времени поездок находится на значении 27 минут. Другие верхние квантили:\n",
    "```yaml\n",
    "| Quantile | TripSeconds |\n",
    "|----------|-------------|\n",
    "| 80%      | 1860.0      |\n",
    "| 90%      | 2460.0      |\n",
    "| 95%      | 3006.0      |\n",
    "| 98%      | 3660.0      |\n",
    "```\n",
    "Таким образом, учитывая то, что мы оперируем агрегированными данными, сдвиг этих полей на 45 минут на исправит ситуацию практически полностью.\n",
    "\n",
    "При этом попадание значений полей высадки (суффикс \"_d\") в интервалы - правильный."
   ]
  },
  {
   "cell_type": "code",
   "execution_count": null,
   "id": "392ae704-d505-4c8e-815b-1ae593abd9b3",
   "metadata": {},
   "outputs": [],
   "source": [
    "# agg_15m_full.columns"
   ]
  },
  {
   "cell_type": "code",
   "execution_count": null,
   "id": "2d7a7568-11d0-44e8-bad3-3b2aa02e8af2",
   "metadata": {},
   "outputs": [],
   "source": [
    "# Добавим расчет баланса поездок и компаний\n",
    "agg_15m_full = agg_15m_full.withColumn(\n",
    "    \"balance\", f.col(\"trips_d\") - f.col(\"trips_p\")\n",
    ")\\\n",
    "# # пока не будем считать балансы по компаниям на линиии\n",
    "# .withColumn(\n",
    "#     \"comp1_bal\", f.col(\"comp1_d\") - f.col(\"comp1_p\")\n",
    "# ).withColumn(\n",
    "#     \"comp2_bal\", f.col(\"comp2_d\") - f.col(\"comp2_p\")\n",
    "# ).withColumn(\n",
    "#     \"comp3_bal\", f.col(\"comp3_d\") - f.col(\"comp3_p\")\n",
    "# ).withColumn(\n",
    "#     \"comp4_bal\", f.col(\"comp4_d\") - f.col(\"comp4_p\")\n",
    "# ).withColumn(\n",
    "#     \"comp5_bal\", f.col(\"comp5_d\") - f.col(\"comp5_p\")\n",
    "# ).withColumn(\n",
    "#     \"compless5_bal\", f.col(\"compless5_d\") - f.col(\"compless5_p\")\n",
    "# )"
   ]
  },
  {
   "cell_type": "code",
   "execution_count": null,
   "id": "526b7b4b-4771-4e6a-bdd2-6cb95a971092",
   "metadata": {},
   "outputs": [],
   "source": [
    "# Добавим расчет состояния (кумулятивного значения баланса по району)\n",
    "window_spec = Window.partitionBy(\"ct\").orderBy(\"interbeg\")\n",
    "agg_15m_full = agg_15m_full.withColumn(\n",
    "    \"cumulative_balance\", f.sum(\"balance\").over(window_spec)\n",
    ")"
   ]
  },
  {
   "cell_type": "code",
   "execution_count": null,
   "id": "7e301b85-82a9-4710-b3b8-0077db01309c",
   "metadata": {},
   "outputs": [],
   "source": [
    "c"
   ]
  },
  {
   "cell_type": "code",
   "execution_count": null,
   "id": "4edf3381-4f73-4c65-9faf-90c72433ade9",
   "metadata": {},
   "outputs": [],
   "source": [
    "# agg_15m_full.columns"
   ]
  },
  {
   "cell_type": "code",
   "execution_count": null,
   "id": "4a7eb50f-4e64-41a8-88f7-c37418445480",
   "metadata": {},
   "outputs": [],
   "source": [
    "selected_columns = [\n",
    "    'interbeg',\n",
    "    'trips_p','trips_d',\n",
    "    'interend',\n",
    "    'ct',\n",
    "    'ca',\n",
    "    'balance',\n",
    "    'time_p',\n",
    "    'miles_p',\n",
    "    'cumulative_balance',\n",
    "    'time_p_shifted',\n",
    "    'miles_p_shifted'\n",
    "]\n",
    "\n",
    "agg_15m_full.select(*selected_columns).show(30)"
   ]
  },
  {
   "cell_type": "code",
   "execution_count": null,
   "id": "d4e9653e-18d6-49c5-b940-1d535698e2bd",
   "metadata": {},
   "outputs": [],
   "source": [
    "shifted_fields = [f\"{field}_shifted\" for field in fields_to_shift]\n",
    "# shifted_fields"
   ]
  },
  {
   "cell_type": "code",
   "execution_count": null,
   "id": "bb59b78b-2638-44a9-b69c-fd307b8b73b7",
   "metadata": {},
   "outputs": [],
   "source": [
    "# Удалим исходные поля для сдвига\n",
    "agg_15m_full = agg_15m_full.drop(*fields_to_shift)"
   ]
  },
  {
   "cell_type": "code",
   "execution_count": null,
   "id": "efef6af1-088c-4166-9c8f-3fb8b2c472d7",
   "metadata": {},
   "outputs": [],
   "source": [
    "# Переименуем сдвинутые поля в исходные названия\n",
    "for orig, shifted in zip(fields_to_shift, shifted_fields):\n",
    "    agg_15m_full = agg_15m_full.withColumnRenamed(shifted, orig)"
   ]
  },
  {
   "cell_type": "code",
   "execution_count": null,
   "id": "d7a6f47c-f25f-42e2-8c47-4e1a16599c76",
   "metadata": {},
   "outputs": [],
   "source": [
    "# agg_15m_full.columns"
   ]
  },
  {
   "cell_type": "code",
   "execution_count": null,
   "id": "443883b7-c8a0-4cdb-90e0-a8a806425e28",
   "metadata": {},
   "outputs": [],
   "source": [
    "# удалим лишние поля и поля компаний\n",
    "fields_to_drop = [\n",
    "    'ct_p',\n",
    " 'ca_p',\n",
    " 'interbeg_p',\n",
    " 'interend_p',\n",
    " 'ct_d',\n",
    " 'ca_d',\n",
    " 'interbeg_d',\n",
    " 'interend_d',\n",
    "]"
   ]
  },
  {
   "cell_type": "code",
   "execution_count": null,
   "id": "280481a9-a7e9-48b2-93a0-1a4132bc21d1",
   "metadata": {},
   "outputs": [],
   "source": [
    "# Удалим поля\n",
    "agg_15m_full = agg_15m_full.drop(*fields_to_drop)"
   ]
  },
  {
   "cell_type": "code",
   "execution_count": null,
   "id": "579eeb9f-62cf-40f9-b41e-5ef84f72460d",
   "metadata": {},
   "outputs": [],
   "source": [
    "# agg_15m_full.columns"
   ]
  },
  {
   "cell_type": "markdown",
   "id": "a6e39f1b-6eac-4974-aa34-97a1457f9da9",
   "metadata": {},
   "source": [
    "Удалим поля расходов. Также - поля нормализованных по времени расходов, поскольку они будут коллинеарны скорости"
   ]
  },
  {
   "cell_type": "code",
   "execution_count": null,
   "id": "7e388d4e-de97-4bfb-9f28-d3ec9ffe1294",
   "metadata": {},
   "outputs": [],
   "source": [
    "fields_to_drop = [\n",
    "    'fare_d',\n",
    " 'tips_d',\n",
    " 'tolls_d',\n",
    " 'extras_d',\n",
    " 'total_d',\n",
    "    'fares_d',\n",
    " 'tipss_d',\n",
    " 'tollss_d',\n",
    " 'extrass_d',\n",
    " 'totals_d',\n",
    "    'fare_p',\n",
    " 'tips_p',\n",
    " 'tolls_p',\n",
    " 'extras_p',\n",
    " 'total_p',\n",
    "    'fares_p',\n",
    " 'tipss_p',\n",
    " 'tollss_p',\n",
    " 'extrass_p',\n",
    " 'totals_p'\n",
    "]"
   ]
  },
  {
   "cell_type": "code",
   "execution_count": null,
   "id": "6b586497-37cf-4e71-bb1d-d1cb170453dd",
   "metadata": {},
   "outputs": [],
   "source": [
    "# Удалим поля\n",
    "agg_15m_full = agg_15m_full.drop(*fields_to_drop)"
   ]
  },
  {
   "cell_type": "code",
   "execution_count": null,
   "id": "7677eece-8ec7-471d-bdea-50891e970a42",
   "metadata": {},
   "outputs": [],
   "source": [
    "# agg_15m_full.columns"
   ]
  },
  {
   "cell_type": "code",
   "execution_count": null,
   "id": "e9cfc2c1-327b-411b-93e0-50ba19631866",
   "metadata": {},
   "outputs": [],
   "source": [
    "agg_15m_full = agg_15m_full.dropna()"
   ]
  },
  {
   "cell_type": "markdown",
   "id": "745953b5-d846-40b8-b1b6-9719e396ada4",
   "metadata": {},
   "source": [
    "## Агр 15 мин итог - Сохраним и загрузим полученный ДФ в файл"
   ]
  },
  {
   "cell_type": "code",
   "execution_count": null,
   "id": "44ab52d3-e10d-45c6-8b5e-e68b31286302",
   "metadata": {},
   "outputs": [],
   "source": [
    "# %%time\n",
    "# agg_15m_full.coalesce(1).write.csv(\"/work/data/taxis_agg_15m_full_shifted.csv\", header=True, mode=\"overwrite\")"
   ]
  },
  {
   "cell_type": "code",
   "execution_count": null,
   "id": "31ffc4d0-44da-43db-808c-b81bbe7fa2c2",
   "metadata": {},
   "outputs": [],
   "source": [
    "%%time\n",
    "agg_15m_full = spark.read.load('/work/data/taxis_agg_15m_full_shifted.csv', \n",
    "                       format='csv', header='true'\n",
    "                        , inferSchema='true'\n",
    "                       )"
   ]
  },
  {
   "cell_type": "code",
   "execution_count": null,
   "id": "1cf81262-b20a-4be7-8d3f-c97a434ece9d",
   "metadata": {},
   "outputs": [],
   "source": [
    "agg_15m_full.printSchema()"
   ]
  },
  {
   "cell_type": "markdown",
   "id": "5543008a-3e23-4b41-a543-b85f9d2c37cf",
   "metadata": {},
   "source": [
    "## Агрегируем по часам и геоключам (ct ca)"
   ]
  },
  {
   "cell_type": "markdown",
   "id": "cd632d3c-a881-4b4a-b92c-4fecd43e2b95",
   "metadata": {},
   "source": [
    "Агрегируем по часам и геоключам (ct ca) следующим образом\n",
    "\n",
    "- trips_p - суммируем, а также добавляем 4 поля по каждому четвертьчасу получаемого часа: прирост trips_p к предыдущему четверьтчасу 1-тек/пред (если пред = 0 а текущ не = 0, то прирост 1, если и текущ = 0, то прирост 0)\n",
    "- trips_d - аналогично - trips_p\n",
    "- time_p time_d - суммируем\n",
    "- miles_p miles_d - суммируем\n",
    "- velocity_p velocity_d - считаем как отношение полученной суммы miles_p miles_d к полученной сумме time_p time_d. Также добавляем по четыре поля прироста скорости по аналогии с trips_p\n",
    "- farem_ tipsm_ tollsm_ extrasm_ totalm_ (p и d) - суммируем\n",
    "- cumulative_balance - берем значение последнего четвертьчаса в часе"
   ]
  },
  {
   "cell_type": "code",
   "execution_count": null,
   "id": "7351df55-586b-443a-9516-8cb364b32cb0",
   "metadata": {},
   "outputs": [],
   "source": [
    "agg_15m_full = agg_15m_full.withColumn(\"hour_start\", f.date_trunc(\"hour\", \"interbeg\"))"
   ]
  },
  {
   "cell_type": "markdown",
   "id": "88524330-e6ea-42dc-9481-350f12f63b03",
   "metadata": {},
   "source": [
    "### Проведем манипуляции на выборке из ДФ"
   ]
  },
  {
   "cell_type": "code",
   "execution_count": null,
   "id": "7b0151da-b9ae-49a0-824f-6b472f99dd35",
   "metadata": {},
   "outputs": [],
   "source": [
    "# agg_15m_full.printSchema()"
   ]
  },
  {
   "cell_type": "code",
   "execution_count": null,
   "id": "935c75fa-8be5-4abf-a877-dd39311488bb",
   "metadata": {},
   "outputs": [],
   "source": [
    "f_to_sel = [\n",
    "    'interbeg',\n",
    "    'interend',\n",
    "    'hour_start',\n",
    "    'ct','ca',\n",
    "    'trips_p',\n",
    "]"
   ]
  },
  {
   "cell_type": "code",
   "execution_count": null,
   "id": "49a0a7f3-431a-46eb-ba5f-efd203c80514",
   "metadata": {},
   "outputs": [],
   "source": [
    "agg_sample = agg_15m_full.filter(f.col(\"ct\")==10000000000).select(*f_to_sel)"
   ]
  },
  {
   "cell_type": "code",
   "execution_count": null,
   "id": "a2d1186f-8050-4528-9cfe-8ffdf8261413",
   "metadata": {},
   "outputs": [],
   "source": [
    "print(pds.gvf(agg_sample.count()))\n",
    "agg_sample.cache()\n",
    "agg_sample.show(10)"
   ]
  },
  {
   "cell_type": "code",
   "execution_count": null,
   "id": "9fdef201-ab0e-4c20-9efe-0b70f284b59a",
   "metadata": {},
   "outputs": [],
   "source": [
    "window_ct_ca = Window.partitionBy(\"ct\", \"ca\").orderBy(\"interbeg\")"
   ]
  },
  {
   "cell_type": "code",
   "execution_count": null,
   "id": "93e1220a-52d7-4c38-8595-27e60c5338a7",
   "metadata": {},
   "outputs": [],
   "source": [
    "# Сдвинем значения полей interend trips_p на 1 интервал вперед\n",
    "fields_to_shift = [\n",
    "    'trips_p', 'interend'\n",
    "]\n",
    "\n",
    "for field in fields_to_shift:\n",
    "    agg_sample = agg_sample.withColumn(\n",
    "        f\"{field}_shifted\", f.lag(f.col(field), 1).over(window_ct_ca)\n",
    "    )"
   ]
  },
  {
   "cell_type": "code",
   "execution_count": null,
   "id": "193dc63e-473b-4692-87ed-e870fef1d4cb",
   "metadata": {},
   "outputs": [],
   "source": [
    "agg_sample = agg_sample.dropna()"
   ]
  },
  {
   "cell_type": "code",
   "execution_count": null,
   "id": "26983601-a56c-4b46-99ea-a3760c18aefe",
   "metadata": {},
   "outputs": [],
   "source": [
    "agg_sample.show(10)\n",
    "agg_sample.cache()"
   ]
  },
  {
   "cell_type": "code",
   "execution_count": null,
   "id": "67c1a682-c350-4901-a501-f981638ff8a1",
   "metadata": {},
   "outputs": [],
   "source": [
    "agg_sample = agg_sample.withColumn(\"hour_end\", f.date_trunc(\"hour\", \"interend_shifted\"))"
   ]
  },
  {
   "cell_type": "code",
   "execution_count": null,
   "id": "7eabdc39-dbed-4213-bd50-deee5c18577e",
   "metadata": {},
   "outputs": [],
   "source": [
    "# Создание окна для каждого часа окончания поездки, учитывая \"ct\" и \"ca\"\n",
    "window_hour_end = Window.partitionBy(\"ct\", \"ca\", \"hour_end\").orderBy(\"interend_shifted\")"
   ]
  },
  {
   "cell_type": "code",
   "execution_count": null,
   "id": "88d28bd8-0bbc-4fa7-aeaa-ebcd5e80b25f",
   "metadata": {},
   "outputs": [],
   "source": [
    "# Добавление столбца каоличества поездок за послений интервал перед часом начала\n",
    "agg_sample = agg_sample \\\n",
    "    .withColumn(\"trips_p_0\", f.first(\"trips_p_shifted\").over(window_hour_end))"
   ]
  },
  {
   "cell_type": "code",
   "execution_count": null,
   "id": "cfebd651-16f8-4850-bd97-1e055687357e",
   "metadata": {},
   "outputs": [],
   "source": [
    "# agg_sample.show(10)\n",
    "# agg_sample.cache()"
   ]
  },
  {
   "cell_type": "code",
   "execution_count": null,
   "id": "1ac6b3bf-0922-491e-8bcb-8f609650bc65",
   "metadata": {},
   "outputs": [],
   "source": [
    "# Создание окна для каждого часа начала, учитывая \"ct\" и \"ca\"\n",
    "window_hour_beg = Window.partitionBy(\"ct\", \"ca\", \"hour_start\").orderBy(\"interbeg\")"
   ]
  },
  {
   "cell_type": "code",
   "execution_count": null,
   "id": "90bdb2f8-31b5-4572-9067-735186914c01",
   "metadata": {},
   "outputs": [],
   "source": [
    "# # Сборка всех значений trips_p в список для каждого часа\n",
    "# agg_sample = agg_sample.withColumn(\"trips_p_list\", f.collect_list(\"trips_p\").over(window_hour_beg))\n",
    "\n",
    "# # Извлечение значений для каждого интервала\n",
    "# agg_sample = agg_sample \\\n",
    "# .withColumn(\"trips_p_1\", f.col(\"trips_p_list\")[0]) \\\n",
    "# .withColumn(\"trips_p_2\", f.col(\"trips_p_list\")[1]) \\\n",
    "# .withColumn(\"trips_p_3\", f.col(\"trips_p_list\")[2]) \\\n",
    "# .withColumn(\"trips_p_4\", f.col(\"trips_p_list\")[3])"
   ]
  },
  {
   "cell_type": "code",
   "execution_count": null,
   "id": "10b504a3-26c8-4020-a6b8-38a5f44b5827",
   "metadata": {},
   "outputs": [],
   "source": [
    "# Добавление номера строки внутри окна\n",
    "agg_sample = agg_sample.withColumn(\"row_num\", f.row_number().over(window_hour_beg))\n",
    "\n",
    "# Определение значений для каждого интервала на основе номера строки\n",
    "agg_sample = agg_sample.withColumn(\"trips_p_1\", f.when(f.col(\"row_num\") == 1, f.col(\"trips_p\")).otherwise(None)) \\\n",
    "                       .withColumn(\"trips_p_2\", f.when(f.col(\"row_num\") == 2, f.col(\"trips_p\")).otherwise(None)) \\\n",
    "                       .withColumn(\"trips_p_3\", f.when(f.col(\"row_num\") == 3, f.col(\"trips_p\")).otherwise(None)) \\\n",
    "                       .withColumn(\"trips_p_4\", f.when(f.col(\"row_num\") == 4, f.col(\"trips_p\")).otherwise(None))\n",
    "\n",
    "# Заполнение значений для всех строк внутри окна\n",
    "agg_sample = agg_sample.withColumn(\"trips_p_1\", f.first(\"trips_p_1\", ignorenulls=True).over(window_hour_beg)) \\\n",
    "                       .withColumn(\"trips_p_2\", f.first(\"trips_p_2\", ignorenulls=True).over(window_hour_beg)) \\\n",
    "                       .withColumn(\"trips_p_3\", f.first(\"trips_p_3\", ignorenulls=True).over(window_hour_beg)) \\\n",
    "                       .withColumn(\"trips_p_4\", f.first(\"trips_p_4\", ignorenulls=True).over(window_hour_beg))\n",
    "\n",
    "# Удаление временной колонки\n",
    "agg_sample = agg_sample.drop(\"row_num\")"
   ]
  },
  {
   "cell_type": "code",
   "execution_count": null,
   "id": "59642347-1552-4c28-9026-660e4797e524",
   "metadata": {},
   "outputs": [],
   "source": [
    "# agg_sample.columns"
   ]
  },
  {
   "cell_type": "code",
   "execution_count": null,
   "id": "a32f9a24-30be-42f1-a5b3-eaf9e948dbb2",
   "metadata": {},
   "outputs": [],
   "source": [
    "f_to_sel = [\n",
    "    'interbeg',\n",
    "     'interend',\n",
    "     'hour_start',\n",
    "     'trips_p',\n",
    "     'trips_p_0',\n",
    "     'trips_p_1',\n",
    "     'trips_p_2',\n",
    "     'trips_p_3',\n",
    "     'trips_p_4',\n",
    "     # 'trips_p_list'\n",
    "]\n",
    "\n",
    "agg_sample.select(*f_to_sel).show(10)\n",
    "agg_sample.cache()"
   ]
  },
  {
   "cell_type": "code",
   "execution_count": null,
   "id": "e271366d-92a7-47df-8d07-c78252530d13",
   "metadata": {},
   "outputs": [],
   "source": [
    "agg_sample.printSchema()"
   ]
  },
  {
   "cell_type": "code",
   "execution_count": null,
   "id": "d1fe77ee-b385-4f99-8687-63ad195184be",
   "metadata": {},
   "outputs": [],
   "source": [
    "f_to_sel = [\n",
    "    'ct',\n",
    "    'ca',\n",
    "    # 'interbeg',\n",
    "    #  'interend',\n",
    "     'hour_start',\n",
    "     'trips_p',\n",
    "     'trips_p_0',\n",
    "     'trips_p_1',\n",
    "     'trips_p_2',\n",
    "     'trips_p_3',\n",
    "     'trips_p_4',\n",
    "     # 'trips_p_list'\n",
    "]\n",
    "\n",
    "window_hour_start = Window.partitionBy(\"ct\", \"ca\", \"hour_start\").orderBy(\"hour_start\")\n",
    "\n",
    "agg_sample_agg = agg_sample.select(*f_to_sel) \\\n",
    "    .groupBy(\"ct\", \"ca\", \"hour_start\") \\\n",
    "    .agg(f.sum(\"trips_p\").alias(\"trips_p_sum\"),\n",
    "         f.last(\"trips_p_0\").alias(\"trips_p_0\"),\n",
    "         f.last(\"trips_p_1\").alias(\"trips_p_1\"),\n",
    "         f.last(\"trips_p_2\").alias(\"trips_p_2\"),\n",
    "         f.last(\"trips_p_3\").alias(\"trips_p_3\"),\n",
    "         f.last(\"trips_p_4\").alias(\"trips_p_4\"))\n",
    "\n",
    "# Показать полученный DataFrame\n",
    "agg_sample_agg.show()"
   ]
  },
  {
   "cell_type": "markdown",
   "id": "e1fd9dcf-70ed-4785-b0ff-c668e4ca38ce",
   "metadata": {},
   "source": [
    "### Обработаем весь ДФ"
   ]
  },
  {
   "cell_type": "code",
   "execution_count": null,
   "id": "d89e96aa-df0a-402f-98f9-a2b356943f22",
   "metadata": {},
   "outputs": [],
   "source": [
    "\", \".join(agg_15m_full.columns)"
   ]
  },
  {
   "cell_type": "code",
   "execution_count": null,
   "id": "1a935027-e1bc-4fe0-9415-c7da7b24c3d9",
   "metadata": {},
   "outputs": [],
   "source": [
    "window_ct_ca = Window.partitionBy(\"ct\", \"ca\").orderBy(\"interbeg\")"
   ]
  },
  {
   "cell_type": "code",
   "execution_count": null,
   "id": "9314154c-041b-4710-8156-6f1290ba15b4",
   "metadata": {},
   "outputs": [],
   "source": [
    "# Сдвинем значения полей interend на 1 интервал вперед\n",
    "fields_to_shift = [\n",
    "    'trips_p', 'trips_d',\n",
    "    'velocity_p', 'velocity_d',\n",
    "    'interend'\n",
    "]\n",
    "\n",
    "for field in fields_to_shift:\n",
    "    agg_15m_full = agg_15m_full.withColumn(\n",
    "        f\"{field}_shifted\", f.lag(f.col(field), 1).over(window_ct_ca)\n",
    "    )"
   ]
  },
  {
   "cell_type": "code",
   "execution_count": null,
   "id": "f8c402db-4515-453f-97fe-9a9c95f3a8d0",
   "metadata": {},
   "outputs": [],
   "source": [
    "agg_15m_full = agg_15m_full.dropna()"
   ]
  },
  {
   "cell_type": "code",
   "execution_count": null,
   "id": "5e4ca7f6-ec64-47ed-9099-c27123d51b08",
   "metadata": {},
   "outputs": [],
   "source": [
    "# добавим час окончания для окна, в котором будет браться последний четвертьчас перед текущим часом\n",
    "agg_15m_full = agg_15m_full.withColumn(\"hour_end\", f.date_trunc(\"hour\", \"interend_shifted\"))"
   ]
  },
  {
   "cell_type": "code",
   "execution_count": null,
   "id": "63eb52c7-adcc-4d8d-bf2e-a348e6556d3c",
   "metadata": {},
   "outputs": [],
   "source": [
    "# Создание окна для каждого часа окончания поездки, учитывая \"ct\" и \"ca\"\n",
    "window_hour_end = Window.partitionBy(\"ct\", \"ca\", \"hour_end\").orderBy(\"interend_shifted\")"
   ]
  },
  {
   "cell_type": "code",
   "execution_count": null,
   "id": "f3d7cb31-25d4-471a-99fb-46fa9543693a",
   "metadata": {},
   "outputs": [],
   "source": [
    "# Добавление столбцов значений за послений интервал перед часом начала\n",
    "agg_15m_full = agg_15m_full \\\n",
    "    .withColumn(\"trips_p_0\", f.first(\"trips_p_shifted\").over(window_hour_end))\\\n",
    "    .withColumn(\"trips_d_0\", f.first(\"trips_d_shifted\").over(window_hour_end))\\\n",
    "    .withColumn(\"velocity_p_0\", f.first(\"velocity_p_shifted\").over(window_hour_end))\\\n",
    "    .withColumn(\"velocity_d_0\", f.first(\"velocity_d_shifted\").over(window_hour_end))"
   ]
  },
  {
   "cell_type": "code",
   "execution_count": null,
   "id": "a593a535-1477-44f2-b9f9-e7b7da64d247",
   "metadata": {},
   "outputs": [],
   "source": [
    "# Создание окна для каждого часа начала, учитывая \"ct\" и \"ca\"\n",
    "window_hour_beg = Window.partitionBy(\"ct\", \"ca\", \"hour_start\").orderBy(\"interbeg\")"
   ]
  },
  {
   "cell_type": "code",
   "execution_count": null,
   "id": "d391de5f-4cd2-42f0-ae89-77990f481b87",
   "metadata": {},
   "outputs": [],
   "source": [
    "# Сборка всех значений в список для каждого часа\n",
    "agg_15m_full = agg_15m_full\\\n",
    ".withColumn(\"trips_p_list\", f.collect_list(\"trips_p\").over(window_hour_beg))\\\n",
    ".withColumn(\"trips_d_list\", f.collect_list(\"trips_d\").over(window_hour_beg))\\\n",
    ".withColumn(\"velocity_p_list\", f.collect_list(\"velocity_p\").over(window_hour_beg))\\\n",
    ".withColumn(\"velocity_d_list\", f.collect_list(\"velocity_d\").over(window_hour_beg))\n",
    "\n",
    "# Извлечение значений для каждого интервала\n",
    "agg_15m_full = agg_15m_full \\\n",
    ".withColumn(\"trips_p_1\", f.col(\"trips_p_list\")[0]) \\\n",
    ".withColumn(\"trips_p_2\", f.col(\"trips_p_list\")[1]) \\\n",
    ".withColumn(\"trips_p_3\", f.col(\"trips_p_list\")[2]) \\\n",
    ".withColumn(\"trips_p_4\", f.col(\"trips_p_list\")[3])\\\n",
    "\\\n",
    ".withColumn(\"trips_d_1\", f.col(\"trips_d_list\")[0]) \\\n",
    ".withColumn(\"trips_d_2\", f.col(\"trips_d_list\")[1]) \\\n",
    ".withColumn(\"trips_d_3\", f.col(\"trips_d_list\")[2]) \\\n",
    ".withColumn(\"trips_d_4\", f.col(\"trips_d_list\")[3])\\\n",
    "\\\n",
    ".withColumn(\"velocity_p_1\", f.col(\"velocity_p_list\")[0]) \\\n",
    ".withColumn(\"velocity_p_2\", f.col(\"velocity_p_list\")[1]) \\\n",
    ".withColumn(\"velocity_p_3\", f.col(\"velocity_p_list\")[2]) \\\n",
    ".withColumn(\"velocity_p_4\", f.col(\"velocity_p_list\")[3])\\\n",
    "\\\n",
    ".withColumn(\"velocity_d_1\", f.col(\"velocity_d_list\")[0]) \\\n",
    ".withColumn(\"velocity_d_2\", f.col(\"velocity_d_list\")[1]) \\\n",
    ".withColumn(\"velocity_d_3\", f.col(\"velocity_d_list\")[2]) \\\n",
    ".withColumn(\"velocity_d_4\", f.col(\"velocity_d_list\")[3])"
   ]
  },
  {
   "cell_type": "code",
   "execution_count": null,
   "id": "89fa5295-8a04-4c24-a871-f91b275f523d",
   "metadata": {},
   "outputs": [],
   "source": [
    "\", \".join(agg_15m_full.columns)"
   ]
  },
  {
   "cell_type": "code",
   "execution_count": null,
   "id": "527ad4a4-9126-41a0-abe5-3536627bca1e",
   "metadata": {},
   "outputs": [],
   "source": [
    "f_to_sel = [\n",
    "    'ct',\n",
    "    'ca',\n",
    "    'hour_start',\n",
    "     'trips_p', 'trips_p_0', 'trips_p_1', 'trips_p_2','trips_p_3','trips_p_4',\n",
    "     'time_p', 'miles_p',\n",
    "     'velocity_p', 'velocity_p_0', 'velocity_p_1', 'velocity_p_2', 'velocity_p_3', 'velocity_p_4',\n",
    "     'farem_p', 'tipsm_p', 'tollsm_p', 'extrasm_p', 'totalm_p',\n",
    "     'comp1_p', 'comp2_p', 'comp3_p', 'comp4_p', 'comp5_p', 'compless5_p',\n",
    "    'trips_d', 'trips_d_0', 'trips_d_1', 'trips_d_2','trips_d_3','trips_d_4',\n",
    "     'time_d', 'miles_d',\n",
    "     'velocity_d', 'velocity_d_0', 'velocity_d_1', 'velocity_d_2', 'velocity_d_3', 'velocity_d_4',\n",
    "     'farem_d', 'tipsm_d', 'tollsm_d', 'extrasm_d', 'totalm_d',\n",
    "     'comp1_d', 'comp2_d', 'comp3_d', 'comp4_d', 'comp5_d', 'compless5_d',\n",
    "    'cumulative_balance'\n",
    "    \n",
    "]"
   ]
  },
  {
   "cell_type": "code",
   "execution_count": null,
   "id": "1267776d-5496-45a2-a18a-01ae47b099f8",
   "metadata": {},
   "outputs": [],
   "source": [
    "window_hour_start = Window.partitionBy(\"ct\", \"ca\", \"hour_start\").orderBy(\"hour_start\")"
   ]
  },
  {
   "cell_type": "code",
   "execution_count": null,
   "id": "5d22fa90-4454-4b2e-8df3-f4a5d57ccf82",
   "metadata": {},
   "outputs": [],
   "source": [
    "agg_hour = agg_15m_full.select(*f_to_sel) \\\n",
    "    .groupBy(\"ct\", \"ca\", \"hour_start\") \\\n",
    "    .agg(f.sum(\"trips_p\").alias(\"trips_p\"),\n",
    "         f.last(\"trips_p_0\").alias(\"trips_p_0\"),\n",
    "         f.last(\"trips_p_1\").alias(\"trips_p_1\"),\n",
    "         f.last(\"trips_p_2\").alias(\"trips_p_2\"),\n",
    "         f.last(\"trips_p_3\").alias(\"trips_p_3\"),\n",
    "         f.last(\"trips_p_4\").alias(\"trips_p_4\"),\n",
    "         f.sum(\"time_p\").alias(\"time_p\"),\n",
    "         f.sum(\"miles_p\").alias(\"miles_p\"),\n",
    "         f.when(f.sum(\"time_p\") != 0, f.sum(\"miles_p\") / f.sum(\"time_p\")).otherwise(0).alias(\"velocity_p\"),\n",
    "         f.last(\"velocity_p_0\").alias(\"velocity_p_0\"),\n",
    "         f.last(\"velocity_p_1\").alias(\"velocity_p_1\"),\n",
    "         f.last(\"velocity_p_2\").alias(\"velocity_p_2\"),\n",
    "         f.last(\"velocity_p_3\").alias(\"velocity_p_3\"),\n",
    "         f.last(\"velocity_p_4\").alias(\"velocity_p_4\"),\n",
    "         f.sum(\"farem_p\").alias(\"farem_p\"),\n",
    "         f.sum(\"tipsm_p\").alias(\"tipsm_p\"),\n",
    "         f.sum(\"tollsm_p\").alias(\"tollsm_p\"),\n",
    "         f.sum(\"extrasm_p\").alias(\"extrasm_p\"),\n",
    "         f.sum(\"totalm_p\").alias(\"totalm_p\"),\n",
    "         f.sum(\"comp1_p\").alias(\"comp1_p\"),\n",
    "         f.sum(\"comp2_p\").alias(\"comp2_p\"),\n",
    "         f.sum(\"comp3_p\").alias(\"comp3_p\"),\n",
    "         f.sum(\"comp4_p\").alias(\"comp4_p\"),\n",
    "         f.sum(\"comp5_p\").alias(\"comp5_p\"),\n",
    "         f.sum(\"compless5_p\").alias(\"compless5_p\"),\n",
    "         f.sum(\"trips_d\").alias(\"trips_d\"),\n",
    "         f.last(\"trips_d_0\").alias(\"trips_d_0\"),\n",
    "         f.last(\"trips_d_1\").alias(\"trips_d_1\"),\n",
    "         f.last(\"trips_d_2\").alias(\"trips_d_2\"),\n",
    "         f.last(\"trips_d_3\").alias(\"trips_d_3\"),\n",
    "         f.last(\"trips_d_4\").alias(\"trips_d_4\"),\n",
    "         f.sum(\"time_d\").alias(\"time_d\"),\n",
    "         f.sum(\"miles_d\").alias(\"miles_d\"),\n",
    "         f.when(f.sum(\"time_d\") != 0, f.sum(\"miles_d\") / f.sum(\"time_d\")).otherwise(0).alias(\"velocity_d\"),\n",
    "         f.last(\"velocity_d_0\").alias(\"velocity_d_0\"),\n",
    "         f.last(\"velocity_d_1\").alias(\"velocity_d_1\"),\n",
    "         f.last(\"velocity_d_2\").alias(\"velocity_d_2\"),\n",
    "         f.last(\"velocity_d_3\").alias(\"velocity_d_3\"),\n",
    "         f.last(\"velocity_d_4\").alias(\"velocity_d_4\"),\n",
    "         f.sum(\"farem_d\").alias(\"farem_d\"),\n",
    "         f.sum(\"tipsm_d\").alias(\"tipsm_d\"),\n",
    "         f.sum(\"tollsm_d\").alias(\"tollsm_d\"),\n",
    "         f.sum(\"extrasm_d\").alias(\"extrasm_d\"),\n",
    "         f.sum(\"totalm_d\").alias(\"totalm_d\"),\n",
    "         f.sum(\"comp1_d\").alias(\"comp1_d\"),\n",
    "         f.sum(\"comp2_d\").alias(\"comp2_d\"),\n",
    "         f.sum(\"comp3_d\").alias(\"comp3_d\"),\n",
    "         f.sum(\"comp4_d\").alias(\"comp4_d\"),\n",
    "         f.sum(\"comp5_d\").alias(\"comp5_d\"),\n",
    "         f.sum(\"compless5_d\").alias(\"compless5_d\"),\n",
    "         f.last(\"cumulative_balance\").alias(\"cumulative_balance\")\n",
    "        )"
   ]
  },
  {
   "cell_type": "code",
   "execution_count": null,
   "id": "c7968134-0de8-45ee-b054-c3f758f1f143",
   "metadata": {},
   "outputs": [],
   "source": [
    "agg_hour.count()"
   ]
  },
  {
   "cell_type": "markdown",
   "id": "182ffeb8-efe7-4197-a874-0591929ead7a",
   "metadata": {},
   "source": [
    "## Агр 1ч - Сохранение и загрузка"
   ]
  },
  {
   "cell_type": "code",
   "execution_count": null,
   "id": "094b2061-0739-464b-9a69-3ba2f240c7d9",
   "metadata": {},
   "outputs": [],
   "source": [
    "%%time\n",
    "agg_hour.coalesce(1).write.csv(\"/work/data/taxis_agg_hour.csv\", header=True, mode=\"overwrite\")"
   ]
  },
  {
   "cell_type": "code",
   "execution_count": null,
   "id": "96730d21-8130-46b5-a372-264c1786b8e5",
   "metadata": {},
   "outputs": [],
   "source": [
    "%%time\n",
    "agg_hour = spark.read.load('/work/data/taxis_agg_hour.csv', \n",
    "                       format='csv', header='true'\n",
    "                        , inferSchema='true'\n",
    "                       )"
   ]
  },
  {
   "cell_type": "code",
   "execution_count": null,
   "id": "a0942d65-f194-45eb-8e40-e6eee21c5a9c",
   "metadata": {},
   "outputs": [],
   "source": [
    "agg_null = agg_hour.select([f.count(f.when(f.col(c).isNull(), c)).alias(c) for c in agg_hour.columns]).toPandas()"
   ]
  },
  {
   "cell_type": "code",
   "execution_count": null,
   "id": "1ba25e0a-227d-4ce7-bd14-b836724f40ba",
   "metadata": {},
   "outputs": [],
   "source": [
    "agg_null = agg_null.transpose()"
   ]
  },
  {
   "cell_type": "code",
   "execution_count": null,
   "id": "ae012128-cf8e-4753-b46f-39ed43434951",
   "metadata": {},
   "outputs": [],
   "source": [
    "agg_null[agg_null.iloc[:, 0] > 0]"
   ]
  },
  {
   "cell_type": "markdown",
   "id": "a739f4fd-8157-49fb-b074-7941cec4413d",
   "metadata": {},
   "source": [
    "Видим, что пропуски возникли во внутричасовых полях, очевидно из-за того, что некоторые окна (начальные или конечные) содержали менее 4 перодов. Заполним эти пропуски нулями."
   ]
  },
  {
   "cell_type": "code",
   "execution_count": null,
   "id": "d2d162c2-6599-4fc0-8c9d-de2d5357f22f",
   "metadata": {},
   "outputs": [],
   "source": [
    "agg_hour = agg_hour.fillna(0)"
   ]
  },
  {
   "cell_type": "code",
   "execution_count": null,
   "id": "b01690d6-6e39-4230-8807-c867a832829c",
   "metadata": {},
   "outputs": [],
   "source": [
    "%%time\n",
    "agg_hour.coalesce(1).write.csv(\"/work/data/taxis_agg_hour.csv\", header=True, mode=\"overwrite\")"
   ]
  },
  {
   "cell_type": "code",
   "execution_count": null,
   "id": "1df393a0-3fee-41ca-bcba-a4925de23fc1",
   "metadata": {},
   "outputs": [],
   "source": [
    "%%time\n",
    "agg_hour = spark.read.load('/work/data/taxis_agg_hour.csv', \n",
    "                       format='csv', header='true'\n",
    "                        , inferSchema='true'\n",
    "                       )"
   ]
  },
  {
   "cell_type": "markdown",
   "id": "7df68398-31dc-4be4-b860-682b07460f7d",
   "metadata": {},
   "source": [
    "## Расчет внутричасовой динамики"
   ]
  },
  {
   "cell_type": "code",
   "execution_count": null,
   "id": "0ddc98ca-1830-4fa9-be0c-c242733838df",
   "metadata": {},
   "outputs": [],
   "source": [
    "def calculate_growth_columns(df, base_column_prefix):\n",
    "    for i in range(4):\n",
    "\n",
    "        current_col = f\"{base_column_prefix}_{i}\"\n",
    "        next_col = f\"{base_column_prefix}_{i+1}\"\n",
    "        new_col = f\"{base_column_prefix}_growth_{i+1}_to_{i}\"\n",
    "\n",
    "        df = df.withColumn(new_col,\n",
    "                           f.when((f.col(current_col) != 0) & (f.col(next_col) != 0),\n",
    "                                  1 - (f.col(next_col) / f.col(current_col)))\n",
    "                           .when((f.col(current_col) == 0) & (f.col(next_col) != 0), 1)\n",
    "                           .otherwise(0))\n",
    "    \n",
    "    return df"
   ]
  },
  {
   "cell_type": "code",
   "execution_count": null,
   "id": "66e0d264-4bec-4851-8fbf-dd246b5992a7",
   "metadata": {},
   "outputs": [],
   "source": [
    "drop_cols = []\n",
    "for field in ['trips_p', 'trips_d', 'velocity_p', 'velocity_d']:\n",
    "    for i in range(5):\n",
    "        drop_cols.append(f\"{field}_{i}\")\n",
    "    agg_hour = calculate_growth_columns(agg_hour, field)"
   ]
  },
  {
   "cell_type": "code",
   "execution_count": null,
   "id": "dff2e5ba-b0e2-40e2-845d-3745705e50bd",
   "metadata": {},
   "outputs": [],
   "source": [
    "\", \".join(drop_cols)"
   ]
  },
  {
   "cell_type": "code",
   "execution_count": null,
   "id": "8a72031f-6242-49f6-8253-f83150135052",
   "metadata": {},
   "outputs": [],
   "source": [
    "agg_hour = agg_hour.drop(*drop_cols)\n",
    "\n",
    "agg_hour.printSchema()"
   ]
  },
  {
   "cell_type": "markdown",
   "id": "d9fb8715-780c-44e2-b54f-988b18d39ff6",
   "metadata": {},
   "source": [
    "## Агр 1ч growth - Загрузка"
   ]
  },
  {
   "cell_type": "code",
   "execution_count": null,
   "id": "62ddc595-f4f4-4033-b890-cf42b5c3d380",
   "metadata": {},
   "outputs": [],
   "source": [
    "# %%time\n",
    "# agg_hour.coalesce(1).write.csv(\"/work/data/taxis_agg_hour_growth.csv\", header=True, mode=\"overwrite\")"
   ]
  },
  {
   "cell_type": "code",
   "execution_count": 18,
   "id": "fb679a8d-5f92-49ab-80b2-d3a76792f376",
   "metadata": {},
   "outputs": [
    {
     "name": "stdout",
     "output_type": "stream",
     "text": [
      "CPU times: user 17.9 ms, sys: 828 µs, total: 18.7 ms\n",
      "Wall time: 44.6 s\n"
     ]
    }
   ],
   "source": [
    "%%time\n",
    "agg_hour = spark.read.load('/work/data/taxis_agg_hour_growth.csv', \n",
    "                       format='csv', header='true'\n",
    "                        , inferSchema='true'\n",
    "                       )"
   ]
  },
  {
   "cell_type": "code",
   "execution_count": 19,
   "id": "df4f4d57-25f7-4c70-976f-fd4452ca779f",
   "metadata": {},
   "outputs": [
    {
     "data": {
      "text/plain": [
       "3079450"
      ]
     },
     "execution_count": 19,
     "metadata": {},
     "output_type": "execute_result"
    }
   ],
   "source": [
    "agg_hour.count()"
   ]
  },
  {
   "cell_type": "code",
   "execution_count": 20,
   "id": "f9d40cea-0b3e-4396-b995-928bfc94e0cd",
   "metadata": {},
   "outputs": [
    {
     "data": {
      "text/plain": [
       "DataFrame[ct: bigint, ca: int, hour_start: timestamp, trips_p: int, time_p: int, miles_p: double, velocity_p: double, farem_p: double, tipsm_p: double, tollsm_p: double, extrasm_p: double, totalm_p: double, comp1_p: int, comp2_p: int, comp3_p: int, comp4_p: int, comp5_p: int, compless5_p: int, trips_d: int, time_d: int, miles_d: double, velocity_d: double, farem_d: double, tipsm_d: double, tollsm_d: double, extrasm_d: double, totalm_d: double, comp1_d: int, comp2_d: int, comp3_d: int, comp4_d: int, comp5_d: int, compless5_d: int, cumulative_balance: int, trips_p_growth_1_to_0: double, trips_p_growth_2_to_1: double, trips_p_growth_3_to_2: double, trips_p_growth_4_to_3: double, trips_d_growth_1_to_0: double, trips_d_growth_2_to_1: double, trips_d_growth_3_to_2: double, trips_d_growth_4_to_3: double, velocity_p_growth_1_to_0: double, velocity_p_growth_2_to_1: double, velocity_p_growth_3_to_2: double, velocity_p_growth_4_to_3: double, velocity_d_growth_1_to_0: double, velocity_d_growth_2_to_1: double, velocity_d_growth_3_to_2: double, velocity_d_growth_4_to_3: double]"
      ]
     },
     "execution_count": 20,
     "metadata": {},
     "output_type": "execute_result"
    }
   ],
   "source": [
    "agg_hour.cache()"
   ]
  },
  {
   "cell_type": "code",
   "execution_count": null,
   "id": "ade35b3b-acac-452e-ac1c-82be92d46759",
   "metadata": {},
   "outputs": [],
   "source": [
    "agg_null = agg_hour.select([f.count(f.when(f.col(c).isNull(), c)).alias(c) for c in agg_hour.columns]).toPandas()"
   ]
  },
  {
   "cell_type": "code",
   "execution_count": null,
   "id": "eb0aa96f-4e05-4dab-83ea-23dabb49fab0",
   "metadata": {},
   "outputs": [],
   "source": [
    "agg_null = agg_null.transpose()"
   ]
  },
  {
   "cell_type": "code",
   "execution_count": null,
   "id": "62603269-3dbf-45c6-a9ec-7ec4934cf033",
   "metadata": {},
   "outputs": [],
   "source": [
    "agg_null[agg_null.iloc[:, 0] > 0]"
   ]
  },
  {
   "cell_type": "markdown",
   "id": "2c4d86d4-b319-4e9b-98be-d2fce3c592b9",
   "metadata": {},
   "source": [
    "## Посчитаем корреляции полей"
   ]
  },
  {
   "cell_type": "code",
   "execution_count": 21,
   "id": "ed8e8d8e-9864-482a-b8a5-c1405b0b8873",
   "metadata": {},
   "outputs": [],
   "source": [
    "# Список уникальных значений для пар (ct, ca)\n",
    "ct_ca_pairs = agg_hour.select('ct', 'ca').distinct().collect()\n",
    "\n",
    "# Порог корреляции\n",
    "cutoff = 0.7"
   ]
  },
  {
   "attachments": {},
   "cell_type": "markdown",
   "id": "4809885a-4759-4782-a4d6-6ecf57e3a4fc",
   "metadata": {},
   "source": [
    "Таблица корреляций для некоторых полей\n",
    "```yaml\n",
    "| Col1    | Col2      | Count | Min_Corr | Max_Corr | Avg_Corr | Med_Corr |\n",
    "|---------|-----------|-------|----------|----------|----------|----------|\n",
    "| time_p  | miles_p   | 103   | 0.689070 | 0.967461 | 0.876605 | 0.883296 |\n",
    "| farem_p | totalm_p  | 103   | 0.606440 | 1.000000 | 0.971094 | 0.996950 |\n",
    "| farem_d | totalm_d  | 102   | 0.715006 | 0.999999 | 0.981714 | 0.994526 |\n",
    "| trips_d | time_d    | 102   | 0.671350 | 0.959094 | 0.895431 | 0.909391 |\n",
    "| time_d  | miles_d   | 102   | 0.779297 | 0.959402 | 0.887248 | 0.885809 |\n",
    "| trips_d | miles_d   | 101   | 0.673688 | 0.983662 | 0.841031 | 0.851237 |\n",
    "```\n",
    "Эти поля пары высококоррелированы почти во всех районах. Сформируем поля для исключения. Поле `trips_p` - целевое, поэтому его также уберем из расчетов корреляции"
   ]
  },
  {
   "cell_type": "code",
   "execution_count": 22,
   "id": "62ef88ff-4041-494c-9cbf-2552d9cbf43e",
   "metadata": {},
   "outputs": [],
   "source": [
    "# drop_col_list = ['trips_p','time_p', 'farem_p', 'farem_d', 'time_d', 'miles_d']\n",
    "drop_col_list = ['trips_p']"
   ]
  },
  {
   "cell_type": "code",
   "execution_count": 36,
   "id": "08abcf3e-92a8-4c08-b2a9-4ab0472b226c",
   "metadata": {},
   "outputs": [],
   "source": [
    "# for pair in tqdm(ct_ca_pairs):\n",
    "        \n",
    "#     ct_value = pair['ct']\n",
    "#     ca_value = pair['ca']\n",
    "    \n",
    "#     # print(pair)\n",
    "#     drop_cols = drop_col_list.copy()  # Создаем копию списка исключаемых полей\n",
    "#     if excluded_fields and (ct_value, ca_value) in excluded_fields:\n",
    "#         drop_cols.extend(excluded_fields[(ct_value, ca_value)])\n",
    "#         print(drop_cols)"
   ]
  },
  {
   "cell_type": "code",
   "execution_count": 38,
   "id": "6c099238-4d6c-4720-a255-1684d49307f9",
   "metadata": {
    "scrolled": true
   },
   "outputs": [],
   "source": [
    "def get_correlations(agg_hour, cutoff, drop_col_list, excluded_cols=None):\n",
    "    # Список уникальных значений для пар (ct, ca)\n",
    "    ct_ca_pairs = agg_hour.select('ct', 'ca').distinct().collect()\n",
    "\n",
    "    # Словарь для хранения результатов\n",
    "    correlation_results = {}\n",
    "    \n",
    "    # Цикл по парам (ct, ca)\n",
    "    for pair in tqdm(ct_ca_pairs):\n",
    "        \n",
    "        ct_value = pair['ct']\n",
    "        ca_value = pair['ca']\n",
    "        \n",
    "        print(pair)\n",
    "        drop_cols = drop_col_list.copy()  # Создаем копию списка исключаемых полей\n",
    "        if excluded_cols and (ct_value, ca_value) in excluded_cols:\n",
    "            drop_cols.extend(excluded_cols[(ct_value, ca_value)])\n",
    "        \n",
    "        \n",
    "        # Фильтрация данных для текущей пары (ct, ca)\n",
    "        filtered_data = random_sample_dataframe(\n",
    "            agg_hour.filter((agg_hour.ct == ct_value) & (agg_hour.ca == ca_value)),0.02)\n",
    "        filtered_data.count()\n",
    "        filtered_data.cache()\n",
    "        \n",
    "        # Вычисление матрицы корреляции для числовых столбцов\n",
    "        correlation_matrix = {}\n",
    "        \n",
    "        # Перебираем все числовые столбцы\n",
    "        numeric_cols = [col for col in filtered_data.columns \\\n",
    "                if filtered_data.schema[col].dataType in {IntegerType(), DoubleType()} \\\n",
    "                and col not in drop_cols]\n",
    "        \n",
    "        # Перебор комбинаций столбцов с учетом порядка\n",
    "        for i in tqdm(range(len(numeric_cols))):\n",
    "            for j in range(i + 1, len(numeric_cols)):\n",
    "                col1 = numeric_cols[i]\n",
    "                col2 = numeric_cols[j]\n",
    "                \n",
    "                correlation = filtered_data.corr(col1, col2)\n",
    "                if abs(correlation) > cutoff:\n",
    "                    correlation_matrix[f\"{col1}_{col2}\"] = correlation\n",
    "                    print(f\"{col1}_{col2}\",correlation)\n",
    "        \n",
    "        # Добавляем в словарь результатов для текущей пары (ct, ca)\n",
    "        correlation_results[f\"({ct_value}, {ca_value})\"] = correlation_matrix\n",
    "        \n",
    "        # Добавляем в словарь результатов для текущей пары (ct, ca)\n",
    "        correlation_results[f\"({ct_value}, {ca_value})\"] = correlation_matrix\n",
    "    return correlation_results"
   ]
  },
  {
   "cell_type": "code",
   "execution_count": 39,
   "id": "f382bf9e-c421-45ed-b584-bf68a86390d4",
   "metadata": {
    "scrolled": true
   },
   "outputs": [
    {
     "name": "stderr",
     "output_type": "stream",
     "text": [
      "  0%|          | 0/103 [00:00<?, ?it/s]"
     ]
    },
    {
     "name": "stdout",
     "output_type": "stream",
     "text": [
      "Row(ct=17031090200, ca=6)\n"
     ]
    },
    {
     "name": "stderr",
     "output_type": "stream",
     "text": [
      "\n",
      "  0%|          | 0/31 [00:00<?, ?it/s]\u001b[A\n",
      "  3%|▎         | 1/31 [00:18<09:23, 18.78s/it]\u001b[A\n",
      "  6%|▋         | 2/31 [00:29<06:55, 14.32s/it]\u001b[A\n",
      " 10%|▉         | 3/31 [00:38<05:30, 11.80s/it]\u001b[A"
     ]
    },
    {
     "name": "stdout",
     "output_type": "stream",
     "text": [
      "extrasm_p_totalm_p 0.78510067734702\n"
     ]
    },
    {
     "name": "stderr",
     "output_type": "stream",
     "text": [
      "\n",
      " 13%|█▎        | 4/31 [00:44<04:15,  9.48s/it]\u001b[A\n",
      " 16%|█▌        | 5/31 [00:51<03:39,  8.44s/it]\u001b[A\n",
      " 19%|█▉        | 6/31 [00:57<03:08,  7.56s/it]\u001b[A"
     ]
    },
    {
     "name": "stdout",
     "output_type": "stream",
     "text": [
      "comp5_p_compless5_p 0.6552660396559367\n"
     ]
    },
    {
     "name": "stderr",
     "output_type": "stream",
     "text": [
      "\n",
      " 23%|██▎       | 7/31 [01:02<02:42,  6.76s/it]\u001b[A\n",
      " 26%|██▌       | 8/31 [01:06<02:19,  6.05s/it]\u001b[A\n",
      " 29%|██▉       | 9/31 [01:10<01:58,  5.40s/it]\u001b[A\n",
      " 32%|███▏      | 10/31 [01:13<01:39,  4.72s/it]\u001b[A\n",
      " 35%|███▌      | 11/31 [01:17<01:28,  4.42s/it]\u001b[A\n",
      " 39%|███▊      | 12/31 [01:20<01:15,  3.96s/it]\u001b[A\n",
      " 42%|████▏     | 13/31 [01:23<01:05,  3.65s/it]\u001b[A\n",
      " 45%|████▌     | 14/31 [01:26<00:59,  3.49s/it]\u001b[A\n",
      " 48%|████▊     | 15/31 [01:29<00:52,  3.25s/it]\u001b[A\n",
      " 52%|█████▏    | 16/31 [01:31<00:43,  2.87s/it]\u001b[A\n",
      " 55%|█████▍    | 17/31 [01:33<00:36,  2.60s/it]\u001b[A\n",
      " 58%|█████▊    | 18/31 [01:35<00:33,  2.57s/it]\u001b[A\n",
      " 61%|██████▏   | 19/31 [01:37<00:29,  2.43s/it]\u001b[A\n",
      " 65%|██████▍   | 20/31 [01:40<00:26,  2.37s/it]\u001b[A\n",
      " 68%|██████▊   | 21/31 [01:42<00:22,  2.25s/it]\u001b[A\n",
      " 71%|███████   | 22/31 [01:43<00:17,  1.96s/it]\u001b[A\n",
      " 74%|███████▍  | 23/31 [01:44<00:13,  1.67s/it]\u001b[A\n",
      " 77%|███████▋  | 24/31 [01:45<00:10,  1.51s/it]\u001b[A\n",
      " 81%|████████  | 25/31 [01:46<00:08,  1.35s/it]\u001b[A\n",
      " 84%|████████▍ | 26/31 [01:47<00:06,  1.21s/it]\u001b[A\n",
      " 87%|████████▋ | 27/31 [01:48<00:04,  1.18s/it]\u001b[A\n",
      " 90%|█████████ | 28/31 [01:49<00:03,  1.02s/it]\u001b[A\n",
      " 94%|█████████▎| 29/31 [01:49<00:01,  1.16it/s]\u001b[A\n",
      "100%|██████████| 31/31 [01:49<00:00,  3.54s/it]\u001b[A\n",
      "  1%|          | 1/103 [01:52<3:11:19, 112.54s/it]"
     ]
    },
    {
     "name": "stdout",
     "output_type": "stream",
     "text": [
      "Row(ct=17031110200, ca=15)\n"
     ]
    },
    {
     "name": "stderr",
     "output_type": "stream",
     "text": [
      "\n",
      "  0%|          | 0/40 [00:00<?, ?it/s]\u001b[A\n",
      "  2%|▎         | 1/40 [00:07<04:34,  7.04s/it]\u001b[A\n",
      "  5%|▌         | 2/40 [00:12<04:00,  6.32s/it]\u001b[A\n",
      "  8%|▊         | 3/40 [00:18<03:48,  6.18s/it]\u001b[A\n",
      " 10%|█         | 4/40 [00:24<03:30,  5.85s/it]\u001b[A"
     ]
    },
    {
     "name": "stdout",
     "output_type": "stream",
     "text": [
      "extrasm_p_totalm_p 0.9005027039469883\n",
      "extrasm_p_comp3_d 0.6950053237319971\n"
     ]
    },
    {
     "name": "stderr",
     "output_type": "stream",
     "text": [
      "\n",
      " 12%|█▎        | 5/40 [00:29<03:15,  5.58s/it]\u001b[A\n",
      " 15%|█▌        | 6/40 [00:34<03:08,  5.56s/it]\u001b[A\n",
      " 18%|█▊        | 7/40 [00:39<02:54,  5.28s/it]\u001b[A\n",
      " 20%|██        | 8/40 [00:44<02:43,  5.10s/it]\u001b[A\n",
      " 22%|██▎       | 9/40 [00:48<02:30,  4.85s/it]\u001b[A\n",
      " 25%|██▌       | 10/40 [00:52<02:16,  4.55s/it]\u001b[A\n",
      " 28%|██▊       | 11/40 [00:56<02:07,  4.40s/it]\u001b[A\n",
      " 30%|███       | 12/40 [01:00<01:57,  4.21s/it]\u001b[A\n",
      " 32%|███▎      | 13/40 [01:04<01:51,  4.12s/it]\u001b[A\n",
      " 35%|███▌      | 14/40 [01:07<01:43,  3.99s/it]\u001b[A\n",
      " 38%|███▊      | 15/40 [01:10<01:32,  3.71s/it]\u001b[A\n",
      " 40%|████      | 16/40 [01:13<01:24,  3.51s/it]\u001b[A\n",
      " 42%|████▎     | 17/40 [01:16<01:17,  3.35s/it]\u001b[A\n",
      " 45%|████▌     | 18/40 [01:20<01:11,  3.26s/it]\u001b[A\n",
      " 48%|████▊     | 19/40 [01:23<01:09,  3.32s/it]\u001b[A\n",
      " 50%|█████     | 20/40 [01:26<01:03,  3.17s/it]\u001b[A\n",
      " 52%|█████▎    | 21/40 [01:29<00:59,  3.12s/it]\u001b[A\n",
      " 55%|█████▌    | 22/40 [01:31<00:53,  2.95s/it]\u001b[A\n",
      " 57%|█████▊    | 23/40 [01:33<00:45,  2.67s/it]\u001b[A\n",
      " 60%|██████    | 24/40 [01:36<00:41,  2.61s/it]\u001b[A\n",
      " 62%|██████▎   | 25/40 [01:38<00:36,  2.45s/it]\u001b[A\n",
      " 65%|██████▌   | 26/40 [01:40<00:31,  2.28s/it]\u001b[A\n",
      " 68%|██████▊   | 27/40 [01:41<00:27,  2.10s/it]\u001b[A\n",
      " 70%|███████   | 28/40 [01:43<00:22,  1.86s/it]\u001b[A\n",
      " 72%|███████▎  | 29/40 [01:45<00:20,  1.87s/it]\u001b[A\n",
      " 75%|███████▌  | 30/40 [01:46<00:17,  1.78s/it]\u001b[A\n",
      " 78%|███████▊  | 31/40 [01:47<00:14,  1.59s/it]\u001b[A\n",
      " 80%|████████  | 32/40 [01:49<00:11,  1.47s/it]\u001b[A\n",
      " 82%|████████▎ | 33/40 [01:49<00:08,  1.24s/it]\u001b[A\n",
      " 85%|████████▌ | 34/40 [01:50<00:06,  1.11s/it]\u001b[A\n",
      " 88%|████████▊ | 35/40 [01:51<00:04,  1.06it/s]\u001b[A\n",
      " 90%|█████████ | 36/40 [01:51<00:03,  1.24it/s]\u001b[A\n",
      " 92%|█████████▎| 37/40 [01:52<00:02,  1.46it/s]\u001b[A\n",
      " 95%|█████████▌| 38/40 [01:52<00:01,  1.67it/s]\u001b[A\n",
      "100%|██████████| 40/40 [01:52<00:00,  2.81s/it]\u001b[A\n",
      "  2%|▏         | 2/103 [03:46<3:10:29, 113.16s/it]"
     ]
    },
    {
     "name": "stdout",
     "output_type": "stream",
     "text": [
      "Row(ct=17031770700, ca=90)\n"
     ]
    },
    {
     "name": "stderr",
     "output_type": "stream",
     "text": [
      "\n",
      "  0%|          | 0/33 [00:00<?, ?it/s]\u001b[A\n",
      "  3%|▎         | 1/33 [00:04<02:32,  4.77s/it]\u001b[A\n",
      "  6%|▌         | 2/33 [00:08<02:15,  4.38s/it]\u001b[A\n",
      "  9%|▉         | 3/33 [00:14<02:31,  5.04s/it]\u001b[A\n",
      " 12%|█▏        | 4/33 [00:19<02:19,  4.79s/it]\u001b[A\n",
      " 15%|█▌        | 5/33 [00:23<02:06,  4.50s/it]\u001b[A\n",
      " 18%|█▊        | 6/33 [00:26<01:49,  4.05s/it]\u001b[A\n",
      " 21%|██        | 7/33 [00:29<01:36,  3.72s/it]\u001b[A\n",
      " 24%|██▍       | 8/33 [00:32<01:27,  3.51s/it]\u001b[A\n",
      " 27%|██▋       | 9/33 [00:35<01:19,  3.33s/it]\u001b[A\n",
      " 30%|███       | 10/33 [00:37<01:10,  3.06s/it]\u001b[A\n",
      " 33%|███▎      | 11/33 [00:40<01:03,  2.89s/it]\u001b[A\n",
      " 36%|███▋      | 12/33 [00:42<00:57,  2.75s/it]\u001b[A\n",
      " 39%|███▉      | 13/33 [00:45<00:52,  2.63s/it]\u001b[A\n",
      " 42%|████▏     | 14/33 [00:47<00:47,  2.52s/it]\u001b[A\n",
      " 45%|████▌     | 15/33 [00:49<00:41,  2.32s/it]\u001b[A\n",
      " 48%|████▊     | 16/33 [00:51<00:37,  2.19s/it]\u001b[A\n",
      " 52%|█████▏    | 17/33 [00:53<00:34,  2.15s/it]\u001b[A\n",
      " 55%|█████▍    | 18/33 [00:54<00:30,  2.01s/it]\u001b[A\n",
      " 58%|█████▊    | 19/33 [00:56<00:26,  1.86s/it]\u001b[A\n",
      " 61%|██████    | 20/33 [00:57<00:22,  1.72s/it]\u001b[A\n",
      " 64%|██████▎   | 21/33 [00:59<00:19,  1.61s/it]\u001b[A\n",
      " 67%|██████▋   | 22/33 [01:00<00:16,  1.46s/it]\u001b[A\n",
      " 70%|██████▉   | 23/33 [01:01<00:13,  1.40s/it]\u001b[A\n",
      " 73%|███████▎  | 24/33 [01:02<00:11,  1.29s/it]\u001b[A\n",
      " 76%|███████▌  | 25/33 [01:03<00:09,  1.15s/it]\u001b[A\n",
      " 79%|███████▉  | 26/33 [01:04<00:07,  1.06s/it]\u001b[A\n",
      " 82%|████████▏ | 27/33 [01:04<00:05,  1.04it/s]\u001b[A\n",
      " 85%|████████▍ | 28/33 [01:05<00:04,  1.19it/s]\u001b[A\n",
      " 88%|████████▊ | 29/33 [01:06<00:03,  1.30it/s]\u001b[A\n",
      " 91%|█████████ | 30/33 [01:06<00:01,  1.62it/s]\u001b[A\n",
      "100%|██████████| 33/33 [01:06<00:00,  2.02s/it]\u001b[A\n",
      "  3%|▎         | 3/103 [04:53<2:33:37, 92.18s/it] "
     ]
    },
    {
     "name": "stdout",
     "output_type": "stream",
     "text": [
      "Row(ct=12000000016, ca=56)\n"
     ]
    },
    {
     "name": "stderr",
     "output_type": "stream",
     "text": [
      "\n",
      "  0%|          | 0/41 [00:00<?, ?it/s]\u001b[A\n",
      "  2%|▏         | 1/41 [00:05<03:45,  5.63s/it]\u001b[A\n",
      "  5%|▍         | 2/41 [00:10<03:14,  5.00s/it]\u001b[A"
     ]
    },
    {
     "name": "stdout",
     "output_type": "stream",
     "text": [
      "tipsm_p_totalm_p 0.927431753102971\n"
     ]
    },
    {
     "name": "stderr",
     "output_type": "stream",
     "text": [
      "\n",
      "  7%|▋         | 3/41 [00:14<02:59,  4.74s/it]\u001b[A\n",
      " 10%|▉         | 4/41 [00:18<02:49,  4.57s/it]\u001b[A"
     ]
    },
    {
     "name": "stdout",
     "output_type": "stream",
     "text": [
      "extrasm_p_velocity_p_growth_4_to_3 -0.7984854192076491\n"
     ]
    },
    {
     "name": "stderr",
     "output_type": "stream",
     "text": [
      "\n",
      " 12%|█▏        | 5/41 [00:22<02:34,  4.28s/it]\u001b[A\n",
      " 15%|█▍        | 6/41 [00:26<02:27,  4.21s/it]\u001b[A\n",
      " 17%|█▋        | 7/41 [00:30<02:19,  4.10s/it]\u001b[A\n",
      " 20%|█▉        | 8/41 [00:34<02:08,  3.90s/it]\u001b[A\n",
      " 22%|██▏       | 9/41 [00:37<02:03,  3.86s/it]\u001b[A\n",
      " 24%|██▍       | 10/41 [00:42<02:02,  3.97s/it]\u001b[A\n",
      " 27%|██▋       | 11/41 [00:45<01:56,  3.89s/it]\u001b[A\n",
      " 29%|██▉       | 12/41 [00:49<01:49,  3.77s/it]\u001b[A\n",
      " 32%|███▏      | 13/41 [00:52<01:39,  3.56s/it]\u001b[A\n",
      " 34%|███▍      | 14/41 [00:55<01:33,  3.46s/it]\u001b[A"
     ]
    },
    {
     "name": "stdout",
     "output_type": "stream",
     "text": [
      "tipsm_d_totalm_d 0.9703754061959976\n"
     ]
    },
    {
     "name": "stderr",
     "output_type": "stream",
     "text": [
      "\n",
      " 37%|███▋      | 15/41 [00:58<01:25,  3.31s/it]\u001b[A\n",
      " 39%|███▉      | 16/41 [01:01<01:18,  3.14s/it]\u001b[A\n",
      " 41%|████▏     | 17/41 [01:03<01:10,  2.92s/it]\u001b[A\n",
      " 44%|████▍     | 18/41 [01:06<01:06,  2.89s/it]\u001b[A\n",
      " 46%|████▋     | 19/41 [01:09<01:01,  2.80s/it]\u001b[A\n",
      " 49%|████▉     | 20/41 [01:11<00:55,  2.65s/it]\u001b[A\n",
      " 51%|█████     | 21/41 [01:13<00:51,  2.56s/it]\u001b[A\n",
      " 54%|█████▎    | 22/41 [01:16<00:46,  2.46s/it]\u001b[A\n",
      " 56%|█████▌    | 23/41 [01:18<00:42,  2.37s/it]\u001b[A\n",
      " 59%|█████▊    | 24/41 [01:20<00:40,  2.36s/it]\u001b[A\n",
      " 61%|██████    | 25/41 [01:22<00:34,  2.18s/it]\u001b[A\n",
      " 63%|██████▎   | 26/41 [01:24<00:31,  2.11s/it]\u001b[A\n",
      " 66%|██████▌   | 27/41 [01:25<00:28,  2.00s/it]\u001b[A\n",
      " 68%|██████▊   | 28/41 [01:27<00:24,  1.90s/it]\u001b[A\n",
      " 71%|███████   | 29/41 [01:28<00:20,  1.72s/it]\u001b[A\n",
      " 73%|███████▎  | 30/41 [01:30<00:17,  1.58s/it]\u001b[A\n",
      " 76%|███████▌  | 31/41 [01:31<00:14,  1.43s/it]\u001b[A\n",
      " 78%|███████▊  | 32/41 [01:32<00:11,  1.33s/it]\u001b[A\n",
      " 80%|████████  | 33/41 [01:33<00:09,  1.21s/it]\u001b[A\n",
      " 83%|████████▎ | 34/41 [01:34<00:07,  1.12s/it]\u001b[A\n",
      " 85%|████████▌ | 35/41 [01:34<00:06,  1.00s/it]\u001b[A\n",
      " 88%|████████▊ | 36/41 [01:35<00:04,  1.16it/s]\u001b[A\n",
      " 90%|█████████ | 37/41 [01:35<00:02,  1.37it/s]\u001b[A\n",
      " 93%|█████████▎| 38/41 [01:36<00:01,  1.64it/s]\u001b[A\n",
      " 95%|█████████▌| 39/41 [01:36<00:01,  1.94it/s]\u001b[A\n",
      "100%|██████████| 41/41 [01:36<00:00,  2.36s/it]\u001b[A\n",
      "  4%|▍         | 4/103 [06:30<2:35:19, 94.13s/it]"
     ]
    },
    {
     "name": "stdout",
     "output_type": "stream",
     "text": [
      "Row(ct=17031400400, ca=51)\n"
     ]
    },
    {
     "name": "stderr",
     "output_type": "stream",
     "text": [
      "\n",
      "  0%|          | 0/40 [00:00<?, ?it/s]\u001b[A\n",
      "  2%|▎         | 1/40 [00:05<03:32,  5.45s/it]\u001b[A\n",
      "  5%|▌         | 2/40 [00:10<03:09,  4.98s/it]\u001b[A\n",
      "  8%|▊         | 3/40 [00:14<02:59,  4.84s/it]\u001b[A\n",
      " 10%|█         | 4/40 [00:18<02:44,  4.58s/it]\u001b[A\n",
      " 12%|█▎        | 5/40 [00:23<02:34,  4.41s/it]\u001b[A\n",
      " 15%|█▌        | 6/40 [00:26<02:23,  4.21s/it]\u001b[A\n",
      " 18%|█▊        | 7/40 [00:30<02:17,  4.15s/it]\u001b[A\n",
      " 20%|██        | 8/40 [00:34<02:08,  4.02s/it]\u001b[A\n",
      " 22%|██▎       | 9/40 [00:38<01:58,  3.82s/it]\u001b[A\n",
      " 25%|██▌       | 10/40 [00:41<01:50,  3.68s/it]\u001b[A"
     ]
    },
    {
     "name": "stdout",
     "output_type": "stream",
     "text": [
      "comp5_p_comp5_d 0.7057413604625009\n"
     ]
    },
    {
     "name": "stderr",
     "output_type": "stream",
     "text": [
      "\n",
      " 28%|██▊       | 11/40 [00:44<01:40,  3.48s/it]\u001b[A\n",
      " 30%|███       | 12/40 [00:47<01:35,  3.41s/it]\u001b[A\n",
      " 32%|███▎      | 13/40 [00:50<01:27,  3.24s/it]\u001b[A\n",
      " 35%|███▌      | 14/40 [00:53<01:19,  3.07s/it]\u001b[A\n",
      " 38%|███▊      | 15/40 [00:55<01:12,  2.92s/it]\u001b[A\n",
      " 40%|████      | 16/40 [00:58<01:09,  2.90s/it]\u001b[A\n",
      " 42%|████▎     | 17/40 [01:01<01:03,  2.78s/it]\u001b[A\n",
      " 45%|████▌     | 18/40 [01:03<00:57,  2.61s/it]\u001b[A\n",
      " 48%|████▊     | 19/40 [01:05<00:52,  2.50s/it]\u001b[A\n",
      " 50%|█████     | 20/40 [01:07<00:48,  2.41s/it]\u001b[A\n",
      " 52%|█████▎    | 21/40 [01:10<00:47,  2.48s/it]\u001b[A\n",
      " 55%|█████▌    | 22/40 [01:12<00:41,  2.32s/it]\u001b[A\n",
      " 57%|█████▊    | 23/40 [01:14<00:36,  2.14s/it]\u001b[A\n",
      " 60%|██████    | 24/40 [01:15<00:32,  2.04s/it]\u001b[A\n",
      " 62%|██████▎   | 25/40 [01:18<00:31,  2.09s/it]\u001b[A\n",
      " 65%|██████▌   | 26/40 [01:19<00:26,  1.91s/it]\u001b[A\n",
      " 68%|██████▊   | 27/40 [01:21<00:22,  1.76s/it]\u001b[A\n",
      " 70%|███████   | 28/40 [01:22<00:18,  1.56s/it]\u001b[A\n",
      " 72%|███████▎  | 29/40 [01:23<00:17,  1.57s/it]\u001b[A\n",
      " 75%|███████▌  | 30/40 [01:24<00:14,  1.43s/it]\u001b[A\n",
      " 78%|███████▊  | 31/40 [01:25<00:11,  1.29s/it]\u001b[A\n",
      " 80%|████████  | 32/40 [01:26<00:09,  1.14s/it]\u001b[A\n",
      " 82%|████████▎ | 33/40 [01:27<00:07,  1.05s/it]\u001b[A\n",
      " 85%|████████▌ | 34/40 [01:28<00:05,  1.01it/s]\u001b[A\n",
      " 88%|████████▊ | 35/40 [01:28<00:04,  1.08it/s]\u001b[A\n",
      " 90%|█████████ | 36/40 [01:29<00:03,  1.18it/s]\u001b[A\n",
      " 92%|█████████▎| 37/40 [01:30<00:02,  1.41it/s]\u001b[A\n",
      " 95%|█████████▌| 38/40 [01:30<00:01,  1.71it/s]\u001b[A\n",
      "100%|██████████| 40/40 [01:30<00:00,  2.26s/it]\u001b[A\n",
      "  5%|▍         | 5/103 [08:01<2:32:03, 93.10s/it]"
     ]
    },
    {
     "name": "stdout",
     "output_type": "stream",
     "text": [
      "Row(ct=17031081202, ca=8)\n"
     ]
    },
    {
     "name": "stderr",
     "output_type": "stream",
     "text": [
      "\n",
      "  0%|          | 0/36 [00:00<?, ?it/s]\u001b[A\n",
      "  3%|▎         | 1/36 [00:07<04:28,  7.67s/it]\u001b[A\n",
      "  6%|▌         | 2/36 [00:13<03:36,  6.38s/it]\u001b[A\n",
      "  8%|▊         | 3/36 [00:17<02:53,  5.25s/it]\u001b[A\n",
      " 11%|█         | 4/36 [00:20<02:27,  4.62s/it]\u001b[A"
     ]
    },
    {
     "name": "stdout",
     "output_type": "stream",
     "text": [
      "totalm_p_velocity_p_growth_4_to_3 -0.7059346060878298\n"
     ]
    },
    {
     "name": "stderr",
     "output_type": "stream",
     "text": [
      "\n",
      " 14%|█▍        | 5/36 [00:24<02:08,  4.16s/it]\u001b[A\n",
      " 17%|█▋        | 6/36 [00:27<01:57,  3.92s/it]\u001b[A\n",
      " 19%|█▉        | 7/36 [00:30<01:49,  3.77s/it]\u001b[A\n",
      " 22%|██▏       | 8/36 [00:34<01:47,  3.82s/it]\u001b[A\n",
      " 25%|██▌       | 9/36 [00:42<02:16,  5.07s/it]\u001b[A\n",
      " 28%|██▊       | 10/36 [00:45<01:53,  4.36s/it]\u001b[A\n",
      " 31%|███       | 11/36 [00:48<01:36,  3.87s/it]\u001b[A\n",
      " 33%|███▎      | 12/36 [00:50<01:23,  3.49s/it]\u001b[A\n",
      " 36%|███▌      | 13/36 [00:53<01:16,  3.32s/it]\u001b[A\n",
      " 39%|███▉      | 14/36 [00:56<01:07,  3.08s/it]\u001b[A\n",
      " 42%|████▏     | 15/36 [00:58<00:58,  2.80s/it]\u001b[A\n",
      " 44%|████▍     | 16/36 [01:00<00:53,  2.66s/it]\u001b[A\n",
      " 47%|████▋     | 17/36 [01:03<00:52,  2.74s/it]\u001b[A\n",
      " 50%|█████     | 18/36 [01:05<00:45,  2.50s/it]\u001b[A\n",
      " 53%|█████▎    | 19/36 [01:07<00:40,  2.37s/it]\u001b[A\n",
      " 56%|█████▌    | 20/36 [01:09<00:36,  2.27s/it]\u001b[A\n",
      " 58%|█████▊    | 21/36 [01:11<00:32,  2.19s/it]\u001b[A\n",
      " 61%|██████    | 22/36 [01:13<00:28,  2.02s/it]\u001b[A\n",
      " 64%|██████▍   | 23/36 [01:15<00:24,  1.91s/it]\u001b[A\n",
      " 67%|██████▋   | 24/36 [01:16<00:20,  1.71s/it]\u001b[A\n",
      " 69%|██████▉   | 25/36 [01:17<00:16,  1.51s/it]\u001b[A\n",
      " 72%|███████▏  | 26/36 [01:18<00:13,  1.37s/it]\u001b[A\n",
      " 75%|███████▌  | 27/36 [01:19<00:11,  1.31s/it]\u001b[A"
     ]
    },
    {
     "name": "stdout",
     "output_type": "stream",
     "text": [
      "trips_d_growth_3_to_2_velocity_d_growth_3_to_2 0.7113369957717024\n"
     ]
    },
    {
     "name": "stderr",
     "output_type": "stream",
     "text": [
      "\n",
      " 78%|███████▊  | 28/36 [01:20<00:09,  1.16s/it]\u001b[A\n",
      " 81%|████████  | 29/36 [01:21<00:07,  1.08s/it]\u001b[A\n",
      " 83%|████████▎ | 30/36 [01:22<00:05,  1.01it/s]\u001b[A\n",
      " 86%|████████▌ | 31/36 [01:22<00:04,  1.17it/s]\u001b[A\n",
      " 89%|████████▉ | 32/36 [01:23<00:02,  1.35it/s]\u001b[A\n",
      " 92%|█████████▏| 33/36 [01:23<00:01,  1.63it/s]\u001b[A\n",
      " 94%|█████████▍| 34/36 [01:23<00:01,  1.91it/s]\u001b[A\n",
      "100%|██████████| 36/36 [01:23<00:00,  2.33s/it]\u001b[A\n",
      "  6%|▌         | 6/103 [09:26<2:25:41, 90.12s/it]"
     ]
    },
    {
     "name": "stdout",
     "output_type": "stream",
     "text": [
      "Row(ct=17031081800, ca=8)\n"
     ]
    },
    {
     "name": "stderr",
     "output_type": "stream",
     "text": [
      "\n",
      "  0%|          | 0/38 [00:00<?, ?it/s]\u001b[A\n",
      "  3%|▎         | 1/38 [00:04<02:36,  4.24s/it]\u001b[A"
     ]
    },
    {
     "name": "stdout",
     "output_type": "stream",
     "text": [
      "miles_p_velocity_p 0.6956614182749309\n"
     ]
    },
    {
     "name": "stderr",
     "output_type": "stream",
     "text": [
      "\n",
      "  5%|▌         | 2/38 [00:08<02:32,  4.22s/it]\u001b[A\n",
      "  8%|▊         | 3/38 [00:12<02:22,  4.08s/it]\u001b[A"
     ]
    },
    {
     "name": "stdout",
     "output_type": "stream",
     "text": [
      "tipsm_p_totalm_p 0.9669315875322075\n",
      "tipsm_p_velocity_p_growth_2_to_1 -0.9988431308966312\n"
     ]
    },
    {
     "name": "stderr",
     "output_type": "stream",
     "text": [
      "\n",
      " 11%|█         | 4/38 [00:16<02:14,  3.95s/it]\u001b[A\n",
      " 13%|█▎        | 5/38 [00:20<02:10,  3.95s/it]\u001b[A\n",
      " 16%|█▌        | 6/38 [00:23<01:58,  3.69s/it]\u001b[A"
     ]
    },
    {
     "name": "stdout",
     "output_type": "stream",
     "text": [
      "totalm_p_velocity_p_growth_2_to_1 -0.9660709189739523\n"
     ]
    },
    {
     "name": "stderr",
     "output_type": "stream",
     "text": [
      "\n",
      " 18%|█▊        | 7/38 [00:26<01:52,  3.64s/it]\u001b[A\n",
      " 21%|██        | 8/38 [00:30<01:49,  3.64s/it]\u001b[A\n",
      " 24%|██▎       | 9/38 [00:33<01:44,  3.59s/it]\u001b[A\n",
      " 26%|██▋       | 10/38 [00:37<01:39,  3.56s/it]\u001b[A\n",
      " 29%|██▉       | 11/38 [00:40<01:35,  3.55s/it]\u001b[A\n",
      " 32%|███▏      | 12/38 [00:43<01:27,  3.38s/it]\u001b[A\n",
      " 34%|███▍      | 13/38 [00:46<01:21,  3.27s/it]\u001b[A\n",
      " 37%|███▋      | 14/38 [00:49<01:13,  3.06s/it]\u001b[A\n",
      " 39%|███▉      | 15/38 [00:52<01:07,  2.92s/it]\u001b[A\n",
      " 42%|████▏     | 16/38 [00:54<00:58,  2.66s/it]\u001b[A\n",
      " 45%|████▍     | 17/38 [00:56<00:54,  2.58s/it]\u001b[A"
     ]
    },
    {
     "name": "stdout",
     "output_type": "stream",
     "text": [
      "comp3_d_compless5_d 0.6610977684336994\n"
     ]
    },
    {
     "name": "stderr",
     "output_type": "stream",
     "text": [
      "\n",
      " 47%|████▋     | 18/38 [00:58<00:48,  2.44s/it]\u001b[A\n",
      " 50%|█████     | 19/38 [01:00<00:44,  2.33s/it]\u001b[A\n",
      " 53%|█████▎    | 20/38 [01:02<00:38,  2.14s/it]\u001b[A\n",
      " 55%|█████▌    | 21/38 [01:04<00:35,  2.08s/it]\u001b[A\n",
      " 58%|█████▊    | 22/38 [01:05<00:30,  1.92s/it]\u001b[A\n",
      " 61%|██████    | 23/38 [01:07<00:28,  1.91s/it]\u001b[A\n",
      " 63%|██████▎   | 24/38 [01:09<00:24,  1.78s/it]\u001b[A\n",
      " 66%|██████▌   | 25/38 [01:10<00:21,  1.63s/it]\u001b[A\n",
      " 68%|██████▊   | 26/38 [01:11<00:18,  1.51s/it]\u001b[A\n",
      " 71%|███████   | 27/38 [01:12<00:15,  1.39s/it]\u001b[A\n",
      " 74%|███████▎  | 28/38 [01:13<00:12,  1.28s/it]\u001b[A\n",
      " 76%|███████▋  | 29/38 [01:14<00:10,  1.18s/it]\u001b[A\n",
      " 79%|███████▉  | 30/38 [01:15<00:08,  1.11s/it]\u001b[A\n",
      " 82%|████████▏ | 31/38 [01:16<00:07,  1.06s/it]\u001b[A\n",
      " 84%|████████▍ | 32/38 [01:17<00:05,  1.04it/s]\u001b[A\n",
      " 87%|████████▋ | 33/38 [01:18<00:04,  1.18it/s]\u001b[A\n",
      " 89%|████████▉ | 34/38 [01:18<00:02,  1.43it/s]\u001b[A\n",
      " 92%|█████████▏| 35/38 [01:18<00:01,  1.68it/s]\u001b[A\n",
      " 95%|█████████▍| 36/38 [01:19<00:00,  2.01it/s]\u001b[A\n",
      "100%|██████████| 38/38 [01:19<00:00,  2.09s/it]\u001b[A\n",
      "  7%|▋         | 7/103 [10:45<2:18:51, 86.78s/it]"
     ]
    },
    {
     "name": "stdout",
     "output_type": "stream",
     "text": [
      "Row(ct=17031210601, ca=63)\n"
     ]
    },
    {
     "name": "stderr",
     "output_type": "stream",
     "text": [
      "\n",
      "  0%|          | 0/35 [00:00<?, ?it/s]\u001b[A\n",
      "  3%|▎         | 1/35 [00:04<02:22,  4.18s/it]\u001b[A\n",
      "  6%|▌         | 2/35 [00:07<02:05,  3.80s/it]\u001b[A\n",
      "  9%|▊         | 3/35 [00:11<01:56,  3.65s/it]\u001b[A\n",
      " 11%|█▏        | 4/35 [00:14<01:47,  3.46s/it]\u001b[A\n",
      " 14%|█▍        | 5/35 [00:17<01:44,  3.48s/it]\u001b[A\n",
      " 17%|█▋        | 6/35 [00:21<01:38,  3.40s/it]\u001b[A\n",
      " 20%|██        | 7/35 [00:23<01:30,  3.22s/it]\u001b[A\n",
      " 23%|██▎       | 8/35 [00:27<01:27,  3.24s/it]\u001b[A\n",
      " 26%|██▌       | 9/35 [00:30<01:21,  3.14s/it]\u001b[A\n",
      " 29%|██▊       | 10/35 [00:32<01:14,  2.98s/it]\u001b[A\n",
      " 31%|███▏      | 11/35 [00:35<01:08,  2.85s/it]\u001b[A\n",
      " 34%|███▍      | 12/35 [00:37<01:03,  2.77s/it]\u001b[A\n",
      " 37%|███▋      | 13/35 [00:40<01:00,  2.75s/it]\u001b[A\n",
      " 40%|████      | 14/35 [00:42<00:53,  2.53s/it]\u001b[A\n",
      " 43%|████▎     | 15/35 [00:44<00:47,  2.39s/it]\u001b[A\n",
      " 46%|████▌     | 16/35 [00:47<00:46,  2.46s/it]\u001b[A\n",
      " 49%|████▊     | 17/35 [00:49<00:41,  2.32s/it]\u001b[A\n",
      " 51%|█████▏    | 18/35 [00:51<00:37,  2.20s/it]\u001b[A\n",
      " 54%|█████▍    | 19/35 [00:53<00:33,  2.07s/it]\u001b[A\n",
      " 57%|█████▋    | 20/35 [00:54<00:28,  1.90s/it]\u001b[A\n",
      " 60%|██████    | 21/35 [00:56<00:24,  1.78s/it]\u001b[A\n",
      " 63%|██████▎   | 22/35 [00:57<00:22,  1.73s/it]\u001b[A\n",
      " 66%|██████▌   | 23/35 [00:59<00:20,  1.67s/it]\u001b[A"
     ]
    },
    {
     "name": "stdout",
     "output_type": "stream",
     "text": [
      "trips_p_growth_1_to_0_velocity_p_growth_4_to_3 0.9592691263267226\n"
     ]
    },
    {
     "name": "stderr",
     "output_type": "stream",
     "text": [
      "\n",
      " 69%|██████▊   | 24/35 [01:00<00:16,  1.52s/it]\u001b[A\n",
      " 71%|███████▏  | 25/35 [01:01<00:13,  1.36s/it]\u001b[A\n",
      " 74%|███████▍  | 26/35 [01:02<00:11,  1.23s/it]\u001b[A\n",
      " 77%|███████▋  | 27/35 [01:03<00:08,  1.12s/it]\u001b[A\n",
      " 80%|████████  | 28/35 [01:03<00:07,  1.00s/it]\u001b[A\n",
      " 83%|████████▎ | 29/35 [01:04<00:05,  1.07it/s]\u001b[A\n",
      " 86%|████████▌ | 30/35 [01:05<00:04,  1.22it/s]\u001b[A\n",
      " 89%|████████▊ | 31/35 [01:05<00:02,  1.41it/s]\u001b[A\n",
      " 91%|█████████▏| 32/35 [01:05<00:01,  1.68it/s]\u001b[A\n",
      " 94%|█████████▍| 33/35 [01:06<00:00,  2.08it/s]\u001b[A\n",
      "100%|██████████| 35/35 [01:06<00:00,  1.90s/it]\u001b[A\n",
      "  8%|▊         | 8/103 [11:52<2:07:17, 80.40s/it]"
     ]
    },
    {
     "name": "stdout",
     "output_type": "stream",
     "text": [
      "Row(ct=12000000001, ca=53)\n"
     ]
    },
    {
     "name": "stderr",
     "output_type": "stream",
     "text": [
      "\n",
      "  0%|          | 0/41 [00:00<?, ?it/s]\u001b[A\n",
      "  2%|▏         | 1/41 [00:04<03:16,  4.92s/it]\u001b[A\n",
      "  5%|▍         | 2/41 [00:09<03:00,  4.62s/it]\u001b[A\n",
      "  7%|▋         | 3/41 [00:14<03:01,  4.79s/it]\u001b[A\n",
      " 10%|▉         | 4/41 [00:18<02:46,  4.50s/it]\u001b[A\n",
      " 12%|█▏        | 5/41 [00:22<02:36,  4.36s/it]\u001b[A\n",
      " 15%|█▍        | 6/41 [00:26<02:28,  4.23s/it]\u001b[A"
     ]
    },
    {
     "name": "stdout",
     "output_type": "stream",
     "text": [
      "totalm_p_totalm_d 0.8821425267014502\n"
     ]
    },
    {
     "name": "stderr",
     "output_type": "stream",
     "text": [
      "\n",
      " 17%|█▋        | 7/41 [00:30<02:22,  4.19s/it]\u001b[A\n",
      " 20%|█▉        | 8/41 [00:34<02:10,  3.95s/it]\u001b[A\n",
      " 22%|██▏       | 9/41 [00:37<02:01,  3.79s/it]\u001b[A\n",
      " 24%|██▍       | 10/41 [00:40<01:51,  3.59s/it]\u001b[A\n",
      " 27%|██▋       | 11/41 [00:44<01:46,  3.54s/it]\u001b[A\n",
      " 29%|██▉       | 12/41 [00:46<01:37,  3.35s/it]\u001b[A\n",
      " 32%|███▏      | 13/41 [00:50<01:33,  3.33s/it]\u001b[A\n",
      " 34%|███▍      | 14/41 [00:53<01:26,  3.19s/it]\u001b[A\n",
      " 37%|███▋      | 15/41 [00:55<01:18,  3.03s/it]\u001b[A\n",
      " 39%|███▉      | 16/41 [00:58<01:11,  2.87s/it]\u001b[A\n",
      " 41%|████▏     | 17/41 [01:00<01:06,  2.76s/it]\u001b[A\n",
      " 44%|████▍     | 18/41 [01:03<01:02,  2.72s/it]\u001b[A\n",
      " 46%|████▋     | 19/41 [01:05<00:56,  2.56s/it]\u001b[A\n",
      " 49%|████▉     | 20/41 [01:07<00:51,  2.46s/it]\u001b[A\n",
      " 51%|█████     | 21/41 [01:09<00:46,  2.35s/it]\u001b[A\n",
      " 54%|█████▎    | 22/41 [01:12<00:44,  2.34s/it]\u001b[A\n",
      " 56%|█████▌    | 23/41 [01:14<00:40,  2.25s/it]\u001b[A\n",
      " 59%|█████▊    | 24/41 [01:15<00:35,  2.08s/it]\u001b[A\n",
      " 61%|██████    | 25/41 [01:17<00:31,  2.00s/it]\u001b[A\n",
      " 63%|██████▎   | 26/41 [01:19<00:28,  1.91s/it]\u001b[A\n",
      " 66%|██████▌   | 27/41 [01:21<00:25,  1.84s/it]\u001b[A\n",
      " 68%|██████▊   | 28/41 [01:22<00:22,  1.70s/it]\u001b[A\n",
      " 71%|███████   | 29/41 [01:23<00:19,  1.61s/it]\u001b[A\n",
      " 73%|███████▎  | 30/41 [01:25<00:16,  1.47s/it]\u001b[A\n",
      " 76%|███████▌  | 31/41 [01:26<00:13,  1.36s/it]\u001b[A\n",
      " 78%|███████▊  | 32/41 [01:27<00:11,  1.24s/it]\u001b[A\n",
      " 80%|████████  | 33/41 [01:27<00:08,  1.12s/it]\u001b[A\n",
      " 83%|████████▎ | 34/41 [01:28<00:07,  1.00s/it]\u001b[A\n",
      " 85%|████████▌ | 35/41 [01:29<00:05,  1.14it/s]\u001b[A"
     ]
    },
    {
     "name": "stdout",
     "output_type": "stream",
     "text": [
      "velocity_p_growth_3_to_2_velocity_d_growth_1_to_0 0.9543421352579073\n"
     ]
    },
    {
     "name": "stderr",
     "output_type": "stream",
     "text": [
      "\n",
      " 88%|████████▊ | 36/41 [01:29<00:03,  1.28it/s]\u001b[A\n",
      " 90%|█████████ | 37/41 [01:30<00:02,  1.40it/s]\u001b[A\n",
      " 93%|█████████▎| 38/41 [01:30<00:01,  1.64it/s]\u001b[A\n",
      "100%|██████████| 41/41 [01:31<00:00,  2.22s/it]\u001b[A\n",
      "  9%|▊         | 9/103 [13:24<2:11:21, 83.84s/it]"
     ]
    },
    {
     "name": "stdout",
     "output_type": "stream",
     "text": [
      "Row(ct=10000000000, ca=91)\n"
     ]
    },
    {
     "name": "stderr",
     "output_type": "stream",
     "text": [
      "\n",
      "  0%|          | 0/40 [00:00<?, ?it/s]\u001b[A\n",
      "  2%|▎         | 1/40 [00:04<02:52,  4.42s/it]\u001b[A\n",
      "  5%|▌         | 2/40 [00:08<02:42,  4.27s/it]\u001b[A\n",
      "  8%|▊         | 3/40 [00:12<02:36,  4.22s/it]\u001b[A\n",
      " 10%|█         | 4/40 [00:16<02:26,  4.08s/it]\u001b[A"
     ]
    },
    {
     "name": "stdout",
     "output_type": "stream",
     "text": [
      "extrasm_p_totalm_p 0.6627324069221778\n"
     ]
    },
    {
     "name": "stderr",
     "output_type": "stream",
     "text": [
      "\n",
      " 12%|█▎        | 5/40 [00:20<02:22,  4.08s/it]\u001b[A\n",
      " 15%|█▌        | 6/40 [00:24<02:12,  3.89s/it]\u001b[A\n",
      " 18%|█▊        | 7/40 [00:27<02:06,  3.84s/it]\u001b[A\n",
      " 20%|██        | 8/40 [00:31<02:04,  3.88s/it]\u001b[A\n",
      " 22%|██▎       | 9/40 [00:35<01:54,  3.70s/it]\u001b[A\n",
      " 25%|██▌       | 10/40 [00:38<01:46,  3.56s/it]\u001b[A\n",
      " 28%|██▊       | 11/40 [00:42<01:48,  3.76s/it]\u001b[A\n",
      " 30%|███       | 12/40 [00:46<01:46,  3.79s/it]\u001b[A\n",
      " 32%|███▎      | 13/40 [00:49<01:37,  3.63s/it]\u001b[A\n",
      " 35%|███▌      | 14/40 [00:52<01:29,  3.44s/it]\u001b[A\n",
      " 38%|███▊      | 15/40 [00:55<01:19,  3.17s/it]\u001b[A\n",
      " 40%|████      | 16/40 [00:57<01:11,  3.00s/it]\u001b[A\n",
      " 42%|████▎     | 17/40 [01:00<01:08,  2.99s/it]\u001b[A\n",
      " 45%|████▌     | 18/40 [01:03<01:01,  2.79s/it]\u001b[A\n",
      " 48%|████▊     | 19/40 [01:05<00:56,  2.67s/it]\u001b[A\n",
      " 50%|█████     | 20/40 [01:07<00:49,  2.50s/it]\u001b[A\n",
      " 52%|█████▎    | 21/40 [01:10<00:46,  2.45s/it]\u001b[A\n",
      " 55%|█████▌    | 22/40 [01:11<00:41,  2.30s/it]\u001b[A\n",
      " 57%|█████▊    | 23/40 [01:13<00:35,  2.11s/it]\u001b[A\n",
      " 60%|██████    | 24/40 [01:15<00:31,  1.95s/it]\u001b[A\n",
      " 62%|██████▎   | 25/40 [01:16<00:27,  1.83s/it]\u001b[A\n",
      " 65%|██████▌   | 26/40 [01:18<00:23,  1.71s/it]\u001b[A\n",
      " 68%|██████▊   | 27/40 [01:19<00:21,  1.63s/it]\u001b[A\n",
      " 70%|███████   | 28/40 [01:21<00:18,  1.55s/it]\u001b[A\n",
      " 72%|███████▎  | 29/40 [01:22<00:15,  1.45s/it]\u001b[A\n",
      " 75%|███████▌  | 30/40 [01:23<00:13,  1.35s/it]\u001b[A\n",
      " 78%|███████▊  | 31/40 [01:24<00:10,  1.21s/it]\u001b[A\n",
      " 80%|████████  | 32/40 [01:25<00:08,  1.09s/it]\u001b[A\n",
      " 82%|████████▎ | 33/40 [01:25<00:06,  1.03it/s]\u001b[A\n",
      " 85%|████████▌ | 34/40 [01:26<00:05,  1.16it/s]\u001b[A\n",
      " 88%|████████▊ | 35/40 [01:26<00:03,  1.31it/s]\u001b[A\n",
      " 90%|█████████ | 36/40 [01:27<00:02,  1.54it/s]\u001b[A\n",
      " 92%|█████████▎| 37/40 [01:27<00:01,  1.83it/s]\u001b[A\n",
      " 95%|█████████▌| 38/40 [01:27<00:00,  2.24it/s]\u001b[A\n",
      "100%|██████████| 40/40 [01:27<00:00,  2.20s/it]\u001b[A\n",
      " 10%|▉         | 10/103 [14:52<2:12:08, 85.25s/it]"
     ]
    },
    {
     "name": "stdout",
     "output_type": "stream",
     "text": [
      "Row(ct=17031080100, ca=8)\n"
     ]
    },
    {
     "name": "stderr",
     "output_type": "stream",
     "text": [
      "\n",
      "  0%|          | 0/33 [00:00<?, ?it/s]\u001b[A\n",
      "  3%|▎         | 1/33 [00:04<02:25,  4.54s/it]\u001b[A\n",
      "  6%|▌         | 2/33 [00:07<01:54,  3.69s/it]\u001b[A\n",
      "  9%|▉         | 3/33 [00:10<01:46,  3.53s/it]\u001b[A\n",
      " 12%|█▏        | 4/33 [00:14<01:40,  3.45s/it]\u001b[A\n",
      " 15%|█▌        | 5/33 [00:17<01:30,  3.23s/it]\u001b[A\n",
      " 18%|█▊        | 6/33 [00:19<01:23,  3.09s/it]\u001b[A\n",
      " 21%|██        | 7/33 [00:23<01:20,  3.09s/it]\u001b[A\n",
      " 24%|██▍       | 8/33 [00:25<01:13,  2.95s/it]\u001b[A\n",
      " 27%|██▋       | 9/33 [00:28<01:08,  2.85s/it]\u001b[A\n",
      " 30%|███       | 10/33 [00:30<01:03,  2.76s/it]\u001b[A\n",
      " 33%|███▎      | 11/33 [00:33<00:59,  2.71s/it]\u001b[A\n",
      " 36%|███▋      | 12/33 [00:35<00:53,  2.55s/it]\u001b[A\n",
      " 39%|███▉      | 13/33 [00:37<00:48,  2.44s/it]\u001b[A\n",
      " 42%|████▏     | 14/33 [00:39<00:44,  2.35s/it]\u001b[A\n",
      " 45%|████▌     | 15/33 [00:42<00:41,  2.30s/it]\u001b[A\n",
      " 48%|████▊     | 16/33 [00:43<00:36,  2.14s/it]\u001b[A\n",
      " 52%|█████▏    | 17/33 [00:45<00:31,  1.99s/it]\u001b[A\n",
      " 55%|█████▍    | 18/33 [00:47<00:27,  1.86s/it]\u001b[A\n",
      " 58%|█████▊    | 19/33 [00:48<00:24,  1.74s/it]\u001b[A\n",
      " 61%|██████    | 20/33 [00:49<00:20,  1.60s/it]\u001b[A\n",
      " 64%|██████▎   | 21/33 [00:51<00:18,  1.53s/it]\u001b[A\n",
      " 67%|██████▋   | 22/33 [00:52<00:16,  1.50s/it]\u001b[A\n",
      " 70%|██████▉   | 23/33 [00:53<00:13,  1.40s/it]\u001b[A\n",
      " 73%|███████▎  | 24/33 [00:54<00:11,  1.25s/it]\u001b[A\n",
      " 76%|███████▌  | 25/33 [00:55<00:08,  1.10s/it]\u001b[A\n",
      " 79%|███████▉  | 26/33 [00:56<00:06,  1.02it/s]\u001b[A\n",
      " 82%|████████▏ | 27/33 [00:56<00:05,  1.15it/s]\u001b[A\n",
      " 85%|████████▍ | 28/33 [00:57<00:03,  1.35it/s]\u001b[A\n",
      " 88%|████████▊ | 29/33 [00:57<00:02,  1.49it/s]\u001b[A\n",
      " 91%|█████████ | 30/33 [00:58<00:01,  1.72it/s]\u001b[A\n",
      " 94%|█████████▍| 31/33 [00:58<00:00,  2.11it/s]\u001b[A\n",
      "100%|██████████| 33/33 [00:58<00:00,  1.77s/it]\u001b[A\n",
      " 11%|█         | 11/103 [15:51<1:58:16, 77.14s/it]"
     ]
    },
    {
     "name": "stdout",
     "output_type": "stream",
     "text": [
      "Row(ct=17031460200, ca=29)\n"
     ]
    },
    {
     "name": "stderr",
     "output_type": "stream",
     "text": [
      "\n",
      "  0%|          | 0/40 [00:00<?, ?it/s]\u001b[A\n",
      "  2%|▎         | 1/40 [00:04<02:59,  4.60s/it]\u001b[A\n",
      "  5%|▌         | 2/40 [00:08<02:42,  4.28s/it]\u001b[A\n",
      "  8%|▊         | 3/40 [00:13<02:42,  4.38s/it]\u001b[A\n",
      " 10%|█         | 4/40 [00:17<02:30,  4.18s/it]\u001b[A\n",
      " 12%|█▎        | 5/40 [00:20<02:19,  3.99s/it]\u001b[A\n",
      " 15%|█▌        | 6/40 [00:24<02:15,  3.98s/it]\u001b[A\n",
      " 18%|█▊        | 7/40 [00:28<02:06,  3.83s/it]\u001b[A\n",
      " 20%|██        | 8/40 [00:31<01:57,  3.67s/it]\u001b[A\n",
      " 22%|██▎       | 9/40 [00:34<01:50,  3.56s/it]\u001b[A\n",
      " 25%|██▌       | 10/40 [00:37<01:42,  3.43s/it]\u001b[A\n",
      " 28%|██▊       | 11/40 [00:40<01:34,  3.26s/it]\u001b[A\n",
      " 30%|███       | 12/40 [00:44<01:32,  3.30s/it]\u001b[A\n",
      " 32%|███▎      | 13/40 [00:46<01:24,  3.14s/it]\u001b[A\n",
      " 35%|███▌      | 14/40 [00:49<01:18,  3.00s/it]\u001b[A\n",
      " 38%|███▊      | 15/40 [00:52<01:15,  3.02s/it]\u001b[A\n",
      " 40%|████      | 16/40 [00:55<01:09,  2.89s/it]\u001b[A\n",
      " 42%|████▎     | 17/40 [00:57<01:03,  2.77s/it]\u001b[A\n",
      " 45%|████▌     | 18/40 [00:59<00:56,  2.56s/it]\u001b[A\n",
      " 48%|████▊     | 19/40 [01:02<00:52,  2.50s/it]\u001b[A\n",
      " 50%|█████     | 20/40 [01:04<00:48,  2.42s/it]\u001b[A\n",
      " 52%|█████▎    | 21/40 [01:06<00:43,  2.30s/it]\u001b[A\n",
      " 55%|█████▌    | 22/40 [01:08<00:38,  2.16s/it]\u001b[A\n",
      " 57%|█████▊    | 23/40 [01:10<00:34,  2.06s/it]\u001b[A\n",
      " 60%|██████    | 24/40 [01:11<00:31,  1.97s/it]\u001b[A\n",
      " 62%|██████▎   | 25/40 [01:13<00:28,  1.88s/it]\u001b[A\n",
      " 65%|██████▌   | 26/40 [01:15<00:25,  1.84s/it]\u001b[A\n",
      " 68%|██████▊   | 27/40 [01:16<00:21,  1.69s/it]\u001b[A\n",
      " 70%|███████   | 28/40 [01:17<00:18,  1.53s/it]\u001b[A\n",
      " 72%|███████▎  | 29/40 [01:18<00:15,  1.39s/it]\u001b[A\n",
      " 75%|███████▌  | 30/40 [01:20<00:13,  1.32s/it]\u001b[A\n",
      " 78%|███████▊  | 31/40 [01:20<00:10,  1.21s/it]\u001b[A\n",
      " 80%|████████  | 32/40 [01:22<00:09,  1.24s/it]\u001b[A\n",
      " 82%|████████▎ | 33/40 [01:23<00:07,  1.10s/it]\u001b[A\n",
      " 85%|████████▌ | 34/40 [01:23<00:05,  1.02it/s]\u001b[A\n",
      " 88%|████████▊ | 35/40 [01:24<00:04,  1.12it/s]\u001b[A\n",
      " 90%|█████████ | 36/40 [01:25<00:03,  1.26it/s]\u001b[A\n",
      " 92%|█████████▎| 37/40 [01:25<00:01,  1.56it/s]\u001b[A\n",
      " 95%|█████████▌| 38/40 [01:25<00:01,  1.96it/s]\u001b[A\n",
      "100%|██████████| 40/40 [01:25<00:00,  2.14s/it]\u001b[A\n",
      " 12%|█▏        | 12/103 [17:17<2:01:07, 79.86s/it]"
     ]
    },
    {
     "name": "stdout",
     "output_type": "stream",
     "text": [
      "Row(ct=12000000037, ca=60)\n"
     ]
    },
    {
     "name": "stderr",
     "output_type": "stream",
     "text": [
      "\n",
      "  0%|          | 0/39 [00:00<?, ?it/s]\u001b[A\n",
      "  3%|▎         | 1/39 [00:04<02:49,  4.47s/it]\u001b[A\n",
      "  5%|▌         | 2/39 [00:08<02:42,  4.40s/it]\u001b[A\n",
      "  8%|▊         | 3/39 [00:12<02:25,  4.04s/it]\u001b[A\n",
      " 10%|█         | 4/39 [00:16<02:18,  3.95s/it]\u001b[A\n",
      " 13%|█▎        | 5/39 [00:19<02:10,  3.83s/it]\u001b[A\n",
      " 15%|█▌        | 6/39 [00:23<01:59,  3.61s/it]\u001b[A\n",
      " 18%|█▊        | 7/39 [00:26<01:58,  3.70s/it]\u001b[A\n",
      " 21%|██        | 8/39 [00:30<01:50,  3.56s/it]\u001b[A\n",
      " 23%|██▎       | 9/39 [00:33<01:42,  3.42s/it]\u001b[A\n",
      " 26%|██▌       | 10/39 [00:36<01:35,  3.28s/it]\u001b[A\n",
      " 28%|██▊       | 11/39 [00:39<01:31,  3.25s/it]\u001b[A\n",
      " 31%|███       | 12/39 [00:42<01:23,  3.08s/it]\u001b[A\n",
      " 33%|███▎      | 13/39 [00:44<01:16,  2.96s/it]\u001b[A\n",
      " 36%|███▌      | 14/39 [00:47<01:13,  2.93s/it]\u001b[A\n",
      " 38%|███▊      | 15/39 [00:50<01:07,  2.80s/it]\u001b[A\n",
      " 41%|████      | 16/39 [00:52<01:03,  2.75s/it]\u001b[A\n",
      " 44%|████▎     | 17/39 [00:55<00:57,  2.61s/it]\u001b[A\n",
      " 46%|████▌     | 18/39 [00:57<00:53,  2.55s/it]\u001b[A\n",
      " 49%|████▊     | 19/39 [00:59<00:49,  2.48s/it]\u001b[A\n",
      " 51%|█████▏    | 20/39 [01:01<00:43,  2.32s/it]\u001b[A\n",
      " 54%|█████▍    | 21/39 [01:03<00:39,  2.17s/it]\u001b[A\n",
      " 56%|█████▋    | 22/39 [01:05<00:34,  2.05s/it]\u001b[A\n",
      " 59%|█████▉    | 23/39 [01:07<00:31,  1.99s/it]\u001b[A"
     ]
    },
    {
     "name": "stdout",
     "output_type": "stream",
     "text": [
      "trips_p_growth_1_to_0_velocity_p_growth_4_to_3 0.8527773476646122\n"
     ]
    },
    {
     "name": "stderr",
     "output_type": "stream",
     "text": [
      "\n",
      " 62%|██████▏   | 24/39 [01:08<00:27,  1.85s/it]\u001b[A\n",
      " 64%|██████▍   | 25/39 [01:10<00:24,  1.75s/it]\u001b[A\n",
      " 67%|██████▋   | 26/39 [01:11<00:21,  1.63s/it]\u001b[A\n",
      " 69%|██████▉   | 27/39 [01:12<00:17,  1.48s/it]\u001b[A\n",
      " 72%|███████▏  | 28/39 [01:13<00:14,  1.36s/it]\u001b[A\n",
      " 74%|███████▍  | 29/39 [01:14<00:12,  1.23s/it]\u001b[A\n",
      " 77%|███████▋  | 30/39 [01:15<00:10,  1.16s/it]\u001b[A\n",
      " 79%|███████▉  | 31/39 [01:16<00:09,  1.14s/it]\u001b[A\n",
      " 82%|████████▏ | 32/39 [01:17<00:07,  1.02s/it]\u001b[A\n",
      " 85%|████████▍ | 33/39 [01:18<00:05,  1.11it/s]\u001b[A\n",
      " 87%|████████▋ | 34/39 [01:18<00:04,  1.23it/s]\u001b[A\n",
      " 90%|████████▉ | 35/39 [01:19<00:02,  1.45it/s]\u001b[A\n",
      " 92%|█████████▏| 36/39 [01:19<00:01,  1.71it/s]\u001b[A\n",
      "100%|██████████| 39/39 [01:19<00:00,  2.05s/it]\u001b[A\n",
      " 13%|█▎        | 13/103 [18:37<1:59:56, 79.96s/it]"
     ]
    },
    {
     "name": "stdout",
     "output_type": "stream",
     "text": [
      "Row(ct=17031301600, ca=54)\n"
     ]
    },
    {
     "name": "stderr",
     "output_type": "stream",
     "text": [
      "\n",
      "  0%|          | 0/35 [00:00<?, ?it/s]\u001b[A\n",
      "  3%|▎         | 1/35 [00:03<02:11,  3.87s/it]\u001b[A\n",
      "  6%|▌         | 2/35 [00:07<01:59,  3.62s/it]\u001b[A\n",
      "  9%|▊         | 3/35 [00:10<01:53,  3.55s/it]\u001b[A\n",
      " 11%|█▏        | 4/35 [00:13<01:44,  3.36s/it]\u001b[A\n",
      " 14%|█▍        | 5/35 [00:17<01:41,  3.39s/it]\u001b[A"
     ]
    },
    {
     "name": "stdout",
     "output_type": "stream",
     "text": [
      "totalm_p_totalm_d 0.9332642347034322\n"
     ]
    },
    {
     "name": "stderr",
     "output_type": "stream",
     "text": [
      "\n",
      " 17%|█▋        | 6/35 [00:20<01:34,  3.26s/it]\u001b[A\n",
      " 20%|██        | 7/35 [00:23<01:29,  3.20s/it]\u001b[A\n",
      " 23%|██▎       | 8/35 [00:26<01:23,  3.11s/it]\u001b[A\n",
      " 26%|██▌       | 9/35 [00:29<01:20,  3.08s/it]\u001b[A\n",
      " 29%|██▊       | 10/35 [00:31<01:12,  2.91s/it]\u001b[A\n",
      " 31%|███▏      | 11/35 [00:34<01:09,  2.89s/it]\u001b[A\n",
      " 34%|███▍      | 12/35 [00:37<01:04,  2.81s/it]\u001b[A\n",
      " 37%|███▋      | 13/35 [00:39<00:59,  2.69s/it]\u001b[A\n",
      " 40%|████      | 14/35 [00:41<00:53,  2.54s/it]\u001b[A\n",
      " 43%|████▎     | 15/35 [00:43<00:47,  2.39s/it]\u001b[A\n",
      " 46%|████▌     | 16/35 [00:46<00:44,  2.33s/it]\u001b[A\n",
      " 49%|████▊     | 17/35 [00:48<00:40,  2.25s/it]\u001b[A\n",
      " 51%|█████▏    | 18/35 [00:50<00:36,  2.13s/it]\u001b[A\n",
      " 54%|█████▍    | 19/35 [00:51<00:31,  2.00s/it]\u001b[A\n",
      " 57%|█████▋    | 20/35 [00:53<00:28,  1.92s/it]\u001b[A\n",
      " 60%|██████    | 21/35 [00:54<00:25,  1.79s/it]\u001b[A\n",
      " 63%|██████▎   | 22/35 [00:56<00:22,  1.72s/it]\u001b[A\n",
      " 66%|██████▌   | 23/35 [00:57<00:19,  1.61s/it]\u001b[A\n",
      " 69%|██████▊   | 24/35 [00:59<00:17,  1.55s/it]\u001b[A\n",
      " 71%|███████▏  | 25/35 [01:00<00:13,  1.40s/it]\u001b[A\n",
      " 74%|███████▍  | 26/35 [01:01<00:11,  1.24s/it]\u001b[A\n",
      " 77%|███████▋  | 27/35 [01:02<00:09,  1.13s/it]\u001b[A"
     ]
    },
    {
     "name": "stdout",
     "output_type": "stream",
     "text": [
      "trips_d_growth_3_to_2_velocity_d_growth_3_to_2 0.9541911029899566\n"
     ]
    },
    {
     "name": "stderr",
     "output_type": "stream",
     "text": [
      "\n",
      " 80%|████████  | 28/35 [01:02<00:06,  1.00it/s]\u001b[A\n",
      " 83%|████████▎ | 29/35 [01:03<00:05,  1.11it/s]\u001b[A\n",
      " 86%|████████▌ | 30/35 [01:04<00:03,  1.25it/s]\u001b[A\n",
      " 89%|████████▊ | 31/35 [01:04<00:02,  1.45it/s]\u001b[A\n",
      " 91%|█████████▏| 32/35 [01:04<00:01,  1.61it/s]\u001b[A\n",
      " 94%|█████████▍| 33/35 [01:05<00:01,  1.91it/s]\u001b[A\n",
      "100%|██████████| 35/35 [01:05<00:00,  1.87s/it]\u001b[A\n",
      " 14%|█▎        | 14/103 [19:43<1:52:13, 75.66s/it]"
     ]
    },
    {
     "name": "stdout",
     "output_type": "stream",
     "text": [
      "Row(ct=12000000013, ca=52)\n"
     ]
    },
    {
     "name": "stderr",
     "output_type": "stream",
     "text": [
      "\n",
      "  0%|          | 0/36 [00:00<?, ?it/s]\u001b[A\n",
      "  3%|▎         | 1/36 [00:04<02:24,  4.13s/it]\u001b[A\n",
      "  6%|▌         | 2/36 [00:07<02:08,  3.77s/it]\u001b[A\n",
      "  8%|▊         | 3/36 [00:11<02:03,  3.74s/it]\u001b[A\n",
      " 11%|█         | 4/36 [00:14<01:53,  3.54s/it]\u001b[A\n",
      " 14%|█▍        | 5/36 [00:17<01:45,  3.41s/it]\u001b[A\n",
      " 17%|█▋        | 6/36 [00:20<01:39,  3.33s/it]\u001b[A\n",
      " 19%|█▉        | 7/36 [00:23<01:33,  3.22s/it]\u001b[A\n",
      " 22%|██▏       | 8/36 [00:26<01:27,  3.14s/it]\u001b[A\n",
      " 25%|██▌       | 9/36 [00:29<01:22,  3.07s/it]\u001b[A\n",
      " 28%|██▊       | 10/36 [00:32<01:19,  3.04s/it]\u001b[A\n",
      " 31%|███       | 11/36 [00:35<01:12,  2.91s/it]\u001b[A\n",
      " 33%|███▎      | 12/36 [00:37<01:06,  2.78s/it]\u001b[A\n",
      " 36%|███▌      | 13/36 [00:40<01:02,  2.72s/it]\u001b[A\n",
      " 39%|███▉      | 14/36 [00:43<00:58,  2.67s/it]\u001b[A\n",
      " 42%|████▏     | 15/36 [00:45<00:52,  2.52s/it]\u001b[A"
     ]
    },
    {
     "name": "stdout",
     "output_type": "stream",
     "text": [
      "extrasm_d_comp4_d 0.7893531933295216\n"
     ]
    },
    {
     "name": "stderr",
     "output_type": "stream",
     "text": [
      "\n",
      " 44%|████▍     | 16/36 [00:47<00:47,  2.38s/it]\u001b[A\n",
      " 47%|████▋     | 17/36 [00:49<00:42,  2.25s/it]\u001b[A\n",
      " 50%|█████     | 18/36 [00:51<00:39,  2.20s/it]\u001b[A\n",
      " 53%|█████▎    | 19/36 [00:53<00:35,  2.08s/it]\u001b[A\n",
      " 56%|█████▌    | 20/36 [00:54<00:30,  1.93s/it]\u001b[A\n",
      " 58%|█████▊    | 21/36 [00:56<00:27,  1.85s/it]\u001b[A\n",
      " 61%|██████    | 22/36 [00:57<00:24,  1.73s/it]\u001b[A\n",
      " 64%|██████▍   | 23/36 [00:59<00:20,  1.61s/it]\u001b[A\n",
      " 67%|██████▋   | 24/36 [01:00<00:18,  1.58s/it]\u001b[A\n",
      " 69%|██████▉   | 25/36 [01:01<00:16,  1.49s/it]\u001b[A\n",
      " 72%|███████▏  | 26/36 [01:03<00:14,  1.40s/it]\u001b[A\n",
      " 75%|███████▌  | 27/36 [01:04<00:11,  1.29s/it]\u001b[A\n",
      " 78%|███████▊  | 28/36 [01:04<00:09,  1.13s/it]\u001b[A\n",
      " 81%|████████  | 29/36 [01:05<00:07,  1.02s/it]\u001b[A\n",
      " 83%|████████▎ | 30/36 [01:06<00:05,  1.12it/s]\u001b[A\n",
      " 86%|████████▌ | 31/36 [01:06<00:03,  1.25it/s]\u001b[A\n",
      " 89%|████████▉ | 32/36 [01:07<00:02,  1.52it/s]\u001b[A\n",
      " 92%|█████████▏| 33/36 [01:07<00:01,  1.73it/s]\u001b[A\n",
      " 94%|█████████▍| 34/36 [01:07<00:00,  2.13it/s]\u001b[A\n",
      "100%|██████████| 36/36 [01:07<00:00,  1.89s/it]\u001b[A\n",
      " 15%|█▍        | 15/103 [20:51<1:47:45, 73.47s/it]"
     ]
    },
    {
     "name": "stdout",
     "output_type": "stream",
     "text": [
      "Row(ct=17031260700, ca=64)\n"
     ]
    },
    {
     "name": "stderr",
     "output_type": "stream",
     "text": [
      "\n",
      "  0%|          | 0/38 [00:00<?, ?it/s]\u001b[A\n",
      "  3%|▎         | 1/38 [00:05<03:07,  5.07s/it]\u001b[A"
     ]
    },
    {
     "name": "stdout",
     "output_type": "stream",
     "text": [
      "miles_p_velocity_p 0.8082960628831517\n"
     ]
    },
    {
     "name": "stderr",
     "output_type": "stream",
     "text": [
      "\n",
      "  5%|▌         | 2/38 [00:08<02:34,  4.30s/it]\u001b[A\n",
      "  8%|▊         | 3/38 [00:12<02:22,  4.07s/it]\u001b[A\n",
      " 11%|█         | 4/38 [00:16<02:12,  3.91s/it]\u001b[A\n",
      " 13%|█▎        | 5/38 [00:19<02:02,  3.72s/it]\u001b[A\n",
      " 16%|█▌        | 6/38 [00:23<01:57,  3.66s/it]\u001b[A\n",
      " 18%|█▊        | 7/38 [00:26<01:51,  3.59s/it]\u001b[A\n",
      " 21%|██        | 8/38 [00:29<01:42,  3.42s/it]\u001b[A\n",
      " 24%|██▎       | 9/38 [00:33<01:38,  3.39s/it]\u001b[A\n",
      " 26%|██▋       | 10/38 [00:35<01:30,  3.24s/it]\u001b[A\n",
      " 29%|██▉       | 11/38 [00:38<01:24,  3.13s/it]\u001b[A\n",
      " 32%|███▏      | 12/38 [00:41<01:18,  3.01s/it]\u001b[A"
     ]
    },
    {
     "name": "stdout",
     "output_type": "stream",
     "text": [
      "miles_d_velocity_d 0.834539532806943\n"
     ]
    },
    {
     "name": "stderr",
     "output_type": "stream",
     "text": [
      "\n",
      " 34%|███▍      | 13/38 [00:44<01:16,  3.05s/it]\u001b[A\n",
      " 37%|███▋      | 14/38 [00:47<01:08,  2.87s/it]\u001b[A\n",
      " 39%|███▉      | 15/38 [00:49<01:03,  2.75s/it]\u001b[A\n",
      " 42%|████▏     | 16/38 [00:52<00:59,  2.71s/it]\u001b[A\n",
      " 45%|████▍     | 17/38 [00:54<00:54,  2.58s/it]\u001b[A\n",
      " 47%|████▋     | 18/38 [00:56<00:49,  2.50s/it]\u001b[A\n",
      " 50%|█████     | 19/38 [00:58<00:44,  2.36s/it]\u001b[A\n",
      " 53%|█████▎    | 20/38 [01:00<00:40,  2.23s/it]\u001b[A\n",
      " 55%|█████▌    | 21/38 [01:03<00:39,  2.30s/it]\u001b[A\n",
      " 58%|█████▊    | 22/38 [01:04<00:33,  2.12s/it]\u001b[A\n",
      " 61%|██████    | 23/38 [01:06<00:29,  1.95s/it]\u001b[A\n",
      " 63%|██████▎   | 24/38 [01:07<00:25,  1.80s/it]\u001b[A\n",
      " 66%|██████▌   | 25/38 [01:09<00:22,  1.72s/it]\u001b[A\n",
      " 68%|██████▊   | 26/38 [01:10<00:18,  1.57s/it]\u001b[A\n",
      " 71%|███████   | 27/38 [01:12<00:16,  1.51s/it]\u001b[A"
     ]
    },
    {
     "name": "stdout",
     "output_type": "stream",
     "text": [
      "trips_d_growth_2_to_1_velocity_d_growth_2_to_1 0.9105798045481341\n"
     ]
    },
    {
     "name": "stderr",
     "output_type": "stream",
     "text": [
      "\n",
      " 74%|███████▎  | 28/38 [01:13<00:14,  1.40s/it]\u001b[A\n",
      " 76%|███████▋  | 29/38 [01:14<00:11,  1.26s/it]\u001b[A"
     ]
    },
    {
     "name": "stdout",
     "output_type": "stream",
     "text": [
      "trips_d_growth_3_to_2_velocity_d_growth_3_to_2 0.893107040844075\n"
     ]
    },
    {
     "name": "stderr",
     "output_type": "stream",
     "text": [
      "\n",
      " 79%|███████▉  | 30/38 [01:15<00:09,  1.21s/it]\u001b[A"
     ]
    },
    {
     "name": "stdout",
     "output_type": "stream",
     "text": [
      "trips_d_growth_4_to_3_velocity_d_growth_4_to_3 0.9627498705849732\n"
     ]
    },
    {
     "name": "stderr",
     "output_type": "stream",
     "text": [
      "\n",
      " 82%|████████▏ | 31/38 [01:16<00:07,  1.07s/it]\u001b[A\n",
      " 84%|████████▍ | 32/38 [01:16<00:05,  1.05it/s]\u001b[A\n",
      " 87%|████████▋ | 33/38 [01:17<00:04,  1.24it/s]\u001b[A\n",
      " 89%|████████▉ | 34/38 [01:17<00:02,  1.44it/s]\u001b[A\n",
      " 92%|█████████▏| 35/38 [01:17<00:01,  1.74it/s]\u001b[A\n",
      "100%|██████████| 38/38 [01:18<00:00,  2.06s/it]\u001b[A\n",
      " 16%|█▌        | 16/103 [22:10<1:48:44, 75.00s/it]"
     ]
    },
    {
     "name": "stdout",
     "output_type": "stream",
     "text": [
      "Row(ct=12000000002, ca=75)\n"
     ]
    },
    {
     "name": "stderr",
     "output_type": "stream",
     "text": [
      "\n",
      "  0%|          | 0/37 [00:00<?, ?it/s]\u001b[A\n",
      "  3%|▎         | 1/37 [00:04<02:46,  4.63s/it]\u001b[A\n",
      "  5%|▌         | 2/37 [00:08<02:31,  4.32s/it]\u001b[A\n",
      "  8%|▊         | 3/37 [00:12<02:16,  4.01s/it]\u001b[A\n",
      " 11%|█         | 4/37 [00:16<02:11,  3.98s/it]\u001b[A\n",
      " 14%|█▎        | 5/37 [00:19<01:57,  3.66s/it]\u001b[A\n",
      " 16%|█▌        | 6/37 [00:22<01:50,  3.57s/it]\u001b[A\n",
      " 19%|█▉        | 7/37 [00:26<01:45,  3.50s/it]\u001b[A\n",
      " 22%|██▏       | 8/37 [00:29<01:37,  3.37s/it]\u001b[A"
     ]
    },
    {
     "name": "stdout",
     "output_type": "stream",
     "text": [
      "comp4_p_comp4_d 0.7182932521646239\n"
     ]
    },
    {
     "name": "stderr",
     "output_type": "stream",
     "text": [
      "\n",
      " 24%|██▍       | 9/37 [00:32<01:30,  3.23s/it]\u001b[A\n",
      " 27%|██▋       | 10/37 [00:35<01:27,  3.23s/it]\u001b[A\n",
      " 30%|██▉       | 11/37 [00:38<01:21,  3.15s/it]\u001b[A\n",
      " 32%|███▏      | 12/37 [00:41<01:15,  3.04s/it]\u001b[A\n",
      " 35%|███▌      | 13/37 [00:43<01:10,  2.94s/it]\u001b[A\n",
      " 38%|███▊      | 14/37 [00:46<01:04,  2.82s/it]\u001b[A\n",
      " 41%|████      | 15/37 [00:48<00:59,  2.69s/it]\u001b[A\n",
      " 43%|████▎     | 16/37 [00:50<00:52,  2.50s/it]\u001b[A\n",
      " 46%|████▌     | 17/37 [00:53<00:49,  2.45s/it]\u001b[A\n",
      " 49%|████▊     | 18/37 [00:55<00:44,  2.35s/it]\u001b[A\n",
      " 51%|█████▏    | 19/37 [00:57<00:39,  2.21s/it]\u001b[A\n",
      " 54%|█████▍    | 20/37 [00:59<00:35,  2.11s/it]\u001b[A\n",
      " 57%|█████▋    | 21/37 [01:00<00:31,  2.00s/it]\u001b[A\n",
      " 59%|█████▉    | 22/37 [01:02<00:27,  1.85s/it]\u001b[A\n",
      " 62%|██████▏   | 23/37 [01:03<00:24,  1.76s/it]\u001b[A\n",
      " 65%|██████▍   | 24/37 [01:05<00:22,  1.70s/it]\u001b[A\n",
      " 68%|██████▊   | 25/37 [01:06<00:19,  1.61s/it]\u001b[A\n",
      " 70%|███████   | 26/37 [01:08<00:16,  1.49s/it]\u001b[A\n",
      " 73%|███████▎  | 27/37 [01:09<00:13,  1.34s/it]\u001b[A\n",
      " 76%|███████▌  | 28/37 [01:09<00:11,  1.22s/it]\u001b[A\n",
      " 78%|███████▊  | 29/37 [01:10<00:08,  1.09s/it]\u001b[A\n",
      " 81%|████████  | 30/37 [01:11<00:07,  1.01s/it]\u001b[A\n",
      " 84%|████████▍ | 31/37 [01:12<00:05,  1.06it/s]\u001b[A\n",
      " 86%|████████▋ | 32/37 [01:12<00:04,  1.24it/s]\u001b[A\n",
      " 89%|████████▉ | 33/37 [01:13<00:02,  1.35it/s]\u001b[A\n",
      " 92%|█████████▏| 34/37 [01:13<00:01,  1.63it/s]\u001b[A\n",
      " 95%|█████████▍| 35/37 [01:13<00:00,  2.07it/s]\u001b[A\n",
      "100%|██████████| 37/37 [01:14<00:00,  2.00s/it]\u001b[A\n",
      " 17%|█▋        | 17/103 [23:24<1:47:13, 74.81s/it]"
     ]
    },
    {
     "name": "stdout",
     "output_type": "stream",
     "text": [
      "Row(ct=12000000003, ca=48)\n"
     ]
    },
    {
     "name": "stderr",
     "output_type": "stream",
     "text": [
      "\n",
      "  0%|          | 0/39 [00:00<?, ?it/s]\u001b[A\n",
      "  3%|▎         | 1/39 [00:04<02:50,  4.48s/it]\u001b[A\n",
      "  5%|▌         | 2/39 [00:08<02:31,  4.09s/it]\u001b[A\n",
      "  8%|▊         | 3/39 [00:12<02:31,  4.22s/it]\u001b[A\n",
      " 10%|█         | 4/39 [00:16<02:19,  3.99s/it]\u001b[A\n",
      " 13%|█▎        | 5/39 [00:20<02:12,  3.90s/it]\u001b[A"
     ]
    },
    {
     "name": "stdout",
     "output_type": "stream",
     "text": [
      "totalm_p_velocity_p_growth_3_to_2 -0.8024068115787033\n"
     ]
    },
    {
     "name": "stderr",
     "output_type": "stream",
     "text": [
      "\n",
      " 15%|█▌        | 6/39 [00:24<02:09,  3.93s/it]\u001b[A\n",
      " 18%|█▊        | 7/39 [00:27<01:57,  3.67s/it]\u001b[A\n",
      " 21%|██        | 8/39 [00:30<01:51,  3.60s/it]\u001b[A\n",
      " 23%|██▎       | 9/39 [00:33<01:43,  3.45s/it]\u001b[A\n",
      " 26%|██▌       | 10/39 [00:36<01:37,  3.35s/it]\u001b[A\n",
      " 28%|██▊       | 11/39 [00:39<01:31,  3.26s/it]\u001b[A\n",
      " 31%|███       | 12/39 [00:42<01:26,  3.20s/it]\u001b[A\n",
      " 33%|███▎      | 13/39 [00:45<01:18,  3.03s/it]\u001b[A\n",
      " 36%|███▌      | 14/39 [00:48<01:14,  2.99s/it]\u001b[A\n",
      " 38%|███▊      | 15/39 [00:51<01:09,  2.90s/it]\u001b[A\n",
      " 41%|████      | 16/39 [00:53<01:04,  2.81s/it]\u001b[A\n",
      " 44%|████▎     | 17/39 [00:55<00:57,  2.62s/it]\u001b[A\n",
      " 46%|████▌     | 18/39 [00:58<00:52,  2.48s/it]\u001b[A\n",
      " 49%|████▊     | 19/39 [01:00<00:50,  2.51s/it]\u001b[A\n",
      " 51%|█████▏    | 20/39 [01:02<00:44,  2.37s/it]\u001b[A\n",
      " 54%|█████▍    | 21/39 [01:04<00:39,  2.20s/it]\u001b[A\n",
      " 56%|█████▋    | 22/39 [01:06<00:35,  2.10s/it]\u001b[A\n",
      " 59%|█████▉    | 23/39 [01:08<00:31,  1.96s/it]\u001b[A\n",
      " 62%|██████▏   | 24/39 [01:09<00:28,  1.90s/it]\u001b[A"
     ]
    },
    {
     "name": "stdout",
     "output_type": "stream",
     "text": [
      "trips_p_growth_1_to_0_velocity_p_growth_4_to_3 0.7841508029222009\n"
     ]
    },
    {
     "name": "stderr",
     "output_type": "stream",
     "text": [
      "\n",
      " 64%|██████▍   | 25/39 [01:11<00:24,  1.75s/it]\u001b[A\n",
      " 67%|██████▋   | 26/39 [01:12<00:22,  1.73s/it]\u001b[A\n",
      " 69%|██████▉   | 27/39 [01:14<00:18,  1.58s/it]\u001b[A\n",
      " 72%|███████▏  | 28/39 [01:15<00:15,  1.44s/it]\u001b[A\n",
      " 74%|███████▍  | 29/39 [01:16<00:13,  1.32s/it]\u001b[A\n",
      " 77%|███████▋  | 30/39 [01:17<00:10,  1.21s/it]\u001b[A\n",
      " 79%|███████▉  | 31/39 [01:18<00:09,  1.13s/it]\u001b[A\n",
      " 82%|████████▏ | 32/39 [01:19<00:07,  1.08s/it]\u001b[A\n",
      " 85%|████████▍ | 33/39 [01:19<00:05,  1.04it/s]\u001b[A\n",
      " 87%|████████▋ | 34/39 [01:20<00:04,  1.18it/s]\u001b[A\n",
      " 90%|████████▉ | 35/39 [01:20<00:02,  1.39it/s]\u001b[A\n",
      " 92%|█████████▏| 36/39 [01:21<00:01,  1.64it/s]\u001b[A\n",
      " 95%|█████████▍| 37/39 [01:21<00:00,  2.04it/s]\u001b[A\n",
      "100%|██████████| 39/39 [01:21<00:00,  2.09s/it]\u001b[A\n",
      " 17%|█▋        | 18/103 [24:46<1:49:00, 76.94s/it]"
     ]
    },
    {
     "name": "stdout",
     "output_type": "stream",
     "text": [
      "Row(ct=17031839500, ca=71)\n"
     ]
    },
    {
     "name": "stderr",
     "output_type": "stream",
     "text": [
      "\n",
      "  0%|          | 0/41 [00:00<?, ?it/s]\u001b[A\n",
      "  2%|▏         | 1/41 [00:04<03:11,  4.78s/it]\u001b[A\n",
      "  5%|▍         | 2/41 [00:09<02:55,  4.50s/it]\u001b[A\n",
      "  7%|▋         | 3/41 [00:13<02:42,  4.27s/it]\u001b[A\n",
      " 10%|▉         | 4/41 [00:17<02:35,  4.21s/it]\u001b[A\n",
      " 12%|█▏        | 5/41 [00:21<02:29,  4.14s/it]\u001b[A\n",
      " 15%|█▍        | 6/41 [00:24<02:19,  3.99s/it]\u001b[A\n",
      " 17%|█▋        | 7/41 [00:28<02:15,  3.98s/it]\u001b[A\n",
      " 20%|█▉        | 8/41 [00:32<02:05,  3.82s/it]\u001b[A\n",
      " 22%|██▏       | 9/41 [00:36<02:04,  3.90s/it]\u001b[A\n",
      " 24%|██▍       | 10/41 [00:40<01:57,  3.80s/it]\u001b[A\n",
      " 27%|██▋       | 11/41 [00:43<01:49,  3.64s/it]\u001b[A\n",
      " 29%|██▉       | 12/41 [00:46<01:41,  3.49s/it]\u001b[A\n",
      " 32%|███▏      | 13/41 [00:51<01:47,  3.85s/it]\u001b[A\n",
      " 34%|███▍      | 14/41 [00:53<01:35,  3.54s/it]\u001b[A\n",
      " 37%|███▋      | 15/41 [00:56<01:24,  3.26s/it]\u001b[A\n",
      " 39%|███▉      | 16/41 [00:59<01:18,  3.15s/it]\u001b[A\n",
      " 41%|████▏     | 17/41 [01:02<01:12,  3.01s/it]\u001b[A\n",
      " 44%|████▍     | 18/41 [01:04<01:03,  2.78s/it]\u001b[A\n",
      " 46%|████▋     | 19/41 [01:06<00:59,  2.68s/it]\u001b[A\n",
      " 49%|████▉     | 20/41 [01:09<00:54,  2.59s/it]\u001b[A\n",
      " 51%|█████     | 21/41 [01:11<00:49,  2.47s/it]\u001b[A\n",
      " 54%|█████▎    | 22/41 [01:13<00:44,  2.36s/it]\u001b[A\n",
      " 56%|█████▌    | 23/41 [01:15<00:39,  2.22s/it]\u001b[A\n",
      " 59%|█████▊    | 24/41 [01:17<00:35,  2.11s/it]\u001b[A\n",
      " 61%|██████    | 25/41 [01:19<00:33,  2.12s/it]\u001b[A\n",
      " 63%|██████▎   | 26/41 [01:21<00:29,  1.98s/it]\u001b[A\n",
      " 66%|██████▌   | 27/41 [01:22<00:25,  1.81s/it]\u001b[A\n",
      " 68%|██████▊   | 28/41 [01:23<00:21,  1.67s/it]\u001b[A\n",
      " 71%|███████   | 29/41 [01:25<00:18,  1.58s/it]\u001b[A\n",
      " 73%|███████▎  | 30/41 [01:26<00:15,  1.45s/it]\u001b[A\n",
      " 76%|███████▌  | 31/41 [01:27<00:14,  1.40s/it]\u001b[A\n",
      " 78%|███████▊  | 32/41 [01:28<00:11,  1.30s/it]\u001b[A\n",
      " 80%|████████  | 33/41 [01:29<00:09,  1.20s/it]\u001b[A\n",
      " 83%|████████▎ | 34/41 [01:30<00:07,  1.12s/it]\u001b[A\n",
      " 85%|████████▌ | 35/41 [01:31<00:05,  1.00it/s]\u001b[A\n",
      " 88%|████████▊ | 36/41 [01:31<00:04,  1.20it/s]\u001b[A\n",
      " 90%|█████████ | 37/41 [01:32<00:02,  1.41it/s]\u001b[A\n",
      " 93%|█████████▎| 38/41 [01:32<00:01,  1.68it/s]\u001b[A\n",
      " 95%|█████████▌| 39/41 [01:32<00:00,  2.09it/s]\u001b[A\n",
      "100%|██████████| 41/41 [01:32<00:00,  2.26s/it]\u001b[A\n",
      " 18%|█▊        | 19/103 [26:19<1:54:30, 81.80s/it]"
     ]
    },
    {
     "name": "stdout",
     "output_type": "stream",
     "text": [
      "Row(ct=17031320100, ca=32)\n"
     ]
    },
    {
     "name": "stderr",
     "output_type": "stream",
     "text": [
      "\n",
      "  0%|          | 0/28 [00:00<?, ?it/s]\u001b[A\n",
      "  4%|▎         | 1/28 [00:03<01:27,  3.23s/it]\u001b[A\n",
      "  7%|▋         | 2/28 [00:06<01:21,  3.12s/it]\u001b[A\n",
      " 11%|█         | 3/28 [00:08<01:12,  2.91s/it]\u001b[A"
     ]
    },
    {
     "name": "stdout",
     "output_type": "stream",
     "text": [
      "extrasm_p_totalm_p 0.8481280110804146\n"
     ]
    },
    {
     "name": "stderr",
     "output_type": "stream",
     "text": [
      "\n",
      " 14%|█▍        | 4/28 [00:12<01:11,  3.00s/it]\u001b[A\n",
      " 18%|█▊        | 5/28 [00:14<01:04,  2.82s/it]\u001b[A\n",
      " 21%|██▏       | 6/28 [00:17<00:59,  2.70s/it]\u001b[A\n",
      " 25%|██▌       | 7/28 [00:19<00:52,  2.52s/it]\u001b[A\n",
      " 29%|██▊       | 8/28 [00:21<00:47,  2.35s/it]\u001b[A\n",
      " 32%|███▏      | 9/28 [00:23<00:43,  2.29s/it]\u001b[A"
     ]
    },
    {
     "name": "stdout",
     "output_type": "stream",
     "text": [
      "comp5_d_compless5_d 0.6569176498945375\n"
     ]
    },
    {
     "name": "stderr",
     "output_type": "stream",
     "text": [
      "\n",
      " 36%|███▌      | 10/28 [00:25<00:39,  2.21s/it]\u001b[A\n",
      " 39%|███▉      | 11/28 [00:27<00:35,  2.10s/it]\u001b[A\n",
      " 43%|████▎     | 12/28 [00:29<00:33,  2.07s/it]\u001b[A\n",
      " 46%|████▋     | 13/28 [00:30<00:28,  1.88s/it]\u001b[A\n",
      " 50%|█████     | 14/28 [00:32<00:24,  1.72s/it]\u001b[A\n",
      " 54%|█████▎    | 15/28 [00:33<00:20,  1.59s/it]\u001b[A\n",
      " 57%|█████▋    | 16/28 [00:34<00:18,  1.56s/it]\u001b[A\n",
      " 61%|██████    | 17/28 [00:36<00:16,  1.49s/it]\u001b[A\n",
      " 64%|██████▍   | 18/28 [00:37<00:13,  1.37s/it]\u001b[A\n",
      " 68%|██████▊   | 19/28 [00:38<00:11,  1.23s/it]\u001b[A\n",
      " 71%|███████▏  | 20/28 [00:38<00:08,  1.09s/it]\u001b[A\n",
      " 75%|███████▌  | 21/28 [00:39<00:06,  1.03it/s]\u001b[A\n",
      " 79%|███████▊  | 22/28 [00:40<00:05,  1.15it/s]\u001b[A\n",
      " 82%|████████▏ | 23/28 [00:40<00:03,  1.29it/s]\u001b[A\n",
      " 86%|████████▌ | 24/28 [00:41<00:02,  1.40it/s]\u001b[A\n",
      " 89%|████████▉ | 25/28 [00:41<00:01,  1.62it/s]\u001b[A\n",
      " 93%|█████████▎| 26/28 [00:41<00:01,  1.97it/s]\u001b[A\n",
      "100%|██████████| 28/28 [00:42<00:00,  1.50s/it]\u001b[A\n",
      " 19%|█▉        | 20/103 [27:02<1:36:48, 69.98s/it]"
     ]
    },
    {
     "name": "stdout",
     "output_type": "stream",
     "text": [
      "Row(ct=17031221300, ca=16)\n"
     ]
    },
    {
     "name": "stderr",
     "output_type": "stream",
     "text": [
      "\n",
      "  0%|          | 0/40 [00:00<?, ?it/s]\u001b[A\n",
      "  2%|▎         | 1/40 [00:04<03:03,  4.72s/it]\u001b[A\n",
      "  5%|▌         | 2/40 [00:08<02:41,  4.26s/it]\u001b[A\n",
      "  8%|▊         | 3/40 [00:12<02:37,  4.25s/it]\u001b[A\n",
      " 10%|█         | 4/40 [00:16<02:24,  4.01s/it]\u001b[A\n",
      " 12%|█▎        | 5/40 [00:20<02:16,  3.89s/it]\u001b[A\n",
      " 15%|█▌        | 6/40 [00:24<02:15,  3.99s/it]\u001b[A\n",
      " 18%|█▊        | 7/40 [00:27<02:04,  3.76s/it]\u001b[A\n",
      " 20%|██        | 8/40 [00:30<01:54,  3.57s/it]\u001b[A\n",
      " 22%|██▎       | 9/40 [00:34<01:47,  3.45s/it]\u001b[A\n",
      " 25%|██▌       | 10/40 [00:37<01:40,  3.34s/it]\u001b[A\n",
      " 28%|██▊       | 11/40 [00:39<01:32,  3.18s/it]\u001b[A\n",
      " 30%|███       | 12/40 [00:43<01:28,  3.17s/it]\u001b[A\n",
      " 32%|███▎      | 13/40 [00:45<01:21,  3.03s/it]\u001b[A"
     ]
    },
    {
     "name": "stdout",
     "output_type": "stream",
     "text": [
      "tipsm_d_totalm_d 0.9637843380483248\n"
     ]
    },
    {
     "name": "stderr",
     "output_type": "stream",
     "text": [
      "\n",
      " 35%|███▌      | 14/40 [00:48<01:16,  2.94s/it]\u001b[A"
     ]
    },
    {
     "name": "stdout",
     "output_type": "stream",
     "text": [
      "tipsm_d_velocity_d_growth_3_to_2 -0.9684610495100675\n"
     ]
    },
    {
     "name": "stderr",
     "output_type": "stream",
     "text": [
      "\n",
      " 38%|███▊      | 15/40 [00:51<01:10,  2.82s/it]\u001b[A\n",
      " 40%|████      | 16/40 [00:53<01:06,  2.76s/it]\u001b[A\n",
      " 42%|████▎     | 17/40 [00:56<01:03,  2.76s/it]\u001b[A"
     ]
    },
    {
     "name": "stdout",
     "output_type": "stream",
     "text": [
      "totalm_d_velocity_d_growth_3_to_2 -0.9711805353551651\n"
     ]
    },
    {
     "name": "stderr",
     "output_type": "stream",
     "text": [
      "\n",
      " 45%|████▌     | 18/40 [00:58<00:57,  2.61s/it]\u001b[A\n",
      " 48%|████▊     | 19/40 [01:00<00:52,  2.51s/it]\u001b[A\n",
      " 50%|█████     | 20/40 [01:03<00:50,  2.51s/it]\u001b[A\n",
      " 52%|█████▎    | 21/40 [01:05<00:47,  2.48s/it]\u001b[A\n",
      " 55%|█████▌    | 22/40 [01:07<00:41,  2.30s/it]\u001b[A\n",
      " 57%|█████▊    | 23/40 [01:09<00:36,  2.15s/it]\u001b[A\n",
      " 60%|██████    | 24/40 [01:11<00:31,  1.99s/it]\u001b[A\n",
      " 62%|██████▎   | 25/40 [01:13<00:29,  1.96s/it]\u001b[A\n",
      " 65%|██████▌   | 26/40 [01:14<00:26,  1.93s/it]\u001b[A\n",
      " 68%|██████▊   | 27/40 [01:16<00:22,  1.76s/it]\u001b[A\n",
      " 70%|███████   | 28/40 [01:17<00:18,  1.56s/it]\u001b[A\n",
      " 72%|███████▎  | 29/40 [01:18<00:16,  1.45s/it]\u001b[A\n",
      " 75%|███████▌  | 30/40 [01:19<00:13,  1.32s/it]\u001b[A\n",
      " 78%|███████▊  | 31/40 [01:20<00:11,  1.25s/it]\u001b[A\n",
      " 80%|████████  | 32/40 [01:21<00:09,  1.15s/it]\u001b[A\n",
      " 82%|████████▎ | 33/40 [01:22<00:07,  1.04s/it]\u001b[A\n",
      " 85%|████████▌ | 34/40 [01:23<00:05,  1.09it/s]\u001b[A\n",
      " 88%|████████▊ | 35/40 [01:23<00:04,  1.22it/s]\u001b[A\n",
      " 90%|█████████ | 36/40 [01:23<00:02,  1.47it/s]\u001b[A\n",
      " 92%|█████████▎| 37/40 [01:24<00:01,  1.76it/s]\u001b[A\n",
      "100%|██████████| 40/40 [01:24<00:00,  2.12s/it]\u001b[A\n",
      " 20%|██        | 21/103 [28:26<1:41:45, 74.46s/it]"
     ]
    },
    {
     "name": "stdout",
     "output_type": "stream",
     "text": [
      "Row(ct=17031841000, ca=33)\n"
     ]
    },
    {
     "name": "stderr",
     "output_type": "stream",
     "text": [
      "\n",
      "  0%|          | 0/27 [00:00<?, ?it/s]\u001b[A\n",
      "  4%|▎         | 1/27 [00:02<01:15,  2.92s/it]\u001b[A\n",
      "  7%|▋         | 2/27 [00:05<01:02,  2.51s/it]\u001b[A\n",
      " 11%|█         | 3/27 [00:07<00:58,  2.44s/it]\u001b[A\n",
      " 15%|█▍        | 4/27 [00:09<00:56,  2.46s/it]\u001b[A\n",
      " 19%|█▊        | 5/27 [00:11<00:50,  2.29s/it]\u001b[A\n",
      " 22%|██▏       | 6/27 [00:13<00:45,  2.16s/it]\u001b[A\n",
      " 26%|██▌       | 7/27 [00:15<00:41,  2.10s/it]\u001b[A\n",
      " 30%|██▉       | 8/27 [00:17<00:39,  2.10s/it]\u001b[A"
     ]
    },
    {
     "name": "stdout",
     "output_type": "stream",
     "text": [
      "extrasm_d_totalm_d 0.8213099702520827\n"
     ]
    },
    {
     "name": "stderr",
     "output_type": "stream",
     "text": [
      "\n",
      " 33%|███▎      | 9/27 [00:19<00:35,  1.98s/it]\u001b[A\n",
      " 37%|███▋      | 10/27 [00:27<01:04,  3.79s/it]\u001b[A\n",
      " 41%|████      | 11/27 [00:29<00:49,  3.12s/it]\u001b[A\n",
      " 44%|████▍     | 12/27 [00:30<00:39,  2.65s/it]\u001b[A\n",
      " 48%|████▊     | 13/27 [00:31<00:31,  2.23s/it]\u001b[A\n",
      " 52%|█████▏    | 14/27 [00:33<00:25,  1.95s/it]\u001b[A\n",
      " 56%|█████▌    | 15/27 [00:34<00:20,  1.69s/it]\u001b[A\n",
      " 59%|█████▉    | 16/27 [00:35<00:16,  1.50s/it]\u001b[A\n",
      " 63%|██████▎   | 17/27 [00:36<00:13,  1.31s/it]\u001b[A\n",
      " 67%|██████▋   | 18/27 [00:37<00:10,  1.20s/it]\u001b[A\n",
      " 70%|███████   | 19/27 [00:38<00:08,  1.08s/it]\u001b[A"
     ]
    },
    {
     "name": "stdout",
     "output_type": "stream",
     "text": [
      "trips_d_growth_4_to_3_velocity_d_growth_4_to_3 0.6919606738598953\n"
     ]
    },
    {
     "name": "stderr",
     "output_type": "stream",
     "text": [
      "\n",
      " 74%|███████▍  | 20/27 [00:38<00:07,  1.03s/it]\u001b[A\n",
      " 78%|███████▊  | 21/27 [00:39<00:05,  1.04it/s]\u001b[A\n",
      " 81%|████████▏ | 22/27 [00:40<00:04,  1.19it/s]\u001b[A\n",
      " 85%|████████▌ | 23/27 [00:40<00:02,  1.47it/s]\u001b[A\n",
      " 89%|████████▉ | 24/27 [00:40<00:01,  1.81it/s]\u001b[A\n",
      "100%|██████████| 27/27 [00:41<00:00,  1.52s/it]\u001b[A\n",
      " 21%|██▏       | 22/103 [29:08<1:27:08, 64.55s/it]"
     ]
    },
    {
     "name": "stdout",
     "output_type": "stream",
     "text": [
      "Row(ct=17031832900, ca=43)\n"
     ]
    },
    {
     "name": "stderr",
     "output_type": "stream",
     "text": [
      "\n",
      "  0%|          | 0/39 [00:00<?, ?it/s]\u001b[A\n",
      "  3%|▎         | 1/39 [00:04<03:09,  4.99s/it]\u001b[A\n",
      "  5%|▌         | 2/39 [00:08<02:38,  4.29s/it]\u001b[A\n",
      "  8%|▊         | 3/39 [00:12<02:21,  3.94s/it]\u001b[A\n",
      " 10%|█         | 4/39 [00:15<02:11,  3.76s/it]\u001b[A\n",
      " 13%|█▎        | 5/39 [00:19<02:03,  3.64s/it]\u001b[A\n",
      " 15%|█▌        | 6/39 [00:22<01:54,  3.46s/it]\u001b[A"
     ]
    },
    {
     "name": "stdout",
     "output_type": "stream",
     "text": [
      "comp2_p_comp2_d 0.6549666482081544\n"
     ]
    },
    {
     "name": "stderr",
     "output_type": "stream",
     "text": [
      "\n",
      " 18%|█▊        | 7/39 [00:25<01:48,  3.38s/it]\u001b[A\n",
      " 21%|██        | 8/39 [00:28<01:43,  3.33s/it]\u001b[A\n",
      " 23%|██▎       | 9/39 [00:31<01:35,  3.20s/it]\u001b[A\n",
      " 26%|██▌       | 10/39 [00:34<01:28,  3.07s/it]\u001b[A\n",
      " 28%|██▊       | 11/39 [00:37<01:24,  3.03s/it]\u001b[A\n",
      " 31%|███       | 12/39 [00:39<01:17,  2.87s/it]\u001b[A\n",
      " 33%|███▎      | 13/39 [00:42<01:12,  2.79s/it]\u001b[A\n",
      " 36%|███▌      | 14/39 [00:44<01:06,  2.64s/it]\u001b[A\n",
      " 38%|███▊      | 15/39 [00:47<01:03,  2.65s/it]\u001b[A\n",
      " 41%|████      | 16/39 [00:49<00:57,  2.50s/it]\u001b[A\n",
      " 44%|████▎     | 17/39 [00:51<00:52,  2.37s/it]\u001b[A\n",
      " 46%|████▌     | 18/39 [00:53<00:47,  2.27s/it]\u001b[A\n",
      " 49%|████▊     | 19/39 [00:55<00:43,  2.20s/it]\u001b[A\n",
      " 51%|█████▏    | 20/39 [00:57<00:39,  2.08s/it]\u001b[A\n",
      " 54%|█████▍    | 21/39 [00:59<00:36,  2.01s/it]\u001b[A\n",
      " 56%|█████▋    | 22/39 [01:01<00:32,  1.89s/it]\u001b[A\n",
      " 59%|█████▉    | 23/39 [01:02<00:27,  1.74s/it]\u001b[A\n",
      " 62%|██████▏   | 24/39 [01:03<00:24,  1.63s/it]\u001b[A\n",
      " 64%|██████▍   | 25/39 [01:05<00:21,  1.51s/it]\u001b[A\n",
      " 67%|██████▋   | 26/39 [01:06<00:19,  1.52s/it]\u001b[A\n",
      " 69%|██████▉   | 27/39 [01:07<00:17,  1.43s/it]\u001b[A\n",
      " 72%|███████▏  | 28/39 [01:08<00:14,  1.36s/it]\u001b[A\n",
      " 74%|███████▍  | 29/39 [01:09<00:12,  1.24s/it]\u001b[A\n",
      " 77%|███████▋  | 30/39 [01:10<00:09,  1.11s/it]\u001b[A\n",
      " 79%|███████▉  | 31/39 [01:11<00:07,  1.01it/s]\u001b[A\n",
      " 82%|████████▏ | 32/39 [01:12<00:06,  1.10it/s]\u001b[A\n",
      " 85%|████████▍ | 33/39 [01:12<00:04,  1.20it/s]\u001b[A\n",
      " 87%|████████▋ | 34/39 [01:13<00:03,  1.38it/s]\u001b[A\n",
      " 90%|████████▉ | 35/39 [01:13<00:02,  1.55it/s]\u001b[A\n",
      " 92%|█████████▏| 36/39 [01:14<00:01,  1.91it/s]\u001b[A\n",
      " 95%|█████████▍| 37/39 [01:14<00:00,  2.39it/s]\u001b[A\n",
      "100%|██████████| 39/39 [01:14<00:00,  1.90s/it]\u001b[A\n",
      " 22%|██▏       | 23/103 [30:22<1:30:04, 67.56s/it]"
     ]
    },
    {
     "name": "stdout",
     "output_type": "stream",
     "text": [
      "Row(ct=17031081300, ca=8)\n"
     ]
    },
    {
     "name": "stderr",
     "output_type": "stream",
     "text": [
      "\n",
      "  0%|          | 0/34 [00:00<?, ?it/s]\u001b[A\n",
      "  3%|▎         | 1/34 [00:03<02:06,  3.84s/it]\u001b[A\n",
      "  6%|▌         | 2/34 [00:06<01:49,  3.42s/it]\u001b[A\n",
      "  9%|▉         | 3/34 [00:09<01:38,  3.16s/it]\u001b[A\n",
      " 12%|█▏        | 4/34 [00:13<01:36,  3.23s/it]\u001b[A\n",
      " 15%|█▍        | 5/34 [00:15<01:29,  3.08s/it]\u001b[A\n",
      " 18%|█▊        | 6/34 [00:18<01:21,  2.92s/it]\u001b[A\n",
      " 21%|██        | 7/34 [00:21<01:17,  2.86s/it]\u001b[A\n",
      " 24%|██▎       | 8/34 [00:24<01:13,  2.82s/it]\u001b[A\n",
      " 26%|██▋       | 9/34 [00:26<01:06,  2.65s/it]\u001b[A\n",
      " 29%|██▉       | 10/34 [00:28<01:02,  2.62s/it]\u001b[A\n",
      " 32%|███▏      | 11/34 [00:31<00:57,  2.50s/it]\u001b[A"
     ]
    },
    {
     "name": "stdout",
     "output_type": "stream",
     "text": [
      "extrasm_d_totalm_d 0.7167955074797207\n"
     ]
    },
    {
     "name": "stderr",
     "output_type": "stream",
     "text": [
      "\n",
      " 35%|███▌      | 12/34 [00:33<00:51,  2.36s/it]\u001b[A\n",
      " 38%|███▊      | 13/34 [00:35<00:48,  2.33s/it]\u001b[A\n",
      " 41%|████      | 14/34 [00:37<00:44,  2.21s/it]\u001b[A\n",
      " 44%|████▍     | 15/34 [00:39<00:39,  2.09s/it]\u001b[A\n",
      " 47%|████▋     | 16/34 [00:41<00:37,  2.10s/it]\u001b[A\n",
      " 50%|█████     | 17/34 [00:42<00:33,  1.96s/it]\u001b[A\n",
      " 53%|█████▎    | 18/34 [00:44<00:29,  1.84s/it]\u001b[A\n",
      " 56%|█████▌    | 19/34 [00:45<00:25,  1.73s/it]\u001b[A\n",
      " 59%|█████▉    | 20/34 [00:47<00:23,  1.65s/it]\u001b[A\n",
      " 62%|██████▏   | 21/34 [00:48<00:19,  1.51s/it]\u001b[A\n",
      " 65%|██████▍   | 22/34 [00:49<00:17,  1.43s/it]\u001b[A\n",
      " 68%|██████▊   | 23/34 [00:50<00:14,  1.35s/it]\u001b[A\n",
      " 71%|███████   | 24/34 [00:52<00:12,  1.29s/it]\u001b[A\n",
      " 74%|███████▎  | 25/34 [00:53<00:11,  1.25s/it]\u001b[A\n",
      " 76%|███████▋  | 26/34 [00:54<00:09,  1.18s/it]\u001b[A\n",
      " 79%|███████▉  | 27/34 [00:54<00:07,  1.02s/it]\u001b[A\n",
      " 82%|████████▏ | 28/34 [00:55<00:05,  1.14it/s]\u001b[A\n",
      " 85%|████████▌ | 29/34 [00:55<00:03,  1.33it/s]\u001b[A\n",
      " 88%|████████▊ | 30/34 [00:56<00:02,  1.59it/s]\u001b[A\n",
      " 91%|█████████ | 31/34 [00:56<00:01,  1.96it/s]\u001b[A\n",
      "100%|██████████| 34/34 [00:56<00:00,  1.67s/it]\u001b[A\n",
      " 23%|██▎       | 24/103 [31:20<1:24:50, 64.43s/it]"
     ]
    },
    {
     "name": "stdout",
     "output_type": "stream",
     "text": [
      "Row(ct=17031020602, ca=18)\n"
     ]
    },
    {
     "name": "stderr",
     "output_type": "stream",
     "text": [
      "\n",
      "  0%|          | 0/33 [00:00<?, ?it/s]\u001b[A\n",
      "  3%|▎         | 1/33 [00:03<01:58,  3.71s/it]\u001b[A\n",
      "  6%|▌         | 2/33 [00:06<01:44,  3.36s/it]\u001b[A\n",
      "  9%|▉         | 3/33 [00:09<01:36,  3.21s/it]\u001b[A\n",
      " 12%|█▏        | 4/33 [00:14<01:45,  3.64s/it]\u001b[A"
     ]
    },
    {
     "name": "stdout",
     "output_type": "stream",
     "text": [
      "extrasm_p_totalm_p 0.9981310468666816\n"
     ]
    },
    {
     "name": "stderr",
     "output_type": "stream",
     "text": [
      "\n",
      " 15%|█▌        | 5/33 [00:17<01:39,  3.54s/it]\u001b[A\n",
      " 18%|█▊        | 6/33 [00:20<01:26,  3.21s/it]\u001b[A\n",
      " 21%|██        | 7/33 [00:22<01:18,  3.01s/it]\u001b[A\n",
      " 24%|██▍       | 8/33 [00:25<01:10,  2.80s/it]\u001b[A"
     ]
    },
    {
     "name": "stdout",
     "output_type": "stream",
     "text": [
      "comp3_p_comp3_d 0.9046554900884565\n"
     ]
    },
    {
     "name": "stderr",
     "output_type": "stream",
     "text": [
      "\n",
      " 27%|██▋       | 9/33 [00:27<01:06,  2.78s/it]\u001b[A\n",
      " 30%|███       | 10/33 [00:29<00:59,  2.60s/it]\u001b[A\n",
      " 33%|███▎      | 11/33 [00:31<00:53,  2.42s/it]\u001b[A\n",
      " 36%|███▋      | 12/33 [00:34<00:50,  2.38s/it]\u001b[A\n",
      " 39%|███▉      | 13/33 [00:36<00:44,  2.25s/it]\u001b[A\n",
      " 42%|████▏     | 14/33 [00:38<00:40,  2.14s/it]\u001b[A\n",
      " 45%|████▌     | 15/33 [00:39<00:36,  2.04s/it]\u001b[A\n",
      " 48%|████▊     | 16/33 [00:41<00:31,  1.88s/it]\u001b[A\n",
      " 52%|█████▏    | 17/33 [00:43<00:33,  2.08s/it]\u001b[A\n",
      " 55%|█████▍    | 18/33 [00:46<00:34,  2.33s/it]\u001b[A\n",
      " 58%|█████▊    | 19/33 [00:48<00:28,  2.02s/it]\u001b[A\n",
      " 61%|██████    | 20/33 [00:49<00:23,  1.77s/it]\u001b[A\n",
      " 64%|██████▎   | 21/33 [00:50<00:18,  1.58s/it]\u001b[A\n",
      " 67%|██████▋   | 22/33 [00:51<00:15,  1.43s/it]\u001b[A\n",
      " 70%|██████▉   | 23/33 [00:52<00:13,  1.30s/it]\u001b[A\n",
      " 73%|███████▎  | 24/33 [00:53<00:10,  1.16s/it]\u001b[A\n",
      " 76%|███████▌  | 25/33 [00:54<00:08,  1.07s/it]\u001b[A\n",
      " 79%|███████▉  | 26/33 [00:55<00:06,  1.02it/s]\u001b[A\n",
      " 82%|████████▏ | 27/33 [00:55<00:05,  1.15it/s]\u001b[A\n",
      " 85%|████████▍ | 28/33 [00:56<00:03,  1.31it/s]\u001b[A\n",
      " 88%|████████▊ | 29/33 [00:56<00:02,  1.50it/s]\u001b[A\n",
      " 91%|█████████ | 30/33 [00:56<00:01,  1.80it/s]\u001b[A\n",
      " 94%|█████████▍| 31/33 [00:57<00:00,  2.13it/s]\u001b[A\n",
      "100%|██████████| 33/33 [00:57<00:00,  1.74s/it]\u001b[A\n",
      " 24%|██▍       | 25/103 [32:17<1:21:06, 62.39s/it]"
     ]
    },
    {
     "name": "stdout",
     "output_type": "stream",
     "text": [
      "Row(ct=17031030500, ca=28)\n"
     ]
    },
    {
     "name": "stderr",
     "output_type": "stream",
     "text": [
      "\n",
      "  0%|          | 0/35 [00:00<?, ?it/s]\u001b[A\n",
      "  3%|▎         | 1/35 [00:04<02:19,  4.11s/it]\u001b[A\n",
      "  6%|▌         | 2/35 [00:07<02:01,  3.69s/it]\u001b[A\n",
      "  9%|▊         | 3/35 [00:10<01:48,  3.40s/it]\u001b[A"
     ]
    },
    {
     "name": "stdout",
     "output_type": "stream",
     "text": [
      "extrasm_p_totalm_p 0.6666336523940393\n",
      "extrasm_p_velocity_p_growth_2_to_1 -0.6667115750336172\n"
     ]
    },
    {
     "name": "stderr",
     "output_type": "stream",
     "text": [
      "\n",
      " 11%|█▏        | 4/35 [00:13<01:40,  3.23s/it]\u001b[A"
     ]
    },
    {
     "name": "stdout",
     "output_type": "stream",
     "text": [
      "totalm_p_velocity_p_growth_2_to_1 -0.9273020926000474\n"
     ]
    },
    {
     "name": "stderr",
     "output_type": "stream",
     "text": [
      "\n",
      " 14%|█▍        | 5/35 [00:16<01:32,  3.08s/it]\u001b[A\n",
      " 17%|█▋        | 6/35 [00:19<01:29,  3.10s/it]\u001b[A\n",
      " 20%|██        | 7/35 [00:22<01:21,  2.92s/it]\u001b[A\n",
      " 23%|██▎       | 8/35 [00:24<01:15,  2.79s/it]\u001b[A"
     ]
    },
    {
     "name": "stdout",
     "output_type": "stream",
     "text": [
      "tipsm_d_extrasm_d 0.7933740253789856\n",
      "tipsm_d_totalm_d 0.8826152837445794\n"
     ]
    },
    {
     "name": "stderr",
     "output_type": "stream",
     "text": [
      "\n",
      " 26%|██▌       | 9/35 [00:27<01:11,  2.76s/it]\u001b[A\n",
      " 29%|██▊       | 10/35 [00:29<01:06,  2.67s/it]\u001b[A"
     ]
    },
    {
     "name": "stdout",
     "output_type": "stream",
     "text": [
      "extrasm_d_totalm_d 0.8838390284601548\n"
     ]
    },
    {
     "name": "stderr",
     "output_type": "stream",
     "text": [
      "\n",
      " 31%|███▏      | 11/35 [00:32<01:01,  2.57s/it]\u001b[A\n",
      " 34%|███▍      | 12/35 [00:34<00:56,  2.45s/it]\u001b[A\n",
      " 37%|███▋      | 13/35 [00:36<00:51,  2.34s/it]\u001b[A\n",
      " 40%|████      | 14/35 [00:38<00:48,  2.31s/it]\u001b[A\n",
      " 43%|████▎     | 15/35 [00:40<00:43,  2.19s/it]\u001b[A\n",
      " 46%|████▌     | 16/35 [00:42<00:38,  2.04s/it]\u001b[A\n",
      " 49%|████▊     | 17/35 [00:43<00:35,  1.98s/it]\u001b[A\n",
      " 51%|█████▏    | 18/35 [00:45<00:31,  1.84s/it]\u001b[A\n",
      " 54%|█████▍    | 19/35 [00:47<00:29,  1.81s/it]\u001b[A\n",
      " 57%|█████▋    | 20/35 [00:48<00:25,  1.69s/it]\u001b[A\n",
      " 60%|██████    | 21/35 [00:50<00:22,  1.61s/it]\u001b[A\n",
      " 63%|██████▎   | 22/35 [00:51<00:19,  1.49s/it]\u001b[A\n",
      " 66%|██████▌   | 23/35 [00:52<00:16,  1.35s/it]\u001b[A\n",
      " 69%|██████▊   | 24/35 [00:53<00:13,  1.23s/it]\u001b[A\n",
      " 71%|███████▏  | 25/35 [00:54<00:11,  1.14s/it]\u001b[A\n",
      " 74%|███████▍  | 26/35 [00:55<00:09,  1.04s/it]\u001b[A\n",
      " 77%|███████▋  | 27/35 [00:56<00:08,  1.04s/it]\u001b[A\n",
      " 80%|████████  | 28/35 [00:56<00:06,  1.03it/s]\u001b[A\n",
      " 83%|████████▎ | 29/35 [00:57<00:05,  1.15it/s]\u001b[A\n",
      " 86%|████████▌ | 30/35 [00:58<00:03,  1.31it/s]\u001b[A\n",
      " 89%|████████▊ | 31/35 [00:58<00:02,  1.56it/s]\u001b[A\n",
      " 91%|█████████▏| 32/35 [00:58<00:01,  1.76it/s]\u001b[A\n",
      "100%|██████████| 35/35 [00:59<00:00,  1.69s/it]\u001b[A\n",
      " 25%|██▌       | 26/103 [33:17<1:19:01, 61.57s/it]"
     ]
    },
    {
     "name": "stdout",
     "output_type": "stream",
     "text": [
      "Row(ct=17031140301, ca=22)\n"
     ]
    },
    {
     "name": "stderr",
     "output_type": "stream",
     "text": [
      "\n",
      "  0%|          | 0/39 [00:00<?, ?it/s]\u001b[A\n",
      "  3%|▎         | 1/39 [00:03<02:25,  3.82s/it]\u001b[A\n",
      "  5%|▌         | 2/39 [00:07<02:16,  3.69s/it]\u001b[A\n",
      "  8%|▊         | 3/39 [00:10<02:10,  3.63s/it]\u001b[A"
     ]
    },
    {
     "name": "stdout",
     "output_type": "stream",
     "text": [
      "extrasm_p_totalm_p 0.7083341250663737\n"
     ]
    },
    {
     "name": "stderr",
     "output_type": "stream",
     "text": [
      "\n",
      " 10%|█         | 4/39 [00:14<02:02,  3.50s/it]\u001b[A\n",
      " 13%|█▎        | 5/39 [00:18<02:01,  3.59s/it]\u001b[A\n",
      " 15%|█▌        | 6/39 [00:21<01:53,  3.43s/it]\u001b[A\n",
      " 18%|█▊        | 7/39 [00:24<01:47,  3.35s/it]\u001b[A\n",
      " 21%|██        | 8/39 [00:27<01:42,  3.32s/it]\u001b[A\n",
      " 23%|██▎       | 9/39 [00:30<01:35,  3.20s/it]\u001b[A\n",
      " 26%|██▌       | 10/39 [00:33<01:28,  3.04s/it]\u001b[A\n",
      " 28%|██▊       | 11/39 [00:36<01:25,  3.04s/it]\u001b[A\n",
      " 31%|███       | 12/39 [00:38<01:18,  2.93s/it]\u001b[A"
     ]
    },
    {
     "name": "stdout",
     "output_type": "stream",
     "text": [
      "tipsm_d_totalm_d 0.9614274319894744\n"
     ]
    },
    {
     "name": "stderr",
     "output_type": "stream",
     "text": [
      "\n",
      " 33%|███▎      | 13/39 [00:41<01:14,  2.87s/it]\u001b[A\n",
      " 36%|███▌      | 14/39 [00:44<01:08,  2.72s/it]\u001b[A\n",
      " 38%|███▊      | 15/39 [00:46<01:04,  2.69s/it]\u001b[A\n",
      " 41%|████      | 16/39 [00:49<01:00,  2.64s/it]\u001b[A\n",
      " 44%|████▎     | 17/39 [00:51<00:53,  2.41s/it]\u001b[A\n",
      " 46%|████▌     | 18/39 [00:53<00:51,  2.47s/it]\u001b[A\n",
      " 49%|████▊     | 19/39 [00:55<00:45,  2.29s/it]\u001b[A\n",
      " 51%|█████▏    | 20/39 [00:57<00:42,  2.22s/it]\u001b[A\n",
      " 54%|█████▍    | 21/39 [00:59<00:37,  2.10s/it]\u001b[A\n",
      " 56%|█████▋    | 22/39 [01:01<00:33,  1.95s/it]\u001b[A\n",
      " 59%|█████▉    | 23/39 [01:02<00:28,  1.79s/it]\u001b[A\n",
      " 62%|██████▏   | 24/39 [01:04<00:28,  1.90s/it]\u001b[A\n",
      " 64%|██████▍   | 25/39 [01:07<00:30,  2.15s/it]\u001b[A\n",
      " 67%|██████▋   | 26/39 [01:09<00:26,  2.02s/it]\u001b[A\n",
      " 69%|██████▉   | 27/39 [01:10<00:22,  1.91s/it]\u001b[A\n",
      " 72%|███████▏  | 28/39 [01:11<00:18,  1.68s/it]\u001b[A\n",
      " 74%|███████▍  | 29/39 [01:12<00:14,  1.44s/it]\u001b[A\n",
      " 77%|███████▋  | 30/39 [01:13<00:11,  1.24s/it]\u001b[A\n",
      " 79%|███████▉  | 31/39 [01:14<00:08,  1.12s/it]\u001b[A\n",
      " 82%|████████▏ | 32/39 [01:14<00:06,  1.04it/s]\u001b[A\n",
      " 85%|████████▍ | 33/39 [01:15<00:05,  1.18it/s]\u001b[A\n",
      " 87%|████████▋ | 34/39 [01:15<00:03,  1.35it/s]\u001b[A\n",
      " 90%|████████▉ | 35/39 [01:16<00:02,  1.54it/s]\u001b[A\n",
      " 92%|█████████▏| 36/39 [01:16<00:01,  1.71it/s]\u001b[A\n",
      " 95%|█████████▍| 37/39 [01:17<00:01,  1.99it/s]\u001b[A\n",
      "100%|██████████| 39/39 [01:17<00:00,  1.98s/it]\u001b[A\n",
      " 26%|██▌       | 27/103 [34:35<1:24:06, 66.40s/it]"
     ]
    },
    {
     "name": "stdout",
     "output_type": "stream",
     "text": [
      "Row(ct=17031081700, ca=8)\n"
     ]
    },
    {
     "name": "stderr",
     "output_type": "stream",
     "text": [
      "\n",
      "  0%|          | 0/33 [00:00<?, ?it/s]\u001b[A\n",
      "  3%|▎         | 1/33 [00:06<03:25,  6.41s/it]\u001b[A\n",
      "  6%|▌         | 2/33 [00:09<02:21,  4.56s/it]\u001b[A\n",
      "  9%|▉         | 3/33 [00:12<01:58,  3.95s/it]\u001b[A\n",
      " 12%|█▏        | 4/33 [00:15<01:42,  3.52s/it]\u001b[A\n",
      " 15%|█▌        | 5/33 [00:19<01:36,  3.44s/it]\u001b[A\n",
      " 18%|█▊        | 6/33 [00:22<01:30,  3.37s/it]\u001b[A\n",
      " 21%|██        | 7/33 [00:25<01:28,  3.39s/it]\u001b[A\n",
      " 24%|██▍       | 8/33 [00:27<01:15,  3.01s/it]\u001b[A\n",
      " 27%|██▋       | 9/33 [00:30<01:09,  2.90s/it]\u001b[A\n",
      " 30%|███       | 10/33 [00:32<01:01,  2.67s/it]\u001b[A\n",
      " 33%|███▎      | 11/33 [00:34<00:54,  2.48s/it]\u001b[A\n",
      " 36%|███▋      | 12/33 [00:36<00:49,  2.35s/it]\u001b[A\n",
      " 39%|███▉      | 13/33 [00:38<00:45,  2.27s/it]\u001b[A\n",
      " 42%|████▏     | 14/33 [00:41<00:42,  2.25s/it]\u001b[A\n",
      " 45%|████▌     | 15/33 [00:43<00:38,  2.16s/it]\u001b[A\n",
      " 48%|████▊     | 16/33 [00:44<00:33,  1.97s/it]\u001b[A\n",
      " 52%|█████▏    | 17/33 [00:46<00:29,  1.81s/it]\u001b[A\n",
      " 55%|█████▍    | 18/33 [00:47<00:25,  1.70s/it]\u001b[A\n",
      " 58%|█████▊    | 19/33 [00:49<00:23,  1.65s/it]\u001b[A\n",
      " 61%|██████    | 20/33 [00:50<00:20,  1.61s/it]\u001b[A\n",
      " 64%|██████▎   | 21/33 [00:51<00:17,  1.43s/it]\u001b[A\n",
      " 67%|██████▋   | 22/33 [00:52<00:14,  1.31s/it]\u001b[A\n",
      " 70%|██████▉   | 23/33 [00:53<00:11,  1.16s/it]\u001b[A\n",
      " 73%|███████▎  | 24/33 [00:54<00:09,  1.07s/it]\u001b[A\n",
      " 76%|███████▌  | 25/33 [00:55<00:07,  1.02it/s]\u001b[A\n",
      " 79%|███████▉  | 26/33 [00:55<00:06,  1.13it/s]\u001b[A\n",
      " 82%|████████▏ | 27/33 [00:56<00:04,  1.25it/s]\u001b[A\n",
      " 85%|████████▍ | 28/33 [00:56<00:03,  1.45it/s]\u001b[A\n",
      " 88%|████████▊ | 29/33 [00:57<00:02,  1.75it/s]\u001b[A\n",
      " 91%|█████████ | 30/33 [00:57<00:01,  2.09it/s]\u001b[A\n",
      " 94%|█████████▍| 31/33 [00:57<00:00,  2.57it/s]\u001b[A\n",
      "100%|██████████| 33/33 [00:57<00:00,  1.74s/it]\u001b[A\n",
      " 27%|██▋       | 28/103 [35:33<1:19:56, 63.96s/it]"
     ]
    },
    {
     "name": "stdout",
     "output_type": "stream",
     "text": [
      "Row(ct=12000000011, ca=77)\n"
     ]
    },
    {
     "name": "stderr",
     "output_type": "stream",
     "text": [
      "\n",
      "  0%|          | 0/38 [00:00<?, ?it/s]\u001b[A\n",
      "  3%|▎         | 1/38 [00:04<02:30,  4.08s/it]\u001b[A\n",
      "  5%|▌         | 2/38 [00:07<02:07,  3.55s/it]\u001b[A"
     ]
    },
    {
     "name": "stdout",
     "output_type": "stream",
     "text": [
      "tollsm_p_tollsm_d 0.9808856935043567\n"
     ]
    },
    {
     "name": "stderr",
     "output_type": "stream",
     "text": [
      "\n",
      "  8%|▊         | 3/38 [00:11<02:08,  3.68s/it]\u001b[A\n",
      " 11%|█         | 4/38 [00:14<01:55,  3.40s/it]\u001b[A\n",
      " 13%|█▎        | 5/38 [00:17<01:47,  3.27s/it]\u001b[A\n",
      " 16%|█▌        | 6/38 [00:20<01:41,  3.18s/it]\u001b[A\n",
      " 18%|█▊        | 7/38 [00:23<01:42,  3.30s/it]\u001b[A\n",
      " 21%|██        | 8/38 [00:26<01:33,  3.11s/it]\u001b[A\n",
      " 24%|██▎       | 9/38 [00:29<01:29,  3.07s/it]\u001b[A\n",
      " 26%|██▋       | 10/38 [00:32<01:24,  3.01s/it]\u001b[A\n",
      " 29%|██▉       | 11/38 [00:34<01:16,  2.83s/it]\u001b[A\n",
      " 32%|███▏      | 12/38 [00:37<01:10,  2.73s/it]\u001b[A\n",
      " 34%|███▍      | 13/38 [00:39<01:04,  2.58s/it]\u001b[A\n",
      " 37%|███▋      | 14/38 [00:42<01:02,  2.60s/it]\u001b[A\n",
      " 39%|███▉      | 15/38 [00:44<00:56,  2.47s/it]\u001b[A\n",
      " 42%|████▏     | 16/38 [00:46<00:51,  2.35s/it]\u001b[A\n",
      " 45%|████▍     | 17/38 [00:48<00:47,  2.27s/it]\u001b[A\n",
      " 47%|████▋     | 18/38 [00:50<00:44,  2.22s/it]\u001b[A\n",
      " 50%|█████     | 19/38 [00:52<00:41,  2.18s/it]\u001b[A\n",
      " 53%|█████▎    | 20/38 [00:54<00:38,  2.15s/it]\u001b[A\n",
      " 55%|█████▌    | 21/38 [00:56<00:33,  1.97s/it]\u001b[A\n",
      " 58%|█████▊    | 22/38 [00:57<00:30,  1.88s/it]\u001b[A\n",
      " 61%|██████    | 23/38 [00:59<00:26,  1.74s/it]\u001b[A\n",
      " 63%|██████▎   | 24/38 [01:00<00:24,  1.73s/it]\u001b[A\n",
      " 66%|██████▌   | 25/38 [01:02<00:20,  1.56s/it]\u001b[A\n",
      " 68%|██████▊   | 26/38 [01:03<00:17,  1.45s/it]\u001b[A\n",
      " 71%|███████   | 27/38 [01:04<00:14,  1.32s/it]\u001b[A\n",
      " 74%|███████▎  | 28/38 [01:05<00:11,  1.19s/it]\u001b[A\n",
      " 76%|███████▋  | 29/38 [01:06<00:09,  1.09s/it]\u001b[A\n",
      " 79%|███████▉  | 30/38 [01:06<00:08,  1.00s/it]\u001b[A\n",
      " 82%|████████▏ | 31/38 [01:07<00:06,  1.13it/s]\u001b[A\n",
      " 84%|████████▍ | 32/38 [01:08<00:04,  1.27it/s]\u001b[A\n",
      " 87%|████████▋ | 33/38 [01:08<00:03,  1.47it/s]\u001b[A\n",
      " 89%|████████▉ | 34/38 [01:08<00:02,  1.70it/s]\u001b[A\n",
      " 92%|█████████▏| 35/38 [01:09<00:01,  2.06it/s]\u001b[A\n",
      " 95%|█████████▍| 36/38 [01:09<00:00,  2.56it/s]\u001b[A\n",
      "100%|██████████| 38/38 [01:09<00:00,  1.82s/it]\u001b[A\n",
      " 28%|██▊       | 29/103 [36:42<1:20:58, 65.66s/it]"
     ]
    },
    {
     "name": "stdout",
     "output_type": "stream",
     "text": [
      "Row(ct=17031120200, ca=32)\n"
     ]
    },
    {
     "name": "stderr",
     "output_type": "stream",
     "text": [
      "\n",
      "  0%|          | 0/34 [00:00<?, ?it/s]\u001b[A\n",
      "  3%|▎         | 1/34 [00:04<02:40,  4.87s/it]\u001b[A\n",
      "  6%|▌         | 2/34 [00:07<01:56,  3.64s/it]\u001b[A\n",
      "  9%|▉         | 3/34 [00:10<01:46,  3.44s/it]\u001b[A\n",
      " 12%|█▏        | 4/34 [00:14<01:49,  3.65s/it]\u001b[A"
     ]
    },
    {
     "name": "stdout",
     "output_type": "stream",
     "text": [
      "totalm_p_velocity_p_growth_2_to_1 -0.6630857812227657\n"
     ]
    },
    {
     "name": "stderr",
     "output_type": "stream",
     "text": [
      "\n",
      " 15%|█▍        | 5/34 [00:17<01:34,  3.24s/it]\u001b[A\n",
      " 18%|█▊        | 6/34 [00:20<01:26,  3.10s/it]\u001b[A\n",
      " 21%|██        | 7/34 [00:22<01:19,  2.95s/it]\u001b[A\n",
      " 24%|██▎       | 8/34 [00:25<01:10,  2.73s/it]\u001b[A\n",
      " 26%|██▋       | 9/34 [00:27<01:04,  2.56s/it]\u001b[A\n",
      " 29%|██▉       | 10/34 [00:29<00:59,  2.48s/it]\u001b[A\n",
      " 32%|███▏      | 11/34 [00:31<00:53,  2.31s/it]\u001b[A\n",
      " 35%|███▌      | 12/34 [00:33<00:49,  2.26s/it]\u001b[A\n",
      " 38%|███▊      | 13/34 [00:35<00:44,  2.13s/it]\u001b[A\n",
      " 41%|████      | 14/34 [00:37<00:39,  1.99s/it]\u001b[A\n",
      " 44%|████▍     | 15/34 [00:38<00:35,  1.86s/it]\u001b[A\n",
      " 47%|████▋     | 16/34 [00:40<00:31,  1.77s/it]\u001b[A\n",
      " 50%|█████     | 17/34 [00:41<00:29,  1.74s/it]\u001b[A\n",
      " 53%|█████▎    | 18/34 [00:43<00:26,  1.63s/it]\u001b[A\n",
      " 56%|█████▌    | 19/34 [00:44<00:23,  1.55s/it]\u001b[A\n",
      " 59%|█████▉    | 20/34 [00:45<00:20,  1.47s/it]\u001b[A\n",
      " 62%|██████▏   | 21/34 [00:47<00:18,  1.39s/it]\u001b[A\n",
      " 65%|██████▍   | 22/34 [00:48<00:15,  1.31s/it]\u001b[A\n",
      " 68%|██████▊   | 23/34 [00:49<00:12,  1.18s/it]\u001b[A\n",
      " 71%|███████   | 24/34 [00:50<00:10,  1.09s/it]\u001b[A\n",
      " 74%|███████▎  | 25/34 [00:50<00:09,  1.02s/it]\u001b[A\n",
      " 76%|███████▋  | 26/34 [00:51<00:08,  1.01s/it]\u001b[A\n",
      " 79%|███████▉  | 27/34 [00:52<00:06,  1.10it/s]\u001b[A\n",
      " 82%|████████▏ | 28/34 [00:53<00:04,  1.26it/s]\u001b[A\n",
      " 85%|████████▌ | 29/34 [00:53<00:03,  1.43it/s]\u001b[A\n",
      " 88%|████████▊ | 30/34 [00:53<00:02,  1.66it/s]\u001b[A\n",
      " 91%|█████████ | 31/34 [00:54<00:01,  1.90it/s]\u001b[A\n",
      "100%|██████████| 34/34 [00:54<00:00,  1.60s/it]\u001b[A\n",
      " 29%|██▉       | 30/103 [37:37<1:16:00, 62.47s/it]"
     ]
    },
    {
     "name": "stdout",
     "output_type": "stream",
     "text": [
      "Row(ct=17031231200, ca=33)\n"
     ]
    },
    {
     "name": "stderr",
     "output_type": "stream",
     "text": [
      "\n",
      "  0%|          | 0/41 [00:00<?, ?it/s]\u001b[A\n",
      "  2%|▏         | 1/41 [00:03<02:36,  3.92s/it]\u001b[A\n",
      "  5%|▍         | 2/41 [00:07<02:22,  3.65s/it]\u001b[A"
     ]
    },
    {
     "name": "stdout",
     "output_type": "stream",
     "text": [
      "tipsm_p_totalm_p 0.9838407039777199\n"
     ]
    },
    {
     "name": "stderr",
     "output_type": "stream",
     "text": [
      "\n",
      "  7%|▋         | 3/41 [00:10<02:15,  3.56s/it]\u001b[A\n",
      " 10%|▉         | 4/41 [00:14<02:06,  3.42s/it]\u001b[A\n",
      " 12%|█▏        | 5/41 [00:17<02:03,  3.42s/it]\u001b[A\n",
      " 15%|█▍        | 6/41 [00:20<01:55,  3.29s/it]\u001b[A\n",
      " 17%|█▋        | 7/41 [00:23<01:47,  3.17s/it]\u001b[A\n",
      " 20%|█▉        | 8/41 [00:26<01:42,  3.12s/it]\u001b[A\n",
      " 22%|██▏       | 9/41 [00:29<01:40,  3.13s/it]\u001b[A\n",
      " 24%|██▍       | 10/41 [00:32<01:31,  2.97s/it]\u001b[A\n",
      " 27%|██▋       | 11/41 [00:36<01:42,  3.42s/it]\u001b[A\n",
      " 29%|██▉       | 12/41 [00:39<01:33,  3.22s/it]\u001b[A\n",
      " 32%|███▏      | 13/41 [00:41<01:24,  3.00s/it]\u001b[A\n",
      " 34%|███▍      | 14/41 [00:44<01:16,  2.84s/it]\u001b[A\n",
      " 37%|███▋      | 15/41 [00:46<01:12,  2.78s/it]\u001b[A\n",
      " 39%|███▉      | 16/41 [00:49<01:06,  2.67s/it]\u001b[A\n",
      " 41%|████▏     | 17/41 [00:51<00:59,  2.48s/it]\u001b[A\n",
      " 44%|████▍     | 18/41 [00:53<00:53,  2.34s/it]\u001b[A\n",
      " 46%|████▋     | 19/41 [00:55<00:48,  2.22s/it]\u001b[A\n",
      " 49%|████▉     | 20/41 [00:57<00:45,  2.17s/it]\u001b[A\n",
      " 51%|█████     | 21/41 [00:59<00:41,  2.10s/it]\u001b[A\n",
      " 54%|█████▎    | 22/41 [01:00<00:36,  1.93s/it]\u001b[A\n",
      " 56%|█████▌    | 23/41 [01:02<00:32,  1.81s/it]\u001b[A\n",
      " 59%|█████▊    | 24/41 [01:03<00:29,  1.72s/it]\u001b[A\n",
      " 61%|██████    | 25/41 [01:05<00:27,  1.69s/it]\u001b[A\n",
      " 63%|██████▎   | 26/41 [01:07<00:24,  1.61s/it]\u001b[A\n",
      " 66%|██████▌   | 27/41 [01:08<00:21,  1.51s/it]\u001b[A\n",
      " 68%|██████▊   | 28/41 [01:09<00:18,  1.43s/it]\u001b[A\n",
      " 71%|███████   | 29/41 [01:10<00:16,  1.34s/it]\u001b[A\n",
      " 73%|███████▎  | 30/41 [01:11<00:13,  1.21s/it]\u001b[A\n",
      " 76%|███████▌  | 31/41 [01:12<00:11,  1.11s/it]\u001b[A\n",
      " 78%|███████▊  | 32/41 [01:13<00:09,  1.01s/it]\u001b[A\n",
      " 80%|████████  | 33/41 [01:13<00:07,  1.09it/s]\u001b[A\n",
      " 83%|████████▎ | 34/41 [01:14<00:05,  1.18it/s]\u001b[A\n",
      " 85%|████████▌ | 35/41 [01:15<00:04,  1.35it/s]\u001b[A\n",
      " 88%|████████▊ | 36/41 [01:15<00:03,  1.52it/s]\u001b[A\n",
      " 90%|█████████ | 37/41 [01:16<00:02,  1.62it/s]\u001b[A\n",
      " 93%|█████████▎| 38/41 [01:16<00:01,  1.82it/s]\u001b[A\n",
      " 95%|█████████▌| 39/41 [01:16<00:00,  2.19it/s]\u001b[A\n",
      "100%|██████████| 41/41 [01:16<00:00,  1.88s/it]\u001b[A\n",
      " 30%|███       | 31/103 [38:55<1:20:16, 66.89s/it]"
     ]
    },
    {
     "name": "stdout",
     "output_type": "stream",
     "text": [
      "Row(ct=12000000045, ca=9)\n"
     ]
    },
    {
     "name": "stderr",
     "output_type": "stream",
     "text": [
      "\n",
      "  0%|          | 0/35 [00:00<?, ?it/s]\u001b[A\n",
      "  3%|▎         | 1/35 [00:03<01:57,  3.45s/it]\u001b[A\n",
      "  6%|▌         | 2/35 [00:06<01:42,  3.10s/it]\u001b[A\n",
      "  9%|▊         | 3/35 [00:09<01:37,  3.04s/it]\u001b[A\n",
      " 11%|█▏        | 4/35 [00:12<01:32,  2.97s/it]\u001b[A\n",
      " 14%|█▍        | 5/35 [00:14<01:24,  2.83s/it]\u001b[A\n",
      " 17%|█▋        | 6/35 [00:17<01:23,  2.88s/it]\u001b[A\n",
      " 20%|██        | 7/35 [00:21<01:26,  3.09s/it]\u001b[A\n",
      " 23%|██▎       | 8/35 [00:23<01:18,  2.90s/it]\u001b[A\n",
      " 26%|██▌       | 9/35 [00:26<01:11,  2.77s/it]\u001b[A\n",
      " 29%|██▊       | 10/35 [00:29<01:11,  2.86s/it]\u001b[A\n",
      " 31%|███▏      | 11/35 [00:33<01:20,  3.36s/it]\u001b[A\n",
      " 34%|███▍      | 12/35 [00:36<01:12,  3.14s/it]\u001b[A\n",
      " 37%|███▋      | 13/35 [00:39<01:06,  3.04s/it]\u001b[A\n",
      " 40%|████      | 14/35 [00:41<00:58,  2.81s/it]\u001b[A\n",
      " 43%|████▎     | 15/35 [00:43<00:50,  2.52s/it]\u001b[A\n",
      " 46%|████▌     | 16/35 [00:44<00:42,  2.26s/it]\u001b[A\n",
      " 49%|████▊     | 17/35 [00:48<00:46,  2.58s/it]\u001b[A\n",
      " 51%|█████▏    | 18/35 [00:51<00:49,  2.90s/it]\u001b[A\n",
      " 54%|█████▍    | 19/35 [00:53<00:39,  2.44s/it]\u001b[A\n",
      " 57%|█████▋    | 20/35 [00:54<00:32,  2.14s/it]\u001b[A\n",
      " 60%|██████    | 21/35 [00:55<00:26,  1.87s/it]\u001b[A\n",
      " 63%|██████▎   | 22/35 [00:57<00:22,  1.70s/it]\u001b[A\n",
      " 66%|██████▌   | 23/35 [00:58<00:17,  1.48s/it]\u001b[A\n",
      " 69%|██████▊   | 24/35 [00:59<00:15,  1.41s/it]\u001b[A\n",
      " 71%|███████▏  | 25/35 [01:00<00:13,  1.31s/it]\u001b[A\n"
     ]
    },
    {
     "name": "stdout",
     "output_type": "stream",
     "text": [
      "trips_d_growth_3_to_2_velocity_d_growth_3_to_2 0.9876159480717929\n"
     ]
    },
    {
     "name": "stderr",
     "output_type": "stream",
     "text": [
      " 74%|███████▍  | 26/35 [01:01<00:10,  1.20s/it]\u001b[A\n",
      " 77%|███████▋  | 27/35 [01:02<00:08,  1.05s/it]\u001b[A\n",
      " 80%|████████  | 28/35 [01:02<00:06,  1.08it/s]\u001b[A\n",
      " 83%|████████▎ | 29/35 [01:03<00:04,  1.25it/s]\u001b[A\n",
      " 86%|████████▌ | 30/35 [01:03<00:03,  1.47it/s]\u001b[A\n",
      " 89%|████████▊ | 31/35 [01:04<00:02,  1.68it/s]\u001b[A\n",
      " 91%|█████████▏| 32/35 [01:04<00:01,  2.03it/s]\u001b[A\n",
      "100%|██████████| 35/35 [01:04<00:00,  1.85s/it]\u001b[A\n",
      " 31%|███       | 32/103 [40:00<1:18:33, 66.39s/it]"
     ]
    },
    {
     "name": "stdout",
     "output_type": "stream",
     "text": [
      "Row(ct=17031834400, ca=12)\n"
     ]
    },
    {
     "name": "stderr",
     "output_type": "stream",
     "text": [
      "\n",
      "  0%|          | 0/37 [00:00<?, ?it/s]\u001b[A\n",
      "  3%|▎         | 1/37 [00:05<03:21,  5.61s/it]\u001b[A"
     ]
    },
    {
     "name": "stdout",
     "output_type": "stream",
     "text": [
      "miles_p_velocity_p 0.6540376146315061\n"
     ]
    },
    {
     "name": "stderr",
     "output_type": "stream",
     "text": [
      "\n",
      "  5%|▌         | 2/37 [00:09<02:31,  4.32s/it]\u001b[A\n",
      "  8%|▊         | 3/37 [00:12<02:09,  3.82s/it]\u001b[A\n",
      " 11%|█         | 4/37 [00:15<02:00,  3.64s/it]\u001b[A\n",
      " 14%|█▎        | 5/37 [00:18<01:46,  3.33s/it]\u001b[A\n",
      " 16%|█▌        | 6/37 [00:21<01:39,  3.22s/it]\u001b[A\n",
      " 19%|█▉        | 7/37 [00:24<01:30,  3.02s/it]\u001b[A\n",
      " 22%|██▏       | 8/37 [00:27<01:28,  3.05s/it]\u001b[A\n",
      " 24%|██▍       | 9/37 [00:29<01:23,  2.99s/it]\u001b[A\n",
      " 27%|██▋       | 10/37 [00:32<01:17,  2.87s/it]\u001b[A\n",
      " 30%|██▉       | 11/37 [00:35<01:11,  2.75s/it]\u001b[A\n",
      " 32%|███▏      | 12/37 [00:37<01:06,  2.65s/it]\u001b[A\n",
      " 35%|███▌      | 13/37 [00:39<01:01,  2.55s/it]\u001b[A\n",
      " 38%|███▊      | 14/37 [00:41<00:55,  2.42s/it]\u001b[A\n",
      " 41%|████      | 15/37 [00:43<00:50,  2.28s/it]\u001b[A\n",
      " 43%|████▎     | 16/37 [00:46<00:48,  2.30s/it]\u001b[A\n",
      " 46%|████▌     | 17/37 [00:48<00:43,  2.19s/it]\u001b[A\n",
      " 49%|████▊     | 18/37 [00:49<00:38,  2.03s/it]\u001b[A\n",
      " 51%|█████▏    | 19/37 [00:51<00:36,  2.02s/it]\u001b[A\n",
      " 54%|█████▍    | 20/37 [00:53<00:32,  1.89s/it]\u001b[A\n",
      " 57%|█████▋    | 21/37 [00:55<00:28,  1.81s/it]\u001b[A\n",
      " 59%|█████▉    | 22/37 [00:56<00:26,  1.78s/it]\u001b[A\n",
      " 62%|██████▏   | 23/37 [00:58<00:24,  1.74s/it]\u001b[A\n",
      " 65%|██████▍   | 24/37 [00:59<00:20,  1.56s/it]\u001b[A\n",
      " 68%|██████▊   | 25/37 [01:00<00:17,  1.44s/it]\u001b[A\n",
      " 70%|███████   | 26/37 [01:01<00:14,  1.30s/it]\u001b[A\n",
      " 73%|███████▎  | 27/37 [01:02<00:11,  1.18s/it]\u001b[A"
     ]
    },
    {
     "name": "stdout",
     "output_type": "stream",
     "text": [
      "trips_d_growth_2_to_1_velocity_d_growth_2_to_1 0.8342587664314173\n"
     ]
    },
    {
     "name": "stderr",
     "output_type": "stream",
     "text": [
      "\n",
      " 76%|███████▌  | 28/37 [01:03<00:09,  1.11s/it]\u001b[A\n",
      " 78%|███████▊  | 29/37 [01:04<00:09,  1.15s/it]\u001b[A\n",
      " 81%|████████  | 30/37 [01:05<00:08,  1.17s/it]\u001b[A\n",
      " 84%|████████▍ | 31/37 [01:06<00:06,  1.02s/it]\u001b[A\n",
      " 86%|████████▋ | 32/37 [01:07<00:04,  1.17it/s]\u001b[A\n",
      " 89%|████████▉ | 33/37 [01:07<00:02,  1.43it/s]\u001b[A\n",
      " 92%|█████████▏| 34/37 [01:07<00:01,  1.66it/s]\u001b[A\n",
      " 95%|█████████▍| 35/37 [01:08<00:01,  1.88it/s]\u001b[A\n",
      "100%|██████████| 37/37 [01:08<00:00,  1.85s/it]\u001b[A\n",
      " 32%|███▏      | 33/103 [41:09<1:18:20, 67.15s/it]"
     ]
    },
    {
     "name": "stdout",
     "output_type": "stream",
     "text": [
      "Row(ct=17031081402, ca=8)\n"
     ]
    },
    {
     "name": "stderr",
     "output_type": "stream",
     "text": [
      "\n",
      "  0%|          | 0/34 [00:00<?, ?it/s]\u001b[A\n",
      "  3%|▎         | 1/34 [00:04<02:41,  4.88s/it]\u001b[A\n",
      "  6%|▌         | 2/34 [00:09<02:35,  4.87s/it]\u001b[A\n",
      "  9%|▉         | 3/34 [00:12<02:04,  4.01s/it]\u001b[A\n",
      " 12%|█▏        | 4/34 [00:15<01:47,  3.57s/it]\u001b[A\n",
      " 15%|█▍        | 5/34 [00:18<01:35,  3.28s/it]\u001b[A\n",
      " 18%|█▊        | 6/34 [00:21<01:25,  3.06s/it]\u001b[A\n",
      " 21%|██        | 7/34 [00:23<01:16,  2.83s/it]\u001b[A\n",
      " 24%|██▎       | 8/34 [00:26<01:12,  2.79s/it]\u001b[A"
     ]
    },
    {
     "name": "stdout",
     "output_type": "stream",
     "text": [
      "tipsm_d_totalm_d 0.9157726132719681\n"
     ]
    },
    {
     "name": "stderr",
     "output_type": "stream",
     "text": [
      "\n",
      " 26%|██▋       | 9/34 [00:28<01:06,  2.66s/it]\u001b[A\n",
      " 29%|██▉       | 10/34 [00:30<00:59,  2.46s/it]\u001b[A\n",
      " 32%|███▏      | 11/34 [00:32<00:53,  2.32s/it]\u001b[A"
     ]
    },
    {
     "name": "stdout",
     "output_type": "stream",
     "text": [
      "comp1_d_compless5_d 0.6642865604896896\n"
     ]
    },
    {
     "name": "stderr",
     "output_type": "stream",
     "text": [
      "\n",
      " 35%|███▌      | 12/34 [00:34<00:48,  2.21s/it]\u001b[A\n",
      " 38%|███▊      | 13/34 [00:36<00:45,  2.18s/it]\u001b[A\n",
      " 41%|████      | 14/34 [00:38<00:42,  2.11s/it]\u001b[A\n",
      " 44%|████▍     | 15/34 [00:40<00:37,  1.97s/it]\u001b[A\n",
      " 47%|████▋     | 16/34 [00:41<00:33,  1.84s/it]\u001b[A\n",
      " 50%|█████     | 17/34 [00:43<00:29,  1.72s/it]\u001b[A\n",
      " 53%|█████▎    | 18/34 [00:44<00:27,  1.73s/it]\u001b[A\n",
      " 56%|█████▌    | 19/34 [00:46<00:24,  1.64s/it]\u001b[A\n",
      " 59%|█████▉    | 20/34 [00:47<00:21,  1.55s/it]\u001b[A\n",
      " 62%|██████▏   | 21/34 [00:48<00:18,  1.40s/it]\u001b[A\n",
      " 65%|██████▍   | 22/34 [00:49<00:15,  1.33s/it]\u001b[A\n",
      " 68%|██████▊   | 23/34 [00:50<00:13,  1.23s/it]\u001b[A\n",
      " 71%|███████   | 24/34 [00:51<00:11,  1.11s/it]\u001b[A\n",
      " 74%|███████▎  | 25/34 [00:52<00:09,  1.02s/it]\u001b[A\n",
      " 76%|███████▋  | 26/34 [00:53<00:07,  1.10it/s]\u001b[A\n",
      " 79%|███████▉  | 27/34 [00:53<00:05,  1.23it/s]\u001b[A\n",
      " 82%|████████▏ | 28/34 [00:54<00:04,  1.40it/s]\u001b[A\n",
      " 85%|████████▌ | 29/34 [00:54<00:03,  1.57it/s]\u001b[A\n",
      " 88%|████████▊ | 30/34 [00:55<00:02,  1.73it/s]\u001b[A\n",
      " 91%|█████████ | 31/34 [00:55<00:01,  2.01it/s]\u001b[A\n",
      " 94%|█████████▍| 32/34 [00:55<00:00,  2.48it/s]\u001b[A\n",
      "100%|██████████| 34/34 [00:55<00:00,  1.64s/it]\u001b[A\n",
      " 33%|███▎      | 34/103 [42:05<1:13:27, 63.87s/it]"
     ]
    },
    {
     "name": "stdout",
     "output_type": "stream",
     "text": [
      "Row(ct=12000000033, ca=38)\n"
     ]
    },
    {
     "name": "stderr",
     "output_type": "stream",
     "text": [
      "\n",
      "  0%|          | 0/38 [00:00<?, ?it/s]\u001b[A\n",
      "  3%|▎         | 1/38 [00:03<02:24,  3.90s/it]\u001b[A\n",
      "  5%|▌         | 2/38 [00:07<02:08,  3.58s/it]\u001b[A\n",
      "  8%|▊         | 3/38 [00:10<01:57,  3.36s/it]\u001b[A\n",
      " 11%|█         | 4/38 [00:13<01:50,  3.24s/it]\u001b[A\n",
      " 13%|█▎        | 5/38 [00:16<01:43,  3.14s/it]\u001b[A\n",
      " 16%|█▌        | 6/38 [00:19<01:37,  3.04s/it]\u001b[A\n",
      " 18%|█▊        | 7/38 [00:22<01:32,  2.97s/it]\u001b[A\n",
      " 21%|██        | 8/38 [00:24<01:28,  2.94s/it]\u001b[A\n",
      " 24%|██▎       | 9/38 [00:27<01:21,  2.82s/it]\u001b[A\n",
      " 26%|██▋       | 10/38 [00:30<01:16,  2.73s/it]\u001b[A\n",
      " 29%|██▉       | 11/38 [00:32<01:12,  2.68s/it]\u001b[A\n",
      " 32%|███▏      | 12/38 [00:34<01:05,  2.54s/it]\u001b[A\n",
      " 34%|███▍      | 13/38 [00:37<01:00,  2.44s/it]\u001b[A\n",
      " 37%|███▋      | 14/38 [00:39<00:58,  2.44s/it]\u001b[A\n",
      " 39%|███▉      | 15/38 [00:42<01:00,  2.65s/it]\u001b[A\n",
      " 42%|████▏     | 16/38 [00:44<00:52,  2.39s/it]\u001b[A\n",
      " 45%|████▍     | 17/38 [00:46<00:47,  2.28s/it]\u001b[A\n",
      " 47%|████▋     | 18/38 [00:48<00:42,  2.12s/it]\u001b[A\n",
      " 50%|█████     | 19/38 [00:49<00:38,  2.04s/it]\u001b[A\n",
      " 53%|█████▎    | 20/38 [00:51<00:35,  1.96s/it]\u001b[A\n",
      " 55%|█████▌    | 21/38 [00:53<00:31,  1.84s/it]\u001b[A\n",
      " 58%|█████▊    | 22/38 [00:54<00:27,  1.70s/it]\u001b[A\n",
      " 61%|██████    | 23/38 [00:55<00:23,  1.57s/it]\u001b[A\n",
      " 63%|██████▎   | 24/38 [00:57<00:21,  1.52s/it]\u001b[A\n",
      " 66%|██████▌   | 25/38 [00:58<00:18,  1.40s/it]\u001b[A\n",
      " 68%|██████▊   | 26/38 [00:59<00:16,  1.34s/it]\u001b[A\n",
      " 71%|███████   | 27/38 [01:00<00:14,  1.30s/it]\u001b[A\n",
      " 74%|███████▎  | 28/38 [01:01<00:11,  1.17s/it]\u001b[A\n",
      " 76%|███████▋  | 29/38 [01:02<00:09,  1.10s/it]\u001b[A\n",
      " 79%|███████▉  | 30/38 [01:03<00:07,  1.01it/s]\u001b[A\n",
      " 82%|████████▏ | 31/38 [01:04<00:06,  1.14it/s]\u001b[A\n",
      " 84%|████████▍ | 32/38 [01:04<00:04,  1.30it/s]\u001b[A\n",
      " 87%|████████▋ | 33/38 [01:04<00:03,  1.54it/s]\u001b[A\n",
      " 89%|████████▉ | 34/38 [01:05<00:02,  1.62it/s]\u001b[A\n",
      " 92%|█████████▏| 35/38 [01:05<00:01,  1.73it/s]\u001b[A\n",
      " 95%|█████████▍| 36/38 [01:06<00:01,  1.73it/s]\u001b[A\n",
      "100%|██████████| 38/38 [01:06<00:00,  1.76s/it]\u001b[A\n",
      " 34%|███▍      | 35/103 [43:12<1:13:28, 64.83s/it]"
     ]
    },
    {
     "name": "stdout",
     "output_type": "stream",
     "text": [
      "Row(ct=12000000024, ca=45)\n"
     ]
    },
    {
     "name": "stderr",
     "output_type": "stream",
     "text": [
      "\n",
      "  0%|          | 0/41 [00:00<?, ?it/s]\u001b[A\n",
      "  2%|▏         | 1/41 [00:04<02:49,  4.25s/it]\u001b[A"
     ]
    },
    {
     "name": "stdout",
     "output_type": "stream",
     "text": [
      "miles_p_velocity_p 0.7857072969498028\n"
     ]
    },
    {
     "name": "stderr",
     "output_type": "stream",
     "text": [
      "\n",
      "  5%|▍         | 2/41 [00:09<03:08,  4.82s/it]\u001b[A\n",
      "  7%|▋         | 3/41 [00:12<02:35,  4.09s/it]\u001b[A\n",
      " 10%|▉         | 4/41 [00:16<02:20,  3.79s/it]\u001b[A\n",
      " 12%|█▏        | 5/41 [00:19<02:06,  3.51s/it]\u001b[A\n",
      " 15%|█▍        | 6/41 [00:22<02:00,  3.44s/it]\u001b[A\n",
      " 17%|█▋        | 7/41 [00:25<01:52,  3.31s/it]\u001b[A\n",
      " 20%|█▉        | 8/41 [00:28<01:44,  3.18s/it]\u001b[A\n",
      " 22%|██▏       | 9/41 [00:31<01:37,  3.05s/it]\u001b[A\n",
      " 24%|██▍       | 10/41 [00:34<01:35,  3.09s/it]\u001b[A\n",
      " 27%|██▋       | 11/41 [00:36<01:28,  2.97s/it]\u001b[A\n",
      " 29%|██▉       | 12/41 [00:39<01:21,  2.81s/it]\u001b[A\n",
      " 32%|███▏      | 13/41 [00:42<01:18,  2.82s/it]\u001b[A\n",
      " 34%|███▍      | 14/41 [00:44<01:13,  2.72s/it]\u001b[A\n",
      " 37%|███▋      | 15/41 [00:46<01:07,  2.59s/it]\u001b[A\n",
      " 39%|███▉      | 16/41 [00:48<01:00,  2.41s/it]\u001b[A\n",
      " 41%|████▏     | 17/41 [00:51<00:57,  2.40s/it]\u001b[A\n",
      " 44%|████▍     | 18/41 [00:53<00:54,  2.37s/it]\u001b[A\n",
      " 46%|████▋     | 19/41 [00:55<00:49,  2.26s/it]\u001b[A\n",
      " 49%|████▉     | 20/41 [00:57<00:44,  2.14s/it]\u001b[A\n",
      " 51%|█████     | 21/41 [00:59<00:41,  2.07s/it]\u001b[A\n",
      " 54%|█████▎    | 22/41 [01:01<00:37,  1.97s/it]\u001b[A\n",
      " 56%|█████▌    | 23/41 [01:03<00:36,  2.05s/it]\u001b[A\n",
      " 59%|█████▊    | 24/41 [01:05<00:33,  1.99s/it]\u001b[A\n",
      " 61%|██████    | 25/41 [01:06<00:28,  1.79s/it]\u001b[A\n",
      " 63%|██████▎   | 26/41 [01:07<00:24,  1.62s/it]\u001b[A\n",
      " 66%|██████▌   | 27/41 [01:08<00:20,  1.49s/it]\u001b[A\n",
      " 68%|██████▊   | 28/41 [01:10<00:18,  1.43s/it]\u001b[A\n",
      " 71%|███████   | 29/41 [01:11<00:15,  1.32s/it]\u001b[A\n",
      " 73%|███████▎  | 30/41 [01:12<00:13,  1.25s/it]\u001b[A\n",
      " 76%|███████▌  | 31/41 [01:13<00:11,  1.11s/it]\u001b[A"
     ]
    },
    {
     "name": "stdout",
     "output_type": "stream",
     "text": [
      "trips_d_growth_2_to_1_velocity_d_growth_2_to_1 0.8413561355930427\n"
     ]
    },
    {
     "name": "stderr",
     "output_type": "stream",
     "text": [
      "\n",
      " 78%|███████▊  | 32/41 [01:14<00:09,  1.02s/it]\u001b[A\n",
      " 80%|████████  | 33/41 [01:14<00:07,  1.08it/s]\u001b[A\n",
      " 83%|████████▎ | 34/41 [01:15<00:05,  1.19it/s]\u001b[A\n",
      " 85%|████████▌ | 35/41 [01:15<00:04,  1.35it/s]\u001b[A\n",
      " 88%|████████▊ | 36/41 [01:16<00:03,  1.52it/s]\u001b[A\n",
      " 90%|█████████ | 37/41 [01:16<00:02,  1.67it/s]\u001b[A\n",
      " 93%|█████████▎| 38/41 [01:17<00:01,  2.00it/s]\u001b[A\n",
      "100%|██████████| 41/41 [01:17<00:00,  1.89s/it]\u001b[A\n",
      " 35%|███▍      | 36/103 [44:30<1:16:39, 68.65s/it]"
     ]
    },
    {
     "name": "stdout",
     "output_type": "stream",
     "text": [
      "Row(ct=12000000032, ca=26)\n"
     ]
    },
    {
     "name": "stderr",
     "output_type": "stream",
     "text": [
      "\n",
      "  0%|          | 0/38 [00:00<?, ?it/s]\u001b[A\n",
      "  3%|▎         | 1/38 [00:04<02:51,  4.65s/it]\u001b[A\n",
      "  5%|▌         | 2/38 [00:07<02:15,  3.77s/it]\u001b[A\n",
      "  8%|▊         | 3/38 [00:10<01:59,  3.40s/it]\u001b[A\n",
      " 11%|█         | 4/38 [00:13<01:49,  3.21s/it]\u001b[A\n",
      " 13%|█▎        | 5/38 [00:16<01:45,  3.19s/it]\u001b[A\n",
      " 16%|█▌        | 6/38 [00:19<01:37,  3.04s/it]\u001b[A\n",
      " 18%|█▊        | 7/38 [00:22<01:29,  2.90s/it]\u001b[A\n",
      " 21%|██        | 8/38 [00:25<01:27,  2.91s/it]\u001b[A\n",
      " 24%|██▎       | 9/38 [00:27<01:21,  2.79s/it]\u001b[A\n",
      " 26%|██▋       | 10/38 [00:30<01:15,  2.70s/it]\u001b[A\n",
      " 29%|██▉       | 11/38 [00:32<01:09,  2.57s/it]\u001b[A\n",
      " 32%|███▏      | 12/38 [00:34<01:05,  2.51s/it]\u001b[A\n",
      " 34%|███▍      | 13/38 [00:37<01:01,  2.45s/it]\u001b[A\n",
      " 37%|███▋      | 14/38 [00:39<00:54,  2.29s/it]\u001b[A\n",
      " 39%|███▉      | 15/38 [00:41<00:50,  2.20s/it]\u001b[A\n",
      " 42%|████▏     | 16/38 [00:42<00:46,  2.13s/it]\u001b[A\n",
      " 45%|████▍     | 17/38 [00:44<00:43,  2.05s/it]\u001b[A\n",
      " 47%|████▋     | 18/38 [00:46<00:39,  1.98s/it]\u001b[A\n",
      " 50%|█████     | 19/38 [00:48<00:36,  1.93s/it]\u001b[A\n",
      " 53%|█████▎    | 20/38 [00:49<00:32,  1.80s/it]\u001b[A\n",
      " 55%|█████▌    | 21/38 [00:51<00:29,  1.72s/it]\u001b[A\n",
      " 58%|█████▊    | 22/38 [00:52<00:25,  1.62s/it]\u001b[A\n",
      " 61%|██████    | 23/38 [00:54<00:23,  1.60s/it]\u001b[A\n",
      " 63%|██████▎   | 24/38 [00:55<00:20,  1.49s/it]\u001b[A\n",
      " 66%|██████▌   | 25/38 [00:56<00:18,  1.39s/it]\u001b[A\n",
      " 68%|██████▊   | 26/38 [00:57<00:15,  1.27s/it]\u001b[A\n",
      " 71%|███████   | 27/38 [00:58<00:12,  1.18s/it]\u001b[A\n",
      " 74%|███████▎  | 28/38 [00:59<00:10,  1.10s/it]\u001b[A\n",
      " 76%|███████▋  | 29/38 [01:00<00:09,  1.04s/it]\u001b[A\n",
      " 79%|███████▉  | 30/38 [01:01<00:07,  1.08it/s]\u001b[A\n",
      " 82%|████████▏ | 31/38 [01:01<00:05,  1.19it/s]\u001b[A\n",
      " 84%|████████▍ | 32/38 [01:02<00:04,  1.34it/s]\u001b[A\n",
      " 87%|████████▋ | 33/38 [01:02<00:03,  1.56it/s]\u001b[A\n",
      " 89%|████████▉ | 34/38 [01:03<00:02,  1.78it/s]\u001b[A\n",
      " 92%|█████████▏| 35/38 [01:03<00:01,  2.15it/s]\u001b[A\n",
      " 95%|█████████▍| 36/38 [01:03<00:00,  2.72it/s]\u001b[A\n",
      "100%|██████████| 38/38 [01:03<00:00,  1.68s/it]\u001b[A\n",
      " 36%|███▌      | 37/103 [45:34<1:14:02, 67.31s/it]"
     ]
    },
    {
     "name": "stdout",
     "output_type": "stream",
     "text": [
      "Row(ct=12000000020, ca=31)\n"
     ]
    },
    {
     "name": "stderr",
     "output_type": "stream",
     "text": [
      "\n",
      "  0%|          | 0/38 [00:00<?, ?it/s]\u001b[A\n",
      "  3%|▎         | 1/38 [00:03<02:19,  3.77s/it]\u001b[A\n",
      "  5%|▌         | 2/38 [00:06<02:01,  3.37s/it]\u001b[A\n",
      "  8%|▊         | 3/38 [00:09<01:53,  3.25s/it]\u001b[A"
     ]
    },
    {
     "name": "stdout",
     "output_type": "stream",
     "text": [
      "extrasm_p_totalm_p 0.9495431210457427\n"
     ]
    },
    {
     "name": "stderr",
     "output_type": "stream",
     "text": [
      "\n",
      " 11%|█         | 4/38 [00:12<01:46,  3.13s/it]\u001b[A\n",
      " 13%|█▎        | 5/38 [00:15<01:40,  3.04s/it]\u001b[A\n",
      " 16%|█▌        | 6/38 [00:18<01:32,  2.90s/it]\u001b[A\n",
      " 18%|█▊        | 7/38 [00:21<01:30,  2.93s/it]\u001b[A\n",
      " 21%|██        | 8/38 [00:24<01:24,  2.83s/it]\u001b[A\n",
      " 24%|██▎       | 9/38 [00:26<01:21,  2.82s/it]\u001b[A\n",
      " 26%|██▋       | 10/38 [00:29<01:14,  2.67s/it]\u001b[A\n",
      " 29%|██▉       | 11/38 [00:31<01:12,  2.67s/it]\u001b[A\n",
      " 32%|███▏      | 12/38 [00:34<01:09,  2.67s/it]\u001b[A\n",
      " 34%|███▍      | 13/38 [00:36<01:02,  2.50s/it]\u001b[A\n",
      " 37%|███▋      | 14/38 [00:38<00:58,  2.43s/it]\u001b[A\n",
      " 39%|███▉      | 15/38 [00:41<00:54,  2.37s/it]\u001b[A\n",
      " 42%|████▏     | 16/38 [00:43<00:50,  2.28s/it]\u001b[A\n",
      " 45%|████▍     | 17/38 [00:45<00:46,  2.23s/it]\u001b[A\n",
      " 47%|████▋     | 18/38 [00:46<00:41,  2.07s/it]\u001b[A\n",
      " 50%|█████     | 19/38 [00:48<00:36,  1.94s/it]\u001b[A\n",
      " 53%|█████▎    | 20/38 [00:50<00:33,  1.88s/it]\u001b[A\n",
      " 55%|█████▌    | 21/38 [00:52<00:31,  1.84s/it]\u001b[A\n",
      " 58%|█████▊    | 22/38 [00:53<00:27,  1.74s/it]\u001b[A\n",
      " 61%|██████    | 23/38 [00:54<00:23,  1.60s/it]\u001b[A\n",
      " 63%|██████▎   | 24/38 [00:56<00:20,  1.49s/it]\u001b[A\n",
      " 66%|██████▌   | 25/38 [00:57<00:18,  1.41s/it]\u001b[A\n",
      " 68%|██████▊   | 26/38 [00:58<00:16,  1.41s/it]\u001b[A\n",
      " 71%|███████   | 27/38 [00:59<00:13,  1.25s/it]\u001b[A\n",
      " 74%|███████▎  | 28/38 [01:00<00:12,  1.22s/it]\u001b[A\n",
      " 76%|███████▋  | 29/38 [01:01<00:09,  1.05s/it]\u001b[A\n",
      " 79%|███████▉  | 30/38 [01:02<00:07,  1.08it/s]\u001b[A\n",
      " 82%|████████▏ | 31/38 [01:03<00:06,  1.06it/s]\u001b[A\n",
      " 84%|████████▍ | 32/38 [01:03<00:05,  1.17it/s]\u001b[A\n",
      " 87%|████████▋ | 33/38 [01:04<00:03,  1.35it/s]\u001b[A\n",
      " 89%|████████▉ | 34/38 [01:04<00:02,  1.58it/s]\u001b[A\n",
      " 92%|█████████▏| 35/38 [01:04<00:01,  1.90it/s]\u001b[A\n",
      " 95%|█████████▍| 36/38 [01:04<00:00,  2.39it/s]\u001b[A\n",
      "100%|██████████| 38/38 [01:05<00:00,  1.71s/it]\u001b[A\n",
      " 37%|███▋      | 38/103 [46:39<1:12:19, 66.77s/it]"
     ]
    },
    {
     "name": "stdout",
     "output_type": "stream",
     "text": [
      "Row(ct=17031671200, ca=4)\n"
     ]
    },
    {
     "name": "stderr",
     "output_type": "stream",
     "text": [
      "\n",
      "  0%|          | 0/40 [00:00<?, ?it/s]\u001b[A\n",
      "  2%|▎         | 1/40 [00:04<02:53,  4.44s/it]\u001b[A\n",
      "  5%|▌         | 2/40 [00:07<02:26,  3.85s/it]\u001b[A\n",
      "  8%|▊         | 3/40 [00:11<02:13,  3.60s/it]\u001b[A\n",
      " 10%|█         | 4/40 [00:14<02:04,  3.46s/it]\u001b[A\n",
      " 12%|█▎        | 5/40 [00:17<01:56,  3.32s/it]\u001b[A\n",
      " 15%|█▌        | 6/40 [00:20<01:47,  3.17s/it]\u001b[A\n",
      " 18%|█▊        | 7/40 [00:23<01:41,  3.08s/it]\u001b[A\n",
      " 20%|██        | 8/40 [00:26<01:36,  3.01s/it]\u001b[A\n",
      " 22%|██▎       | 9/40 [00:28<01:31,  2.96s/it]\u001b[A\n",
      " 25%|██▌       | 10/40 [00:31<01:25,  2.85s/it]\u001b[A\n",
      " 28%|██▊       | 11/40 [00:34<01:26,  2.97s/it]\u001b[A\n",
      " 30%|███       | 12/40 [00:37<01:20,  2.89s/it]\u001b[A\n",
      " 32%|███▎      | 13/40 [00:39<01:12,  2.69s/it]\u001b[A"
     ]
    },
    {
     "name": "stdout",
     "output_type": "stream",
     "text": [
      "tipsm_d_totalm_d 0.9931937186187845\n"
     ]
    },
    {
     "name": "stderr",
     "output_type": "stream",
     "text": [
      "\n",
      " 35%|███▌      | 14/40 [00:42<01:07,  2.59s/it]\u001b[A\n",
      " 38%|███▊      | 15/40 [00:44<01:01,  2.46s/it]\u001b[A\n",
      " 40%|████      | 16/40 [00:46<00:57,  2.39s/it]\u001b[A\n",
      " 42%|████▎     | 17/40 [00:48<00:53,  2.35s/it]\u001b[A\n",
      " 45%|████▌     | 18/40 [00:50<00:48,  2.21s/it]\u001b[A\n",
      " 48%|████▊     | 19/40 [00:52<00:43,  2.09s/it]\u001b[A\n",
      " 50%|█████     | 20/40 [00:54<00:41,  2.08s/it]\u001b[A\n",
      " 52%|█████▎    | 21/40 [00:56<00:37,  1.97s/it]\u001b[A\n",
      " 55%|█████▌    | 22/40 [00:57<00:34,  1.90s/it]\u001b[A\n",
      " 57%|█████▊    | 23/40 [00:59<00:30,  1.80s/it]\u001b[A\n",
      " 60%|██████    | 24/40 [01:01<00:27,  1.72s/it]\u001b[A\n",
      " 62%|██████▎   | 25/40 [01:02<00:24,  1.62s/it]\u001b[A\n",
      " 65%|██████▌   | 26/40 [01:03<00:21,  1.51s/it]\u001b[A\n",
      " 68%|██████▊   | 27/40 [01:04<00:18,  1.42s/it]\u001b[A\n",
      " 70%|███████   | 28/40 [01:07<00:20,  1.68s/it]\u001b[A\n",
      " 72%|███████▎  | 29/40 [01:09<00:20,  1.87s/it]\u001b[A\n",
      " 75%|███████▌  | 30/40 [01:11<00:18,  1.80s/it]\u001b[A\n",
      " 78%|███████▊  | 31/40 [01:11<00:13,  1.51s/it]\u001b[A\n",
      " 80%|████████  | 32/40 [01:12<00:10,  1.27s/it]\u001b[A\n",
      " 82%|████████▎ | 33/40 [01:13<00:07,  1.06s/it]\u001b[A\n",
      " 85%|████████▌ | 34/40 [01:13<00:05,  1.13it/s]\u001b[A\n",
      " 88%|████████▊ | 35/40 [01:14<00:04,  1.22it/s]\u001b[A\n",
      " 90%|█████████ | 36/40 [01:14<00:02,  1.46it/s]\u001b[A\n",
      " 92%|█████████▎| 37/40 [01:15<00:01,  1.74it/s]\u001b[A\n",
      " 95%|█████████▌| 38/40 [01:15<00:00,  2.21it/s]\u001b[A\n",
      "100%|██████████| 40/40 [01:15<00:00,  1.89s/it]\u001b[A\n",
      " 38%|███▊      | 39/103 [47:56<1:14:13, 69.59s/it]"
     ]
    },
    {
     "name": "stdout",
     "output_type": "stream",
     "text": [
      "Row(ct=17031062200, ca=37)\n"
     ]
    },
    {
     "name": "stderr",
     "output_type": "stream",
     "text": [
      "\n",
      "  0%|          | 0/41 [00:00<?, ?it/s]\u001b[A\n",
      "  2%|▏         | 1/41 [00:03<02:31,  3.79s/it]\u001b[A\n",
      "  5%|▍         | 2/41 [00:10<03:26,  5.28s/it]\u001b[A\n",
      "  7%|▋         | 3/41 [00:13<02:45,  4.36s/it]\u001b[A\n",
      " 10%|▉         | 4/41 [00:16<02:23,  3.89s/it]\u001b[A\n",
      " 12%|█▏        | 5/41 [00:19<02:12,  3.68s/it]\u001b[A\n",
      " 15%|█▍        | 6/41 [00:22<02:00,  3.45s/it]\u001b[A\n",
      " 17%|█▋        | 7/41 [00:25<01:50,  3.24s/it]\u001b[A\n",
      " 20%|█▉        | 8/41 [00:28<01:44,  3.18s/it]\u001b[A\n",
      " 22%|██▏       | 9/41 [00:31<01:38,  3.07s/it]\u001b[A\n",
      " 24%|██▍       | 10/41 [00:34<01:32,  2.99s/it]\u001b[A\n",
      " 27%|██▋       | 11/41 [00:36<01:25,  2.85s/it]\u001b[A\n",
      " 29%|██▉       | 12/41 [00:40<01:25,  2.93s/it]\u001b[A\n",
      " 32%|███▏      | 13/41 [00:42<01:18,  2.79s/it]\u001b[A\n",
      " 34%|███▍      | 14/41 [00:45<01:13,  2.72s/it]\u001b[A\n",
      " 37%|███▋      | 15/41 [00:47<01:06,  2.57s/it]\u001b[A\n",
      " 39%|███▉      | 16/41 [00:49<01:02,  2.49s/it]\u001b[A\n",
      " 41%|████▏     | 17/41 [00:52<00:59,  2.49s/it]\u001b[A\n",
      " 44%|████▍     | 18/41 [00:53<00:53,  2.33s/it]\u001b[A\n",
      " 46%|████▋     | 19/41 [00:55<00:48,  2.21s/it]\u001b[A\n",
      " 49%|████▉     | 20/41 [00:57<00:45,  2.15s/it]\u001b[A\n",
      " 51%|█████     | 21/41 [00:59<00:42,  2.12s/it]\u001b[A\n",
      " 54%|█████▎    | 22/41 [01:01<00:38,  2.02s/it]\u001b[A\n",
      " 56%|█████▌    | 23/41 [01:03<00:35,  1.97s/it]\u001b[A\n",
      " 59%|█████▊    | 24/41 [01:05<00:31,  1.84s/it]\u001b[A\n",
      " 61%|██████    | 25/41 [01:06<00:27,  1.71s/it]\u001b[A\n",
      " 63%|██████▎   | 26/41 [01:08<00:24,  1.63s/it]\u001b[A\n",
      " 66%|██████▌   | 27/41 [01:09<00:22,  1.58s/it]\u001b[A\n",
      " 68%|██████▊   | 28/41 [01:10<00:20,  1.54s/it]\u001b[A\n",
      " 71%|███████   | 29/41 [01:12<00:18,  1.50s/it]\u001b[A\n",
      " 73%|███████▎  | 30/41 [01:13<00:16,  1.46s/it]\u001b[A\n",
      " 76%|███████▌  | 31/41 [01:14<00:13,  1.32s/it]\u001b[A\n",
      " 78%|███████▊  | 32/41 [01:15<00:10,  1.21s/it]\u001b[A\n",
      " 80%|████████  | 33/41 [01:17<00:10,  1.30s/it]\u001b[A\n",
      " 83%|████████▎ | 34/41 [01:18<00:09,  1.38s/it]\u001b[A\n",
      " 85%|████████▌ | 35/41 [01:19<00:06,  1.12s/it]\u001b[A\n",
      " 88%|████████▊ | 36/41 [01:19<00:04,  1.08it/s]\u001b[A\n",
      " 90%|█████████ | 37/41 [01:20<00:03,  1.28it/s]\u001b[A\n",
      " 93%|█████████▎| 38/41 [01:20<00:01,  1.63it/s]\u001b[A\n",
      "100%|██████████| 41/41 [01:20<00:00,  1.97s/it]\u001b[A\n",
      " 39%|███▉      | 40/103 [49:17<1:16:40, 73.03s/it]"
     ]
    },
    {
     "name": "stdout",
     "output_type": "stream",
     "text": [
      "Row(ct=12000000035, ca=36)\n"
     ]
    },
    {
     "name": "stderr",
     "output_type": "stream",
     "text": [
      "\n",
      "  0%|          | 0/41 [00:00<?, ?it/s]\u001b[A\n",
      "  2%|▏         | 1/41 [00:05<03:44,  5.62s/it]\u001b[A\n",
      "  5%|▍         | 2/41 [00:09<02:54,  4.48s/it]\u001b[A\n",
      "  7%|▋         | 3/41 [00:16<03:28,  5.50s/it]\u001b[A\n",
      " 10%|▉         | 4/41 [00:20<03:07,  5.08s/it]\u001b[A\n",
      " 12%|█▏        | 5/41 [00:23<02:37,  4.36s/it]\u001b[A\n",
      " 15%|█▍        | 6/41 [00:27<02:22,  4.06s/it]\u001b[A\n",
      " 17%|█▋        | 7/41 [00:30<02:06,  3.71s/it]\u001b[A\n",
      " 20%|█▉        | 8/41 [00:33<01:55,  3.49s/it]\u001b[A\n",
      " 22%|██▏       | 9/41 [00:35<01:45,  3.29s/it]\u001b[A\n",
      " 24%|██▍       | 10/41 [00:41<02:08,  4.13s/it]\u001b[A\n",
      " 27%|██▋       | 11/41 [00:44<01:49,  3.66s/it]\u001b[A\n",
      " 29%|██▉       | 12/41 [00:46<01:35,  3.29s/it]\u001b[A\n",
      " 32%|███▏      | 13/41 [00:49<01:27,  3.12s/it]\u001b[A\n",
      " 34%|███▍      | 14/41 [00:51<01:17,  2.88s/it]\u001b[A\n",
      " 37%|███▋      | 15/41 [00:54<01:10,  2.73s/it]\u001b[A\n",
      " 39%|███▉      | 16/41 [00:56<01:04,  2.56s/it]\u001b[A\n",
      " 41%|████▏     | 17/41 [00:58<00:58,  2.45s/it]\u001b[A\n",
      " 44%|████▍     | 18/41 [01:00<00:53,  2.33s/it]\u001b[A\n",
      " 46%|████▋     | 19/41 [01:02<00:49,  2.26s/it]\u001b[A\n",
      " 49%|████▉     | 20/41 [01:04<00:45,  2.19s/it]\u001b[A\n",
      " 51%|█████     | 21/41 [01:06<00:40,  2.04s/it]\u001b[A\n",
      " 54%|█████▎    | 22/41 [01:08<00:39,  2.08s/it]\u001b[A\n",
      " 56%|█████▌    | 23/41 [01:10<00:34,  1.93s/it]\u001b[A\n",
      " 59%|█████▊    | 24/41 [01:11<00:30,  1.81s/it]\u001b[A\n",
      " 61%|██████    | 25/41 [01:13<00:26,  1.68s/it]\u001b[A\n",
      " 63%|██████▎   | 26/41 [01:14<00:24,  1.61s/it]\u001b[A\n",
      " 66%|██████▌   | 27/41 [01:15<00:20,  1.49s/it]\u001b[A\n",
      " 68%|██████▊   | 28/41 [01:17<00:18,  1.42s/it]\u001b[A\n",
      " 71%|███████   | 29/41 [01:18<00:16,  1.35s/it]\u001b[A\n",
      " 73%|███████▎  | 30/41 [01:19<00:14,  1.28s/it]\u001b[A\n",
      " 76%|███████▌  | 31/41 [01:20<00:12,  1.24s/it]\u001b[A\n",
      " 78%|███████▊  | 32/41 [01:21<00:10,  1.14s/it]\u001b[A\n",
      " 80%|████████  | 33/41 [01:22<00:08,  1.00s/it]\u001b[A\n",
      " 83%|████████▎ | 34/41 [01:22<00:06,  1.14it/s]\u001b[A\n",
      " 85%|████████▌ | 35/41 [01:23<00:04,  1.26it/s]\u001b[A\n",
      " 88%|████████▊ | 36/41 [01:23<00:03,  1.44it/s]\u001b[A\n",
      " 90%|█████████ | 37/41 [01:24<00:02,  1.73it/s]\u001b[A\n",
      " 93%|█████████▎| 38/41 [01:24<00:01,  2.12it/s]\u001b[A\n",
      "100%|██████████| 41/41 [01:24<00:00,  2.06s/it]\u001b[A\n",
      " 40%|███▉      | 41/103 [50:42<1:19:23, 76.83s/it]"
     ]
    },
    {
     "name": "stdout",
     "output_type": "stream",
     "text": [
      "Row(ct=17031740300, ca=42)\n"
     ]
    },
    {
     "name": "stderr",
     "output_type": "stream",
     "text": [
      "\n",
      "  0%|          | 0/42 [00:00<?, ?it/s]\u001b[A\n",
      "  2%|▏         | 1/42 [00:05<03:28,  5.09s/it]\u001b[A\n",
      "  5%|▍         | 2/42 [00:08<02:45,  4.15s/it]\u001b[A\n",
      "  7%|▋         | 3/42 [00:11<02:27,  3.78s/it]\u001b[A\n",
      " 10%|▉         | 4/42 [00:15<02:23,  3.77s/it]\u001b[A\n",
      " 12%|█▏        | 5/42 [00:18<02:10,  3.53s/it]\u001b[A\n",
      " 14%|█▍        | 6/42 [00:22<02:04,  3.46s/it]\u001b[A\n",
      " 17%|█▋        | 7/42 [00:25<01:56,  3.32s/it]\u001b[A\n",
      " 19%|█▉        | 8/42 [00:28<01:51,  3.29s/it]\u001b[A\n",
      " 21%|██▏       | 9/42 [00:31<01:46,  3.23s/it]\u001b[A\n",
      " 24%|██▍       | 10/42 [00:35<01:49,  3.42s/it]\u001b[A\n",
      " 26%|██▌       | 11/42 [00:38<01:39,  3.21s/it]\u001b[A\n",
      " 29%|██▊       | 12/42 [00:40<01:30,  3.01s/it]\u001b[A\n",
      " 31%|███       | 13/42 [00:43<01:25,  2.96s/it]\u001b[A\n",
      " 33%|███▎      | 14/42 [00:45<01:19,  2.84s/it]\u001b[A\n",
      " 36%|███▌      | 15/42 [00:48<01:11,  2.66s/it]\u001b[A\n",
      " 38%|███▊      | 16/42 [00:52<01:19,  3.07s/it]\u001b[A\n",
      " 40%|████      | 17/42 [00:58<01:43,  4.15s/it]\u001b[A\n",
      " 43%|████▎     | 18/42 [01:02<01:36,  4.00s/it]\u001b[A\n",
      " 45%|████▌     | 19/42 [01:08<01:45,  4.57s/it]\u001b[A\n",
      " 48%|████▊     | 20/42 [01:14<01:47,  4.87s/it]\u001b[A\n",
      " 50%|█████     | 21/42 [01:16<01:28,  4.20s/it]\u001b[A\n",
      " 52%|█████▏    | 22/42 [01:19<01:13,  3.67s/it]\u001b[A\n",
      " 55%|█████▍    | 23/42 [01:21<00:59,  3.14s/it]\u001b[A\n",
      " 57%|█████▋    | 24/42 [01:22<00:48,  2.70s/it]\u001b[A\n",
      " 60%|█████▉    | 25/42 [01:24<00:41,  2.46s/it]\u001b[A\n",
      " 62%|██████▏   | 26/42 [01:26<00:36,  2.26s/it]\u001b[A\n",
      " 64%|██████▍   | 27/42 [01:29<00:39,  2.64s/it]\u001b[A\n",
      " 67%|██████▋   | 28/42 [01:31<00:31,  2.27s/it]\u001b[A\n",
      " 69%|██████▉   | 29/42 [01:32<00:26,  2.00s/it]\u001b[A\n",
      " 71%|███████▏  | 30/42 [01:33<00:21,  1.78s/it]\u001b[A\n",
      " 74%|███████▍  | 31/42 [01:35<00:18,  1.66s/it]\u001b[A\n",
      " 76%|███████▌  | 32/42 [01:36<00:15,  1.56s/it]\u001b[A\n",
      " 79%|███████▊  | 33/42 [01:37<00:12,  1.43s/it]\u001b[A\n",
      " 81%|████████  | 34/42 [01:38<00:10,  1.33s/it]\u001b[A\n",
      " 83%|████████▎ | 35/42 [01:39<00:08,  1.17s/it]\u001b[A\n",
      " 86%|████████▌ | 36/42 [01:40<00:06,  1.03s/it]\u001b[A\n",
      " 88%|████████▊ | 37/42 [01:40<00:04,  1.15it/s]\u001b[A\n",
      " 90%|█████████ | 38/42 [01:41<00:02,  1.39it/s]\u001b[A\n",
      " 93%|█████████▎| 39/42 [01:41<00:01,  1.68it/s]\u001b[A\n",
      " 95%|█████████▌| 40/42 [01:41<00:00,  2.07it/s]\u001b[A\n",
      "100%|██████████| 42/42 [01:41<00:00,  2.43s/it]\u001b[A\n",
      " 41%|████      | 42/103 [52:25<1:26:00, 84.60s/it]"
     ]
    },
    {
     "name": "stdout",
     "output_type": "stream",
     "text": [
      "Row(ct=12000000019, ca=57)\n"
     ]
    },
    {
     "name": "stderr",
     "output_type": "stream",
     "text": [
      "\n",
      "  0%|          | 0/34 [00:00<?, ?it/s]\u001b[A\n",
      "  3%|▎         | 1/34 [00:09<05:14,  9.52s/it]\u001b[A\n",
      "  6%|▌         | 2/34 [00:15<03:56,  7.41s/it]\u001b[A\n",
      "  9%|▉         | 3/34 [00:21<03:27,  6.70s/it]\u001b[A"
     ]
    },
    {
     "name": "stdout",
     "output_type": "stream",
     "text": [
      "extrasm_p_totalm_p 0.9103068036187205\n"
     ]
    },
    {
     "name": "stderr",
     "output_type": "stream",
     "text": [
      "\n",
      " 12%|█▏        | 4/34 [00:24<02:37,  5.24s/it]\u001b[A\n",
      " 15%|█▍        | 5/34 [00:27<02:10,  4.51s/it]\u001b[A\n",
      " 18%|█▊        | 6/34 [00:30<01:49,  3.91s/it]\u001b[A\n",
      " 21%|██        | 7/34 [00:33<01:39,  3.68s/it]\u001b[A\n",
      " 24%|██▎       | 8/34 [00:35<01:24,  3.25s/it]\u001b[A\n",
      " 26%|██▋       | 9/34 [00:37<01:12,  2.91s/it]\u001b[A"
     ]
    },
    {
     "name": "stdout",
     "output_type": "stream",
     "text": [
      "comp5_p_comp5_d 0.8162792853293253\n"
     ]
    },
    {
     "name": "stderr",
     "output_type": "stream",
     "text": [
      "\n",
      " 29%|██▉       | 10/34 [00:40<01:04,  2.68s/it]\u001b[A\n",
      " 32%|███▏      | 11/34 [00:41<00:55,  2.42s/it]\u001b[A\n",
      " 35%|███▌      | 12/34 [00:43<00:49,  2.26s/it]\u001b[A\n",
      " 38%|███▊      | 13/34 [00:45<00:46,  2.19s/it]\u001b[A"
     ]
    },
    {
     "name": "stdout",
     "output_type": "stream",
     "text": [
      "extrasm_d_totalm_d 0.7169886010481804\n"
     ]
    },
    {
     "name": "stderr",
     "output_type": "stream",
     "text": [
      "\n",
      " 41%|████      | 14/34 [00:47<00:41,  2.06s/it]\u001b[A\n",
      " 44%|████▍     | 15/34 [00:49<00:36,  1.92s/it]\u001b[A\n",
      " 47%|████▋     | 16/34 [00:50<00:32,  1.81s/it]\u001b[A\n",
      " 50%|█████     | 17/34 [00:52<00:29,  1.73s/it]\u001b[A\n",
      " 53%|█████▎    | 18/34 [00:53<00:26,  1.67s/it]\u001b[A\n",
      " 56%|█████▌    | 19/34 [00:55<00:23,  1.55s/it]\u001b[A\n",
      " 59%|█████▉    | 20/34 [00:56<00:21,  1.51s/it]\u001b[A\n",
      " 62%|██████▏   | 21/34 [00:57<00:18,  1.43s/it]\u001b[A\n",
      " 65%|██████▍   | 22/34 [00:58<00:15,  1.30s/it]\u001b[A\n",
      " 68%|██████▊   | 23/34 [00:59<00:13,  1.20s/it]\u001b[A\n",
      " 71%|███████   | 24/34 [01:00<00:10,  1.08s/it]\u001b[A\n",
      " 74%|███████▎  | 25/34 [01:01<00:08,  1.01it/s]\u001b[A\n",
      " 76%|███████▋  | 26/34 [01:01<00:06,  1.14it/s]\u001b[A"
     ]
    },
    {
     "name": "stdout",
     "output_type": "stream",
     "text": [
      "trips_d_growth_2_to_1_velocity_d_growth_2_to_1 0.9603107701190506\n"
     ]
    },
    {
     "name": "stderr",
     "output_type": "stream",
     "text": [
      "\n",
      " 79%|███████▉  | 27/34 [01:02<00:05,  1.28it/s]\u001b[A\n",
      " 82%|████████▏ | 28/34 [01:03<00:04,  1.33it/s]\u001b[A\n",
      " 85%|████████▌ | 29/34 [01:03<00:03,  1.45it/s]\u001b[A\n",
      " 88%|████████▊ | 30/34 [01:04<00:02,  1.69it/s]\u001b[A\n",
      " 91%|█████████ | 31/34 [01:04<00:01,  1.98it/s]\u001b[A\n",
      " 94%|█████████▍| 32/34 [01:04<00:00,  2.45it/s]\u001b[A\n",
      "100%|██████████| 34/34 [01:04<00:00,  1.90s/it]\u001b[A\n",
      " 42%|████▏     | 43/103 [53:31<1:18:54, 78.90s/it]"
     ]
    },
    {
     "name": "stdout",
     "output_type": "stream",
     "text": [
      "Row(ct=17031611100, ca=68)\n"
     ]
    },
    {
     "name": "stderr",
     "output_type": "stream",
     "text": [
      "\n",
      "  0%|          | 0/40 [00:00<?, ?it/s]\u001b[A\n",
      "  2%|▎         | 1/40 [00:03<02:18,  3.55s/it]\u001b[A\n",
      "  5%|▌         | 2/40 [00:06<02:08,  3.39s/it]\u001b[A\n",
      "  8%|▊         | 3/40 [00:10<02:02,  3.32s/it]\u001b[A\n",
      " 10%|█         | 4/40 [00:13<02:00,  3.35s/it]\u001b[A\n",
      " 12%|█▎        | 5/40 [00:16<01:51,  3.20s/it]\u001b[A\n",
      " 15%|█▌        | 6/40 [00:19<01:48,  3.18s/it]\u001b[A\n",
      " 18%|█▊        | 7/40 [00:22<01:42,  3.11s/it]\u001b[A\n",
      " 20%|██        | 8/40 [00:25<01:38,  3.07s/it]\u001b[A\n",
      " 22%|██▎       | 9/40 [00:31<02:05,  4.06s/it]\u001b[A\n",
      " 25%|██▌       | 10/40 [00:34<01:49,  3.65s/it]\u001b[A\n",
      " 28%|██▊       | 11/40 [00:37<01:37,  3.36s/it]\u001b[A\n",
      " 30%|███       | 12/40 [00:40<01:32,  3.29s/it]\u001b[A\n",
      " 32%|███▎      | 13/40 [00:47<01:57,  4.36s/it]\u001b[A\n",
      " 35%|███▌      | 14/40 [00:50<01:45,  4.06s/it]\u001b[A\n",
      " 38%|███▊      | 15/40 [00:52<01:28,  3.55s/it]\u001b[A\n",
      " 40%|████      | 16/40 [00:55<01:15,  3.15s/it]\u001b[A\n",
      " 42%|████▎     | 17/40 [00:56<01:03,  2.78s/it]\u001b[A\n",
      " 45%|████▌     | 18/40 [00:58<00:55,  2.53s/it]\u001b[A\n",
      " 48%|████▊     | 19/40 [01:01<00:50,  2.39s/it]\u001b[A\n",
      " 50%|█████     | 20/40 [01:02<00:44,  2.21s/it]\u001b[A\n",
      " 52%|█████▎    | 21/40 [01:04<00:38,  2.03s/it]\u001b[A\n",
      " 55%|█████▌    | 22/40 [01:06<00:34,  1.90s/it]\u001b[A\n",
      " 57%|█████▊    | 23/40 [01:07<00:31,  1.86s/it]\u001b[A\n",
      " 60%|██████    | 24/40 [01:13<00:46,  2.88s/it]\u001b[A\n",
      " 62%|██████▎   | 25/40 [01:14<00:38,  2.56s/it]\u001b[A\n",
      " 65%|██████▌   | 26/40 [01:16<00:32,  2.35s/it]\u001b[A\n",
      " 68%|██████▊   | 27/40 [01:18<00:29,  2.28s/it]\u001b[A\n",
      " 70%|███████   | 28/40 [01:20<00:25,  2.14s/it]\u001b[A\n",
      " 72%|███████▎  | 29/40 [01:22<00:22,  2.05s/it]\u001b[A\n",
      " 75%|███████▌  | 30/40 [01:23<00:16,  1.69s/it]\u001b[A\n",
      " 78%|███████▊  | 31/40 [01:24<00:13,  1.46s/it]\u001b[A\n",
      " 80%|████████  | 32/40 [01:25<00:10,  1.27s/it]\u001b[A\n",
      " 82%|████████▎ | 33/40 [01:25<00:07,  1.10s/it]\u001b[A\n",
      " 85%|████████▌ | 34/40 [01:26<00:05,  1.04it/s]\u001b[A\n",
      " 88%|████████▊ | 35/40 [01:26<00:04,  1.24it/s]\u001b[A\n",
      " 90%|█████████ | 36/40 [01:27<00:02,  1.50it/s]\u001b[A\n",
      " 92%|█████████▎| 37/40 [01:27<00:01,  1.83it/s]\u001b[A\n",
      "100%|██████████| 40/40 [01:27<00:00,  2.19s/it]\u001b[A\n",
      " 43%|████▎     | 44/103 [54:59<1:20:17, 81.65s/it]"
     ]
    },
    {
     "name": "stdout",
     "output_type": "stream",
     "text": [
      "Row(ct=17031081600, ca=8)\n"
     ]
    },
    {
     "name": "stderr",
     "output_type": "stream",
     "text": [
      "\n",
      "  0%|          | 0/38 [00:00<?, ?it/s]\u001b[A\n",
      "  3%|▎         | 1/38 [00:12<07:32, 12.24s/it]\u001b[A\n",
      "  5%|▌         | 2/38 [00:16<04:29,  7.50s/it]\u001b[A\n",
      "  8%|▊         | 3/38 [00:19<03:17,  5.65s/it]\u001b[A\n",
      " 11%|█         | 4/38 [00:23<02:41,  4.74s/it]\u001b[A\n",
      " 13%|█▎        | 5/38 [00:26<02:18,  4.20s/it]\u001b[A\n",
      " 16%|█▌        | 6/38 [00:30<02:09,  4.04s/it]\u001b[A\n",
      " 18%|█▊        | 7/38 [00:33<01:56,  3.77s/it]\u001b[A\n",
      " 21%|██        | 8/38 [00:35<01:40,  3.36s/it]\u001b[A\n",
      " 24%|██▎       | 9/38 [00:38<01:30,  3.13s/it]\u001b[A\n",
      " 26%|██▋       | 10/38 [00:41<01:23,  2.98s/it]\u001b[A\n",
      " 29%|██▉       | 11/38 [00:43<01:16,  2.82s/it]\u001b[A\n",
      " 32%|███▏      | 12/38 [00:46<01:09,  2.69s/it]\u001b[A\n",
      " 34%|███▍      | 13/38 [00:48<01:03,  2.53s/it]\u001b[A\n",
      " 37%|███▋      | 14/38 [00:50<00:58,  2.42s/it]\u001b[A\n",
      " 39%|███▉      | 15/38 [00:52<00:55,  2.43s/it]\u001b[A\n",
      " 42%|████▏     | 16/38 [00:54<00:49,  2.25s/it]\u001b[A"
     ]
    },
    {
     "name": "stdout",
     "output_type": "stream",
     "text": [
      "comp2_d_compless5_d 0.6583816160460397\n"
     ]
    },
    {
     "name": "stderr",
     "output_type": "stream",
     "text": [
      "\n",
      " 45%|████▍     | 17/38 [00:56<00:44,  2.14s/it]\u001b[A\n",
      " 47%|████▋     | 18/38 [00:58<00:41,  2.06s/it]\u001b[A\n",
      " 50%|█████     | 19/38 [01:00<00:37,  2.00s/it]\u001b[A\n",
      " 53%|█████▎    | 20/38 [01:01<00:34,  1.91s/it]\u001b[A\n",
      " 55%|█████▌    | 21/38 [01:03<00:31,  1.83s/it]\u001b[A\n",
      " 58%|█████▊    | 22/38 [01:05<00:28,  1.78s/it]\u001b[A\n",
      " 61%|██████    | 23/38 [01:06<00:25,  1.68s/it]\u001b[A\n",
      " 63%|██████▎   | 24/38 [01:07<00:21,  1.54s/it]\u001b[A\n",
      " 66%|██████▌   | 25/38 [01:09<00:19,  1.49s/it]\u001b[A\n",
      " 68%|██████▊   | 26/38 [01:10<00:16,  1.40s/it]\u001b[A\n",
      " 71%|███████   | 27/38 [01:11<00:14,  1.30s/it]\u001b[A\n",
      " 74%|███████▎  | 28/38 [01:12<00:12,  1.22s/it]\u001b[A\n",
      " 76%|███████▋  | 29/38 [01:13<00:10,  1.13s/it]\u001b[A\n",
      " 79%|███████▉  | 30/38 [01:14<00:08,  1.03s/it]\u001b[A\n",
      " 82%|████████▏ | 31/38 [01:14<00:06,  1.11it/s]\u001b[A\n",
      " 84%|████████▍ | 32/38 [01:15<00:04,  1.22it/s]\u001b[A\n",
      " 87%|████████▋ | 33/38 [01:16<00:03,  1.36it/s]\u001b[A\n",
      " 89%|████████▉ | 34/38 [01:16<00:02,  1.48it/s]\u001b[A\n",
      " 92%|█████████▏| 35/38 [01:16<00:01,  1.81it/s]\u001b[A\n",
      "100%|██████████| 38/38 [01:17<00:00,  2.03s/it]\u001b[A\n",
      " 44%|████▎     | 45/103 [56:17<1:17:59, 80.68s/it]"
     ]
    },
    {
     "name": "stdout",
     "output_type": "stream",
     "text": [
      "Row(ct=17031200300, ca=14)\n"
     ]
    },
    {
     "name": "stderr",
     "output_type": "stream",
     "text": [
      "\n",
      "  0%|          | 0/42 [00:00<?, ?it/s]\u001b[A\n",
      "  2%|▏         | 1/42 [00:04<03:05,  4.53s/it]\u001b[A\n",
      "  5%|▍         | 2/42 [00:13<04:34,  6.86s/it]\u001b[A\n",
      "  7%|▋         | 3/42 [00:16<03:26,  5.30s/it]\u001b[A\n",
      " 10%|▉         | 4/42 [00:19<02:52,  4.55s/it]\u001b[A\n",
      " 12%|█▏        | 5/42 [00:23<02:40,  4.34s/it]\u001b[A\n",
      " 14%|█▍        | 6/42 [00:26<02:20,  3.90s/it]\u001b[A\n",
      " 17%|█▋        | 7/42 [00:30<02:11,  3.75s/it]\u001b[A\n",
      " 19%|█▉        | 8/42 [00:33<02:01,  3.57s/it]\u001b[A\n",
      " 21%|██▏       | 9/42 [00:36<01:54,  3.46s/it]\u001b[A\n",
      " 24%|██▍       | 10/42 [00:39<01:43,  3.22s/it]\u001b[A\n",
      " 26%|██▌       | 11/42 [00:42<01:38,  3.17s/it]\u001b[A\n",
      " 29%|██▊       | 12/42 [00:45<01:30,  3.03s/it]\u001b[A\n",
      " 31%|███       | 13/42 [00:47<01:24,  2.91s/it]\u001b[A\n",
      " 33%|███▎      | 14/42 [00:50<01:17,  2.77s/it]\u001b[A\n",
      " 36%|███▌      | 15/42 [00:52<01:13,  2.71s/it]\u001b[A\n",
      " 38%|███▊      | 16/42 [00:55<01:09,  2.67s/it]\u001b[A\n",
      " 40%|████      | 17/42 [00:57<01:03,  2.54s/it]\u001b[A\n",
      " 43%|████▎     | 18/42 [01:00<01:00,  2.50s/it]\u001b[A\n",
      " 45%|████▌     | 19/42 [01:02<00:53,  2.34s/it]\u001b[A\n",
      " 48%|████▊     | 20/42 [01:04<00:50,  2.30s/it]\u001b[A\n",
      " 50%|█████     | 21/42 [01:06<00:47,  2.26s/it]\u001b[A\n",
      " 52%|█████▏    | 22/42 [01:08<00:43,  2.17s/it]\u001b[A\n",
      " 55%|█████▍    | 23/42 [01:10<00:38,  2.05s/it]\u001b[A\n",
      " 57%|█████▋    | 24/42 [01:11<00:34,  1.91s/it]\u001b[A\n",
      " 60%|█████▉    | 25/42 [01:13<00:31,  1.87s/it]\u001b[A\n",
      " 62%|██████▏   | 26/42 [01:14<00:26,  1.68s/it]\u001b[A"
     ]
    },
    {
     "name": "stdout",
     "output_type": "stream",
     "text": [
      "trips_p_growth_1_to_0_velocity_p_growth_4_to_3 0.713792455823825\n"
     ]
    },
    {
     "name": "stderr",
     "output_type": "stream",
     "text": [
      "\n",
      " 64%|██████▍   | 27/42 [01:17<00:28,  1.88s/it]\u001b[A\n",
      " 67%|██████▋   | 28/42 [01:18<00:23,  1.71s/it]\u001b[A\n",
      " 69%|██████▉   | 29/42 [01:19<00:19,  1.51s/it]\u001b[A\n",
      " 71%|███████▏  | 30/42 [01:20<00:16,  1.37s/it]\u001b[A\n",
      " 74%|███████▍  | 31/42 [01:21<00:13,  1.20s/it]\u001b[A\n",
      " 76%|███████▌  | 32/42 [01:22<00:11,  1.11s/it]\u001b[A\n",
      " 79%|███████▊  | 33/42 [01:22<00:09,  1.02s/it]\u001b[A\n",
      " 81%|████████  | 34/42 [01:23<00:07,  1.04it/s]\u001b[A\n",
      " 83%|████████▎ | 35/42 [01:24<00:06,  1.12it/s]\u001b[A\n",
      " 86%|████████▌ | 36/42 [01:25<00:04,  1.27it/s]\u001b[A\n",
      " 88%|████████▊ | 37/42 [01:25<00:03,  1.49it/s]\u001b[A\n",
      " 90%|█████████ | 38/42 [01:25<00:02,  1.68it/s]\u001b[A\n",
      " 93%|█████████▎| 39/42 [01:26<00:01,  2.06it/s]\u001b[A\n",
      "100%|██████████| 42/42 [01:26<00:00,  2.06s/it]\u001b[A\n",
      " 45%|████▍     | 46/103 [57:44<1:18:20, 82.47s/it]"
     ]
    },
    {
     "name": "stdout",
     "output_type": "stream",
     "text": [
      "Row(ct=17031010702, ca=76)\n"
     ]
    },
    {
     "name": "stderr",
     "output_type": "stream",
     "text": [
      "\n",
      "  0%|          | 0/34 [00:00<?, ?it/s]\u001b[A\n",
      "  3%|▎         | 1/34 [00:05<03:15,  5.91s/it]\u001b[A\n",
      "  6%|▌         | 2/34 [00:12<03:21,  6.30s/it]\u001b[A\n",
      "  9%|▉         | 3/34 [00:16<02:37,  5.07s/it]\u001b[A\n",
      " 12%|█▏        | 4/34 [00:19<02:07,  4.25s/it]\u001b[A\n",
      " 15%|█▍        | 5/34 [00:21<01:46,  3.68s/it]\u001b[A\n",
      " 18%|█▊        | 6/34 [00:24<01:35,  3.40s/it]\u001b[A\n",
      " 21%|██        | 7/34 [00:27<01:24,  3.11s/it]\u001b[A\n",
      " 24%|██▎       | 8/34 [00:29<01:17,  2.97s/it]\u001b[A\n",
      " 26%|██▋       | 9/34 [00:33<01:19,  3.18s/it]\u001b[A\n",
      " 29%|██▉       | 10/34 [00:35<01:11,  2.97s/it]\u001b[A\n",
      " 32%|███▏      | 11/34 [00:41<01:23,  3.65s/it]\u001b[A"
     ]
    },
    {
     "name": "stdout",
     "output_type": "stream",
     "text": [
      "totalm_d_velocity_d_growth_3_to_2 -0.9839165527815\n"
     ]
    },
    {
     "name": "stderr",
     "output_type": "stream",
     "text": [
      "\n",
      " 35%|███▌      | 12/34 [00:43<01:09,  3.17s/it]\u001b[A\n",
      " 38%|███▊      | 13/34 [00:45<01:02,  2.97s/it]\u001b[A\n",
      " 41%|████      | 14/34 [01:01<02:19,  6.99s/it]\u001b[A\n",
      " 44%|████▍     | 15/34 [01:04<01:47,  5.64s/it]\u001b[A\n",
      " 47%|████▋     | 16/34 [01:06<01:23,  4.62s/it]\u001b[A\n",
      " 50%|█████     | 17/34 [01:12<01:22,  4.87s/it]\u001b[A\n",
      " 53%|█████▎    | 18/34 [01:19<01:29,  5.57s/it]\u001b[A\n",
      " 56%|█████▌    | 19/34 [01:20<01:05,  4.36s/it]\u001b[A\n",
      " 59%|█████▉    | 20/34 [01:25<01:01,  4.39s/it]\u001b[A\n",
      " 62%|██████▏   | 21/34 [01:26<00:44,  3.43s/it]\u001b[A\n",
      " 65%|██████▍   | 22/34 [01:37<01:06,  5.56s/it]\u001b[A\n",
      " 68%|██████▊   | 23/34 [01:43<01:02,  5.72s/it]\u001b[A\n",
      " 71%|███████   | 24/34 [01:51<01:04,  6.48s/it]\u001b[A\n",
      " 74%|███████▎  | 25/34 [01:52<00:43,  4.88s/it]\u001b[A\n",
      " 76%|███████▋  | 26/34 [01:53<00:28,  3.62s/it]\u001b[A\n",
      " 79%|███████▉  | 27/34 [01:54<00:20,  2.90s/it]\u001b[A\n",
      " 88%|████████▊ | 30/34 [01:55<00:06,  1.51s/it]\u001b[A\n",
      " 91%|█████████ | 31/34 [01:57<00:04,  1.48s/it]\u001b[A\n",
      " 94%|█████████▍| 32/34 [01:57<00:02,  1.18s/it]\u001b[A\n",
      "100%|██████████| 34/34 [01:57<00:00,  3.46s/it]\u001b[A\n",
      " 46%|████▌     | 47/103 [59:42<1:26:55, 93.13s/it]"
     ]
    },
    {
     "name": "stdout",
     "output_type": "stream",
     "text": [
      "Row(ct=17031281900, ca=28)\n"
     ]
    },
    {
     "name": "stderr",
     "output_type": "stream",
     "text": [
      "\n",
      "  0%|          | 0/27 [00:00<?, ?it/s]\u001b[A\n",
      "  4%|▎         | 1/27 [00:23<10:17, 23.76s/it]\u001b[A\n",
      "  7%|▋         | 2/27 [00:26<04:39, 11.17s/it]\u001b[A\n",
      " 11%|█         | 3/27 [00:28<02:50,  7.08s/it]\u001b[A\n",
      " 15%|█▍        | 4/27 [00:30<01:57,  5.12s/it]\u001b[A\n",
      " 19%|█▊        | 5/27 [00:32<01:28,  4.03s/it]\u001b[A\n",
      " 22%|██▏       | 6/27 [00:34<01:08,  3.28s/it]\u001b[A\n",
      " 26%|██▌       | 7/27 [00:36<00:56,  2.85s/it]\u001b[A\n",
      " 30%|██▉       | 8/27 [00:43<01:18,  4.13s/it]\u001b[A"
     ]
    },
    {
     "name": "stdout",
     "output_type": "stream",
     "text": [
      "comp5_d_compless5_d 0.6743149834197938\n"
     ]
    },
    {
     "name": "stderr",
     "output_type": "stream",
     "text": [
      "\n",
      " 33%|███▎      | 9/27 [00:46<01:10,  3.94s/it]\u001b[A\n",
      " 37%|███▋      | 10/27 [00:48<00:54,  3.18s/it]\u001b[A\n",
      " 41%|████      | 11/27 [00:49<00:42,  2.65s/it]\u001b[A\n",
      " 44%|████▍     | 12/27 [00:51<00:34,  2.32s/it]\u001b[A\n",
      " 48%|████▊     | 13/27 [00:52<00:28,  2.04s/it]\u001b[A\n",
      " 52%|█████▏    | 14/27 [00:53<00:22,  1.76s/it]\u001b[A\n",
      " 56%|█████▌    | 15/27 [00:54<00:18,  1.54s/it]\u001b[A\n",
      " 59%|█████▉    | 16/27 [00:55<00:14,  1.35s/it]\u001b[A\n",
      " 63%|██████▎   | 17/27 [00:56<00:12,  1.23s/it]\u001b[A\n",
      " 67%|██████▋   | 18/27 [00:57<00:10,  1.19s/it]\u001b[A\n",
      " 70%|███████   | 19/27 [00:58<00:08,  1.08s/it]\u001b[A\n",
      " 74%|███████▍  | 20/27 [00:59<00:06,  1.09it/s]\u001b[A\n",
      " 78%|███████▊  | 21/27 [00:59<00:04,  1.28it/s]\u001b[A\n",
      " 81%|████████▏ | 22/27 [01:00<00:03,  1.42it/s]\u001b[A\n",
      " 85%|████████▌ | 23/27 [01:00<00:02,  1.56it/s]\u001b[A\n",
      " 89%|████████▉ | 24/27 [01:00<00:01,  1.83it/s]\u001b[A\n",
      " 93%|█████████▎| 25/27 [01:01<00:00,  2.28it/s]\u001b[A\n",
      "100%|██████████| 27/27 [01:01<00:00,  2.27s/it]\u001b[A\n",
      " 47%|████▋     | 48/103 [1:00:46<1:17:22, 84.41s/it]"
     ]
    },
    {
     "name": "stdout",
     "output_type": "stream",
     "text": [
      "Row(ct=17031833000, ca=28)\n"
     ]
    },
    {
     "name": "stderr",
     "output_type": "stream",
     "text": [
      "\n",
      "  0%|          | 0/34 [00:00<?, ?it/s]\u001b[A"
     ]
    },
    {
     "name": "stdout",
     "output_type": "stream",
     "text": [
      "ca_cumulative_balance -0.8387502212172201\n"
     ]
    },
    {
     "name": "stderr",
     "output_type": "stream",
     "text": [
      "\n",
      "  3%|▎         | 1/34 [00:03<02:02,  3.70s/it]\u001b[A"
     ]
    },
    {
     "name": "stdout",
     "output_type": "stream",
     "text": [
      "miles_p_velocity_p 0.6863268378296378\n"
     ]
    },
    {
     "name": "stderr",
     "output_type": "stream",
     "text": [
      "\n",
      "  6%|▌         | 2/34 [00:06<01:43,  3.22s/it]\u001b[A\n",
      "  9%|▉         | 3/34 [00:10<01:44,  3.38s/it]\u001b[A\n",
      " 12%|█▏        | 4/34 [00:13<01:37,  3.26s/it]\u001b[A\n",
      " 15%|█▍        | 5/34 [00:16<01:31,  3.15s/it]\u001b[A"
     ]
    },
    {
     "name": "stdout",
     "output_type": "stream",
     "text": [
      "totalm_p_velocity_p_growth_4_to_3 -0.9376246683389724\n"
     ]
    },
    {
     "name": "stderr",
     "output_type": "stream",
     "text": [
      "\n",
      " 18%|█▊        | 6/34 [00:22<01:57,  4.18s/it]\u001b[A\n",
      " 21%|██        | 7/34 [00:29<02:19,  5.15s/it]\u001b[A\n",
      " 24%|██▎       | 8/34 [00:31<01:50,  4.25s/it]\u001b[A\n",
      " 26%|██▋       | 9/34 [00:34<01:31,  3.67s/it]\u001b[A\n",
      " 29%|██▉       | 10/34 [00:36<01:17,  3.23s/it]\u001b[A\n",
      " 32%|███▏      | 11/34 [00:39<01:13,  3.19s/it]\u001b[A\n",
      " 35%|███▌      | 12/34 [00:42<01:06,  3.01s/it]\u001b[A\n",
      " 38%|███▊      | 13/34 [00:44<00:57,  2.74s/it]\u001b[A\n",
      " 41%|████      | 14/34 [00:46<00:53,  2.70s/it]\u001b[A\n",
      " 44%|████▍     | 15/34 [00:51<01:00,  3.17s/it]\u001b[A\n",
      " 47%|████▋     | 16/34 [00:52<00:49,  2.73s/it]\u001b[A"
     ]
    },
    {
     "name": "stdout",
     "output_type": "stream",
     "text": [
      "totalm_d_velocity_d_growth_4_to_3 -0.849839271903481\n"
     ]
    },
    {
     "name": "stderr",
     "output_type": "stream",
     "text": [
      "\n",
      " 50%|█████     | 17/34 [00:54<00:39,  2.30s/it]\u001b[A\n",
      " 53%|█████▎    | 18/34 [00:55<00:32,  2.04s/it]\u001b[A\n",
      " 56%|█████▌    | 19/34 [00:56<00:27,  1.82s/it]\u001b[A\n",
      " 59%|█████▉    | 20/34 [00:58<00:23,  1.70s/it]\u001b[A\n",
      " 62%|██████▏   | 21/34 [00:59<00:21,  1.64s/it]\u001b[A\n",
      " 65%|██████▍   | 22/34 [01:00<00:17,  1.48s/it]\u001b[A\n",
      " 68%|██████▊   | 23/34 [01:01<00:14,  1.33s/it]\u001b[A\n",
      " 71%|███████   | 24/34 [01:02<00:12,  1.24s/it]\u001b[A\n",
      " 74%|███████▎  | 25/34 [01:03<00:09,  1.06s/it]\u001b[A\n",
      " 76%|███████▋  | 26/34 [01:04<00:07,  1.00it/s]\u001b[A\n",
      " 79%|███████▉  | 27/34 [01:05<00:06,  1.14it/s]\u001b[A\n",
      " 82%|████████▏ | 28/34 [01:05<00:04,  1.32it/s]\u001b[A\n",
      " 85%|████████▌ | 29/34 [01:05<00:03,  1.53it/s]\u001b[A\n",
      " 88%|████████▊ | 30/34 [01:06<00:02,  1.70it/s]\u001b[A\n",
      " 91%|█████████ | 31/34 [01:06<00:01,  1.69it/s]\u001b[A\n",
      " 94%|█████████▍| 32/34 [01:07<00:01,  1.69it/s]\u001b[A\n",
      "100%|██████████| 34/34 [01:07<00:00,  2.00s/it]\u001b[A\n",
      " 48%|████▊     | 49/103 [1:01:54<1:11:38, 79.59s/it]"
     ]
    },
    {
     "name": "stdout",
     "output_type": "stream",
     "text": [
      "Row(ct=17031838200, ca=28)\n"
     ]
    },
    {
     "name": "stderr",
     "output_type": "stream",
     "text": [
      "\n",
      "  0%|          | 0/39 [00:00<?, ?it/s]\u001b[A\n",
      "  3%|▎         | 1/39 [00:07<04:33,  7.19s/it]\u001b[A\n",
      "  5%|▌         | 2/39 [00:10<03:01,  4.90s/it]\u001b[A\n",
      "  8%|▊         | 3/39 [00:13<02:31,  4.21s/it]\u001b[A\n",
      " 10%|█         | 4/39 [00:16<02:10,  3.74s/it]\u001b[A\n",
      " 13%|█▎        | 5/39 [00:20<02:02,  3.59s/it]\u001b[A\n",
      " 15%|█▌        | 6/39 [00:23<01:53,  3.43s/it]\u001b[A\n",
      " 18%|█▊        | 7/39 [00:26<01:42,  3.21s/it]\u001b[A\n",
      " 21%|██        | 8/39 [00:28<01:35,  3.08s/it]\u001b[A\n",
      " 23%|██▎       | 9/39 [00:31<01:30,  3.01s/it]\u001b[A\n",
      " 26%|██▌       | 10/39 [00:34<01:24,  2.90s/it]\u001b[A\n",
      " 28%|██▊       | 11/39 [00:36<01:16,  2.74s/it]\u001b[A\n",
      " 31%|███       | 12/39 [00:39<01:12,  2.68s/it]\u001b[A\n",
      " 33%|███▎      | 13/39 [00:41<01:08,  2.65s/it]\u001b[A\n",
      " 36%|███▌      | 14/39 [00:44<01:03,  2.54s/it]\u001b[A\n",
      " 38%|███▊      | 15/39 [00:46<00:59,  2.48s/it]\u001b[A\n",
      " 41%|████      | 16/39 [00:48<00:54,  2.36s/it]\u001b[A\n",
      " 44%|████▎     | 17/39 [00:51<00:54,  2.47s/it]\u001b[A\n",
      " 46%|████▌     | 18/39 [00:57<01:15,  3.62s/it]\u001b[A\n",
      " 49%|████▊     | 19/39 [00:59<01:01,  3.08s/it]\u001b[A\n",
      " 51%|█████▏    | 20/39 [01:01<00:51,  2.70s/it]\u001b[A\n",
      " 54%|█████▍    | 21/39 [01:03<00:43,  2.43s/it]\u001b[A\n",
      " 56%|█████▋    | 22/39 [01:04<00:38,  2.24s/it]\u001b[A\n",
      " 59%|█████▉    | 23/39 [01:06<00:32,  2.02s/it]\u001b[A\n",
      " 62%|██████▏   | 24/39 [01:07<00:27,  1.87s/it]\u001b[A\n",
      " 64%|██████▍   | 25/39 [01:09<00:23,  1.69s/it]\u001b[A\n",
      " 67%|██████▋   | 26/39 [01:10<00:21,  1.63s/it]\u001b[A\n",
      " 69%|██████▉   | 27/39 [01:11<00:17,  1.47s/it]\u001b[A\n",
      " 72%|███████▏  | 28/39 [01:12<00:14,  1.31s/it]\u001b[A\n",
      " 74%|███████▍  | 29/39 [01:13<00:11,  1.19s/it]\u001b[A\n",
      " 77%|███████▋  | 30/39 [01:14<00:09,  1.05s/it]\u001b[A\n",
      " 79%|███████▉  | 31/39 [01:15<00:07,  1.04it/s]\u001b[A\n",
      " 82%|████████▏ | 32/39 [01:15<00:05,  1.18it/s]\u001b[A\n",
      " 85%|████████▍ | 33/39 [01:16<00:04,  1.25it/s]\u001b[A\n",
      " 87%|████████▋ | 34/39 [01:16<00:03,  1.41it/s]\u001b[A\n",
      " 90%|████████▉ | 35/39 [01:17<00:02,  1.68it/s]\u001b[A\n",
      " 92%|█████████▏| 36/39 [01:17<00:01,  2.05it/s]\u001b[A\n",
      "100%|██████████| 39/39 [01:17<00:00,  1.99s/it]\u001b[A\n",
      " 49%|████▊     | 50/103 [1:03:13<1:10:03, 79.31s/it]"
     ]
    },
    {
     "name": "stdout",
     "output_type": "stream",
     "text": [
      "Row(ct=12000000038, ca=25)\n"
     ]
    },
    {
     "name": "stderr",
     "output_type": "stream",
     "text": [
      "\n",
      "  0%|          | 0/40 [00:00<?, ?it/s]\u001b[A\n",
      "  2%|▎         | 1/40 [00:04<02:44,  4.22s/it]\u001b[A\n",
      "  5%|▌         | 2/40 [00:07<02:20,  3.69s/it]\u001b[A\n",
      "  8%|▊         | 3/40 [00:10<02:08,  3.47s/it]\u001b[A\n",
      " 10%|█         | 4/40 [00:14<02:06,  3.51s/it]\u001b[A\n",
      " 12%|█▎        | 5/40 [00:17<01:58,  3.40s/it]\u001b[A\n",
      " 15%|█▌        | 6/40 [00:20<01:50,  3.25s/it]\u001b[A\n",
      " 18%|█▊        | 7/40 [00:23<01:49,  3.31s/it]\u001b[A\n",
      " 20%|██        | 8/40 [00:28<02:03,  3.85s/it]\u001b[A\n",
      " 22%|██▎       | 9/40 [00:31<01:48,  3.50s/it]\u001b[A\n",
      " 25%|██▌       | 10/40 [00:34<01:38,  3.27s/it]\u001b[A\n",
      " 28%|██▊       | 11/40 [00:37<01:31,  3.14s/it]\u001b[A\n",
      " 30%|███       | 12/40 [00:39<01:21,  2.92s/it]\u001b[A\n",
      " 32%|███▎      | 13/40 [00:42<01:16,  2.83s/it]\u001b[A\n",
      " 35%|███▌      | 14/40 [00:44<01:09,  2.69s/it]\u001b[A\n",
      " 38%|███▊      | 15/40 [00:46<01:03,  2.55s/it]\u001b[A\n",
      " 40%|████      | 16/40 [00:48<00:57,  2.42s/it]\u001b[A\n",
      " 42%|████▎     | 17/40 [00:50<00:52,  2.28s/it]\u001b[A\n",
      " 45%|████▌     | 18/40 [00:53<00:48,  2.23s/it]\u001b[A\n",
      " 48%|████▊     | 19/40 [00:55<00:45,  2.19s/it]\u001b[A\n",
      " 50%|█████     | 20/40 [00:56<00:40,  2.02s/it]\u001b[A\n",
      " 52%|█████▎    | 21/40 [00:58<00:36,  1.91s/it]\u001b[A\n",
      " 55%|█████▌    | 22/40 [01:00<00:33,  1.85s/it]\u001b[A\n",
      " 57%|█████▊    | 23/40 [01:01<00:29,  1.74s/it]\u001b[A\n",
      " 60%|██████    | 24/40 [01:03<00:27,  1.74s/it]\u001b[A"
     ]
    },
    {
     "name": "stdout",
     "output_type": "stream",
     "text": [
      "trips_p_growth_1_to_0_velocity_p_growth_4_to_3 0.7762243462216842\n"
     ]
    },
    {
     "name": "stderr",
     "output_type": "stream",
     "text": [
      "\n",
      " 62%|██████▎   | 25/40 [01:04<00:24,  1.63s/it]\u001b[A\n",
      " 65%|██████▌   | 26/40 [01:06<00:22,  1.61s/it]\u001b[A\n",
      " 68%|██████▊   | 27/40 [01:07<00:18,  1.42s/it]\u001b[A\n",
      " 70%|███████   | 28/40 [01:08<00:15,  1.33s/it]\u001b[A\n",
      " 72%|███████▎  | 29/40 [01:09<00:12,  1.17s/it]\u001b[A\n",
      " 75%|███████▌  | 30/40 [01:10<00:11,  1.11s/it]\u001b[A\n",
      " 78%|███████▊  | 31/40 [01:10<00:08,  1.03it/s]\u001b[A\n",
      " 80%|████████  | 32/40 [01:11<00:07,  1.08it/s]\u001b[A\n",
      " 82%|████████▎ | 33/40 [01:12<00:06,  1.13it/s]\u001b[A\n",
      " 85%|████████▌ | 34/40 [01:12<00:04,  1.30it/s]\u001b[A\n",
      " 88%|████████▊ | 35/40 [01:13<00:03,  1.49it/s]\u001b[A\n",
      " 90%|█████████ | 36/40 [01:13<00:02,  1.65it/s]\u001b[A\n",
      " 92%|█████████▎| 37/40 [01:14<00:01,  1.96it/s]\u001b[A\n",
      " 95%|█████████▌| 38/40 [01:14<00:00,  2.21it/s]\u001b[A\n",
      "100%|██████████| 40/40 [01:14<00:00,  1.86s/it]\u001b[A\n",
      " 50%|████▉     | 51/103 [1:04:28<1:07:34, 77.96s/it]"
     ]
    },
    {
     "name": "stdout",
     "output_type": "stream",
     "text": [
      "Row(ct=17031320600, ca=32)\n"
     ]
    },
    {
     "name": "stderr",
     "output_type": "stream",
     "text": [
      "\n",
      "  0%|          | 0/31 [00:00<?, ?it/s]\u001b[A\n",
      "  3%|▎         | 1/31 [00:03<01:31,  3.05s/it]\u001b[A\n",
      "  6%|▋         | 2/31 [00:05<01:19,  2.74s/it]\u001b[A\n",
      " 10%|▉         | 3/31 [00:08<01:16,  2.74s/it]\u001b[A\n",
      " 13%|█▎        | 4/31 [00:10<01:11,  2.64s/it]\u001b[A\n",
      " 16%|█▌        | 5/31 [00:12<01:04,  2.47s/it]\u001b[A"
     ]
    },
    {
     "name": "stdout",
     "output_type": "stream",
     "text": [
      "comp4_p_compless5_p 0.6718473642695485\n"
     ]
    },
    {
     "name": "stderr",
     "output_type": "stream",
     "text": [
      "\n",
      " 19%|█▉        | 6/31 [00:15<00:58,  2.33s/it]\u001b[A\n",
      " 23%|██▎       | 7/31 [00:19<01:13,  3.05s/it]\u001b[A\n",
      " 26%|██▌       | 8/31 [00:21<01:02,  2.72s/it]\u001b[A\n",
      " 29%|██▉       | 9/31 [00:23<00:53,  2.44s/it]\u001b[A\n",
      " 32%|███▏      | 10/31 [00:25<00:46,  2.21s/it]\u001b[A"
     ]
    },
    {
     "name": "stdout",
     "output_type": "stream",
     "text": [
      "extrasm_d_totalm_d 0.7850673921638304\n"
     ]
    },
    {
     "name": "stderr",
     "output_type": "stream",
     "text": [
      "\n",
      " 35%|███▌      | 11/31 [00:26<00:40,  2.03s/it]\u001b[A\n",
      " 39%|███▊      | 12/31 [00:28<00:37,  1.98s/it]\u001b[A\n",
      " 42%|████▏     | 13/31 [00:30<00:33,  1.88s/it]\u001b[A\n",
      " 45%|████▌     | 14/31 [00:31<00:30,  1.81s/it]\u001b[A\n",
      " 48%|████▊     | 15/31 [00:33<00:28,  1.77s/it]\u001b[A\n",
      " 52%|█████▏    | 16/31 [00:34<00:25,  1.67s/it]\u001b[A\n",
      " 55%|█████▍    | 17/31 [00:36<00:22,  1.61s/it]\u001b[A\n",
      " 58%|█████▊    | 18/31 [00:41<00:35,  2.71s/it]\u001b[A\n",
      " 61%|██████▏   | 19/31 [00:43<00:27,  2.31s/it]\u001b[A\n",
      " 65%|██████▍   | 20/31 [00:44<00:21,  1.93s/it]\u001b[A\n",
      " 68%|██████▊   | 21/31 [00:44<00:15,  1.56s/it]\u001b[A\n",
      " 71%|███████   | 22/31 [00:45<00:12,  1.35s/it]\u001b[A\n",
      " 74%|███████▍  | 23/31 [00:46<00:09,  1.17s/it]\u001b[A\n",
      " 77%|███████▋  | 24/31 [00:47<00:06,  1.02it/s]\u001b[A\n",
      " 81%|████████  | 25/31 [00:47<00:05,  1.06it/s]\u001b[A\n",
      " 84%|████████▍ | 26/31 [00:48<00:04,  1.24it/s]\u001b[A\n",
      " 87%|████████▋ | 27/31 [00:48<00:02,  1.46it/s]\u001b[A\n",
      " 90%|█████████ | 28/31 [00:48<00:01,  1.81it/s]\u001b[A\n",
      " 94%|█████████▎| 29/31 [00:49<00:00,  2.30it/s]\u001b[A\n",
      "100%|██████████| 31/31 [00:49<00:00,  1.59s/it]\u001b[A\n",
      " 50%|█████     | 52/103 [1:05:17<59:05, 69.52s/it]  "
     ]
    },
    {
     "name": "stdout",
     "output_type": "stream",
     "text": [
      "Row(ct=12000000044, ca=10)\n"
     ]
    },
    {
     "name": "stderr",
     "output_type": "stream",
     "text": [
      "\n",
      "  0%|          | 0/40 [00:00<?, ?it/s]\u001b[A\n",
      "  2%|▎         | 1/40 [00:05<03:36,  5.56s/it]\u001b[A\n",
      "  5%|▌         | 2/40 [00:15<05:01,  7.93s/it]\u001b[A\n",
      "  8%|▊         | 3/40 [00:18<03:32,  5.74s/it]\u001b[A\n",
      " 10%|█         | 4/40 [00:21<02:52,  4.80s/it]\u001b[A"
     ]
    },
    {
     "name": "stdout",
     "output_type": "stream",
     "text": [
      "extrasm_p_extrasm_d 0.9973008027378786\n",
      "extrasm_p_totalm_d 0.8161334864021289\n"
     ]
    },
    {
     "name": "stderr",
     "output_type": "stream",
     "text": [
      "\n",
      " 12%|█▎        | 5/40 [00:29<03:22,  5.80s/it]\u001b[A\n",
      " 15%|█▌        | 6/40 [00:34<03:14,  5.71s/it]\u001b[A\n",
      " 18%|█▊        | 7/40 [00:37<02:38,  4.80s/it]\u001b[A\n",
      " 20%|██        | 8/40 [00:40<02:17,  4.29s/it]\u001b[A\n",
      " 22%|██▎       | 9/40 [00:43<01:56,  3.77s/it]\u001b[A\n",
      " 25%|██▌       | 10/40 [00:46<01:41,  3.39s/it]\u001b[A\n",
      " 28%|██▊       | 11/40 [00:48<01:32,  3.21s/it]\u001b[A\n",
      " 30%|███       | 12/40 [00:51<01:24,  3.02s/it]\u001b[A\n",
      " 32%|███▎      | 13/40 [00:53<01:15,  2.81s/it]\u001b[A\n",
      " 35%|███▌      | 14/40 [00:55<01:07,  2.61s/it]\u001b[A\n",
      " 38%|███▊      | 15/40 [00:58<01:05,  2.61s/it]\u001b[A"
     ]
    },
    {
     "name": "stdout",
     "output_type": "stream",
     "text": [
      "extrasm_d_totalm_d 0.8219685737750646\n"
     ]
    },
    {
     "name": "stderr",
     "output_type": "stream",
     "text": [
      "\n",
      " 40%|████      | 16/40 [01:00<00:59,  2.47s/it]\u001b[A\n",
      " 42%|████▎     | 17/40 [01:02<00:53,  2.31s/it]\u001b[A\n",
      " 45%|████▌     | 18/40 [01:04<00:49,  2.23s/it]\u001b[A\n",
      " 48%|████▊     | 19/40 [01:06<00:44,  2.13s/it]\u001b[A\n",
      " 50%|█████     | 20/40 [01:08<00:41,  2.07s/it]\u001b[A\n",
      " 52%|█████▎    | 21/40 [01:10<00:38,  2.02s/it]\u001b[A\n",
      " 55%|█████▌    | 22/40 [01:11<00:33,  1.87s/it]\u001b[A\n",
      " 57%|█████▊    | 23/40 [01:13<00:29,  1.76s/it]\u001b[A\n",
      " 60%|██████    | 24/40 [01:14<00:26,  1.68s/it]\u001b[A\n",
      " 62%|██████▎   | 25/40 [01:16<00:24,  1.60s/it]\u001b[A\n",
      " 65%|██████▌   | 26/40 [01:17<00:21,  1.52s/it]\u001b[A\n",
      " 68%|██████▊   | 27/40 [01:18<00:18,  1.40s/it]\u001b[A\n",
      " 70%|███████   | 28/40 [01:19<00:15,  1.30s/it]\u001b[A\n",
      " 72%|███████▎  | 29/40 [01:20<00:13,  1.22s/it]\u001b[A\n",
      " 75%|███████▌  | 30/40 [01:21<00:11,  1.15s/it]\u001b[A\n",
      " 78%|███████▊  | 31/40 [01:22<00:09,  1.09s/it]\u001b[A\n",
      " 80%|████████  | 32/40 [01:23<00:07,  1.02it/s]\u001b[A\n",
      " 82%|████████▎ | 33/40 [01:24<00:06,  1.13it/s]\u001b[A\n",
      " 85%|████████▌ | 34/40 [01:24<00:04,  1.28it/s]\u001b[A\n",
      " 88%|████████▊ | 35/40 [01:25<00:03,  1.46it/s]\u001b[A\n",
      " 90%|█████████ | 36/40 [01:25<00:02,  1.75it/s]\u001b[A\n",
      " 92%|█████████▎| 37/40 [01:25<00:01,  2.11it/s]\u001b[A\n",
      " 95%|█████████▌| 38/40 [01:25<00:00,  2.52it/s]\u001b[A\n",
      "100%|██████████| 40/40 [01:26<00:00,  2.15s/it]\u001b[A\n",
      " 51%|█████▏    | 53/103 [1:06:44<1:02:10, 74.62s/it]"
     ]
    },
    {
     "name": "stdout",
     "output_type": "stream",
     "text": [
      "Row(ct=17031242200, ca=7)\n"
     ]
    },
    {
     "name": "stderr",
     "output_type": "stream",
     "text": [
      "\n",
      "  0%|          | 0/34 [00:00<?, ?it/s]\u001b[A\n",
      "  3%|▎         | 1/34 [00:05<03:00,  5.47s/it]\u001b[A"
     ]
    },
    {
     "name": "stdout",
     "output_type": "stream",
     "text": [
      "miles_p_compless5_p 0.6885246880375941\n"
     ]
    },
    {
     "name": "stderr",
     "output_type": "stream",
     "text": [
      "\n",
      "  6%|▌         | 2/34 [00:09<02:36,  4.90s/it]\u001b[A\n",
      "  9%|▉         | 3/34 [00:12<02:03,  3.98s/it]\u001b[A\n",
      " 12%|█▏        | 4/34 [00:15<01:48,  3.61s/it]\u001b[A\n",
      " 15%|█▍        | 5/34 [00:18<01:32,  3.18s/it]\u001b[A\n",
      " 18%|█▊        | 6/34 [00:20<01:23,  2.99s/it]\u001b[A\n",
      " 21%|██        | 7/34 [00:23<01:16,  2.84s/it]\u001b[A"
     ]
    },
    {
     "name": "stdout",
     "output_type": "stream",
     "text": [
      "comp4_p_compless5_p 0.6609979527300298\n"
     ]
    },
    {
     "name": "stderr",
     "output_type": "stream",
     "text": [
      "\n",
      " 24%|██▎       | 8/34 [00:26<01:11,  2.75s/it]\u001b[A\n",
      " 26%|██▋       | 9/34 [00:28<01:04,  2.59s/it]\u001b[A\n",
      " 29%|██▉       | 10/34 [00:30<00:58,  2.45s/it]\u001b[A\n",
      " 32%|███▏      | 11/34 [00:32<00:56,  2.44s/it]\u001b[A"
     ]
    },
    {
     "name": "stdout",
     "output_type": "stream",
     "text": [
      "tipsm_d_totalm_d 0.8863959798600525\n"
     ]
    },
    {
     "name": "stderr",
     "output_type": "stream",
     "text": [
      "\n",
      " 35%|███▌      | 12/34 [00:34<00:51,  2.32s/it]\u001b[A"
     ]
    },
    {
     "name": "stdout",
     "output_type": "stream",
     "text": [
      "tipsm_d_velocity_d_growth_3_to_2 -0.8985503913665234\n"
     ]
    },
    {
     "name": "stderr",
     "output_type": "stream",
     "text": [
      "\n",
      " 38%|███▊      | 13/34 [00:36<00:45,  2.18s/it]\u001b[A\n",
      " 41%|████      | 14/34 [00:38<00:42,  2.10s/it]\u001b[A\n",
      " 44%|████▍     | 15/34 [00:40<00:37,  1.98s/it]\u001b[A"
     ]
    },
    {
     "name": "stdout",
     "output_type": "stream",
     "text": [
      "totalm_d_velocity_d_growth_3_to_2 -0.8464998141316908\n"
     ]
    },
    {
     "name": "stderr",
     "output_type": "stream",
     "text": [
      "\n",
      " 47%|████▋     | 16/34 [00:42<00:34,  1.92s/it]\u001b[A\n",
      " 50%|█████     | 17/34 [00:43<00:31,  1.85s/it]\u001b[A\n",
      " 53%|█████▎    | 18/34 [00:45<00:30,  1.91s/it]\u001b[A\n",
      " 56%|█████▌    | 19/34 [00:48<00:31,  2.11s/it]\u001b[A\n",
      " 59%|█████▉    | 20/34 [00:50<00:29,  2.08s/it]\u001b[A\n",
      " 62%|██████▏   | 21/34 [00:53<00:31,  2.39s/it]\u001b[A\n",
      " 65%|██████▍   | 22/34 [00:54<00:24,  2.03s/it]\u001b[A\n",
      " 68%|██████▊   | 23/34 [00:55<00:18,  1.69s/it]\u001b[A\n",
      " 71%|███████   | 24/34 [00:58<00:21,  2.18s/it]\u001b[A\n",
      " 74%|███████▎  | 25/34 [01:02<00:24,  2.72s/it]\u001b[A\n",
      " 76%|███████▋  | 26/34 [01:04<00:19,  2.41s/it]\u001b[A\n",
      " 79%|███████▉  | 27/34 [01:05<00:14,  2.00s/it]\u001b[A\n",
      " 82%|████████▏ | 28/34 [01:06<00:10,  1.75s/it]\u001b[A\n",
      " 85%|████████▌ | 29/34 [01:07<00:06,  1.34s/it]\u001b[A\n",
      " 88%|████████▊ | 30/34 [01:07<00:04,  1.09s/it]\u001b[A\n",
      " 91%|█████████ | 31/34 [01:08<00:02,  1.15it/s]\u001b[A\n",
      "100%|██████████| 34/34 [01:08<00:00,  2.01s/it]\u001b[A\n",
      " 52%|█████▏    | 54/103 [1:07:53<59:31, 72.88s/it]  "
     ]
    },
    {
     "name": "stdout",
     "output_type": "stream",
     "text": [
      "Row(ct=12000000026, ca=69)\n"
     ]
    },
    {
     "name": "stderr",
     "output_type": "stream",
     "text": [
      "\n",
      "  0%|          | 0/40 [00:00<?, ?it/s]\u001b[A\n",
      "  2%|▎         | 1/40 [00:06<04:05,  6.29s/it]\u001b[A\n",
      "  5%|▌         | 2/40 [00:09<02:52,  4.53s/it]\u001b[A\n",
      "  8%|▊         | 3/40 [00:12<02:27,  4.00s/it]\u001b[A"
     ]
    },
    {
     "name": "stdout",
     "output_type": "stream",
     "text": [
      "tipsm_p_extrasm_p 0.7514397159594407\n"
     ]
    },
    {
     "name": "stderr",
     "output_type": "stream",
     "text": [
      "\n",
      " 10%|█         | 4/40 [00:16<02:18,  3.84s/it]\u001b[A\n",
      " 12%|█▎        | 5/40 [00:19<02:04,  3.56s/it]\u001b[A\n",
      " 15%|█▌        | 6/40 [00:22<01:54,  3.37s/it]\u001b[A\n",
      " 18%|█▊        | 7/40 [00:25<01:46,  3.22s/it]\u001b[A\n",
      " 20%|██        | 8/40 [00:28<01:37,  3.04s/it]\u001b[A\n",
      " 22%|██▎       | 9/40 [00:30<01:31,  2.95s/it]\u001b[A\n",
      " 25%|██▌       | 10/40 [00:33<01:26,  2.89s/it]\u001b[A\n",
      " 28%|██▊       | 11/40 [00:36<01:20,  2.76s/it]\u001b[A\n",
      " 30%|███       | 12/40 [00:38<01:16,  2.72s/it]\u001b[A\n",
      " 32%|███▎      | 13/40 [00:41<01:09,  2.58s/it]\u001b[A"
     ]
    },
    {
     "name": "stdout",
     "output_type": "stream",
     "text": [
      "tipsm_d_extrasm_d 0.7764497165381619\n"
     ]
    },
    {
     "name": "stderr",
     "output_type": "stream",
     "text": [
      "\n",
      " 35%|███▌      | 14/40 [00:43<01:06,  2.56s/it]\u001b[A\n",
      " 38%|███▊      | 15/40 [00:45<01:00,  2.43s/it]\u001b[A\n",
      " 40%|████      | 16/40 [00:47<00:55,  2.29s/it]\u001b[A\n",
      " 42%|████▎     | 17/40 [00:49<00:51,  2.23s/it]\u001b[A\n",
      " 45%|████▌     | 18/40 [00:51<00:46,  2.10s/it]\u001b[A\n",
      " 48%|████▊     | 19/40 [00:53<00:43,  2.08s/it]\u001b[A\n",
      " 50%|█████     | 20/40 [00:55<00:41,  2.06s/it]\u001b[A\n",
      " 52%|█████▎    | 21/40 [00:57<00:36,  1.92s/it]\u001b[A\n",
      " 55%|█████▌    | 22/40 [00:58<00:32,  1.81s/it]\u001b[A\n",
      " 57%|█████▊    | 23/40 [01:00<00:28,  1.68s/it]\u001b[A\n",
      " 60%|██████    | 24/40 [01:01<00:25,  1.61s/it]\u001b[A\n",
      " 62%|██████▎   | 25/40 [01:03<00:23,  1.59s/it]\u001b[A\n",
      " 65%|██████▌   | 26/40 [01:04<00:21,  1.50s/it]\u001b[A\n",
      " 68%|██████▊   | 27/40 [01:05<00:18,  1.39s/it]\u001b[A\n",
      " 70%|███████   | 28/40 [01:06<00:15,  1.30s/it]\u001b[A\n",
      " 72%|███████▎  | 29/40 [01:07<00:13,  1.26s/it]\u001b[A\n",
      " 75%|███████▌  | 30/40 [01:08<00:11,  1.16s/it]\u001b[A\n",
      " 78%|███████▊  | 31/40 [01:09<00:09,  1.02s/it]\u001b[A\n",
      " 80%|████████  | 32/40 [01:10<00:07,  1.07it/s]\u001b[A\n",
      " 82%|████████▎ | 33/40 [01:10<00:05,  1.20it/s]\u001b[A\n",
      " 85%|████████▌ | 34/40 [01:11<00:04,  1.35it/s]\u001b[A\n",
      " 88%|████████▊ | 35/40 [01:11<00:03,  1.51it/s]\u001b[A\n",
      " 90%|█████████ | 36/40 [01:12<00:02,  1.68it/s]\u001b[A\n",
      " 92%|█████████▎| 37/40 [01:12<00:01,  1.98it/s]\u001b[A\n",
      " 95%|█████████▌| 38/40 [01:12<00:00,  2.50it/s]\u001b[A\n",
      "100%|██████████| 40/40 [01:12<00:00,  1.82s/it]\u001b[A\n",
      " 53%|█████▎    | 55/103 [1:09:06<58:26, 73.05s/it]"
     ]
    },
    {
     "name": "stdout",
     "output_type": "stream",
     "text": [
      "Row(ct=12000000043, ca=5)\n"
     ]
    },
    {
     "name": "stderr",
     "output_type": "stream",
     "text": [
      "\n",
      "  0%|          | 0/38 [00:00<?, ?it/s]\u001b[A\n",
      "  3%|▎         | 1/38 [00:03<02:21,  3.83s/it]\u001b[A\n",
      "  5%|▌         | 2/38 [00:12<04:04,  6.80s/it]\u001b[A\n",
      "  8%|▊         | 3/38 [00:15<02:55,  5.02s/it]\u001b[A\n",
      " 11%|█         | 4/38 [00:18<02:20,  4.14s/it]\u001b[A\n",
      " 13%|█▎        | 5/38 [00:21<02:05,  3.81s/it]\u001b[A\n",
      " 16%|█▌        | 6/38 [00:24<01:49,  3.44s/it]\u001b[A\n",
      " 18%|█▊        | 7/38 [00:27<01:39,  3.20s/it]\u001b[A\n",
      " 21%|██        | 8/38 [00:29<01:31,  3.04s/it]\u001b[A\n",
      " 24%|██▎       | 9/38 [00:32<01:25,  2.96s/it]\u001b[A\n",
      " 26%|██▋       | 10/38 [00:35<01:18,  2.81s/it]\u001b[A\n",
      " 29%|██▉       | 11/38 [00:37<01:13,  2.74s/it]\u001b[A\n",
      " 32%|███▏      | 12/38 [00:40<01:09,  2.68s/it]\u001b[A\n",
      " 34%|███▍      | 13/38 [00:43<01:10,  2.80s/it]\u001b[A\n",
      " 37%|███▋      | 14/38 [00:46<01:11,  2.96s/it]\u001b[A\n",
      " 39%|███▉      | 15/38 [00:49<01:08,  2.96s/it]\u001b[A\n",
      " 42%|████▏     | 16/38 [00:51<01:00,  2.74s/it]\u001b[A\n",
      " 45%|████▍     | 17/38 [00:53<00:52,  2.52s/it]\u001b[A\n",
      " 47%|████▋     | 18/38 [00:55<00:46,  2.32s/it]\u001b[A\n",
      " 50%|█████     | 19/38 [01:02<01:09,  3.66s/it]\u001b[A\n",
      " 53%|█████▎    | 20/38 [01:04<00:59,  3.30s/it]\u001b[A\n",
      " 55%|█████▌    | 21/38 [01:06<00:46,  2.75s/it]\u001b[A\n",
      " 58%|█████▊    | 22/38 [01:07<00:37,  2.34s/it]\u001b[A\n",
      " 61%|██████    | 23/38 [01:10<00:37,  2.50s/it]\u001b[A\n",
      " 63%|██████▎   | 24/38 [01:11<00:29,  2.11s/it]\u001b[A\n",
      " 66%|██████▌   | 25/38 [01:12<00:23,  1.81s/it]\u001b[A\n",
      " 68%|██████▊   | 26/38 [01:13<00:18,  1.56s/it]\u001b[A\n",
      " 71%|███████   | 27/38 [01:14<00:15,  1.39s/it]\u001b[A\n",
      " 74%|███████▎  | 28/38 [01:15<00:12,  1.28s/it]\u001b[A\n",
      " 76%|███████▋  | 29/38 [01:16<00:10,  1.13s/it]\u001b[A\n",
      " 79%|███████▉  | 30/38 [01:17<00:07,  1.00it/s]\u001b[A\n",
      " 82%|████████▏ | 31/38 [01:17<00:06,  1.16it/s]\u001b[A\n",
      " 84%|████████▍ | 32/38 [01:18<00:04,  1.32it/s]\u001b[A\n",
      " 87%|████████▋ | 33/38 [01:18<00:03,  1.42it/s]\u001b[A\n",
      " 89%|████████▉ | 34/38 [01:19<00:02,  1.58it/s]\u001b[A\n",
      " 92%|█████████▏| 35/38 [01:19<00:01,  1.90it/s]\u001b[A\n",
      "100%|██████████| 38/38 [01:19<00:00,  2.11s/it]\u001b[A\n",
      " 54%|█████▍    | 56/103 [1:10:27<58:55, 75.22s/it]"
     ]
    },
    {
     "name": "stdout",
     "output_type": "stream",
     "text": [
      "Row(ct=12000000027, ca=66)\n"
     ]
    },
    {
     "name": "stderr",
     "output_type": "stream",
     "text": [
      "\n",
      "  0%|          | 0/39 [00:00<?, ?it/s]\u001b[A\n",
      "  3%|▎         | 1/39 [00:06<04:06,  6.50s/it]\u001b[A\n",
      "  5%|▌         | 2/39 [00:21<06:59, 11.33s/it]\u001b[A\n",
      "  8%|▊         | 3/39 [00:24<04:31,  7.55s/it]\u001b[A\n",
      " 10%|█         | 4/39 [00:27<03:23,  5.80s/it]\u001b[A\n",
      " 13%|█▎        | 5/39 [00:31<02:58,  5.25s/it]\u001b[A\n",
      " 15%|█▌        | 6/39 [00:34<02:26,  4.44s/it]\u001b[A\n",
      " 18%|█▊        | 7/39 [00:37<02:03,  3.87s/it]\u001b[A\n",
      " 21%|██        | 8/39 [00:40<01:52,  3.62s/it]\u001b[A\n",
      " 23%|██▎       | 9/39 [00:42<01:38,  3.29s/it]\u001b[A\n",
      " 26%|██▌       | 10/39 [00:47<01:51,  3.85s/it]\u001b[A\n",
      " 28%|██▊       | 11/39 [00:57<02:38,  5.65s/it]\u001b[A\n",
      " 31%|███       | 12/39 [01:00<02:06,  4.70s/it]\u001b[A\n",
      " 33%|███▎      | 13/39 [01:02<01:44,  4.01s/it]\u001b[A\n",
      " 36%|███▌      | 14/39 [01:04<01:26,  3.46s/it]\u001b[A\n",
      " 38%|███▊      | 15/39 [01:06<01:12,  3.04s/it]\u001b[A\n",
      " 41%|████      | 16/39 [01:09<01:04,  2.80s/it]\u001b[A\n",
      " 44%|████▎     | 17/39 [01:11<00:58,  2.64s/it]\u001b[A\n",
      " 46%|████▌     | 18/39 [01:13<00:50,  2.39s/it]\u001b[A\n",
      " 49%|████▊     | 19/39 [01:15<00:44,  2.24s/it]\u001b[A\n",
      " 51%|█████▏    | 20/39 [01:17<00:40,  2.14s/it]\u001b[A\n",
      " 54%|█████▍    | 21/39 [01:20<00:48,  2.69s/it]\u001b[A\n",
      " 56%|█████▋    | 22/39 [01:23<00:47,  2.78s/it]\u001b[A\n",
      " 59%|█████▉    | 23/39 [01:27<00:46,  2.92s/it]\u001b[A\n",
      " 62%|██████▏   | 24/39 [01:28<00:38,  2.54s/it]\u001b[A\n",
      " 64%|██████▍   | 25/39 [01:30<00:29,  2.13s/it]\u001b[A\n",
      " 67%|██████▋   | 26/39 [01:31<00:23,  1.84s/it]\u001b[A\n",
      " 69%|██████▉   | 27/39 [01:32<00:19,  1.60s/it]\u001b[A\n",
      " 72%|███████▏  | 28/39 [01:33<00:15,  1.43s/it]\u001b[A\n",
      " 74%|███████▍  | 29/39 [01:34<00:13,  1.34s/it]\u001b[A\n",
      " 77%|███████▋  | 30/39 [01:35<00:10,  1.16s/it]\u001b[A\n",
      " 79%|███████▉  | 31/39 [01:35<00:08,  1.05s/it]\u001b[A\n",
      " 82%|████████▏ | 32/39 [01:36<00:06,  1.07it/s]\u001b[A\n",
      " 85%|████████▍ | 33/39 [01:37<00:04,  1.26it/s]\u001b[A\n",
      " 87%|████████▋ | 34/39 [01:37<00:03,  1.47it/s]\u001b[A\n",
      " 90%|████████▉ | 35/39 [01:37<00:02,  1.64it/s]\u001b[A\n",
      " 92%|█████████▏| 36/39 [01:38<00:01,  1.89it/s]\u001b[A\n",
      " 95%|█████████▍| 37/39 [01:38<00:00,  2.22it/s]\u001b[A\n",
      "100%|██████████| 39/39 [01:38<00:00,  2.53s/it]\u001b[A\n",
      " 55%|█████▌    | 57/103 [1:12:06<1:03:10, 82.41s/it]"
     ]
    },
    {
     "name": "stdout",
     "output_type": "stream",
     "text": [
      "Row(ct=17031071100, ca=17)\n"
     ]
    },
    {
     "name": "stderr",
     "output_type": "stream",
     "text": [
      "\n",
      "  0%|          | 0/36 [00:00<?, ?it/s]\u001b[A\n",
      "  3%|▎         | 1/36 [00:09<05:28,  9.37s/it]\u001b[A\n",
      "  6%|▌         | 2/36 [00:12<03:15,  5.76s/it]\u001b[A\n",
      "  8%|▊         | 3/36 [00:15<02:25,  4.40s/it]\u001b[A\n",
      " 11%|█         | 4/36 [00:18<02:00,  3.78s/it]\u001b[A\n",
      " 14%|█▍        | 5/36 [00:21<01:48,  3.51s/it]\u001b[A\n",
      " 17%|█▋        | 6/36 [00:24<01:43,  3.45s/it]\u001b[A\n",
      " 19%|█▉        | 7/36 [00:34<02:44,  5.69s/it]\u001b[A\n",
      " 22%|██▏       | 8/36 [00:38<02:19,  4.99s/it]\u001b[A\n",
      " 25%|██▌       | 9/36 [00:42<02:09,  4.81s/it]\u001b[A\n",
      " 28%|██▊       | 10/36 [00:49<02:20,  5.41s/it]\u001b[A\n",
      " 31%|███       | 11/36 [00:52<01:58,  4.74s/it]\u001b[A\n",
      " 33%|███▎      | 12/36 [00:55<01:38,  4.11s/it]\u001b[A\n",
      " 36%|███▌      | 13/36 [00:58<01:26,  3.76s/it]\u001b[A"
     ]
    },
    {
     "name": "stdout",
     "output_type": "stream",
     "text": [
      "extrasm_d_totalm_d 0.7704177254529267\n"
     ]
    },
    {
     "name": "stderr",
     "output_type": "stream",
     "text": [
      "\n",
      " 39%|███▉      | 14/36 [01:01<01:16,  3.45s/it]\u001b[A\n",
      " 42%|████▏     | 15/36 [01:03<01:07,  3.20s/it]\u001b[A\n",
      " 44%|████▍     | 16/36 [01:06<00:59,  2.98s/it]\u001b[A\n",
      " 47%|████▋     | 17/36 [01:09<00:55,  2.93s/it]\u001b[A\n",
      " 50%|█████     | 18/36 [01:11<00:48,  2.70s/it]\u001b[A\n",
      " 53%|█████▎    | 19/36 [01:12<00:39,  2.32s/it]\u001b[A\n",
      " 56%|█████▌    | 20/36 [01:14<00:35,  2.21s/it]\u001b[A\n",
      " 58%|█████▊    | 21/36 [01:15<00:29,  1.96s/it]\u001b[A\n",
      " 61%|██████    | 22/36 [01:17<00:24,  1.77s/it]\u001b[A\n",
      " 64%|██████▍   | 23/36 [01:19<00:22,  1.76s/it]\u001b[A\n",
      " 67%|██████▋   | 24/36 [01:20<00:20,  1.69s/it]\u001b[A\n",
      " 69%|██████▉   | 25/36 [01:21<00:17,  1.59s/it]\u001b[A\n",
      " 72%|███████▏  | 26/36 [01:22<00:13,  1.38s/it]\u001b[A\n",
      " 75%|███████▌  | 27/36 [01:23<00:11,  1.24s/it]\u001b[A\n",
      " 78%|███████▊  | 28/36 [01:24<00:09,  1.13s/it]\u001b[A\n",
      " 81%|████████  | 29/36 [01:25<00:06,  1.03it/s]\u001b[A\n",
      " 83%|████████▎ | 30/36 [01:25<00:05,  1.20it/s]\u001b[A\n",
      " 86%|████████▌ | 31/36 [01:26<00:03,  1.37it/s]\u001b[A\n",
      " 89%|████████▉ | 32/36 [01:26<00:02,  1.53it/s]\u001b[A\n",
      " 92%|█████████▏| 33/36 [01:26<00:01,  1.80it/s]\u001b[A\n",
      " 94%|█████████▍| 34/36 [01:27<00:00,  2.23it/s]\u001b[A\n",
      "100%|██████████| 36/36 [01:27<00:00,  2.42s/it]\u001b[A\n",
      " 56%|█████▋    | 58/103 [1:13:35<1:03:15, 84.34s/it]"
     ]
    },
    {
     "name": "stdout",
     "output_type": "stream",
     "text": [
      "Row(ct=12000000018, ca=72)\n"
     ]
    },
    {
     "name": "stderr",
     "output_type": "stream",
     "text": [
      "\n",
      "  0%|          | 0/37 [00:00<?, ?it/s]\u001b[A\n",
      "  3%|▎         | 1/37 [00:06<03:46,  6.28s/it]\u001b[A\n",
      "  5%|▌         | 2/37 [00:09<02:35,  4.43s/it]\u001b[A\n",
      "  8%|▊         | 3/37 [00:13<02:28,  4.36s/it]\u001b[A\n",
      " 11%|█         | 4/37 [00:16<02:10,  3.94s/it]\u001b[A\n",
      " 14%|█▎        | 5/37 [00:21<02:10,  4.08s/it]\u001b[A\n",
      " 16%|█▌        | 6/37 [00:24<01:54,  3.70s/it]\u001b[A\n",
      " 19%|█▉        | 7/37 [00:26<01:39,  3.33s/it]\u001b[A\n",
      " 22%|██▏       | 8/37 [00:32<01:59,  4.14s/it]\u001b[A\n",
      " 24%|██▍       | 9/37 [00:39<02:23,  5.11s/it]\u001b[A\n",
      " 27%|██▋       | 10/37 [00:42<02:00,  4.45s/it]\u001b[A\n",
      " 30%|██▉       | 11/37 [00:45<01:37,  3.76s/it]\u001b[A\n",
      " 32%|███▏      | 12/37 [00:47<01:21,  3.26s/it]\u001b[A\n",
      " 35%|███▌      | 13/37 [00:49<01:10,  2.93s/it]\u001b[A\n",
      " 38%|███▊      | 14/37 [00:51<01:01,  2.69s/it]\u001b[A\n",
      " 41%|████      | 15/37 [00:53<00:56,  2.56s/it]\u001b[A\n",
      " 43%|████▎     | 16/37 [00:55<00:49,  2.38s/it]\u001b[A\n",
      " 46%|████▌     | 17/37 [00:57<00:44,  2.22s/it]\u001b[A\n",
      " 49%|████▊     | 18/37 [00:59<00:39,  2.09s/it]\u001b[A\n",
      " 51%|█████▏    | 19/37 [01:01<00:37,  2.09s/it]\u001b[A\n",
      " 54%|█████▍    | 20/37 [01:02<00:32,  1.90s/it]\u001b[A\n",
      " 57%|█████▋    | 21/37 [01:04<00:30,  1.89s/it]\u001b[A\n",
      " 59%|█████▉    | 22/37 [01:06<00:26,  1.80s/it]\u001b[A"
     ]
    },
    {
     "name": "stdout",
     "output_type": "stream",
     "text": [
      "trips_p_growth_1_to_0_velocity_p_growth_4_to_3 0.8289532852365028\n"
     ]
    },
    {
     "name": "stderr",
     "output_type": "stream",
     "text": [
      "\n",
      " 62%|██████▏   | 23/37 [01:07<00:23,  1.65s/it]\u001b[A\n",
      " 65%|██████▍   | 24/37 [01:08<00:19,  1.48s/it]\u001b[A\n",
      " 68%|██████▊   | 25/37 [01:09<00:16,  1.34s/it]\u001b[A\n",
      " 70%|███████   | 26/37 [01:10<00:14,  1.28s/it]\u001b[A\n",
      " 73%|███████▎  | 27/37 [01:11<00:11,  1.19s/it]\u001b[A\n"
     ]
    },
    {
     "name": "stdout",
     "output_type": "stream",
     "text": [
      "trips_d_growth_2_to_1_velocity_d_growth_2_to_1 0.9369587850871358\n"
     ]
    },
    {
     "name": "stderr",
     "output_type": "stream",
     "text": [
      " 76%|███████▌  | 28/37 [01:12<00:09,  1.11s/it]\u001b[A\n",
      " 78%|███████▊  | 29/37 [01:13<00:08,  1.02s/it]\u001b[A\n",
      " 81%|████████  | 30/37 [01:14<00:06,  1.09it/s]\u001b[A\n",
      " 84%|████████▍ | 31/37 [01:14<00:04,  1.24it/s]\u001b[A\n",
      " 86%|████████▋ | 32/37 [01:15<00:03,  1.39it/s]\u001b[A\n",
      " 89%|████████▉ | 33/37 [01:15<00:02,  1.57it/s]\u001b[A\n",
      " 92%|█████████▏| 34/37 [01:16<00:01,  1.82it/s]\u001b[A\n",
      " 95%|█████████▍| 35/37 [01:16<00:00,  2.15it/s]\u001b[A\n",
      "100%|██████████| 37/37 [01:16<00:00,  2.07s/it]\u001b[A\n",
      " 57%|█████▋    | 59/103 [1:14:52<1:00:19, 82.26s/it]"
     ]
    },
    {
     "name": "stdout",
     "output_type": "stream",
     "text": [
      "Row(ct=17031839100, ca=32)\n"
     ]
    },
    {
     "name": "stderr",
     "output_type": "stream",
     "text": [
      "\n",
      "  0%|          | 0/28 [00:00<?, ?it/s]\u001b[A\n",
      "  4%|▎         | 1/28 [00:04<01:48,  4.01s/it]\u001b[A\n",
      "  7%|▋         | 2/28 [00:06<01:23,  3.21s/it]\u001b[A\n",
      " 11%|█         | 3/28 [00:09<01:12,  2.88s/it]\u001b[A\n",
      " 14%|█▍        | 4/28 [00:11<01:04,  2.69s/it]\u001b[A"
     ]
    },
    {
     "name": "stdout",
     "output_type": "stream",
     "text": [
      "totalm_p_velocity_p_growth_2_to_1 -0.6860069304607503\n"
     ]
    },
    {
     "name": "stderr",
     "output_type": "stream",
     "text": [
      "\n",
      " 18%|█▊        | 5/28 [00:15<01:15,  3.30s/it]\u001b[A\n",
      " 21%|██▏       | 6/28 [00:19<01:11,  3.23s/it]\u001b[A"
     ]
    },
    {
     "name": "stdout",
     "output_type": "stream",
     "text": [
      "tipsm_d_totalm_d 0.9993751549204051\n"
     ]
    },
    {
     "name": "stderr",
     "output_type": "stream",
     "text": [
      "\n",
      " 25%|██▌       | 7/28 [00:21<00:59,  2.82s/it]\u001b[A\n",
      " 29%|██▊       | 8/28 [00:23<00:53,  2.69s/it]\u001b[A\n",
      " 32%|███▏      | 9/28 [00:26<00:53,  2.80s/it]\u001b[A\n",
      " 36%|███▌      | 10/28 [00:32<01:05,  3.65s/it]\u001b[A\n",
      " 39%|███▉      | 11/28 [00:35<01:00,  3.57s/it]\u001b[A\n",
      " 43%|████▎     | 12/28 [00:37<00:50,  3.18s/it]\u001b[A\n",
      " 46%|████▋     | 13/28 [00:39<00:40,  2.69s/it]\u001b[A\n",
      " 50%|█████     | 14/28 [00:40<00:31,  2.27s/it]\u001b[A\n",
      " 54%|█████▎    | 15/28 [00:42<00:26,  2.03s/it]\u001b[A\n",
      " 57%|█████▋    | 16/28 [00:43<00:22,  1.85s/it]\u001b[A\n",
      " 61%|██████    | 17/28 [00:44<00:18,  1.69s/it]\u001b[A\n",
      " 64%|██████▍   | 18/28 [00:45<00:14,  1.48s/it]\u001b[A\n",
      " 68%|██████▊   | 19/28 [00:47<00:12,  1.42s/it]\u001b[A\n",
      " 71%|███████▏  | 20/28 [00:47<00:09,  1.22s/it]\u001b[A\n",
      " 75%|███████▌  | 21/28 [00:48<00:07,  1.04s/it]\u001b[A\n",
      " 79%|███████▊  | 22/28 [00:48<00:05,  1.11it/s]\u001b[A\n",
      " 82%|████████▏ | 23/28 [00:49<00:03,  1.33it/s]\u001b[A\n",
      " 86%|████████▌ | 24/28 [00:49<00:02,  1.56it/s]\u001b[A\n",
      " 89%|████████▉ | 25/28 [00:50<00:01,  1.80it/s]\u001b[A\n",
      "100%|██████████| 28/28 [00:50<00:00,  1.80s/it]\u001b[A\n",
      " 58%|█████▊    | 60/103 [1:15:43<52:13, 72.88s/it]  "
     ]
    },
    {
     "name": "stdout",
     "output_type": "stream",
     "text": [
      "Row(ct=17031470100, ca=59)\n"
     ]
    },
    {
     "name": "stderr",
     "output_type": "stream",
     "text": [
      "\n",
      "  0%|          | 0/33 [00:00<?, ?it/s]\u001b[A\n",
      "  3%|▎         | 1/33 [00:07<03:52,  7.26s/it]\u001b[A\n",
      "  6%|▌         | 2/33 [00:17<04:38,  8.98s/it]\u001b[A\n",
      "  9%|▉         | 3/33 [00:20<03:07,  6.26s/it]\u001b[A\n",
      " 12%|█▏        | 4/33 [00:23<02:27,  5.10s/it]\u001b[A\n",
      " 15%|█▌        | 5/33 [00:26<01:56,  4.17s/it]\u001b[A"
     ]
    },
    {
     "name": "stdout",
     "output_type": "stream",
     "text": [
      "miles_d_velocity_d 0.7050778045112452\n"
     ]
    },
    {
     "name": "stderr",
     "output_type": "stream",
     "text": [
      "\n",
      " 18%|█▊        | 6/33 [00:28<01:36,  3.58s/it]\u001b[A\n",
      " 21%|██        | 7/33 [00:31<01:22,  3.16s/it]\u001b[A\n",
      " 24%|██▍       | 8/33 [00:33<01:12,  2.90s/it]\u001b[A\n",
      " 27%|██▋       | 9/33 [00:35<01:06,  2.76s/it]\u001b[A\n",
      " 30%|███       | 10/33 [00:37<00:58,  2.52s/it]\u001b[A\n",
      " 33%|███▎      | 11/33 [00:39<00:52,  2.40s/it]\u001b[A\n",
      " 36%|███▋      | 12/33 [00:41<00:47,  2.26s/it]\u001b[A\n",
      " 39%|███▉      | 13/33 [00:43<00:42,  2.15s/it]\u001b[A\n",
      " 42%|████▏     | 14/33 [00:45<00:38,  2.02s/it]\u001b[A\n",
      " 45%|████▌     | 15/33 [00:47<00:35,  1.96s/it]\u001b[A\n",
      " 48%|████▊     | 16/33 [00:48<00:31,  1.83s/it]\u001b[A\n",
      " 52%|█████▏    | 17/33 [00:50<00:27,  1.72s/it]\u001b[A\n",
      " 55%|█████▍    | 18/33 [00:51<00:25,  1.70s/it]\u001b[A\n",
      " 58%|█████▊    | 19/33 [00:53<00:24,  1.77s/it]\u001b[A\n",
      " 61%|██████    | 20/33 [00:55<00:21,  1.64s/it]\u001b[A\n",
      " 64%|██████▎   | 21/33 [00:56<00:19,  1.63s/it]\u001b[A\n",
      " 67%|██████▋   | 22/33 [00:57<00:16,  1.48s/it]\u001b[A\n",
      " 70%|██████▉   | 23/33 [00:58<00:12,  1.30s/it]\u001b[A\n",
      " 73%|███████▎  | 24/33 [00:59<00:10,  1.22s/it]\u001b[A\n",
      " 76%|███████▌  | 25/33 [01:00<00:09,  1.14s/it]\u001b[A\n",
      " 79%|███████▉  | 26/33 [01:01<00:06,  1.01it/s]\u001b[A\n",
      " 82%|████████▏ | 27/33 [01:02<00:05,  1.18it/s]\u001b[A\n",
      " 85%|████████▍ | 28/33 [01:03<00:04,  1.12it/s]\u001b[A\n",
      " 88%|████████▊ | 29/33 [01:03<00:02,  1.37it/s]\u001b[A\n",
      " 91%|█████████ | 30/33 [01:03<00:01,  1.61it/s]\u001b[A\n",
      " 94%|█████████▍| 31/33 [01:03<00:00,  2.03it/s]\u001b[A\n",
      "100%|██████████| 33/33 [01:04<00:00,  1.94s/it]\u001b[A\n",
      " 59%|█████▉    | 61/103 [1:16:47<49:15, 70.36s/it]"
     ]
    },
    {
     "name": "stdout",
     "output_type": "stream",
     "text": [
      "Row(ct=12000000012, ca=49)\n"
     ]
    },
    {
     "name": "stderr",
     "output_type": "stream",
     "text": [
      "\n",
      "  0%|          | 0/41 [00:00<?, ?it/s]\u001b[A\n",
      "  2%|▏         | 1/41 [00:06<04:18,  6.45s/it]\u001b[A\n",
      "  5%|▍         | 2/41 [00:22<07:55, 12.19s/it]\u001b[A\n",
      "  7%|▋         | 3/41 [00:27<05:34,  8.81s/it]\u001b[A\n",
      " 10%|▉         | 4/41 [00:31<04:20,  7.04s/it]\u001b[A\n",
      " 12%|█▏        | 5/41 [00:36<03:39,  6.08s/it]\u001b[A\n",
      " 15%|█▍        | 6/41 [00:40<03:07,  5.36s/it]\u001b[A\n",
      " 17%|█▋        | 7/41 [00:43<02:36,  4.62s/it]\u001b[A\n",
      " 20%|█▉        | 8/41 [00:46<02:15,  4.11s/it]\u001b[A\n",
      " 22%|██▏       | 9/41 [00:49<01:59,  3.75s/it]\u001b[A\n",
      " 24%|██▍       | 10/41 [00:53<02:04,  4.02s/it]\u001b[A\n",
      " 27%|██▋       | 11/41 [00:58<02:05,  4.20s/it]\u001b[A"
     ]
    },
    {
     "name": "stdout",
     "output_type": "stream",
     "text": [
      "comp5_p_comp5_d 0.80679988377707\n"
     ]
    },
    {
     "name": "stderr",
     "output_type": "stream",
     "text": [
      "\n",
      " 29%|██▉       | 12/41 [01:00<01:47,  3.69s/it]\u001b[A\n",
      " 32%|███▏      | 13/41 [01:03<01:33,  3.32s/it]\u001b[A\n",
      " 34%|███▍      | 14/41 [01:05<01:22,  3.05s/it]\u001b[A\n",
      " 37%|███▋      | 15/41 [01:08<01:14,  2.85s/it]\u001b[A\n",
      " 39%|███▉      | 16/41 [01:11<01:13,  2.93s/it]\u001b[A\n",
      " 41%|████▏     | 17/41 [01:14<01:13,  3.06s/it]\u001b[A\n",
      " 44%|████▍     | 18/41 [01:23<01:52,  4.90s/it]\u001b[A\n",
      " 46%|████▋     | 19/41 [01:25<01:28,  4.03s/it]\u001b[A\n",
      " 49%|████▉     | 20/41 [01:27<01:11,  3.39s/it]\u001b[A\n",
      " 51%|█████     | 21/41 [01:29<01:00,  3.02s/it]\u001b[A\n",
      " 54%|█████▎    | 22/41 [01:31<00:49,  2.63s/it]\u001b[A\n",
      " 56%|█████▌    | 23/41 [01:33<00:41,  2.33s/it]\u001b[A\n",
      " 59%|█████▊    | 24/41 [01:34<00:35,  2.10s/it]\u001b[A\n",
      " 61%|██████    | 25/41 [01:36<00:30,  1.94s/it]\u001b[A\n",
      " 63%|██████▎   | 26/41 [01:37<00:26,  1.76s/it]\u001b[A\n",
      " 66%|██████▌   | 27/41 [01:39<00:23,  1.66s/it]\u001b[A\n",
      " 68%|██████▊   | 28/41 [01:40<00:20,  1.54s/it]\u001b[A\n",
      " 71%|███████   | 29/41 [01:41<00:18,  1.52s/it]\u001b[A\n",
      " 73%|███████▎  | 30/41 [01:42<00:15,  1.38s/it]\u001b[A\n",
      " 76%|███████▌  | 31/41 [01:43<00:12,  1.26s/it]\u001b[A\n",
      " 78%|███████▊  | 32/41 [01:44<00:10,  1.17s/it]\u001b[A\n",
      " 80%|████████  | 33/41 [01:45<00:08,  1.06s/it]\u001b[A\n",
      " 83%|████████▎ | 34/41 [01:46<00:06,  1.03it/s]\u001b[A\n",
      " 85%|████████▌ | 35/41 [01:47<00:05,  1.10it/s]\u001b[A\n",
      " 88%|████████▊ | 36/41 [01:47<00:04,  1.21it/s]\u001b[A\n",
      " 90%|█████████ | 37/41 [01:48<00:03,  1.33it/s]\u001b[A\n",
      " 93%|█████████▎| 38/41 [01:48<00:01,  1.61it/s]\u001b[A\n",
      " 95%|█████████▌| 39/41 [01:48<00:00,  2.02it/s]\u001b[A\n",
      "100%|██████████| 41/41 [01:49<00:00,  2.66s/it]\u001b[A\n",
      " 60%|██████    | 62/103 [1:18:37<56:06, 82.10s/it]"
     ]
    },
    {
     "name": "stdout",
     "output_type": "stream",
     "text": [
      "Row(ct=17031980100, ca=56)\n"
     ]
    },
    {
     "name": "stderr",
     "output_type": "stream",
     "text": [
      "\n",
      "  0%|          | 0/35 [00:00<?, ?it/s]\u001b[A\n",
      "  3%|▎         | 1/35 [00:06<03:34,  6.32s/it]\u001b[A\n",
      "  6%|▌         | 2/35 [00:09<02:28,  4.51s/it]\u001b[A\n",
      "  9%|▊         | 3/35 [00:13<02:14,  4.20s/it]\u001b[A\n",
      " 11%|█▏        | 4/35 [00:16<01:56,  3.75s/it]\u001b[A\n",
      " 14%|█▍        | 5/35 [00:20<01:55,  3.83s/it]\u001b[A\n",
      " 17%|█▋        | 6/35 [00:24<01:54,  3.94s/it]\u001b[A\n",
      " 20%|██        | 7/35 [00:28<01:46,  3.82s/it]\u001b[A\n",
      " 23%|██▎       | 8/35 [00:31<01:39,  3.69s/it]\u001b[A\n",
      " 26%|██▌       | 9/35 [00:33<01:24,  3.27s/it]\u001b[A\n",
      " 29%|██▊       | 10/35 [00:38<01:33,  3.74s/it]\u001b[A\n",
      " 31%|███▏      | 11/35 [00:46<01:56,  4.86s/it]\u001b[A\n",
      " 34%|███▍      | 12/35 [00:54<02:15,  5.91s/it]\u001b[A\n",
      " 37%|███▋      | 13/35 [01:02<02:23,  6.52s/it]\u001b[A\n",
      " 40%|████      | 14/35 [01:20<03:33, 10.17s/it]\u001b[A"
     ]
    },
    {
     "name": "stdout",
     "output_type": "stream",
     "text": [
      "comp2_d_compless5_d 0.6940596485808518\n"
     ]
    },
    {
     "name": "stderr",
     "output_type": "stream",
     "text": [
      "\n",
      " 43%|████▎     | 15/35 [01:27<03:00,  9.02s/it]\u001b[A"
     ]
    },
    {
     "name": "stdout",
     "output_type": "stream",
     "text": [
      "comp4_d_compless5_d 0.669443485058561\n"
     ]
    },
    {
     "name": "stderr",
     "output_type": "stream",
     "text": [
      "\n",
      " 46%|████▌     | 16/35 [01:30<02:15,  7.15s/it]\u001b[A\n",
      " 49%|████▊     | 17/35 [01:32<01:42,  5.70s/it]\u001b[A\n",
      " 51%|█████▏    | 18/35 [01:34<01:16,  4.49s/it]\u001b[A\n",
      " 54%|█████▍    | 19/35 [01:35<00:58,  3.66s/it]\u001b[A\n",
      " 57%|█████▋    | 20/35 [01:37<00:44,  2.99s/it]\u001b[A\n",
      " 60%|██████    | 21/35 [01:38<00:35,  2.55s/it]\u001b[A\n",
      " 63%|██████▎   | 22/35 [01:40<00:29,  2.24s/it]\u001b[A\n",
      " 66%|██████▌   | 23/35 [01:41<00:24,  2.07s/it]\u001b[A\n",
      " 69%|██████▊   | 24/35 [01:43<00:20,  1.85s/it]\u001b[A\n",
      " 71%|███████▏  | 25/35 [01:44<00:16,  1.64s/it]\u001b[A\n",
      " 74%|███████▍  | 26/35 [01:45<00:12,  1.40s/it]\u001b[A\n",
      " 77%|███████▋  | 27/35 [01:46<00:09,  1.19s/it]\u001b[A\n",
      " 80%|████████  | 28/35 [01:46<00:07,  1.03s/it]\u001b[A\n",
      " 83%|████████▎ | 29/35 [01:47<00:05,  1.10it/s]\u001b[A\n",
      " 86%|████████▌ | 30/35 [01:47<00:04,  1.22it/s]\u001b[A\n",
      " 89%|████████▊ | 31/35 [01:48<00:02,  1.35it/s]\u001b[A\n",
      " 91%|█████████▏| 32/35 [01:48<00:01,  1.65it/s]\u001b[A\n",
      " 94%|█████████▍| 33/35 [01:49<00:01,  1.75it/s]\u001b[A\n",
      "100%|██████████| 35/35 [01:49<00:00,  3.13s/it]\u001b[A\n",
      " 61%|██████    | 63/103 [1:20:27<1:00:24, 90.62s/it]"
     ]
    },
    {
     "name": "stdout",
     "output_type": "stream",
     "text": [
      "Row(ct=17031330100, ca=33)\n"
     ]
    },
    {
     "name": "stderr",
     "output_type": "stream",
     "text": [
      "\n",
      "  0%|          | 0/29 [00:00<?, ?it/s]\u001b[A\n",
      "  3%|▎         | 1/29 [00:07<03:33,  7.64s/it]\u001b[A\n",
      "  7%|▋         | 2/29 [00:10<02:04,  4.60s/it]\u001b[A\n",
      " 10%|█         | 3/29 [00:12<01:36,  3.70s/it]\u001b[A"
     ]
    },
    {
     "name": "stdout",
     "output_type": "stream",
     "text": [
      "extrasm_p_totalm_p 0.7030392049183477\n"
     ]
    },
    {
     "name": "stderr",
     "output_type": "stream",
     "text": [
      "\n",
      " 14%|█▍        | 4/29 [00:15<01:21,  3.27s/it]\u001b[A\n",
      " 17%|█▋        | 5/29 [00:19<01:25,  3.58s/it]\u001b[A\n",
      " 21%|██        | 6/29 [00:21<01:11,  3.09s/it]\u001b[A\n",
      " 24%|██▍       | 7/29 [00:23<01:01,  2.77s/it]\u001b[A\n",
      " 28%|██▊       | 8/29 [00:26<00:55,  2.65s/it]\u001b[A\n",
      " 31%|███       | 9/29 [00:28<00:52,  2.62s/it]\u001b[A\n",
      " 34%|███▍      | 10/29 [00:31<00:48,  2.57s/it]\u001b[A\n",
      " 38%|███▊      | 11/29 [00:32<00:40,  2.26s/it]\u001b[A\n",
      " 41%|████▏     | 12/29 [00:35<00:42,  2.49s/it]\u001b[A\n",
      " 45%|████▍     | 13/29 [00:37<00:37,  2.33s/it]\u001b[A\n",
      " 48%|████▊     | 14/29 [00:39<00:31,  2.12s/it]\u001b[A\n",
      " 52%|█████▏    | 15/29 [00:40<00:27,  1.93s/it]\u001b[A\n",
      " 55%|█████▌    | 16/29 [00:43<00:28,  2.20s/it]\u001b[A\n",
      " 59%|█████▊    | 17/29 [00:44<00:22,  1.87s/it]\u001b[A\n",
      " 62%|██████▏   | 18/29 [00:45<00:18,  1.67s/it]\u001b[A\n",
      " 66%|██████▌   | 19/29 [00:47<00:15,  1.51s/it]\u001b[A\n",
      " 69%|██████▉   | 20/29 [00:49<00:16,  1.80s/it]\u001b[A\n",
      " 72%|███████▏  | 21/29 [00:50<00:12,  1.55s/it]\u001b[A\n",
      " 76%|███████▌  | 22/29 [00:51<00:08,  1.28s/it]\u001b[A\n",
      " 79%|███████▉  | 23/29 [00:51<00:06,  1.08s/it]\u001b[A\n",
      " 83%|████████▎ | 24/29 [00:52<00:04,  1.08it/s]\u001b[A\n",
      " 86%|████████▌ | 25/29 [00:52<00:03,  1.20it/s]\u001b[A\n",
      " 90%|████████▉ | 26/29 [00:53<00:02,  1.42it/s]\u001b[A\n",
      " 93%|█████████▎| 27/29 [00:53<00:01,  1.81it/s]\u001b[A\n",
      "100%|██████████| 29/29 [00:53<00:00,  1.85s/it]\u001b[A\n",
      " 62%|██████▏   | 64/103 [1:21:22<51:52, 79.80s/it]  "
     ]
    },
    {
     "name": "stdout",
     "output_type": "stream",
     "text": [
      "Row(ct=17031081000, ca=34)\n"
     ]
    },
    {
     "name": "stderr",
     "output_type": "stream",
     "text": [
      "\n",
      "  0%|          | 0/40 [00:00<?, ?it/s]\u001b[A\n",
      "  2%|▎         | 1/40 [00:07<04:53,  7.53s/it]\u001b[A\n",
      "  5%|▌         | 2/40 [00:11<03:36,  5.71s/it]\u001b[A\n",
      "  8%|▊         | 3/40 [00:16<03:18,  5.37s/it]\u001b[A\n",
      " 10%|█         | 4/40 [00:21<02:55,  4.86s/it]\u001b[A\n",
      " 12%|█▎        | 5/40 [00:41<06:02, 10.37s/it]\u001b[A\n",
      " 15%|█▌        | 6/40 [00:47<05:01,  8.87s/it]\u001b[A\n",
      " 18%|█▊        | 7/40 [00:51<04:03,  7.39s/it]\u001b[A\n",
      " 20%|██        | 8/40 [00:54<03:15,  6.11s/it]\u001b[A\n",
      " 22%|██▎       | 9/40 [00:58<02:41,  5.20s/it]\u001b[A\n",
      " 25%|██▌       | 10/40 [01:01<02:16,  4.55s/it]\u001b[A\n",
      " 28%|██▊       | 11/40 [01:03<01:56,  4.02s/it]\u001b[A\n",
      " 30%|███       | 12/40 [01:10<02:10,  4.65s/it]\u001b[A\n",
      " 32%|███▎      | 13/40 [01:12<01:46,  3.96s/it]\u001b[A\n",
      " 35%|███▌      | 14/40 [01:16<01:40,  3.87s/it]\u001b[A\n",
      " 38%|███▊      | 15/40 [01:19<01:35,  3.83s/it]\u001b[A\n",
      " 40%|████      | 16/40 [01:28<02:04,  5.19s/it]\u001b[A\n",
      " 42%|████▎     | 17/40 [01:30<01:38,  4.29s/it]\u001b[A\n",
      " 45%|████▌     | 18/40 [01:32<01:20,  3.65s/it]\u001b[A\n",
      " 48%|████▊     | 19/40 [01:35<01:09,  3.31s/it]\u001b[A\n",
      " 50%|█████     | 20/40 [01:37<00:58,  2.92s/it]\u001b[A\n",
      " 52%|█████▎    | 21/40 [01:39<00:50,  2.68s/it]\u001b[A\n",
      " 55%|█████▌    | 22/40 [01:40<00:41,  2.33s/it]\u001b[A\n",
      " 57%|█████▊    | 23/40 [01:42<00:36,  2.13s/it]\u001b[A\n",
      " 60%|██████    | 24/40 [01:44<00:32,  2.01s/it]\u001b[A\n",
      " 62%|██████▎   | 25/40 [01:45<00:29,  1.98s/it]\u001b[A\n",
      " 65%|██████▌   | 26/40 [01:47<00:26,  1.93s/it]\u001b[A\n",
      " 68%|██████▊   | 27/40 [01:49<00:22,  1.74s/it]\u001b[A\n",
      " 70%|███████   | 28/40 [01:51<00:23,  1.93s/it]\u001b[A\n",
      " 72%|███████▎  | 29/40 [01:53<00:21,  1.99s/it]\u001b[A\n",
      " 75%|███████▌  | 30/40 [01:59<00:31,  3.19s/it]\u001b[A\n",
      " 78%|███████▊  | 31/40 [02:01<00:26,  2.91s/it]\u001b[A\n",
      " 80%|████████  | 32/40 [02:03<00:19,  2.48s/it]\u001b[A\n",
      " 82%|████████▎ | 33/40 [02:04<00:14,  2.04s/it]\u001b[A\n",
      " 85%|████████▌ | 34/40 [02:05<00:10,  1.71s/it]\u001b[A\n",
      " 88%|████████▊ | 35/40 [02:05<00:06,  1.37s/it]\u001b[A\n",
      " 90%|█████████ | 36/40 [02:06<00:04,  1.21s/it]\u001b[A\n",
      " 92%|█████████▎| 37/40 [02:07<00:03,  1.13s/it]\u001b[A\n",
      " 95%|█████████▌| 38/40 [02:08<00:01,  1.05it/s]\u001b[A\n",
      "100%|██████████| 40/40 [02:08<00:00,  3.21s/it]\u001b[A\n",
      " 63%|██████▎   | 65/103 [1:23:31<59:53, 94.55s/it]"
     ]
    },
    {
     "name": "stdout",
     "output_type": "stream",
     "text": [
      "Row(ct=17031081201, ca=8)\n"
     ]
    },
    {
     "name": "stderr",
     "output_type": "stream",
     "text": [
      "\n",
      "  0%|          | 0/33 [00:00<?, ?it/s]\u001b[A\n",
      "  3%|▎         | 1/33 [00:13<07:21, 13.79s/it]\u001b[A\n",
      "  6%|▌         | 2/33 [00:18<04:16,  8.28s/it]\u001b[A\n",
      "  9%|▉         | 3/33 [00:21<03:02,  6.07s/it]\u001b[A"
     ]
    },
    {
     "name": "stdout",
     "output_type": "stream",
     "text": [
      "extrasm_p_totalm_p 0.8796919817953099\n"
     ]
    },
    {
     "name": "stderr",
     "output_type": "stream",
     "text": [
      "\n",
      " 12%|█▏        | 4/33 [00:25<02:25,  5.03s/it]\u001b[A\n",
      " 15%|█▌        | 5/33 [00:28<02:07,  4.57s/it]\u001b[A\n",
      " 18%|█▊        | 6/33 [00:32<01:50,  4.09s/it]\u001b[A\n",
      " 21%|██        | 7/33 [00:35<01:43,  3.98s/it]\u001b[A\n",
      " 24%|██▍       | 8/33 [00:39<01:35,  3.81s/it]\u001b[A\n",
      " 27%|██▋       | 9/33 [00:41<01:22,  3.43s/it]\u001b[A\n",
      " 30%|███       | 10/33 [00:44<01:13,  3.21s/it]\u001b[A"
     ]
    },
    {
     "name": "stdout",
     "output_type": "stream",
     "text": [
      "extrasm_d_totalm_d 0.7705753943191888\n"
     ]
    },
    {
     "name": "stderr",
     "output_type": "stream",
     "text": [
      "\n",
      " 33%|███▎      | 11/33 [00:47<01:09,  3.15s/it]\u001b[A\n",
      " 36%|███▋      | 12/33 [00:49<01:00,  2.88s/it]\u001b[A\n",
      " 39%|███▉      | 13/33 [00:52<00:54,  2.73s/it]\u001b[A\n",
      " 42%|████▏     | 14/33 [00:55<00:53,  2.82s/it]\u001b[A\n",
      " 45%|████▌     | 15/33 [00:57<00:49,  2.73s/it]\u001b[A\n",
      " 48%|████▊     | 16/33 [00:59<00:42,  2.50s/it]\u001b[A\n",
      " 52%|█████▏    | 17/33 [01:01<00:37,  2.36s/it]\u001b[A\n",
      " 55%|█████▍    | 18/33 [01:03<00:32,  2.19s/it]\u001b[A\n",
      " 58%|█████▊    | 19/33 [01:05<00:28,  2.07s/it]\u001b[A\n",
      " 61%|██████    | 20/33 [01:07<00:25,  2.00s/it]\u001b[A\n",
      " 64%|██████▎   | 21/33 [01:08<00:21,  1.77s/it]\u001b[A\n",
      " 67%|██████▋   | 22/33 [01:09<00:18,  1.67s/it]\u001b[A\n",
      " 70%|██████▉   | 23/33 [01:10<00:15,  1.51s/it]\u001b[A\n",
      " 73%|███████▎  | 24/33 [01:11<00:11,  1.31s/it]\u001b[A\n",
      " 76%|███████▌  | 25/33 [01:14<00:14,  1.80s/it]\u001b[A\n",
      " 79%|███████▉  | 26/33 [01:18<00:15,  2.26s/it]\u001b[A\n",
      " 82%|████████▏ | 27/33 [01:21<00:14,  2.48s/it]\u001b[A\n",
      " 85%|████████▍ | 28/33 [01:23<00:11,  2.33s/it]\u001b[A\n",
      " 88%|████████▊ | 29/33 [01:25<00:09,  2.41s/it]\u001b[A\n",
      " 91%|█████████ | 30/33 [01:27<00:06,  2.11s/it]\u001b[A\n",
      " 94%|█████████▍| 31/33 [01:27<00:03,  1.63s/it]\u001b[A\n",
      "100%|██████████| 33/33 [01:27<00:00,  2.66s/it]\u001b[A\n",
      " 64%|██████▍   | 66/103 [1:25:00<57:22, 93.05s/it]"
     ]
    },
    {
     "name": "stdout",
     "output_type": "stream",
     "text": [
      "Row(ct=17031840300, ca=59)\n"
     ]
    },
    {
     "name": "stderr",
     "output_type": "stream",
     "text": [
      "\n",
      "  0%|          | 0/31 [00:00<?, ?it/s]\u001b[A\n",
      "  3%|▎         | 1/31 [00:03<01:31,  3.06s/it]\u001b[A\n",
      "  6%|▋         | 2/31 [00:06<01:31,  3.15s/it]\u001b[A\n",
      " 10%|▉         | 3/31 [00:09<01:25,  3.04s/it]\u001b[A\n",
      " 13%|█▎        | 4/31 [00:11<01:17,  2.89s/it]\u001b[A\n",
      " 16%|█▌        | 5/31 [00:14<01:09,  2.66s/it]\u001b[A"
     ]
    },
    {
     "name": "stdout",
     "output_type": "stream",
     "text": [
      "extrasm_p_totalm_p 0.7659219968702146\n"
     ]
    },
    {
     "name": "stderr",
     "output_type": "stream",
     "text": [
      "\n",
      " 19%|█▉        | 6/31 [00:17<01:09,  2.80s/it]\u001b[A\n",
      " 23%|██▎       | 7/31 [00:19<01:03,  2.63s/it]\u001b[A\n",
      " 26%|██▌       | 8/31 [00:22<01:01,  2.69s/it]\u001b[A\n",
      " 29%|██▉       | 9/31 [00:27<01:13,  3.33s/it]\u001b[A\n",
      " 32%|███▏      | 10/31 [00:29<01:02,  2.98s/it]\u001b[A\n",
      " 35%|███▌      | 11/31 [00:31<00:56,  2.81s/it]\u001b[A\n",
      " 39%|███▊      | 12/31 [00:33<00:49,  2.60s/it]\u001b[A\n",
      " 42%|████▏     | 13/31 [00:35<00:43,  2.40s/it]\u001b[A\n",
      " 45%|████▌     | 14/31 [00:37<00:38,  2.26s/it]\u001b[A\n",
      " 48%|████▊     | 15/31 [00:39<00:33,  2.07s/it]\u001b[A\n",
      " 52%|█████▏    | 16/31 [00:40<00:29,  1.95s/it]\u001b[A\n",
      " 55%|█████▍    | 17/31 [00:42<00:26,  1.90s/it]\u001b[A\n",
      " 58%|█████▊    | 18/31 [00:45<00:27,  2.08s/it]\u001b[A\n",
      " 61%|██████▏   | 19/31 [00:46<00:23,  1.96s/it]\u001b[A"
     ]
    },
    {
     "name": "stdout",
     "output_type": "stream",
     "text": [
      "trips_p_growth_4_to_3_trips_d_growth_4_to_3 0.6710199315810315\n"
     ]
    },
    {
     "name": "stderr",
     "output_type": "stream",
     "text": [
      "\n",
      " 65%|██████▍   | 20/31 [00:48<00:19,  1.74s/it]\u001b[A\n",
      " 68%|██████▊   | 21/31 [00:49<00:15,  1.55s/it]\u001b[A\n",
      " 71%|███████   | 22/31 [00:50<00:12,  1.39s/it]\u001b[A\n",
      " 74%|███████▍  | 23/31 [00:51<00:09,  1.25s/it]\u001b[A\n",
      " 77%|███████▋  | 24/31 [00:51<00:07,  1.11s/it]\u001b[A\n",
      " 81%|████████  | 25/31 [00:52<00:05,  1.04it/s]\u001b[A\n",
      " 84%|████████▍ | 26/31 [00:53<00:04,  1.21it/s]\u001b[A"
     ]
    },
    {
     "name": "stdout",
     "output_type": "stream",
     "text": [
      "velocity_p_growth_4_to_3_velocity_d_growth_1_to_0 0.7788438426739945\n"
     ]
    },
    {
     "name": "stderr",
     "output_type": "stream",
     "text": [
      "\n",
      " 87%|████████▋ | 27/31 [00:53<00:02,  1.41it/s]\u001b[A\n",
      " 90%|█████████ | 28/31 [00:53<00:01,  1.73it/s]\u001b[A\n",
      " 94%|█████████▎| 29/31 [00:53<00:00,  2.21it/s]\u001b[A\n",
      "100%|██████████| 31/31 [00:54<00:00,  1.74s/it]\u001b[A\n",
      " 65%|██████▌   | 67/103 [1:25:55<48:51, 81.43s/it]"
     ]
    },
    {
     "name": "stdout",
     "output_type": "stream",
     "text": [
      "Row(ct=17031980000, ca=76)\n"
     ]
    },
    {
     "name": "stderr",
     "output_type": "stream",
     "text": [
      "\n",
      "  0%|          | 0/28 [00:00<?, ?it/s]\u001b[A\n",
      "  4%|▎         | 1/28 [00:03<01:32,  3.44s/it]\u001b[A\n",
      "  7%|▋         | 2/28 [00:14<03:23,  7.83s/it]\u001b[A\n",
      " 11%|█         | 3/28 [00:23<03:30,  8.40s/it]\u001b[A\n",
      " 14%|█▍        | 4/28 [00:26<02:27,  6.15s/it]\u001b[A\n",
      " 18%|█▊        | 5/28 [00:29<01:55,  5.02s/it]\u001b[A\n",
      " 21%|██▏       | 6/28 [00:35<01:59,  5.44s/it]\u001b[A"
     ]
    },
    {
     "name": "stdout",
     "output_type": "stream",
     "text": [
      "tipsm_d_extrasm_d 0.9831979644594708\n",
      "tipsm_d_totalm_d 0.8490219500276023\n",
      "tipsm_d_velocity_d_growth_2_to_1 -0.9687161511046897\n"
     ]
    },
    {
     "name": "stderr",
     "output_type": "stream",
     "text": [
      "\n",
      " 25%|██▌       | 7/28 [00:38<01:36,  4.58s/it]\u001b[A\n",
      " 29%|██▊       | 8/28 [00:40<01:17,  3.87s/it]\u001b[A"
     ]
    },
    {
     "name": "stdout",
     "output_type": "stream",
     "text": [
      "extrasm_d_totalm_d 0.8393175833210867\n",
      "extrasm_d_velocity_d_growth_2_to_1 -0.944955075541898\n"
     ]
    },
    {
     "name": "stderr",
     "output_type": "stream",
     "text": [
      "\n",
      " 32%|███▏      | 9/28 [00:43<01:10,  3.69s/it]\u001b[A"
     ]
    },
    {
     "name": "stdout",
     "output_type": "stream",
     "text": [
      "totalm_d_velocity_d_growth_2_to_1 -0.8250184638341215\n"
     ]
    },
    {
     "name": "stderr",
     "output_type": "stream",
     "text": [
      "\n",
      " 36%|███▌      | 10/28 [00:46<01:00,  3.35s/it]\u001b[A\n",
      " 39%|███▉      | 11/28 [00:52<01:11,  4.19s/it]\u001b[A\n",
      " 43%|████▎     | 12/28 [00:54<00:58,  3.63s/it]\u001b[A\n",
      " 46%|████▋     | 13/28 [00:56<00:45,  3.00s/it]\u001b[A\n",
      " 50%|█████     | 14/28 [00:57<00:34,  2.48s/it]\u001b[A\n",
      " 54%|█████▎    | 15/28 [00:58<00:27,  2.11s/it]\u001b[A\n",
      " 57%|█████▋    | 16/28 [01:00<00:21,  1.82s/it]\u001b[A\n",
      " 61%|██████    | 17/28 [01:02<00:20,  1.87s/it]\u001b[A\n",
      " 64%|██████▍   | 18/28 [01:03<00:15,  1.58s/it]\u001b[A\n",
      " 68%|██████▊   | 19/28 [01:05<00:15,  1.76s/it]\u001b[A\n",
      " 71%|███████▏  | 20/28 [01:06<00:11,  1.48s/it]\u001b[A\n",
      " 75%|███████▌  | 21/28 [01:06<00:08,  1.23s/it]\u001b[A\n",
      " 79%|███████▊  | 22/28 [01:07<00:06,  1.07s/it]\u001b[A\n",
      " 82%|████████▏ | 23/28 [01:08<00:05,  1.07s/it]\u001b[A\n",
      " 86%|████████▌ | 24/28 [01:09<00:04,  1.03s/it]\u001b[A\n",
      " 89%|████████▉ | 25/28 [01:10<00:03,  1.20s/it]\u001b[A\n",
      " 93%|█████████▎| 26/28 [01:12<00:02,  1.36s/it]\u001b[A\n",
      "100%|██████████| 28/28 [01:12<00:00,  2.60s/it]\u001b[A\n",
      " 66%|██████▌   | 68/103 [1:27:08<46:01, 78.91s/it]"
     ]
    },
    {
     "name": "stdout",
     "output_type": "stream",
     "text": [
      "Row(ct=17031280100, ca=28)\n"
     ]
    },
    {
     "name": "stderr",
     "output_type": "stream",
     "text": [
      "\n",
      "  0%|          | 0/30 [00:00<?, ?it/s]\u001b[A\n",
      "  3%|▎         | 1/30 [00:06<02:57,  6.11s/it]\u001b[A\n",
      "  7%|▋         | 2/30 [00:09<02:01,  4.35s/it]\u001b[A"
     ]
    },
    {
     "name": "stdout",
     "output_type": "stream",
     "text": [
      "tipsm_p_totalm_p 0.9927254921707745\n"
     ]
    },
    {
     "name": "stderr",
     "output_type": "stream",
     "text": [
      "\n",
      " 10%|█         | 3/30 [00:12<01:39,  3.70s/it]\u001b[A\n",
      " 13%|█▎        | 4/30 [00:17<01:54,  4.41s/it]\u001b[A\n",
      " 17%|█▋        | 5/30 [00:30<03:07,  7.51s/it]\u001b[A\n",
      " 20%|██        | 6/30 [00:33<02:26,  6.09s/it]\u001b[A\n",
      " 23%|██▎       | 7/30 [00:39<02:14,  5.85s/it]\u001b[A\n",
      " 27%|██▋       | 8/30 [00:42<01:51,  5.05s/it]\u001b[A\n",
      " 30%|███       | 9/30 [00:44<01:26,  4.10s/it]\u001b[A"
     ]
    },
    {
     "name": "stdout",
     "output_type": "stream",
     "text": [
      "extrasm_d_totalm_d 0.7265143636549194\n"
     ]
    },
    {
     "name": "stderr",
     "output_type": "stream",
     "text": [
      "\n",
      " 33%|███▎      | 10/30 [00:46<01:10,  3.52s/it]\u001b[A"
     ]
    },
    {
     "name": "stdout",
     "output_type": "stream",
     "text": [
      "totalm_d_compless5_d 0.6797430063689525\n"
     ]
    },
    {
     "name": "stderr",
     "output_type": "stream",
     "text": [
      "\n",
      " 37%|███▋      | 11/30 [00:49<01:00,  3.18s/it]\u001b[A\n",
      " 40%|████      | 12/30 [00:51<00:49,  2.73s/it]\u001b[A\n",
      " 43%|████▎     | 13/30 [00:52<00:40,  2.39s/it]\u001b[A\n",
      " 47%|████▋     | 14/30 [00:55<00:42,  2.63s/it]\u001b[A\n",
      " 50%|█████     | 15/30 [00:58<00:39,  2.60s/it]\u001b[A\n",
      " 53%|█████▎    | 16/30 [00:59<00:31,  2.23s/it]\u001b[A\n",
      " 57%|█████▋    | 17/30 [01:01<00:25,  1.99s/it]\u001b[A\n",
      " 60%|██████    | 18/30 [01:02<00:20,  1.69s/it]\u001b[A\n",
      " 63%|██████▎   | 19/30 [01:03<00:16,  1.52s/it]\u001b[A\n",
      " 67%|██████▋   | 20/30 [01:04<00:12,  1.30s/it]\u001b[A\n",
      " 70%|███████   | 21/30 [01:04<00:10,  1.19s/it]\u001b[A\n",
      " 73%|███████▎  | 22/30 [01:05<00:08,  1.04s/it]\u001b[A\n",
      " 77%|███████▋  | 23/30 [01:06<00:06,  1.07it/s]\u001b[A\n",
      " 80%|████████  | 24/30 [01:07<00:05,  1.08it/s]\u001b[A\n",
      " 83%|████████▎ | 25/30 [01:07<00:04,  1.19it/s]\u001b[A\n",
      " 87%|████████▋ | 26/30 [01:08<00:02,  1.42it/s]\u001b[A\n",
      " 90%|█████████ | 27/30 [01:08<00:01,  1.72it/s]\u001b[A\n",
      " 93%|█████████▎| 28/30 [01:08<00:00,  2.12it/s]\u001b[A\n",
      "100%|██████████| 30/30 [01:08<00:00,  2.30s/it]\u001b[A\n",
      " 67%|██████▋   | 69/103 [1:28:18<43:13, 76.27s/it]"
     ]
    },
    {
     "name": "stdout",
     "output_type": "stream",
     "text": [
      "Row(ct=12000000036, ca=8)\n"
     ]
    },
    {
     "name": "stderr",
     "output_type": "stream",
     "text": [
      "\n",
      "  0%|          | 0/31 [00:00<?, ?it/s]\u001b[A\n",
      "  3%|▎         | 1/31 [00:03<01:59,  3.98s/it]\u001b[A\n",
      "  6%|▋         | 2/31 [00:06<01:34,  3.25s/it]\u001b[A\n",
      " 10%|▉         | 3/31 [00:09<01:25,  3.05s/it]\u001b[A\n",
      " 13%|█▎        | 4/31 [00:12<01:18,  2.89s/it]\u001b[A\n",
      " 16%|█▌        | 5/31 [00:14<01:09,  2.67s/it]\u001b[A"
     ]
    },
    {
     "name": "stdout",
     "output_type": "stream",
     "text": [
      "tipsm_d_totalm_d 0.8882889736570666\n"
     ]
    },
    {
     "name": "stderr",
     "output_type": "stream",
     "text": [
      "\n",
      " 19%|█▉        | 6/31 [00:17<01:05,  2.63s/it]\u001b[A\n",
      " 23%|██▎       | 7/31 [00:19<01:02,  2.60s/it]\u001b[A\n",
      " 26%|██▌       | 8/31 [00:21<00:56,  2.47s/it]\u001b[A\n",
      " 29%|██▉       | 9/31 [00:23<00:52,  2.38s/it]\u001b[A\n",
      " 32%|███▏      | 10/31 [00:25<00:46,  2.22s/it]\u001b[A\n",
      " 35%|███▌      | 11/31 [00:27<00:42,  2.14s/it]\u001b[A\n",
      " 39%|███▊      | 12/31 [00:30<00:42,  2.22s/it]\u001b[A"
     ]
    },
    {
     "name": "stdout",
     "output_type": "stream",
     "text": [
      "comp5_d_cumulative_balance -0.6986140835371725\n"
     ]
    },
    {
     "name": "stderr",
     "output_type": "stream",
     "text": [
      "\n",
      " 42%|████▏     | 13/31 [00:32<00:38,  2.15s/it]\u001b[A\n",
      " 45%|████▌     | 14/31 [00:33<00:33,  1.98s/it]\u001b[A\n",
      " 48%|████▊     | 15/31 [00:35<00:30,  1.92s/it]\u001b[A\n",
      " 52%|█████▏    | 16/31 [00:37<00:27,  1.84s/it]\u001b[A\n",
      " 55%|█████▍    | 17/31 [00:38<00:23,  1.71s/it]\u001b[A\n",
      " 58%|█████▊    | 18/31 [00:39<00:20,  1.59s/it]\u001b[A\n",
      " 61%|██████▏   | 19/31 [00:41<00:17,  1.49s/it]\u001b[A\n",
      " 65%|██████▍   | 20/31 [00:42<00:14,  1.36s/it]\u001b[A\n",
      " 68%|██████▊   | 21/31 [00:43<00:12,  1.21s/it]\u001b[A\n",
      " 71%|███████   | 22/31 [00:43<00:09,  1.08s/it]\u001b[A\n",
      " 74%|███████▍  | 23/31 [00:44<00:07,  1.01it/s]\u001b[A\n",
      " 77%|███████▋  | 24/31 [00:45<00:06,  1.14it/s]\u001b[A\n",
      " 81%|████████  | 25/31 [00:45<00:04,  1.25it/s]\u001b[A\n",
      " 84%|████████▍ | 26/31 [00:46<00:03,  1.40it/s]\u001b[A\n",
      " 87%|████████▋ | 27/31 [00:46<00:02,  1.61it/s]\u001b[A\n",
      " 90%|█████████ | 28/31 [00:47<00:01,  1.95it/s]\u001b[A\n",
      " 94%|█████████▎| 29/31 [00:47<00:00,  2.43it/s]\u001b[A\n",
      "100%|██████████| 31/31 [00:47<00:00,  1.53s/it]\u001b[A\n",
      " 68%|██████▊   | 70/103 [1:29:06<37:14, 67.71s/it]"
     ]
    },
    {
     "name": "stdout",
     "output_type": "stream",
     "text": [
      "Row(ct=17031720300, ca=61)\n"
     ]
    },
    {
     "name": "stderr",
     "output_type": "stream",
     "text": [
      "\n",
      "  0%|          | 0/37 [00:00<?, ?it/s]\u001b[A\n",
      "  3%|▎         | 1/37 [00:04<02:24,  4.02s/it]\u001b[A\n",
      "  5%|▌         | 2/37 [00:07<02:05,  3.59s/it]\u001b[A\n",
      "  8%|▊         | 3/37 [00:10<01:55,  3.38s/it]\u001b[A\n",
      " 11%|█         | 4/37 [00:13<01:50,  3.36s/it]\u001b[A\n",
      " 14%|█▎        | 5/37 [00:16<01:44,  3.25s/it]\u001b[A\n",
      " 16%|█▌        | 6/37 [00:19<01:37,  3.15s/it]\u001b[A\n",
      " 19%|█▉        | 7/37 [00:22<01:32,  3.08s/it]\u001b[A\n",
      " 22%|██▏       | 8/37 [00:25<01:25,  2.96s/it]\u001b[A\n",
      " 24%|██▍       | 9/37 [00:27<01:18,  2.80s/it]\u001b[A\n",
      " 27%|██▋       | 10/37 [00:30<01:14,  2.75s/it]\u001b[A\n",
      " 30%|██▉       | 11/37 [00:33<01:12,  2.79s/it]\u001b[A"
     ]
    },
    {
     "name": "stdout",
     "output_type": "stream",
     "text": [
      "tipsm_d_velocity_p_growth_3_to_2 -0.7977887194388757\n"
     ]
    },
    {
     "name": "stderr",
     "output_type": "stream",
     "text": [
      "\n",
      " 32%|███▏      | 12/37 [00:35<01:06,  2.64s/it]\u001b[A\n",
      " 35%|███▌      | 13/37 [00:38<01:01,  2.56s/it]\u001b[A"
     ]
    },
    {
     "name": "stdout",
     "output_type": "stream",
     "text": [
      "extrasm_d_velocity_d_growth_1_to_0 -0.6902471945710983\n"
     ]
    },
    {
     "name": "stderr",
     "output_type": "stream",
     "text": [
      "\n",
      " 38%|███▊      | 14/37 [00:40<00:58,  2.53s/it]\u001b[A\n",
      " 41%|████      | 15/37 [00:42<00:52,  2.40s/it]\u001b[A\n",
      " 43%|████▎     | 16/37 [00:44<00:49,  2.37s/it]\u001b[A\n",
      " 46%|████▌     | 17/37 [00:46<00:44,  2.23s/it]\u001b[A\n",
      " 49%|████▊     | 18/37 [00:48<00:39,  2.09s/it]\u001b[A\n",
      " 51%|█████▏    | 19/37 [00:50<00:38,  2.16s/it]\u001b[A\n",
      " 54%|█████▍    | 20/37 [00:52<00:34,  2.04s/it]\u001b[A\n",
      " 57%|█████▋    | 21/37 [00:54<00:30,  1.89s/it]\u001b[A\n",
      " 59%|█████▉    | 22/37 [00:55<00:26,  1.73s/it]\u001b[A\n",
      " 62%|██████▏   | 23/37 [00:57<00:23,  1.68s/it]\u001b[A\n",
      " 65%|██████▍   | 24/37 [00:58<00:19,  1.53s/it]\u001b[A\n",
      " 68%|██████▊   | 25/37 [00:59<00:17,  1.45s/it]\u001b[A\n",
      " 70%|███████   | 26/37 [01:00<00:15,  1.39s/it]\u001b[A\n",
      " 73%|███████▎  | 27/37 [01:01<00:13,  1.30s/it]\u001b[A\n",
      " 76%|███████▌  | 28/37 [01:02<00:10,  1.20s/it]\u001b[A\n",
      " 78%|███████▊  | 29/37 [01:03<00:09,  1.14s/it]\u001b[A\n",
      " 81%|████████  | 30/37 [01:04<00:06,  1.01it/s]\u001b[A\n",
      " 84%|████████▍ | 31/37 [01:05<00:05,  1.11it/s]\u001b[A\n",
      " 86%|████████▋ | 32/37 [01:05<00:04,  1.20it/s]\u001b[A\n",
      " 89%|████████▉ | 33/37 [01:06<00:02,  1.41it/s]\u001b[A\n",
      " 92%|█████████▏| 34/37 [01:06<00:01,  1.73it/s]\u001b[A\n",
      "100%|██████████| 37/37 [01:06<00:00,  1.81s/it]\u001b[A\n",
      " 69%|██████▉   | 71/103 [1:30:13<36:02, 67.58s/it]"
     ]
    },
    {
     "name": "stdout",
     "output_type": "stream",
     "text": [
      "Row(ct=12000000014, ca=70)\n"
     ]
    },
    {
     "name": "stderr",
     "output_type": "stream",
     "text": [
      "\n",
      "  0%|          | 0/39 [00:00<?, ?it/s]\u001b[A\n",
      "  3%|▎         | 1/39 [00:04<02:52,  4.53s/it]\u001b[A"
     ]
    },
    {
     "name": "stdout",
     "output_type": "stream",
     "text": [
      "miles_p_velocity_p 0.8277333288051443\n"
     ]
    },
    {
     "name": "stderr",
     "output_type": "stream",
     "text": [
      "\n",
      "  5%|▌         | 2/39 [00:07<02:19,  3.77s/it]\u001b[A\n",
      "  8%|▊         | 3/39 [00:11<02:10,  3.62s/it]\u001b[A\n",
      " 10%|█         | 4/39 [00:14<02:08,  3.66s/it]\u001b[A\n",
      " 13%|█▎        | 5/39 [00:18<01:59,  3.50s/it]\u001b[A\n",
      " 15%|█▌        | 6/39 [00:21<01:52,  3.41s/it]\u001b[A\n",
      " 18%|█▊        | 7/39 [00:24<01:44,  3.27s/it]\u001b[A\n",
      " 21%|██        | 8/39 [00:27<01:38,  3.17s/it]\u001b[A\n",
      " 23%|██▎       | 9/39 [00:29<01:30,  3.00s/it]\u001b[A\n",
      " 26%|██▌       | 10/39 [00:32<01:21,  2.80s/it]\u001b[A\n",
      " 28%|██▊       | 11/39 [00:35<01:22,  2.94s/it]\u001b[A\n",
      " 31%|███       | 12/39 [00:38<01:15,  2.79s/it]\u001b[A\n",
      " 33%|███▎      | 13/39 [00:40<01:11,  2.74s/it]\u001b[A"
     ]
    },
    {
     "name": "stdout",
     "output_type": "stream",
     "text": [
      "tipsm_d_extrasm_d 0.9315419330909976\n",
      "tipsm_d_totalm_d 0.797513763115371\n"
     ]
    },
    {
     "name": "stderr",
     "output_type": "stream",
     "text": [
      "\n",
      " 36%|███▌      | 14/39 [00:44<01:18,  3.13s/it]\u001b[A\n",
      " 38%|███▊      | 15/39 [00:47<01:12,  3.02s/it]\u001b[A"
     ]
    },
    {
     "name": "stdout",
     "output_type": "stream",
     "text": [
      "extrasm_d_totalm_d 0.8363954282609669\n"
     ]
    },
    {
     "name": "stderr",
     "output_type": "stream",
     "text": [
      "\n",
      " 41%|████      | 16/39 [00:49<01:04,  2.82s/it]\u001b[A\n",
      " 44%|████▎     | 17/39 [00:56<01:25,  3.91s/it]\u001b[A\n",
      " 46%|████▌     | 18/39 [01:06<02:00,  5.76s/it]\u001b[A\n",
      " 49%|████▊     | 19/39 [01:08<01:31,  4.59s/it]\u001b[A\n",
      " 51%|█████▏    | 20/39 [01:10<01:13,  3.85s/it]\u001b[A\n",
      " 54%|█████▍    | 21/39 [01:12<00:58,  3.26s/it]\u001b[A\n",
      " 56%|█████▋    | 22/39 [01:13<00:47,  2.78s/it]\u001b[A\n",
      " 59%|█████▉    | 23/39 [01:15<00:38,  2.38s/it]\u001b[A\n",
      " 62%|██████▏   | 24/39 [01:16<00:31,  2.10s/it]\u001b[A\n",
      " 64%|██████▍   | 25/39 [01:18<00:26,  1.90s/it]\u001b[A\n",
      " 67%|██████▋   | 26/39 [01:19<00:21,  1.67s/it]\u001b[A\n",
      " 69%|██████▉   | 27/39 [01:20<00:17,  1.48s/it]\u001b[A"
     ]
    },
    {
     "name": "stdout",
     "output_type": "stream",
     "text": [
      "trips_d_growth_1_to_0_velocity_d_growth_1_to_0 0.6697973176913938\n"
     ]
    },
    {
     "name": "stderr",
     "output_type": "stream",
     "text": [
      "\n",
      " 72%|███████▏  | 28/39 [01:21<00:15,  1.39s/it]\u001b[A\n",
      " 74%|███████▍  | 29/39 [01:22<00:12,  1.25s/it]\u001b[A\n",
      " 77%|███████▋  | 30/39 [01:23<00:10,  1.20s/it]\u001b[A"
     ]
    },
    {
     "name": "stdout",
     "output_type": "stream",
     "text": [
      "trips_d_growth_3_to_2_velocity_d_growth_3_to_2 0.6906162263882467\n"
     ]
    },
    {
     "name": "stderr",
     "output_type": "stream",
     "text": [
      "\n",
      " 79%|███████▉  | 31/39 [01:24<00:09,  1.16s/it]\u001b[A\n",
      " 82%|████████▏ | 32/39 [01:25<00:07,  1.05s/it]\u001b[A\n",
      " 85%|████████▍ | 33/39 [01:25<00:05,  1.11it/s]\u001b[A\n",
      " 87%|████████▋ | 34/39 [01:26<00:04,  1.11it/s]\u001b[A\n",
      " 90%|████████▉ | 35/39 [01:27<00:03,  1.15it/s]\u001b[A\n",
      " 92%|█████████▏| 36/39 [01:28<00:02,  1.37it/s]\u001b[A\n",
      " 95%|█████████▍| 37/39 [01:28<00:01,  1.75it/s]\u001b[A\n",
      "100%|██████████| 39/39 [01:28<00:00,  2.26s/it]\u001b[A\n",
      " 70%|██████▉   | 72/103 [1:31:42<38:10, 73.90s/it]"
     ]
    },
    {
     "name": "stdout",
     "output_type": "stream",
     "text": [
      "Row(ct=17031835800, ca=55)\n"
     ]
    },
    {
     "name": "stderr",
     "output_type": "stream",
     "text": [
      "\n",
      "  0%|          | 0/34 [00:00<?, ?it/s]\u001b[A\n",
      "  3%|▎         | 1/34 [00:04<02:35,  4.72s/it]\u001b[A\n",
      "  6%|▌         | 2/34 [00:15<04:22,  8.21s/it]\u001b[A\n",
      "  9%|▉         | 3/34 [00:25<04:43,  9.15s/it]\u001b[A\n",
      " 12%|█▏        | 4/34 [00:28<03:25,  6.84s/it]\u001b[A\n",
      " 15%|█▍        | 5/34 [00:31<02:37,  5.44s/it]\u001b[A\n",
      " 18%|█▊        | 6/34 [00:34<02:08,  4.58s/it]\u001b[A\n",
      " 21%|██        | 7/34 [00:37<01:45,  3.92s/it]\u001b[A\n",
      " 24%|██▎       | 8/34 [00:39<01:30,  3.48s/it]\u001b[A\n",
      " 26%|██▋       | 9/34 [00:41<01:16,  3.04s/it]\u001b[A\n",
      " 29%|██▉       | 10/34 [00:43<01:05,  2.71s/it]\u001b[A\n",
      " 32%|███▏      | 11/34 [00:46<01:03,  2.74s/it]\u001b[A\n",
      " 35%|███▌      | 12/34 [00:48<00:56,  2.58s/it]\u001b[A\n",
      " 38%|███▊      | 13/34 [00:50<00:49,  2.35s/it]\u001b[A\n",
      " 41%|████      | 14/34 [00:52<00:45,  2.26s/it]\u001b[A"
     ]
    },
    {
     "name": "stdout",
     "output_type": "stream",
     "text": [
      "extrasm_d_totalm_d 0.9131963602752735\n"
     ]
    },
    {
     "name": "stderr",
     "output_type": "stream",
     "text": [
      "\n",
      " 44%|████▍     | 15/34 [00:54<00:39,  2.09s/it]\u001b[A\n",
      " 47%|████▋     | 16/34 [00:56<00:36,  2.04s/it]\u001b[A\n",
      " 50%|█████     | 17/34 [00:58<00:33,  1.98s/it]\u001b[A\n",
      " 53%|█████▎    | 18/34 [01:00<00:30,  1.90s/it]\u001b[A\n",
      " 56%|█████▌    | 19/34 [01:01<00:28,  1.91s/it]\u001b[A\n",
      " 59%|█████▉    | 20/34 [01:03<00:26,  1.88s/it]\u001b[A\n",
      " 62%|██████▏   | 21/34 [01:05<00:23,  1.83s/it]\u001b[A\n",
      " 65%|██████▍   | 22/34 [01:06<00:19,  1.63s/it]\u001b[A\n",
      " 68%|██████▊   | 23/34 [01:07<00:16,  1.51s/it]\u001b[A\n",
      " 71%|███████   | 24/34 [01:08<00:13,  1.35s/it]\u001b[A\n",
      " 74%|███████▎  | 25/34 [01:09<00:11,  1.27s/it]\u001b[A\n",
      " 76%|███████▋  | 26/34 [01:11<00:09,  1.23s/it]\u001b[A\n",
      " 79%|███████▉  | 27/34 [01:11<00:07,  1.07s/it]\u001b[A\n",
      " 82%|████████▏ | 28/34 [01:12<00:05,  1.06it/s]\u001b[A\n",
      " 85%|████████▌ | 29/34 [01:12<00:04,  1.20it/s]\u001b[A\n",
      " 88%|████████▊ | 30/34 [01:13<00:02,  1.38it/s]\u001b[A\n",
      " 91%|█████████ | 31/34 [01:13<00:01,  1.68it/s]\u001b[A\n",
      " 94%|█████████▍| 32/34 [01:13<00:00,  2.05it/s]\u001b[A\n",
      "100%|██████████| 34/34 [01:14<00:00,  2.18s/it]\u001b[A\n",
      " 71%|███████   | 73/103 [1:32:57<37:06, 74.23s/it]"
     ]
    },
    {
     "name": "stdout",
     "output_type": "stream",
     "text": [
      "Row(ct=12000000017, ca=50)\n"
     ]
    },
    {
     "name": "stderr",
     "output_type": "stream",
     "text": [
      "\n",
      "  0%|          | 0/37 [00:00<?, ?it/s]\u001b[A\n",
      "  3%|▎         | 1/37 [00:07<04:14,  7.07s/it]\u001b[A\n",
      "  5%|▌         | 2/37 [00:11<03:05,  5.29s/it]\u001b[A\n",
      "  8%|▊         | 3/37 [00:14<02:26,  4.31s/it]\u001b[A\n",
      " 11%|█         | 4/37 [00:17<02:02,  3.71s/it]\u001b[A\n",
      " 14%|█▎        | 5/37 [00:19<01:48,  3.41s/it]\u001b[A\n",
      " 16%|█▌        | 6/37 [00:22<01:40,  3.23s/it]\u001b[A\n",
      " 19%|█▉        | 7/37 [00:25<01:29,  3.00s/it]\u001b[A\n",
      " 22%|██▏       | 8/37 [00:28<01:25,  2.94s/it]\u001b[A\n",
      " 24%|██▍       | 9/37 [00:35<02:04,  4.43s/it]\u001b[A\n",
      " 27%|██▋       | 10/37 [00:51<03:36,  8.03s/it]\u001b[A\n",
      " 30%|██▉       | 11/37 [01:00<03:31,  8.15s/it]\u001b[A\n",
      " 32%|███▏      | 12/37 [01:04<02:53,  6.94s/it]\u001b[A\n",
      " 35%|███▌      | 13/37 [01:09<02:33,  6.40s/it]\u001b[A\n",
      " 38%|███▊      | 14/37 [01:11<01:57,  5.11s/it]\u001b[A\n",
      " 41%|████      | 15/37 [01:14<01:38,  4.46s/it]\u001b[A\n",
      " 43%|████▎     | 16/37 [01:19<01:34,  4.52s/it]\u001b[A\n",
      " 46%|████▌     | 17/37 [01:22<01:22,  4.13s/it]\u001b[A\n",
      " 49%|████▊     | 18/37 [01:26<01:16,  4.01s/it]\u001b[A\n",
      " 51%|█████▏    | 19/37 [01:28<01:01,  3.44s/it]\u001b[A\n",
      " 54%|█████▍    | 20/37 [01:30<00:50,  2.97s/it]\u001b[A\n",
      " 57%|█████▋    | 21/37 [01:31<00:39,  2.50s/it]\u001b[A\n",
      " 59%|█████▉    | 22/37 [01:33<00:33,  2.25s/it]\u001b[A\n",
      " 62%|██████▏   | 23/37 [01:34<00:27,  1.99s/it]\u001b[A\n",
      " 65%|██████▍   | 24/37 [01:35<00:22,  1.70s/it]\u001b[A\n",
      " 68%|██████▊   | 25/37 [01:37<00:18,  1.54s/it]\u001b[A\n",
      " 70%|███████   | 26/37 [01:37<00:14,  1.34s/it]\u001b[A\n",
      " 73%|███████▎  | 27/37 [01:38<00:12,  1.25s/it]\u001b[A\n",
      " 76%|███████▌  | 28/37 [01:40<00:11,  1.25s/it]\u001b[A\n",
      " 78%|███████▊  | 29/37 [01:41<00:08,  1.12s/it]\u001b[A\n",
      " 81%|████████  | 30/37 [01:41<00:06,  1.04it/s]\u001b[A\n",
      " 84%|████████▍ | 31/37 [01:42<00:05,  1.19it/s]\u001b[A\n",
      " 86%|████████▋ | 32/37 [01:42<00:03,  1.39it/s]\u001b[A\n",
      " 89%|████████▉ | 33/37 [01:43<00:02,  1.58it/s]\u001b[A\n",
      " 92%|█████████▏| 34/37 [01:43<00:01,  1.95it/s]\u001b[A\n",
      "100%|██████████| 37/37 [01:43<00:00,  2.80s/it]\u001b[A\n",
      " 72%|███████▏  | 74/103 [1:34:41<40:15, 83.30s/it]"
     ]
    },
    {
     "name": "stdout",
     "output_type": "stream",
     "text": [
      "Row(ct=12000000029, ca=73)\n"
     ]
    },
    {
     "name": "stderr",
     "output_type": "stream",
     "text": [
      "\n",
      "  0%|          | 0/41 [00:00<?, ?it/s]\u001b[A\n",
      "  2%|▏         | 1/41 [00:07<05:18,  7.97s/it]\u001b[A\n",
      "  5%|▍         | 2/41 [00:13<04:04,  6.27s/it]\u001b[A\n",
      "  7%|▋         | 3/41 [00:16<03:14,  5.11s/it]\u001b[A\n",
      " 10%|▉         | 4/41 [00:20<02:42,  4.39s/it]\u001b[A\n",
      " 12%|█▏        | 5/41 [00:23<02:28,  4.11s/it]\u001b[A\n",
      " 15%|█▍        | 6/41 [00:26<02:11,  3.77s/it]\u001b[A\n",
      " 17%|█▋        | 7/41 [00:29<02:01,  3.58s/it]\u001b[A\n",
      " 20%|█▉        | 8/41 [00:32<01:49,  3.32s/it]\u001b[A\n",
      " 22%|██▏       | 9/41 [00:35<01:44,  3.27s/it]\u001b[A\n",
      " 24%|██▍       | 10/41 [00:38<01:37,  3.14s/it]\u001b[A\n",
      " 27%|██▋       | 11/41 [00:41<01:33,  3.11s/it]\u001b[A\n",
      " 29%|██▉       | 12/41 [00:44<01:27,  3.01s/it]\u001b[A\n",
      " 32%|███▏      | 13/41 [00:47<01:22,  2.96s/it]\u001b[A\n",
      " 34%|███▍      | 14/41 [00:49<01:14,  2.76s/it]\u001b[A\n",
      " 37%|███▋      | 15/41 [00:51<01:06,  2.56s/it]\u001b[A\n",
      " 39%|███▉      | 16/41 [00:54<01:01,  2.47s/it]\u001b[A\n",
      " 41%|████▏     | 17/41 [00:56<00:58,  2.45s/it]\u001b[A"
     ]
    },
    {
     "name": "stdout",
     "output_type": "stream",
     "text": [
      "extrasm_d_velocity_d_growth_4_to_3 -0.8778237462023544\n"
     ]
    },
    {
     "name": "stderr",
     "output_type": "stream",
     "text": [
      "\n",
      " 44%|████▍     | 18/41 [00:59<00:58,  2.56s/it]\u001b[A\n",
      " 46%|████▋     | 19/41 [01:01<00:54,  2.46s/it]\u001b[A\n",
      " 49%|████▉     | 20/41 [01:05<01:00,  2.86s/it]\u001b[A\n",
      " 51%|█████     | 21/41 [01:09<01:03,  3.16s/it]\u001b[A\n",
      " 54%|█████▎    | 22/41 [01:13<01:06,  3.52s/it]\u001b[A\n",
      " 56%|█████▌    | 23/41 [01:17<01:05,  3.66s/it]\u001b[A\n",
      " 59%|█████▊    | 24/41 [01:19<00:55,  3.29s/it]\u001b[A\n",
      " 61%|██████    | 25/41 [01:22<00:49,  3.06s/it]\u001b[A\n",
      " 63%|██████▎   | 26/41 [01:24<00:43,  2.88s/it]\u001b[A\n",
      " 66%|██████▌   | 27/41 [01:34<01:07,  4.84s/it]\u001b[A\n",
      " 68%|██████▊   | 28/41 [01:36<00:53,  4.14s/it]\u001b[A\n",
      " 71%|███████   | 29/41 [01:40<00:48,  4.00s/it]\u001b[A\n",
      " 73%|███████▎  | 30/41 [01:41<00:34,  3.16s/it]\u001b[A\n",
      " 76%|███████▌  | 31/41 [01:43<00:26,  2.62s/it]\u001b[A\n",
      " 78%|███████▊  | 32/41 [01:43<00:18,  2.09s/it]\u001b[A\n",
      " 80%|████████  | 33/41 [01:44<00:14,  1.75s/it]\u001b[A\n",
      " 83%|████████▎ | 34/41 [01:45<00:09,  1.42s/it]\u001b[A\n",
      " 85%|████████▌ | 35/41 [01:46<00:06,  1.17s/it]\u001b[A\n",
      " 88%|████████▊ | 36/41 [01:46<00:04,  1.04it/s]\u001b[A\n",
      " 90%|█████████ | 37/41 [01:47<00:03,  1.18it/s]\u001b[A\n",
      " 93%|█████████▎| 38/41 [01:47<00:02,  1.38it/s]\u001b[A\n",
      " 95%|█████████▌| 39/41 [01:47<00:01,  1.66it/s]\u001b[A\n",
      "100%|██████████| 41/41 [01:48<00:00,  2.64s/it]\u001b[A\n",
      " 73%|███████▎  | 75/103 [1:36:30<42:29, 91.05s/it]"
     ]
    },
    {
     "name": "stdout",
     "output_type": "stream",
     "text": [
      "Row(ct=12000000023, ca=46)\n"
     ]
    },
    {
     "name": "stderr",
     "output_type": "stream",
     "text": [
      "\n",
      "  0%|          | 0/40 [00:00<?, ?it/s]\u001b[A\n",
      "  2%|▎         | 1/40 [00:07<04:44,  7.30s/it]\u001b[A\n",
      "  5%|▌         | 2/40 [00:11<03:31,  5.57s/it]\u001b[A\n",
      "  8%|▊         | 3/40 [00:16<03:09,  5.11s/it]\u001b[A\n",
      " 10%|█         | 4/40 [00:19<02:41,  4.49s/it]\u001b[A\n",
      " 12%|█▎        | 5/40 [00:22<02:20,  4.00s/it]\u001b[A\n",
      " 15%|█▌        | 6/40 [00:27<02:20,  4.15s/it]\u001b[A\n",
      " 18%|█▊        | 7/40 [00:30<02:06,  3.83s/it]\u001b[A\n",
      " 20%|██        | 8/40 [00:33<01:54,  3.58s/it]\u001b[A\n",
      " 22%|██▎       | 9/40 [00:36<01:46,  3.44s/it]\u001b[A\n",
      " 25%|██▌       | 10/40 [00:40<01:43,  3.45s/it]\u001b[A\n",
      " 28%|██▊       | 11/40 [00:43<01:39,  3.43s/it]\u001b[A\n",
      " 30%|███       | 12/40 [00:46<01:33,  3.34s/it]\u001b[A\n",
      " 32%|███▎      | 13/40 [00:49<01:25,  3.17s/it]\u001b[A\n",
      " 35%|███▌      | 14/40 [00:58<02:09,  4.99s/it]\u001b[A\n",
      " 38%|███▊      | 15/40 [01:02<01:55,  4.64s/it]\u001b[A\n",
      " 40%|████      | 16/40 [01:04<01:33,  3.90s/it]\u001b[A\n",
      " 42%|████▎     | 17/40 [01:06<01:18,  3.42s/it]\u001b[A\n",
      " 45%|████▌     | 18/40 [01:08<01:05,  2.99s/it]\u001b[A\n",
      " 48%|████▊     | 19/40 [01:10<00:56,  2.68s/it]\u001b[A\n",
      " 50%|█████     | 20/40 [01:12<00:49,  2.50s/it]\u001b[A\n",
      " 52%|█████▎    | 21/40 [01:14<00:42,  2.26s/it]\u001b[A\n",
      " 55%|█████▌    | 22/40 [01:17<00:41,  2.32s/it]\u001b[A\n",
      " 57%|█████▊    | 23/40 [01:19<00:39,  2.33s/it]\u001b[A\n",
      " 60%|██████    | 24/40 [01:21<00:33,  2.11s/it]\u001b[A\n",
      " 62%|██████▎   | 25/40 [01:22<00:28,  1.92s/it]\u001b[A\n",
      " 65%|██████▌   | 26/40 [01:23<00:24,  1.76s/it]\u001b[A\n",
      " 68%|██████▊   | 27/40 [01:25<00:21,  1.65s/it]\u001b[A\n",
      " 70%|███████   | 28/40 [01:26<00:18,  1.55s/it]\u001b[A\n",
      " 72%|███████▎  | 29/40 [01:27<00:15,  1.43s/it]\u001b[A\n",
      " 75%|███████▌  | 30/40 [01:28<00:13,  1.31s/it]\u001b[A\n",
      " 78%|███████▊  | 31/40 [01:29<00:10,  1.22s/it]\u001b[A\n",
      " 80%|████████  | 32/40 [01:31<00:09,  1.21s/it]\u001b[A\n",
      " 82%|████████▎ | 33/40 [01:31<00:07,  1.08s/it]\u001b[A\n",
      " 85%|████████▌ | 34/40 [01:32<00:05,  1.05it/s]\u001b[A\n",
      " 88%|████████▊ | 35/40 [01:32<00:03,  1.28it/s]\u001b[A\n",
      " 90%|█████████ | 36/40 [01:33<00:02,  1.51it/s]\u001b[A\n",
      " 92%|█████████▎| 37/40 [01:33<00:01,  1.79it/s]\u001b[A\n",
      "100%|██████████| 40/40 [01:33<00:00,  2.35s/it]\u001b[A\n",
      " 74%|███████▍  | 76/103 [1:38:05<41:27, 92.14s/it]"
     ]
    },
    {
     "name": "stdout",
     "output_type": "stream",
     "text": [
      "Row(ct=12000000022, ca=11)\n"
     ]
    },
    {
     "name": "stderr",
     "output_type": "stream",
     "text": [
      "\n",
      "  0%|          | 0/41 [00:00<?, ?it/s]\u001b[A\n",
      "  2%|▏         | 1/41 [00:04<03:05,  4.65s/it]\u001b[A\n",
      "  5%|▍         | 2/41 [00:08<02:40,  4.12s/it]\u001b[A\n",
      "  7%|▋         | 3/41 [00:12<02:28,  3.90s/it]\u001b[A"
     ]
    },
    {
     "name": "stdout",
     "output_type": "stream",
     "text": [
      "tipsm_p_totalm_p 0.9862402279987041\n"
     ]
    },
    {
     "name": "stderr",
     "output_type": "stream",
     "text": [
      "\n",
      " 10%|▉         | 4/41 [00:16<02:34,  4.18s/it]\u001b[A\n",
      " 12%|█▏        | 5/41 [00:19<02:16,  3.79s/it]\u001b[A\n",
      " 15%|█▍        | 6/41 [00:23<02:07,  3.64s/it]\u001b[A\n",
      " 17%|█▋        | 7/41 [00:26<01:56,  3.42s/it]\u001b[A\n",
      " 20%|█▉        | 8/41 [00:29<01:48,  3.28s/it]\u001b[A\n",
      " 22%|██▏       | 9/41 [00:32<01:43,  3.22s/it]\u001b[A\n",
      " 24%|██▍       | 10/41 [00:34<01:36,  3.11s/it]\u001b[A\n",
      " 27%|██▋       | 11/41 [00:37<01:29,  2.97s/it]\u001b[A\n",
      " 29%|██▉       | 12/41 [00:40<01:24,  2.92s/it]\u001b[A\n",
      " 32%|███▏      | 13/41 [00:45<01:37,  3.48s/it]\u001b[A\n",
      " 34%|███▍      | 14/41 [00:55<02:32,  5.63s/it]\u001b[A\n",
      " 37%|███▋      | 15/41 [00:58<02:02,  4.73s/it]\u001b[A\n",
      " 39%|███▉      | 16/41 [01:00<01:38,  3.95s/it]\u001b[A\n",
      " 41%|████▏     | 17/41 [01:02<01:23,  3.48s/it]\u001b[A\n",
      " 44%|████▍     | 18/41 [01:05<01:12,  3.13s/it]\u001b[A\n",
      " 46%|████▋     | 19/41 [01:07<01:01,  2.79s/it]\u001b[A\n",
      " 49%|████▉     | 20/41 [01:09<00:52,  2.49s/it]\u001b[A\n",
      " 51%|█████     | 21/41 [01:11<00:47,  2.35s/it]\u001b[A\n",
      " 54%|█████▎    | 22/41 [01:12<00:41,  2.18s/it]\u001b[A\n",
      " 56%|█████▌    | 23/41 [01:14<00:36,  2.03s/it]\u001b[A\n",
      " 59%|█████▊    | 24/41 [01:16<00:31,  1.87s/it]\u001b[A\n",
      " 61%|██████    | 25/41 [01:17<00:28,  1.77s/it]\u001b[A\n",
      " 63%|██████▎   | 26/41 [01:18<00:24,  1.63s/it]\u001b[A\n",
      " 66%|██████▌   | 27/41 [01:20<00:21,  1.51s/it]\u001b[A\n",
      " 68%|██████▊   | 28/41 [01:21<00:19,  1.46s/it]\u001b[A\n",
      " 71%|███████   | 29/41 [01:22<00:16,  1.37s/it]\u001b[A\n",
      " 73%|███████▎  | 30/41 [01:23<00:14,  1.33s/it]\u001b[A\n",
      " 76%|███████▌  | 31/41 [01:24<00:11,  1.20s/it]\u001b[A\n",
      " 78%|███████▊  | 32/41 [01:25<00:09,  1.08s/it]\u001b[A\n",
      " 80%|████████  | 33/41 [01:26<00:07,  1.02it/s]\u001b[A\n",
      " 83%|████████▎ | 34/41 [01:26<00:06,  1.16it/s]\u001b[A\n",
      " 85%|████████▌ | 35/41 [01:27<00:04,  1.30it/s]\u001b[A"
     ]
    },
    {
     "name": "stdout",
     "output_type": "stream",
     "text": [
      "velocity_p_growth_3_to_2_velocity_d_growth_1_to_0 0.8030005360951253\n"
     ]
    },
    {
     "name": "stderr",
     "output_type": "stream",
     "text": [
      "\n",
      " 88%|████████▊ | 36/41 [01:27<00:03,  1.48it/s]\u001b[A\n",
      " 90%|█████████ | 37/41 [01:28<00:02,  1.66it/s]\u001b[A\n",
      " 93%|█████████▎| 38/41 [01:28<00:01,  1.75it/s]\u001b[A\n",
      " 95%|█████████▌| 39/41 [01:29<00:00,  2.16it/s]\u001b[A\n",
      "100%|██████████| 41/41 [01:29<00:00,  2.18s/it]\u001b[A\n",
      " 75%|███████▍  | 77/103 [1:39:35<39:39, 91.54s/it]"
     ]
    },
    {
     "name": "stdout",
     "output_type": "stream",
     "text": [
      "Row(ct=17031081500, ca=8)\n"
     ]
    },
    {
     "name": "stderr",
     "output_type": "stream",
     "text": [
      "\n",
      "  0%|          | 0/26 [00:00<?, ?it/s]\u001b[A\n",
      "  4%|▍         | 1/26 [00:09<03:53,  9.35s/it]\u001b[A\n",
      "  8%|▊         | 2/26 [00:17<03:24,  8.52s/it]\u001b[A\n",
      " 12%|█▏        | 3/26 [00:20<02:15,  5.91s/it]\u001b[A\n",
      " 15%|█▌        | 4/26 [00:22<01:39,  4.50s/it]\u001b[A\n",
      " 19%|█▉        | 5/26 [00:24<01:14,  3.56s/it]\u001b[A\n",
      " 23%|██▎       | 6/26 [00:26<00:59,  2.99s/it]\u001b[A\n",
      " 27%|██▋       | 7/26 [00:28<00:50,  2.66s/it]\u001b[A\n",
      " 31%|███       | 8/26 [00:30<00:43,  2.40s/it]\u001b[A"
     ]
    },
    {
     "name": "stdout",
     "output_type": "stream",
     "text": [
      "totalm_d_velocity_d_growth_2_to_1 -0.8883176839387131\n"
     ]
    },
    {
     "name": "stderr",
     "output_type": "stream",
     "text": [
      "\n",
      " 35%|███▍      | 9/26 [00:31<00:37,  2.20s/it]\u001b[A\n",
      " 38%|███▊      | 10/26 [00:33<00:34,  2.17s/it]\u001b[A\n",
      " 42%|████▏     | 11/26 [00:35<00:30,  2.02s/it]\u001b[A\n",
      " 46%|████▌     | 12/26 [00:36<00:25,  1.79s/it]\u001b[A\n",
      " 50%|█████     | 13/26 [00:38<00:21,  1.62s/it]\u001b[A\n",
      " 54%|█████▍    | 14/26 [00:39<00:17,  1.45s/it]\u001b[A\n",
      " 58%|█████▊    | 15/26 [00:40<00:15,  1.42s/it]\u001b[A\n",
      " 62%|██████▏   | 16/26 [00:41<00:12,  1.27s/it]\u001b[A\n",
      " 65%|██████▌   | 17/26 [00:42<00:10,  1.17s/it]\u001b[A\n",
      " 69%|██████▉   | 18/26 [00:43<00:08,  1.09s/it]\u001b[A\n",
      " 73%|███████▎  | 19/26 [00:44<00:07,  1.07s/it]\u001b[A\n",
      " 77%|███████▋  | 20/26 [00:44<00:05,  1.05it/s]\u001b[A\n",
      " 81%|████████  | 21/26 [00:45<00:04,  1.22it/s]\u001b[A\n",
      " 85%|████████▍ | 22/26 [00:45<00:02,  1.45it/s]\u001b[A\n",
      " 88%|████████▊ | 23/26 [00:46<00:01,  1.62it/s]\u001b[A\n",
      " 92%|█████████▏| 24/26 [00:46<00:00,  2.02it/s]\u001b[A\n",
      "100%|██████████| 26/26 [00:46<00:00,  1.79s/it]\u001b[A\n",
      " 76%|███████▌  | 78/103 [1:40:26<33:05, 79.43s/it]"
     ]
    },
    {
     "name": "stdout",
     "output_type": "stream",
     "text": [
      "Row(ct=12000000010, ca=3)\n"
     ]
    },
    {
     "name": "stderr",
     "output_type": "stream",
     "text": [
      "\n",
      "  0%|          | 0/39 [00:00<?, ?it/s]\u001b[A\n",
      "  3%|▎         | 1/39 [00:07<04:49,  7.62s/it]\u001b[A\n",
      "  5%|▌         | 2/39 [00:11<03:18,  5.37s/it]\u001b[A"
     ]
    },
    {
     "name": "stdout",
     "output_type": "stream",
     "text": [
      "tipsm_p_velocity_p_growth_4_to_3 -0.7511390750679111\n"
     ]
    },
    {
     "name": "stderr",
     "output_type": "stream",
     "text": [
      "\n",
      "  8%|▊         | 3/39 [00:16<03:00,  5.01s/it]\u001b[A\n",
      " 10%|█         | 4/39 [00:21<03:00,  5.15s/it]\u001b[A\n",
      " 13%|█▎        | 5/39 [00:25<02:44,  4.84s/it]\u001b[A\n",
      " 15%|█▌        | 6/39 [00:29<02:26,  4.44s/it]\u001b[A"
     ]
    },
    {
     "name": "stdout",
     "output_type": "stream",
     "text": [
      "comp2_p_comp2_d 0.6514336784853338\n"
     ]
    },
    {
     "name": "stderr",
     "output_type": "stream",
     "text": [
      "\n",
      " 18%|█▊        | 7/39 [00:34<02:30,  4.69s/it]\u001b[A\n",
      " 21%|██        | 8/39 [00:37<02:06,  4.09s/it]\u001b[A\n",
      " 23%|██▎       | 9/39 [00:40<01:57,  3.91s/it]\u001b[A\n",
      " 26%|██▌       | 10/39 [00:43<01:45,  3.64s/it]\u001b[A\n",
      " 28%|██▊       | 11/39 [00:48<01:48,  3.88s/it]\u001b[A\n",
      " 31%|███       | 12/39 [00:51<01:42,  3.81s/it]\u001b[A\n",
      " 33%|███▎      | 13/39 [01:04<02:46,  6.42s/it]\u001b[A\n",
      " 36%|███▌      | 14/39 [01:11<02:48,  6.72s/it]\u001b[A"
     ]
    },
    {
     "name": "stdout",
     "output_type": "stream",
     "text": [
      "extrasm_d_totalm_d 0.7683333939475508\n"
     ]
    },
    {
     "name": "stderr",
     "output_type": "stream",
     "text": [
      "\n",
      " 38%|███▊      | 15/39 [01:16<02:28,  6.18s/it]\u001b[A\n",
      " 41%|████      | 16/39 [01:20<02:03,  5.37s/it]\u001b[A\n",
      " 44%|████▎     | 17/39 [01:22<01:38,  4.47s/it]\u001b[A\n",
      " 46%|████▌     | 18/39 [01:24<01:19,  3.77s/it]\u001b[A\n",
      " 49%|████▊     | 19/39 [01:26<01:03,  3.16s/it]\u001b[A\n",
      " 51%|█████▏    | 20/39 [01:28<00:52,  2.74s/it]\u001b[A\n",
      " 54%|█████▍    | 21/39 [01:30<00:46,  2.56s/it]\u001b[A\n",
      " 56%|█████▋    | 22/39 [01:32<00:38,  2.29s/it]\u001b[A\n",
      " 59%|█████▉    | 23/39 [01:33<00:34,  2.14s/it]\u001b[A\n",
      " 62%|██████▏   | 24/39 [01:35<00:28,  1.87s/it]\u001b[A\n",
      " 64%|██████▍   | 25/39 [01:36<00:24,  1.73s/it]\u001b[A\n",
      " 67%|██████▋   | 26/39 [01:37<00:20,  1.55s/it]\u001b[A\n",
      " 69%|██████▉   | 27/39 [01:38<00:17,  1.43s/it]\u001b[A\n",
      " 72%|███████▏  | 28/39 [01:39<00:14,  1.36s/it]\u001b[A\n",
      " 74%|███████▍  | 29/39 [01:40<00:12,  1.22s/it]\u001b[A\n",
      " 77%|███████▋  | 30/39 [01:41<00:10,  1.16s/it]\u001b[A\n",
      " 79%|███████▉  | 31/39 [01:42<00:08,  1.04s/it]\u001b[A\n",
      " 82%|████████▏ | 32/39 [01:43<00:06,  1.08it/s]\u001b[A\n",
      " 85%|████████▍ | 33/39 [01:43<00:04,  1.21it/s]\u001b[A\n",
      " 87%|████████▋ | 34/39 [01:44<00:03,  1.46it/s]\u001b[A\n",
      " 90%|████████▉ | 35/39 [01:44<00:02,  1.77it/s]\u001b[A\n",
      " 92%|█████████▏| 36/39 [01:44<00:01,  2.08it/s]\u001b[A\n",
      " 95%|█████████▍| 37/39 [01:44<00:00,  2.51it/s]\u001b[A\n",
      "100%|██████████| 39/39 [01:45<00:00,  2.70s/it]\u001b[A\n",
      " 77%|███████▋  | 79/103 [1:42:13<35:00, 87.53s/it]"
     ]
    },
    {
     "name": "stdout",
     "output_type": "stream",
     "text": [
      "Row(ct=17031430800, ca=19)\n"
     ]
    },
    {
     "name": "stderr",
     "output_type": "stream",
     "text": [
      "\n",
      "  0%|          | 0/39 [00:00<?, ?it/s]\u001b[A\n",
      "  3%|▎         | 1/39 [00:08<05:25,  8.57s/it]\u001b[A\n",
      "  5%|▌         | 2/39 [00:11<03:16,  5.32s/it]\u001b[A\n",
      "  8%|▊         | 3/39 [00:15<02:41,  4.49s/it]\u001b[A\n",
      " 10%|█         | 4/39 [00:18<02:21,  4.04s/it]\u001b[A"
     ]
    },
    {
     "name": "stdout",
     "output_type": "stream",
     "text": [
      "extrasm_p_extrasm_d 0.979941146873642\n"
     ]
    },
    {
     "name": "stderr",
     "output_type": "stream",
     "text": [
      "\n",
      " 13%|█▎        | 5/39 [00:21<02:04,  3.66s/it]\u001b[A\n",
      " 15%|█▌        | 6/39 [00:25<01:59,  3.64s/it]\u001b[A\n",
      " 18%|█▊        | 7/39 [00:28<01:52,  3.51s/it]\u001b[A\n",
      " 21%|██        | 8/39 [00:30<01:40,  3.23s/it]\u001b[A\n",
      " 23%|██▎       | 9/39 [00:33<01:33,  3.11s/it]\u001b[A\n",
      " 26%|██▌       | 10/39 [00:36<01:26,  2.98s/it]\u001b[A\n",
      " 28%|██▊       | 11/39 [00:39<01:22,  2.95s/it]\u001b[A\n",
      " 31%|███       | 12/39 [00:41<01:17,  2.86s/it]\u001b[A\n",
      " 33%|███▎      | 13/39 [00:44<01:14,  2.88s/it]\u001b[A\n",
      " 36%|███▌      | 14/39 [00:47<01:08,  2.73s/it]\u001b[A\n",
      " 38%|███▊      | 15/39 [00:49<01:01,  2.56s/it]\u001b[A\n",
      " 41%|████      | 16/39 [00:51<00:56,  2.47s/it]\u001b[A\n",
      " 44%|████▎     | 17/39 [00:53<00:52,  2.37s/it]\u001b[A\n",
      " 46%|████▌     | 18/39 [00:55<00:47,  2.24s/it]\u001b[A\n",
      " 49%|████▊     | 19/39 [00:57<00:42,  2.14s/it]\u001b[A\n",
      " 51%|█████▏    | 20/39 [00:59<00:38,  2.05s/it]\u001b[A\n",
      " 54%|█████▍    | 21/39 [01:01<00:34,  1.93s/it]\u001b[A\n",
      " 56%|█████▋    | 22/39 [01:02<00:31,  1.86s/it]\u001b[A\n",
      " 59%|█████▉    | 23/39 [01:05<00:31,  1.98s/it]\u001b[A\n",
      " 62%|██████▏   | 24/39 [01:06<00:28,  1.90s/it]\u001b[A\n",
      " 64%|██████▍   | 25/39 [01:08<00:25,  1.83s/it]\u001b[A\n",
      " 67%|██████▋   | 26/39 [01:09<00:22,  1.69s/it]\u001b[A\n",
      " 69%|██████▉   | 27/39 [01:11<00:18,  1.54s/it]\u001b[A\n",
      " 72%|███████▏  | 28/39 [01:12<00:15,  1.37s/it]\u001b[A"
     ]
    },
    {
     "name": "stdout",
     "output_type": "stream",
     "text": [
      "trips_d_growth_2_to_1_velocity_d_growth_2_to_1 0.7953231338523753\n"
     ]
    },
    {
     "name": "stderr",
     "output_type": "stream",
     "text": [
      "\n",
      " 74%|███████▍  | 29/39 [01:13<00:12,  1.26s/it]\u001b[A\n",
      " 77%|███████▋  | 30/39 [01:14<00:10,  1.20s/it]\u001b[A\n",
      " 79%|███████▉  | 31/39 [01:15<00:09,  1.19s/it]\u001b[A"
     ]
    },
    {
     "name": "stdout",
     "output_type": "stream",
     "text": [
      "trips_d_growth_4_to_3_velocity_d_growth_4_to_3 0.7783003339015995\n"
     ]
    },
    {
     "name": "stderr",
     "output_type": "stream",
     "text": [
      "\n",
      " 82%|████████▏ | 32/39 [01:15<00:07,  1.01s/it]\u001b[A\n",
      " 85%|████████▍ | 33/39 [01:16<00:05,  1.04it/s]\u001b[A\n",
      " 87%|████████▋ | 34/39 [01:17<00:04,  1.22it/s]\u001b[A\n",
      " 90%|████████▉ | 35/39 [01:17<00:03,  1.33it/s]\u001b[A\n",
      " 92%|█████████▏| 36/39 [01:18<00:01,  1.54it/s]\u001b[A\n",
      " 95%|█████████▍| 37/39 [01:18<00:01,  1.70it/s]\u001b[A\n",
      "100%|██████████| 39/39 [01:18<00:00,  2.02s/it]\u001b[A\n",
      " 78%|███████▊  | 80/103 [1:43:33<32:42, 85.32s/it]"
     ]
    },
    {
     "name": "stdout",
     "output_type": "stream",
     "text": [
      "Row(ct=17031081403, ca=8)\n"
     ]
    },
    {
     "name": "stderr",
     "output_type": "stream",
     "text": [
      "\n",
      "  0%|          | 0/31 [00:00<?, ?it/s]\u001b[A\n",
      "  3%|▎         | 1/31 [00:03<01:40,  3.36s/it]\u001b[A\n",
      "  6%|▋         | 2/31 [00:06<01:35,  3.29s/it]\u001b[A"
     ]
    },
    {
     "name": "stdout",
     "output_type": "stream",
     "text": [
      "tipsm_p_extrasm_p 0.7999093636700375\n",
      "tipsm_p_totalm_p 0.8376226162989162\n"
     ]
    },
    {
     "name": "stderr",
     "output_type": "stream",
     "text": [
      "\n",
      " 10%|▉         | 3/31 [00:09<01:23,  2.99s/it]\u001b[A\n",
      " 13%|█▎        | 4/31 [00:12<01:20,  2.99s/it]\u001b[A"
     ]
    },
    {
     "name": "stdout",
     "output_type": "stream",
     "text": [
      "extrasm_p_totalm_p 0.7412359542431156\n"
     ]
    },
    {
     "name": "stderr",
     "output_type": "stream",
     "text": [
      "\n",
      " 16%|█▌        | 5/31 [00:14<01:15,  2.89s/it]\u001b[A\n",
      " 19%|█▉        | 6/31 [00:17<01:13,  2.92s/it]\u001b[A\n",
      " 23%|██▎       | 7/31 [00:20<01:07,  2.83s/it]\u001b[A\n",
      " 26%|██▌       | 8/31 [00:23<01:05,  2.83s/it]\u001b[A"
     ]
    },
    {
     "name": "stdout",
     "output_type": "stream",
     "text": [
      "comp5_p_comp5_d 0.6836722228915508\n"
     ]
    },
    {
     "name": "stderr",
     "output_type": "stream",
     "text": [
      "\n",
      " 29%|██▉       | 9/31 [00:25<00:58,  2.66s/it]\u001b[A\n",
      " 32%|███▏      | 10/31 [00:27<00:52,  2.50s/it]\u001b[A\n",
      " 35%|███▌      | 11/31 [00:29<00:47,  2.39s/it]\u001b[A\n",
      " 39%|███▊      | 12/31 [00:31<00:42,  2.22s/it]\u001b[A\n",
      " 42%|████▏     | 13/31 [00:33<00:36,  2.03s/it]\u001b[A\n",
      " 45%|████▌     | 14/31 [00:35<00:34,  2.04s/it]\u001b[A\n",
      " 48%|████▊     | 15/31 [00:37<00:30,  1.90s/it]\u001b[A\n",
      " 52%|█████▏    | 16/31 [00:38<00:27,  1.82s/it]\u001b[A\n",
      " 55%|█████▍    | 17/31 [00:39<00:23,  1.65s/it]\u001b[A\n",
      " 58%|█████▊    | 18/31 [00:41<00:19,  1.52s/it]\u001b[A\n",
      " 61%|██████▏   | 19/31 [00:42<00:17,  1.45s/it]\u001b[A\n",
      " 65%|██████▍   | 20/31 [00:43<00:14,  1.31s/it]\u001b[A\n",
      " 68%|██████▊   | 21/31 [00:45<00:14,  1.48s/it]\u001b[A\n",
      " 71%|███████   | 22/31 [00:46<00:13,  1.54s/it]\u001b[A\n",
      " 74%|███████▍  | 23/31 [00:54<00:25,  3.18s/it]\u001b[A\n",
      " 77%|███████▋  | 24/31 [00:59<00:26,  3.79s/it]\u001b[A\n",
      " 81%|████████  | 25/31 [00:59<00:17,  2.89s/it]\u001b[A\n",
      " 84%|████████▍ | 26/31 [01:00<00:11,  2.22s/it]\u001b[A\n",
      " 87%|████████▋ | 27/31 [01:01<00:06,  1.72s/it]\u001b[A\n",
      " 90%|█████████ | 28/31 [01:02<00:04,  1.53s/it]\u001b[A\n",
      "100%|██████████| 31/31 [01:05<00:00,  2.11s/it]\u001b[A\n",
      " 79%|███████▊  | 81/103 [1:44:39<29:08, 79.46s/it]"
     ]
    },
    {
     "name": "stdout",
     "output_type": "stream",
     "text": [
      "Row(ct=12000000031, ca=44)\n"
     ]
    },
    {
     "name": "stderr",
     "output_type": "stream",
     "text": [
      "\n",
      "  0%|          | 0/39 [00:00<?, ?it/s]\u001b[A\n",
      "  3%|▎         | 1/39 [00:26<16:52, 26.63s/it]\u001b[A\n",
      "  5%|▌         | 2/39 [02:03<41:45, 67.71s/it]\u001b[A\n",
      "  8%|▊         | 3/39 [02:17<25:57, 43.25s/it]\u001b[A"
     ]
    },
    {
     "name": "stdout",
     "output_type": "stream",
     "text": [
      "tipsm_p_extrasm_p 0.9740921577583496\n"
     ]
    },
    {
     "name": "stderr",
     "output_type": "stream",
     "text": [
      "\n",
      " 10%|█         | 4/39 [02:30<18:13, 31.24s/it]\u001b[A\n",
      " 13%|█▎        | 5/39 [02:39<13:14, 23.38s/it]\u001b[A\n",
      " 15%|█▌        | 6/39 [02:45<09:33, 17.37s/it]\u001b[A\n",
      " 18%|█▊        | 7/39 [02:48<06:51, 12.85s/it]\u001b[A\n",
      " 21%|██        | 8/39 [02:52<05:08,  9.95s/it]\u001b[A\n",
      " 23%|██▎       | 9/39 [02:55<03:55,  7.85s/it]\u001b[A\n",
      " 26%|██▌       | 10/39 [02:59<03:11,  6.60s/it]\u001b[A\n",
      " 28%|██▊       | 11/39 [03:02<02:33,  5.50s/it]\u001b[A\n",
      " 31%|███       | 12/39 [03:06<02:12,  4.92s/it]\u001b[A"
     ]
    },
    {
     "name": "stdout",
     "output_type": "stream",
     "text": [
      "tipsm_d_totalm_d 0.7941907038397518\n"
     ]
    },
    {
     "name": "stderr",
     "output_type": "stream",
     "text": [
      "\n",
      " 33%|███▎      | 13/39 [03:08<01:50,  4.23s/it]\u001b[A"
     ]
    },
    {
     "name": "stdout",
     "output_type": "stream",
     "text": [
      "tipsm_d_velocity_d_growth_4_to_3 -0.974082000386461\n"
     ]
    },
    {
     "name": "stderr",
     "output_type": "stream",
     "text": [
      "\n",
      " 36%|███▌      | 14/39 [03:12<01:38,  3.94s/it]\u001b[A\n",
      " 38%|███▊      | 15/39 [03:14<01:23,  3.50s/it]\u001b[A"
     ]
    },
    {
     "name": "stdout",
     "output_type": "stream",
     "text": [
      "extrasm_d_velocity_d_growth_2_to_1 -0.8622573029769113\n"
     ]
    },
    {
     "name": "stderr",
     "output_type": "stream",
     "text": [
      "\n",
      " 41%|████      | 16/39 [03:16<01:13,  3.19s/it]\u001b[A"
     ]
    },
    {
     "name": "stdout",
     "output_type": "stream",
     "text": [
      "totalm_d_velocity_d_growth_4_to_3 -0.7836468733486649\n"
     ]
    },
    {
     "name": "stderr",
     "output_type": "stream",
     "text": [
      "\n",
      " 44%|████▎     | 17/39 [03:19<01:03,  2.88s/it]\u001b[A\n",
      " 46%|████▌     | 18/39 [03:21<00:54,  2.59s/it]\u001b[A\n",
      " 49%|████▊     | 19/39 [03:24<00:54,  2.72s/it]\u001b[A\n",
      " 51%|█████▏    | 20/39 [03:25<00:46,  2.43s/it]\u001b[A\n",
      " 54%|█████▍    | 21/39 [03:27<00:41,  2.33s/it]\u001b[A\n",
      " 56%|█████▋    | 22/39 [03:37<01:15,  4.43s/it]\u001b[A\n",
      " 59%|█████▉    | 23/39 [03:41<01:11,  4.45s/it]\u001b[A\n",
      " 62%|██████▏   | 24/39 [03:43<00:52,  3.52s/it]\u001b[A\n",
      " 64%|██████▍   | 25/39 [03:44<00:40,  2.88s/it]\u001b[A\n",
      " 67%|██████▋   | 26/39 [03:45<00:30,  2.35s/it]\u001b[A\n",
      " 69%|██████▉   | 27/39 [03:46<00:23,  1.93s/it]\u001b[A\n",
      " 72%|███████▏  | 28/39 [03:47<00:18,  1.66s/it]\u001b[A\n",
      " 74%|███████▍  | 29/39 [03:48<00:14,  1.47s/it]\u001b[A\n",
      " 77%|███████▋  | 30/39 [03:49<00:11,  1.23s/it]\u001b[A\n",
      " 79%|███████▉  | 31/39 [03:50<00:08,  1.09s/it]\u001b[A\n",
      " 82%|████████▏ | 32/39 [03:50<00:06,  1.01it/s]\u001b[A\n",
      " 85%|████████▍ | 33/39 [03:51<00:05,  1.13it/s]\u001b[A\n",
      " 87%|████████▋ | 34/39 [03:51<00:03,  1.30it/s]\u001b[A\n",
      " 90%|████████▉ | 35/39 [03:52<00:02,  1.49it/s]\u001b[A\n",
      " 92%|█████████▏| 36/39 [03:52<00:01,  1.79it/s]\u001b[A\n",
      "100%|██████████| 39/39 [03:52<00:00,  5.97s/it]\u001b[A\n",
      " 80%|███████▉  | 82/103 [1:48:35<44:16, 126.48s/it]"
     ]
    },
    {
     "name": "stdout",
     "output_type": "stream",
     "text": [
      "Row(ct=12000000034, ca=27)\n"
     ]
    },
    {
     "name": "stderr",
     "output_type": "stream",
     "text": [
      "\n",
      "  0%|          | 0/40 [00:00<?, ?it/s]\u001b[A\n",
      "  2%|▎         | 1/40 [00:08<05:48,  8.94s/it]\u001b[A\n",
      "  5%|▌         | 2/40 [00:25<08:22, 13.22s/it]\u001b[A\n",
      "  8%|▊         | 3/40 [00:32<06:32, 10.60s/it]\u001b[A\n",
      " 10%|█         | 4/40 [00:36<04:52,  8.13s/it]\u001b[A\n",
      " 12%|█▎        | 5/40 [00:41<03:58,  6.82s/it]\u001b[A\n",
      " 15%|█▌        | 6/40 [00:45<03:18,  5.83s/it]\u001b[A\n",
      " 18%|█▊        | 7/40 [00:49<02:53,  5.27s/it]\u001b[A\n",
      " 20%|██        | 8/40 [00:52<02:24,  4.51s/it]\u001b[A\n",
      " 22%|██▎       | 9/40 [00:56<02:13,  4.30s/it]\u001b[A\n",
      " 25%|██▌       | 10/40 [00:59<01:56,  3.87s/it]\u001b[A"
     ]
    },
    {
     "name": "stdout",
     "output_type": "stream",
     "text": [
      "comp5_p_comp5_d 0.8288450837989854\n"
     ]
    },
    {
     "name": "stderr",
     "output_type": "stream",
     "text": [
      "\n",
      " 28%|██▊       | 11/40 [01:02<01:45,  3.65s/it]\u001b[A\n",
      " 30%|███       | 12/40 [01:05<01:35,  3.42s/it]\u001b[A\n",
      " 32%|███▎      | 13/40 [01:08<01:31,  3.41s/it]\u001b[A\n",
      " 35%|███▌      | 14/40 [01:12<01:30,  3.49s/it]\u001b[A\n",
      " 38%|███▊      | 15/40 [01:29<03:11,  7.67s/it]\u001b[A\n",
      " 40%|████      | 16/40 [01:36<02:57,  7.39s/it]\u001b[A\n",
      " 42%|████▎     | 17/40 [01:41<02:32,  6.63s/it]\u001b[A\n",
      " 45%|████▌     | 18/40 [01:54<03:07,  8.54s/it]\u001b[A\n",
      " 48%|████▊     | 19/40 [01:58<02:35,  7.41s/it]\u001b[A\n",
      " 50%|█████     | 20/40 [02:01<01:59,  5.98s/it]\u001b[A\n",
      " 52%|█████▎    | 21/40 [02:03<01:30,  4.77s/it]\u001b[A\n",
      " 55%|█████▌    | 22/40 [02:05<01:09,  3.88s/it]\u001b[A\n",
      " 57%|█████▊    | 23/40 [02:08<01:00,  3.56s/it]\u001b[A\n",
      " 60%|██████    | 24/40 [02:10<00:49,  3.07s/it]\u001b[A\n",
      " 62%|██████▎   | 25/40 [02:11<00:39,  2.62s/it]\u001b[A\n",
      " 65%|██████▌   | 26/40 [02:13<00:31,  2.25s/it]\u001b[A\n",
      " 68%|██████▊   | 27/40 [02:14<00:24,  1.91s/it]\u001b[A\n",
      " 70%|███████   | 28/40 [02:16<00:25,  2.13s/it]\u001b[A\n",
      " 72%|███████▎  | 29/40 [02:17<00:20,  1.82s/it]\u001b[A\n",
      " 75%|███████▌  | 30/40 [02:19<00:18,  1.82s/it]\u001b[A\n",
      " 78%|███████▊  | 31/40 [02:24<00:24,  2.68s/it]\u001b[A\n",
      " 80%|████████  | 32/40 [02:28<00:24,  3.03s/it]\u001b[A\n",
      " 82%|████████▎ | 33/40 [02:32<00:23,  3.36s/it]\u001b[A\n",
      " 85%|████████▌ | 34/40 [02:34<00:17,  2.84s/it]\u001b[A\n",
      " 88%|████████▊ | 35/40 [02:34<00:10,  2.16s/it]\u001b[A\n",
      " 90%|█████████ | 36/40 [02:35<00:06,  1.66s/it]\u001b[A\n",
      " 92%|█████████▎| 37/40 [02:35<00:04,  1.36s/it]\u001b[A\n",
      "100%|██████████| 40/40 [02:36<00:00,  3.90s/it]\u001b[A\n",
      " 81%|████████  | 83/103 [1:51:13<45:19, 135.99s/it]"
     ]
    },
    {
     "name": "stdout",
     "output_type": "stream",
     "text": [
      "Row(ct=12000000042, ca=13)\n"
     ]
    },
    {
     "name": "stderr",
     "output_type": "stream",
     "text": [
      "\n",
      "  0%|          | 0/37 [00:00<?, ?it/s]\u001b[A\n",
      "  3%|▎         | 1/37 [00:10<06:07, 10.21s/it]\u001b[A\n",
      "  5%|▌         | 2/37 [00:21<06:21, 10.91s/it]\u001b[A\n",
      "  8%|▊         | 3/37 [00:32<06:06, 10.78s/it]\u001b[A\n",
      " 11%|█         | 4/37 [00:35<04:17,  7.81s/it]\u001b[A\n",
      " 14%|█▎        | 5/37 [00:38<03:16,  6.13s/it]\u001b[A\n",
      " 16%|█▌        | 6/37 [00:42<02:48,  5.42s/it]\u001b[A\n",
      " 19%|█▉        | 7/37 [00:45<02:20,  4.67s/it]\u001b[A\n",
      " 22%|██▏       | 8/37 [00:48<02:01,  4.18s/it]\u001b[A\n",
      " 24%|██▍       | 9/37 [00:51<01:44,  3.74s/it]\u001b[A\n",
      " 27%|██▋       | 10/37 [00:54<01:30,  3.37s/it]\u001b[A\n",
      " 30%|██▉       | 11/37 [00:56<01:18,  3.02s/it]\u001b[A\n",
      " 32%|███▏      | 12/37 [00:59<01:13,  2.92s/it]\u001b[A\n",
      " 35%|███▌      | 13/37 [01:01<01:05,  2.75s/it]\u001b[A\n",
      " 38%|███▊      | 14/37 [01:03<00:57,  2.52s/it]\u001b[A\n",
      " 41%|████      | 15/37 [01:05<00:51,  2.35s/it]\u001b[A\n",
      " 43%|████▎     | 16/37 [01:07<00:47,  2.25s/it]\u001b[A\n",
      " 46%|████▌     | 17/37 [01:09<00:41,  2.09s/it]\u001b[A\n",
      " 49%|████▊     | 18/37 [01:11<00:38,  2.04s/it]\u001b[A\n",
      " 51%|█████▏    | 19/37 [01:13<00:37,  2.09s/it]\u001b[A\n",
      " 54%|█████▍    | 20/37 [01:14<00:32,  1.94s/it]\u001b[A\n",
      " 57%|█████▋    | 21/37 [01:16<00:28,  1.78s/it]\u001b[A\n",
      " 59%|█████▉    | 22/37 [01:17<00:25,  1.73s/it]\u001b[A\n",
      " 62%|██████▏   | 23/37 [01:20<00:25,  1.85s/it]\u001b[A\n",
      " 65%|██████▍   | 24/37 [01:21<00:21,  1.67s/it]\u001b[A\n",
      " 68%|██████▊   | 25/37 [01:22<00:17,  1.50s/it]\u001b[A\n",
      " 70%|███████   | 26/37 [01:23<00:15,  1.40s/it]\u001b[A"
     ]
    },
    {
     "name": "stdout",
     "output_type": "stream",
     "text": [
      "trips_d_growth_1_to_0_velocity_d_growth_1_to_0 0.6943937321988426\n"
     ]
    },
    {
     "name": "stderr",
     "output_type": "stream",
     "text": [
      "\n",
      " 73%|███████▎  | 27/37 [01:24<00:12,  1.22s/it]\u001b[A\n",
      " 76%|███████▌  | 28/37 [01:25<00:09,  1.09s/it]\u001b[A\n",
      " 78%|███████▊  | 29/37 [01:25<00:07,  1.05it/s]\u001b[A\n",
      " 81%|████████  | 30/37 [01:26<00:06,  1.15it/s]\u001b[A\n",
      " 84%|████████▍ | 31/37 [01:27<00:04,  1.27it/s]\u001b[A\n",
      " 86%|████████▋ | 32/37 [01:27<00:03,  1.41it/s]\u001b[A\n",
      " 89%|████████▉ | 33/37 [01:28<00:02,  1.63it/s]\u001b[A\n",
      " 92%|█████████▏| 34/37 [01:28<00:01,  1.97it/s]\u001b[A\n",
      " 95%|█████████▍| 35/37 [01:28<00:00,  2.18it/s]\u001b[A\n",
      "100%|██████████| 37/37 [01:28<00:00,  2.40s/it]\u001b[A\n",
      " 82%|████████▏ | 84/103 [1:52:44<38:47, 122.52s/it]"
     ]
    },
    {
     "name": "stdout",
     "output_type": "stream",
     "text": [
      "Row(ct=12000000028, ca=40)\n"
     ]
    },
    {
     "name": "stderr",
     "output_type": "stream",
     "text": [
      "\n",
      "  0%|          | 0/41 [00:00<?, ?it/s]\u001b[A\n",
      "  2%|▏         | 1/41 [00:06<04:35,  6.88s/it]\u001b[A\n",
      "  5%|▍         | 2/41 [00:10<03:07,  4.82s/it]\u001b[A\n",
      "  7%|▋         | 3/41 [00:13<02:42,  4.29s/it]\u001b[A\n",
      " 10%|▉         | 4/41 [00:18<02:36,  4.24s/it]\u001b[A\n",
      " 12%|█▏        | 5/41 [00:34<05:16,  8.79s/it]\u001b[A\n",
      " 15%|█▍        | 6/41 [00:38<04:02,  6.93s/it]\u001b[A\n",
      " 17%|█▋        | 7/41 [00:41<03:11,  5.65s/it]\u001b[A\n",
      " 20%|█▉        | 8/41 [00:44<02:38,  4.80s/it]\u001b[A\n",
      " 22%|██▏       | 9/41 [00:47<02:13,  4.16s/it]\u001b[A\n",
      " 24%|██▍       | 10/41 [00:50<01:58,  3.81s/it]\u001b[A\n",
      " 27%|██▋       | 11/41 [00:52<01:43,  3.46s/it]\u001b[A\n",
      " 29%|██▉       | 12/41 [00:55<01:33,  3.21s/it]\u001b[A"
     ]
    },
    {
     "name": "stdout",
     "output_type": "stream",
     "text": [
      "miles_d_velocity_d 0.6619919931758604\n"
     ]
    },
    {
     "name": "stderr",
     "output_type": "stream",
     "text": [
      "\n",
      " 32%|███▏      | 13/41 [00:58<01:28,  3.14s/it]\u001b[A\n",
      " 34%|███▍      | 14/41 [01:00<01:17,  2.88s/it]\u001b[A"
     ]
    },
    {
     "name": "stdout",
     "output_type": "stream",
     "text": [
      "tipsm_d_extrasm_d 0.8899023168754403\n"
     ]
    },
    {
     "name": "stderr",
     "output_type": "stream",
     "text": [
      "\n",
      " 37%|███▋      | 15/41 [01:03<01:12,  2.78s/it]\u001b[A\n",
      " 39%|███▉      | 16/41 [01:05<01:04,  2.59s/it]\u001b[A\n",
      " 41%|████▏     | 17/41 [01:07<01:00,  2.53s/it]\u001b[A"
     ]
    },
    {
     "name": "stdout",
     "output_type": "stream",
     "text": [
      "totalm_d_velocity_p_growth_4_to_3 -0.7003907627239303\n",
      "totalm_d_velocity_d_growth_2_to_1 -0.7364036019900084\n"
     ]
    },
    {
     "name": "stderr",
     "output_type": "stream",
     "text": [
      "\n",
      " 44%|████▍     | 18/41 [01:10<00:56,  2.47s/it]\u001b[A\n",
      " 46%|████▋     | 19/41 [01:12<00:52,  2.37s/it]\u001b[A\n",
      " 49%|████▉     | 20/41 [01:13<00:46,  2.20s/it]\u001b[A\n",
      " 51%|█████     | 21/41 [01:16<00:43,  2.16s/it]\u001b[A\n",
      " 54%|█████▎    | 22/41 [01:17<00:38,  2.02s/it]\u001b[A\n",
      " 56%|█████▌    | 23/41 [01:19<00:35,  1.98s/it]\u001b[A\n",
      " 59%|█████▊    | 24/41 [01:21<00:35,  2.10s/it]\u001b[A\n",
      " 61%|██████    | 25/41 [01:23<00:30,  1.93s/it]\u001b[A\n",
      " 63%|██████▎   | 26/41 [01:24<00:26,  1.76s/it]\u001b[A\n",
      " 66%|██████▌   | 27/41 [01:25<00:21,  1.55s/it]\u001b[A\n",
      " 68%|██████▊   | 28/41 [01:27<00:19,  1.49s/it]\u001b[A\n",
      " 71%|███████   | 29/41 [01:28<00:17,  1.46s/it]\u001b[A\n",
      " 73%|███████▎  | 30/41 [01:29<00:14,  1.30s/it]\u001b[A\n",
      " 76%|███████▌  | 31/41 [01:30<00:12,  1.20s/it]\u001b[A\n",
      " 78%|███████▊  | 32/41 [01:31<00:09,  1.07s/it]\u001b[A\n",
      " 80%|████████  | 33/41 [01:32<00:07,  1.05it/s]\u001b[A\n",
      " 83%|████████▎ | 34/41 [01:32<00:06,  1.16it/s]\u001b[A\n",
      " 85%|████████▌ | 35/41 [01:33<00:04,  1.33it/s]\u001b[A\n",
      " 88%|████████▊ | 36/41 [01:33<00:03,  1.51it/s]\u001b[A"
     ]
    },
    {
     "name": "stdout",
     "output_type": "stream",
     "text": [
      "velocity_p_growth_4_to_3_velocity_d_growth_2_to_1 0.9254377415252175\n"
     ]
    },
    {
     "name": "stderr",
     "output_type": "stream",
     "text": [
      "\n",
      " 90%|█████████ | 37/41 [01:34<00:02,  1.69it/s]\u001b[A\n",
      " 93%|█████████▎| 38/41 [01:34<00:01,  1.82it/s]\u001b[A\n",
      " 95%|█████████▌| 39/41 [01:34<00:00,  2.30it/s]\u001b[A\n",
      "100%|██████████| 41/41 [01:34<00:00,  2.31s/it]\u001b[A\n",
      " 83%|████████▎ | 85/103 [1:54:20<34:22, 114.58s/it]"
     ]
    },
    {
     "name": "stdout",
     "output_type": "stream",
     "text": [
      "Row(ct=12000000004, ca=65)\n"
     ]
    },
    {
     "name": "stderr",
     "output_type": "stream",
     "text": [
      "\n",
      "  0%|          | 0/36 [00:00<?, ?it/s]\u001b[A\n",
      "  3%|▎         | 1/36 [00:11<06:55, 11.86s/it]\u001b[A\n",
      "  6%|▌         | 2/36 [00:26<07:39, 13.51s/it]\u001b[A"
     ]
    },
    {
     "name": "stdout",
     "output_type": "stream",
     "text": [
      "tipsm_p_totalm_p 0.9760063014898185\n"
     ]
    },
    {
     "name": "stderr",
     "output_type": "stream",
     "text": [
      "\n",
      "  8%|▊         | 3/36 [00:30<05:01,  9.12s/it]\u001b[A\n",
      " 11%|█         | 4/36 [00:33<03:40,  6.90s/it]\u001b[A\n",
      " 14%|█▍        | 5/36 [00:38<03:10,  6.14s/it]\u001b[A\n",
      " 17%|█▋        | 6/36 [00:43<02:55,  5.84s/it]\u001b[A\n",
      " 19%|█▉        | 7/36 [00:47<02:25,  5.01s/it]\u001b[A\n",
      " 22%|██▏       | 8/36 [00:54<02:39,  5.70s/it]\u001b[A\n",
      " 25%|██▌       | 9/36 [00:58<02:16,  5.05s/it]\u001b[A\n",
      " 28%|██▊       | 10/36 [01:01<02:01,  4.67s/it]\u001b[A\n",
      " 31%|███       | 11/36 [01:05<01:45,  4.23s/it]\u001b[A\n",
      " 33%|███▎      | 12/36 [01:07<01:26,  3.61s/it]\u001b[A\n",
      " 36%|███▌      | 13/36 [01:09<01:13,  3.18s/it]\u001b[A\n",
      " 39%|███▉      | 14/36 [01:11<01:02,  2.82s/it]\u001b[A\n",
      " 42%|████▏     | 15/36 [01:13<00:54,  2.61s/it]\u001b[A\n",
      " 44%|████▍     | 16/36 [01:15<00:49,  2.49s/it]\u001b[A\n",
      " 47%|████▋     | 17/36 [01:17<00:43,  2.27s/it]\u001b[A\n",
      " 50%|█████     | 18/36 [01:19<00:36,  2.04s/it]\u001b[A\n",
      " 53%|█████▎    | 19/36 [01:20<00:32,  1.91s/it]\u001b[A\n",
      " 56%|█████▌    | 20/36 [01:22<00:29,  1.84s/it]\u001b[A\n",
      " 58%|█████▊    | 21/36 [01:23<00:24,  1.65s/it]\u001b[A\n",
      " 61%|██████    | 22/36 [01:24<00:21,  1.54s/it]\u001b[A\n",
      " 64%|██████▍   | 23/36 [01:25<00:18,  1.41s/it]\u001b[A\n",
      " 67%|██████▋   | 24/36 [01:26<00:15,  1.29s/it]\u001b[A\n",
      " 69%|██████▉   | 25/36 [01:28<00:13,  1.24s/it]\u001b[A\n",
      " 72%|███████▏  | 26/36 [01:28<00:11,  1.10s/it]\u001b[A\n",
      " 75%|███████▌  | 27/36 [01:29<00:09,  1.02s/it]\u001b[A"
     ]
    },
    {
     "name": "stdout",
     "output_type": "stream",
     "text": [
      "trips_d_growth_3_to_2_velocity_d_growth_3_to_2 0.9529038903578236\n"
     ]
    },
    {
     "name": "stderr",
     "output_type": "stream",
     "text": [
      "\n",
      " 78%|███████▊  | 28/36 [01:30<00:07,  1.13it/s]\u001b[A\n",
      " 81%|████████  | 29/36 [01:30<00:05,  1.27it/s]\u001b[A\n",
      " 83%|████████▎ | 30/36 [01:31<00:04,  1.27it/s]\u001b[A\n",
      " 86%|████████▌ | 31/36 [01:32<00:03,  1.44it/s]\u001b[A\n",
      " 89%|████████▉ | 32/36 [01:32<00:02,  1.72it/s]\u001b[A\n",
      " 92%|█████████▏| 33/36 [01:32<00:01,  2.03it/s]\u001b[A\n",
      " 94%|█████████▍| 34/36 [01:32<00:00,  2.55it/s]\u001b[A\n",
      "100%|██████████| 36/36 [01:33<00:00,  2.58s/it]\u001b[A\n",
      " 83%|████████▎ | 86/103 [1:55:55<30:45, 108.57s/it]"
     ]
    },
    {
     "name": "stdout",
     "output_type": "stream",
     "text": [
      "Row(ct=12000000007, ca=39)\n"
     ]
    },
    {
     "name": "stderr",
     "output_type": "stream",
     "text": [
      "\n",
      "  0%|          | 0/40 [00:00<?, ?it/s]\u001b[A\n",
      "  2%|▎         | 1/40 [00:12<08:11, 12.59s/it]\u001b[A\n",
      "  5%|▌         | 2/40 [00:15<04:29,  7.10s/it]\u001b[A\n",
      "  8%|▊         | 3/40 [00:19<03:22,  5.47s/it]\u001b[A\n",
      " 10%|█         | 4/40 [00:22<02:42,  4.52s/it]\u001b[A\n",
      " 12%|█▎        | 5/40 [00:25<02:20,  4.02s/it]\u001b[A\n",
      " 15%|█▌        | 6/40 [00:28<02:08,  3.77s/it]\u001b[A\n",
      " 18%|█▊        | 7/40 [00:33<02:11,  3.97s/it]\u001b[A\n",
      " 20%|██        | 8/40 [00:36<01:57,  3.67s/it]\u001b[A\n",
      " 22%|██▎       | 9/40 [00:39<01:49,  3.55s/it]\u001b[A\n",
      " 25%|██▌       | 10/40 [00:42<01:39,  3.30s/it]\u001b[A\n",
      " 28%|██▊       | 11/40 [00:44<01:29,  3.08s/it]\u001b[A\n",
      " 30%|███       | 12/40 [00:47<01:20,  2.89s/it]\u001b[A\n",
      " 32%|███▎      | 13/40 [00:50<01:20,  2.99s/it]\u001b[A"
     ]
    },
    {
     "name": "stdout",
     "output_type": "stream",
     "text": [
      "tipsm_d_extrasm_d 0.9292029556103586\n",
      "tipsm_d_totalm_d 0.7873323480747173\n"
     ]
    },
    {
     "name": "stderr",
     "output_type": "stream",
     "text": [
      "\n",
      " 35%|███▌      | 14/40 [00:52<01:11,  2.75s/it]\u001b[A\n",
      " 38%|███▊      | 15/40 [00:54<01:04,  2.57s/it]\u001b[A"
     ]
    },
    {
     "name": "stdout",
     "output_type": "stream",
     "text": [
      "extrasm_d_totalm_d 0.7741222881680683\n"
     ]
    },
    {
     "name": "stderr",
     "output_type": "stream",
     "text": [
      "\n",
      " 40%|████      | 16/40 [00:57<00:59,  2.50s/it]\u001b[A\n",
      " 42%|████▎     | 17/40 [00:59<00:54,  2.36s/it]\u001b[A\n",
      " 45%|████▌     | 18/40 [01:01<00:49,  2.25s/it]\u001b[A\n",
      " 48%|████▊     | 19/40 [01:03<00:45,  2.17s/it]\u001b[A\n",
      " 50%|█████     | 20/40 [01:05<00:41,  2.06s/it]\u001b[A\n",
      " 52%|█████▎    | 21/40 [01:07<00:41,  2.16s/it]\u001b[A\n",
      " 55%|█████▌    | 22/40 [01:10<00:42,  2.35s/it]\u001b[A\n",
      " 57%|█████▊    | 23/40 [01:11<00:36,  2.16s/it]\u001b[A\n",
      " 60%|██████    | 24/40 [01:13<00:31,  1.99s/it]\u001b[A\n",
      " 62%|██████▎   | 25/40 [01:14<00:27,  1.81s/it]\u001b[A\n",
      " 65%|██████▌   | 26/40 [01:16<00:22,  1.63s/it]\u001b[A\n",
      " 68%|██████▊   | 27/40 [01:17<00:19,  1.51s/it]\u001b[A\n",
      " 70%|███████   | 28/40 [01:18<00:16,  1.40s/it]\u001b[A\n",
      " 72%|███████▎  | 29/40 [01:19<00:13,  1.27s/it]\u001b[A\n",
      " 75%|███████▌  | 30/40 [01:20<00:11,  1.19s/it]\u001b[A\n",
      " 78%|███████▊  | 31/40 [01:21<00:09,  1.11s/it]\u001b[A\n",
      " 80%|████████  | 32/40 [01:22<00:08,  1.00s/it]\u001b[A\n",
      " 82%|████████▎ | 33/40 [01:22<00:06,  1.12it/s]\u001b[A\n",
      " 85%|████████▌ | 34/40 [01:23<00:04,  1.30it/s]\u001b[A\n",
      " 88%|████████▊ | 35/40 [01:23<00:03,  1.48it/s]\u001b[A\n",
      " 90%|█████████ | 36/40 [01:24<00:02,  1.77it/s]\u001b[A\n",
      " 92%|█████████▎| 37/40 [01:24<00:01,  2.11it/s]\u001b[A\n",
      " 95%|█████████▌| 38/40 [01:24<00:00,  2.54it/s]\u001b[A\n",
      "100%|██████████| 40/40 [01:24<00:00,  2.12s/it]\u001b[A\n",
      " 84%|████████▍ | 87/103 [1:57:21<27:08, 101.76s/it]"
     ]
    },
    {
     "name": "stdout",
     "output_type": "stream",
     "text": [
      "Row(ct=12000000030, ca=30)\n"
     ]
    },
    {
     "name": "stderr",
     "output_type": "stream",
     "text": [
      "\n",
      "  0%|          | 0/35 [00:00<?, ?it/s]\u001b[A\n",
      "  3%|▎         | 1/35 [00:03<02:08,  3.78s/it]\u001b[A\n",
      "  6%|▌         | 2/35 [00:06<01:47,  3.26s/it]\u001b[A\n",
      "  9%|▊         | 3/35 [00:09<01:41,  3.16s/it]\u001b[A\n",
      " 11%|█▏        | 4/35 [00:12<01:35,  3.07s/it]\u001b[A\n",
      " 14%|█▍        | 5/35 [00:15<01:33,  3.13s/it]\u001b[A\n",
      " 17%|█▋        | 6/35 [00:18<01:25,  2.96s/it]\u001b[A\n",
      " 20%|██        | 7/35 [00:21<01:21,  2.90s/it]\u001b[A\n",
      " 23%|██▎       | 8/35 [00:23<01:15,  2.81s/it]\u001b[A\n",
      " 26%|██▌       | 9/35 [00:26<01:11,  2.75s/it]\u001b[A\n",
      " 29%|██▊       | 10/35 [00:28<01:05,  2.63s/it]\u001b[A\n",
      " 31%|███▏      | 11/35 [00:30<00:59,  2.47s/it]\u001b[A\n",
      " 34%|███▍      | 12/35 [00:33<00:58,  2.54s/it]\u001b[A\n",
      " 37%|███▋      | 13/35 [00:35<00:53,  2.43s/it]\u001b[A"
     ]
    },
    {
     "name": "stdout",
     "output_type": "stream",
     "text": [
      "extrasm_d_velocity_d_growth_3_to_2 -0.6875866293801547\n"
     ]
    },
    {
     "name": "stderr",
     "output_type": "stream",
     "text": [
      "\n",
      " 40%|████      | 14/35 [00:46<01:41,  4.85s/it]\u001b[A\n",
      " 43%|████▎     | 15/35 [01:01<02:38,  7.91s/it]\u001b[A\n",
      " 46%|████▌     | 16/35 [01:04<02:00,  6.35s/it]\u001b[A\n",
      " 49%|████▊     | 17/35 [01:06<01:31,  5.10s/it]\u001b[A\n",
      " 51%|█████▏    | 18/35 [01:07<01:09,  4.07s/it]\u001b[A\n",
      " 54%|█████▍    | 19/35 [01:09<00:53,  3.32s/it]\u001b[A\n",
      " 57%|█████▋    | 20/35 [01:11<00:42,  2.83s/it]\u001b[A\n",
      " 60%|██████    | 21/35 [01:12<00:33,  2.38s/it]\u001b[A\n",
      " 63%|██████▎   | 22/35 [01:14<00:28,  2.22s/it]\u001b[A\n",
      " 66%|██████▌   | 23/35 [01:15<00:23,  1.93s/it]\u001b[A\n",
      " 69%|██████▊   | 24/35 [01:16<00:18,  1.68s/it]\u001b[A\n",
      " 71%|███████▏  | 25/35 [01:17<00:14,  1.48s/it]\u001b[A\n",
      " 74%|███████▍  | 26/35 [01:18<00:11,  1.27s/it]\u001b[A\n",
      " 77%|███████▋  | 27/35 [01:19<00:08,  1.09s/it]\u001b[A"
     ]
    },
    {
     "name": "stdout",
     "output_type": "stream",
     "text": [
      "trips_d_growth_4_to_3_velocity_d_growth_4_to_3 0.8657942769804523\n"
     ]
    },
    {
     "name": "stderr",
     "output_type": "stream",
     "text": [
      "\n",
      " 80%|████████  | 28/35 [01:19<00:06,  1.07it/s]\u001b[A\n",
      " 83%|████████▎ | 29/35 [01:20<00:05,  1.19it/s]\u001b[A\n",
      " 86%|████████▌ | 30/35 [01:20<00:03,  1.39it/s]\u001b[A\n",
      " 89%|████████▊ | 31/35 [01:21<00:02,  1.58it/s]\u001b[A\n",
      " 91%|█████████▏| 32/35 [01:21<00:01,  1.97it/s]\u001b[A\n",
      " 94%|█████████▍| 33/35 [01:21<00:00,  2.43it/s]\u001b[A\n",
      "100%|██████████| 35/35 [01:21<00:00,  2.34s/it]\u001b[A\n",
      " 85%|████████▌ | 88/103 [1:58:43<23:58, 95.91s/it] "
     ]
    },
    {
     "name": "stdout",
     "output_type": "stream",
     "text": [
      "Row(ct=12000000008, ca=58)\n"
     ]
    },
    {
     "name": "stderr",
     "output_type": "stream",
     "text": [
      "\n",
      "  0%|          | 0/36 [00:00<?, ?it/s]\u001b[A\n",
      "  3%|▎         | 1/36 [00:04<02:45,  4.72s/it]\u001b[A\n",
      "  6%|▌         | 2/36 [00:08<02:15,  3.97s/it]\u001b[A\n",
      "  8%|▊         | 3/36 [00:11<01:59,  3.63s/it]\u001b[A\n",
      " 11%|█         | 4/36 [00:14<01:50,  3.45s/it]\u001b[A\n",
      " 14%|█▍        | 5/36 [00:17<01:38,  3.19s/it]\u001b[A\n",
      " 17%|█▋        | 6/36 [00:29<03:08,  6.29s/it]\u001b[A\n",
      " 19%|█▉        | 7/36 [00:35<03:01,  6.27s/it]\u001b[A\n",
      " 22%|██▏       | 8/36 [00:38<02:26,  5.22s/it]\u001b[A\n",
      " 25%|██▌       | 9/36 [00:41<02:02,  4.53s/it]\u001b[A\n",
      " 28%|██▊       | 10/36 [00:45<01:53,  4.35s/it]\u001b[A\n",
      " 31%|███       | 11/36 [00:48<01:34,  3.79s/it]\u001b[A"
     ]
    },
    {
     "name": "stdout",
     "output_type": "stream",
     "text": [
      "miles_d_velocity_d 0.8010575696404839\n"
     ]
    },
    {
     "name": "stderr",
     "output_type": "stream",
     "text": [
      "\n",
      " 33%|███▎      | 12/36 [00:51<01:23,  3.47s/it]\u001b[A\n",
      " 36%|███▌      | 13/36 [00:53<01:10,  3.08s/it]\u001b[A\n",
      " 39%|███▉      | 14/36 [00:55<01:01,  2.79s/it]\u001b[A\n",
      " 42%|████▏     | 15/36 [00:57<00:53,  2.55s/it]\u001b[A\n",
      " 44%|████▍     | 16/36 [00:59<00:46,  2.32s/it]\u001b[A\n",
      " 47%|████▋     | 17/36 [01:00<00:40,  2.15s/it]\u001b[A\n",
      " 50%|█████     | 18/36 [01:03<00:39,  2.19s/it]\u001b[A\n",
      " 53%|█████▎    | 19/36 [01:04<00:34,  2.02s/it]\u001b[A\n",
      " 56%|█████▌    | 20/36 [01:06<00:29,  1.86s/it]\u001b[A\n",
      " 58%|█████▊    | 21/36 [01:07<00:25,  1.69s/it]\u001b[A\n",
      " 61%|██████    | 22/36 [01:08<00:22,  1.59s/it]\u001b[A\n",
      " 64%|██████▍   | 23/36 [01:10<00:20,  1.58s/it]\u001b[A\n",
      " 67%|██████▋   | 24/36 [01:11<00:17,  1.43s/it]\u001b[A\n",
      " 69%|██████▉   | 25/36 [01:12<00:14,  1.35s/it]\u001b[A\n",
      " 72%|███████▏  | 26/36 [01:13<00:12,  1.22s/it]\u001b[A"
     ]
    },
    {
     "name": "stdout",
     "output_type": "stream",
     "text": [
      "trips_d_growth_1_to_0_velocity_d_growth_1_to_0 0.9235365144549632\n"
     ]
    },
    {
     "name": "stderr",
     "output_type": "stream",
     "text": [
      "\n",
      " 75%|███████▌  | 27/36 [01:14<00:09,  1.08s/it]\u001b[A"
     ]
    },
    {
     "name": "stdout",
     "output_type": "stream",
     "text": [
      "trips_d_growth_2_to_1_velocity_d_growth_2_to_1 0.8792876814380538\n"
     ]
    },
    {
     "name": "stderr",
     "output_type": "stream",
     "text": [
      "\n",
      " 78%|███████▊  | 28/36 [01:15<00:08,  1.01s/it]\u001b[A\n",
      " 81%|████████  | 29/36 [01:16<00:07,  1.03s/it]\u001b[A\n",
      " 83%|████████▎ | 30/36 [01:16<00:05,  1.13it/s]\u001b[A\n",
      " 86%|████████▌ | 31/36 [01:17<00:04,  1.22it/s]\u001b[A\n",
      " 89%|████████▉ | 32/36 [01:17<00:02,  1.43it/s]\u001b[A\n",
      " 92%|█████████▏| 33/36 [01:18<00:01,  1.63it/s]\u001b[A\n",
      " 94%|█████████▍| 34/36 [01:18<00:00,  2.01it/s]\u001b[A\n",
      "100%|██████████| 36/36 [01:18<00:00,  2.19s/it]\u001b[A\n",
      " 86%|████████▋ | 89/103 [2:00:02<21:13, 90.99s/it]"
     ]
    },
    {
     "name": "stdout",
     "output_type": "stream",
     "text": [
      "Row(ct=17031081100, ca=8)\n"
     ]
    },
    {
     "name": "stderr",
     "output_type": "stream",
     "text": [
      "\n",
      "  0%|          | 0/35 [00:00<?, ?it/s]\u001b[A\n",
      "  3%|▎         | 1/35 [00:06<03:43,  6.57s/it]\u001b[A"
     ]
    },
    {
     "name": "stdout",
     "output_type": "stream",
     "text": [
      "miles_p_velocity_p 0.7107441230372615\n"
     ]
    },
    {
     "name": "stderr",
     "output_type": "stream",
     "text": [
      "\n",
      "  6%|▌         | 2/35 [00:11<03:06,  5.64s/it]\u001b[A\n",
      "  9%|▊         | 3/35 [00:22<04:11,  7.87s/it]\u001b[A\n",
      " 11%|█▏        | 4/35 [00:26<03:24,  6.59s/it]\u001b[A\n",
      " 14%|█▍        | 5/35 [00:30<02:52,  5.74s/it]\u001b[A\n",
      " 17%|█▋        | 6/35 [00:34<02:26,  5.05s/it]\u001b[A\n",
      " 20%|██        | 7/35 [00:37<02:00,  4.32s/it]\u001b[A\n",
      " 23%|██▎       | 8/35 [00:40<01:41,  3.77s/it]\u001b[A\n",
      " 26%|██▌       | 9/35 [00:42<01:26,  3.34s/it]\u001b[A\n",
      " 29%|██▊       | 10/35 [00:44<01:15,  3.03s/it]\u001b[A\n",
      " 31%|███▏      | 11/35 [00:47<01:09,  2.89s/it]\u001b[A\n",
      " 34%|███▍      | 12/35 [00:49<01:01,  2.68s/it]\u001b[A\n",
      " 37%|███▋      | 13/35 [00:51<00:55,  2.54s/it]\u001b[A\n",
      " 40%|████      | 14/35 [00:53<00:49,  2.37s/it]\u001b[A\n",
      " 43%|████▎     | 15/35 [00:55<00:43,  2.18s/it]\u001b[A\n",
      " 46%|████▌     | 16/35 [00:57<00:39,  2.06s/it]\u001b[A\n",
      " 49%|████▊     | 17/35 [00:58<00:34,  1.94s/it]\u001b[A\n",
      " 51%|█████▏    | 18/35 [01:00<00:31,  1.84s/it]\u001b[A\n",
      " 54%|█████▍    | 19/35 [01:03<00:33,  2.12s/it]\u001b[A\n",
      " 57%|█████▋    | 20/35 [01:06<00:36,  2.46s/it]\u001b[A\n",
      " 60%|██████    | 21/35 [01:07<00:28,  2.07s/it]\u001b[A\n",
      " 63%|██████▎   | 22/35 [01:09<00:25,  1.95s/it]\u001b[A\n",
      " 66%|██████▌   | 23/35 [01:10<00:21,  1.83s/it]\u001b[A\n",
      " 69%|██████▊   | 24/35 [01:11<00:17,  1.58s/it]\u001b[A\n",
      " 71%|███████▏  | 25/35 [01:13<00:14,  1.43s/it]\u001b[A\n",
      " 74%|███████▍  | 26/35 [01:14<00:12,  1.34s/it]\u001b[A\n",
      " 77%|███████▋  | 27/35 [01:14<00:09,  1.15s/it]\u001b[A\n",
      " 80%|████████  | 28/35 [01:15<00:07,  1.07s/it]\u001b[A\n",
      " 83%|████████▎ | 29/35 [01:16<00:05,  1.13it/s]\u001b[A\n",
      " 86%|████████▌ | 30/35 [01:16<00:03,  1.32it/s]\u001b[A\n",
      " 89%|████████▊ | 31/35 [01:17<00:02,  1.55it/s]\u001b[A\n",
      " 91%|█████████▏| 32/35 [01:17<00:01,  1.76it/s]\u001b[A\n",
      " 94%|█████████▍| 33/35 [01:17<00:00,  2.13it/s]\u001b[A\n",
      "100%|██████████| 35/35 [01:17<00:00,  2.22s/it]\u001b[A\n",
      " 87%|████████▋ | 90/103 [2:01:21<18:55, 87.31s/it]"
     ]
    },
    {
     "name": "stdout",
     "output_type": "stream",
     "text": [
      "Row(ct=12000000025, ca=2)\n"
     ]
    },
    {
     "name": "stderr",
     "output_type": "stream",
     "text": [
      "\n",
      "  0%|          | 0/42 [00:00<?, ?it/s]\u001b[A\n",
      "  2%|▏         | 1/42 [00:06<04:29,  6.57s/it]\u001b[A\n",
      "  5%|▍         | 2/42 [00:23<08:24, 12.60s/it]\u001b[A\n",
      "  7%|▋         | 3/42 [00:27<05:45,  8.87s/it]\u001b[A\n",
      " 10%|▉         | 4/42 [00:31<04:15,  6.73s/it]\u001b[A\n",
      " 12%|█▏        | 5/42 [00:36<03:54,  6.33s/it]\u001b[A"
     ]
    },
    {
     "name": "stdout",
     "output_type": "stream",
     "text": [
      "extrasm_p_totalm_p 0.9768755129264832\n",
      "extrasm_p_velocity_p_growth_3_to_2 -0.7401405728150365\n"
     ]
    },
    {
     "name": "stderr",
     "output_type": "stream",
     "text": [
      "\n",
      " 14%|█▍        | 6/42 [00:47<04:35,  7.65s/it]\u001b[A"
     ]
    },
    {
     "name": "stdout",
     "output_type": "stream",
     "text": [
      "totalm_p_velocity_p_growth_3_to_2 -0.7685004840893029\n"
     ]
    },
    {
     "name": "stderr",
     "output_type": "stream",
     "text": [
      "\n",
      " 17%|█▋        | 7/42 [00:55<04:31,  7.75s/it]\u001b[A\n",
      " 19%|█▉        | 8/42 [00:59<03:47,  6.69s/it]\u001b[A\n",
      " 21%|██▏       | 9/42 [01:07<03:48,  6.91s/it]\u001b[A\n",
      " 24%|██▍       | 10/42 [01:11<03:20,  6.25s/it]\u001b[A\n",
      " 26%|██▌       | 11/42 [01:17<03:07,  6.05s/it]\u001b[A\n",
      " 29%|██▊       | 12/42 [01:24<03:11,  6.39s/it]\u001b[A\n",
      " 31%|███       | 13/42 [01:33<03:26,  7.12s/it]\u001b[A"
     ]
    },
    {
     "name": "stdout",
     "output_type": "stream",
     "text": [
      "miles_d_compless5_d 0.6644748161763123\n"
     ]
    },
    {
     "name": "stderr",
     "output_type": "stream",
     "text": [
      "\n",
      " 33%|███▎      | 14/42 [02:00<06:08, 13.16s/it]\u001b[A\n",
      " 36%|███▌      | 15/42 [02:15<06:08, 13.64s/it]\u001b[A\n",
      " 38%|███▊      | 16/42 [02:20<04:46, 11.04s/it]\u001b[A\n",
      " 40%|████      | 17/42 [02:23<03:38,  8.73s/it]\u001b[A\n",
      " 43%|████▎     | 18/42 [02:26<02:49,  7.08s/it]\u001b[A\n",
      " 45%|████▌     | 19/42 [02:30<02:21,  6.16s/it]\u001b[A\n",
      " 48%|████▊     | 20/42 [02:33<01:54,  5.21s/it]\u001b[A\n",
      " 50%|█████     | 21/42 [02:36<01:33,  4.47s/it]\u001b[A\n",
      " 52%|█████▏    | 22/42 [02:39<01:21,  4.09s/it]\u001b[A\n",
      " 55%|█████▍    | 23/42 [02:41<01:06,  3.52s/it]\u001b[A\n",
      " 57%|█████▋    | 24/42 [02:43<00:55,  3.09s/it]\u001b[A\n",
      " 60%|█████▉    | 25/42 [02:45<00:45,  2.69s/it]\u001b[A\n",
      " 62%|██████▏   | 26/42 [02:47<00:39,  2.44s/it]\u001b[A\n",
      " 64%|██████▍   | 27/42 [02:49<00:32,  2.16s/it]\u001b[A\n",
      " 67%|██████▋   | 28/42 [02:51<00:30,  2.15s/it]\u001b[A\n",
      " 69%|██████▉   | 29/42 [02:53<00:28,  2.16s/it]\u001b[A\n",
      " 71%|███████▏  | 30/42 [02:55<00:27,  2.27s/it]\u001b[A\n",
      " 74%|███████▍  | 31/42 [02:57<00:22,  2.09s/it]\u001b[A\n",
      " 76%|███████▌  | 32/42 [02:58<00:18,  1.84s/it]\u001b[A\n",
      " 79%|███████▊  | 33/42 [03:01<00:18,  2.07s/it]\u001b[A\n",
      " 81%|████████  | 34/42 [03:02<00:14,  1.82s/it]\u001b[A\n",
      " 83%|████████▎ | 35/42 [03:03<00:10,  1.54s/it]\u001b[A\n",
      " 86%|████████▌ | 36/42 [03:04<00:07,  1.27s/it]\u001b[A\n",
      " 88%|████████▊ | 37/42 [03:04<00:05,  1.00s/it]\u001b[A\n",
      " 90%|█████████ | 38/42 [03:04<00:03,  1.24it/s]\u001b[A\n",
      " 93%|█████████▎| 39/42 [03:05<00:01,  1.53it/s]\u001b[A\n",
      " 95%|█████████▌| 40/42 [03:05<00:01,  1.87it/s]\u001b[A\n",
      "100%|██████████| 42/42 [03:05<00:00,  4.42s/it]\u001b[A\n",
      " 88%|████████▊ | 91/103 [2:04:27<23:24, 117.03s/it]"
     ]
    },
    {
     "name": "stdout",
     "output_type": "stream",
     "text": [
      "Row(ct=17031340400, ca=74)\n"
     ]
    },
    {
     "name": "stderr",
     "output_type": "stream",
     "text": [
      "\n",
      "  0%|          | 0/36 [00:00<?, ?it/s]\u001b[A\n",
      "  3%|▎         | 1/36 [00:10<06:09, 10.55s/it]\u001b[A\n",
      "  6%|▌         | 2/36 [00:14<03:39,  6.46s/it]\u001b[A\n",
      "  8%|▊         | 3/36 [00:17<02:45,  5.02s/it]\u001b[A\n",
      " 11%|█         | 4/36 [00:20<02:15,  4.22s/it]\u001b[A\n",
      " 14%|█▍        | 5/36 [00:23<01:57,  3.78s/it]\u001b[A\n",
      " 17%|█▋        | 6/36 [00:26<01:41,  3.37s/it]\u001b[A\n",
      " 19%|█▉        | 7/36 [00:28<01:30,  3.14s/it]\u001b[A\n",
      " 22%|██▏       | 8/36 [00:31<01:24,  3.01s/it]\u001b[A\n",
      " 25%|██▌       | 9/36 [00:34<01:22,  3.06s/it]\u001b[A\n",
      " 28%|██▊       | 10/36 [00:37<01:19,  3.05s/it]\u001b[A\n",
      " 31%|███       | 11/36 [00:40<01:17,  3.10s/it]\u001b[A\n",
      " 33%|███▎      | 12/36 [00:43<01:12,  3.00s/it]\u001b[A\n",
      " 36%|███▌      | 13/36 [00:46<01:05,  2.83s/it]\u001b[A\n",
      " 39%|███▉      | 14/36 [00:48<00:57,  2.62s/it]\u001b[A\n",
      " 42%|████▏     | 15/36 [00:50<00:50,  2.41s/it]\u001b[A\n",
      " 44%|████▍     | 16/36 [00:52<00:46,  2.30s/it]\u001b[A\n",
      " 47%|████▋     | 17/36 [00:54<00:42,  2.22s/it]\u001b[A\n",
      " 50%|█████     | 18/36 [00:56<00:39,  2.20s/it]\u001b[A\n",
      " 53%|█████▎    | 19/36 [00:58<00:37,  2.22s/it]\u001b[A\n",
      " 56%|█████▌    | 20/36 [01:01<00:37,  2.31s/it]\u001b[A\n",
      " 58%|█████▊    | 21/36 [01:03<00:32,  2.20s/it]\u001b[A\n",
      " 61%|██████    | 22/36 [01:04<00:28,  2.03s/it]\u001b[A\n",
      " 64%|██████▍   | 23/36 [01:06<00:24,  1.87s/it]\u001b[A\n",
      " 67%|██████▋   | 24/36 [01:07<00:19,  1.65s/it]\u001b[A\n",
      " 69%|██████▉   | 25/36 [01:08<00:16,  1.45s/it]\u001b[A\n",
      " 72%|███████▏  | 26/36 [01:09<00:12,  1.28s/it]\u001b[A\n",
      " 75%|███████▌  | 27/36 [01:10<00:10,  1.18s/it]\u001b[A"
     ]
    },
    {
     "name": "stdout",
     "output_type": "stream",
     "text": [
      "trips_d_growth_2_to_1_velocity_d_growth_2_to_1 1.0\n"
     ]
    },
    {
     "name": "stderr",
     "output_type": "stream",
     "text": [
      "\n",
      " 78%|███████▊  | 28/36 [01:11<00:09,  1.13s/it]\u001b[A\n",
      " 81%|████████  | 29/36 [01:11<00:06,  1.01it/s]\u001b[A\n",
      " 83%|████████▎ | 30/36 [01:12<00:05,  1.05it/s]\u001b[A\n",
      " 86%|████████▌ | 31/36 [01:13<00:04,  1.22it/s]\u001b[A\n",
      " 89%|████████▉ | 32/36 [01:13<00:02,  1.46it/s]\u001b[A\n",
      " 92%|█████████▏| 33/36 [01:13<00:01,  1.73it/s]\u001b[A\n",
      "100%|██████████| 36/36 [01:14<00:00,  2.06s/it]\u001b[A\n",
      " 89%|████████▉ | 92/103 [2:05:43<19:11, 104.65s/it]"
     ]
    },
    {
     "name": "stdout",
     "output_type": "stream",
     "text": [
      "Row(ct=12000000006, ca=41)\n"
     ]
    },
    {
     "name": "stderr",
     "output_type": "stream",
     "text": [
      "\n",
      "  0%|          | 0/36 [00:00<?, ?it/s]\u001b[A\n",
      "  3%|▎         | 1/36 [00:03<02:14,  3.85s/it]\u001b[A\n",
      "  6%|▌         | 2/36 [00:21<06:44, 11.89s/it]\u001b[A\n",
      "  8%|▊         | 3/36 [00:27<05:00,  9.10s/it]\u001b[A"
     ]
    },
    {
     "name": "stdout",
     "output_type": "stream",
     "text": [
      "extrasm_p_extrasm_d 0.9114458025044434\n"
     ]
    },
    {
     "name": "stderr",
     "output_type": "stream",
     "text": [
      "\n",
      " 11%|█         | 4/36 [00:30<03:43,  6.99s/it]\u001b[A\n",
      " 14%|█▍        | 5/36 [00:33<02:50,  5.49s/it]\u001b[A\n",
      " 17%|█▋        | 6/36 [00:37<02:23,  4.79s/it]\u001b[A\n",
      " 19%|█▉        | 7/36 [00:40<02:02,  4.23s/it]\u001b[A\n",
      " 22%|██▏       | 8/36 [00:44<01:56,  4.15s/it]\u001b[A\n",
      " 25%|██▌       | 9/36 [00:47<01:41,  3.78s/it]\u001b[A\n",
      " 28%|██▊       | 10/36 [00:50<01:32,  3.55s/it]\u001b[A\n",
      " 31%|███       | 11/36 [00:56<01:52,  4.48s/it]\u001b[A\n",
      " 33%|███▎      | 12/36 [01:12<03:10,  7.94s/it]\u001b[A\n",
      " 36%|███▌      | 13/36 [01:17<02:39,  6.95s/it]\u001b[A\n",
      " 39%|███▉      | 14/36 [01:20<02:05,  5.72s/it]\u001b[A\n",
      " 42%|████▏     | 15/36 [01:22<01:39,  4.75s/it]\u001b[A\n",
      " 44%|████▍     | 16/36 [01:24<01:18,  3.92s/it]\u001b[A\n",
      " 47%|████▋     | 17/36 [01:27<01:06,  3.53s/it]\u001b[A\n",
      " 50%|█████     | 18/36 [01:29<00:55,  3.07s/it]\u001b[A\n",
      " 53%|█████▎    | 19/36 [01:31<00:46,  2.72s/it]\u001b[A\n",
      " 56%|█████▌    | 20/36 [01:33<00:42,  2.63s/it]\u001b[A\n",
      " 58%|█████▊    | 21/36 [01:35<00:37,  2.50s/it]\u001b[A\n",
      " 61%|██████    | 22/36 [01:37<00:32,  2.31s/it]\u001b[A\n",
      " 64%|██████▍   | 23/36 [01:39<00:28,  2.16s/it]\u001b[A\n",
      " 67%|██████▋   | 24/36 [01:41<00:24,  2.07s/it]\u001b[A\n",
      " 69%|██████▉   | 25/36 [01:42<00:19,  1.81s/it]\u001b[A\n",
      " 72%|███████▏  | 26/36 [01:43<00:16,  1.63s/it]\u001b[A\n",
      " 75%|███████▌  | 27/36 [01:44<00:13,  1.45s/it]\u001b[A\n",
      " 78%|███████▊  | 28/36 [01:46<00:11,  1.44s/it]\u001b[A\n",
      " 81%|████████  | 29/36 [01:47<00:09,  1.34s/it]\u001b[A\n",
      " 83%|████████▎ | 30/36 [01:48<00:08,  1.40s/it]\u001b[A\n",
      " 86%|████████▌ | 31/36 [01:49<00:06,  1.21s/it]\u001b[A\n",
      " 89%|████████▉ | 32/36 [01:50<00:04,  1.06s/it]\u001b[A\n",
      " 92%|█████████▏| 33/36 [01:50<00:02,  1.08it/s]\u001b[A\n",
      " 94%|█████████▍| 34/36 [01:51<00:01,  1.43it/s]\u001b[A\n",
      "100%|██████████| 36/36 [01:51<00:00,  3.09s/it]\u001b[A\n",
      " 90%|█████████ | 93/103 [2:07:35<17:48, 106.82s/it]"
     ]
    },
    {
     "name": "stdout",
     "output_type": "stream",
     "text": [
      "Row(ct=12000000041, ca=24)\n"
     ]
    },
    {
     "name": "stderr",
     "output_type": "stream",
     "text": [
      "\n",
      "  0%|          | 0/37 [00:00<?, ?it/s]\u001b[A\n",
      "  3%|▎         | 1/37 [00:15<09:26, 15.73s/it]\u001b[A\n",
      "  5%|▌         | 2/37 [00:33<09:43, 16.66s/it]\u001b[A\n",
      "  8%|▊         | 3/37 [00:49<09:24, 16.62s/it]\u001b[A\n",
      " 11%|█         | 4/37 [00:55<06:49, 12.41s/it]\u001b[A"
     ]
    },
    {
     "name": "stdout",
     "output_type": "stream",
     "text": [
      "extrasm_p_totalm_p 0.7951212549463973\n"
     ]
    },
    {
     "name": "stderr",
     "output_type": "stream",
     "text": [
      "\n",
      " 14%|█▎        | 5/37 [01:01<05:20, 10.01s/it]\u001b[A\n",
      " 16%|█▌        | 6/37 [01:07<04:34,  8.87s/it]\u001b[A\n",
      " 19%|█▉        | 7/37 [01:13<03:50,  7.67s/it]\u001b[A\n",
      " 22%|██▏       | 8/37 [01:17<03:12,  6.64s/it]\u001b[A\n",
      " 24%|██▍       | 9/37 [01:23<02:55,  6.25s/it]\u001b[A\n",
      " 27%|██▋       | 10/37 [01:28<02:43,  6.07s/it]\u001b[A\n",
      " 30%|██▉       | 11/37 [01:32<02:21,  5.46s/it]\u001b[A\n",
      " 32%|███▏      | 12/37 [01:35<01:58,  4.72s/it]\u001b[A\n",
      " 35%|███▌      | 13/37 [01:38<01:41,  4.25s/it]\u001b[A\n",
      " 38%|███▊      | 14/37 [01:41<01:24,  3.69s/it]\u001b[A\n",
      " 41%|████      | 15/37 [01:44<01:18,  3.58s/it]\u001b[A\n",
      " 43%|████▎     | 16/37 [01:53<01:48,  5.17s/it]\u001b[A\n",
      " 46%|████▌     | 17/37 [02:09<02:50,  8.53s/it]\u001b[A\n",
      " 49%|████▊     | 18/37 [02:14<02:17,  7.22s/it]\u001b[A\n",
      " 51%|█████▏    | 19/37 [02:16<01:45,  5.84s/it]\u001b[A\n",
      " 54%|█████▍    | 20/37 [02:19<01:21,  4.79s/it]\u001b[A\n",
      " 57%|█████▋    | 21/37 [02:20<01:03,  3.95s/it]\u001b[A\n",
      " 59%|█████▉    | 22/37 [02:23<00:51,  3.42s/it]\u001b[A\n",
      " 62%|██████▏   | 23/37 [02:25<00:42,  3.02s/it]\u001b[A\n",
      " 65%|██████▍   | 24/37 [02:26<00:33,  2.55s/it]\u001b[A\n",
      " 68%|██████▊   | 25/37 [02:28<00:26,  2.20s/it]\u001b[A\n",
      " 70%|███████   | 26/37 [02:29<00:21,  1.96s/it]\u001b[A\n",
      " 73%|███████▎  | 27/37 [02:30<00:17,  1.74s/it]\u001b[A\n",
      " 76%|███████▌  | 28/37 [02:33<00:19,  2.12s/it]\u001b[A\n",
      " 78%|███████▊  | 29/37 [02:35<00:16,  2.04s/it]\u001b[A\n",
      " 81%|████████  | 30/37 [02:38<00:16,  2.31s/it]\u001b[A\n",
      " 84%|████████▍ | 31/37 [02:42<00:16,  2.79s/it]\u001b[A\n",
      " 86%|████████▋ | 32/37 [02:45<00:14,  2.98s/it]\u001b[A\n",
      " 89%|████████▉ | 33/37 [02:47<00:10,  2.60s/it]\u001b[A\n",
      " 92%|█████████▏| 34/37 [02:49<00:07,  2.50s/it]\u001b[A\n",
      " 95%|█████████▍| 35/37 [02:50<00:04,  2.02s/it]\u001b[A\n",
      "100%|██████████| 37/37 [02:51<00:00,  4.63s/it]\u001b[A\n",
      " 91%|█████████▏| 94/103 [2:10:29<19:01, 126.88s/it]"
     ]
    },
    {
     "name": "stdout",
     "output_type": "stream",
     "text": [
      "Row(ct=12000000046, ca=1)\n"
     ]
    },
    {
     "name": "stderr",
     "output_type": "stream",
     "text": [
      "\n",
      "  0%|          | 0/38 [00:00<?, ?it/s]\u001b[A\n",
      "  3%|▎         | 1/38 [00:18<11:15, 18.26s/it]\u001b[A\n",
      "  5%|▌         | 2/38 [00:23<06:31, 10.88s/it]\u001b[A\n",
      "  8%|▊         | 3/38 [00:27<04:21,  7.48s/it]\u001b[A"
     ]
    },
    {
     "name": "stdout",
     "output_type": "stream",
     "text": [
      "tipsm_p_totalm_p 0.971853775961748\n"
     ]
    },
    {
     "name": "stderr",
     "output_type": "stream",
     "text": [
      "\n",
      " 11%|█         | 4/38 [00:34<04:05,  7.22s/it]\u001b[A\n",
      " 13%|█▎        | 5/38 [00:39<03:37,  6.60s/it]\u001b[A\n",
      " 16%|█▌        | 6/38 [00:44<03:05,  5.81s/it]\u001b[A\n",
      " 18%|█▊        | 7/38 [00:47<02:32,  4.92s/it]\u001b[A\n",
      " 21%|██        | 8/38 [00:51<02:20,  4.67s/it]\u001b[A\n",
      " 24%|██▎       | 9/38 [00:54<02:00,  4.15s/it]\u001b[A\n",
      " 26%|██▋       | 10/38 [00:57<01:48,  3.87s/it]\u001b[A\n",
      " 29%|██▉       | 11/38 [01:00<01:39,  3.68s/it]\u001b[A\n",
      " 32%|███▏      | 12/38 [01:03<01:27,  3.36s/it]\u001b[A\n",
      " 34%|███▍      | 13/38 [01:06<01:24,  3.38s/it]\u001b[A\n",
      " 37%|███▋      | 14/38 [01:09<01:19,  3.32s/it]\u001b[A\n",
      " 39%|███▉      | 15/38 [01:20<02:08,  5.59s/it]\u001b[A\n",
      " 42%|████▏     | 16/38 [01:24<01:49,  4.97s/it]\u001b[A\n",
      " 45%|████▍     | 17/38 [01:27<01:33,  4.48s/it]\u001b[A\n",
      " 47%|████▋     | 18/38 [01:32<01:33,  4.69s/it]\u001b[A\n",
      " 50%|█████     | 19/38 [01:35<01:14,  3.93s/it]\u001b[A\n",
      " 53%|█████▎    | 20/38 [01:40<01:18,  4.37s/it]\u001b[A\n",
      " 55%|█████▌    | 21/38 [01:54<02:04,  7.30s/it]\u001b[A\n",
      " 58%|█████▊    | 22/38 [02:04<02:11,  8.19s/it]\u001b[A\n",
      " 61%|██████    | 23/38 [02:08<01:42,  6.80s/it]\u001b[A\n",
      " 63%|██████▎   | 24/38 [02:19<01:54,  8.18s/it]\u001b[A\n",
      " 66%|██████▌   | 25/38 [02:23<01:30,  6.98s/it]\u001b[A\n",
      " 68%|██████▊   | 26/38 [02:30<01:23,  6.93s/it]\u001b[A\n",
      " 71%|███████   | 27/38 [02:33<01:01,  5.63s/it]\u001b[A\n",
      " 74%|███████▎  | 28/38 [02:34<00:42,  4.22s/it]\u001b[A\n",
      " 76%|███████▋  | 29/38 [02:35<00:29,  3.27s/it]\u001b[A\n",
      " 79%|███████▉  | 30/38 [02:36<00:19,  2.49s/it]\u001b[A\n",
      " 82%|████████▏ | 31/38 [02:36<00:13,  1.94s/it]\u001b[A\n",
      " 84%|████████▍ | 32/38 [02:37<00:08,  1.49s/it]\u001b[A\n",
      " 87%|████████▋ | 33/38 [02:37<00:05,  1.19s/it]\u001b[A\n",
      " 89%|████████▉ | 34/38 [02:38<00:03,  1.02it/s]\u001b[A\n",
      " 92%|█████████▏| 35/38 [02:38<00:02,  1.32it/s]\u001b[A\n",
      "100%|██████████| 38/38 [02:38<00:00,  4.17s/it]\u001b[A\n",
      " 92%|█████████▏| 95/103 [2:13:10<18:16, 137.11s/it]"
     ]
    },
    {
     "name": "stdout",
     "output_type": "stream",
     "text": [
      "Row(ct=17031320400, ca=32)\n"
     ]
    },
    {
     "name": "stderr",
     "output_type": "stream",
     "text": [
      "\n",
      "  0%|          | 0/32 [00:00<?, ?it/s]\u001b[A\n",
      "  3%|▎         | 1/32 [00:06<03:16,  6.33s/it]\u001b[A\n",
      "  6%|▋         | 2/32 [00:09<02:06,  4.22s/it]\u001b[A\n",
      "  9%|▉         | 3/32 [00:11<01:41,  3.50s/it]\u001b[A\n",
      " 12%|█▎        | 4/32 [00:14<01:27,  3.11s/it]\u001b[A\n",
      " 16%|█▌        | 5/32 [00:16<01:14,  2.78s/it]\u001b[A\n",
      " 19%|█▉        | 6/32 [00:18<01:09,  2.68s/it]\u001b[A\n",
      " 22%|██▏       | 7/32 [00:21<01:03,  2.55s/it]\u001b[A\n",
      " 25%|██▌       | 8/32 [00:23<01:00,  2.53s/it]\u001b[A\n",
      " 28%|██▊       | 9/32 [00:25<00:55,  2.42s/it]\u001b[A\n",
      " 31%|███▏      | 10/32 [00:28<00:51,  2.36s/it]\u001b[A\n",
      " 34%|███▍      | 11/32 [00:30<00:48,  2.30s/it]\u001b[A\n",
      " 38%|███▊      | 12/32 [00:32<00:43,  2.18s/it]\u001b[A"
     ]
    },
    {
     "name": "stdout",
     "output_type": "stream",
     "text": [
      "comp4_d_compless5_d 0.6737165800881155\n"
     ]
    },
    {
     "name": "stderr",
     "output_type": "stream",
     "text": [
      "\n",
      " 41%|████      | 13/32 [00:33<00:38,  2.04s/it]\u001b[A\n",
      " 44%|████▍     | 14/32 [00:35<00:34,  1.89s/it]\u001b[A\n",
      " 47%|████▋     | 15/32 [00:36<00:30,  1.79s/it]\u001b[A\n",
      " 50%|█████     | 16/32 [00:38<00:28,  1.77s/it]\u001b[A\n",
      " 53%|█████▎    | 17/32 [00:40<00:25,  1.73s/it]\u001b[A\n",
      " 56%|█████▋    | 18/32 [00:41<00:21,  1.55s/it]\u001b[A\n",
      " 59%|█████▉    | 19/32 [00:42<00:18,  1.41s/it]\u001b[A\n",
      " 62%|██████▎   | 20/32 [00:43<00:16,  1.38s/it]\u001b[A\n",
      " 66%|██████▌   | 21/32 [00:44<00:13,  1.24s/it]\u001b[A\n",
      " 69%|██████▉   | 22/32 [00:45<00:11,  1.13s/it]\u001b[A\n",
      " 72%|███████▏  | 23/32 [00:46<00:09,  1.01s/it]\u001b[A\n",
      " 75%|███████▌  | 24/32 [00:47<00:07,  1.05it/s]\u001b[A\n",
      " 78%|███████▊  | 25/32 [00:47<00:05,  1.17it/s]\u001b[A\n",
      " 81%|████████▏ | 26/32 [00:48<00:04,  1.34it/s]\u001b[A\n",
      " 84%|████████▍ | 27/32 [00:48<00:03,  1.44it/s]\u001b[A\n",
      " 88%|████████▊ | 28/32 [00:49<00:02,  1.73it/s]\u001b[A\n",
      " 91%|█████████ | 29/32 [00:49<00:01,  2.10it/s]\u001b[A\n",
      "100%|██████████| 32/32 [00:49<00:00,  1.55s/it]\u001b[A\n",
      " 93%|█████████▎| 96/103 [2:14:02<13:00, 111.53s/it]"
     ]
    },
    {
     "name": "stdout",
     "output_type": "stream",
     "text": [
      "Row(ct=17031081401, ca=8)\n"
     ]
    },
    {
     "name": "stderr",
     "output_type": "stream",
     "text": [
      "\n",
      "  0%|          | 0/30 [00:00<?, ?it/s]\u001b[A\n",
      "  3%|▎         | 1/30 [00:02<01:20,  2.78s/it]\u001b[A\n",
      "  7%|▋         | 2/30 [00:05<01:11,  2.55s/it]\u001b[A\n",
      " 10%|█         | 3/30 [00:07<01:06,  2.45s/it]\u001b[A\n",
      " 13%|█▎        | 4/30 [00:09<01:03,  2.43s/it]\u001b[A\n",
      " 17%|█▋        | 5/30 [00:12<00:58,  2.34s/it]\u001b[A\n",
      " 20%|██        | 6/30 [00:14<00:53,  2.22s/it]\u001b[A\n",
      " 23%|██▎       | 7/30 [00:15<00:48,  2.12s/it]\u001b[A"
     ]
    },
    {
     "name": "stdout",
     "output_type": "stream",
     "text": [
      "tipsm_d_totalm_d 0.8757511401933108\n"
     ]
    },
    {
     "name": "stderr",
     "output_type": "stream",
     "text": [
      "\n",
      " 27%|██▋       | 8/30 [00:18<00:46,  2.13s/it]\u001b[A\n",
      " 30%|███       | 9/30 [00:20<00:43,  2.07s/it]\u001b[A\n",
      " 33%|███▎      | 10/30 [00:21<00:39,  1.98s/it]\u001b[A\n",
      " 37%|███▋      | 11/30 [00:23<00:34,  1.83s/it]\u001b[A\n",
      " 40%|████      | 12/30 [00:25<00:35,  1.98s/it]\u001b[A\n",
      " 43%|████▎     | 13/30 [00:27<00:32,  1.93s/it]\u001b[A\n",
      " 47%|████▋     | 14/30 [00:28<00:28,  1.77s/it]\u001b[A\n",
      " 50%|█████     | 15/30 [00:30<00:24,  1.64s/it]\u001b[A\n",
      " 53%|█████▎    | 16/30 [00:31<00:20,  1.49s/it]\u001b[A\n",
      " 57%|█████▋    | 17/30 [00:32<00:18,  1.39s/it]\u001b[A\n",
      " 60%|██████    | 18/30 [00:33<00:15,  1.26s/it]\u001b[A\n",
      " 63%|██████▎   | 19/30 [00:34<00:12,  1.16s/it]\u001b[A\n",
      " 67%|██████▋   | 20/30 [00:35<00:10,  1.06s/it]\u001b[A\n",
      " 70%|███████   | 21/30 [00:36<00:08,  1.02it/s]\u001b[A\n",
      " 73%|███████▎  | 22/30 [00:36<00:07,  1.11it/s]\u001b[A\n",
      " 77%|███████▋  | 23/30 [00:37<00:06,  1.13it/s]\u001b[A\n",
      " 80%|████████  | 24/30 [00:38<00:04,  1.28it/s]\u001b[A\n",
      " 83%|████████▎ | 25/30 [00:38<00:03,  1.40it/s]\u001b[A\n",
      " 87%|████████▋ | 26/30 [00:39<00:02,  1.59it/s]\u001b[A\n",
      " 90%|█████████ | 27/30 [00:39<00:01,  1.67it/s]\u001b[A\n",
      " 93%|█████████▎| 28/30 [00:39<00:00,  2.00it/s]\u001b[A\n",
      "100%|██████████| 30/30 [00:40<00:00,  1.33s/it]\u001b[A\n",
      " 94%|█████████▍| 97/103 [2:14:42<09:01, 90.33s/it] "
     ]
    },
    {
     "name": "stdout",
     "output_type": "stream",
     "text": [
      "Row(ct=12000000039, ca=23)\n"
     ]
    },
    {
     "name": "stderr",
     "output_type": "stream",
     "text": [
      "\n",
      "  0%|          | 0/39 [00:00<?, ?it/s]\u001b[A\n",
      "  3%|▎         | 1/39 [00:04<02:45,  4.37s/it]\u001b[A\n",
      "  5%|▌         | 2/39 [00:18<06:12, 10.07s/it]\u001b[A\n",
      "  8%|▊         | 3/39 [00:24<04:55,  8.22s/it]\u001b[A\n",
      " 10%|█         | 4/39 [00:27<03:38,  6.25s/it]\u001b[A\n",
      " 13%|█▎        | 5/39 [00:30<02:50,  5.02s/it]\u001b[A\n",
      " 15%|█▌        | 6/39 [00:33<02:20,  4.27s/it]\u001b[A\n",
      " 18%|█▊        | 7/39 [00:36<02:01,  3.80s/it]\u001b[A\n",
      " 21%|██        | 8/39 [00:39<01:50,  3.58s/it]\u001b[A\n",
      " 23%|██▎       | 9/39 [00:42<01:42,  3.42s/it]\u001b[A\n",
      " 26%|██▌       | 10/39 [00:45<01:35,  3.29s/it]\u001b[A\n",
      " 28%|██▊       | 11/39 [00:48<01:27,  3.11s/it]\u001b[A\n",
      " 31%|███       | 12/39 [00:50<01:17,  2.87s/it]\u001b[A\n",
      " 33%|███▎      | 13/39 [00:52<01:10,  2.70s/it]\u001b[A\n",
      " 36%|███▌      | 14/39 [00:54<01:02,  2.51s/it]\u001b[A\n",
      " 38%|███▊      | 15/39 [00:57<00:58,  2.44s/it]\u001b[A"
     ]
    },
    {
     "name": "stdout",
     "output_type": "stream",
     "text": [
      "extrasm_d_totalm_d 0.9344655538444869\n"
     ]
    },
    {
     "name": "stderr",
     "output_type": "stream",
     "text": [
      "\n",
      " 41%|████      | 16/39 [00:59<00:54,  2.37s/it]\u001b[A\n",
      " 44%|████▎     | 17/39 [01:01<00:49,  2.23s/it]\u001b[A\n",
      " 46%|████▌     | 18/39 [01:02<00:43,  2.09s/it]\u001b[A\n",
      " 49%|████▊     | 19/39 [01:04<00:40,  2.01s/it]\u001b[A\n",
      " 51%|█████▏    | 20/39 [01:06<00:36,  1.91s/it]\u001b[A\n",
      " 54%|█████▍    | 21/39 [01:08<00:33,  1.84s/it]\u001b[A\n",
      " 56%|█████▋    | 22/39 [01:10<00:32,  1.90s/it]\u001b[A\n",
      " 59%|█████▉    | 23/39 [01:12<00:31,  1.95s/it]\u001b[A\n",
      " 62%|██████▏   | 24/39 [01:13<00:26,  1.79s/it]\u001b[A\n",
      " 64%|██████▍   | 25/39 [01:14<00:22,  1.60s/it]\u001b[A\n",
      " 67%|██████▋   | 26/39 [01:15<00:19,  1.48s/it]\u001b[A\n",
      " 69%|██████▉   | 27/39 [01:17<00:18,  1.56s/it]\u001b[A"
     ]
    },
    {
     "name": "stdout",
     "output_type": "stream",
     "text": [
      "trips_d_growth_1_to_0_velocity_d_growth_1_to_0 0.790901097481495\n"
     ]
    },
    {
     "name": "stderr",
     "output_type": "stream",
     "text": [
      "\n",
      " 72%|███████▏  | 28/39 [01:18<00:15,  1.41s/it]\u001b[A\n",
      " 74%|███████▍  | 29/39 [01:19<00:12,  1.24s/it]\u001b[A\n",
      " 77%|███████▋  | 30/39 [01:20<00:09,  1.10s/it]\u001b[A\n",
      " 79%|███████▉  | 31/39 [01:21<00:07,  1.03it/s]\u001b[A\n",
      " 82%|████████▏ | 32/39 [01:21<00:06,  1.13it/s]\u001b[A\n",
      " 85%|████████▍ | 33/39 [01:22<00:04,  1.25it/s]\u001b[A\n",
      " 87%|████████▋ | 34/39 [01:22<00:03,  1.49it/s]\u001b[A\n",
      " 90%|████████▉ | 35/39 [01:23<00:02,  1.75it/s]\u001b[A\n",
      " 92%|█████████▏| 36/39 [01:23<00:01,  1.96it/s]\u001b[A\n",
      " 95%|█████████▍| 37/39 [01:23<00:00,  2.30it/s]\u001b[A\n",
      "100%|██████████| 39/39 [01:23<00:00,  2.15s/it]\u001b[A\n",
      " 95%|█████████▌| 98/103 [2:16:07<07:23, 88.73s/it]"
     ]
    },
    {
     "name": "stdout",
     "output_type": "stream",
     "text": [
      "Row(ct=12000000005, ca=62)\n"
     ]
    },
    {
     "name": "stderr",
     "output_type": "stream",
     "text": [
      "\n",
      "  0%|          | 0/36 [00:00<?, ?it/s]\u001b[A\n",
      "  3%|▎         | 1/36 [00:03<01:58,  3.40s/it]\u001b[A\n",
      "  6%|▌         | 2/36 [00:13<04:04,  7.19s/it]\u001b[A"
     ]
    },
    {
     "name": "stdout",
     "output_type": "stream",
     "text": [
      "tipsm_p_extrasm_p 0.84003096926818\n"
     ]
    },
    {
     "name": "stderr",
     "output_type": "stream",
     "text": [
      "\n",
      "  8%|▊         | 3/36 [00:22<04:22,  7.96s/it]\u001b[A\n",
      " 11%|█         | 4/36 [00:25<03:12,  6.01s/it]\u001b[A\n",
      " 14%|█▍        | 5/36 [00:27<02:28,  4.80s/it]\u001b[A\n",
      " 17%|█▋        | 6/36 [00:31<02:09,  4.32s/it]\u001b[A\n",
      " 19%|█▉        | 7/36 [00:34<01:55,  3.98s/it]\u001b[A\n",
      " 22%|██▏       | 8/36 [00:36<01:38,  3.51s/it]\u001b[A\n",
      " 25%|██▌       | 9/36 [00:39<01:27,  3.23s/it]\u001b[A\n",
      " 28%|██▊       | 10/36 [00:46<01:51,  4.30s/it]\u001b[A\n",
      " 31%|███       | 11/36 [01:03<03:25,  8.23s/it]\u001b[A\n",
      " 33%|███▎      | 12/36 [01:14<03:37,  9.07s/it]\u001b[A\n",
      " 36%|███▌      | 13/36 [01:16<02:39,  6.92s/it]\u001b[A\n",
      " 39%|███▉      | 14/36 [01:18<02:00,  5.48s/it]\u001b[A\n",
      " 42%|████▏     | 15/36 [01:20<01:32,  4.39s/it]\u001b[A\n",
      " 44%|████▍     | 16/36 [01:22<01:13,  3.68s/it]\u001b[A\n",
      " 47%|████▋     | 17/36 [01:24<00:59,  3.11s/it]\u001b[A\n",
      " 50%|█████     | 18/36 [01:25<00:47,  2.65s/it]\u001b[A\n",
      " 53%|█████▎    | 19/36 [01:27<00:38,  2.28s/it]\u001b[A\n",
      " 56%|█████▌    | 20/36 [01:28<00:32,  2.02s/it]\u001b[A\n",
      " 58%|█████▊    | 21/36 [01:29<00:26,  1.80s/it]\u001b[A\n",
      " 61%|██████    | 22/36 [01:31<00:23,  1.68s/it]\u001b[A\n",
      " 64%|██████▍   | 23/36 [01:32<00:20,  1.57s/it]\u001b[A\n",
      " 67%|██████▋   | 24/36 [01:33<00:16,  1.41s/it]\u001b[A\n",
      " 69%|██████▉   | 25/36 [01:34<00:14,  1.29s/it]\u001b[A"
     ]
    },
    {
     "name": "stdout",
     "output_type": "stream",
     "text": [
      "trips_d_growth_1_to_0_velocity_d_growth_1_to_0 0.9525245375393847\n"
     ]
    },
    {
     "name": "stderr",
     "output_type": "stream",
     "text": [
      "\n",
      " 72%|███████▏  | 26/36 [01:35<00:11,  1.16s/it]\u001b[A\n",
      " 75%|███████▌  | 27/36 [01:37<00:12,  1.39s/it]\u001b[A"
     ]
    },
    {
     "name": "stdout",
     "output_type": "stream",
     "text": [
      "trips_d_growth_3_to_2_velocity_d_growth_3_to_2 0.9408098025487626\n"
     ]
    },
    {
     "name": "stderr",
     "output_type": "stream",
     "text": [
      "\n",
      " 78%|███████▊  | 28/36 [01:41<00:17,  2.15s/it]\u001b[A\n",
      " 81%|████████  | 29/36 [01:44<00:17,  2.53s/it]\u001b[A\n",
      " 83%|████████▎ | 30/36 [01:47<00:16,  2.72s/it]\u001b[A\n",
      " 86%|████████▌ | 31/36 [01:50<00:13,  2.61s/it]\u001b[A\n",
      " 89%|████████▉ | 32/36 [01:52<00:09,  2.50s/it]\u001b[A\n",
      " 92%|█████████▏| 33/36 [01:53<00:05,  1.96s/it]\u001b[A\n",
      " 94%|█████████▍| 34/36 [01:53<00:02,  1.43s/it]\u001b[A\n",
      "100%|██████████| 36/36 [01:53<00:00,  3.16s/it]\u001b[A\n",
      " 96%|█████████▌| 99/103 [2:18:01<06:25, 96.30s/it]"
     ]
    },
    {
     "name": "stdout",
     "output_type": "stream",
     "text": [
      "Row(ct=12000000040, ca=20)\n"
     ]
    },
    {
     "name": "stderr",
     "output_type": "stream",
     "text": [
      "\n",
      "  0%|          | 0/36 [00:00<?, ?it/s]\u001b[A\n",
      "  3%|▎         | 1/36 [00:04<02:32,  4.35s/it]\u001b[A\n",
      "  6%|▌         | 2/36 [00:07<02:04,  3.67s/it]\u001b[A\n",
      "  8%|▊         | 3/36 [00:12<02:14,  4.08s/it]\u001b[A\n",
      " 11%|█         | 4/36 [00:14<01:53,  3.53s/it]\u001b[A\n",
      " 14%|█▍        | 5/36 [00:18<01:48,  3.50s/it]\u001b[A\n",
      " 17%|█▋        | 6/36 [00:20<01:36,  3.23s/it]\u001b[A\n",
      " 19%|█▉        | 7/36 [00:23<01:27,  3.01s/it]\u001b[A\n",
      " 22%|██▏       | 8/36 [00:26<01:20,  2.88s/it]\u001b[A\n",
      " 25%|██▌       | 9/36 [00:28<01:14,  2.78s/it]\u001b[A\n",
      " 28%|██▊       | 10/36 [00:31<01:10,  2.69s/it]\u001b[A\n",
      " 31%|███       | 11/36 [00:33<01:02,  2.51s/it]\u001b[A\n",
      " 33%|███▎      | 12/36 [00:35<01:00,  2.51s/it]\u001b[A\n",
      " 36%|███▌      | 13/36 [00:38<00:56,  2.46s/it]\u001b[A\n",
      " 39%|███▉      | 14/36 [00:40<00:51,  2.36s/it]\u001b[A\n",
      " 42%|████▏     | 15/36 [00:42<00:47,  2.25s/it]\u001b[A\n",
      " 44%|████▍     | 16/36 [00:44<00:42,  2.15s/it]\u001b[A\n",
      " 47%|████▋     | 17/36 [00:45<00:38,  2.01s/it]\u001b[A\n",
      " 50%|█████     | 18/36 [00:48<00:38,  2.14s/it]\u001b[A\n",
      " 53%|█████▎    | 19/36 [01:01<01:34,  5.55s/it]\u001b[A\n",
      " 56%|█████▌    | 20/36 [01:39<04:01, 15.07s/it]\u001b[A\n",
      " 58%|█████▊    | 21/36 [01:43<02:58, 11.92s/it]\u001b[A\n",
      " 61%|██████    | 22/36 [01:45<02:03,  8.82s/it]\u001b[A\n",
      " 64%|██████▍   | 23/36 [01:46<01:26,  6.63s/it]\u001b[A\n",
      " 67%|██████▋   | 24/36 [01:49<01:04,  5.37s/it]\u001b[A"
     ]
    },
    {
     "name": "stdout",
     "output_type": "stream",
     "text": [
      "trips_p_growth_1_to_0_velocity_p_growth_4_to_3 0.9013114351917151\n"
     ]
    },
    {
     "name": "stderr",
     "output_type": "stream",
     "text": [
      "\n",
      " 69%|██████▉   | 25/36 [01:50<00:45,  4.13s/it]\u001b[A\n",
      " 72%|███████▏  | 26/36 [01:51<00:31,  3.16s/it]\u001b[A\n",
      " 75%|███████▌  | 27/36 [01:53<00:24,  2.74s/it]\u001b[A\n",
      " 78%|███████▊  | 28/36 [01:53<00:17,  2.14s/it]\u001b[A\n",
      " 81%|████████  | 29/36 [01:54<00:11,  1.68s/it]\u001b[A\n",
      " 83%|████████▎ | 30/36 [01:55<00:08,  1.44s/it]\u001b[A\n",
      " 86%|████████▌ | 31/36 [01:56<00:06,  1.25s/it]\u001b[A\n",
      " 89%|████████▉ | 32/36 [01:56<00:04,  1.01s/it]\u001b[A\n",
      " 92%|█████████▏| 33/36 [01:56<00:02,  1.25it/s]\u001b[A\n",
      "100%|██████████| 36/36 [01:57<00:00,  3.25s/it]\u001b[A\n",
      " 97%|█████████▋| 100/103 [2:20:00<05:09, 103.06s/it]"
     ]
    },
    {
     "name": "stdout",
     "output_type": "stream",
     "text": [
      "Row(ct=12000000009, ca=35)\n"
     ]
    },
    {
     "name": "stderr",
     "output_type": "stream",
     "text": [
      "\n",
      "  0%|          | 0/39 [00:00<?, ?it/s]\u001b[A\n",
      "  3%|▎         | 1/39 [00:03<02:30,  3.96s/it]\u001b[A\n",
      "  5%|▌         | 2/39 [00:09<02:50,  4.60s/it]\u001b[A\n",
      "  8%|▊         | 3/39 [00:13<02:38,  4.40s/it]\u001b[A\n",
      " 10%|█         | 4/39 [00:16<02:16,  3.91s/it]\u001b[A"
     ]
    },
    {
     "name": "stdout",
     "output_type": "stream",
     "text": [
      "tollsm_p_tollsm_d 1.000000000000001\n"
     ]
    },
    {
     "name": "stderr",
     "output_type": "stream",
     "text": [
      "\n",
      " 13%|█▎        | 5/39 [00:20<02:13,  3.93s/it]\u001b[A\n",
      " 15%|█▌        | 6/39 [00:23<02:06,  3.83s/it]\u001b[A\n",
      " 18%|█▊        | 7/39 [00:27<01:59,  3.74s/it]\u001b[A\n",
      " 21%|██        | 8/39 [00:30<01:50,  3.58s/it]\u001b[A\n",
      " 23%|██▎       | 9/39 [00:33<01:38,  3.29s/it]\u001b[A\n",
      " 26%|██▌       | 10/39 [00:36<01:30,  3.12s/it]\u001b[A\n",
      " 28%|██▊       | 11/39 [00:46<02:31,  5.40s/it]\u001b[A\n",
      " 31%|███       | 12/39 [01:02<03:50,  8.54s/it]\u001b[A\n",
      " 33%|███▎      | 13/39 [01:05<03:01,  6.99s/it]\u001b[A\n",
      " 36%|███▌      | 14/39 [01:08<02:18,  5.54s/it]\u001b[A\n",
      " 38%|███▊      | 15/39 [01:10<01:48,  4.53s/it]\u001b[A\n",
      " 41%|████      | 16/39 [01:12<01:28,  3.85s/it]\u001b[A\n",
      " 44%|████▎     | 17/39 [01:14<01:12,  3.28s/it]\u001b[A\n",
      " 46%|████▌     | 18/39 [01:16<00:59,  2.86s/it]\u001b[A\n",
      " 49%|████▊     | 19/39 [01:18<00:50,  2.53s/it]\u001b[A\n",
      " 51%|█████▏    | 20/39 [01:20<00:45,  2.39s/it]\u001b[A\n",
      " 54%|█████▍    | 21/39 [01:21<00:39,  2.19s/it]\u001b[A\n",
      " 56%|█████▋    | 22/39 [01:23<00:33,  1.94s/it]\u001b[A\n",
      " 59%|█████▉    | 23/39 [01:24<00:29,  1.81s/it]\u001b[A\n",
      " 62%|██████▏   | 24/39 [01:26<00:25,  1.69s/it]\u001b[A\n",
      " 64%|██████▍   | 25/39 [01:27<00:21,  1.56s/it]\u001b[A\n",
      " 67%|██████▋   | 26/39 [01:28<00:18,  1.41s/it]\u001b[A\n",
      " 69%|██████▉   | 27/39 [01:29<00:16,  1.35s/it]\u001b[A\n",
      " 72%|███████▏  | 28/39 [01:30<00:14,  1.30s/it]\u001b[A\n",
      " 74%|███████▍  | 29/39 [01:31<00:11,  1.19s/it]\u001b[A\n",
      " 77%|███████▋  | 30/39 [01:32<00:09,  1.07s/it]\u001b[A\n",
      " 79%|███████▉  | 31/39 [01:33<00:07,  1.07it/s]\u001b[A\n",
      " 82%|████████▏ | 32/39 [01:35<00:10,  1.44s/it]\u001b[A\n",
      " 85%|████████▍ | 33/39 [01:38<00:10,  1.72s/it]\u001b[A\n",
      " 87%|████████▋ | 34/39 [01:38<00:06,  1.34s/it]\u001b[A\n",
      " 90%|████████▉ | 35/39 [01:39<00:04,  1.05s/it]\u001b[A\n",
      " 92%|█████████▏| 36/39 [01:39<00:02,  1.17it/s]\u001b[A\n",
      "100%|██████████| 39/39 [01:39<00:00,  2.56s/it]\u001b[A\n",
      " 98%|█████████▊| 101/103 [2:21:40<03:24, 102.13s/it]"
     ]
    },
    {
     "name": "stdout",
     "output_type": "stream",
     "text": [
      "Row(ct=12000000015, ca=67)\n"
     ]
    },
    {
     "name": "stderr",
     "output_type": "stream",
     "text": [
      "\n",
      "  0%|          | 0/40 [00:00<?, ?it/s]\u001b[A\n",
      "  2%|▎         | 1/40 [00:04<02:59,  4.59s/it]\u001b[A\n",
      "  5%|▌         | 2/40 [00:07<02:25,  3.82s/it]\u001b[A\n",
      "  8%|▊         | 3/40 [00:11<02:18,  3.73s/it]\u001b[A\n",
      " 10%|█         | 4/40 [00:14<02:07,  3.54s/it]\u001b[A\n",
      " 12%|█▎        | 5/40 [00:18<02:01,  3.46s/it]\u001b[A\n",
      " 15%|█▌        | 6/40 [00:21<01:56,  3.43s/it]\u001b[A\n",
      " 18%|█▊        | 7/40 [00:24<01:49,  3.31s/it]\u001b[A\n",
      " 20%|██        | 8/40 [00:27<01:40,  3.13s/it]\u001b[A\n",
      " 22%|██▎       | 9/40 [00:30<01:35,  3.09s/it]\u001b[A\n",
      " 25%|██▌       | 10/40 [00:32<01:28,  2.95s/it]\u001b[A\n",
      " 28%|██▊       | 11/40 [00:35<01:23,  2.87s/it]\u001b[A\n",
      " 30%|███       | 12/40 [00:37<01:16,  2.73s/it]\u001b[A\n",
      " 32%|███▎      | 13/40 [00:40<01:13,  2.71s/it]\u001b[A\n",
      " 35%|███▌      | 14/40 [00:43<01:08,  2.63s/it]\u001b[A\n",
      " 38%|███▊      | 15/40 [00:45<01:02,  2.48s/it]\u001b[A\n",
      " 40%|████      | 16/40 [00:47<00:58,  2.43s/it]\u001b[A\n",
      " 42%|████▎     | 17/40 [00:49<00:54,  2.37s/it]\u001b[A\n",
      " 45%|████▌     | 18/40 [00:51<00:50,  2.28s/it]\u001b[A\n",
      " 48%|████▊     | 19/40 [00:53<00:46,  2.21s/it]\u001b[A\n",
      " 50%|█████     | 20/40 [00:55<00:41,  2.05s/it]\u001b[A\n",
      " 52%|█████▎    | 21/40 [00:57<00:36,  1.94s/it]\u001b[A\n",
      " 55%|█████▌    | 22/40 [00:59<00:34,  1.91s/it]\u001b[A\n",
      " 57%|█████▊    | 23/40 [01:00<00:31,  1.82s/it]\u001b[A\n",
      " 60%|██████    | 24/40 [01:02<00:27,  1.73s/it]\u001b[A\n",
      " 62%|██████▎   | 25/40 [01:03<00:23,  1.60s/it]\u001b[A\n",
      " 65%|██████▌   | 26/40 [01:04<00:21,  1.53s/it]\u001b[A\n",
      " 68%|██████▊   | 27/40 [01:06<00:18,  1.44s/it]\u001b[A\n",
      " 70%|███████   | 28/40 [01:07<00:16,  1.35s/it]\u001b[A\n",
      " 72%|███████▎  | 29/40 [01:08<00:13,  1.24s/it]\u001b[A"
     ]
    },
    {
     "name": "stdout",
     "output_type": "stream",
     "text": [
      "trips_d_growth_2_to_1_velocity_d_growth_2_to_1 0.852480388398084\n"
     ]
    },
    {
     "name": "stderr",
     "output_type": "stream",
     "text": [
      "\n",
      " 75%|███████▌  | 30/40 [01:09<00:11,  1.16s/it]\u001b[A\n",
      " 78%|███████▊  | 31/40 [01:10<00:09,  1.08s/it]\u001b[A"
     ]
    },
    {
     "name": "stdout",
     "output_type": "stream",
     "text": [
      "trips_d_growth_3_to_2_velocity_d_growth_3_to_2 0.9154855303031441\n"
     ]
    },
    {
     "name": "stderr",
     "output_type": "stream",
     "text": [
      "\n",
      " 80%|████████  | 32/40 [01:10<00:08,  1.00s/it]\u001b[A\n",
      " 82%|████████▎ | 33/40 [01:11<00:06,  1.01it/s]\u001b[A\n",
      " 85%|████████▌ | 34/40 [01:12<00:05,  1.20it/s]\u001b[A\n",
      " 88%|████████▊ | 35/40 [01:12<00:03,  1.35it/s]\u001b[A\n",
      " 90%|█████████ | 36/40 [01:13<00:02,  1.57it/s]\u001b[A\n",
      " 92%|█████████▎| 37/40 [01:13<00:01,  1.86it/s]\u001b[A\n",
      " 95%|█████████▌| 38/40 [01:13<00:00,  2.25it/s]\u001b[A\n",
      "100%|██████████| 40/40 [01:13<00:00,  1.85s/it]\u001b[A\n",
      " 99%|█████████▉| 102/103 [2:22:55<01:33, 93.80s/it] "
     ]
    },
    {
     "name": "stdout",
     "output_type": "stream",
     "text": [
      "Row(ct=12000000021, ca=21)\n"
     ]
    },
    {
     "name": "stderr",
     "output_type": "stream",
     "text": [
      "\n",
      "  0%|          | 0/40 [00:00<?, ?it/s]\u001b[A\n",
      "  2%|▎         | 1/40 [00:04<02:37,  4.04s/it]\u001b[A\n",
      "  5%|▌         | 2/40 [00:07<02:24,  3.79s/it]\u001b[A\n",
      "  8%|▊         | 3/40 [00:11<02:14,  3.65s/it]\u001b[A\n",
      " 10%|█         | 4/40 [00:16<02:34,  4.29s/it]\u001b[A\n",
      " 12%|█▎        | 5/40 [00:19<02:14,  3.83s/it]\u001b[A\n",
      " 15%|█▌        | 6/40 [00:22<02:02,  3.60s/it]\u001b[A\n",
      " 18%|█▊        | 7/40 [00:25<01:52,  3.41s/it]\u001b[A\n",
      " 20%|██        | 8/40 [00:28<01:47,  3.37s/it]\u001b[A\n",
      " 22%|██▎       | 9/40 [00:31<01:41,  3.29s/it]\u001b[A\n",
      " 25%|██▌       | 10/40 [00:35<01:36,  3.20s/it]\u001b[A\n",
      " 28%|██▊       | 11/40 [00:37<01:30,  3.12s/it]\u001b[A\n",
      " 30%|███       | 12/40 [00:40<01:21,  2.93s/it]\u001b[A\n",
      " 32%|███▎      | 13/40 [00:42<01:15,  2.78s/it]\u001b[A\n",
      " 35%|███▌      | 14/40 [00:45<01:08,  2.62s/it]\u001b[A\n",
      " 38%|███▊      | 15/40 [00:47<01:05,  2.63s/it]\u001b[A\n",
      " 40%|████      | 16/40 [00:49<00:58,  2.43s/it]\u001b[A\n",
      " 42%|████▎     | 17/40 [00:51<00:52,  2.27s/it]\u001b[A"
     ]
    },
    {
     "name": "stdout",
     "output_type": "stream",
     "text": [
      "totalm_d_velocity_d_growth_3_to_2 -0.7110035950861842\n"
     ]
    },
    {
     "name": "stderr",
     "output_type": "stream",
     "text": [
      "\n",
      " 45%|████▌     | 18/40 [00:54<00:51,  2.34s/it]\u001b[A\n",
      " 48%|████▊     | 19/40 [00:56<00:49,  2.34s/it]\u001b[A\n",
      " 50%|█████     | 20/40 [00:58<00:45,  2.27s/it]\u001b[A\n",
      " 52%|█████▎    | 21/40 [01:00<00:40,  2.14s/it]\u001b[A\n",
      " 55%|█████▌    | 22/40 [01:02<00:35,  1.98s/it]\u001b[A\n",
      " 57%|█████▊    | 23/40 [01:03<00:30,  1.82s/it]\u001b[A\n",
      " 60%|██████    | 24/40 [01:04<00:27,  1.73s/it]\u001b[A\n",
      " 62%|██████▎   | 25/40 [01:06<00:24,  1.64s/it]\u001b[A\n",
      " 65%|██████▌   | 26/40 [01:07<00:21,  1.53s/it]\u001b[A\n",
      " 68%|██████▊   | 27/40 [01:08<00:18,  1.41s/it]\u001b[A\n",
      " 70%|███████   | 28/40 [01:09<00:15,  1.29s/it]\u001b[A\n",
      " 72%|███████▎  | 29/40 [01:10<00:13,  1.21s/it]\u001b[A\n",
      " 75%|███████▌  | 30/40 [01:11<00:10,  1.09s/it]\u001b[A\n",
      " 78%|███████▊  | 31/40 [01:12<00:09,  1.08s/it]\u001b[A\n",
      " 80%|████████  | 32/40 [01:13<00:07,  1.07it/s]\u001b[A\n",
      " 82%|████████▎ | 33/40 [01:13<00:05,  1.23it/s]\u001b[A\n",
      " 85%|████████▌ | 34/40 [01:14<00:04,  1.31it/s]\u001b[A\n",
      " 88%|████████▊ | 35/40 [01:15<00:03,  1.44it/s]\u001b[A\n",
      " 90%|█████████ | 36/40 [01:15<00:02,  1.74it/s]\u001b[A\n",
      " 92%|█████████▎| 37/40 [01:15<00:01,  2.12it/s]\u001b[A\n",
      " 95%|█████████▌| 38/40 [01:15<00:00,  2.61it/s]\u001b[A\n",
      "100%|██████████| 40/40 [01:15<00:00,  1.90s/it]\u001b[A\n",
      "100%|██████████| 103/103 [2:24:11<00:00, 83.99s/it]\n"
     ]
    }
   ],
   "source": [
    "correlation_results = get_correlations(agg_hour, cutoff, drop_col_list, excluded_fields)"
   ]
  },
  {
   "cell_type": "code",
   "execution_count": null,
   "id": "72d3b72a-0175-4e43-8a41-ad26141333da",
   "metadata": {},
   "outputs": [],
   "source": [
    "# # Вывод результата\n",
    "# for pair, correlations in correlation_results.items():\n",
    "#     print(f\"Корреляции для {pair}:\")\n",
    "#     for fields, correlation in correlations.items():\n",
    "#         print(f\"    {fields}: {correlation}\")"
   ]
  },
  {
   "cell_type": "code",
   "execution_count": 54,
   "id": "7b6df9ff-5e01-4b33-b91f-37fa518c4450",
   "metadata": {},
   "outputs": [],
   "source": [
    "# Преобразование словаря в DataFrame Pandas\n",
    "data = []\n",
    "for pair, correlations in correlation_results.items():\n",
    "    ct, ca = eval(pair)\n",
    "    for fields, correlation in correlations.items():\n",
    "        data.append([ct, ca, fields, correlation])\n",
    "\n",
    "columns = ['ct', 'ca', 'col1_col2', 'correlation']\n",
    "df = pd.DataFrame(data, columns=columns)"
   ]
  },
  {
   "cell_type": "code",
   "execution_count": 55,
   "id": "3145a650-2d0d-4ee9-9960-ddd24063aad3",
   "metadata": {},
   "outputs": [],
   "source": [
    "# Сохранение DataFrame в файл CSV\n",
    "df.to_csv('/work/data/correlation_results2.csv', index=False)"
   ]
  },
  {
   "cell_type": "code",
   "execution_count": 42,
   "id": "e32f8bb1-937b-4bc2-9b3d-91cec8dec1d6",
   "metadata": {},
   "outputs": [],
   "source": [
    "agg_hour_corr = pd.read_csv('/work/data/correlation_results.csv')"
   ]
  },
  {
   "cell_type": "markdown",
   "id": "091bea5b-9d8f-45d0-8504-3701d1a8186d",
   "metadata": {},
   "source": [
    "Из-за неэффективного алгоритма отбора полей из пар высококоррелированных, пришлось повтроно запускать расчет корреляций при исключенных полях, найденых на первой итерации."
   ]
  },
  {
   "cell_type": "code",
   "execution_count": 56,
   "id": "42aab35b-42bd-420d-9665-675c1b93687c",
   "metadata": {},
   "outputs": [],
   "source": [
    "agg_hour_corr2 = pd.read_csv('/work/data/correlation_results2.csv')"
   ]
  },
  {
   "cell_type": "code",
   "execution_count": 36,
   "id": "c87be4ed-b1e1-494d-a52e-55419c94823c",
   "metadata": {},
   "outputs": [],
   "source": [
    "# agg_hour_corr"
   ]
  },
  {
   "cell_type": "markdown",
   "id": "a6bbb75c-2c4c-4b63-a2ed-bdf1b25f00a8",
   "metadata": {},
   "source": [
    "Разделим поле col1_col2 на части"
   ]
  },
  {
   "cell_type": "code",
   "execution_count": 44,
   "id": "5c097224-b5d9-4fcb-9ea5-437eb9853044",
   "metadata": {},
   "outputs": [],
   "source": [
    "numeric_cols = [col for col in agg_hour.columns \\\n",
    "                    if agg_hour.schema[col].dataType in {IntegerType(), DoubleType()}]\n",
    "    \n",
    "def df_coff_cols_split(numeric_cols, agg_hour_corr):\n",
    "    # Цикл по парам (ct, ca)\n",
    "    for pair in tqdm(ct_ca_pairs):\n",
    "        ct_value = pair['ct']\n",
    "        ca_value = pair['ca']\n",
    "        # Перебор комбинаций столбцов с учетом порядка\n",
    "        for i in range(len(numeric_cols)):\n",
    "            for j in range(i + 1, len(numeric_cols)):\n",
    "                col1 = numeric_cols[i]\n",
    "                col2 = numeric_cols[j]\n",
    "                combined_cols = f\"{col1}_{col2}\"\n",
    "                mask = (\n",
    "                    (agg_hour_corr['ct'] == ct_value) &\n",
    "                    (agg_hour_corr['ca'] == ca_value) &\n",
    "                    (agg_hour_corr['col1_col2'] == combined_cols)\n",
    "                )\n",
    "                if mask.any():  # Проверка, содержит ли маска хотя бы одно значение True\n",
    "                    # Обновление значений col1 и col2 для строк, соответствующих маске\n",
    "                    \"\"\"\n",
    "                    Использование if mask.any(): может влиять на производительность\n",
    "                    за счет того, что позволяет пропускать обновление значений для\n",
    "                    случаев, когда маска полностью ложна, то есть когда нет строк,\n",
    "                    соответствующих условиям. Без этой проверки, метод loc будет\n",
    "                    всегда вызываться, даже если маска пустая,\n",
    "                    что может быть менее эффективно.\n",
    "    \n",
    "                    Если маска полностью ложна, вызов loc для\n",
    "                    обновления значений не имеет смысла\n",
    "    \n",
    "                    Проверка if mask.any(): выполняет проверку на уровне\n",
    "                    всей маски. Маска создается путем комбинирования\n",
    "                    трех булевых условий.\n",
    "    \n",
    "                    Проверка mask.any() возвращает True, если хотя бы\n",
    "                    одно значение в маске равно True, то есть хотя бы\n",
    "                    одна строка удовлетворяет всем трем условиям одновременно.\n",
    "                    \"\"\"\n",
    "                    agg_hour_corr.loc[mask, 'col1'] = col1\n",
    "                    agg_hour_corr.loc[mask, 'col2'] = col2"
   ]
  },
  {
   "cell_type": "code",
   "execution_count": 45,
   "id": "e28e1435-40eb-4b5c-90a9-505ea2461dcb",
   "metadata": {},
   "outputs": [
    {
     "name": "stderr",
     "output_type": "stream",
     "text": [
      "100%|██████████| 103/103 [03:32<00:00,  2.06s/it]\n"
     ]
    }
   ],
   "source": [
    "df_coff_cols_split(numeric_cols, agg_hour_corr)"
   ]
  },
  {
   "cell_type": "code",
   "execution_count": 57,
   "id": "3810f70a-e5aa-475b-9209-9d7d63133e5c",
   "metadata": {},
   "outputs": [
    {
     "name": "stderr",
     "output_type": "stream",
     "text": [
      "100%|██████████| 103/103 [02:49<00:00,  1.65s/it]\n"
     ]
    }
   ],
   "source": [
    "df_coff_cols_split(numeric_cols, agg_hour_corr2)"
   ]
  },
  {
   "cell_type": "code",
   "execution_count": 47,
   "id": "73b89429-da52-4e89-97c9-3d219f689bc4",
   "metadata": {},
   "outputs": [],
   "source": [
    "feat_corr = agg_hour_corr[agg_hour_corr['col1']!='trips_p']"
   ]
  },
  {
   "cell_type": "code",
   "execution_count": 58,
   "id": "0fa0b69e-753e-4aec-8afc-a267384f2c2a",
   "metadata": {},
   "outputs": [],
   "source": [
    "feat_corr2 = agg_hour_corr2"
   ]
  },
  {
   "cell_type": "code",
   "execution_count": 53,
   "id": "4a9aa408-8919-4244-ae61-0a1abb078b6f",
   "metadata": {},
   "outputs": [
    {
     "data": {
      "text/html": [
       "<div>\n",
       "<style scoped>\n",
       "    .dataframe tbody tr th:only-of-type {\n",
       "        vertical-align: middle;\n",
       "    }\n",
       "\n",
       "    .dataframe tbody tr th {\n",
       "        vertical-align: top;\n",
       "    }\n",
       "\n",
       "    .dataframe thead th {\n",
       "        text-align: right;\n",
       "    }\n",
       "</style>\n",
       "<table border=\"1\" class=\"dataframe\">\n",
       "  <thead>\n",
       "    <tr style=\"text-align: right;\">\n",
       "      <th></th>\n",
       "      <th>ct</th>\n",
       "      <th>ca</th>\n",
       "      <th>col1_col2</th>\n",
       "      <th>correlation</th>\n",
       "      <th>col1</th>\n",
       "      <th>col2</th>\n",
       "    </tr>\n",
       "  </thead>\n",
       "  <tbody>\n",
       "    <tr>\n",
       "      <th>1</th>\n",
       "      <td>12000000013</td>\n",
       "      <td>52</td>\n",
       "      <td>time_p_miles_p</td>\n",
       "      <td>0.798731</td>\n",
       "      <td>time_p</td>\n",
       "      <td>miles_p</td>\n",
       "    </tr>\n",
       "    <tr>\n",
       "      <th>2</th>\n",
       "      <td>12000000013</td>\n",
       "      <td>52</td>\n",
       "      <td>miles_p_velocity_p</td>\n",
       "      <td>0.846077</td>\n",
       "      <td>miles_p</td>\n",
       "      <td>velocity_p</td>\n",
       "    </tr>\n",
       "    <tr>\n",
       "      <th>3</th>\n",
       "      <td>12000000013</td>\n",
       "      <td>52</td>\n",
       "      <td>farem_p_totalm_p</td>\n",
       "      <td>0.999956</td>\n",
       "      <td>farem_p</td>\n",
       "      <td>totalm_p</td>\n",
       "    </tr>\n",
       "    <tr>\n",
       "      <th>4</th>\n",
       "      <td>12000000013</td>\n",
       "      <td>52</td>\n",
       "      <td>trips_d_time_d</td>\n",
       "      <td>0.911295</td>\n",
       "      <td>trips_d</td>\n",
       "      <td>time_d</td>\n",
       "    </tr>\n",
       "    <tr>\n",
       "      <th>5</th>\n",
       "      <td>12000000013</td>\n",
       "      <td>52</td>\n",
       "      <td>trips_d_miles_d</td>\n",
       "      <td>0.846891</td>\n",
       "      <td>trips_d</td>\n",
       "      <td>miles_d</td>\n",
       "    </tr>\n",
       "    <tr>\n",
       "      <th>...</th>\n",
       "      <td>...</td>\n",
       "      <td>...</td>\n",
       "      <td>...</td>\n",
       "      <td>...</td>\n",
       "      <td>...</td>\n",
       "      <td>...</td>\n",
       "    </tr>\n",
       "    <tr>\n",
       "      <th>3598</th>\n",
       "      <td>12000000023</td>\n",
       "      <td>46</td>\n",
       "      <td>trips_d_comp2_d</td>\n",
       "      <td>0.673939</td>\n",
       "      <td>trips_d</td>\n",
       "      <td>comp2_d</td>\n",
       "    </tr>\n",
       "    <tr>\n",
       "      <th>3599</th>\n",
       "      <td>12000000023</td>\n",
       "      <td>46</td>\n",
       "      <td>time_d_miles_d</td>\n",
       "      <td>0.907814</td>\n",
       "      <td>time_d</td>\n",
       "      <td>miles_d</td>\n",
       "    </tr>\n",
       "    <tr>\n",
       "      <th>3600</th>\n",
       "      <td>12000000023</td>\n",
       "      <td>46</td>\n",
       "      <td>time_d_comp1_d</td>\n",
       "      <td>0.735301</td>\n",
       "      <td>time_d</td>\n",
       "      <td>comp1_d</td>\n",
       "    </tr>\n",
       "    <tr>\n",
       "      <th>3601</th>\n",
       "      <td>12000000023</td>\n",
       "      <td>46</td>\n",
       "      <td>miles_d_comp1_d</td>\n",
       "      <td>0.757206</td>\n",
       "      <td>miles_d</td>\n",
       "      <td>comp1_d</td>\n",
       "    </tr>\n",
       "    <tr>\n",
       "      <th>3602</th>\n",
       "      <td>12000000023</td>\n",
       "      <td>46</td>\n",
       "      <td>farem_d_totalm_d</td>\n",
       "      <td>0.999975</td>\n",
       "      <td>farem_d</td>\n",
       "      <td>totalm_d</td>\n",
       "    </tr>\n",
       "  </tbody>\n",
       "</table>\n",
       "<p>3051 rows × 6 columns</p>\n",
       "</div>"
      ],
      "text/plain": [
       "               ct  ca           col1_col2  correlation     col1        col2\n",
       "1     12000000013  52      time_p_miles_p     0.798731   time_p     miles_p\n",
       "2     12000000013  52  miles_p_velocity_p     0.846077  miles_p  velocity_p\n",
       "3     12000000013  52    farem_p_totalm_p     0.999956  farem_p    totalm_p\n",
       "4     12000000013  52      trips_d_time_d     0.911295  trips_d      time_d\n",
       "5     12000000013  52     trips_d_miles_d     0.846891  trips_d     miles_d\n",
       "...           ...  ..                 ...          ...      ...         ...\n",
       "3598  12000000023  46     trips_d_comp2_d     0.673939  trips_d     comp2_d\n",
       "3599  12000000023  46      time_d_miles_d     0.907814   time_d     miles_d\n",
       "3600  12000000023  46      time_d_comp1_d     0.735301   time_d     comp1_d\n",
       "3601  12000000023  46     miles_d_comp1_d     0.757206  miles_d     comp1_d\n",
       "3602  12000000023  46    farem_d_totalm_d     0.999975  farem_d    totalm_d\n",
       "\n",
       "[3051 rows x 6 columns]"
      ]
     },
     "execution_count": 53,
     "metadata": {},
     "output_type": "execute_result"
    }
   ],
   "source": [
    "feat_corr"
   ]
  },
  {
   "cell_type": "code",
   "execution_count": 59,
   "id": "25d193b2-2f16-4b2c-915a-cdc68f4dd7e1",
   "metadata": {},
   "outputs": [
    {
     "data": {
      "text/html": [
       "<div>\n",
       "<style scoped>\n",
       "    .dataframe tbody tr th:only-of-type {\n",
       "        vertical-align: middle;\n",
       "    }\n",
       "\n",
       "    .dataframe tbody tr th {\n",
       "        vertical-align: top;\n",
       "    }\n",
       "\n",
       "    .dataframe thead th {\n",
       "        text-align: right;\n",
       "    }\n",
       "</style>\n",
       "<table border=\"1\" class=\"dataframe\">\n",
       "  <thead>\n",
       "    <tr style=\"text-align: right;\">\n",
       "      <th></th>\n",
       "      <th>ct</th>\n",
       "      <th>ca</th>\n",
       "      <th>col1_col2</th>\n",
       "      <th>correlation</th>\n",
       "      <th>col1</th>\n",
       "      <th>col2</th>\n",
       "    </tr>\n",
       "  </thead>\n",
       "  <tbody>\n",
       "    <tr>\n",
       "      <th>0</th>\n",
       "      <td>17031090200</td>\n",
       "      <td>6</td>\n",
       "      <td>extrasm_p_totalm_p</td>\n",
       "      <td>0.785101</td>\n",
       "      <td>extrasm_p</td>\n",
       "      <td>totalm_p</td>\n",
       "    </tr>\n",
       "    <tr>\n",
       "      <th>1</th>\n",
       "      <td>17031090200</td>\n",
       "      <td>6</td>\n",
       "      <td>comp5_p_compless5_p</td>\n",
       "      <td>0.655266</td>\n",
       "      <td>comp5_p</td>\n",
       "      <td>compless5_p</td>\n",
       "    </tr>\n",
       "    <tr>\n",
       "      <th>2</th>\n",
       "      <td>17031110200</td>\n",
       "      <td>15</td>\n",
       "      <td>extrasm_p_totalm_p</td>\n",
       "      <td>0.900503</td>\n",
       "      <td>extrasm_p</td>\n",
       "      <td>totalm_p</td>\n",
       "    </tr>\n",
       "    <tr>\n",
       "      <th>3</th>\n",
       "      <td>17031110200</td>\n",
       "      <td>15</td>\n",
       "      <td>extrasm_p_comp3_d</td>\n",
       "      <td>0.695005</td>\n",
       "      <td>extrasm_p</td>\n",
       "      <td>comp3_d</td>\n",
       "    </tr>\n",
       "    <tr>\n",
       "      <th>4</th>\n",
       "      <td>12000000016</td>\n",
       "      <td>56</td>\n",
       "      <td>tipsm_p_totalm_p</td>\n",
       "      <td>0.927432</td>\n",
       "      <td>tipsm_p</td>\n",
       "      <td>totalm_p</td>\n",
       "    </tr>\n",
       "    <tr>\n",
       "      <th>...</th>\n",
       "      <td>...</td>\n",
       "      <td>...</td>\n",
       "      <td>...</td>\n",
       "      <td>...</td>\n",
       "      <td>...</td>\n",
       "      <td>...</td>\n",
       "    </tr>\n",
       "    <tr>\n",
       "      <th>174</th>\n",
       "      <td>12000000040</td>\n",
       "      <td>20</td>\n",
       "      <td>trips_p_growth_1_to_0_velocity_p_growth_4_to_3</td>\n",
       "      <td>0.901311</td>\n",
       "      <td>trips_p_growth_1_to_0</td>\n",
       "      <td>velocity_p_growth_4_to_3</td>\n",
       "    </tr>\n",
       "    <tr>\n",
       "      <th>175</th>\n",
       "      <td>12000000009</td>\n",
       "      <td>35</td>\n",
       "      <td>tollsm_p_tollsm_d</td>\n",
       "      <td>1.000000</td>\n",
       "      <td>tollsm_p</td>\n",
       "      <td>tollsm_d</td>\n",
       "    </tr>\n",
       "    <tr>\n",
       "      <th>176</th>\n",
       "      <td>12000000015</td>\n",
       "      <td>67</td>\n",
       "      <td>trips_d_growth_2_to_1_velocity_d_growth_2_to_1</td>\n",
       "      <td>0.852480</td>\n",
       "      <td>trips_d_growth_2_to_1</td>\n",
       "      <td>velocity_d_growth_2_to_1</td>\n",
       "    </tr>\n",
       "    <tr>\n",
       "      <th>177</th>\n",
       "      <td>12000000015</td>\n",
       "      <td>67</td>\n",
       "      <td>trips_d_growth_3_to_2_velocity_d_growth_3_to_2</td>\n",
       "      <td>0.915486</td>\n",
       "      <td>trips_d_growth_3_to_2</td>\n",
       "      <td>velocity_d_growth_3_to_2</td>\n",
       "    </tr>\n",
       "    <tr>\n",
       "      <th>178</th>\n",
       "      <td>12000000021</td>\n",
       "      <td>21</td>\n",
       "      <td>totalm_d_velocity_d_growth_3_to_2</td>\n",
       "      <td>-0.711004</td>\n",
       "      <td>totalm_d</td>\n",
       "      <td>velocity_d_growth_3_to_2</td>\n",
       "    </tr>\n",
       "  </tbody>\n",
       "</table>\n",
       "<p>179 rows × 6 columns</p>\n",
       "</div>"
      ],
      "text/plain": [
       "              ct  ca                                       col1_col2  \\\n",
       "0    17031090200   6                              extrasm_p_totalm_p   \n",
       "1    17031090200   6                             comp5_p_compless5_p   \n",
       "2    17031110200  15                              extrasm_p_totalm_p   \n",
       "3    17031110200  15                               extrasm_p_comp3_d   \n",
       "4    12000000016  56                                tipsm_p_totalm_p   \n",
       "..           ...  ..                                             ...   \n",
       "174  12000000040  20  trips_p_growth_1_to_0_velocity_p_growth_4_to_3   \n",
       "175  12000000009  35                               tollsm_p_tollsm_d   \n",
       "176  12000000015  67  trips_d_growth_2_to_1_velocity_d_growth_2_to_1   \n",
       "177  12000000015  67  trips_d_growth_3_to_2_velocity_d_growth_3_to_2   \n",
       "178  12000000021  21               totalm_d_velocity_d_growth_3_to_2   \n",
       "\n",
       "     correlation                   col1                      col2  \n",
       "0       0.785101              extrasm_p                  totalm_p  \n",
       "1       0.655266                comp5_p               compless5_p  \n",
       "2       0.900503              extrasm_p                  totalm_p  \n",
       "3       0.695005              extrasm_p                   comp3_d  \n",
       "4       0.927432                tipsm_p                  totalm_p  \n",
       "..           ...                    ...                       ...  \n",
       "174     0.901311  trips_p_growth_1_to_0  velocity_p_growth_4_to_3  \n",
       "175     1.000000               tollsm_p                  tollsm_d  \n",
       "176     0.852480  trips_d_growth_2_to_1  velocity_d_growth_2_to_1  \n",
       "177     0.915486  trips_d_growth_3_to_2  velocity_d_growth_3_to_2  \n",
       "178    -0.711004               totalm_d  velocity_d_growth_3_to_2  \n",
       "\n",
       "[179 rows x 6 columns]"
      ]
     },
     "execution_count": 59,
     "metadata": {},
     "output_type": "execute_result"
    }
   ],
   "source": [
    "feat_corr2"
   ]
  },
  {
   "cell_type": "code",
   "execution_count": 27,
   "id": "baaf2198-4db3-41f3-91c4-d2a3a339f2ba",
   "metadata": {},
   "outputs": [],
   "source": [
    "# Группировка по уникальным парам col1 и col2 и подсчет количества строк для каждой пары\n",
    "# count_feat_corr = feat_corr.groupby(['col1', 'col2']).agg(\n",
    "#     count=('correlation', 'size'),\n",
    "#     min_corr=('correlation', 'min'),\n",
    "#     max_corr=('correlation', 'max'),\n",
    "#     avg_corr=('correlation', 'mean'),\n",
    "#     med_corr=('correlation', 'median')\n",
    "# ).reset_index().sort_values(by='count', ascending=False)"
   ]
  },
  {
   "cell_type": "code",
   "execution_count": null,
   "id": "f7026014-2d9e-4f18-b256-03da36640cbe",
   "metadata": {},
   "outputs": [],
   "source": [
    "# with pd.option_context('display.max_rows', None):\n",
    "#     display(count_feat_corr)\n",
    "# После выхода из контекста опции сбросятся автоматически\n",
    "\n",
    "# Если нужно явно сбросить настройки, можно использовать:\n",
    "# pd.reset_option('display.max_rows')"
   ]
  },
  {
   "cell_type": "markdown",
   "id": "f51fdcc6-075d-4f79-8f16-137847005d24",
   "metadata": {},
   "source": [
    "Пройдем по всем парам ct,ca. и сформируем словарь исключаемых полей\n",
    "{(ct,ca):[список исключаемых полей]}\n",
    "[список исключаемых полей] формируется следующим образом\n",
    "для данной пары в каждой строке дф feat_corr смотрим значение корреляции, если оно больше cutoff, то берем значение поля col1, если его нет в списке исключаемых полей для данной пары, то добавляем его туда"
   ]
  },
  {
   "cell_type": "code",
   "execution_count": 60,
   "id": "37ed28bd-8250-411c-b870-4527187088f6",
   "metadata": {},
   "outputs": [],
   "source": [
    "cutoff = 0.65\n",
    "\n",
    "def get_hifh_corr_fields(feat_corr):\n",
    "    # Словарь для хранения исключаемых полей по каждой паре (ct, ca)\n",
    "    excluded_fields = defaultdict(list)\n",
    "    \n",
    "    # Проходимся по каждой паре (ct, ca)\n",
    "    for index, row in feat_corr.iterrows():\n",
    "        ct = row['ct']\n",
    "        ca = row['ca']\n",
    "        correlation = row['correlation']\n",
    "        col1 = row['col1']\n",
    "        \n",
    "        # Проверяем условие корреляции и добавляем поле col1 в исключаемые поля для пары (ct, ca)\n",
    "        if correlation > cutoff:\n",
    "            if col1 not in excluded_fields[(ct, ca)]:\n",
    "                excluded_fields[(ct, ca)].append(col1)\n",
    "    \n",
    "    # Преобразуем defaultdict в обычный словарь, если нужно\n",
    "    excluded_fields = dict(excluded_fields)\n",
    "    return excluded_fields"
   ]
  },
  {
   "cell_type": "code",
   "execution_count": 64,
   "id": "b9c559a0-9e63-4d12-be0d-7ef628d4629e",
   "metadata": {},
   "outputs": [],
   "source": [
    "excluded_fields = get_hifh_corr_fields(feat_corr)"
   ]
  },
  {
   "cell_type": "code",
   "execution_count": 65,
   "id": "c9ad39f5-b0a9-4ad1-a266-3b2a1fe38f6e",
   "metadata": {},
   "outputs": [],
   "source": [
    "da = DictAnalyzer()"
   ]
  },
  {
   "cell_type": "code",
   "execution_count": 66,
   "id": "e726e509-d52d-4c66-8ec8-15439eb5e9bb",
   "metadata": {},
   "outputs": [
    {
     "name": "stdout",
     "output_type": "stream",
     "text": [
      "{\n",
      "    (12000000013, 52): ['time_p', 'miles_p', 'farem_p', 'trips_d', 'time_d', 'miles_d', 'farem_d', 'trips_d_growth_1_to_0', 'trips_d_growth_2_to_1', 'trips_d_growth_3_to_2', 'trips_d_growth_4_to_3']\n",
      "    (17031260700, 64): ['time_p', 'farem_p', 'tipsm_p', 'trips_d', 'time_d', 'farem_d', 'tipsm_d', 'trips_p_growth_1_to_0', 'trips_d_growth_1_to_0']\n",
      "    (17031839500, 71): ['time_p', 'farem_p', 'trips_d', 'time_d', 'miles_d', 'farem_d']\n",
      "}\n"
     ]
    }
   ],
   "source": [
    "da.print_dict(dict(islice(excluded_fields.items(), 3)))"
   ]
  },
  {
   "cell_type": "code",
   "execution_count": 67,
   "id": "9ae27563-a2fb-4ae3-9980-d77476dfc6f7",
   "metadata": {},
   "outputs": [
    {
     "data": {
      "text/plain": [
       "103"
      ]
     },
     "execution_count": 67,
     "metadata": {},
     "output_type": "execute_result"
    }
   ],
   "source": [
    "len(excluded_fields)"
   ]
  },
  {
   "cell_type": "code",
   "execution_count": 68,
   "id": "fe00ecbd-565e-4375-b73e-b2709002f1e7",
   "metadata": {},
   "outputs": [],
   "source": [
    "excluded_fields2 = get_hifh_corr_fields(feat_corr2)"
   ]
  },
  {
   "cell_type": "code",
   "execution_count": 69,
   "id": "b3706cf5-a316-4f1c-8609-ebf543ff1771",
   "metadata": {},
   "outputs": [
    {
     "name": "stdout",
     "output_type": "stream",
     "text": [
      "{\n",
      "    (17031090200, 6): ['extrasm_p', 'comp5_p']\n",
      "    (17031110200, 15): ['extrasm_p']\n",
      "    (12000000016, 56): ['tipsm_p', 'tipsm_d']\n",
      "}\n"
     ]
    }
   ],
   "source": [
    "da.print_dict(dict(islice(excluded_fields2.items(), 3)))"
   ]
  },
  {
   "cell_type": "code",
   "execution_count": 70,
   "id": "f1627391-abb4-4adb-961c-d2899473f880",
   "metadata": {},
   "outputs": [],
   "source": [
    "def merge_excluded_fields(excluded_fields, excluded_fields2):\n",
    "    for key, fields in excluded_fields2.items():\n",
    "        if key in excluded_fields:\n",
    "            # Добавляем только те поля, которые отсутствуют в списке excluded_fields[key]\n",
    "            excluded_fields[key].extend([field for field in fields if field not in excluded_fields[key]])\n",
    "        else:\n",
    "            # Если ключа нет в excluded_fields, добавляем его с соответствующим списком\n",
    "            excluded_fields[key] = fields\n",
    "    return excluded_fields"
   ]
  },
  {
   "cell_type": "code",
   "execution_count": 71,
   "id": "60e7dca8-b719-4ab6-b6a0-f42f919424f3",
   "metadata": {},
   "outputs": [],
   "source": [
    "merged_excluded_fields = merge_excluded_fields(excluded_fields, excluded_fields2)"
   ]
  },
  {
   "cell_type": "code",
   "execution_count": 74,
   "id": "69af3e43-3538-4b2f-9fa8-f0d0e89d708f",
   "metadata": {},
   "outputs": [],
   "source": [
    "def save_excuded_fields(excluded_fields, file_name):\n",
    "    data = []\n",
    "    for (ct, ca), fields in excluded_fields.items():\n",
    "        for field in fields:\n",
    "            data.append([ct, ca, field])\n",
    "    \n",
    "    df = pd.DataFrame(data, columns=['ct', 'ca', 'excluded_field'])\n",
    "    df.to_csv(file_name, index=False)"
   ]
  },
  {
   "cell_type": "code",
   "execution_count": 75,
   "id": "b5418ccd-6cc8-4c8c-9cba-24fd49d2100d",
   "metadata": {},
   "outputs": [],
   "source": [
    "save_excuded_fields(merged_excluded_fields,'/work/data/excluded_fields.csv')"
   ]
  },
  {
   "cell_type": "code",
   "execution_count": 76,
   "id": "8bdae2d7-8b16-4707-966d-6b83e15c9135",
   "metadata": {},
   "outputs": [],
   "source": [
    "excl_f = pd.read_csv('/work/data/excluded_fields.csv')"
   ]
  },
  {
   "cell_type": "code",
   "execution_count": 80,
   "id": "d3db3af7-e825-4568-b711-a9fd2434cfbe",
   "metadata": {},
   "outputs": [],
   "source": [
    "# Функция для преобразования DataFrame в словарь\n",
    "def get_excuded_fields_to_dict(df):\n",
    "    excluded_fields_tot = {}\n",
    "    grouped = df.groupby(['ct', 'ca'])\n",
    "    for (ct, ca), group in grouped:\n",
    "        excluded_fields_tot[(ct, ca)] = group['excluded_field'].tolist()\n",
    "    return excluded_fields_tot"
   ]
  },
  {
   "cell_type": "code",
   "execution_count": 81,
   "id": "1f8afe7e-4736-430c-a597-71eb61c6a7d6",
   "metadata": {},
   "outputs": [],
   "source": [
    "excluded_fields_tot = get_excuded_fields_to_dict(excl_f)"
   ]
  },
  {
   "cell_type": "code",
   "execution_count": 82,
   "id": "0a974c60-8161-4c21-9f67-438d203bca1b",
   "metadata": {},
   "outputs": [
    {
     "name": "stdout",
     "output_type": "stream",
     "text": [
      "{\n",
      "    (10000000000, 91): ['time_p', 'miles_p', 'farem_p', 'comp1_p', 'comp3_p', 'comp4_p', 'comp5_p', 'extrasm_p']\n",
      "    (12000000001, 53): ['time_p', 'farem_p', 'trips_d', 'time_d', 'miles_d', 'farem_d', 'totalm_p', 'velocity_p_growth_3_to_2']\n",
      "    (12000000002, 75): ['time_p', 'miles_p', 'farem_p', 'tipsm_p', 'comp5_p', 'trips_d', 'time_d', 'miles_d', 'farem_d', 'tipsm_d', 'comp4_p']\n",
      "}\n"
     ]
    }
   ],
   "source": [
    "da.print_dict(dict(islice(excluded_fields_tot.items(), 3)))"
   ]
  },
  {
   "cell_type": "markdown",
   "id": "0fab429d-b219-4826-aab2-bbcaee4526ed",
   "metadata": {},
   "source": [
    "Будем считать, что от мультиколлинеарности в линейных моделях с помощью исключения этих полей получится избавиться."
   ]
  },
  {
   "cell_type": "markdown",
   "id": "8aea94c1-b262-4b2c-831a-ee7d36130f48",
   "metadata": {},
   "source": [
    "## Выделение значимых частот"
   ]
  },
  {
   "cell_type": "code",
   "execution_count": null,
   "id": "743a9a0a-5ffe-4b48-b4ff-03b8cf357de8",
   "metadata": {},
   "outputs": [],
   "source": []
  }
 ],
 "metadata": {
  "kernelspec": {
   "display_name": "Python 3 (ipykernel)",
   "language": "python",
   "name": "python3"
  },
  "language_info": {
   "codemirror_mode": {
    "name": "ipython",
    "version": 3
   },
   "file_extension": ".py",
   "mimetype": "text/x-python",
   "name": "python",
   "nbconvert_exporter": "python",
   "pygments_lexer": "ipython3",
   "version": "3.11.4"
  }
 },
 "nbformat": 4,
 "nbformat_minor": 5
}
