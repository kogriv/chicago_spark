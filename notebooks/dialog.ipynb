{
 "cells": [
  {
   "cell_type": "code",
   "execution_count": 61,
   "id": "2426dbde-ecde-445a-8aca-845391a3f3ed",
   "metadata": {},
   "outputs": [
    {
     "data": {
      "application/vnd.jupyter.widget-view+json": {
       "model_id": "db5f678bca7845f9812fc0bf67838c28",
       "version_major": 2,
       "version_minor": 0
      },
      "text/plain": [
       "VBox(children=(Text(value='', placeholder='Введите ваш вопрос или ответ...'), Output()))"
      ]
     },
     "metadata": {},
     "output_type": "display_data"
    }
   ],
   "source": [
    "import ipywidgets as widgets\n",
    "from IPython.display import display, clear_output\n",
    "\n",
    "# Создание виджета вывода\n",
    "output = widgets.Output()\n",
    "\n",
    "# Функция для обработки ввода пользователя\n",
    "def on_value_change(change):\n",
    "    if change['type'] == 'change' and change['name'] == 'value':\n",
    "        response = \"Вы сказали: \" + change['new']\n",
    "        with output:\n",
    "            output.clear_output()  # Очистить предыдущее содержимое\n",
    "            display(widgets.HTML(value=f\"<p>{response}</p>\"))\n",
    "        text_input.value = ''  # Очистить текстовое поле\n",
    "\n",
    "# Создание текстового поля для ввода\n",
    "text_input = widgets.Text(placeholder='Введите ваш вопрос или ответ...')\n",
    "text_input.observe(on_value_change, names='value')\n",
    "\n",
    "# Создание вертикального бокса для размещения текстового поля и вывода\n",
    "vbox = widgets.VBox([text_input, output])\n",
    "\n",
    "# Отображение бокса\n",
    "display(vbox)"
   ]
  },
  {
   "cell_type": "code",
   "execution_count": 55,
   "id": "6767ea98-3a75-470e-bcdf-99a255669ba1",
   "metadata": {},
   "outputs": [
    {
     "data": {
      "application/vnd.jupyter.widget-view+json": {
       "model_id": "d50cd58fceba4306b051cea8309e5980",
       "version_major": 2,
       "version_minor": 0
      },
      "text/plain": [
       "Text(value='', layout=Layout(width='500px'), placeholder='Введите ваш вопрос или ответ...')"
      ]
     },
     "metadata": {},
     "output_type": "display_data"
    },
    {
     "data": {
      "application/vnd.jupyter.widget-view+json": {
       "model_id": "5efb84d9df14427cb0847146802b4ec8",
       "version_major": 2,
       "version_minor": 0
      },
      "text/plain": [
       "Output()"
      ]
     },
     "metadata": {},
     "output_type": "display_data"
    },
    {
     "data": {
      "application/vnd.jupyter.widget-view+json": {
       "model_id": "2191c9898c854757bbc1d042fe7d1ceb",
       "version_major": 2,
       "version_minor": 0
      },
      "text/plain": [
       "HTML(value='<script>\\nvar text_input = document.querySelector(\\'input[type=\"text\"]\\');\\ntext_input.onkeydown =…"
      ]
     },
     "metadata": {},
     "output_type": "display_data"
    }
   ],
   "source": [
    "import ipywidgets as widgets\n",
    "from IPython.display import display, clear_output\n",
    "\n",
    "# Создание виджета вывода\n",
    "output = widgets.Output()\n",
    "\n",
    "# Функция для обработки ввода пользователя\n",
    "def on_submit(change):\n",
    "    if change['new']:\n",
    "        response = \"Вы сказали: \" + change['new']\n",
    "        with output:\n",
    "            clear_output(wait=True)  # Очистить предыдущее содержимое\n",
    "            display(widgets.HTML(value=f\"<p>{response}</p>\"))\n",
    "        text_input.value = ''  # Очистить текстовое поле\n",
    "\n",
    "# Создание текстового поля для ввода\n",
    "text_input = widgets.Text(placeholder='Введите ваш вопрос или ответ...')\n",
    "\n",
    "# Подключение обработчика событий к текстовому полю\n",
    "def handle_key_event(event):\n",
    "    if event['type'] == 'keydown' and (event['key'] == 'Enter' and not event['shiftKey']):\n",
    "        text_input.value += '\\n' if event['shiftKey'] else ''\n",
    "        on_submit({'new': text_input.value})\n",
    "\n",
    "# Добавление JavaScript для обработки нажатия клавиш\n",
    "text_input.layout = widgets.Layout(width='500px')\n",
    "display(text_input)\n",
    "display(output)\n",
    "\n",
    "js_code = \"\"\"\n",
    "var text_input = document.querySelector('input[type=\"text\"]');\n",
    "text_input.onkeydown = function(event) {\n",
    "    if (event.key === 'Enter' && !event.shiftKey) {\n",
    "        var input_event = new CustomEvent('input', { detail: text_input.value });\n",
    "        text_input.dispatchEvent(input_event);\n",
    "        text_input.value = '';\n",
    "    }\n",
    "}\n",
    "\"\"\"\n",
    "display(widgets.HTML('<script>' + js_code + '</script>'))\n",
    "\n",
    "# Обработка изменения значения текстового поля\n",
    "text_input.observe(on_submit, names='value')\n"
   ]
  },
  {
   "cell_type": "code",
   "execution_count": null,
   "id": "7cbc96f3-233a-464e-8a62-bb635658de0c",
   "metadata": {},
   "outputs": [],
   "source": []
  },
  {
   "cell_type": "code",
   "execution_count": 46,
   "id": "e36e4baa-7bf0-43f1-ab27-f051e8158a42",
   "metadata": {},
   "outputs": [
    {
     "data": {
      "application/javascript": [
       "\n",
       "document.querySelector('input[type=\"text\"]').addEventListener('keydown', function(event) {\n",
       "    if (event.key === 'Enter' && !event.shiftKey) {\n",
       "        var input_field = this;\n",
       "        var value = input_field.value;\n",
       "        var kernel = IPython.notebook.kernel;\n",
       "        kernel.execute(\"handle_key_event({'type': 'keydown', 'key': 'Enter', 'shiftKey': false, 'new': `\" + value + \"`})\");\n",
       "    }\n",
       "});\n"
      ],
      "text/plain": [
       "<IPython.core.display.Javascript object>"
      ]
     },
     "metadata": {},
     "output_type": "display_data"
    },
    {
     "data": {
      "application/vnd.jupyter.widget-view+json": {
       "model_id": "7f8bd43544ae4cf4a24744fb78d057ba",
       "version_major": 2,
       "version_minor": 0
      },
      "text/plain": [
       "VBox(children=(Text(value='', placeholder='Введите ваш вопрос или ответ...'), Output()))"
      ]
     },
     "metadata": {},
     "output_type": "display_data"
    }
   ],
   "source": [
    "import ipywidgets as widgets\n",
    "from IPython.display import display, clear_output, Javascript\n",
    "\n",
    "# Создание виджета вывода\n",
    "output = widgets.Output()\n",
    "\n",
    "# Функция для обработки ввода пользователя\n",
    "def on_submit(change):\n",
    "    response = \"Вы сказали: \" + change['new']\n",
    "    with output:\n",
    "        clear_output(wait=True)  # Очистить предыдущее содержимое\n",
    "        display(widgets.HTML(value=f\"<p>{response}</p>\"))\n",
    "\n",
    "# Создание текстового поля для ввода\n",
    "text_input = widgets.Text(placeholder='Введите ваш вопрос или ответ...')\n",
    "\n",
    "# Функция для обработки события нажатия клавиши\n",
    "def handle_key_event(event):\n",
    "    if event['type'] == 'keydown' and event['key'] == 'Enter' and not event['shiftKey']:\n",
    "        on_submit({'new': text_input.value})\n",
    "        text_input.value = ''  # Очистить текстовое поле\n",
    "\n",
    "# Добавление JavaScript для обработки нажатия клавиш\n",
    "js_code = \"\"\"\n",
    "document.querySelector('input[type=\"text\"]').addEventListener('keydown', function(event) {\n",
    "    if (event.key === 'Enter' && !event.shiftKey) {\n",
    "        var input_field = this;\n",
    "        var value = input_field.value;\n",
    "        var kernel = IPython.notebook.kernel;\n",
    "        kernel.execute(\"handle_key_event({'type': 'keydown', 'key': 'Enter', 'shiftKey': false, 'new': `\" + value + \"`})\");\n",
    "    }\n",
    "});\n",
    "\"\"\"\n",
    "\n",
    "display(Javascript(js_code))\n",
    "\n",
    "# Создание вертикального бокса для размещения текстового поля и вывода\n",
    "vbox = widgets.VBox([text_input, output])\n",
    "\n",
    "# Отображение бокса\n",
    "display(vbox)\n"
   ]
  },
  {
   "cell_type": "code",
   "execution_count": null,
   "id": "e5dc5b7f-8b7e-4a8f-8fb1-c2949791a02c",
   "metadata": {},
   "outputs": [],
   "source": []
  },
  {
   "cell_type": "code",
   "execution_count": 22,
   "id": "b48d4a15-d26b-4c64-bd31-d3347634a860",
   "metadata": {},
   "outputs": [
    {
     "data": {
      "application/vnd.jupyter.widget-view+json": {
       "model_id": "2377e3283f4947778fd885ae4e5d5359",
       "version_major": 2,
       "version_minor": 0
      },
      "text/plain": [
       "VBox(children=(Text(value='', placeholder='Введите ваш вопрос или ответ...'), Output()))"
      ]
     },
     "metadata": {},
     "output_type": "display_data"
    },
    {
     "data": {
      "application/javascript": [
       "\n",
       "document.querySelector('input[type=\"text\"]').addEventListener('keydown', function(event) {\n",
       "    if (event.key === 'Enter' && !event.shiftKey) {\n",
       "        var input_field = this;\n",
       "        var value = input_field.value;\n",
       "        if (value) {\n",
       "            var kernel = IPython.notebook.kernel;\n",
       "            kernel.execute(\"handle_input('''\" + value + \"''')\");\n",
       "            input_field.value = '';\n",
       "        }\n",
       "    }\n",
       "});\n"
      ],
      "text/plain": [
       "<IPython.core.display.Javascript object>"
      ]
     },
     "metadata": {},
     "output_type": "display_data"
    }
   ],
   "source": [
    "import ipywidgets as widgets\n",
    "from IPython.display import display, clear_output, Javascript\n",
    "\n",
    "# Создание виджета вывода\n",
    "output = widgets.Output()\n",
    "\n",
    "# Функция для обработки ввода пользователя\n",
    "def handle_input(text):\n",
    "    response = \"Вы сказали: \" + text\n",
    "    with output:\n",
    "        clear_output(wait=True)  # Очистить предыдущее содержимое\n",
    "        display(widgets.HTML(value=f\"<p>{response}</p>\"))\n",
    "\n",
    "# Создание текстового поля для ввода\n",
    "text_input = widgets.Text(placeholder='Введите ваш вопрос или ответ...')\n",
    "\n",
    "# Создание вертикального бокса для размещения текстового поля и вывода\n",
    "vbox = widgets.VBox([text_input, output])\n",
    "\n",
    "# Отображение бокса\n",
    "display(vbox)\n",
    "\n",
    "# Добавление JavaScript для обработки нажатия клавиш\n",
    "js_code = \"\"\"\n",
    "document.querySelector('input[type=\"text\"]').addEventListener('keydown', function(event) {\n",
    "    if (event.key === 'Enter' && !event.shiftKey) {\n",
    "        var input_field = this;\n",
    "        var value = input_field.value;\n",
    "        if (value) {\n",
    "            var kernel = IPython.notebook.kernel;\n",
    "            kernel.execute(\"handle_input('''\" + value + \"''')\");\n",
    "            input_field.value = '';\n",
    "        }\n",
    "    }\n",
    "});\n",
    "\"\"\"\n",
    "\n",
    "display(Javascript(js_code))\n"
   ]
  },
  {
   "cell_type": "code",
   "execution_count": 52,
   "id": "c0de6b4b-7f40-4585-9fc3-d064e577e29b",
   "metadata": {},
   "outputs": [
    {
     "data": {
      "application/vnd.jupyter.widget-view+json": {
       "model_id": "11cd1516fe8849bf878dda6c08d51a06",
       "version_major": 2,
       "version_minor": 0
      },
      "text/plain": [
       "VBox(children=(Text(value='', placeholder='Введите ваш вопрос или ответ...'), Output()))"
      ]
     },
     "metadata": {},
     "output_type": "display_data"
    },
    {
     "data": {
      "application/javascript": [
       "\n",
       "var input = document.querySelector('input[type=\"text\"]');\n",
       "input.addEventListener('keydown', function(event) {\n",
       "    if (event.key === 'Enter' && !event.shiftKey) {\n",
       "        var value = input.value;\n",
       "        if (value) {\n",
       "            var kernel = IPython.notebook.kernel;\n",
       "            kernel.execute(\"handle_input('\" + value.replace(/'/g, \"\\'\") + \"')\");\n",
       "            input.value = '';\n",
       "        }\n",
       "    }\n",
       "});\n"
      ],
      "text/plain": [
       "<IPython.core.display.Javascript object>"
      ]
     },
     "metadata": {},
     "output_type": "display_data"
    }
   ],
   "source": [
    "import ipywidgets as widgets\n",
    "from IPython.display import display, clear_output, Javascript\n",
    "\n",
    "# Создание виджета вывода\n",
    "output = widgets.Output()\n",
    "\n",
    "# Функция для обработки ввода пользователя\n",
    "def handle_input(text):\n",
    "    response = \"Вы сказали: \" + text\n",
    "    with output:\n",
    "        clear_output(wait=True)  # Очистить предыдущее содержимое\n",
    "        display(widgets.HTML(value=f\"<p>{response}</p>\"))\n",
    "\n",
    "# Создание текстового поля для ввода\n",
    "text_input = widgets.Text(placeholder='Введите ваш вопрос или ответ...')\n",
    "\n",
    "# Создание вертикального бокса для размещения текстового поля и вывода\n",
    "vbox = widgets.VBox([text_input, output])\n",
    "\n",
    "# Отображение бокса\n",
    "display(vbox)\n",
    "\n",
    "# Добавление JavaScript для обработки нажатия клавиш\n",
    "js_code = \"\"\"\n",
    "var input = document.querySelector('input[type=\"text\"]');\n",
    "input.addEventListener('keydown', function(event) {\n",
    "    if (event.key === 'Enter' && !event.shiftKey) {\n",
    "        var value = input.value;\n",
    "        if (value) {\n",
    "            var kernel = IPython.notebook.kernel;\n",
    "            kernel.execute(\"handle_input('\" + value.replace(/'/g, \"\\\\'\") + \"')\");\n",
    "            input.value = '';\n",
    "        }\n",
    "    }\n",
    "});\n",
    "\"\"\"\n",
    "\n",
    "display(Javascript(js_code))\n"
   ]
  },
  {
   "cell_type": "code",
   "execution_count": 125,
   "id": "789a1b56-bed5-4722-b140-ea13468e61d9",
   "metadata": {},
   "outputs": [
    {
     "data": {
      "application/vnd.jupyter.widget-view+json": {
       "model_id": "3a8e597ffdc04e41927575814e003f71",
       "version_major": 2,
       "version_minor": 0
      },
      "text/plain": [
       "Text(value='', layout=Layout(width='500px'), placeholder='Введите ваш вопрос или ответ...')"
      ]
     },
     "metadata": {},
     "output_type": "display_data"
    },
    {
     "data": {
      "application/vnd.jupyter.widget-view+json": {
       "model_id": "ce43c0bfccd347f0b5e75ccaf8c7e6d5",
       "version_major": 2,
       "version_minor": 0
      },
      "text/plain": [
       "Output()"
      ]
     },
     "metadata": {},
     "output_type": "display_data"
    },
    {
     "data": {
      "application/vnd.jupyter.widget-view+json": {
       "model_id": "aa4715ff51024bc79c8a44d9d01f3bdc",
       "version_major": 2,
       "version_minor": 0
      },
      "text/plain": [
       "HTML(value='<script>\\nvar text_input = document.querySelector(\\'input[type=\"text\"]\\');\\ntext_input.addEventLis…"
      ]
     },
     "metadata": {},
     "output_type": "display_data"
    }
   ],
   "source": [
    "import ipywidgets as widgets\n",
    "from IPython.display import display, clear_output\n",
    "\n",
    "# Создание виджета вывода\n",
    "output = widgets.Output()\n",
    "\n",
    "# Функция для обработки ввода пользователя\n",
    "def on_submit(change):\n",
    "    if change['new']:\n",
    "        response = \"Вы сказали <[8>: \" + change['new']\n",
    "        with output:\n",
    "            clear_output(wait=True)  # Очистить предыдущее содержимое\n",
    "            display(widgets.HTML(value=f\"<p>{response}</p>\"))\n",
    "        text_input.value = ''  # Очистить текстовое поле\n",
    "\n",
    "# Создание текстового поля для ввода\n",
    "text_input = widgets.Text(placeholder='Введите ваш вопрос или ответ...')\n",
    "\n",
    "# Подключение обработчика событий к текстовому полю\n",
    "def handle_key_event(event):\n",
    "    if event['type'] == 'keydown' and (event['key'] == 'Enter' and event['shiftKey']):\n",
    "        text_input.value += '\\n'\n",
    "        on_submit({'new': text_input.value})\n",
    "\n",
    "# Добавление JavaScript для обработки нажатия клавиш\n",
    "text_input.layout = widgets.Layout(width='500px')\n",
    "display(text_input)\n",
    "display(output)\n",
    "\n",
    "js_code = \"\"\"\n",
    "var text_input = document.querySelector('input[type=\"text\"]');\n",
    "text_input.addEventListener('keydown', function(event) {\n",
    "    if (event.key === 'Enter' && event.ctrlKey) {\n",
    "        var input_event = new CustomEvent('input', { detail: text_input.value });\n",
    "        text_input.dispatchEvent(input_event);\n",
    "        text_input.value = '';\n",
    "    }\n",
    "});\n",
    "\"\"\"\n",
    "display(widgets.HTML('<script>' + js_code + '</script>'))\n",
    "\n",
    "# Обработка изменения значения текстового поля\n",
    "text_input.observe(on_submit, names='value')\n",
    "\n"
   ]
  },
  {
   "cell_type": "code",
   "execution_count": 123,
   "id": "9b88e567-d332-48b2-a54d-23e1031ea495",
   "metadata": {},
   "outputs": [
    {
     "data": {
      "application/vnd.jupyter.widget-view+json": {
       "model_id": "1abd5d0ec4f84fb7b349d90d50b9ca54",
       "version_major": 2,
       "version_minor": 0
      },
      "text/plain": [
       "Text(value='', layout=Layout(width='500px'), placeholder='Введите ваш вопрос или ответ...')"
      ]
     },
     "metadata": {},
     "output_type": "display_data"
    }
   ],
   "source": [
    "display(text_input)"
   ]
  },
  {
   "cell_type": "code",
   "execution_count": 126,
   "id": "68f5392c-4e95-469e-adb2-a5ad0e8bfcda",
   "metadata": {},
   "outputs": [
    {
     "data": {
      "application/vnd.jupyter.widget-view+json": {
       "model_id": "ce43c0bfccd347f0b5e75ccaf8c7e6d5",
       "version_major": 2,
       "version_minor": 0
      },
      "text/plain": [
       "Output(outputs=({'output_type': 'display_data', 'data': {'text/plain': \"HTML(value='<p>Вы сказали <[8>: sdfff<…"
      ]
     },
     "metadata": {},
     "output_type": "display_data"
    }
   ],
   "source": [
    "display(output)"
   ]
  },
  {
   "cell_type": "code",
   "execution_count": 144,
   "id": "ae7391a1-a6d9-494c-b699-d9411b8ba81d",
   "metadata": {},
   "outputs": [
    {
     "data": {
      "application/vnd.jupyter.widget-view+json": {
       "model_id": "f937cf0f701348c5ad5b03e207bfb3b0",
       "version_major": 2,
       "version_minor": 0
      },
      "text/plain": [
       "Text(value='', placeholder='Введите ваш вопрос или ответ...')"
      ]
     },
     "metadata": {},
     "output_type": "display_data"
    },
    {
     "data": {
      "application/vnd.jupyter.widget-view+json": {
       "model_id": "a908a7ac66064fd1bd4153acc27a481e",
       "version_major": 2,
       "version_minor": 0
      },
      "text/plain": [
       "Output()"
      ]
     },
     "metadata": {},
     "output_type": "display_data"
    }
   ],
   "source": [
    "import ipywidgets as widgets\n",
    "from IPython.display import display, clear_output\n",
    "\n",
    "# Создание виджета вывода\n",
    "output = widgets.Output()\n",
    "\n",
    "# Функция для обработки ввода пользователя\n",
    "def on_submit(change):\n",
    "    if change['name'] == 'value' and change['new'].endswith(' e'):\n",
    "        response = \"Вы сказали: \" + change['new'].rstrip('\\n')\n",
    "        with output:\n",
    "            clear_output(wait=True)  # Очистить предыдущее содержимое\n",
    "            display(widgets.HTML(value=f\"<p>{response}</p>\"))\n",
    "            text_input.value = ''  # Очистить текстовое поле\n",
    "\n",
    "# Создание текстового поля для ввода\n",
    "text_input = widgets.Text(placeholder='Введите ваш вопрос или ответ...')\n",
    "\n",
    "# Добавление обработчика изменения текстового поля\n",
    "def handle_text_change(change):\n",
    "    if change['new'].endswith('\\n'):\n",
    "        on_submit({'new': change['new'].rstrip('\\n')})\n",
    "        text_input.value = ''\n",
    "\n",
    "text_input.observe(handle_text_change, names='value')\n",
    "\n",
    "# Отображение виджетов\n",
    "display(text_input)\n",
    "display(output)\n"
   ]
  },
  {
   "cell_type": "code",
   "execution_count": 142,
   "id": "4643c672-0394-4b6f-a704-3bd7c396b9ce",
   "metadata": {},
   "outputs": [
    {
     "data": {
      "application/vnd.jupyter.widget-view+json": {
       "model_id": "400831c6344c4dfcaa9cbf9b891796e0",
       "version_major": 2,
       "version_minor": 0
      },
      "text/plain": [
       "Output()"
      ]
     },
     "metadata": {},
     "output_type": "display_data"
    }
   ],
   "source": [
    "display(output)"
   ]
  },
  {
   "cell_type": "code",
   "execution_count": 161,
   "id": "a8dc51e4-b41e-4750-8d1b-ce657f1f96bf",
   "metadata": {},
   "outputs": [
    {
     "data": {
      "application/vnd.jupyter.widget-view+json": {
       "model_id": "4d68ab73e2ce46bb816112b2924b428a",
       "version_major": 2,
       "version_minor": 0
      },
      "text/plain": [
       "Text(value='', placeholder='Введите ваш вопрос или ответ...')"
      ]
     },
     "metadata": {},
     "output_type": "display_data"
    },
    {
     "data": {
      "application/vnd.jupyter.widget-view+json": {
       "model_id": "e8392ee02d7f4155b5c5792b831bf07b",
       "version_major": 2,
       "version_minor": 0
      },
      "text/plain": [
       "Output()"
      ]
     },
     "metadata": {},
     "output_type": "display_data"
    }
   ],
   "source": [
    "import ipywidgets as widgets\n",
    "from IPython.display import display, clear_output\n",
    "\n",
    "# Создание виджета вывода\n",
    "output = widgets.Output()\n",
    "\n",
    "# Функция для обработки ввода пользователя\n",
    "def on_submit(change):\n",
    "    if change['name'] == 'value' and change['new'].endswith('='):\n",
    "        response = \"Вы сказали: \" + change['new'].rstrip('=')\n",
    "        with output:\n",
    "            clear_output(wait=True)  # Очистить предыдущее содержимое\n",
    "            display(widgets.HTML(value=f\"<p>{response}</p>\"))\n",
    "            text_input.value = ''  # Очистить текстовое поле\n",
    "\n",
    "# Создание текстового поля для ввода\n",
    "text_input = widgets.Text(placeholder='Введите ваш вопрос или ответ...')\n",
    "\n",
    "# Обработка изменения значения текстового поля\n",
    "text_input.observe(on_submit, names='value')\n",
    "\n",
    "# Отображение виджетов\n",
    "display(text_input)\n",
    "display(output)\n"
   ]
  },
  {
   "cell_type": "code",
   "execution_count": 153,
   "id": "a010ceab-66b9-4f1a-abd8-aac7a94b3773",
   "metadata": {},
   "outputs": [
    {
     "data": {
      "application/vnd.jupyter.widget-view+json": {
       "model_id": "7da50a0a496449ad8e9759b5051ec04e",
       "version_major": 2,
       "version_minor": 0
      },
      "text/plain": [
       "Text(value='', placeholder='Введите ваш вопрос или ответ...')"
      ]
     },
     "metadata": {},
     "output_type": "display_data"
    },
    {
     "data": {
      "application/vnd.jupyter.widget-view+json": {
       "model_id": "a42ff265d0e24c61aa687e3cb45a8a72",
       "version_major": 2,
       "version_minor": 0
      },
      "text/plain": [
       "Output()"
      ]
     },
     "metadata": {},
     "output_type": "display_data"
    },
    {
     "data": {
      "application/vnd.jupyter.widget-view+json": {
       "model_id": "efc8ba256cf44915be1ee1457240b5bc",
       "version_major": 2,
       "version_minor": 0
      },
      "text/plain": [
       "HTML(value='<script>\\nvar text_input = document.querySelector(\\'input[type=\"text\"]\\');\\ntext_input.addEventLis…"
      ]
     },
     "metadata": {},
     "output_type": "display_data"
    }
   ],
   "source": [
    "import ipywidgets as widgets\n",
    "from IPython.display import display, clear_output\n",
    "\n",
    "# Создание виджета вывода\n",
    "output = widgets.Output()\n",
    "\n",
    "# Функция для обработки ввода пользователя\n",
    "def on_submit(change):\n",
    "    if change['new']:\n",
    "        response = \"Вы сказали: \" + change['new']\n",
    "        with output:\n",
    "            clear_output(wait=True)  # Очистить предыдущее содержимое\n",
    "            display(widgets.HTML(value=f\"<p>{response}</p>\"))\n",
    "            text_input.value = ''  # Очистить текстовое поле\n",
    "\n",
    "# Создание текстового поля для ввода\n",
    "text_input = widgets.Text(placeholder='Введите ваш вопрос или ответ...')\n",
    "\n",
    "# Добавление обработчика событий для нажатия клавиши Enter с использованием JavaScript\n",
    "js_code = \"\"\"\n",
    "var text_input = document.querySelector('input[type=\"text\"]');\n",
    "text_input.addEventListener(\"keyup\", function(event) {\n",
    "    if (event.key === 'Enter') {\n",
    "        var input_event = new CustomEvent('input', { detail: text_input.value });\n",
    "        text_input.dispatchEvent(input_event);\n",
    "    }\n",
    "});\n",
    "\"\"\"\n",
    "display(text_input)\n",
    "display(output)\n",
    "display(widgets.HTML('<script>' + js_code + '</script>'))\n"
   ]
  },
  {
   "cell_type": "code",
   "execution_count": 172,
   "id": "6937c132-d12f-473a-8e32-49e34227308a",
   "metadata": {},
   "outputs": [
    {
     "data": {
      "application/vnd.jupyter.widget-view+json": {
       "model_id": "991e0888eb53445e9bf844b0ed8bb487",
       "version_major": 2,
       "version_minor": 0
      },
      "text/plain": [
       "Text(value='', placeholder='Введите ваш вопрос или ответ...')"
      ]
     },
     "metadata": {},
     "output_type": "display_data"
    },
    {
     "data": {
      "application/vnd.jupyter.widget-view+json": {
       "model_id": "c9aa80d48cb741f4998c249e135d8a1d",
       "version_major": 2,
       "version_minor": 0
      },
      "text/plain": [
       "VBox(children=(Label(value='Текущее сообщение:'), Output()))"
      ]
     },
     "metadata": {},
     "output_type": "display_data"
    },
    {
     "data": {
      "application/vnd.jupyter.widget-view+json": {
       "model_id": "c786f343a3aa4764b7640765cf429da6",
       "version_major": 2,
       "version_minor": 0
      },
      "text/plain": [
       "VBox(children=(Label(value='История сообщений:'), Output()))"
      ]
     },
     "metadata": {},
     "output_type": "display_data"
    }
   ],
   "source": [
    "import ipywidgets as widgets\n",
    "from IPython.display import display, clear_output\n",
    "\n",
    "# Создание виджета вывода для текущего сообщения\n",
    "output_current = widgets.Output()\n",
    "\n",
    "# Создание виджета вывода для истории сообщений\n",
    "output_history = widgets.Output()\n",
    "\n",
    "# Функция для обработки ввода пользователя\n",
    "def on_submit(change):\n",
    "    if change['name'] == 'value' and change['new'].endswith('***'):\n",
    "        response = \"Вы сказали: \" + change['new'].rstrip('***')\n",
    "        #with output_current:\n",
    "            #clear_output(wait=True)  # Очистить предыдущее содержимое\n",
    "            #display(widgets.HTML(value=f\"<p>{response}</p>\"))\n",
    "        with output_history:\n",
    "            clear_output(wait=True)  # Очистить предыдущее содержимое\n",
    "            #print(response)  # Вывести сообщение в историю\n",
    "        text_input.value = ''  # Очистить текстовое поле\n",
    "    if change['name'] == 'value' and change['new'].endswith('='):\n",
    "        response = \"Вы сказали: \" + change['new'].rstrip('=')\n",
    "        with output_current:\n",
    "            clear_output(wait=True)  # Очистить предыдущее содержимое\n",
    "            display(widgets.HTML(value=f\"<p>{response}</p>\"))\n",
    "        with output_history:\n",
    "            print(response)  # Вывести сообщение в историю\n",
    "        text_input.value = ''  # Очистить текстовое поле\n",
    "\n",
    "# Создание текстового поля для ввода\n",
    "text_input = widgets.Text(placeholder='Введите ваш вопрос или ответ...')\n",
    "\n",
    "# Обработка изменения значения текстового поля\n",
    "text_input.observe(on_submit, names='value')\n",
    "\n",
    "# Отображение виджетов\n",
    "display(text_input)\n",
    "display(widgets.VBox([widgets.Label(\"Текущее сообщение:\"), output_current]))\n",
    "display(widgets.VBox([widgets.Label(\"История сообщений:\"), output_history]))\n"
   ]
  },
  {
   "cell_type": "code",
   "execution_count": 174,
   "id": "92c3a6bf-6b5c-4e6c-972a-b44f26bb4ce7",
   "metadata": {},
   "outputs": [
    {
     "data": {
      "application/vnd.jupyter.widget-view+json": {
       "model_id": "8162ecdef38d4f869f3977d0ac002631",
       "version_major": 2,
       "version_minor": 0
      },
      "text/plain": [
       "Text(value='', placeholder='Введите ваш вопрос или ответ...')"
      ]
     },
     "metadata": {},
     "output_type": "display_data"
    },
    {
     "data": {
      "application/vnd.jupyter.widget-view+json": {
       "model_id": "314de88e31364649b4b491aa219081e1",
       "version_major": 2,
       "version_minor": 0
      },
      "text/plain": [
       "VBox(children=(Label(value='Текущее сообщение:'), Output()))"
      ]
     },
     "metadata": {},
     "output_type": "display_data"
    },
    {
     "data": {
      "application/vnd.jupyter.widget-view+json": {
       "model_id": "009bc03c28f9429d80f59bfd05b48974",
       "version_major": 2,
       "version_minor": 0
      },
      "text/plain": [
       "VBox(children=(Label(value='История сообщений:'), Output()))"
      ]
     },
     "metadata": {},
     "output_type": "display_data"
    }
   ],
   "source": [
    "import ipywidgets as widgets\n",
    "from IPython.display import display, clear_output\n",
    "\n",
    "# Создание виджета вывода для текущего сообщения\n",
    "output_current = widgets.Output()\n",
    "\n",
    "# Создание виджета вывода для истории сообщений\n",
    "output_history = widgets.Output()\n",
    "\n",
    "# Функция для обработки ввода пользователя\n",
    "def on_submit(change):\n",
    "    if change['name'] == 'value' and change['new'].endswith('plot='):\n",
    "        with output_history:\n",
    "            clear_output(wait=True)  # Очистить предыдущее содержимое\n",
    "            print('------------------')\n",
    "            #<добавить какой то график>\n",
    "        text_input.value = ''  # Очистить текстовое поле\n",
    "    if change['name'] == 'value' and change['new'].endswith('***'):\n",
    "        with output_history:\n",
    "            clear_output(wait=True)  # Очистить предыдущее содержимое\n",
    "            print('------------------')\n",
    "        text_input.value = ''  # Очистить текстовое поле\n",
    "    elif change['name'] == 'value' and change['new'].endswith('='):\n",
    "        response = \"Вы сказали: \" + change['new'].rstrip('=')\n",
    "        with output_current:\n",
    "            clear_output(wait=True)  # Очистить предыдущее содержимое\n",
    "            display(widgets.HTML(value=f\"<p>{response}</p>\"))\n",
    "        with output_history:\n",
    "            print(response)  # Вывести сообщение в историю\n",
    "        text_input.value = ''  # Очистить текстовое поле\n",
    "\n",
    "# Создание текстового поля для ввода\n",
    "text_input = widgets.Text(placeholder='Введите ваш вопрос или ответ...')\n",
    "\n",
    "# Обработка изменения значения текстового поля\n",
    "text_input.observe(on_submit, names='value')\n",
    "\n",
    "# Отображение виджетов\n",
    "display(text_input)\n",
    "display(widgets.VBox([widgets.Label(\"Текущее сообщение:\"), output_current]))\n",
    "display(widgets.VBox([widgets.Label(\"История сообщений:\"), output_history]))\n"
   ]
  },
  {
   "cell_type": "code",
   "execution_count": 187,
   "id": "758a6b2d-d08d-4209-99cb-c951c2d01d97",
   "metadata": {},
   "outputs": [
    {
     "data": {
      "application/vnd.jupyter.widget-view+json": {
       "model_id": "e8efcfc77af84380964992843f2d9c2d",
       "version_major": 2,
       "version_minor": 0
      },
      "text/plain": [
       "Text(value='', placeholder='Введите ваш вопрос или ответ...')"
      ]
     },
     "metadata": {},
     "output_type": "display_data"
    },
    {
     "data": {
      "application/vnd.jupyter.widget-view+json": {
       "model_id": "a25ad585512f498992cdc8f7ce87b41f",
       "version_major": 2,
       "version_minor": 0
      },
      "text/plain": [
       "VBox(children=(Label(value='Текущее сообщение:'), Output()))"
      ]
     },
     "metadata": {},
     "output_type": "display_data"
    },
    {
     "data": {
      "application/vnd.jupyter.widget-view+json": {
       "model_id": "fee31ed8b96e4b91aa407b632765f1f4",
       "version_major": 2,
       "version_minor": 0
      },
      "text/plain": [
       "VBox(children=(Label(value='История сообщений:'), Output()))"
      ]
     },
     "metadata": {},
     "output_type": "display_data"
    }
   ],
   "source": [
    "import ipywidgets as widgets\n",
    "from IPython.display import display, clear_output, Audio\n",
    "import matplotlib.pyplot as plt\n",
    "import numpy as np\n",
    "\n",
    "# Создание виджета вывода для текущего сообщения\n",
    "output_current = widgets.Output()\n",
    "\n",
    "# Создание виджета вывода для истории сообщений\n",
    "output_history = widgets.Output()\n",
    "\n",
    "def generate_audio_data(name):\n",
    "    if name == \"simple\":\n",
    "        frequency = 440  # Частота воспроизведения в герцах (440 Гц - нота ля)\n",
    "        duration = 2  # Продолжительность воспроизведения в секундах\n",
    "        t = np.linspace(0, duration, int(44100 * duration))  # Генерация временной оси\n",
    "        audio_data = np.sin(2 * np.pi * frequency * t)  # Генерация звукового сигнала (синусоида)\n",
    "    elif name == \"eliz\":\n",
    "        duration = 2  # Продолжительность воспроизведения в секундах\n",
    "        t = np.linspace(0, duration, int(44100 * duration))  # Генерация временной оси\n",
    "        # Создаем пассаж к Элизе Бетховена\n",
    "        melody = [\n",
    "            659.25, 659.25, 659.25, 523.25, 587.33, 659.25, 783.99,\n",
    "            392.00, 523.25, 659.25, 783.99, 392.00, 523.25, 659.25, 783.99, 0,\n",
    "            987.77, 987.77, 987.77, 1046.50, 783.99, 880.00, 987.77, 0,\n",
    "            659.25, 415.30, 523.25, 0, 587.33, 659.25, 0, 783.99,\n",
    "            392.00, 523.25, 659.25, 783.99, 392.00, 523.25, 659.25, 783.99, 0,\n",
    "            987.77, 987.77, 987.77, 1046.50, 783.99, 880.00, 987.77, 0\n",
    "        ]\n",
    "        # Генерация звукового сигнала\n",
    "        audio_data = np.array([])\n",
    "        for note in melody:\n",
    "            if note == 0:\n",
    "                audio_data = np.concatenate([audio_data, np.zeros(int(44100 * 0.2))])\n",
    "            else:\n",
    "                t_note = np.linspace(0, 0.2, int(44100 * 0.2))\n",
    "                audio_data = np.concatenate([audio_data, np.sin(2 * np.pi * note * t_note)])\n",
    "    else:\n",
    "        raise ValueError(\"Неподдерживаемое имя: \" + name)\n",
    "    return audio_data\n",
    "\n",
    "# Функция для обработки ввода пользователя\n",
    "def on_submit(change):\n",
    "    if change['name'] == 'value' and change['new'].endswith('sound*'):\n",
    "        response = \"Вы сказали: \" + change['new']\n",
    "        with output_current:\n",
    "            clear_output(wait=True)  # Очистить предыдущее содержимое\n",
    "            print('----команда звучать------')\n",
    "            # Проигрываем пример звука (синусоиду)\n",
    "            if change['new'].endswith('eliz_sound*'):\n",
    "                audio_data = generate_audio_data('eliz')\n",
    "            else:\n",
    "                audio_data = generate_audio_data('simple')\n",
    "            display(Audio(audio_data, rate=44100))  # Отображение и воспроизведение аудио\n",
    "        text_input.value = ''  # Очистить текстовое поле\n",
    "        with output_history:\n",
    "            print(response)  # Вывести сообщение в историю\n",
    "    if change['name'] == 'value' and change['new'].endswith('plot*'):\n",
    "        response = \"Вы сказали: \" + change['new']\n",
    "        with output_current:\n",
    "            clear_output(wait=True)  # Очистить предыдущее содержимое\n",
    "            print('----команда рисовать------')\n",
    "            # Создаем простой график\n",
    "            plt.figure(figsize=(2, 1))\n",
    "            plt.plot([1, 2, 3, 4])\n",
    "            plt.title('Пример графика')\n",
    "            plt.xlabel('X')\n",
    "            plt.ylabel('Y')\n",
    "            plt.grid(True)\n",
    "            plt.show()\n",
    "        text_input.value = ''  # Очистить текстовое поле\n",
    "        with output_history:\n",
    "            print(response)  # Вывести сообщение в историю\n",
    "    if change['name'] == 'value' and change['new'].endswith('***'):\n",
    "        with output_history:\n",
    "            clear_output(wait=True)  # Очистить предыдущее содержимое\n",
    "            print('------------------')\n",
    "        text_input.value = ''  # Очистить текстовое поле\n",
    "    elif change['name'] == 'value' and change['new'].endswith('='):\n",
    "        response = \"Вы сказали: \" + change['new']\n",
    "        with output_current:\n",
    "            clear_output(wait=True)  # Очистить предыдущее содержимое\n",
    "            display(widgets.HTML(value=f\"<p>{response}</p>\"))\n",
    "        with output_history:\n",
    "            print(response)  # Вывести сообщение в историю\n",
    "        text_input.value = ''  # Очистить текстовое поле\n",
    "\n",
    "# Создание текстового поля для ввода\n",
    "text_input = widgets.Text(placeholder='Введите ваш вопрос или ответ...')\n",
    "\n",
    "# Обработка изменения значения текстового поля\n",
    "text_input.observe(on_submit, names='value')\n",
    "\n",
    "# Отображение виджетов\n",
    "display(text_input)\n",
    "display(widgets.VBox([widgets.Label(\"Текущее сообщение:\"), output_current]))\n",
    "display(widgets.VBox([widgets.Label(\"История сообщений:\"), output_history]))\n"
   ]
  },
  {
   "cell_type": "code",
   "execution_count": null,
   "id": "6fd4f8e1-ce0e-43ad-a7e5-f8067ca40f05",
   "metadata": {},
   "outputs": [],
   "source": []
  }
 ],
 "metadata": {
  "kernelspec": {
   "display_name": "Python 3 (ipykernel)",
   "language": "python",
   "name": "python3"
  },
  "language_info": {
   "codemirror_mode": {
    "name": "ipython",
    "version": 3
   },
   "file_extension": ".py",
   "mimetype": "text/x-python",
   "name": "python",
   "nbconvert_exporter": "python",
   "pygments_lexer": "ipython3",
   "version": "3.11.4"
  }
 },
 "nbformat": 4,
 "nbformat_minor": 5
}
