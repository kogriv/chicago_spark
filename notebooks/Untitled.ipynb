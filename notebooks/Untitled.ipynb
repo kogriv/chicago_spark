{
 "cells": [
  {
   "cell_type": "code",
   "execution_count": 1,
   "id": "d078d32d-19bf-4d20-935b-2ecbd182e5c4",
   "metadata": {},
   "outputs": [],
   "source": [
    "from pyspark.sql import SparkSession\n",
    "import pyspark.sql.functions as f\n",
    "\n",
    "import pandas as pd\n",
    "from scipy import stats\n",
    "\n",
    "spark = SparkSession.builder \\\n",
    "    .appName(\"example\") \\\n",
    "    .master(f\"spark://172.18.0.2:7077\") \\\n",
    "    .config(\"spark.executor.cores\", \"1\") \\\n",
    "    .config(\"spark.task.cpus\", 1) \\\n",
    "    .config(\"spark.pyspark.virtualenv.enabled\", \"true\") \\\n",
    "    .config(\"spark.pyspark.virtualenv.type\", \"native\") \\\n",
    "    .config(\"spark.pyspark.virtualenv.requirements\", \"/work/reqs/reqs.txt\") \\\n",
    "    .getOrCreate()"
   ]
  },
  {
   "cell_type": "code",
   "execution_count": 2,
   "id": "eda611f3-dce4-48a4-9a75-6384b6ce6834",
   "metadata": {},
   "outputs": [
    {
     "name": "stdout",
     "output_type": "stream",
     "text": [
      "+---+------------------+\n",
      "| id|               val|\n",
      "+---+------------------+\n",
      "|  0|0.6242664344823765|\n",
      "|  1|0.8289984396250024|\n",
      "|  2|0.8139291709017323|\n",
      "+---+------------------+\n",
      "only showing top 3 rows\n",
      "\n"
     ]
    },
    {
     "name": "stderr",
     "output_type": "stream",
     "text": [
      "/opt/conda/lib/python3.11/site-packages/pyspark/sql/pandas/functions.py:399: UserWarning: In Python 3.6+ and Spark 3.0+, it is preferred to specify type hints for pandas UDF instead of specifying pandas UDF type which will be deprecated in the future releases. See SPARK-28264 for more details.\n",
      "  warnings.warn(\n"
     ]
    },
    {
     "name": "stdout",
     "output_type": "stream",
     "text": [
      "+---+------------------+-------------------+\n",
      "| id|               val|        probability|\n",
      "+---+------------------+-------------------+\n",
      "|  0|0.6242664344823765|0.32831136944229555|\n",
      "|  1|0.8289984396250024| 0.2829294403942166|\n",
      "|  2|0.8139291709017323| 0.2864535512287373|\n",
      "|  3|0.0896133138099815| 0.3973436298889499|\n",
      "|  4|0.7524495099003106|0.30058380891284725|\n",
      "+---+------------------+-------------------+\n",
      "only showing top 5 rows\n",
      "\n",
      "CPU times: user 203 ms, sys: 11.1 ms, total: 214 ms\n",
      "Wall time: 11.7 s\n"
     ]
    }
   ],
   "source": [
    "%%time\n",
    "\n",
    "big_df = (\n",
    "    spark\n",
    "    .range(0, 1_000_000)\n",
    "    .withColumn('val',f.rand())\n",
    ")\n",
    "\n",
    "big_df.cache()\n",
    "big_df.show(3)\n",
    "\n",
    "@f.pandas_udf('double', f.PandasUDFType.SCALAR)\n",
    "def pandas_pdf(v):\n",
    "    return pd.Series(stats.norm.pdf(v))\n",
    "\n",
    "(\n",
    "    big_df\n",
    "    .withColumn('probability', pandas_pdf(big_df.val))\n",
    "    .show(5)\n",
    ")"
   ]
  },
  {
   "cell_type": "code",
   "execution_count": 4,
   "id": "004b24a8-62ca-4d70-8523-ebfd79abd7eb",
   "metadata": {},
   "outputs": [
    {
     "data": {
      "text/plain": [
       "0    0.352065\n",
       "dtype: float64"
      ]
     },
     "execution_count": 4,
     "metadata": {},
     "output_type": "execute_result"
    }
   ],
   "source": [
    "pd.Series(stats.norm.pdf(0.5))"
   ]
  },
  {
   "cell_type": "code",
   "execution_count": 5,
   "id": "6b625ba6-8b97-4d63-a3b7-a5f7f8cb1245",
   "metadata": {},
   "outputs": [
    {
     "data": {
      "text/plain": [
       "0.3520653267642995"
      ]
     },
     "execution_count": 5,
     "metadata": {},
     "output_type": "execute_result"
    }
   ],
   "source": [
    "stats.norm.pdf(0.5)"
   ]
  },
  {
   "cell_type": "code",
   "execution_count": null,
   "id": "9748d056-549b-40ce-9c7a-03cc7459cf1c",
   "metadata": {},
   "outputs": [],
   "source": []
  }
 ],
 "metadata": {
  "kernelspec": {
   "display_name": "Python 3 (ipykernel)",
   "language": "python",
   "name": "python3"
  },
  "language_info": {
   "codemirror_mode": {
    "name": "ipython",
    "version": 3
   },
   "file_extension": ".py",
   "mimetype": "text/x-python",
   "name": "python",
   "nbconvert_exporter": "python",
   "pygments_lexer": "ipython3",
   "version": "3.11.4"
  }
 },
 "nbformat": 4,
 "nbformat_minor": 5
}
