{
 "cells": [
  {
   "cell_type": "code",
   "execution_count": 1,
   "id": "c1cb2326-ccda-419c-b49b-db344e315549",
   "metadata": {},
   "outputs": [],
   "source": [
    "from sparkserv import SparkApp, Cols, test_cols"
   ]
  },
  {
   "cell_type": "code",
   "execution_count": 2,
   "id": "a20de1fd-ebe5-45e6-bdcb-06e5ef3f6967",
   "metadata": {},
   "outputs": [
    {
     "name": "stderr",
     "output_type": "stream",
     "text": [
      "INFO:spark_app:spark_master_ip: 172.18.0.2\n",
      "INFO:spark_app:starting building spark app object: pyspark-taxi-forecasting\n",
      "INFO:spark_app:built spark app object: <pyspark.sql.session.SparkSession object at 0x7fca6da2d550>\n"
     ]
    }
   ],
   "source": [
    "sp = SparkApp(my_logger_create_level='INFO')"
   ]
  },
  {
   "cell_type": "code",
   "execution_count": 3,
   "id": "71a60a35-8d14-4ad9-9a08-fc8c554ee248",
   "metadata": {},
   "outputs": [
    {
     "name": "stdout",
     "output_type": "stream",
     "text": [
      "Spark DF not feeded. Simple sample will create\n"
     ]
    },
    {
     "name": "stderr",
     "output_type": "stream",
     "text": [
      "INFO:numexpr.utils:NumExpr defaulting to 4 threads.\n"
     ]
    }
   ],
   "source": [
    "cl = Cols()"
   ]
  },
  {
   "cell_type": "code",
   "execution_count": 4,
   "id": "623fb7d2-d2ab-4dbe-b0e1-6ca2e5817aef",
   "metadata": {},
   "outputs": [
    {
     "data": {
      "text/plain": [
       "{'one_c': 'One columns', 'another_o': 'Another one'}"
      ]
     },
     "execution_count": 4,
     "metadata": {},
     "output_type": "execute_result"
    }
   ],
   "source": [
    "cl.get_aliases()"
   ]
  },
  {
   "cell_type": "code",
   "execution_count": 5,
   "id": "6a500251-da92-4b4c-affe-0ff789480fc0",
   "metadata": {},
   "outputs": [
    {
     "name": "stdout",
     "output_type": "stream",
     "text": [
      "One columns\n",
      "Another one\n",
      "'Cols' object has no attribute 'one_c'\n",
      "<bound method Cols.get_aliases of <sparkserv.Cols object at 0x7fca6dad0ad0>>\n",
      "<bound method Cols.get_aliases of <sparkserv.Cols object at 0x7fca6dad0ad0>>\n",
      "<bound method Cols.get_aliases of <sparkserv.Cols object at 0x7fca6dad0ad0>>\n"
     ]
    }
   ],
   "source": [
    "test_cols()"
   ]
  },
  {
   "cell_type": "code",
   "execution_count": 3,
   "id": "e6c931b6-237c-4d31-9670-c213f75b00f6",
   "metadata": {},
   "outputs": [],
   "source": [
    "# from pyspark.sql import SparkSession\n",
    "# new_spark = SparkSession.builder.appName(\"test\").getOrCreate()\n",
    "# print('new_spark Session created:', new_spark.sparkContext.appName)"
   ]
  },
  {
   "cell_type": "code",
   "execution_count": 3,
   "id": "f054b868-66fb-420a-9301-60739e5606b3",
   "metadata": {},
   "outputs": [],
   "source": [
    "# sp.test()"
   ]
  },
  {
   "cell_type": "code",
   "execution_count": 4,
   "id": "a718c371-8b62-4b13-b1f1-ca2b9bfdf1c4",
   "metadata": {},
   "outputs": [],
   "source": [
    "# sp.stop_spark_app()"
   ]
  },
  {
   "cell_type": "code",
   "execution_count": 5,
   "id": "0efedce6-9b22-4195-a5e3-5017cc63cce4",
   "metadata": {},
   "outputs": [],
   "source": [
    "# sp.spark.stop()"
   ]
  },
  {
   "cell_type": "code",
   "execution_count": 6,
   "id": "9fae83b8-eaca-4d1e-8cdc-91a569b6bf7e",
   "metadata": {},
   "outputs": [],
   "source": [
    "# sp.stop_spark_app()"
   ]
  },
  {
   "cell_type": "code",
   "execution_count": 7,
   "id": "0f99200f-5746-4c13-8066-ca06a79e855f",
   "metadata": {},
   "outputs": [],
   "source": [
    "# del spark"
   ]
  },
  {
   "cell_type": "code",
   "execution_count": 3,
   "id": "5ef770b1-7ea1-481c-ada4-fca03b3d18bc",
   "metadata": {},
   "outputs": [
    {
     "name": "stderr",
     "output_type": "stream",
     "text": [
      "INFO:spark_app:starting building spark app object: pyspark-taxi-forecasting\n",
      "INFO:spark_app:built spark app object: <pyspark.sql.session.SparkSession object at 0x7fec73197210>\n"
     ]
    }
   ],
   "source": [
    "spark = sp.build_spark_app()"
   ]
  },
  {
   "cell_type": "code",
   "execution_count": 4,
   "id": "b5626f7a-03cb-4b3b-852a-f2814bdf2570",
   "metadata": {},
   "outputs": [
    {
     "name": "stderr",
     "output_type": "stream",
     "text": [
      "INFO:spark_app:attempt to stop SparkSession app object\n",
      "INFO:spark_app:.stop() instruction has been executed\n",
      "INFO:spark_app:attempt to create new SparkSession app object after stopping\n",
      "WARNING:spark_app:Session stopped correctly\n"
     ]
    },
    {
     "data": {
      "text/plain": [
       "'stopped'"
      ]
     },
     "execution_count": 4,
     "metadata": {},
     "output_type": "execute_result"
    }
   ],
   "source": [
    "sp.stop_spark_app()"
   ]
  },
  {
   "cell_type": "code",
   "execution_count": null,
   "id": "cce9a345-6f93-4a8e-904d-15eb0c55e4cd",
   "metadata": {},
   "outputs": [],
   "source": []
  }
 ],
 "metadata": {
  "kernelspec": {
   "display_name": "Python 3 (ipykernel)",
   "language": "python",
   "name": "python3"
  },
  "language_info": {
   "codemirror_mode": {
    "name": "ipython",
    "version": 3
   },
   "file_extension": ".py",
   "mimetype": "text/x-python",
   "name": "python",
   "nbconvert_exporter": "python",
   "pygments_lexer": "ipython3",
   "version": "3.11.4"
  }
 },
 "nbformat": 4,
 "nbformat_minor": 5
}
