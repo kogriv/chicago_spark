{
 "cells": [
  {
   "cell_type": "code",
   "execution_count": 1,
   "id": "e242ef6b-b750-4685-b56e-906b0d0748b2",
   "metadata": {},
   "outputs": [],
   "source": [
    "import os\n",
    "import sys"
   ]
  },
  {
   "cell_type": "code",
   "execution_count": 2,
   "id": "4c22c0b8-1ea3-417e-8289-34ca57326d7d",
   "metadata": {},
   "outputs": [],
   "source": [
    "import Connection as cn"
   ]
  },
  {
   "cell_type": "code",
   "execution_count": 3,
   "id": "55a91437-60e9-4bc2-a9cb-58365f000efd",
   "metadata": {},
   "outputs": [
    {
     "name": "stderr",
     "output_type": "stream",
     "text": [
      "INFO:ch:spark_master_ip: 172.18.0.2\n",
      "DEBUG:ch:starting import SparkSession\n",
      "INFO:ch:starting building spark app object: pyspark-taxi-forecasting\n",
      "INFO:ch:builded spark app object: <pyspark.sql.session.SparkSession object at 0x7fc4291f6d50>\n"
     ]
    }
   ],
   "source": [
    "spark = cn.spark_app_builder(cn.get_spark_master_ip(),\n",
    "                             spark_app_name = \"pyspark-taxi-forecasting\")"
   ]
  },
  {
   "cell_type": "code",
   "execution_count": null,
   "id": "62b6309c-afe9-4034-9687-eeaf0319587b",
   "metadata": {},
   "outputs": [],
   "source": []
  }
 ],
 "metadata": {
  "kernelspec": {
   "display_name": "Python 3 (ipykernel)",
   "language": "python",
   "name": "python3"
  },
  "language_info": {
   "codemirror_mode": {
    "name": "ipython",
    "version": 3
   },
   "file_extension": ".py",
   "mimetype": "text/x-python",
   "name": "python",
   "nbconvert_exporter": "python",
   "pygments_lexer": "ipython3",
   "version": "3.11.4"
  }
 },
 "nbformat": 4,
 "nbformat_minor": 5
}
