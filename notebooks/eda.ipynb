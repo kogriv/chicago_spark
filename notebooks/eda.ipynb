{
 "cells": [
  {
   "cell_type": "code",
   "execution_count": 132,
   "id": "e242ef6b-b750-4685-b56e-906b0d0748b2",
   "metadata": {},
   "outputs": [],
   "source": [
    "import os\n",
    "import sys\n",
    "import pandas as pd\n",
    "from importlib import reload\n",
    "import time"
   ]
  },
  {
   "cell_type": "code",
   "execution_count": 2,
   "id": "c506d768-519f-49a0-9af6-b44cbcf036bb",
   "metadata": {},
   "outputs": [],
   "source": [
    "import enviserv.dictan\n",
    "from enviserv.dictan import DictAnalyzer\n",
    "import pandserv as pds # сервисные функции для пандас и не только"
   ]
  },
  {
   "cell_type": "code",
   "execution_count": 3,
   "id": "4c22c0b8-1ea3-417e-8289-34ca57326d7d",
   "metadata": {},
   "outputs": [],
   "source": [
    "from sparkserv import SparkApp, Cols"
   ]
  },
  {
   "cell_type": "code",
   "execution_count": 4,
   "id": "4d34ae44-a3ec-442f-af46-9c1fc63b5298",
   "metadata": {},
   "outputs": [],
   "source": [
    "import sparkserv"
   ]
  },
  {
   "cell_type": "code",
   "execution_count": 5,
   "id": "f6c292a0-9c16-44d8-8aa6-e5a51b5e08ae",
   "metadata": {},
   "outputs": [
    {
     "name": "stderr",
     "output_type": "stream",
     "text": [
      "INFO:spark_app:spark_master_ip: 172.18.0.2\n",
      "INFO:spark_app:starting building spark app object: pyspark-taxi-forecasting\n",
      "INFO:spark_app:built spark app object: <pyspark.sql.session.SparkSession object at 0x7fd17e422810>\n"
     ]
    }
   ],
   "source": [
    "spark_app = SparkApp(my_logger_create_level = 'INFO')"
   ]
  },
  {
   "cell_type": "code",
   "execution_count": 5,
   "id": "4de973af-73c4-43f8-90b6-b1d422a3360b",
   "metadata": {},
   "outputs": [
    {
     "name": "stderr",
     "output_type": "stream",
     "text": [
      "INFO:spark_app:spark_master_ip: 172.18.0.2\n"
     ]
    }
   ],
   "source": [
    "spark_master_ip = spark_app.get_spark_master_ip()\n",
    "# print(spark_master_ip)"
   ]
  },
  {
   "cell_type": "code",
   "execution_count": 6,
   "id": "55a91437-60e9-4bc2-a9cb-58365f000efd",
   "metadata": {},
   "outputs": [],
   "source": [
    "# spark = spark_app.build_spark_app(spark_master_ip=spark_master_ip)\n",
    "spark = spark_app.spark"
   ]
  },
  {
   "cell_type": "code",
   "execution_count": 7,
   "id": "53f1ffcc-7333-4ca1-acfd-12723c7f253d",
   "metadata": {},
   "outputs": [
    {
     "name": "stdout",
     "output_type": "stream",
     "text": [
      "CPU times: user 29.7 ms, sys: 9.12 ms, total: 38.8 ms\n",
      "Wall time: 44.8 s\n"
     ]
    }
   ],
   "source": [
    "%%time\n",
    "taxi = spark.read.load('/work/data/Taxi_Trips_-_2022.csv', \n",
    "                       format='csv', header='true', inferSchema='true')"
   ]
  },
  {
   "cell_type": "code",
   "execution_count": 8,
   "id": "93f8e617-56f4-4a62-8e08-ddb0519ecca5",
   "metadata": {},
   "outputs": [
    {
     "name": "stdout",
     "output_type": "stream",
     "text": [
      "root\n",
      " |-- Trip ID: string (nullable = true)\n",
      " |-- Taxi ID: string (nullable = true)\n",
      " |-- Trip Start Timestamp: string (nullable = true)\n",
      " |-- Trip End Timestamp: string (nullable = true)\n",
      " |-- Trip Seconds: integer (nullable = true)\n",
      " |-- Trip Miles: double (nullable = true)\n",
      " |-- Pickup Census Tract: long (nullable = true)\n",
      " |-- Dropoff Census Tract: long (nullable = true)\n",
      " |-- Pickup Community Area: integer (nullable = true)\n",
      " |-- Dropoff Community Area: integer (nullable = true)\n",
      " |-- Fare: double (nullable = true)\n",
      " |-- Tips: double (nullable = true)\n",
      " |-- Tolls: double (nullable = true)\n",
      " |-- Extras: double (nullable = true)\n",
      " |-- Trip Total: double (nullable = true)\n",
      " |-- Payment Type: string (nullable = true)\n",
      " |-- Company: string (nullable = true)\n",
      " |-- Pickup Centroid Latitude: double (nullable = true)\n",
      " |-- Pickup Centroid Longitude: double (nullable = true)\n",
      " |-- Pickup Centroid Location: string (nullable = true)\n",
      " |-- Dropoff Centroid Latitude: double (nullable = true)\n",
      " |-- Dropoff Centroid Longitude: double (nullable = true)\n",
      " |-- Dropoff Centroid  Location: string (nullable = true)\n",
      "\n",
      "CPU times: user 13 ms, sys: 11 ms, total: 23.9 ms\n",
      "Wall time: 13.1 ms\n"
     ]
    }
   ],
   "source": [
    "%%time\n",
    "# Вывести схему данных\n",
    "taxi.printSchema()"
   ]
  },
  {
   "cell_type": "code",
   "execution_count": 9,
   "id": "c7a0b69d-d02a-4d95-ba0e-3846d63809f7",
   "metadata": {},
   "outputs": [],
   "source": [
    "pd.set_option('display.max_colwidth', None)  # Показать полное содержимое ячеек столбцов"
   ]
  },
  {
   "cell_type": "code",
   "execution_count": 109,
   "id": "12869dc1-b838-448b-b34b-d205d1381ab4",
   "metadata": {},
   "outputs": [
    {
     "data": {
      "text/plain": [
       "{'trip_i': 'Trip ID',\n",
       " 'taxi_i': 'Taxi ID',\n",
       " 'trip_st': 'Trip Start Timestamp',\n",
       " 'trip_et': 'Trip End Timestamp',\n",
       " 'trip_s': 'Trip Seconds',\n",
       " 'trip_m': 'Trip Miles',\n",
       " 'pickup_ct': 'Pickup Census Tract',\n",
       " 'dropoff_ct': 'Dropoff Census Tract',\n",
       " 'pickup_ca': 'Pickup Community Area',\n",
       " 'dropoff_ca': 'Dropoff Community Area',\n",
       " 'fare': 'Fare',\n",
       " 'tips': 'Tips',\n",
       " 'tolls': 'Tolls',\n",
       " 'extras': 'Extras',\n",
       " 'trip_t': 'Trip Total',\n",
       " 'payment_t': 'Payment Type',\n",
       " 'company': 'Company',\n",
       " 'pickup_cl': 'Pickup Centroid Latitude',\n",
       " 'pickup_clon': 'Pickup Centroid Longitude',\n",
       " 'pickup_cloc': 'Pickup Centroid Location',\n",
       " 'dropoff_cl': 'Dropoff Centroid Latitude',\n",
       " 'dropoff_clon': 'Dropoff Centroid Longitude',\n",
       " 'dropoff_cloc': 'Dropoff Centroid  Location'}"
      ]
     },
     "execution_count": 109,
     "metadata": {},
     "output_type": "execute_result"
    }
   ],
   "source": [
    "# создадим объект для представления имен полей\n",
    "ct = sparkserv.Cols(taxi)\n",
    "\n",
    "ct.get_aliases()"
   ]
  },
  {
   "cell_type": "code",
   "execution_count": 10,
   "id": "b6890df7-216f-435d-9432-c450cbd661f4",
   "metadata": {},
   "outputs": [
    {
     "data": {
      "text/html": [
       "<div>\n",
       "<style scoped>\n",
       "    .dataframe tbody tr th:only-of-type {\n",
       "        vertical-align: middle;\n",
       "    }\n",
       "\n",
       "    .dataframe tbody tr th {\n",
       "        vertical-align: top;\n",
       "    }\n",
       "\n",
       "    .dataframe thead th {\n",
       "        text-align: right;\n",
       "    }\n",
       "</style>\n",
       "<table border=\"1\" class=\"dataframe\">\n",
       "  <thead>\n",
       "    <tr style=\"text-align: right;\">\n",
       "      <th></th>\n",
       "      <th>Description</th>\n",
       "      <th>Type</th>\n",
       "      <th>Описание</th>\n",
       "      <th>Тип</th>\n",
       "    </tr>\n",
       "    <tr>\n",
       "      <th>Column Name</th>\n",
       "      <th></th>\n",
       "      <th></th>\n",
       "      <th></th>\n",
       "      <th></th>\n",
       "    </tr>\n",
       "  </thead>\n",
       "  <tbody>\n",
       "    <tr>\n",
       "      <th>Trip ID</th>\n",
       "      <td>A unique identifier for the trip.</td>\n",
       "      <td>Plain Text</td>\n",
       "      <td>Уникальный идентификатор поездки</td>\n",
       "      <td>Обычный текст</td>\n",
       "    </tr>\n",
       "    <tr>\n",
       "      <th>Taxi ID</th>\n",
       "      <td>A unique identifier for the taxi.</td>\n",
       "      <td>Plain Text</td>\n",
       "      <td>Уникальный идентификатор такси</td>\n",
       "      <td>Обычный текст</td>\n",
       "    </tr>\n",
       "    <tr>\n",
       "      <th>Trip Start Timestamp</th>\n",
       "      <td>When the trip started rounded to the nearest 15 minutes.</td>\n",
       "      <td>Date &amp; Time</td>\n",
       "      <td>Время начала поездки округленное до ближайших 15 минут</td>\n",
       "      <td>Дата и время</td>\n",
       "    </tr>\n",
       "    <tr>\n",
       "      <th>Trip End Timestamp</th>\n",
       "      <td>When the trip ended rounded to the nearest 15 minutes.</td>\n",
       "      <td>Date &amp; Time</td>\n",
       "      <td>Время окончания поездки округленное до ближайших 15 минут</td>\n",
       "      <td>Дата и время</td>\n",
       "    </tr>\n",
       "    <tr>\n",
       "      <th>Trip Seconds</th>\n",
       "      <td>Time of the trip in seconds.</td>\n",
       "      <td>Number</td>\n",
       "      <td>Продолжительность поездки в секундах</td>\n",
       "      <td>Число</td>\n",
       "    </tr>\n",
       "    <tr>\n",
       "      <th>Trip Miles</th>\n",
       "      <td>Distance of the trip in miles.</td>\n",
       "      <td>Number</td>\n",
       "      <td>Расстояние поездки в милях</td>\n",
       "      <td>Число</td>\n",
       "    </tr>\n",
       "    <tr>\n",
       "      <th>Pickup Census Tract</th>\n",
       "      <td>The Census Tract where the trip began. For privacy  this Census Tract is not shown for some trips. This column often will be blank for locations outside Chicago.</td>\n",
       "      <td>Plain Text</td>\n",
       "      <td>Код района по переписи населения  где началась поездка. В целях конфиденциальности этот код не отображается для некоторых поездок. Это поле часто остается пустым для мест за пределами Чикаго.</td>\n",
       "      <td>Обычный текст</td>\n",
       "    </tr>\n",
       "    <tr>\n",
       "      <th>Dropoff Census Tract</th>\n",
       "      <td>The Census Tract where the trip ended. For privacy  this Census Tract is not shown for some trips. This column often will be blank for locations outside Chicago.</td>\n",
       "      <td>Plain Text</td>\n",
       "      <td>Код района по переписи населения  где завершилась поездка. В целях конфиденциальности этот код не отображается для некоторых поездок. Это поле часто остается пустым для мест за пределами Чикаго.</td>\n",
       "      <td>Обычный текст</td>\n",
       "    </tr>\n",
       "    <tr>\n",
       "      <th>Pickup Community Area</th>\n",
       "      <td>The Community Area where the trip began. This column will be blank for locations outside Chicago.</td>\n",
       "      <td>Number</td>\n",
       "      <td>Номер коммунальной области  где началась поездка. Это поле остается пустым для мест за пределами Чикаго.</td>\n",
       "      <td>Число</td>\n",
       "    </tr>\n",
       "    <tr>\n",
       "      <th>Dropoff Community Area</th>\n",
       "      <td>The Community Area where the trip ended. This column will be blank for locations outside Chicago.</td>\n",
       "      <td>Number</td>\n",
       "      <td>Номер коммунальной области  где завершилась поездка. Это поле остается пустым для мест за пределами Чикаго.</td>\n",
       "      <td>Число</td>\n",
       "    </tr>\n",
       "    <tr>\n",
       "      <th>Fare</th>\n",
       "      <td>The fare for the trip.</td>\n",
       "      <td>Number</td>\n",
       "      <td>Стоимость поездки.</td>\n",
       "      <td>Число</td>\n",
       "    </tr>\n",
       "    <tr>\n",
       "      <th>Tips</th>\n",
       "      <td>The tip for the trip. Cash tips generally will not be recorded.</td>\n",
       "      <td>Number</td>\n",
       "      <td>Сумма чаевых за поездку. Наличные чаевые обычно не записываются.</td>\n",
       "      <td>Число</td>\n",
       "    </tr>\n",
       "    <tr>\n",
       "      <th>Tolls</th>\n",
       "      <td>The tolls for the trip.</td>\n",
       "      <td>Number</td>\n",
       "      <td>Сумма оплаты за проезд (платные дороги) за поездку.</td>\n",
       "      <td>Число</td>\n",
       "    </tr>\n",
       "    <tr>\n",
       "      <th>Extras</th>\n",
       "      <td>Extra charges for the trip.</td>\n",
       "      <td>Number</td>\n",
       "      <td>Дополнительные сборы за поездку.</td>\n",
       "      <td>Число</td>\n",
       "    </tr>\n",
       "    <tr>\n",
       "      <th>Trip Total</th>\n",
       "      <td>Total cost of the trip the total of the previous columns.</td>\n",
       "      <td>Number</td>\n",
       "      <td>Общая стоимость поездки сумма предыдущих столбцов.</td>\n",
       "      <td>Число</td>\n",
       "    </tr>\n",
       "    <tr>\n",
       "      <th>Payment Type</th>\n",
       "      <td>Type of payment for the trip.</td>\n",
       "      <td>Plain Text</td>\n",
       "      <td>Способ оплаты поездки.</td>\n",
       "      <td>Обычный текст</td>\n",
       "    </tr>\n",
       "    <tr>\n",
       "      <th>Company</th>\n",
       "      <td>The taxi company.</td>\n",
       "      <td>Plain Text</td>\n",
       "      <td>Название такси-компании.</td>\n",
       "      <td>Обычный текст</td>\n",
       "    </tr>\n",
       "    <tr>\n",
       "      <th>Pickup Centroid Latitude</th>\n",
       "      <td>The latitude of the center of the pickup census tract or the community area if the census tract has been hidden for privacy. This column often will be blank for locations outside Chicago.</td>\n",
       "      <td>Number</td>\n",
       "      <td>Широта центра района по переписи или коммунальной области для местности, где началась поездка, если код района скрыт в целях конфиденциальности. Это поле часто остается пустым для мест за пределами Чикаго.</td>\n",
       "      <td>Число</td>\n",
       "    </tr>\n",
       "    <tr>\n",
       "      <th>Pickup Centroid Longitude</th>\n",
       "      <td>The longitude of the center of the pickup census tract or the community area if the census tract has been hidden for privacy. This column often will be blank for locations outside Chicago.</td>\n",
       "      <td>Number</td>\n",
       "      <td>Долгота центра района по переписи или коммунальной области для местности, где началась поездка, если код района скрыт в целях конфиденциальности. Это поле часто остается пустым для мест за пределами Чикаго.</td>\n",
       "      <td>Число</td>\n",
       "    </tr>\n",
       "    <tr>\n",
       "      <th>Pickup Centroid Location</th>\n",
       "      <td>The location of the center of the pickup census tract or the community area if the census tract has been hidden for privacy. This column often will be blank for locations outside Chicago.</td>\n",
       "      <td>Point</td>\n",
       "      <td>Местоположение центра района по переписи или коммунальной области для местности, где началась поездка, если код района скрыт в целях конфиденциальности. Это поле часто остается пустым для мест за пределами Чикаго.</td>\n",
       "      <td>Точка (координаты)</td>\n",
       "    </tr>\n",
       "    <tr>\n",
       "      <th>Dropoff Centroid Latitude</th>\n",
       "      <td>The latitude of the center of the dropoff census tract or the community area if the census tract has been hidden for privacy. This column often will be blank for locations outside Chicago.</td>\n",
       "      <td>Number</td>\n",
       "      <td>Широта центра района по переписи или коммунальной области для местности, где завершилась поездка, если код района скрыт в целях конфиденциальности. Это поле часто остается пустым для мест за пределами Чикаго.</td>\n",
       "      <td>Число</td>\n",
       "    </tr>\n",
       "    <tr>\n",
       "      <th>Dropoff Centroid Longitude</th>\n",
       "      <td>The longitude of the center of the dropoff census tract or the community area if the census tract has been hidden for privacy. This column often will be blank for locations outside Chicago.</td>\n",
       "      <td>Number</td>\n",
       "      <td>Долгота центра района по переписи или коммунальной области для местности, где завершилась поездка, если код района скрыт в целях конфиденциальности. Это поле часто остается пустым для мест за пределами Чикаго.</td>\n",
       "      <td>Число</td>\n",
       "    </tr>\n",
       "    <tr>\n",
       "      <th>Dropoff Centroid Location</th>\n",
       "      <td>The location of the center of the dropoff census tract or the community area if the census tract has been hidden for privacy. This column often will be blank for locations outside Chicago.</td>\n",
       "      <td>Point</td>\n",
       "      <td>Местоположение центра района по переписи или коммунальной области для местности, где завершилась поездка, если код района скрыт в целях конфиденциальности. Это поле часто остается пустым для мест за пределами Чикаго.</td>\n",
       "      <td>Точка (координаты)</td>\n",
       "    </tr>\n",
       "  </tbody>\n",
       "</table>\n",
       "</div>"
      ],
      "text/plain": [
       "                                                                                                                                                                                                              Description  \\\n",
       "Column Name                                                                                                                                                                                                                 \n",
       "Trip ID                                                                                                                                                                                 A unique identifier for the trip.   \n",
       "Taxi ID                                                                                                                                                                                 A unique identifier for the taxi.   \n",
       "Trip Start Timestamp                                                                                                                                             When the trip started rounded to the nearest 15 minutes.   \n",
       "Trip End Timestamp                                                                                                                                                 When the trip ended rounded to the nearest 15 minutes.   \n",
       "Trip Seconds                                                                                                                                                                                 Time of the trip in seconds.   \n",
       "Trip Miles                                                                                                                                                                                 Distance of the trip in miles.   \n",
       "Pickup Census Tract                                     The Census Tract where the trip began. For privacy  this Census Tract is not shown for some trips. This column often will be blank for locations outside Chicago.   \n",
       "Dropoff Census Tract                                    The Census Tract where the trip ended. For privacy  this Census Tract is not shown for some trips. This column often will be blank for locations outside Chicago.   \n",
       "Pickup Community Area                                                                                                   The Community Area where the trip began. This column will be blank for locations outside Chicago.   \n",
       "Dropoff Community Area                                                                                                  The Community Area where the trip ended. This column will be blank for locations outside Chicago.   \n",
       "Fare                                                                                                                                                                                               The fare for the trip.   \n",
       "Tips                                                                                                                                                      The tip for the trip. Cash tips generally will not be recorded.   \n",
       "Tolls                                                                                                                                                                                             The tolls for the trip.   \n",
       "Extras                                                                                                                                                                                        Extra charges for the trip.   \n",
       "Trip Total                                                                                                                                                      Total cost of the trip the total of the previous columns.   \n",
       "Payment Type                                                                                                                                                                                Type of payment for the trip.   \n",
       "Company                                                                                                                                                                                                 The taxi company.   \n",
       "Pickup Centroid Latitude      The latitude of the center of the pickup census tract or the community area if the census tract has been hidden for privacy. This column often will be blank for locations outside Chicago.   \n",
       "Pickup Centroid Longitude    The longitude of the center of the pickup census tract or the community area if the census tract has been hidden for privacy. This column often will be blank for locations outside Chicago.   \n",
       "Pickup Centroid Location      The location of the center of the pickup census tract or the community area if the census tract has been hidden for privacy. This column often will be blank for locations outside Chicago.   \n",
       "Dropoff Centroid Latitude    The latitude of the center of the dropoff census tract or the community area if the census tract has been hidden for privacy. This column often will be blank for locations outside Chicago.   \n",
       "Dropoff Centroid Longitude  The longitude of the center of the dropoff census tract or the community area if the census tract has been hidden for privacy. This column often will be blank for locations outside Chicago.   \n",
       "Dropoff Centroid Location    The location of the center of the dropoff census tract or the community area if the census tract has been hidden for privacy. This column often will be blank for locations outside Chicago.   \n",
       "\n",
       "                                   Type  \\\n",
       "Column Name                               \n",
       "Trip ID                      Plain Text   \n",
       "Taxi ID                      Plain Text   \n",
       "Trip Start Timestamp        Date & Time   \n",
       "Trip End Timestamp          Date & Time   \n",
       "Trip Seconds                     Number   \n",
       "Trip Miles                       Number   \n",
       "Pickup Census Tract          Plain Text   \n",
       "Dropoff Census Tract         Plain Text   \n",
       "Pickup Community Area            Number   \n",
       "Dropoff Community Area           Number   \n",
       "Fare                             Number   \n",
       "Tips                             Number   \n",
       "Tolls                            Number   \n",
       "Extras                           Number   \n",
       "Trip Total                       Number   \n",
       "Payment Type                 Plain Text   \n",
       "Company                      Plain Text   \n",
       "Pickup Centroid Latitude         Number   \n",
       "Pickup Centroid Longitude        Number   \n",
       "Pickup Centroid Location          Point   \n",
       "Dropoff Centroid Latitude        Number   \n",
       "Dropoff Centroid Longitude       Number   \n",
       "Dropoff Centroid Location         Point   \n",
       "\n",
       "                                                                                                                                                                                                                                             Описание  \\\n",
       "Column Name                                                                                                                                                                                                                                             \n",
       "Trip ID                                                                                                                                                                                                              Уникальный идентификатор поездки   \n",
       "Taxi ID                                                                                                                                                                                                                Уникальный идентификатор такси   \n",
       "Trip Start Timestamp                                                                                                                                                                           Время начала поездки округленное до ближайших 15 минут   \n",
       "Trip End Timestamp                                                                                                                                                                          Время окончания поездки округленное до ближайших 15 минут   \n",
       "Trip Seconds                                                                                                                                                                                                     Продолжительность поездки в секундах   \n",
       "Trip Miles                                                                                                                                                                                                                 Расстояние поездки в милях   \n",
       "Pickup Census Tract                                   Код района по переписи населения  где началась поездка. В целях конфиденциальности этот код не отображается для некоторых поездок. Это поле часто остается пустым для мест за пределами Чикаго.   \n",
       "Dropoff Census Tract                               Код района по переписи населения  где завершилась поездка. В целях конфиденциальности этот код не отображается для некоторых поездок. Это поле часто остается пустым для мест за пределами Чикаго.   \n",
       "Pickup Community Area                                                                                                                        Номер коммунальной области  где началась поездка. Это поле остается пустым для мест за пределами Чикаго.   \n",
       "Dropoff Community Area                                                                                                                    Номер коммунальной области  где завершилась поездка. Это поле остается пустым для мест за пределами Чикаго.   \n",
       "Fare                                                                                                                                                                                                                               Стоимость поездки.   \n",
       "Tips                                                                                                                                                                                 Сумма чаевых за поездку. Наличные чаевые обычно не записываются.   \n",
       "Tolls                                                                                                                                                                                             Сумма оплаты за проезд (платные дороги) за поездку.   \n",
       "Extras                                                                                                                                                                                                               Дополнительные сборы за поездку.   \n",
       "Trip Total                                                                                                                                                                                         Общая стоимость поездки сумма предыдущих столбцов.   \n",
       "Payment Type                                                                                                                                                                                                                   Способ оплаты поездки.   \n",
       "Company                                                                                                                                                                                                                      Название такси-компании.   \n",
       "Pickup Centroid Latitude                Широта центра района по переписи или коммунальной области для местности, где началась поездка, если код района скрыт в целях конфиденциальности. Это поле часто остается пустым для мест за пределами Чикаго.   \n",
       "Pickup Centroid Longitude              Долгота центра района по переписи или коммунальной области для местности, где началась поездка, если код района скрыт в целях конфиденциальности. Это поле часто остается пустым для мест за пределами Чикаго.   \n",
       "Pickup Centroid Location        Местоположение центра района по переписи или коммунальной области для местности, где началась поездка, если код района скрыт в целях конфиденциальности. Это поле часто остается пустым для мест за пределами Чикаго.   \n",
       "Dropoff Centroid Latitude            Широта центра района по переписи или коммунальной области для местности, где завершилась поездка, если код района скрыт в целях конфиденциальности. Это поле часто остается пустым для мест за пределами Чикаго.   \n",
       "Dropoff Centroid Longitude          Долгота центра района по переписи или коммунальной области для местности, где завершилась поездка, если код района скрыт в целях конфиденциальности. Это поле часто остается пустым для мест за пределами Чикаго.   \n",
       "Dropoff Centroid Location    Местоположение центра района по переписи или коммунальной области для местности, где завершилась поездка, если код района скрыт в целях конфиденциальности. Это поле часто остается пустым для мест за пределами Чикаго.   \n",
       "\n",
       "                                            Тип  \n",
       "Column Name                                      \n",
       "Trip ID                           Обычный текст  \n",
       "Taxi ID                           Обычный текст  \n",
       "Trip Start Timestamp               Дата и время  \n",
       "Trip End Timestamp                 Дата и время  \n",
       "Trip Seconds                              Число  \n",
       "Trip Miles                                Число  \n",
       "Pickup Census Tract               Обычный текст  \n",
       "Dropoff Census Tract              Обычный текст  \n",
       "Pickup Community Area                     Число  \n",
       "Dropoff Community Area                    Число  \n",
       "Fare                                      Число  \n",
       "Tips                                      Число  \n",
       "Tolls                                     Число  \n",
       "Extras                                    Число  \n",
       "Trip Total                                Число  \n",
       "Payment Type                      Обычный текст  \n",
       "Company                           Обычный текст  \n",
       "Pickup Centroid Latitude                  Число  \n",
       "Pickup Centroid Longitude                 Число  \n",
       "Pickup Centroid Location     Точка (координаты)  \n",
       "Dropoff Centroid Latitude                 Число  \n",
       "Dropoff Centroid Longitude                Число  \n",
       "Dropoff Centroid Location    Точка (координаты)  "
      ]
     },
     "execution_count": 10,
     "metadata": {},
     "output_type": "execute_result"
    }
   ],
   "source": [
    "table_descr = pd.read_csv('/work/data/table_descr.csv',sep=';',index_col='Column Name')\n",
    "\n",
    "table_descr"
   ]
  },
  {
   "cell_type": "code",
   "execution_count": 11,
   "id": "8208da04-693c-4c4f-91b7-f382890b98a1",
   "metadata": {},
   "outputs": [],
   "source": [
    "pd.reset_option('display.max_colwidth')  # Сброс максимальной ширины столбцов к значению по умолчанию"
   ]
  },
  {
   "cell_type": "code",
   "execution_count": 10,
   "id": "1d676881-4c34-4bf1-8098-3c853e125eca",
   "metadata": {},
   "outputs": [
    {
     "name": "stdout",
     "output_type": "stream",
     "text": [
      "CPU times: user 352 ms, sys: 32.2 ms, total: 384 ms\n",
      "Wall time: 2min 7s\n"
     ]
    }
   ],
   "source": [
    "# %%time\n",
    "# describe_result = taxi.describe().toPandas()\n",
    "\n",
    "# time cost i5 (7g), 4 workers (x) 2gb RAM \n",
    "# CPU times: user 352 ms, sys: 32.2 ms, total: 384 ms\n",
    "# Wall time: 2min 7s"
   ]
  },
  {
   "cell_type": "code",
   "execution_count": 11,
   "id": "6d7e2066-b329-4f11-ba9b-8eda6aede617",
   "metadata": {},
   "outputs": [],
   "source": [
    "# output_file_path = '/work/data/2022_describe.csv'\n",
    "# describe_result.to_csv(output_file_path, index=False) #transpose()."
   ]
  },
  {
   "cell_type": "code",
   "execution_count": 25,
   "id": "3f652d08-997c-49d2-a7e3-4f09f9f9e6b6",
   "metadata": {},
   "outputs": [],
   "source": [
    "dr = pd.read_csv('/work/data/2022_describe.csv',sep=',',index_col='summary')"
   ]
  },
  {
   "cell_type": "code",
   "execution_count": 26,
   "id": "24e16ba1-2885-4c30-8bc8-af87fcbb04ef",
   "metadata": {},
   "outputs": [],
   "source": [
    "drf = dr.copy()\n",
    "pds.get_df_formated(drf, '`',2, 10)"
   ]
  },
  {
   "cell_type": "code",
   "execution_count": 27,
   "id": "13926650-cf6a-4c20-a99a-2b47c7ae6dcc",
   "metadata": {},
   "outputs": [
    {
     "data": {
      "text/html": [
       "<div>\n",
       "<style scoped>\n",
       "    .dataframe tbody tr th:only-of-type {\n",
       "        vertical-align: middle;\n",
       "    }\n",
       "\n",
       "    .dataframe tbody tr th {\n",
       "        vertical-align: top;\n",
       "    }\n",
       "\n",
       "    .dataframe thead th {\n",
       "        text-align: right;\n",
       "    }\n",
       "</style>\n",
       "<table border=\"1\" class=\"dataframe\">\n",
       "  <thead>\n",
       "    <tr style=\"text-align: right;\">\n",
       "      <th>summary</th>\n",
       "      <th>count</th>\n",
       "      <th>mean</th>\n",
       "      <th>stddev</th>\n",
       "      <th>min</th>\n",
       "      <th>max</th>\n",
       "    </tr>\n",
       "  </thead>\n",
       "  <tbody>\n",
       "    <tr>\n",
       "      <th>Trip ID</th>\n",
       "      <td>6`382`425</td>\n",
       "      <td>nan</td>\n",
       "      <td>nan</td>\n",
       "      <td>000000bb18</td>\n",
       "      <td>ffffff1aae</td>\n",
       "    </tr>\n",
       "    <tr>\n",
       "      <th>Taxi ID</th>\n",
       "      <td>6`382`425</td>\n",
       "      <td>nan</td>\n",
       "      <td>nan</td>\n",
       "      <td>0041f8f0c9</td>\n",
       "      <td>fff84aa08a</td>\n",
       "    </tr>\n",
       "    <tr>\n",
       "      <th>Trip Start Timestamp</th>\n",
       "      <td>6`382`425</td>\n",
       "      <td>nan</td>\n",
       "      <td>nan</td>\n",
       "      <td>01/01/2022</td>\n",
       "      <td>12/31/2022</td>\n",
       "    </tr>\n",
       "    <tr>\n",
       "      <th>Trip End Timestamp</th>\n",
       "      <td>6`382`213</td>\n",
       "      <td>nan</td>\n",
       "      <td>nan</td>\n",
       "      <td>01/01/2022</td>\n",
       "      <td>12/31/2022</td>\n",
       "    </tr>\n",
       "    <tr>\n",
       "      <th>Trip Seconds</th>\n",
       "      <td>6`380`960</td>\n",
       "      <td>1`198.21</td>\n",
       "      <td>1`895.66</td>\n",
       "      <td>0</td>\n",
       "      <td>86`341</td>\n",
       "    </tr>\n",
       "    <tr>\n",
       "      <th>Trip Miles</th>\n",
       "      <td>6`382`369</td>\n",
       "      <td>6.19</td>\n",
       "      <td>8.00</td>\n",
       "      <td>0</td>\n",
       "      <td>2`967.54</td>\n",
       "    </tr>\n",
       "    <tr>\n",
       "      <th>Pickup Census Tract</th>\n",
       "      <td>2`623`831</td>\n",
       "      <td>17`031`468`160.38</td>\n",
       "      <td>368`945.90</td>\n",
       "      <td>17`031`010`100</td>\n",
       "      <td>17`031`980`100</td>\n",
       "    </tr>\n",
       "    <tr>\n",
       "      <th>Dropoff Census Tract</th>\n",
       "      <td>2`675`331</td>\n",
       "      <td>17`031`411`846.86</td>\n",
       "      <td>345`773.49</td>\n",
       "      <td>17`031`010`100</td>\n",
       "      <td>17`031`980`100</td>\n",
       "    </tr>\n",
       "    <tr>\n",
       "      <th>Pickup Community Area</th>\n",
       "      <td>5`868`572</td>\n",
       "      <td>32.35</td>\n",
       "      <td>25.20</td>\n",
       "      <td>1</td>\n",
       "      <td>77</td>\n",
       "    </tr>\n",
       "    <tr>\n",
       "      <th>Dropoff Community Area</th>\n",
       "      <td>5`748`741</td>\n",
       "      <td>25.84</td>\n",
       "      <td>20.93</td>\n",
       "      <td>1</td>\n",
       "      <td>77</td>\n",
       "    </tr>\n",
       "    <tr>\n",
       "      <th>Fare</th>\n",
       "      <td>6`378`889</td>\n",
       "      <td>21.73</td>\n",
       "      <td>49.42</td>\n",
       "      <td>0</td>\n",
       "      <td>9`999.75</td>\n",
       "    </tr>\n",
       "    <tr>\n",
       "      <th>Tips</th>\n",
       "      <td>6`378`889</td>\n",
       "      <td>2.75</td>\n",
       "      <td>4.08</td>\n",
       "      <td>0</td>\n",
       "      <td>496</td>\n",
       "    </tr>\n",
       "    <tr>\n",
       "      <th>Tolls</th>\n",
       "      <td>6`378`889</td>\n",
       "      <td>0.02</td>\n",
       "      <td>7.66</td>\n",
       "      <td>0</td>\n",
       "      <td>6`666.66</td>\n",
       "    </tr>\n",
       "    <tr>\n",
       "      <th>Extras</th>\n",
       "      <td>6`378`889</td>\n",
       "      <td>2.16</td>\n",
       "      <td>21.75</td>\n",
       "      <td>0</td>\n",
       "      <td>8`888.88</td>\n",
       "    </tr>\n",
       "    <tr>\n",
       "      <th>Trip Total</th>\n",
       "      <td>6`378`889</td>\n",
       "      <td>26.83</td>\n",
       "      <td>56.96</td>\n",
       "      <td>0</td>\n",
       "      <td>9`999.75</td>\n",
       "    </tr>\n",
       "    <tr>\n",
       "      <th>Payment Type</th>\n",
       "      <td>6`382`425</td>\n",
       "      <td>nan</td>\n",
       "      <td>nan</td>\n",
       "      <td>Cash</td>\n",
       "      <td>Unknown</td>\n",
       "    </tr>\n",
       "    <tr>\n",
       "      <th>Company</th>\n",
       "      <td>6`382`425</td>\n",
       "      <td>nan</td>\n",
       "      <td>nan</td>\n",
       "      <td>24 Seven T</td>\n",
       "      <td>U Taxicab</td>\n",
       "    </tr>\n",
       "    <tr>\n",
       "      <th>Pickup Centroid Latitude</th>\n",
       "      <td>5`870`874</td>\n",
       "      <td>41.90</td>\n",
       "      <td>0.06</td>\n",
       "      <td>41.65</td>\n",
       "      <td>42.02</td>\n",
       "    </tr>\n",
       "    <tr>\n",
       "      <th>Pickup Centroid Longitude</th>\n",
       "      <td>5`870`874</td>\n",
       "      <td>-87.69</td>\n",
       "      <td>0.10</td>\n",
       "      <td>-87.91</td>\n",
       "      <td>-87.53</td>\n",
       "    </tr>\n",
       "    <tr>\n",
       "      <th>Pickup Centroid Location</th>\n",
       "      <td>5`870`874</td>\n",
       "      <td>nan</td>\n",
       "      <td>nan</td>\n",
       "      <td>POINT (-87</td>\n",
       "      <td>POINT (-87</td>\n",
       "    </tr>\n",
       "    <tr>\n",
       "      <th>Dropoff Centroid Latitude</th>\n",
       "      <td>5`784`494</td>\n",
       "      <td>41.89</td>\n",
       "      <td>0.06</td>\n",
       "      <td>41.66</td>\n",
       "      <td>42.02</td>\n",
       "    </tr>\n",
       "    <tr>\n",
       "      <th>Dropoff Centroid Longitude</th>\n",
       "      <td>5`784`494</td>\n",
       "      <td>-87.66</td>\n",
       "      <td>0.07</td>\n",
       "      <td>-87.91</td>\n",
       "      <td>-87.53</td>\n",
       "    </tr>\n",
       "    <tr>\n",
       "      <th>Dropoff Centroid  Location</th>\n",
       "      <td>5`784`494</td>\n",
       "      <td>nan</td>\n",
       "      <td>nan</td>\n",
       "      <td>POINT (-87</td>\n",
       "      <td>POINT (-87</td>\n",
       "    </tr>\n",
       "  </tbody>\n",
       "</table>\n",
       "</div>"
      ],
      "text/plain": [
       "summary                         count               mean      stddev  \\\n",
       "Trip ID                     6`382`425                nan         nan   \n",
       "Taxi ID                     6`382`425                nan         nan   \n",
       "Trip Start Timestamp        6`382`425                nan         nan   \n",
       "Trip End Timestamp          6`382`213                nan         nan   \n",
       "Trip Seconds                6`380`960           1`198.21    1`895.66   \n",
       "Trip Miles                  6`382`369               6.19        8.00   \n",
       "Pickup Census Tract         2`623`831  17`031`468`160.38  368`945.90   \n",
       "Dropoff Census Tract        2`675`331  17`031`411`846.86  345`773.49   \n",
       "Pickup Community Area       5`868`572              32.35       25.20   \n",
       "Dropoff Community Area      5`748`741              25.84       20.93   \n",
       "Fare                        6`378`889              21.73       49.42   \n",
       "Tips                        6`378`889               2.75        4.08   \n",
       "Tolls                       6`378`889               0.02        7.66   \n",
       "Extras                      6`378`889               2.16       21.75   \n",
       "Trip Total                  6`378`889              26.83       56.96   \n",
       "Payment Type                6`382`425                nan         nan   \n",
       "Company                     6`382`425                nan         nan   \n",
       "Pickup Centroid Latitude    5`870`874              41.90        0.06   \n",
       "Pickup Centroid Longitude   5`870`874             -87.69        0.10   \n",
       "Pickup Centroid Location    5`870`874                nan         nan   \n",
       "Dropoff Centroid Latitude   5`784`494              41.89        0.06   \n",
       "Dropoff Centroid Longitude  5`784`494             -87.66        0.07   \n",
       "Dropoff Centroid  Location  5`784`494                nan         nan   \n",
       "\n",
       "summary                                min             max  \n",
       "Trip ID                         000000bb18      ffffff1aae  \n",
       "Taxi ID                         0041f8f0c9      fff84aa08a  \n",
       "Trip Start Timestamp            01/01/2022      12/31/2022  \n",
       "Trip End Timestamp              01/01/2022      12/31/2022  \n",
       "Trip Seconds                             0          86`341  \n",
       "Trip Miles                               0        2`967.54  \n",
       "Pickup Census Tract         17`031`010`100  17`031`980`100  \n",
       "Dropoff Census Tract        17`031`010`100  17`031`980`100  \n",
       "Pickup Community Area                    1              77  \n",
       "Dropoff Community Area                   1              77  \n",
       "Fare                                     0        9`999.75  \n",
       "Tips                                     0             496  \n",
       "Tolls                                    0        6`666.66  \n",
       "Extras                                   0        8`888.88  \n",
       "Trip Total                               0        9`999.75  \n",
       "Payment Type                          Cash         Unknown  \n",
       "Company                         24 Seven T       U Taxicab  \n",
       "Pickup Centroid Latitude             41.65           42.02  \n",
       "Pickup Centroid Longitude           -87.91          -87.53  \n",
       "Pickup Centroid Location        POINT (-87      POINT (-87  \n",
       "Dropoff Centroid Latitude            41.66           42.02  \n",
       "Dropoff Centroid Longitude          -87.91          -87.53  \n",
       "Dropoff Centroid  Location      POINT (-87      POINT (-87  "
      ]
     },
     "execution_count": 27,
     "metadata": {},
     "output_type": "execute_result"
    }
   ],
   "source": [
    "drf.transpose()"
   ]
  },
  {
   "cell_type": "code",
   "execution_count": 28,
   "id": "586c2d7a-22b8-479d-92c2-d61433599aa6",
   "metadata": {},
   "outputs": [],
   "source": [
    "val = int(dr.transpose()['count'].astype(float).max())"
   ]
  },
  {
   "cell_type": "code",
   "execution_count": 29,
   "id": "015947cc-1da4-4347-9adc-e5e7bb982e84",
   "metadata": {},
   "outputs": [
    {
     "name": "stdout",
     "output_type": "stream",
     "text": [
      "6'382'425\n"
     ]
    }
   ],
   "source": [
    "print(pds.gvf(val))"
   ]
  },
  {
   "cell_type": "code",
   "execution_count": 18,
   "id": "9e91bc49-f481-4d19-8362-3c28893676b6",
   "metadata": {},
   "outputs": [
    {
     "name": "stdout",
     "output_type": "stream",
     "text": [
      "CPU times: user 5.85 ms, sys: 871 µs, total: 6.72 ms\n",
      "Wall time: 11.8 s\n"
     ]
    }
   ],
   "source": [
    "%%time\n",
    "row_count = taxi.count()\n",
    "\n",
    "# time cost i5 (7g), 4 workers (x) 2gb RAM\n",
    "# CPU times: user 5.85 ms, sys: 871 µs, total: 6.72 ms\n",
    "# Wall time: 11.8 s"
   ]
  },
  {
   "cell_type": "code",
   "execution_count": 19,
   "id": "23e8d3c0-1123-44d3-a755-b92ab844a2f4",
   "metadata": {},
   "outputs": [
    {
     "name": "stdout",
     "output_type": "stream",
     "text": [
      "6'382'425\n"
     ]
    }
   ],
   "source": [
    "print(pds.gvf(row_count))"
   ]
  },
  {
   "cell_type": "code",
   "execution_count": 74,
   "id": "24fcab8a-05a7-49a6-91b8-8690649f359c",
   "metadata": {},
   "outputs": [
    {
     "name": "stdout",
     "output_type": "stream",
     "text": [
      "================== 6'382'425\n"
     ]
    },
    {
     "data": {
      "text/html": [
       "<div>\n",
       "<style scoped>\n",
       "    .dataframe tbody tr th:only-of-type {\n",
       "        vertical-align: middle;\n",
       "    }\n",
       "\n",
       "    .dataframe tbody tr th {\n",
       "        vertical-align: top;\n",
       "    }\n",
       "\n",
       "    .dataframe thead th {\n",
       "        text-align: right;\n",
       "    }\n",
       "</style>\n",
       "<table border=\"1\" class=\"dataframe\">\n",
       "  <thead>\n",
       "    <tr style=\"text-align: right;\">\n",
       "      <th>summary</th>\n",
       "      <th>count</th>\n",
       "    </tr>\n",
       "  </thead>\n",
       "  <tbody>\n",
       "    <tr>\n",
       "      <th>Trip ID</th>\n",
       "      <td>6`382`425</td>\n",
       "    </tr>\n",
       "    <tr>\n",
       "      <th>Taxi ID</th>\n",
       "      <td>6`382`425</td>\n",
       "    </tr>\n",
       "    <tr>\n",
       "      <th>Trip Start Timestamp</th>\n",
       "      <td>6`382`425</td>\n",
       "    </tr>\n",
       "    <tr>\n",
       "      <th>Trip End Timestamp</th>\n",
       "      <td>6`382`213</td>\n",
       "    </tr>\n",
       "    <tr>\n",
       "      <th>Trip Seconds</th>\n",
       "      <td>6`380`960</td>\n",
       "    </tr>\n",
       "    <tr>\n",
       "      <th>Trip Miles</th>\n",
       "      <td>6`382`369</td>\n",
       "    </tr>\n",
       "    <tr>\n",
       "      <th>Fare</th>\n",
       "      <td>6`378`889</td>\n",
       "    </tr>\n",
       "    <tr>\n",
       "      <th>Tips</th>\n",
       "      <td>6`378`889</td>\n",
       "    </tr>\n",
       "    <tr>\n",
       "      <th>Tolls</th>\n",
       "      <td>6`378`889</td>\n",
       "    </tr>\n",
       "    <tr>\n",
       "      <th>Extras</th>\n",
       "      <td>6`378`889</td>\n",
       "    </tr>\n",
       "    <tr>\n",
       "      <th>Trip Total</th>\n",
       "      <td>6`378`889</td>\n",
       "    </tr>\n",
       "    <tr>\n",
       "      <th>Payment Type</th>\n",
       "      <td>6`382`425</td>\n",
       "    </tr>\n",
       "    <tr>\n",
       "      <th>Company</th>\n",
       "      <td>6`382`425</td>\n",
       "    </tr>\n",
       "  </tbody>\n",
       "</table>\n",
       "</div>"
      ],
      "text/plain": [
       "summary                   count\n",
       "Trip ID               6`382`425\n",
       "Taxi ID               6`382`425\n",
       "Trip Start Timestamp  6`382`425\n",
       "Trip End Timestamp    6`382`213\n",
       "Trip Seconds          6`380`960\n",
       "Trip Miles            6`382`369\n",
       "Fare                  6`378`889\n",
       "Tips                  6`378`889\n",
       "Tolls                 6`378`889\n",
       "Extras                6`378`889\n",
       "Trip Total            6`378`889\n",
       "Payment Type          6`382`425\n",
       "Company               6`382`425"
      ]
     },
     "execution_count": 74,
     "metadata": {},
     "output_type": "execute_result"
    }
   ],
   "source": [
    "# способ преобразования object столбца и\n",
    "# фильтрации по стоблцу с использование to_numeric\n",
    "drt = dr.transpose()\n",
    "drtf = drt[pd.to_numeric(drt['count'], errors='coerce') > row_count*0.99][['count']]\n",
    "# отображение отформатированных данных\n",
    "pds.get_df_formated(drtf,'`',2, 10)\n",
    "print('==================',pds.gvf(row_count))\n",
    "drtf"
   ]
  },
  {
   "cell_type": "code",
   "execution_count": 104,
   "id": "99ee6d02-b7fd-450e-9e50-46c0eb674427",
   "metadata": {},
   "outputs": [],
   "source": [
    "# способ преобразования object столбца и\n",
    "# фильтрации по стоблцу с использование astype\n",
    "# \n",
    "# можно сразу применять тип и фильтровать, но значения в поле не поменяют тип\n",
    "drtf1 = dr.transpose()[dr.transpose()['count'].astype(int) > -1][['count']]\n",
    "# \n",
    "# если нужны вычисления с полем, то надо создать дф\n",
    "drt1 = dr.transpose()\n",
    "drt1['count'] = drt1['count'].astype(float)\n",
    "drt1['not_null']=drt1['count']/row_count\n",
    "# drt1[['count','not_null']]"
   ]
  },
  {
   "cell_type": "code",
   "execution_count": 108,
   "id": "3d2d5a35-ea4d-4653-9d0d-e92bddaa07a2",
   "metadata": {},
   "outputs": [
    {
     "data": {
      "text/html": [
       "<div>\n",
       "<style scoped>\n",
       "    .dataframe tbody tr th:only-of-type {\n",
       "        vertical-align: middle;\n",
       "    }\n",
       "\n",
       "    .dataframe tbody tr th {\n",
       "        vertical-align: top;\n",
       "    }\n",
       "\n",
       "    .dataframe thead th {\n",
       "        text-align: right;\n",
       "    }\n",
       "</style>\n",
       "<table border=\"1\" class=\"dataframe\">\n",
       "  <thead>\n",
       "    <tr style=\"text-align: right;\">\n",
       "      <th>summary</th>\n",
       "      <th>count</th>\n",
       "      <th>not_null</th>\n",
       "    </tr>\n",
       "  </thead>\n",
       "  <tbody>\n",
       "    <tr>\n",
       "      <th>Trip ID</th>\n",
       "      <td>6`382`425</td>\n",
       "      <td>1</td>\n",
       "    </tr>\n",
       "    <tr>\n",
       "      <th>Taxi ID</th>\n",
       "      <td>6`382`425</td>\n",
       "      <td>1</td>\n",
       "    </tr>\n",
       "    <tr>\n",
       "      <th>Trip Start Timestamp</th>\n",
       "      <td>6`382`425</td>\n",
       "      <td>1</td>\n",
       "    </tr>\n",
       "    <tr>\n",
       "      <th>Trip End Timestamp</th>\n",
       "      <td>6`382`213</td>\n",
       "      <td>1.00</td>\n",
       "    </tr>\n",
       "    <tr>\n",
       "      <th>Trip Seconds</th>\n",
       "      <td>6`380`960</td>\n",
       "      <td>1.00</td>\n",
       "    </tr>\n",
       "    <tr>\n",
       "      <th>Trip Miles</th>\n",
       "      <td>6`382`369</td>\n",
       "      <td>1.00</td>\n",
       "    </tr>\n",
       "    <tr>\n",
       "      <th>Pickup Census Tract</th>\n",
       "      <td>2`623`831</td>\n",
       "      <td>0.41</td>\n",
       "    </tr>\n",
       "    <tr>\n",
       "      <th>Dropoff Census Tract</th>\n",
       "      <td>2`675`331</td>\n",
       "      <td>0.42</td>\n",
       "    </tr>\n",
       "    <tr>\n",
       "      <th>Pickup Community Area</th>\n",
       "      <td>5`868`572</td>\n",
       "      <td>0.92</td>\n",
       "    </tr>\n",
       "    <tr>\n",
       "      <th>Dropoff Community Area</th>\n",
       "      <td>5`748`741</td>\n",
       "      <td>0.90</td>\n",
       "    </tr>\n",
       "    <tr>\n",
       "      <th>Fare</th>\n",
       "      <td>6`378`889</td>\n",
       "      <td>1.00</td>\n",
       "    </tr>\n",
       "    <tr>\n",
       "      <th>Tips</th>\n",
       "      <td>6`378`889</td>\n",
       "      <td>1.00</td>\n",
       "    </tr>\n",
       "    <tr>\n",
       "      <th>Tolls</th>\n",
       "      <td>6`378`889</td>\n",
       "      <td>1.00</td>\n",
       "    </tr>\n",
       "    <tr>\n",
       "      <th>Extras</th>\n",
       "      <td>6`378`889</td>\n",
       "      <td>1.00</td>\n",
       "    </tr>\n",
       "    <tr>\n",
       "      <th>Trip Total</th>\n",
       "      <td>6`378`889</td>\n",
       "      <td>1.00</td>\n",
       "    </tr>\n",
       "    <tr>\n",
       "      <th>Payment Type</th>\n",
       "      <td>6`382`425</td>\n",
       "      <td>1</td>\n",
       "    </tr>\n",
       "    <tr>\n",
       "      <th>Company</th>\n",
       "      <td>6`382`425</td>\n",
       "      <td>1</td>\n",
       "    </tr>\n",
       "    <tr>\n",
       "      <th>Pickup Centroid Latitude</th>\n",
       "      <td>5`870`874</td>\n",
       "      <td>0.92</td>\n",
       "    </tr>\n",
       "    <tr>\n",
       "      <th>Pickup Centroid Longitude</th>\n",
       "      <td>5`870`874</td>\n",
       "      <td>0.92</td>\n",
       "    </tr>\n",
       "    <tr>\n",
       "      <th>Pickup Centroid Location</th>\n",
       "      <td>5`870`874</td>\n",
       "      <td>0.92</td>\n",
       "    </tr>\n",
       "    <tr>\n",
       "      <th>Dropoff Centroid Latitude</th>\n",
       "      <td>5`784`494</td>\n",
       "      <td>0.91</td>\n",
       "    </tr>\n",
       "    <tr>\n",
       "      <th>Dropoff Centroid Longitude</th>\n",
       "      <td>5`784`494</td>\n",
       "      <td>0.91</td>\n",
       "    </tr>\n",
       "    <tr>\n",
       "      <th>Dropoff Centroid  Location</th>\n",
       "      <td>5`784`494</td>\n",
       "      <td>0.91</td>\n",
       "    </tr>\n",
       "  </tbody>\n",
       "</table>\n",
       "</div>"
      ],
      "text/plain": [
       "summary                         count not_null\n",
       "Trip ID                     6`382`425        1\n",
       "Taxi ID                     6`382`425        1\n",
       "Trip Start Timestamp        6`382`425        1\n",
       "Trip End Timestamp          6`382`213     1.00\n",
       "Trip Seconds                6`380`960     1.00\n",
       "Trip Miles                  6`382`369     1.00\n",
       "Pickup Census Tract         2`623`831     0.41\n",
       "Dropoff Census Tract        2`675`331     0.42\n",
       "Pickup Community Area       5`868`572     0.92\n",
       "Dropoff Community Area      5`748`741     0.90\n",
       "Fare                        6`378`889     1.00\n",
       "Tips                        6`378`889     1.00\n",
       "Tolls                       6`378`889     1.00\n",
       "Extras                      6`378`889     1.00\n",
       "Trip Total                  6`378`889     1.00\n",
       "Payment Type                6`382`425        1\n",
       "Company                     6`382`425        1\n",
       "Pickup Centroid Latitude    5`870`874     0.92\n",
       "Pickup Centroid Longitude   5`870`874     0.92\n",
       "Pickup Centroid Location    5`870`874     0.92\n",
       "Dropoff Centroid Latitude   5`784`494     0.91\n",
       "Dropoff Centroid Longitude  5`784`494     0.91\n",
       "Dropoff Centroid  Location  5`784`494     0.91"
      ]
     },
     "metadata": {},
     "output_type": "display_data"
    },
    {
     "name": "stdout",
     "output_type": "stream",
     "text": [
      "================================\n",
      "==total rows count== 6'382'425\n",
      "================================\n",
      "=== columns count====== 23\n",
      "================================\n"
     ]
    }
   ],
   "source": [
    "drtf1 = drt1[drt1['count'] > -1][['count','not_null']]\n",
    "# display(drtf1)\n",
    "# отображение отформатированных данных\n",
    "pds.get_df_formated(drtf1,'`',2, 10)\n",
    "display(drtf1)\n",
    "print('================================')\n",
    "print('==total rows count==',pds.gvf(row_count))\n",
    "print('================================')\n",
    "print('=== columns count======',int(len(drtf1)))\n",
    "print('================================')"
   ]
  },
  {
   "cell_type": "markdown",
   "id": "ac782502-2295-4a83-b3b7-ef3186a9dbdd",
   "metadata": {},
   "source": [
    "Поля \"Census Tract\" и \"Community Area\" представляют собой два различных уровня административных единиц:\n",
    "\n",
    "**Census Tract:**  \n",
    "Это статистические единицы, используемые в переписи населения в США, проводимой каждые 10 лет.\n",
    "Census Tract обычно представляют собой географические области, населенные от 1 200 до 8 000 человек.\n",
    "Они предназначены для обеспечения стандартизированных данных для анализа населения, доходов, расового и этнического состава и других социально-экономических параметров.\n",
    "\n",
    "Далее для краткости буду называть данную адм.единицу - **Квартал**\n",
    "\n",
    "**Community Area:**  \n",
    "Это административные районы в городе Чикаго, разработанные городским правительством.\n",
    "Community Areas используются для организации и управления городскими службами и ресурсами.\n",
    "Обычно Community Areas выступают в качестве единиц анализа для изучения социальных и экономических показателей, таких как уровень преступности, доступность образования и здравоохранения и др.\n",
    "\n",
    "Далее для краткости буду называть данную адм.единицу - **Район**\n",
    "\n",
    "Community Area представляют собой административные районы, охватывающие большие части города, в то время как Census Tract более мелкие географические области, которые могут быть распределены по всему Community Area. Таким образом, Community Area охватывает несколько Census Tract и представляет собой более крупную административную единицу.\n",
    "\n",
    "В идеальной ситуации каждый Census Tract должен быть частью только одной Community Area, чтобы избежать перекрытий и дублирования данных. Однако в реальности могут быть исключения из-за изменений границ административных районов или других факторов."
   ]
  },
  {
   "cell_type": "markdown",
   "id": "2c358511-088e-4892-ba78-c3c68159333a",
   "metadata": {},
   "source": [
    "#### **Пропуски**  \n",
    "Видим, что  \n",
    "- 5 полей из 23 не содержат пропусков. 8 полей заполнены более чем на 99%.  \n",
    "- `Pickup Census Tract`, `Dropoff Census Tract` заполнены менее, чем на 50%\n",
    "- соответствующие поля с геоданными заполнены более, чем на 90%\n",
    "\n",
    "Поскольку прогноз строится для квартала, следует связать поля геоданных и кварталов. Попробую заполнить пропуски. В случае невозможности заполненения пропусков для кварталов, в качестве ключа-аггрегатора буду использовать геоточки."
   ]
  },
  {
   "cell_type": "code",
   "execution_count": 110,
   "id": "5ebba126-5855-4844-bed6-bba34d76fac0",
   "metadata": {},
   "outputs": [],
   "source": [
    "# Функция для вычисления частот\n",
    "def frq(df, column):\n",
    "    # Вычисляем частоту для каждого значения\n",
    "    freq_df = df.groupBy(column).count().orderBy(\"count\", ascending=False)\n",
    "    return freq_df"
   ]
  },
  {
   "cell_type": "code",
   "execution_count": 112,
   "id": "ca6beceb-285f-43b2-bb37-3fb77b91fd4d",
   "metadata": {},
   "outputs": [
    {
     "name": "stdout",
     "output_type": "stream",
     "text": [
      "+-------------------+-------+\n",
      "|Pickup Census Tract|  count|\n",
      "+-------------------+-------+\n",
      "|               null|3758594|\n",
      "|        17031980000| 519802|\n",
      "|        17031320100| 304178|\n",
      "|        17031839100| 284131|\n",
      "|        17031281900| 188178|\n",
      "|        17031081500| 174424|\n",
      "|        17031081403| 112656|\n",
      "|        17031330100| 108691|\n",
      "|        17031081401| 104198|\n",
      "|        17031980100|  85226|\n",
      "|        17031081201|  84359|\n",
      "|        17031081300|  76482|\n",
      "|        17031320400|  71039|\n",
      "|        17031081700|  63163|\n",
      "|        17031320600|  61120|\n",
      "|        17031280100|  55753|\n",
      "|        17031841000|  41201|\n",
      "|        17031081800|  39526|\n",
      "|        17031081402|  35200|\n",
      "|        17031081600|  30245|\n",
      "+-------------------+-------+\n",
      "only showing top 20 rows\n",
      "\n",
      "CPU times: user 8.5 ms, sys: 10.4 ms, total: 18.9 ms\n",
      "Wall time: 19.5 s\n"
     ]
    }
   ],
   "source": [
    "%%time\n",
    "pct_frq = frq(taxi,ct.pickup_ct)\n",
    "pct_frq.show()"
   ]
  },
  {
   "cell_type": "code",
   "execution_count": 113,
   "id": "7d4a6b0e-0585-4b4f-bc89-b330dd5af84c",
   "metadata": {},
   "outputs": [
    {
     "name": "stdout",
     "output_type": "stream",
     "text": [
      "+--------------------+-------+\n",
      "|Dropoff Census Tract|  count|\n",
      "+--------------------+-------+\n",
      "|                null|3707094|\n",
      "|         17031839100| 328855|\n",
      "|         17031320100| 277879|\n",
      "|         17031980000| 243652|\n",
      "|         17031081500| 160251|\n",
      "|         17031330100| 139399|\n",
      "|         17031081403| 133973|\n",
      "|         17031281900| 129117|\n",
      "|         17031081700| 114125|\n",
      "|         17031081401| 100596|\n",
      "|         17031081201|  87949|\n",
      "|         17031833000|  83912|\n",
      "|         17031320400|  81112|\n",
      "|         17031081800|  76118|\n",
      "|         17031081300|  75221|\n",
      "|         17031280100|  67209|\n",
      "|         17031320600|  59928|\n",
      "|         17031980100|  48559|\n",
      "|         17031841000|  42231|\n",
      "|         17031081600|  40664|\n",
      "+--------------------+-------+\n",
      "only showing top 20 rows\n",
      "\n",
      "CPU times: user 13.4 ms, sys: 1.9 ms, total: 15.3 ms\n",
      "Wall time: 14.8 s\n"
     ]
    }
   ],
   "source": [
    "%%time\n",
    "dct_frq = frq(taxi,ct.dropoff_ct)\n",
    "dct_frq.show()"
   ]
  },
  {
   "cell_type": "code",
   "execution_count": 114,
   "id": "8b678860-9fb3-43c9-aca7-d889a842a451",
   "metadata": {},
   "outputs": [
    {
     "name": "stdout",
     "output_type": "stream",
     "text": [
      "+---------------------+-------+\n",
      "|Pickup Community Area|  count|\n",
      "+---------------------+-------+\n",
      "|                    8|1482215|\n",
      "|                   32|1031010|\n",
      "|                   76| 989907|\n",
      "|                   28| 531280|\n",
      "|                 null| 513853|\n",
      "|                   33| 229646|\n",
      "|                    6| 229347|\n",
      "|                   56| 183449|\n",
      "|                    7| 150637|\n",
      "|                    3| 100679|\n",
      "|                   77|  76036|\n",
      "|                   24|  75849|\n",
      "|                    2|  47266|\n",
      "|                   41|  44448|\n",
      "|                   35|  35625|\n",
      "|                    1|  35251|\n",
      "|                   43|  33720|\n",
      "|                   38|  33032|\n",
      "|                   22|  31390|\n",
      "|                   16|  30553|\n",
      "+---------------------+-------+\n",
      "only showing top 20 rows\n",
      "\n",
      "CPU times: user 15.6 ms, sys: 9.18 ms, total: 24.8 ms\n",
      "Wall time: 14.9 s\n"
     ]
    }
   ],
   "source": [
    "%%time\n",
    "pca_frq = frq(taxi,ct.pickup_ca)\n",
    "pca_frq.show()"
   ]
  },
  {
   "cell_type": "code",
   "execution_count": 115,
   "id": "a6739042-aee7-4391-89f9-41c86dba77d2",
   "metadata": {},
   "outputs": [],
   "source": [
    "def compare_unique_values(df, field1, field2):\n",
    "    # Извлекаем уникальные значения для каждого поля\n",
    "    unique_values_field1 = df.select(field1).distinct().collect()\n",
    "    unique_values_field2 = df.select(field2).distinct().collect()\n",
    "    \n",
    "    # Преобразуем результаты в множества\n",
    "    set_field1 = {row[field1] for row in unique_values_field1}\n",
    "    set_field2 = {row[field2] for row in unique_values_field2}\n",
    "    \n",
    "    # Находим значения, которые есть в set_field1, но нет в set_field2\n",
    "    only_in_field1 = {value for value in set_field1 if value not in set_field2}\n",
    "    \n",
    "    # Находим значения, которые есть в set_field2, но нет в set_field1\n",
    "    only_in_field2 = {value for value in set_field2 if value not in set_field1}\n",
    "    \n",
    "    return only_in_field1, only_in_field2, set_field1, set_field2"
   ]
  },
  {
   "cell_type": "code",
   "execution_count": 116,
   "id": "26af8d45-70bf-4a25-8b9d-9af4b3726760",
   "metadata": {},
   "outputs": [
    {
     "name": "stdout",
     "output_type": "stream",
     "text": [
      "CPU times: user 55.2 ms, sys: 11 ms, total: 66.2 ms\n",
      "Wall time: 29 s\n"
     ]
    }
   ],
   "source": [
    "%%time\n",
    "only_pickup, only_dropoff, pickup, dropoff = \\\n",
    "compare_unique_values(taxi, ct.pickup_ct,ct.dropoff_ct)"
   ]
  },
  {
   "cell_type": "code",
   "execution_count": 117,
   "id": "0758ed38-b54f-4d28-aea6-d492759f631d",
   "metadata": {},
   "outputs": [
    {
     "name": "stdout",
     "output_type": "stream",
     "text": [
      "`Pickup Census Tract` distinct count: 666  | only in pickup set: 34\n",
      "`Dropoff Census Tract` distinct count: 812  | only in dropoff set: 180\n"
     ]
    }
   ],
   "source": [
    "print('`Pickup Census Tract` distinct count:',len(pickup), ' | only in pickup set:',len(only_pickup))\n",
    "print('`Dropoff Census Tract` distinct count:',len(dropoff), ' | only in dropoff set:',len(only_dropoff))"
   ]
  },
  {
   "cell_type": "markdown",
   "id": "919f8cd1-03b1-408d-89dd-b4406c9e48b9",
   "metadata": {},
   "source": [
    "### Тренировка отбора тэйком"
   ]
  },
  {
   "cell_type": "code",
   "execution_count": 118,
   "id": "ff573e50-9992-45c6-8c58-eb227173cf69",
   "metadata": {},
   "outputs": [
    {
     "name": "stdout",
     "output_type": "stream",
     "text": [
      "CPU times: user 6.64 ms, sys: 945 µs, total: 7.58 ms\n",
      "Wall time: 297 ms\n"
     ]
    },
    {
     "data": {
      "text/plain": [
       "[Row(Trip ID='bcfa19f2539021c054809d4c3993d226996ae095', Taxi ID='368ce5511598af2cc07efdb68067d381174fdac1d47a2837d021e647f4c8febb3d9bf330e155845b8217b9b451c29b1b9ecf5d55d4bfe6cfd5d79ffb49b1f334', Trip Start Timestamp='01/01/2022 12:00:00 AM', Trip End Timestamp='01/01/2022 12:00:00 AM', Trip Seconds=152, Trip Miles=0.1, Pickup Census Tract=None, Dropoff Census Tract=None, Pickup Community Area=None, Dropoff Community Area=None, Fare=3.75, Tips=0.0, Tolls=0.0, Extras=0.0, Trip Total=3.75, Payment Type='Cash', Company='Medallion Leasin', Pickup Centroid Latitude=None, Pickup Centroid Longitude=None, Pickup Centroid Location=None, Dropoff Centroid Latitude=None, Dropoff Centroid Longitude=None, Dropoff Centroid  Location=None)]"
      ]
     },
     "execution_count": 118,
     "metadata": {},
     "output_type": "execute_result"
    }
   ],
   "source": [
    "%%time\n",
    "taxi.take(1)"
   ]
  },
  {
   "cell_type": "code",
   "execution_count": 119,
   "id": "a7f96315-2ddc-4673-b5b0-dd7176c99b9c",
   "metadata": {},
   "outputs": [
    {
     "data": {
      "text/plain": [
       "[Row(Trip ID='bcfa19f2539021c054809d4c3993d226996ae095', Taxi ID='368ce5511598af2cc07efdb68067d381174fdac1d47a2837d021e647f4c8febb3d9bf330e155845b8217b9b451c29b1b9ecf5d55d4bfe6cfd5d79ffb49b1f334', Trip Start Timestamp='01/01/2022 12:00:00 AM', Trip End Timestamp='01/01/2022 12:00:00 AM', Trip Seconds=152, Trip Miles=0.1, Pickup Census Tract=None, Dropoff Census Tract=None, Pickup Community Area=None, Dropoff Community Area=None, Fare=3.75, Tips=0.0, Tolls=0.0, Extras=0.0, Trip Total=3.75, Payment Type='Cash', Company='Medallion Leasin', Pickup Centroid Latitude=None, Pickup Centroid Longitude=None, Pickup Centroid Location=None, Dropoff Centroid Latitude=None, Dropoff Centroid Longitude=None, Dropoff Centroid  Location=None),\n",
       " Row(Trip ID='2aba69ff015f9ea8e7bff43cab7eddb228f34a12', Taxi ID='449fa4909552757130d09d98ebc7770e2dd94579036b0e1958f92577ffc9fd6deca97bc1f229d2700865ce12b54d454ba96f973077386210ccbe44bfb7aac317', Trip Start Timestamp='01/01/2022 12:00:00 AM', Trip End Timestamp='01/01/2022 12:30:00 AM', Trip Seconds=2360, Trip Miles=17.44, Pickup Census Tract=None, Dropoff Census Tract=None, Pickup Community Area=None, Dropoff Community Area=8, Fare=47.75, Tips=0.0, Tolls=0.0, Extras=5.0, Trip Total=52.75, Payment Type='Cash', Company='Flash Cab', Pickup Centroid Latitude=None, Pickup Centroid Longitude=None, Pickup Centroid Location=None, Dropoff Centroid Latitude=41.899602111, Dropoff Centroid Longitude=-87.633308037, Dropoff Centroid  Location='POINT (-87.6333080367 41.899602111)')]"
      ]
     },
     "execution_count": 119,
     "metadata": {},
     "output_type": "execute_result"
    }
   ],
   "source": [
    "taxi.take(3)[:2]"
   ]
  },
  {
   "cell_type": "code",
   "execution_count": 139,
   "id": "fac20bc0-6cfa-4baa-b7ed-8dd2487f575b",
   "metadata": {},
   "outputs": [
    {
     "name": "stdout",
     "output_type": "stream",
     "text": [
      "CPU times: user 5.74 ms, sys: 642 µs, total: 6.38 ms\n",
      "Wall time: 203 ms\n"
     ]
    },
    {
     "data": {
      "text/plain": [
       "['bcfa19f2539021c054809d4c3993d226996ae095',\n",
       " '2aba69ff015f9ea8e7bff43cab7eddb228f34a12']"
      ]
     },
     "execution_count": 139,
     "metadata": {},
     "output_type": "execute_result"
    }
   ],
   "source": [
    "%%time\n",
    "# Отбор значений для одного элемента объекта Row (одно поле)\n",
    "[row[ct.trip_i] for row in taxi.take(3)[:2]]"
   ]
  },
  {
   "cell_type": "code",
   "execution_count": 140,
   "id": "11538bf7-892e-4789-a4da-606eadd70df2",
   "metadata": {},
   "outputs": [
    {
     "data": {
      "text/plain": [
       "[{'Trip ID': 'bcfa19f2539021c054809d4c3993d226996ae095',\n",
       "  'Taxi ID': '368ce5511598af2cc07efdb68067d381174fdac1d47a2837d021e647f4c8febb3d9bf330e155845b8217b9b451c29b1b9ecf5d55d4bfe6cfd5d79ffb49b1f334'},\n",
       " {'Trip ID': '2aba69ff015f9ea8e7bff43cab7eddb228f34a12',\n",
       "  'Taxi ID': '449fa4909552757130d09d98ebc7770e2dd94579036b0e1958f92577ffc9fd6deca97bc1f229d2700865ce12b54d454ba96f973077386210ccbe44bfb7aac317'}]"
      ]
     },
     "execution_count": 140,
     "metadata": {},
     "output_type": "execute_result"
    }
   ],
   "source": [
    "# список словарей\n",
    "[{field: row[field] for field in [ct.trip_i, ct.taxi_i]} for row in taxi.take(3)[:2]]"
   ]
  },
  {
   "cell_type": "code",
   "execution_count": 141,
   "id": "a6b9f342-351b-4830-baa2-b86331180b90",
   "metadata": {},
   "outputs": [
    {
     "data": {
      "text/plain": [
       "[['bcfa19f2539021c054809d4c3993d226996ae095',\n",
       "  '2aba69ff015f9ea8e7bff43cab7eddb228f34a12'],\n",
       " ['368ce5511598af2cc07efdb68067d381174fdac1d47a2837d021e647f4c8febb3d9bf330e155845b8217b9b451c29b1b9ecf5d55d4bfe6cfd5d79ffb49b1f334',\n",
       "  '449fa4909552757130d09d98ebc7770e2dd94579036b0e1958f92577ffc9fd6deca97bc1f229d2700865ce12b54d454ba96f973077386210ccbe44bfb7aac317']]"
      ]
     },
     "execution_count": 141,
     "metadata": {},
     "output_type": "execute_result"
    }
   ],
   "source": [
    "# список списков для нескольких полей, несколько проходов\n",
    "[[row[ct.trip_i] for row in taxi.take(3)[:2]], [row[ct.taxi_i] for row in taxi.take(3)[:2]]]"
   ]
  },
  {
   "cell_type": "code",
   "execution_count": 142,
   "id": "6e056516-2e6d-4ccd-b6e8-3ed8242712ef",
   "metadata": {},
   "outputs": [
    {
     "data": {
      "text/plain": [
       "[('bcfa19f2539021c054809d4c3993d226996ae095',\n",
       "  '2aba69ff015f9ea8e7bff43cab7eddb228f34a12'),\n",
       " ('368ce5511598af2cc07efdb68067d381174fdac1d47a2837d021e647f4c8febb3d9bf330e155845b8217b9b451c29b1b9ecf5d55d4bfe6cfd5d79ffb49b1f334',\n",
       "  '449fa4909552757130d09d98ebc7770e2dd94579036b0e1958f92577ffc9fd6deca97bc1f229d2700865ce12b54d454ba96f973077386210ccbe44bfb7aac317')]"
      ]
     },
     "execution_count": 142,
     "metadata": {},
     "output_type": "execute_result"
    }
   ],
   "source": [
    "# список кортежей, один проход\n",
    "list(zip(*[[row[ct.trip_i], row[ct.taxi_i]] for row in taxi.take(3)[:2]]))"
   ]
  },
  {
   "cell_type": "code",
   "execution_count": 143,
   "id": "45706cf6-ac35-4b78-b730-3ca92aa31de8",
   "metadata": {},
   "outputs": [
    {
     "data": {
      "text/plain": [
       "[['bcfa19f2539021c054809d4c3993d226996ae095',\n",
       "  '2aba69ff015f9ea8e7bff43cab7eddb228f34a12'],\n",
       " ['368ce5511598af2cc07efdb68067d381174fdac1d47a2837d021e647f4c8febb3d9bf330e155845b8217b9b451c29b1b9ecf5d55d4bfe6cfd5d79ffb49b1f334',\n",
       "  '449fa4909552757130d09d98ebc7770e2dd94579036b0e1958f92577ffc9fd6deca97bc1f229d2700865ce12b54d454ba96f973077386210ccbe44bfb7aac317']]"
      ]
     },
     "execution_count": 143,
     "metadata": {},
     "output_type": "execute_result"
    }
   ],
   "source": [
    "# список списков - один проход\n",
    "[list(t) for t in zip(*[[row[ct.trip_i], row[ct.taxi_i]] for row in taxi.take(3)[:2]])]"
   ]
  },
  {
   "cell_type": "code",
   "execution_count": 144,
   "id": "43fabc44-f53b-42bc-a15b-5a64b22ccf6a",
   "metadata": {},
   "outputs": [
    {
     "data": {
      "text/plain": [
       "[['bcfa19f2539021c054809d4c3993d226996ae095',\n",
       "  '2aba69ff015f9ea8e7bff43cab7eddb228f34a12'],\n",
       " ['368ce5511598af2cc07efdb68067d381174fdac1d47a2837d021e647f4c8febb3d9bf330e155845b8217b9b451c29b1b9ecf5d55d4bfe6cfd5d79ffb49b1f334',\n",
       "  '449fa4909552757130d09d98ebc7770e2dd94579036b0e1958f92577ffc9fd6deca97bc1f229d2700865ce12b54d454ba96f973077386210ccbe44bfb7aac317']]"
      ]
     },
     "execution_count": 144,
     "metadata": {},
     "output_type": "execute_result"
    }
   ],
   "source": [
    "# список списков - произвольный список полей один проход.\n",
    "fields = [ct.trip_i, ct.taxi_i]\n",
    "\n",
    "[list(t) for t in zip(*[[row[field] for field in fields] for row in taxi.take(3)[:2]])]"
   ]
  },
  {
   "cell_type": "markdown",
   "id": "3797712a-6ec0-458e-bf4c-b13cace416a5",
   "metadata": {},
   "source": [
    "***Использование `zip(*...)` и генератора списка*** для преобразования кортежей в списки имеет минимальные накладные расходы. Эти операции довольно быстры, так как они выполняются в памяти и не требуют значительных вычислительных ресурсов.\n",
    "\n",
    "Вот краткий обзор того, как работают эти преобразования:\n",
    "\n",
    "**zip(*...)**: Это операция, которая транспонирует список списков. Она создает итератор, который группирует элементы из каждого из входных списков. Это делается за один проход по данным, что делает его очень эффективным.\n",
    "Генератор списка: Преобразование каждого кортежа в список с помощью генератора списка `[list(t) for t in ...]` также выполняется за один проход по данным и выполняет простое преобразование типов. Это эффективно и не требует значительных вычислительных затрат.  \n",
    "Для небольших наборов данных (несколько десятков или сотен элементов) накладные расходы будут практически незаметными. Для больших наборов данных, таких как миллионы элементов, накладные расходы могут стать более заметными, но по-прежнему будут минимальными по сравнению с другими более затратными операциями (например, ввод-вывод на диск или сложные вычисления).\n",
    "\n",
    "Чтобы продемонстрировать минимальные накладные расходы, давайте рассмотрим пример с измерением времени:"
   ]
  },
  {
   "cell_type": "code",
   "execution_count": 145,
   "id": "0fefa124-a952-49fc-84ff-2564f6b584e7",
   "metadata": {},
   "outputs": [
    {
     "name": "stdout",
     "output_type": "stream",
     "text": [
      "Время выполнения:  3.4812140464782715\n"
     ]
    }
   ],
   "source": [
    "# Пример данных\n",
    "rows = [{ct.trip_i: f'trip_id_{i}', ct.taxi_i: f'taxi_id_{i}'} for i in range(1000000)]\n",
    "\n",
    "# Измеряем время выполнения преобразования\n",
    "start_time = time.time()\n",
    "[list(t) for t in zip(*[[row[ct.trip_i], row[ct.taxi_i]] for row in rows])]\n",
    "end_time = time.time()\n",
    "\n",
    "print(\"Время выполнения: \", end_time - start_time)"
   ]
  },
  {
   "cell_type": "markdown",
   "id": "35ea2478-becf-4abf-96dc-000c5377997f",
   "metadata": {},
   "source": [
    "В большинстве случаев такие преобразования в Python очень эффективны, и вам не стоит беспокоиться о них, если нет необходимости оптимизировать производительность до предела."
   ]
  },
  {
   "cell_type": "code",
   "execution_count": 191,
   "id": "8cf065d4-c742-446e-822a-704b9b9c93f3",
   "metadata": {},
   "outputs": [
    {
     "name": "stdout",
     "output_type": "stream",
     "text": [
      "CPU times: user 0 ns, sys: 10.2 ms, total: 10.2 ms\n",
      "Wall time: 118 ms\n"
     ]
    },
    {
     "data": {
      "text/plain": [
       "[Row(Trip ID='bcfa19f2539021c054809d4c3993d226996ae095'),\n",
       " Row(Trip ID='2aba69ff015f9ea8e7bff43cab7eddb228f34a12')]"
      ]
     },
     "execution_count": 191,
     "metadata": {},
     "output_type": "execute_result"
    }
   ],
   "source": [
    "%%time\n",
    "taxi.select(ct.trip_i).take(3)[:2]"
   ]
  },
  {
   "cell_type": "code",
   "execution_count": 30,
   "id": "b44501f4-1fdb-45f8-bd07-ca63cc45291a",
   "metadata": {},
   "outputs": [
    {
     "name": "stdout",
     "output_type": "stream",
     "text": [
      "CPU times: user 11.8 ms, sys: 8.17 ms, total: 20 ms\n",
      "Wall time: 14.3 s\n"
     ]
    }
   ],
   "source": [
    "%%time\n",
    "pck = taxi.select('Pickup Census Tract').distinct().collect()"
   ]
  },
  {
   "cell_type": "code",
   "execution_count": 31,
   "id": "c05126a7-cd10-4332-9458-c859aaf8831b",
   "metadata": {},
   "outputs": [
    {
     "name": "stdout",
     "output_type": "stream",
     "text": [
      "CPU times: user 14.6 ms, sys: 1.8 ms, total: 16.4 ms\n",
      "Wall time: 15.3 s\n"
     ]
    }
   ],
   "source": [
    "%%time\n",
    "taxi.createOrReplaceTempView(\"taxis\")\n",
    "result = spark.sql(\"SELECT DISTINCT `Pickup Census Tract` FROM taxis\")\n",
    "pck2 = result.collect()"
   ]
  },
  {
   "cell_type": "code",
   "execution_count": 32,
   "id": "73411b35-0938-47d2-877c-c15061b53dae",
   "metadata": {},
   "outputs": [],
   "source": [
    "import time\n",
    "from tqdm import tqdm"
   ]
  },
  {
   "cell_type": "code",
   "execution_count": 33,
   "id": "abddf343-64ce-4a39-9f8c-ab767edaf918",
   "metadata": {},
   "outputs": [
    {
     "name": "stderr",
     "output_type": "stream",
     "text": [
      "100%|██████████| 5/5 [01:09<00:00, 13.84s/it]"
     ]
    },
    {
     "name": "stdout",
     "output_type": "stream",
     "text": [
      "Среднее время выполнения для первого блока кода: 13.83 секунд\n"
     ]
    },
    {
     "name": "stderr",
     "output_type": "stream",
     "text": [
      "\n"
     ]
    }
   ],
   "source": [
    "# Количество испытаний\n",
    "num_trials = 5\n",
    "\n",
    "# Время выполнения для первого блока кода: сбор уникальных значений с помощью DataFrame API\n",
    "pck_times = []\n",
    "for _ in tqdm(range(num_trials)):\n",
    "    start_time = time.time()\n",
    "    pck = taxi.select('Pickup Census Tract').distinct().collect()\n",
    "    end_time = time.time()\n",
    "    pck_times.append(end_time - start_time)\n",
    "\n",
    "# Вывод среднего времени выполнения для первого блока кода\n",
    "print(\"Среднее время выполнения для первого блока кода: {:.2f} секунд\".format(sum(pck_times) / num_trials))"
   ]
  },
  {
   "cell_type": "code",
   "execution_count": 34,
   "id": "f3f624b3-8fd2-48b7-aa43-d402d3f885c7",
   "metadata": {},
   "outputs": [
    {
     "name": "stderr",
     "output_type": "stream",
     "text": [
      "100%|██████████| 5/5 [01:09<00:00, 13.93s/it]"
     ]
    },
    {
     "name": "stdout",
     "output_type": "stream",
     "text": [
      "Среднее время выполнения для второго блока кода: 13.93 секунд\n"
     ]
    },
    {
     "name": "stderr",
     "output_type": "stream",
     "text": [
      "\n"
     ]
    }
   ],
   "source": [
    "# Время выполнения для второго блока кода: сбор уникальных значений с помощью SQL запроса\n",
    "result_times = []\n",
    "for _ in tqdm(range(num_trials)):\n",
    "    start_time = time.time()\n",
    "    taxi.createOrReplaceTempView(\"taxis\")\n",
    "    result = spark.sql(\"SELECT DISTINCT `Pickup Census Tract` FROM taxis\")\n",
    "    pck2 = result.collect()\n",
    "    end_time = time.time()\n",
    "    result_times.append(end_time - start_time)\n",
    "\n",
    "# Вывод среднего времени выполнения для второго блока кода\n",
    "print(\"Среднее время выполнения для второго блока кода: {:.2f} секунд\".format(sum(result_times) / num_trials))\n"
   ]
  },
  {
   "cell_type": "code",
   "execution_count": null,
   "id": "8349e11e-3459-4ba4-81d6-f46f79ed55c2",
   "metadata": {},
   "outputs": [],
   "source": []
  },
  {
   "cell_type": "code",
   "execution_count": null,
   "id": "48d4cf7a-49bb-43ca-bc87-cea6ffa300c1",
   "metadata": {},
   "outputs": [],
   "source": []
  },
  {
   "cell_type": "code",
   "execution_count": 174,
   "id": "e582338c-56f7-4c0b-8630-0a4dc62b8926",
   "metadata": {},
   "outputs": [
    {
     "name": "stdout",
     "output_type": "stream",
     "text": [
      "CPU times: user 28.5 ms, sys: 4.2 ms, total: 32.7 ms\n",
      "Wall time: 17.2 s\n"
     ]
    }
   ],
   "source": [
    "%%time\n",
    "f1 = ct.pickup_ct # 'Pickup Census Tract'\n",
    "f2 = ct.pickup_cl # 'Pickup Centroid Latitude'\n",
    "f3 = ct.pickup_clon # 'Pickup Centroid Longitude'\n",
    "pckgeo = taxi.select(f1, f2, f3).distinct().collect()"
   ]
  },
  {
   "cell_type": "code",
   "execution_count": 175,
   "id": "856c9fa8-ceab-4af7-a0f5-d31a7f2d28ac",
   "metadata": {},
   "outputs": [
    {
     "data": {
      "text/plain": [
       "743"
      ]
     },
     "execution_count": 175,
     "metadata": {},
     "output_type": "execute_result"
    }
   ],
   "source": [
    "len(pckgeo)"
   ]
  },
  {
   "cell_type": "code",
   "execution_count": 39,
   "id": "259ad12a-0b29-4cfa-b5bd-4c690c49b392",
   "metadata": {},
   "outputs": [
    {
     "data": {
      "text/plain": [
       "[Row(Pickup Census Tract=17031071300, Pickup Centroid Location='POINT (-87.6414597588 41.9217783562)', Pickup Centroid Location='POINT (-87.6414597588 41.9217783562)'),\n",
       " Row(Pickup Census Tract=None, Pickup Centroid Location='POINT (-87.6487879519 41.8361501547)', Pickup Centroid Location='POINT (-87.6487879519 41.8361501547)'),\n",
       " Row(Pickup Census Tract=17031040100, Pickup Centroid Location='POINT (-87.681993542 41.9833308063)', Pickup Centroid Location='POINT (-87.681993542 41.9833308063)')]"
      ]
     },
     "execution_count": 39,
     "metadata": {},
     "output_type": "execute_result"
    }
   ],
   "source": [
    "pckgeo[:3]"
   ]
  },
  {
   "cell_type": "code",
   "execution_count": 40,
   "id": "be425be6-590f-4073-9436-6459501ca6bd",
   "metadata": {},
   "outputs": [
    {
     "data": {
      "text/plain": [
       "78"
      ]
     },
     "execution_count": 40,
     "metadata": {},
     "output_type": "execute_result"
    }
   ],
   "source": [
    "len([row for row in pckgeo if row[f1] is None])"
   ]
  },
  {
   "cell_type": "code",
   "execution_count": 41,
   "id": "9e0d2bbe-0ecd-4911-8d43-5cab08865451",
   "metadata": {},
   "outputs": [],
   "source": [
    "from collections import defaultdict"
   ]
  },
  {
   "cell_type": "code",
   "execution_count": 42,
   "id": "5ee9f79b-436c-4937-88ba-61d62461e7e6",
   "metadata": {},
   "outputs": [
    {
     "name": "stderr",
     "output_type": "stream",
     "text": [
      "100%|██████████| 743/743 [00:00<00:00, 56315.15it/s]\n"
     ]
    }
   ],
   "source": [
    "# Инициализация словаря для хранения значений\n",
    "tract_to_coords = defaultdict(list)\n",
    "\n",
    "# Заполнение словаря\n",
    "for row in tqdm(pckgeo):\n",
    "    tract = row[f1]\n",
    "    coords = (row[f3], row[f2])\n",
    "    tract_to_coords[tract].append(coords)\n",
    "\n",
    "# Поиск районов с разными значениями широты и долготы\n",
    "repeated_tracts = {tract: coords for tract, coords in tract_to_coords.items() if len(set(coords)) > 1}"
   ]
  },
  {
   "cell_type": "code",
   "execution_count": 44,
   "id": "ef7b7c2b-e80d-470b-8f10-21417c2543fc",
   "metadata": {},
   "outputs": [
    {
     "name": "stdout",
     "output_type": "stream",
     "text": [
      "Район: None, Количетво геоточек: 78\n",
      "\n",
      "Количество районов с разными значениями широты и долготы: 1\n"
     ]
    }
   ],
   "source": [
    "# Вывод результатов\n",
    "for tract, coords in repeated_tracts.items():\n",
    "    print(f\"Район: {tract}, Количетво геоточек: {len(coords)}\")\n",
    "    print()\n",
    "\n",
    "# Количество таких районов\n",
    "print(f\"Количество районов с разными значениями широты и долготы: {len(repeated_tracts)}\")"
   ]
  },
  {
   "cell_type": "code",
   "execution_count": 45,
   "id": "445e33ad-194b-444b-900c-88fac621003d",
   "metadata": {},
   "outputs": [],
   "source": [
    "for geop in repeated_tracts[None]:\n",
    "    if geop == (None,None): continue\n",
    "    # print(f\"geop {geop}\")\n",
    "    for tract, geos in tract_to_coords.items():\n",
    "        if tract is None: continue\n",
    "        if geop in geos:\n",
    "            print(f\"geopoint: {geop} - {tract}\")"
   ]
  },
  {
   "cell_type": "code",
   "execution_count": 71,
   "id": "1a58d7d2-d65b-40e6-a3dd-2f323f994538",
   "metadata": {},
   "outputs": [],
   "source": [
    "# tract_to_coords"
   ]
  },
  {
   "cell_type": "code",
   "execution_count": 45,
   "id": "aba7b7f3-4dd4-4b9f-b6c0-dafac4fb23f1",
   "metadata": {},
   "outputs": [
    {
     "name": "stdout",
     "output_type": "stream",
     "text": [
      "CPU times: user 24.6 ms, sys: 9.45 ms, total: 34 ms\n",
      "Wall time: 14.4 s\n"
     ]
    }
   ],
   "source": [
    "%%time\n",
    "geos_pck = taxi.select(f2, f3).distinct().orderBy(f2, f3).collect()"
   ]
  },
  {
   "cell_type": "code",
   "execution_count": 46,
   "id": "f2431796-d78f-4f51-a591-8c8fec153109",
   "metadata": {},
   "outputs": [
    {
     "data": {
      "text/plain": [
       "616"
      ]
     },
     "execution_count": 46,
     "metadata": {},
     "output_type": "execute_result"
    }
   ],
   "source": [
    "len(geos_pck)"
   ]
  },
  {
   "cell_type": "code",
   "execution_count": 47,
   "id": "1b339658-0653-4c75-bb96-5f9e5eb3b9c9",
   "metadata": {},
   "outputs": [
    {
     "data": {
      "text/plain": [
       "[Row(Pickup Centroid Latitude=None, Pickup Centroid Longitude=None),\n",
       " Row(Pickup Centroid Latitude=41.651921576, Pickup Centroid Longitude=-87.564929171),\n",
       " Row(Pickup Centroid Latitude=41.660136051, Pickup Centroid Longitude=-87.60284764),\n",
       " Row(Pickup Centroid Latitude=41.663670652, Pickup Centroid Longitude=-87.540935513),\n",
       " Row(Pickup Centroid Latitude=41.663759731, Pickup Centroid Longitude=-87.637304085)]"
      ]
     },
     "execution_count": 47,
     "metadata": {},
     "output_type": "execute_result"
    }
   ],
   "source": [
    "geos_pck[:5]"
   ]
  },
  {
   "cell_type": "code",
   "execution_count": 48,
   "id": "63549c1e-2d15-43f6-8ec4-7d08020b1575",
   "metadata": {},
   "outputs": [
    {
     "name": "stdout",
     "output_type": "stream",
     "text": [
      "CPU times: user 38.4 ms, sys: 2.33 ms, total: 40.7 ms\n",
      "Wall time: 14.6 s\n"
     ]
    }
   ],
   "source": [
    "%%time\n",
    "f2 = 'Pickup Centroid Latitude'\n",
    "f3 = 'Pickup Centroid Longitude'\n",
    "geos_pck_not_null = taxi.select(f2, f3).filter(taxi[f2].isNotNull() &\n",
    "                taxi[f3].isNotNull()).distinct().orderBy(taxi[f2].asc(), taxi[f3].asc()).collect()"
   ]
  },
  {
   "cell_type": "code",
   "execution_count": 49,
   "id": "9455028a-f3ab-459c-aacb-4cb140e0c2eb",
   "metadata": {},
   "outputs": [
    {
     "data": {
      "text/plain": [
       "[Row(Pickup Centroid Latitude=41.651921576, Pickup Centroid Longitude=-87.564929171),\n",
       " Row(Pickup Centroid Latitude=41.660136051, Pickup Centroid Longitude=-87.60284764),\n",
       " Row(Pickup Centroid Latitude=41.663670652, Pickup Centroid Longitude=-87.540935513),\n",
       " Row(Pickup Centroid Latitude=41.663759731, Pickup Centroid Longitude=-87.637304085),\n",
       " Row(Pickup Centroid Latitude=41.665167734, Pickup Centroid Longitude=-87.535284961)]"
      ]
     },
     "execution_count": 49,
     "metadata": {},
     "output_type": "execute_result"
    }
   ],
   "source": [
    "geos_pck_not_null[:5]"
   ]
  },
  {
   "cell_type": "code",
   "execution_count": 50,
   "id": "bae0e17e-a42b-4b93-bdf0-77fc4a64419d",
   "metadata": {},
   "outputs": [
    {
     "name": "stdout",
     "output_type": "stream",
     "text": [
      "CPU times: user 3.96 s, sys: 92.4 ms, total: 4.05 s\n",
      "Wall time: 17.9 s\n"
     ]
    }
   ],
   "source": [
    "%%time\n",
    "geos_pck_not_null = taxi.select(f2, f3).filter(taxi[f2].isNull() &\n",
    "                taxi[f3].isNull()).collect()"
   ]
  },
  {
   "cell_type": "code",
   "execution_count": 51,
   "id": "6397549a-0d33-4f8d-b108-604921680901",
   "metadata": {},
   "outputs": [
    {
     "name": "stdout",
     "output_type": "stream",
     "text": [
      "CPU times: user 273 ms, sys: 984 µs, total: 274 ms\n",
      "Wall time: 295 ms\n"
     ]
    }
   ],
   "source": [
    "%%time\n",
    "geos_pck_not_null = taxi.select(f2, f3).filter(taxi[f2].isNull() & taxi[f3].isNull())"
   ]
  },
  {
   "cell_type": "code",
   "execution_count": 53,
   "id": "e36bf6c1-c4cc-4f80-901f-73b6ea4fa03d",
   "metadata": {},
   "outputs": [
    {
     "name": "stdout",
     "output_type": "stream",
     "text": [
      "511'551\n",
      "CPU times: user 0 ns, sys: 7.49 ms, total: 7.49 ms\n",
      "Wall time: 13.1 s\n"
     ]
    }
   ],
   "source": [
    "%%time\n",
    "print(pds.gvf(geos_pck_not_null.count()))"
   ]
  },
  {
   "cell_type": "code",
   "execution_count": 55,
   "id": "fb8eaae9-bc54-40f8-8ec7-2bf6c30b1d71",
   "metadata": {},
   "outputs": [
    {
     "name": "stdout",
     "output_type": "stream",
     "text": [
      "CPU times: user 11.3 ms, sys: 0 ns, total: 11.3 ms\n",
      "Wall time: 12.9 s\n"
     ]
    },
    {
     "data": {
      "text/plain": [
       "0"
      ]
     },
     "execution_count": 55,
     "metadata": {},
     "output_type": "execute_result"
    }
   ],
   "source": [
    "%%time\n",
    "taxi.select(f2, f3).filter(taxi[f2].isNull() &\n",
    "                taxi[f3].isNotNull()).count()"
   ]
  },
  {
   "cell_type": "code",
   "execution_count": 56,
   "id": "758468b7-019f-4e08-959e-1cfb48fa4785",
   "metadata": {},
   "outputs": [
    {
     "name": "stdout",
     "output_type": "stream",
     "text": [
      "CPU times: user 6.02 ms, sys: 8.44 ms, total: 14.5 ms\n",
      "Wall time: 13.5 s\n"
     ]
    },
    {
     "data": {
      "text/plain": [
       "0"
      ]
     },
     "execution_count": 56,
     "metadata": {},
     "output_type": "execute_result"
    }
   ],
   "source": [
    "%%time\n",
    "taxi.select(f2, f3).filter(taxi[f2].isNotNull() &\n",
    "                taxi[f3].isNull()).count()"
   ]
  },
  {
   "cell_type": "code",
   "execution_count": 93,
   "id": "e1814458-5107-475e-a0da-efcab55e084c",
   "metadata": {},
   "outputs": [
    {
     "data": {
      "text/plain": [
       "78"
      ]
     },
     "execution_count": 93,
     "metadata": {},
     "output_type": "execute_result"
    }
   ],
   "source": [
    "taxi.select(ct.pickup_ca).distinct().count()"
   ]
  },
  {
   "cell_type": "code",
   "execution_count": 94,
   "id": "85d8dcad-483c-4bb7-a409-b55fcf530855",
   "metadata": {},
   "outputs": [
    {
     "data": {
      "text/plain": [
       "78"
      ]
     },
     "execution_count": 94,
     "metadata": {},
     "output_type": "execute_result"
    }
   ],
   "source": [
    "taxi.select(ct.dropoff_ca).distinct().count()"
   ]
  },
  {
   "cell_type": "code",
   "execution_count": 95,
   "id": "f46ce5a4-15ec-42c1-ad4d-82ab052e6a5d",
   "metadata": {},
   "outputs": [
    {
     "name": "stdout",
     "output_type": "stream",
     "text": [
      "*******-------------*******\n"
     ]
    }
   ],
   "source": [
    "ct.testtt()"
   ]
  },
  {
   "cell_type": "code",
   "execution_count": 96,
   "id": "1530d7ed-377d-4bd2-b645-fe0d1df28372",
   "metadata": {},
   "outputs": [
    {
     "data": {
      "text/plain": [
       "{'trip_i': 'Trip ID',\n",
       " 'taxi_i': 'Taxi ID',\n",
       " 'trip_st': 'Trip Start Timestamp',\n",
       " 'trip_et': 'Trip End Timestamp',\n",
       " 'trip_s': 'Trip Seconds',\n",
       " 'trip_m': 'Trip Miles',\n",
       " 'pickup_ct': 'Pickup Census Tract',\n",
       " 'dropoff_ct': 'Dropoff Census Tract',\n",
       " 'pickup_ca': 'Pickup Community Area',\n",
       " 'dropoff_ca': 'Dropoff Community Area',\n",
       " 'fare': 'Fare',\n",
       " 'tips': 'Tips',\n",
       " 'tolls': 'Tolls',\n",
       " 'extras': 'Extras',\n",
       " 'trip_t': 'Trip Total',\n",
       " 'payment_t': 'Payment Type',\n",
       " 'company': 'Company',\n",
       " 'pickup_cl': 'Pickup Centroid Latitude',\n",
       " 'pickup_clon': 'Pickup Centroid Longitude',\n",
       " 'pickup_cloc': 'Pickup Centroid Location',\n",
       " 'dropoff_cl': 'Dropoff Centroid Latitude',\n",
       " 'dropoff_clon': 'Dropoff Centroid Longitude',\n",
       " 'dropoff_cloc': 'Dropoff Centroid  Location'}"
      ]
     },
     "execution_count": 96,
     "metadata": {},
     "output_type": "execute_result"
    }
   ],
   "source": [
    "ct.get_aliases()"
   ]
  },
  {
   "cell_type": "code",
   "execution_count": 98,
   "id": "6161184d-dfc3-49f4-94ac-6d08db62cfe3",
   "metadata": {},
   "outputs": [
    {
     "data": {
      "text/plain": [
       "[Row(Trip ID='bcfa19f2539021c054809d4c3993d226996ae095', Taxi ID='368ce5511598af2cc07efdb68067d381174fdac1d47a2837d021e647f4c8febb3d9bf330e155845b8217b9b451c29b1b9ecf5d55d4bfe6cfd5d79ffb49b1f334', Trip Start Timestamp='01/01/2022 12:00:00 AM', Trip End Timestamp='01/01/2022 12:00:00 AM', Trip Seconds=152, Trip Miles=0.1, Pickup Census Tract=None, Dropoff Census Tract=None, Pickup Community Area=None, Dropoff Community Area=None, Fare=3.75, Tips=0.0, Tolls=0.0, Extras=0.0, Trip Total=3.75, Payment Type='Cash', Company='Medallion Leasin', Pickup Centroid Latitude=None, Pickup Centroid Longitude=None, Pickup Centroid Location=None, Dropoff Centroid Latitude=None, Dropoff Centroid Longitude=None, Dropoff Centroid  Location=None)]"
      ]
     },
     "execution_count": 98,
     "metadata": {},
     "output_type": "execute_result"
    }
   ],
   "source": [
    "taxi.take(1)"
   ]
  },
  {
   "cell_type": "code",
   "execution_count": 145,
   "id": "0108e596-867e-404e-94b9-3b5cc0903bcb",
   "metadata": {},
   "outputs": [
    {
     "data": {
      "text/plain": [
       "1777033"
      ]
     },
     "execution_count": 145,
     "metadata": {},
     "output_type": "execute_result"
    }
   ],
   "source": [
    "taxi.filter(taxi[ct.trip_m]>10).count()"
   ]
  },
  {
   "cell_type": "code",
   "execution_count": 123,
   "id": "96364e7f-2cc2-49e6-ab7b-8f6f930d7660",
   "metadata": {},
   "outputs": [],
   "source": [
    "long = taxi.filter((taxi[ct.trip_m]>9.9) & (taxi[ct.trip_m]<10.1) \n",
    "                   & taxi[ct.pickup_cl].isNotNull() & taxi[ct.dropoff_cl].isNotNull() \n",
    "                   & taxi[ct.pickup_clon].isNotNull() & taxi[ct.dropoff_clon].isNotNull()\n",
    "                  )"
   ]
  },
  {
   "cell_type": "code",
   "execution_count": 124,
   "id": "c059e801-b167-416f-bbc9-8259813832e7",
   "metadata": {},
   "outputs": [
    {
     "data": {
      "text/plain": [
       "20855"
      ]
     },
     "execution_count": 124,
     "metadata": {},
     "output_type": "execute_result"
    }
   ],
   "source": [
    "long.count()"
   ]
  },
  {
   "cell_type": "code",
   "execution_count": 140,
   "id": "3f934cc9-fd48-40ed-9446-e610a710501e",
   "metadata": {},
   "outputs": [],
   "source": [
    "long = long.withColumn('Distance',(\n",
    "                                ((taxi[ct.pickup_cl]-taxi[ct.dropoff_cl])**2 +\n",
    "                                (taxi[ct.pickup_clon]-taxi[ct.dropoff_clon])**2))**0.5)"
   ]
  },
  {
   "cell_type": "code",
   "execution_count": 146,
   "id": "11398ee0-0610-4f9b-b108-39183a8ff066",
   "metadata": {},
   "outputs": [
    {
     "name": "stdout",
     "output_type": "stream",
     "text": [
      "CPU times: user 41.6 ms, sys: 5.56 ms, total: 47.2 ms\n",
      "Wall time: 591 ms\n"
     ]
    },
    {
     "data": {
      "text/plain": [
       "[Row(Pickup Centroid Latitude=41.901206994, Dropoff Centroid Latitude=41.901206994, Pickup Centroid Longitude=-87.676355989, Dropoff Centroid Longitude=-87.676355989, Distance=0.0),\n",
       " Row(Pickup Centroid Latitude=41.874005383, Dropoff Centroid Latitude=41.9867118, Pickup Centroid Longitude=-87.66351755, Dropoff Centroid Longitude=-87.663416405, Distance=0.11270646238477244),\n",
       " Row(Pickup Centroid Latitude=41.899602111, Dropoff Centroid Latitude=41.839086906, Pickup Centroid Longitude=-87.633308037, Dropoff Centroid Longitude=-87.714003807, Distance=0.10086573913913337),\n",
       " Row(Pickup Centroid Latitude=41.857183858, Dropoff Centroid Latitude=41.9867118, Pickup Centroid Longitude=-87.620334624, Dropoff Centroid Longitude=-87.663416405, Distance=0.1365046798204703),\n",
       " Row(Pickup Centroid Latitude=41.874005383, Dropoff Centroid Latitude=41.857183858, Pickup Centroid Longitude=-87.66351755, Dropoff Centroid Longitude=-87.620334624, Distance=0.046343595040167315),\n",
       " Row(Pickup Centroid Latitude=41.850266366, Dropoff Centroid Latitude=41.954027649, Pickup Centroid Longitude=-87.667569312, Dropoff Centroid Longitude=-87.763399032, Distance=0.1412435452864429),\n",
       " Row(Pickup Centroid Latitude=41.740205756, Dropoff Centroid Latitude=41.874005383, Pickup Centroid Longitude=-87.615969523, Dropoff Centroid Longitude=-87.66351755, Distance=0.14199702481717558),\n",
       " Row(Pickup Centroid Latitude=41.79259236, Dropoff Centroid Latitude=41.874005383, Pickup Centroid Longitude=-87.769615453, Dropoff Centroid Longitude=-87.66351755, Distance=0.1337342339679578),\n",
       " Row(Pickup Centroid Latitude=41.9867118, Dropoff Centroid Latitude=41.857183858, Pickup Centroid Longitude=-87.663416405, Dropoff Centroid Longitude=-87.620334624, Distance=0.1365046798204703),\n",
       " Row(Pickup Centroid Latitude=41.92276062, Dropoff Centroid Latitude=42.001571027, Pickup Centroid Longitude=-87.699155343, Dropoff Centroid Longitude=-87.695012589, Distance=0.07891921605166885)]"
      ]
     },
     "execution_count": 146,
     "metadata": {},
     "output_type": "execute_result"
    }
   ],
   "source": [
    "%%time\n",
    "long.select(ct.pickup_cl,ct.dropoff_cl,ct.pickup_clon,ct.dropoff_clon,'Distance').take(10)"
   ]
  },
  {
   "cell_type": "code",
   "execution_count": null,
   "id": "e4ced535-73f4-440f-a2c7-f1b0248dc972",
   "metadata": {},
   "outputs": [],
   "source": []
  }
 ],
 "metadata": {
  "kernelspec": {
   "display_name": "Python 3 (ipykernel)",
   "language": "python",
   "name": "python3"
  },
  "language_info": {
   "codemirror_mode": {
    "name": "ipython",
    "version": 3
   },
   "file_extension": ".py",
   "mimetype": "text/x-python",
   "name": "python",
   "nbconvert_exporter": "python",
   "pygments_lexer": "ipython3",
   "version": "3.11.4"
  }
 },
 "nbformat": 4,
 "nbformat_minor": 5
}
