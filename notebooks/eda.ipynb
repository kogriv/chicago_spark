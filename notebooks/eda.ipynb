{
 "cells": [
  {
   "cell_type": "code",
   "execution_count": 1,
   "id": "a2f9b287-4613-4f96-9125-2472424b9cfd",
   "metadata": {
    "editable": true,
    "slideshow": {
     "slide_type": ""
    },
    "tags": []
   },
   "outputs": [],
   "source": [
    "import os\n",
    "import sys"
   ]
  },
  {
   "cell_type": "code",
   "execution_count": 2,
   "id": "07c57728-71d4-43e9-a453-c5d23d6a57a3",
   "metadata": {
    "editable": true,
    "slideshow": {
     "slide_type": ""
    },
    "tags": []
   },
   "outputs": [],
   "source": [
    "import pandas as pd\n",
    "from scipy import stats\n",
    "from sklearn.neighbors import NearestNeighbors\n",
    "import numpy as np"
   ]
  },
  {
   "cell_type": "code",
   "execution_count": 3,
   "id": "efbb9443-57d6-4aab-ad7d-c67719e98e03",
   "metadata": {
    "editable": true,
    "slideshow": {
     "slide_type": ""
    },
    "tags": []
   },
   "outputs": [],
   "source": [
    "from importlib import reload\n",
    "import time\n",
    "from tqdm import tqdm\n",
    "from functools import reduce\n",
    "from itertools import islice"
   ]
  },
  {
   "cell_type": "code",
   "execution_count": 4,
   "id": "d04534c3-1092-4cb4-9ed0-2a6b99acbaa6",
   "metadata": {},
   "outputs": [],
   "source": [
    "import matplotlib.pyplot as plt\n",
    "%matplotlib inline"
   ]
  },
  {
   "cell_type": "code",
   "execution_count": 5,
   "id": "c506d768-519f-49a0-9af6-b44cbcf036bb",
   "metadata": {},
   "outputs": [],
   "source": [
    "from enviserv.dictan import DictAnalyzer # анализ словарей\n",
    "import pandserv as pds # форматирование небольших пандас ДФ"
   ]
  },
  {
   "cell_type": "code",
   "execution_count": 6,
   "id": "4c22c0b8-1ea3-417e-8289-34ca57326d7d",
   "metadata": {},
   "outputs": [],
   "source": [
    "from sparkserv import SparkApp, Cols\n",
    "# в SparkApp упакованы функции создания спарк приложения \n",
    "# с определением IP мастер-ноды и с подключением к кластеру\n",
    "\n",
    "# Col - класс для формирования коротких псевдонимов имен столбцов\n",
    "# при этом исходные имена полей не меняются"
   ]
  },
  {
   "cell_type": "code",
   "execution_count": 7,
   "id": "63596c0d-9087-4e1a-80e3-a1fd7a90babe",
   "metadata": {},
   "outputs": [],
   "source": [
    "import pyspark.sql.functions as f\n",
    "from pyspark.sql.types import StructType, StructField, StringType, DoubleType, IntegerType, LongType\n",
    "from pyspark.sql.window import Window\n",
    "from pyspark.sql import Row"
   ]
  },
  {
   "cell_type": "code",
   "execution_count": 8,
   "id": "4db2ec96-2997-458c-b67a-f9e5dd6aa586",
   "metadata": {},
   "outputs": [],
   "source": [
    "# гео библиотеки\n",
    "import geopandas as gpd\n",
    "from shapely import wkt\n",
    "from shapely.geometry import Point"
   ]
  },
  {
   "cell_type": "markdown",
   "id": "e7e47d77-cebf-4472-99e9-c2e852867df5",
   "metadata": {},
   "source": [
    "### Создание сессии, загрузка данных"
   ]
  },
  {
   "cell_type": "code",
   "execution_count": 9,
   "id": "f6c292a0-9c16-44d8-8aa6-e5a51b5e08ae",
   "metadata": {},
   "outputs": [
    {
     "name": "stderr",
     "output_type": "stream",
     "text": [
      "INFO:spark_app:spark_master_ip: 172.18.0.2\n",
      "INFO:spark_app:pyspark version: 3.4.1\n",
      "INFO:spark_app:starting building spark app object: pyspark-taxi-forecasting\n",
      "INFO:spark_app:Spark app object built as: <pyspark.sql.session.SparkSession object at 0x7f889b4d5790>\n",
      "INFO:spark_app:==================================================================\n",
      "INFO:spark_app:Spark object can be accessed as the SparkApp_object.spark property\n",
      "INFO:spark_app:==================================================================\n"
     ]
    }
   ],
   "source": [
    "spark_app = SparkApp(my_logger_create_level = 'INFO')"
   ]
  },
  {
   "cell_type": "code",
   "execution_count": 10,
   "id": "4de973af-73c4-43f8-90b6-b1d422a3360b",
   "metadata": {},
   "outputs": [
    {
     "name": "stderr",
     "output_type": "stream",
     "text": [
      "INFO:spark_app:spark_master_ip: 172.18.0.2\n"
     ]
    }
   ],
   "source": [
    "spark_master_ip = spark_app.get_spark_master_ip()\n",
    "# print(spark_master_ip)"
   ]
  },
  {
   "cell_type": "code",
   "execution_count": 11,
   "id": "55a91437-60e9-4bc2-a9cb-58365f000efd",
   "metadata": {},
   "outputs": [],
   "source": [
    "# spark = spark_app.build_spark_app(spark_master_ip=spark_master_ip)\n",
    "# spark = spark_app.spark"
   ]
  },
  {
   "cell_type": "markdown",
   "id": "278c7d30-9eed-479c-b899-2fcd6c2d78d4",
   "metadata": {},
   "source": [
    "Для корректного завершения спарк-сессии (например, для переключения между ноутбуками) следует останавливать сессию полностью. Для этого использую метод .stop_spark_app() класса SparkApp"
   ]
  },
  {
   "cell_type": "code",
   "execution_count": 12,
   "id": "412582e5-44f8-44dd-a8f0-7d9fe46ad1f7",
   "metadata": {},
   "outputs": [],
   "source": [
    "# spark_app.stop_spark_app()"
   ]
  },
  {
   "cell_type": "code",
   "execution_count": 13,
   "id": "4b17caf8-7f00-4c20-a83b-744c2d0ab81e",
   "metadata": {},
   "outputs": [
    {
     "name": "stdout",
     "output_type": "stream",
     "text": [
      "<pyspark.sql.session.SparkSession object at 0x7f889b4d5790>\n"
     ]
    }
   ],
   "source": [
    "print(spark_app.spark)"
   ]
  },
  {
   "cell_type": "code",
   "execution_count": 14,
   "id": "5221d404-34f2-4fd8-8b0c-531fd6f93bbb",
   "metadata": {},
   "outputs": [
    {
     "name": "stderr",
     "output_type": "stream",
     "text": [
      "INFO:spark_app:pyspark version: 3.4.1\n",
      "INFO:spark_app:starting building spark app object: pyspark-taxi-forecasting\n",
      "INFO:spark_app:Spark app object built as: <pyspark.sql.session.SparkSession object at 0x7f889b4d5790>\n",
      "INFO:spark_app:==================================================================\n",
      "INFO:spark_app:Spark object can be accessed as the SparkApp_object.spark property\n",
      "INFO:spark_app:==================================================================\n"
     ]
    },
    {
     "data": {
      "text/html": [
       "\n",
       "            <div>\n",
       "                <p><b>SparkSession - in-memory</b></p>\n",
       "                \n",
       "        <div>\n",
       "            <p><b>SparkContext</b></p>\n",
       "\n",
       "            <p><a href=\"http://d10fb5fe9c53:4040\">Spark UI</a></p>\n",
       "\n",
       "            <dl>\n",
       "              <dt>Version</dt>\n",
       "                <dd><code>v3.4.1</code></dd>\n",
       "              <dt>Master</dt>\n",
       "                <dd><code>spark://172.18.0.2:7077</code></dd>\n",
       "              <dt>AppName</dt>\n",
       "                <dd><code>pyspark-taxi-forecasting</code></dd>\n",
       "            </dl>\n",
       "        </div>\n",
       "        \n",
       "            </div>\n",
       "        "
      ],
      "text/plain": [
       "<pyspark.sql.session.SparkSession at 0x7f889b4d5790>"
      ]
     },
     "execution_count": 14,
     "metadata": {},
     "output_type": "execute_result"
    }
   ],
   "source": [
    "spark_app.build_spark_app()"
   ]
  },
  {
   "cell_type": "code",
   "execution_count": 15,
   "id": "56cdf778-5944-484e-a72f-6e151b2ec3e9",
   "metadata": {},
   "outputs": [],
   "source": [
    "spark = spark_app.spark"
   ]
  },
  {
   "cell_type": "markdown",
   "id": "ca259b2f-ac8d-4de8-800b-754588a3963c",
   "metadata": {},
   "source": [
    "Проверка работы спарк-объекта на кластере. Если все в порядке, то нижеследующий код должен выполниться ыстро и отобразить тестовый ДФ.  \n",
    "```yaml\n",
    "+------------+-----------+\n",
    "|student_name|student_age|\n",
    "+------------+-----------+\n",
    "|       Alice|         10|\n",
    "|         Bob|         20|\n",
    "+------------+-----------+\n",
    "```\n",
    "\n",
    "Если исходные образы кластера собраны с ошибкой, возможно \"зависание\" работы этого простого тестового кода."
   ]
  },
  {
   "cell_type": "code",
   "execution_count": 16,
   "id": "65e12fff-3cf5-4918-b8f7-d4ce0d306949",
   "metadata": {},
   "outputs": [
    {
     "name": "stdout",
     "output_type": "stream",
     "text": [
      "+------------+-----------+\n",
      "|student_name|student_age|\n",
      "+------------+-----------+\n",
      "|       Alice|         10|\n",
      "|         Bob|         20|\n",
      "+------------+-----------+\n",
      "\n"
     ]
    }
   ],
   "source": [
    "data = [(\"Alice\", 10), (\"Bob\", 20)]\n",
    "columns = [\"name\", \"age\"]\n",
    "df = spark.createDataFrame(data, columns)\n",
    "\n",
    "# Присвоение псевдонимов столбцам\n",
    "df_with_alias = df.select(df[\"name\"].alias(\"student_name\"), df[\"age\"].alias(\"student_age\"))\n",
    "df_with_alias.show()\n",
    "del df"
   ]
  },
  {
   "cell_type": "markdown",
   "id": "8f4e4924-5702-43ab-a7c5-171e1e3b0a66",
   "metadata": {},
   "source": [
    "Загрузим данные. В интерфейсе Докера должно отображаться увеличение загрузки по всем воркерам (почти до 100%). Также можно увидеть рост загрузки на ядрах-потоках процессора, выделенных под кластер."
   ]
  },
  {
   "cell_type": "code",
   "execution_count": 17,
   "id": "53f1ffcc-7333-4ca1-acfd-12723c7f253d",
   "metadata": {},
   "outputs": [
    {
     "name": "stdout",
     "output_type": "stream",
     "text": [
      "CPU times: user 3.64 ms, sys: 18.1 ms, total: 21.7 ms\n",
      "Wall time: 46.1 s\n"
     ]
    }
   ],
   "source": [
    "%%time\n",
    "taxi = spark.read.load('/work/data/Taxi_Trips_-_2022.csv', \n",
    "                       format='csv', header='true', inferSchema='true')"
   ]
  },
  {
   "cell_type": "markdown",
   "id": "4f46b365-0931-47ae-b548-0036488898fd",
   "metadata": {},
   "source": [
    "Для работы с геоточками (координатами и кодами районов) используются данные https://data.cityofchicago.org/Facilities-Geographic-Boundaries/Boundaries-Census-Tracts-2010/5jrd-6zik"
   ]
  },
  {
   "cell_type": "markdown",
   "id": "4e704bea-c306-415e-9ed0-8bfd83349933",
   "metadata": {},
   "source": [
    "Загрузим ДФ `tracts` и создадим `tract_geo`, который будет использован далее для заполнение пропусков значений геоточек датафрейма `taxi`"
   ]
  },
  {
   "cell_type": "code",
   "execution_count": 18,
   "id": "0e790dd7-76cb-4b6c-a80c-82dc5563b145",
   "metadata": {},
   "outputs": [
    {
     "name": "stdout",
     "output_type": "stream",
     "text": [
      "CPU times: user 5.56 ms, sys: 548 µs, total: 6.1 ms\n",
      "Wall time: 789 ms\n"
     ]
    }
   ],
   "source": [
    "%%time\n",
    "tracts = spark.read.load('/work/data/CensusTractsTIGER2010.csv', \n",
    "                       format='csv', header='true', inferSchema='true')"
   ]
  },
  {
   "cell_type": "code",
   "execution_count": 19,
   "id": "872ad462-769b-471b-9138-30276d71e21d",
   "metadata": {},
   "outputs": [
    {
     "name": "stdout",
     "output_type": "stream",
     "text": [
      "root\n",
      " |-- the_geom: string (nullable = true)\n",
      " |-- STATEFP10: integer (nullable = true)\n",
      " |-- COUNTYFP10: integer (nullable = true)\n",
      " |-- TRACTCE10: integer (nullable = true)\n",
      " |-- GEOID10: long (nullable = true)\n",
      " |-- NAME10: double (nullable = true)\n",
      " |-- NAMELSAD10: string (nullable = true)\n",
      " |-- COMMAREA: integer (nullable = true)\n",
      " |-- COMMAREA_N: integer (nullable = true)\n",
      " |-- NOTES: string (nullable = true)\n",
      "\n"
     ]
    }
   ],
   "source": [
    "tracts.printSchema()"
   ]
  },
  {
   "cell_type": "code",
   "execution_count": 20,
   "id": "6c6f3b21-d857-4b5c-84dd-397922444fc9",
   "metadata": {},
   "outputs": [
    {
     "name": "stdout",
     "output_type": "stream",
     "text": [
      "+--------------------+---------+----------+---------+-----------+------+-----------------+--------+----------+-----+\n",
      "|            the_geom|STATEFP10|COUNTYFP10|TRACTCE10|    GEOID10|NAME10|       NAMELSAD10|COMMAREA|COMMAREA_N|NOTES|\n",
      "+--------------------+---------+----------+---------+-----------+------+-----------------+--------+----------+-----+\n",
      "|MULTIPOLYGON (((-...|       17|        31|   842400|17031842400|8424.0|Census Tract 8424|      44|        44| null|\n",
      "+--------------------+---------+----------+---------+-----------+------+-----------------+--------+----------+-----+\n",
      "only showing top 1 row\n",
      "\n"
     ]
    }
   ],
   "source": [
    "tracts.show(1)"
   ]
  },
  {
   "cell_type": "code",
   "execution_count": 21,
   "id": "c9e3b9cf-5b77-4d90-94c8-c17d8402971a",
   "metadata": {},
   "outputs": [
    {
     "data": {
      "text/plain": [
       "'MULTIPOLYGON (((-87.62404799998049 41.73021699998396, -87.62404800002855 41.7302030000071, -87.6240480000349 41.730184000028295, -87.62404699998376 41.730137999986944, -87.62404600000936 41.7301209999'"
      ]
     },
     "execution_count": 21,
     "metadata": {},
     "output_type": "execute_result"
    }
   ],
   "source": [
    "tracts.take(1)[0]['the_geom'][:200]"
   ]
  },
  {
   "cell_type": "markdown",
   "id": "82b7c12c-1d53-4d43-aa26-454c01707706",
   "metadata": {},
   "source": [
    "Поле the_geom содержит данные в виде `'MULTIPOLYGON (((-87.62404799998049 41.73021699998396, -87.62404800002855 41.7302030000071, -87.6240480000349 41.730184000028295, -87.62404699998376 41.730137999986944,...)))'`, которые представляют собой строки с координатами в формате WKT (Well-Known Text). Чтобы преобразовать их в геометрические объекты, нужно использовать библиотеку `Shapely` для работы с WKT.  \n",
    "Загрузим эти данные, рассчитаем координаты цетроидов и преобразуем полученную таблицу в ДФ Спарк."
   ]
  },
  {
   "cell_type": "code",
   "execution_count": 22,
   "id": "21b676c9-020b-440f-b7cf-5691abf240cc",
   "metadata": {},
   "outputs": [
    {
     "name": "stdout",
     "output_type": "stream",
     "text": [
      "+------------+------------------+------------------+\n",
      "|census_tract|          latitude|         longitude|\n",
      "+------------+------------------+------------------+\n",
      "| 17031842400| 41.74247518248426|-87.63004035576937|\n",
      "| 17031840300| 41.83209440350829| -87.6818820146571|\n",
      "| 17031841100|  41.8510058477232|-87.63509777614824|\n",
      "| 17031841200|41.855561874827515|-87.68334196400778|\n",
      "| 17031839000|41.871044193578264|-87.63140452575338|\n",
      "+------------+------------------+------------------+\n",
      "only showing top 5 rows\n",
      "\n",
      "801\n"
     ]
    }
   ],
   "source": [
    "# Чтение CSV файла с помощью pandas\n",
    "tracts_df = pd.read_csv('/work/data/CensusTractsTIGER2010.csv')\n",
    "\n",
    "# Преобразование строк WKT в геометрические объекты\n",
    "tracts_df['geometry'] = tracts_df['the_geom'].apply(wkt.loads)\n",
    "\n",
    "# Создание GeoDataFrame\n",
    "gdf = gpd.GeoDataFrame(tracts_df, geometry='geometry')\n",
    "\n",
    "# Вычисление центроидов\n",
    "gdf['centroid'] = gdf['geometry'].centroid\n",
    "\n",
    "# Извлечение координат центроидов\n",
    "gdf['centroid_x'] = gdf['centroid'].apply(lambda point: point.x)\n",
    "gdf['centroid_y'] = gdf['centroid'].apply(lambda point: point.y)\n",
    "\n",
    "# Создание нового DataFrame с нужными столбцами\n",
    "centroids_df = gdf[['GEOID10', 'centroid_y', 'centroid_x']].rename(columns={\n",
    "    'GEOID10': 'census_tract',\n",
    "    'centroid_y': 'latitude',\n",
    "    'centroid_x': 'longitude'\n",
    "})\n",
    "\n",
    "# Определение схемы для Spark DataFrame\n",
    "schema = StructType([\n",
    "    StructField('census_tract', StringType(), True),\n",
    "    StructField('latitude', DoubleType(), True),\n",
    "    StructField('longitude', DoubleType(), True)\n",
    "])\n",
    "\n",
    "# Преобразование pandas DataFrame в Spark DataFrame\n",
    "tract_geo = spark.createDataFrame(centroids_df, schema)\n",
    "\n",
    "# Показать первые несколько строк Spark DataFrame\n",
    "tract_geo.show(5)\n",
    "print(tract_geo.count())"
   ]
  },
  {
   "cell_type": "code",
   "execution_count": 23,
   "id": "9cd9fe61-bb08-4930-8668-40e0dda8df09",
   "metadata": {},
   "outputs": [],
   "source": [
    "# tracts.take(1)[0][\"the_geom\"]"
   ]
  },
  {
   "cell_type": "code",
   "execution_count": 24,
   "id": "84592a4a-5677-4480-85cd-d3996a24db8b",
   "metadata": {},
   "outputs": [],
   "source": [
    "# taxi_rdd = spark.sparkContext.textFile('/work/data/Taxi_Trips_-_2022.csv')\n",
    "# taxi_rdd.take(2)"
   ]
  },
  {
   "cell_type": "code",
   "execution_count": 25,
   "id": "93f8e617-56f4-4a62-8e08-ddb0519ecca5",
   "metadata": {},
   "outputs": [],
   "source": [
    "# taxi.printSchema()"
   ]
  },
  {
   "cell_type": "code",
   "execution_count": 26,
   "id": "12869dc1-b838-448b-b34b-d205d1381ab4",
   "metadata": {},
   "outputs": [
    {
     "data": {
      "text/plain": [
       "{'trip_i': 'Trip ID',\n",
       " 'taxi_i': 'Taxi ID',\n",
       " 'trip_st': 'Trip Start Timestamp',\n",
       " 'trip_et': 'Trip End Timestamp',\n",
       " 'trip_s': 'Trip Seconds',\n",
       " 'trip_m': 'Trip Miles',\n",
       " 'pickup_ct': 'Pickup Census Tract',\n",
       " 'dropoff_ct': 'Dropoff Census Tract',\n",
       " 'pickup_ca': 'Pickup Community Area',\n",
       " 'dropoff_ca': 'Dropoff Community Area',\n",
       " 'fare': 'Fare',\n",
       " 'tips': 'Tips',\n",
       " 'tolls': 'Tolls',\n",
       " 'extras': 'Extras',\n",
       " 'trip_t': 'Trip Total',\n",
       " 'payment_t': 'Payment Type',\n",
       " 'company': 'Company',\n",
       " 'pickup_cl': 'Pickup Centroid Latitude',\n",
       " 'pickup_clon': 'Pickup Centroid Longitude',\n",
       " 'pickup_cloc': 'Pickup Centroid Location',\n",
       " 'dropoff_cl': 'Dropoff Centroid Latitude',\n",
       " 'dropoff_clon': 'Dropoff Centroid Longitude',\n",
       " 'dropoff_cloc': 'Dropoff Centroid  Location'}"
      ]
     },
     "execution_count": 26,
     "metadata": {},
     "output_type": "execute_result"
    }
   ],
   "source": [
    "# создадим объект для представления имен полей\n",
    "ct = Cols(taxi)\n",
    "ct.get_aliases()"
   ]
  },
  {
   "cell_type": "markdown",
   "id": "1e07ec50-fd3d-4031-9766-007491469746",
   "metadata": {},
   "source": [
    "Загрузим ранее сохраненный файл с описанием полей ДФ такси"
   ]
  },
  {
   "cell_type": "code",
   "execution_count": 27,
   "id": "acbcb171-c5c7-452c-b1bd-3339c11664e6",
   "metadata": {},
   "outputs": [
    {
     "data": {
      "text/html": [
       "<div>\n",
       "<style scoped>\n",
       "    .dataframe tbody tr th:only-of-type {\n",
       "        vertical-align: middle;\n",
       "    }\n",
       "\n",
       "    .dataframe tbody tr th {\n",
       "        vertical-align: top;\n",
       "    }\n",
       "\n",
       "    .dataframe thead th {\n",
       "        text-align: right;\n",
       "    }\n",
       "</style>\n",
       "<table border=\"1\" class=\"dataframe\">\n",
       "  <thead>\n",
       "    <tr style=\"text-align: right;\">\n",
       "      <th></th>\n",
       "      <th>Description</th>\n",
       "      <th>Type</th>\n",
       "      <th>Описание</th>\n",
       "      <th>Тип</th>\n",
       "    </tr>\n",
       "    <tr>\n",
       "      <th>Column Name</th>\n",
       "      <th></th>\n",
       "      <th></th>\n",
       "      <th></th>\n",
       "      <th></th>\n",
       "    </tr>\n",
       "  </thead>\n",
       "  <tbody>\n",
       "    <tr>\n",
       "      <th>Trip ID</th>\n",
       "      <td>A unique identifier for the trip.</td>\n",
       "      <td>Plain Text</td>\n",
       "      <td>Уникальный идентификатор поездки</td>\n",
       "      <td>Обычный текст</td>\n",
       "    </tr>\n",
       "    <tr>\n",
       "      <th>Taxi ID</th>\n",
       "      <td>A unique identifier for the taxi.</td>\n",
       "      <td>Plain Text</td>\n",
       "      <td>Уникальный идентификатор такси</td>\n",
       "      <td>Обычный текст</td>\n",
       "    </tr>\n",
       "    <tr>\n",
       "      <th>Trip Start Timestamp</th>\n",
       "      <td>When the trip started rounded to the nearest 15 minutes.</td>\n",
       "      <td>Date &amp; Time</td>\n",
       "      <td>Время начала поездки округленное до ближайших 15 минут</td>\n",
       "      <td>Дата и время</td>\n",
       "    </tr>\n",
       "    <tr>\n",
       "      <th>Trip End Timestamp</th>\n",
       "      <td>When the trip ended rounded to the nearest 15 minutes.</td>\n",
       "      <td>Date &amp; Time</td>\n",
       "      <td>Время окончания поездки округленное до ближайших 15 минут</td>\n",
       "      <td>Дата и время</td>\n",
       "    </tr>\n",
       "    <tr>\n",
       "      <th>Trip Seconds</th>\n",
       "      <td>Time of the trip in seconds.</td>\n",
       "      <td>Number</td>\n",
       "      <td>Продолжительность поездки в секундах</td>\n",
       "      <td>Число</td>\n",
       "    </tr>\n",
       "    <tr>\n",
       "      <th>Trip Miles</th>\n",
       "      <td>Distance of the trip in miles.</td>\n",
       "      <td>Number</td>\n",
       "      <td>Расстояние поездки в милях</td>\n",
       "      <td>Число</td>\n",
       "    </tr>\n",
       "    <tr>\n",
       "      <th>Pickup Census Tract</th>\n",
       "      <td>The Census Tract where the trip began. For privacy  this Census Tract is not shown for some trips. This column often will be blank for locations outside Chicago.</td>\n",
       "      <td>Plain Text</td>\n",
       "      <td>Код района по переписи населения  где началась поездка. В целях конфиденциальности этот код не отображается для некоторых поездок. Это поле часто остается пустым для мест за пределами Чикаго.</td>\n",
       "      <td>Обычный текст</td>\n",
       "    </tr>\n",
       "    <tr>\n",
       "      <th>Dropoff Census Tract</th>\n",
       "      <td>The Census Tract where the trip ended. For privacy  this Census Tract is not shown for some trips. This column often will be blank for locations outside Chicago.</td>\n",
       "      <td>Plain Text</td>\n",
       "      <td>Код района по переписи населения  где завершилась поездка. В целях конфиденциальности этот код не отображается для некоторых поездок. Это поле часто остается пустым для мест за пределами Чикаго.</td>\n",
       "      <td>Обычный текст</td>\n",
       "    </tr>\n",
       "    <tr>\n",
       "      <th>Pickup Community Area</th>\n",
       "      <td>The Community Area where the trip began. This column will be blank for locations outside Chicago.</td>\n",
       "      <td>Number</td>\n",
       "      <td>Номер коммунальной области  где началась поездка. Это поле остается пустым для мест за пределами Чикаго.</td>\n",
       "      <td>Число</td>\n",
       "    </tr>\n",
       "    <tr>\n",
       "      <th>Dropoff Community Area</th>\n",
       "      <td>The Community Area where the trip ended. This column will be blank for locations outside Chicago.</td>\n",
       "      <td>Number</td>\n",
       "      <td>Номер коммунальной области  где завершилась поездка. Это поле остается пустым для мест за пределами Чикаго.</td>\n",
       "      <td>Число</td>\n",
       "    </tr>\n",
       "    <tr>\n",
       "      <th>Fare</th>\n",
       "      <td>The fare for the trip.</td>\n",
       "      <td>Number</td>\n",
       "      <td>Стоимость поездки.</td>\n",
       "      <td>Число</td>\n",
       "    </tr>\n",
       "    <tr>\n",
       "      <th>Tips</th>\n",
       "      <td>The tip for the trip. Cash tips generally will not be recorded.</td>\n",
       "      <td>Number</td>\n",
       "      <td>Сумма чаевых за поездку. Наличные чаевые обычно не записываются.</td>\n",
       "      <td>Число</td>\n",
       "    </tr>\n",
       "    <tr>\n",
       "      <th>Tolls</th>\n",
       "      <td>The tolls for the trip.</td>\n",
       "      <td>Number</td>\n",
       "      <td>Сумма оплаты за проезд (платные дороги) за поездку.</td>\n",
       "      <td>Число</td>\n",
       "    </tr>\n",
       "    <tr>\n",
       "      <th>Extras</th>\n",
       "      <td>Extra charges for the trip.</td>\n",
       "      <td>Number</td>\n",
       "      <td>Дополнительные сборы за поездку.</td>\n",
       "      <td>Число</td>\n",
       "    </tr>\n",
       "    <tr>\n",
       "      <th>Trip Total</th>\n",
       "      <td>Total cost of the trip the total of the previous columns.</td>\n",
       "      <td>Number</td>\n",
       "      <td>Общая стоимость поездки сумма предыдущих столбцов.</td>\n",
       "      <td>Число</td>\n",
       "    </tr>\n",
       "    <tr>\n",
       "      <th>Payment Type</th>\n",
       "      <td>Type of payment for the trip.</td>\n",
       "      <td>Plain Text</td>\n",
       "      <td>Способ оплаты поездки.</td>\n",
       "      <td>Обычный текст</td>\n",
       "    </tr>\n",
       "    <tr>\n",
       "      <th>Company</th>\n",
       "      <td>The taxi company.</td>\n",
       "      <td>Plain Text</td>\n",
       "      <td>Название такси-компании.</td>\n",
       "      <td>Обычный текст</td>\n",
       "    </tr>\n",
       "    <tr>\n",
       "      <th>Pickup Centroid Latitude</th>\n",
       "      <td>The latitude of the center of the pickup census tract or the community area if the census tract has been hidden for privacy. This column often will be blank for locations outside Chicago.</td>\n",
       "      <td>Number</td>\n",
       "      <td>Широта центра района по переписи или коммунальной области для местности, где началась поездка, если код района скрыт в целях конфиденциальности. Это поле часто остается пустым для мест за пределами Чикаго.</td>\n",
       "      <td>Число</td>\n",
       "    </tr>\n",
       "    <tr>\n",
       "      <th>Pickup Centroid Longitude</th>\n",
       "      <td>The longitude of the center of the pickup census tract or the community area if the census tract has been hidden for privacy. This column often will be blank for locations outside Chicago.</td>\n",
       "      <td>Number</td>\n",
       "      <td>Долгота центра района по переписи или коммунальной области для местности, где началась поездка, если код района скрыт в целях конфиденциальности. Это поле часто остается пустым для мест за пределами Чикаго.</td>\n",
       "      <td>Число</td>\n",
       "    </tr>\n",
       "    <tr>\n",
       "      <th>Pickup Centroid Location</th>\n",
       "      <td>The location of the center of the pickup census tract or the community area if the census tract has been hidden for privacy. This column often will be blank for locations outside Chicago.</td>\n",
       "      <td>Point</td>\n",
       "      <td>Местоположение центра района по переписи или коммунальной области для местности, где началась поездка, если код района скрыт в целях конфиденциальности. Это поле часто остается пустым для мест за пределами Чикаго.</td>\n",
       "      <td>Точка (координаты)</td>\n",
       "    </tr>\n",
       "    <tr>\n",
       "      <th>Dropoff Centroid Latitude</th>\n",
       "      <td>The latitude of the center of the dropoff census tract or the community area if the census tract has been hidden for privacy. This column often will be blank for locations outside Chicago.</td>\n",
       "      <td>Number</td>\n",
       "      <td>Широта центра района по переписи или коммунальной области для местности, где завершилась поездка, если код района скрыт в целях конфиденциальности. Это поле часто остается пустым для мест за пределами Чикаго.</td>\n",
       "      <td>Число</td>\n",
       "    </tr>\n",
       "    <tr>\n",
       "      <th>Dropoff Centroid Longitude</th>\n",
       "      <td>The longitude of the center of the dropoff census tract or the community area if the census tract has been hidden for privacy. This column often will be blank for locations outside Chicago.</td>\n",
       "      <td>Number</td>\n",
       "      <td>Долгота центра района по переписи или коммунальной области для местности, где завершилась поездка, если код района скрыт в целях конфиденциальности. Это поле часто остается пустым для мест за пределами Чикаго.</td>\n",
       "      <td>Число</td>\n",
       "    </tr>\n",
       "    <tr>\n",
       "      <th>Dropoff Centroid Location</th>\n",
       "      <td>The location of the center of the dropoff census tract or the community area if the census tract has been hidden for privacy. This column often will be blank for locations outside Chicago.</td>\n",
       "      <td>Point</td>\n",
       "      <td>Местоположение центра района по переписи или коммунальной области для местности, где завершилась поездка, если код района скрыт в целях конфиденциальности. Это поле часто остается пустым для мест за пределами Чикаго.</td>\n",
       "      <td>Точка (координаты)</td>\n",
       "    </tr>\n",
       "  </tbody>\n",
       "</table>\n",
       "</div>"
      ],
      "text/plain": [
       "                                                                                                                                                                                                              Description  \\\n",
       "Column Name                                                                                                                                                                                                                 \n",
       "Trip ID                                                                                                                                                                                 A unique identifier for the trip.   \n",
       "Taxi ID                                                                                                                                                                                 A unique identifier for the taxi.   \n",
       "Trip Start Timestamp                                                                                                                                             When the trip started rounded to the nearest 15 minutes.   \n",
       "Trip End Timestamp                                                                                                                                                 When the trip ended rounded to the nearest 15 minutes.   \n",
       "Trip Seconds                                                                                                                                                                                 Time of the trip in seconds.   \n",
       "Trip Miles                                                                                                                                                                                 Distance of the trip in miles.   \n",
       "Pickup Census Tract                                     The Census Tract where the trip began. For privacy  this Census Tract is not shown for some trips. This column often will be blank for locations outside Chicago.   \n",
       "Dropoff Census Tract                                    The Census Tract where the trip ended. For privacy  this Census Tract is not shown for some trips. This column often will be blank for locations outside Chicago.   \n",
       "Pickup Community Area                                                                                                   The Community Area where the trip began. This column will be blank for locations outside Chicago.   \n",
       "Dropoff Community Area                                                                                                  The Community Area where the trip ended. This column will be blank for locations outside Chicago.   \n",
       "Fare                                                                                                                                                                                               The fare for the trip.   \n",
       "Tips                                                                                                                                                      The tip for the trip. Cash tips generally will not be recorded.   \n",
       "Tolls                                                                                                                                                                                             The tolls for the trip.   \n",
       "Extras                                                                                                                                                                                        Extra charges for the trip.   \n",
       "Trip Total                                                                                                                                                      Total cost of the trip the total of the previous columns.   \n",
       "Payment Type                                                                                                                                                                                Type of payment for the trip.   \n",
       "Company                                                                                                                                                                                                 The taxi company.   \n",
       "Pickup Centroid Latitude      The latitude of the center of the pickup census tract or the community area if the census tract has been hidden for privacy. This column often will be blank for locations outside Chicago.   \n",
       "Pickup Centroid Longitude    The longitude of the center of the pickup census tract or the community area if the census tract has been hidden for privacy. This column often will be blank for locations outside Chicago.   \n",
       "Pickup Centroid Location      The location of the center of the pickup census tract or the community area if the census tract has been hidden for privacy. This column often will be blank for locations outside Chicago.   \n",
       "Dropoff Centroid Latitude    The latitude of the center of the dropoff census tract or the community area if the census tract has been hidden for privacy. This column often will be blank for locations outside Chicago.   \n",
       "Dropoff Centroid Longitude  The longitude of the center of the dropoff census tract or the community area if the census tract has been hidden for privacy. This column often will be blank for locations outside Chicago.   \n",
       "Dropoff Centroid Location    The location of the center of the dropoff census tract or the community area if the census tract has been hidden for privacy. This column often will be blank for locations outside Chicago.   \n",
       "\n",
       "                                   Type  \\\n",
       "Column Name                               \n",
       "Trip ID                      Plain Text   \n",
       "Taxi ID                      Plain Text   \n",
       "Trip Start Timestamp        Date & Time   \n",
       "Trip End Timestamp          Date & Time   \n",
       "Trip Seconds                     Number   \n",
       "Trip Miles                       Number   \n",
       "Pickup Census Tract          Plain Text   \n",
       "Dropoff Census Tract         Plain Text   \n",
       "Pickup Community Area            Number   \n",
       "Dropoff Community Area           Number   \n",
       "Fare                             Number   \n",
       "Tips                             Number   \n",
       "Tolls                            Number   \n",
       "Extras                           Number   \n",
       "Trip Total                       Number   \n",
       "Payment Type                 Plain Text   \n",
       "Company                      Plain Text   \n",
       "Pickup Centroid Latitude         Number   \n",
       "Pickup Centroid Longitude        Number   \n",
       "Pickup Centroid Location          Point   \n",
       "Dropoff Centroid Latitude        Number   \n",
       "Dropoff Centroid Longitude       Number   \n",
       "Dropoff Centroid Location         Point   \n",
       "\n",
       "                                                                                                                                                                                                                                             Описание  \\\n",
       "Column Name                                                                                                                                                                                                                                             \n",
       "Trip ID                                                                                                                                                                                                              Уникальный идентификатор поездки   \n",
       "Taxi ID                                                                                                                                                                                                                Уникальный идентификатор такси   \n",
       "Trip Start Timestamp                                                                                                                                                                           Время начала поездки округленное до ближайших 15 минут   \n",
       "Trip End Timestamp                                                                                                                                                                          Время окончания поездки округленное до ближайших 15 минут   \n",
       "Trip Seconds                                                                                                                                                                                                     Продолжительность поездки в секундах   \n",
       "Trip Miles                                                                                                                                                                                                                 Расстояние поездки в милях   \n",
       "Pickup Census Tract                                   Код района по переписи населения  где началась поездка. В целях конфиденциальности этот код не отображается для некоторых поездок. Это поле часто остается пустым для мест за пределами Чикаго.   \n",
       "Dropoff Census Tract                               Код района по переписи населения  где завершилась поездка. В целях конфиденциальности этот код не отображается для некоторых поездок. Это поле часто остается пустым для мест за пределами Чикаго.   \n",
       "Pickup Community Area                                                                                                                        Номер коммунальной области  где началась поездка. Это поле остается пустым для мест за пределами Чикаго.   \n",
       "Dropoff Community Area                                                                                                                    Номер коммунальной области  где завершилась поездка. Это поле остается пустым для мест за пределами Чикаго.   \n",
       "Fare                                                                                                                                                                                                                               Стоимость поездки.   \n",
       "Tips                                                                                                                                                                                 Сумма чаевых за поездку. Наличные чаевые обычно не записываются.   \n",
       "Tolls                                                                                                                                                                                             Сумма оплаты за проезд (платные дороги) за поездку.   \n",
       "Extras                                                                                                                                                                                                               Дополнительные сборы за поездку.   \n",
       "Trip Total                                                                                                                                                                                         Общая стоимость поездки сумма предыдущих столбцов.   \n",
       "Payment Type                                                                                                                                                                                                                   Способ оплаты поездки.   \n",
       "Company                                                                                                                                                                                                                      Название такси-компании.   \n",
       "Pickup Centroid Latitude                Широта центра района по переписи или коммунальной области для местности, где началась поездка, если код района скрыт в целях конфиденциальности. Это поле часто остается пустым для мест за пределами Чикаго.   \n",
       "Pickup Centroid Longitude              Долгота центра района по переписи или коммунальной области для местности, где началась поездка, если код района скрыт в целях конфиденциальности. Это поле часто остается пустым для мест за пределами Чикаго.   \n",
       "Pickup Centroid Location        Местоположение центра района по переписи или коммунальной области для местности, где началась поездка, если код района скрыт в целях конфиденциальности. Это поле часто остается пустым для мест за пределами Чикаго.   \n",
       "Dropoff Centroid Latitude            Широта центра района по переписи или коммунальной области для местности, где завершилась поездка, если код района скрыт в целях конфиденциальности. Это поле часто остается пустым для мест за пределами Чикаго.   \n",
       "Dropoff Centroid Longitude          Долгота центра района по переписи или коммунальной области для местности, где завершилась поездка, если код района скрыт в целях конфиденциальности. Это поле часто остается пустым для мест за пределами Чикаго.   \n",
       "Dropoff Centroid Location    Местоположение центра района по переписи или коммунальной области для местности, где завершилась поездка, если код района скрыт в целях конфиденциальности. Это поле часто остается пустым для мест за пределами Чикаго.   \n",
       "\n",
       "                                            Тип  \n",
       "Column Name                                      \n",
       "Trip ID                           Обычный текст  \n",
       "Taxi ID                           Обычный текст  \n",
       "Trip Start Timestamp               Дата и время  \n",
       "Trip End Timestamp                 Дата и время  \n",
       "Trip Seconds                              Число  \n",
       "Trip Miles                                Число  \n",
       "Pickup Census Tract               Обычный текст  \n",
       "Dropoff Census Tract              Обычный текст  \n",
       "Pickup Community Area                     Число  \n",
       "Dropoff Community Area                    Число  \n",
       "Fare                                      Число  \n",
       "Tips                                      Число  \n",
       "Tolls                                     Число  \n",
       "Extras                                    Число  \n",
       "Trip Total                                Число  \n",
       "Payment Type                      Обычный текст  \n",
       "Company                           Обычный текст  \n",
       "Pickup Centroid Latitude                  Число  \n",
       "Pickup Centroid Longitude                 Число  \n",
       "Pickup Centroid Location     Точка (координаты)  \n",
       "Dropoff Centroid Latitude                 Число  \n",
       "Dropoff Centroid Longitude                Число  \n",
       "Dropoff Centroid Location    Точка (координаты)  "
      ]
     },
     "metadata": {},
     "output_type": "display_data"
    }
   ],
   "source": [
    "pd.set_option('display.max_colwidth', None)\n",
    "\n",
    "table_descr = pd.read_csv('/work/data/table_descr.csv',sep=';',index_col='Column Name')\n",
    "display(table_descr)\n",
    "\n",
    "pd.reset_option('display.max_colwidth')  # Сброс максимальной ширины столбцов к значению по умолчанию"
   ]
  },
  {
   "cell_type": "markdown",
   "id": "3613edd0-1309-44ad-9227-a6b02f6f93d7",
   "metadata": {},
   "source": [
    "### Описание полей \"Census Tract\" и \"Community Area\""
   ]
  },
  {
   "cell_type": "markdown",
   "id": "5505ab35-98d4-4f00-a075-45f758ab72f3",
   "metadata": {},
   "source": [
    "Поля \"Census Tract\" и \"Community Area\" представляют собой два различных уровня административных единиц:\n",
    "\n",
    "**Census Tract:**  \n",
    "Это статистические единицы, используемые в переписи населения в США, проводимой каждые 10 лет.\n",
    "Census Tract обычно представляют собой географические области, населенные от 1 200 до 8 000 человек.\n",
    "Они предназначены для обеспечения стандартизированных данных для анализа населения, доходов, расового и этнического состава и других социально-экономических параметров.\n",
    "\n",
    "Далее для краткости буду называть данную адм.единицу - **Район** (хотя правильней было бы \"квартал\", но этот термин будет путаться с временным окном)\n",
    "\n",
    "**Community Area:**  \n",
    "Это административные районы в городе Чикаго, разработанные городским правительством.\n",
    "Community Areas используются для организации и управления городскими службами и ресурсами.\n",
    "Обычно Community Areas выступают в качестве единиц анализа для изучения социальных и экономических показателей, таких как уровень преступности, доступность образования и здравоохранения и др.\n",
    "\n",
    "Далее для краткости буду называть данную адм.единицу - **Округ**\n",
    "\n",
    "Community Area представляют собой административные районы, охватывающие большие части города, в то время как Census Tract более мелкие географические области, которые могут быть распределены по всему Community Area. Таким образом, Community Area охватывает несколько Census Tract и представляет собой более крупную административную единицу.\n",
    "\n",
    "В идеальной ситуации каждый Census Tract должен быть частью только одной Community Area, чтобы избежать перекрытий и дублирования данных. Однако в реальности могут быть исключения из-за изменений границ административных районов или других факторов."
   ]
  },
  {
   "cell_type": "code",
   "execution_count": 28,
   "id": "1d676881-4c34-4bf1-8098-3c853e125eca",
   "metadata": {},
   "outputs": [],
   "source": [
    "# %%time\n",
    "# код ячейки закомментирован, т.к. описание данных\n",
    "# уже сохранено во внешнейм файле\n",
    "# но при необходимости пересчитать статистики\n",
    "# код надо раскомментировать\n",
    "\n",
    "# describe_result = taxi.describe().toPandas()\n",
    "\n",
    "# time cost for i5 (7g), 4 workers (x) 2gb RAM \n",
    "# CPU times: user 352 ms, sys: 32.2 ms, total: 384 ms\n",
    "# Wall time: 2min 7s"
   ]
  },
  {
   "cell_type": "code",
   "execution_count": 29,
   "id": "6d7e2066-b329-4f11-ba9b-8eda6aede617",
   "metadata": {},
   "outputs": [],
   "source": [
    "# output_file_path = '/work/data/2022_describe.csv'\n",
    "# describe_result.to_csv(output_file_path, index=False) #transpose()."
   ]
  },
  {
   "cell_type": "markdown",
   "id": "1258a7ed-a5dd-4ccb-a301-7f73b03422a0",
   "metadata": {},
   "source": [
    "Импортируем сохраненную таблицу-описание данных `.describe()`"
   ]
  },
  {
   "cell_type": "code",
   "execution_count": 30,
   "id": "3f652d08-997c-49d2-a7e3-4f09f9f9e6b6",
   "metadata": {},
   "outputs": [],
   "source": [
    "dr = pd.read_csv('/work/data/2022_describe.csv',sep=',',index_col='summary')"
   ]
  },
  {
   "cell_type": "code",
   "execution_count": 31,
   "id": "24e16ba1-2885-4c30-8bc8-af87fcbb04ef",
   "metadata": {},
   "outputs": [],
   "source": [
    "drf = dr.copy()\n",
    "#  отформатируем таблицу описания\n",
    "pds.get_df_formated(drf, '`',2, 10)"
   ]
  },
  {
   "cell_type": "code",
   "execution_count": 32,
   "id": "13926650-cf6a-4c20-a99a-2b47c7ae6dcc",
   "metadata": {},
   "outputs": [
    {
     "data": {
      "text/html": [
       "<div>\n",
       "<style scoped>\n",
       "    .dataframe tbody tr th:only-of-type {\n",
       "        vertical-align: middle;\n",
       "    }\n",
       "\n",
       "    .dataframe tbody tr th {\n",
       "        vertical-align: top;\n",
       "    }\n",
       "\n",
       "    .dataframe thead th {\n",
       "        text-align: right;\n",
       "    }\n",
       "</style>\n",
       "<table border=\"1\" class=\"dataframe\">\n",
       "  <thead>\n",
       "    <tr style=\"text-align: right;\">\n",
       "      <th>summary</th>\n",
       "      <th>count</th>\n",
       "      <th>mean</th>\n",
       "      <th>stddev</th>\n",
       "      <th>min</th>\n",
       "      <th>max</th>\n",
       "    </tr>\n",
       "  </thead>\n",
       "  <tbody>\n",
       "    <tr>\n",
       "      <th>Trip ID</th>\n",
       "      <td>6`382`425</td>\n",
       "      <td>nan</td>\n",
       "      <td>nan</td>\n",
       "      <td>000000bb18</td>\n",
       "      <td>ffffff1aae</td>\n",
       "    </tr>\n",
       "    <tr>\n",
       "      <th>Taxi ID</th>\n",
       "      <td>6`382`425</td>\n",
       "      <td>nan</td>\n",
       "      <td>nan</td>\n",
       "      <td>0041f8f0c9</td>\n",
       "      <td>fff84aa08a</td>\n",
       "    </tr>\n",
       "    <tr>\n",
       "      <th>Trip Start Timestamp</th>\n",
       "      <td>6`382`425</td>\n",
       "      <td>nan</td>\n",
       "      <td>nan</td>\n",
       "      <td>01/01/2022</td>\n",
       "      <td>12/31/2022</td>\n",
       "    </tr>\n",
       "    <tr>\n",
       "      <th>Trip End Timestamp</th>\n",
       "      <td>6`382`213</td>\n",
       "      <td>nan</td>\n",
       "      <td>nan</td>\n",
       "      <td>01/01/2022</td>\n",
       "      <td>12/31/2022</td>\n",
       "    </tr>\n",
       "    <tr>\n",
       "      <th>Trip Seconds</th>\n",
       "      <td>6`380`960</td>\n",
       "      <td>1`198.21</td>\n",
       "      <td>1`895.66</td>\n",
       "      <td>0</td>\n",
       "      <td>86`341</td>\n",
       "    </tr>\n",
       "    <tr>\n",
       "      <th>Trip Miles</th>\n",
       "      <td>6`382`369</td>\n",
       "      <td>6.19</td>\n",
       "      <td>8.00</td>\n",
       "      <td>0</td>\n",
       "      <td>2`967.54</td>\n",
       "    </tr>\n",
       "    <tr>\n",
       "      <th>Pickup Census Tract</th>\n",
       "      <td>2`623`831</td>\n",
       "      <td>17`031`468`160.38</td>\n",
       "      <td>368`945.90</td>\n",
       "      <td>17`031`010`100</td>\n",
       "      <td>17`031`980`100</td>\n",
       "    </tr>\n",
       "    <tr>\n",
       "      <th>Dropoff Census Tract</th>\n",
       "      <td>2`675`331</td>\n",
       "      <td>17`031`411`846.86</td>\n",
       "      <td>345`773.49</td>\n",
       "      <td>17`031`010`100</td>\n",
       "      <td>17`031`980`100</td>\n",
       "    </tr>\n",
       "    <tr>\n",
       "      <th>Pickup Community Area</th>\n",
       "      <td>5`868`572</td>\n",
       "      <td>32.35</td>\n",
       "      <td>25.20</td>\n",
       "      <td>1</td>\n",
       "      <td>77</td>\n",
       "    </tr>\n",
       "    <tr>\n",
       "      <th>Dropoff Community Area</th>\n",
       "      <td>5`748`741</td>\n",
       "      <td>25.84</td>\n",
       "      <td>20.93</td>\n",
       "      <td>1</td>\n",
       "      <td>77</td>\n",
       "    </tr>\n",
       "    <tr>\n",
       "      <th>Fare</th>\n",
       "      <td>6`378`889</td>\n",
       "      <td>21.73</td>\n",
       "      <td>49.42</td>\n",
       "      <td>0</td>\n",
       "      <td>9`999.75</td>\n",
       "    </tr>\n",
       "    <tr>\n",
       "      <th>Tips</th>\n",
       "      <td>6`378`889</td>\n",
       "      <td>2.75</td>\n",
       "      <td>4.08</td>\n",
       "      <td>0</td>\n",
       "      <td>496</td>\n",
       "    </tr>\n",
       "    <tr>\n",
       "      <th>Tolls</th>\n",
       "      <td>6`378`889</td>\n",
       "      <td>0.02</td>\n",
       "      <td>7.66</td>\n",
       "      <td>0</td>\n",
       "      <td>6`666.66</td>\n",
       "    </tr>\n",
       "    <tr>\n",
       "      <th>Extras</th>\n",
       "      <td>6`378`889</td>\n",
       "      <td>2.16</td>\n",
       "      <td>21.75</td>\n",
       "      <td>0</td>\n",
       "      <td>8`888.88</td>\n",
       "    </tr>\n",
       "    <tr>\n",
       "      <th>Trip Total</th>\n",
       "      <td>6`378`889</td>\n",
       "      <td>26.83</td>\n",
       "      <td>56.96</td>\n",
       "      <td>0</td>\n",
       "      <td>9`999.75</td>\n",
       "    </tr>\n",
       "    <tr>\n",
       "      <th>Payment Type</th>\n",
       "      <td>6`382`425</td>\n",
       "      <td>nan</td>\n",
       "      <td>nan</td>\n",
       "      <td>Cash</td>\n",
       "      <td>Unknown</td>\n",
       "    </tr>\n",
       "    <tr>\n",
       "      <th>Company</th>\n",
       "      <td>6`382`425</td>\n",
       "      <td>nan</td>\n",
       "      <td>nan</td>\n",
       "      <td>24 Seven T</td>\n",
       "      <td>U Taxicab</td>\n",
       "    </tr>\n",
       "    <tr>\n",
       "      <th>Pickup Centroid Latitude</th>\n",
       "      <td>5`870`874</td>\n",
       "      <td>41.90</td>\n",
       "      <td>0.06</td>\n",
       "      <td>41.65</td>\n",
       "      <td>42.02</td>\n",
       "    </tr>\n",
       "    <tr>\n",
       "      <th>Pickup Centroid Longitude</th>\n",
       "      <td>5`870`874</td>\n",
       "      <td>-87.69</td>\n",
       "      <td>0.10</td>\n",
       "      <td>-87.91</td>\n",
       "      <td>-87.53</td>\n",
       "    </tr>\n",
       "    <tr>\n",
       "      <th>Pickup Centroid Location</th>\n",
       "      <td>5`870`874</td>\n",
       "      <td>nan</td>\n",
       "      <td>nan</td>\n",
       "      <td>POINT (-87</td>\n",
       "      <td>POINT (-87</td>\n",
       "    </tr>\n",
       "    <tr>\n",
       "      <th>Dropoff Centroid Latitude</th>\n",
       "      <td>5`784`494</td>\n",
       "      <td>41.89</td>\n",
       "      <td>0.06</td>\n",
       "      <td>41.66</td>\n",
       "      <td>42.02</td>\n",
       "    </tr>\n",
       "    <tr>\n",
       "      <th>Dropoff Centroid Longitude</th>\n",
       "      <td>5`784`494</td>\n",
       "      <td>-87.66</td>\n",
       "      <td>0.07</td>\n",
       "      <td>-87.91</td>\n",
       "      <td>-87.53</td>\n",
       "    </tr>\n",
       "    <tr>\n",
       "      <th>Dropoff Centroid  Location</th>\n",
       "      <td>5`784`494</td>\n",
       "      <td>nan</td>\n",
       "      <td>nan</td>\n",
       "      <td>POINT (-87</td>\n",
       "      <td>POINT (-87</td>\n",
       "    </tr>\n",
       "  </tbody>\n",
       "</table>\n",
       "</div>"
      ],
      "text/plain": [
       "summary                         count               mean      stddev  \\\n",
       "Trip ID                     6`382`425                nan         nan   \n",
       "Taxi ID                     6`382`425                nan         nan   \n",
       "Trip Start Timestamp        6`382`425                nan         nan   \n",
       "Trip End Timestamp          6`382`213                nan         nan   \n",
       "Trip Seconds                6`380`960           1`198.21    1`895.66   \n",
       "Trip Miles                  6`382`369               6.19        8.00   \n",
       "Pickup Census Tract         2`623`831  17`031`468`160.38  368`945.90   \n",
       "Dropoff Census Tract        2`675`331  17`031`411`846.86  345`773.49   \n",
       "Pickup Community Area       5`868`572              32.35       25.20   \n",
       "Dropoff Community Area      5`748`741              25.84       20.93   \n",
       "Fare                        6`378`889              21.73       49.42   \n",
       "Tips                        6`378`889               2.75        4.08   \n",
       "Tolls                       6`378`889               0.02        7.66   \n",
       "Extras                      6`378`889               2.16       21.75   \n",
       "Trip Total                  6`378`889              26.83       56.96   \n",
       "Payment Type                6`382`425                nan         nan   \n",
       "Company                     6`382`425                nan         nan   \n",
       "Pickup Centroid Latitude    5`870`874              41.90        0.06   \n",
       "Pickup Centroid Longitude   5`870`874             -87.69        0.10   \n",
       "Pickup Centroid Location    5`870`874                nan         nan   \n",
       "Dropoff Centroid Latitude   5`784`494              41.89        0.06   \n",
       "Dropoff Centroid Longitude  5`784`494             -87.66        0.07   \n",
       "Dropoff Centroid  Location  5`784`494                nan         nan   \n",
       "\n",
       "summary                                min             max  \n",
       "Trip ID                         000000bb18      ffffff1aae  \n",
       "Taxi ID                         0041f8f0c9      fff84aa08a  \n",
       "Trip Start Timestamp            01/01/2022      12/31/2022  \n",
       "Trip End Timestamp              01/01/2022      12/31/2022  \n",
       "Trip Seconds                             0          86`341  \n",
       "Trip Miles                               0        2`967.54  \n",
       "Pickup Census Tract         17`031`010`100  17`031`980`100  \n",
       "Dropoff Census Tract        17`031`010`100  17`031`980`100  \n",
       "Pickup Community Area                    1              77  \n",
       "Dropoff Community Area                   1              77  \n",
       "Fare                                     0        9`999.75  \n",
       "Tips                                     0             496  \n",
       "Tolls                                    0        6`666.66  \n",
       "Extras                                   0        8`888.88  \n",
       "Trip Total                               0        9`999.75  \n",
       "Payment Type                          Cash         Unknown  \n",
       "Company                         24 Seven T       U Taxicab  \n",
       "Pickup Centroid Latitude             41.65           42.02  \n",
       "Pickup Centroid Longitude           -87.91          -87.53  \n",
       "Pickup Centroid Location        POINT (-87      POINT (-87  \n",
       "Dropoff Centroid Latitude            41.66           42.02  \n",
       "Dropoff Centroid Longitude          -87.91          -87.53  \n",
       "Dropoff Centroid  Location      POINT (-87      POINT (-87  "
      ]
     },
     "execution_count": 32,
     "metadata": {},
     "output_type": "execute_result"
    }
   ],
   "source": [
    "drf.transpose()"
   ]
  },
  {
   "cell_type": "code",
   "execution_count": 33,
   "id": "586c2d7a-22b8-479d-92c2-d61433599aa6",
   "metadata": {},
   "outputs": [],
   "source": [
    "# val = int(dr.transpose()['count'].astype(float).max())\n",
    "# print(pds.gvf(val))"
   ]
  },
  {
   "cell_type": "code",
   "execution_count": 34,
   "id": "9e91bc49-f481-4d19-8362-3c28893676b6",
   "metadata": {},
   "outputs": [
    {
     "name": "stdout",
     "output_type": "stream",
     "text": [
      "CPU times: user 6.9 ms, sys: 678 µs, total: 7.58 ms\n",
      "Wall time: 16.2 s\n"
     ]
    }
   ],
   "source": [
    "%%time\n",
    "row_count = taxi.count()\n",
    "\n",
    "# time cost i5 (7g), 4 workers (x) 2gb RAM\n",
    "# CPU times: user 5.85 ms, sys: 871 µs, total: 6.72 ms\n",
    "# Wall time: 11.8 s"
   ]
  },
  {
   "cell_type": "code",
   "execution_count": 35,
   "id": "23e8d3c0-1123-44d3-a755-b92ab844a2f4",
   "metadata": {},
   "outputs": [
    {
     "name": "stdout",
     "output_type": "stream",
     "text": [
      "6'382'425\n"
     ]
    }
   ],
   "source": [
    "print(pds.gvf(row_count))"
   ]
  },
  {
   "cell_type": "markdown",
   "id": "4764b4a3-e59e-4eb0-9cfd-f05be6efaafe",
   "metadata": {},
   "source": [
    "### Оценим количество пропусков"
   ]
  },
  {
   "cell_type": "code",
   "execution_count": 36,
   "id": "ed8bb929-19dd-48bd-9389-c00cd64a9bb9",
   "metadata": {},
   "outputs": [
    {
     "data": {
      "text/html": [
       "<div>\n",
       "<style scoped>\n",
       "    .dataframe tbody tr th:only-of-type {\n",
       "        vertical-align: middle;\n",
       "    }\n",
       "\n",
       "    .dataframe tbody tr th {\n",
       "        vertical-align: top;\n",
       "    }\n",
       "\n",
       "    .dataframe thead th {\n",
       "        text-align: right;\n",
       "    }\n",
       "</style>\n",
       "<table border=\"1\" class=\"dataframe\">\n",
       "  <thead>\n",
       "    <tr style=\"text-align: right;\">\n",
       "      <th>summary</th>\n",
       "      <th>count</th>\n",
       "      <th>not_null_ratio</th>\n",
       "    </tr>\n",
       "  </thead>\n",
       "  <tbody>\n",
       "    <tr>\n",
       "      <th>Trip ID</th>\n",
       "      <td>6`382`425</td>\n",
       "      <td>1</td>\n",
       "    </tr>\n",
       "    <tr>\n",
       "      <th>Taxi ID</th>\n",
       "      <td>6`382`425</td>\n",
       "      <td>1</td>\n",
       "    </tr>\n",
       "    <tr>\n",
       "      <th>Trip Start Timestamp</th>\n",
       "      <td>6`382`425</td>\n",
       "      <td>1</td>\n",
       "    </tr>\n",
       "    <tr>\n",
       "      <th>Trip End Timestamp</th>\n",
       "      <td>6`382`213</td>\n",
       "      <td>1.0000</td>\n",
       "    </tr>\n",
       "    <tr>\n",
       "      <th>Trip Seconds</th>\n",
       "      <td>6`380`960</td>\n",
       "      <td>0.9998</td>\n",
       "    </tr>\n",
       "    <tr>\n",
       "      <th>Trip Miles</th>\n",
       "      <td>6`382`369</td>\n",
       "      <td>1.0000</td>\n",
       "    </tr>\n",
       "    <tr>\n",
       "      <th>Pickup Census Tract</th>\n",
       "      <td>2`623`831</td>\n",
       "      <td>0.4111</td>\n",
       "    </tr>\n",
       "    <tr>\n",
       "      <th>Dropoff Census Tract</th>\n",
       "      <td>2`675`331</td>\n",
       "      <td>0.4192</td>\n",
       "    </tr>\n",
       "    <tr>\n",
       "      <th>Pickup Community Area</th>\n",
       "      <td>5`868`572</td>\n",
       "      <td>0.9195</td>\n",
       "    </tr>\n",
       "    <tr>\n",
       "      <th>Dropoff Community Area</th>\n",
       "      <td>5`748`741</td>\n",
       "      <td>0.9007</td>\n",
       "    </tr>\n",
       "    <tr>\n",
       "      <th>Fare</th>\n",
       "      <td>6`378`889</td>\n",
       "      <td>0.9994</td>\n",
       "    </tr>\n",
       "    <tr>\n",
       "      <th>Tips</th>\n",
       "      <td>6`378`889</td>\n",
       "      <td>0.9994</td>\n",
       "    </tr>\n",
       "    <tr>\n",
       "      <th>Tolls</th>\n",
       "      <td>6`378`889</td>\n",
       "      <td>0.9994</td>\n",
       "    </tr>\n",
       "    <tr>\n",
       "      <th>Extras</th>\n",
       "      <td>6`378`889</td>\n",
       "      <td>0.9994</td>\n",
       "    </tr>\n",
       "    <tr>\n",
       "      <th>Trip Total</th>\n",
       "      <td>6`378`889</td>\n",
       "      <td>0.9994</td>\n",
       "    </tr>\n",
       "    <tr>\n",
       "      <th>Payment Type</th>\n",
       "      <td>6`382`425</td>\n",
       "      <td>1</td>\n",
       "    </tr>\n",
       "    <tr>\n",
       "      <th>Company</th>\n",
       "      <td>6`382`425</td>\n",
       "      <td>1</td>\n",
       "    </tr>\n",
       "    <tr>\n",
       "      <th>Pickup Centroid Latitude</th>\n",
       "      <td>5`870`874</td>\n",
       "      <td>0.9199</td>\n",
       "    </tr>\n",
       "    <tr>\n",
       "      <th>Pickup Centroid Longitude</th>\n",
       "      <td>5`870`874</td>\n",
       "      <td>0.9199</td>\n",
       "    </tr>\n",
       "    <tr>\n",
       "      <th>Pickup Centroid Location</th>\n",
       "      <td>5`870`874</td>\n",
       "      <td>0.9199</td>\n",
       "    </tr>\n",
       "    <tr>\n",
       "      <th>Dropoff Centroid Latitude</th>\n",
       "      <td>5`784`494</td>\n",
       "      <td>0.9063</td>\n",
       "    </tr>\n",
       "    <tr>\n",
       "      <th>Dropoff Centroid Longitude</th>\n",
       "      <td>5`784`494</td>\n",
       "      <td>0.9063</td>\n",
       "    </tr>\n",
       "    <tr>\n",
       "      <th>Dropoff Centroid  Location</th>\n",
       "      <td>5`784`494</td>\n",
       "      <td>0.9063</td>\n",
       "    </tr>\n",
       "  </tbody>\n",
       "</table>\n",
       "</div>"
      ],
      "text/plain": [
       "summary                         count not_null_ratio\n",
       "Trip ID                     6`382`425              1\n",
       "Taxi ID                     6`382`425              1\n",
       "Trip Start Timestamp        6`382`425              1\n",
       "Trip End Timestamp          6`382`213         1.0000\n",
       "Trip Seconds                6`380`960         0.9998\n",
       "Trip Miles                  6`382`369         1.0000\n",
       "Pickup Census Tract         2`623`831         0.4111\n",
       "Dropoff Census Tract        2`675`331         0.4192\n",
       "Pickup Community Area       5`868`572         0.9195\n",
       "Dropoff Community Area      5`748`741         0.9007\n",
       "Fare                        6`378`889         0.9994\n",
       "Tips                        6`378`889         0.9994\n",
       "Tolls                       6`378`889         0.9994\n",
       "Extras                      6`378`889         0.9994\n",
       "Trip Total                  6`378`889         0.9994\n",
       "Payment Type                6`382`425              1\n",
       "Company                     6`382`425              1\n",
       "Pickup Centroid Latitude    5`870`874         0.9199\n",
       "Pickup Centroid Longitude   5`870`874         0.9199\n",
       "Pickup Centroid Location    5`870`874         0.9199\n",
       "Dropoff Centroid Latitude   5`784`494         0.9063\n",
       "Dropoff Centroid Longitude  5`784`494         0.9063\n",
       "Dropoff Centroid  Location  5`784`494         0.9063"
      ]
     },
     "metadata": {},
     "output_type": "display_data"
    },
    {
     "name": "stdout",
     "output_type": "stream",
     "text": [
      "============================================\n",
      "=== columns count ================== 23 ====\n",
      "============================================\n"
     ]
    }
   ],
   "source": [
    "drt = dr.transpose()\n",
    "drt['count'] = drt['count'].astype(int)\n",
    "drt['not_null_ratio']=drt['count']/row_count\n",
    "\n",
    "drt = drt[['count','not_null_ratio']]\n",
    "\n",
    "# отображение отформатированных данных\n",
    "pds.get_df_formated(drt,'`',4, 10)\n",
    "\n",
    "display(drt)\n",
    "\n",
    "print('============================================')\n",
    "print('=== columns count ==================',int(len(drt)),'====')\n",
    "print('============================================')"
   ]
  },
  {
   "cell_type": "markdown",
   "id": "2c358511-088e-4892-ba78-c3c68159333a",
   "metadata": {},
   "source": [
    "Видим, что  \n",
    "- 7 полей не содержат пропусков (not_null_ratio = 1), в т.ч 2 почти их не имеют (1.0000);\n",
    "- 8 полей заполнены более чем на 99%;\n",
    "- `Pickup Census Tract`, `Dropoff Census Tract` заполнены менее, чем на 50%;\n",
    "- поля с геоданными (latitude, longitude) заполнены более, чем на 90%\n",
    "- поля со значениями округов (`Community Area`) заполнены более, чем на 90%\n",
    "\n",
    "Поскольку прогноз строится для районов (tract), необходимо максимально избавиться от пропусков в цензус трактах. Попробуем связать поля геоданных (широты, долготы) и кодов районов, чтобы использовать данные самого датасета для заполнения пропусков."
   ]
  },
  {
   "cell_type": "markdown",
   "id": "a4e4cd7f-5f44-432f-aed8-695df14fab80",
   "metadata": {
    "editable": true,
    "slideshow": {
     "slide_type": ""
    },
    "tags": []
   },
   "source": [
    "### Ключи-агрегаторы"
   ]
  },
  {
   "cell_type": "markdown",
   "id": "d6ee2823-d614-432a-81b2-79da02f3ed8a",
   "metadata": {},
   "source": [
    "В качестве ключа предполагается использовать кортеж-четверку (код квартала, широта, долгота, код округа)"
   ]
  },
  {
   "cell_type": "markdown",
   "id": "821e4f4f-9763-4f61-a427-f16a949c2440",
   "metadata": {},
   "source": [
    "Посмотрим состав четверок. Сокращение префиксов имен датафреймов:  \n",
    "ctp - pickup census tract  \n",
    "ctd - dropoff census tract"
   ]
  },
  {
   "cell_type": "code",
   "execution_count": 37,
   "id": "3d9a80ee-080b-4147-88a8-c158733b9a88",
   "metadata": {},
   "outputs": [
    {
     "name": "stdout",
     "output_type": "stream",
     "text": [
      "+-------------------+-------+\n",
      "|Pickup Census Tract|  count|\n",
      "+-------------------+-------+\n",
      "|               null|3758594|\n",
      "|        17031980000| 519802|\n",
      "|        17031320100| 304178|\n",
      "|        17031839100| 284131|\n",
      "|        17031281900| 188178|\n",
      "+-------------------+-------+\n",
      "only showing top 5 rows\n",
      "\n",
      "============================================\n",
      "pickup ct count: 665\n"
     ]
    }
   ],
   "source": [
    "# ctp - pickup census tract\n",
    "ctp = taxi.groupBy(ct.pickup_ct).count().orderBy(\"count\", ascending=False).cache()\n",
    "ctp.show(5)\n",
    "ctp_count = ctp.filter(ctp[ct.pickup_ct].isNotNull()).count()\n",
    "print('============================================')\n",
    "print('pickup ct count:',ctp_count)"
   ]
  },
  {
   "cell_type": "code",
   "execution_count": 38,
   "id": "4515cc4b-d24f-4d7f-b869-71c4674c3abb",
   "metadata": {},
   "outputs": [
    {
     "name": "stdout",
     "output_type": "stream",
     "text": [
      "+--------------------+-------+\n",
      "|Dropoff Census Tract|  count|\n",
      "+--------------------+-------+\n",
      "|                null|3707094|\n",
      "|         17031839100| 328855|\n",
      "|         17031320100| 277879|\n",
      "|         17031980000| 243652|\n",
      "|         17031081500| 160251|\n",
      "+--------------------+-------+\n",
      "only showing top 5 rows\n",
      "\n",
      "============================================\n",
      "dropoff ct count: 811\n"
     ]
    }
   ],
   "source": [
    "# ctd - dropoff census tract\n",
    "ctd = taxi.groupBy(ct.dropoff_ct).count().orderBy(\"count\", ascending=False).cache()\n",
    "ctd.show(5)\n",
    "ctd_count = ctd.filter(ctd[ct.dropoff_ct].isNotNull()).count()\n",
    "print('============================================')\n",
    "print('dropoff ct count:',ctd_count)"
   ]
  },
  {
   "cell_type": "markdown",
   "id": "539e988a-dc1c-47b1-acc1-f853ba82c61a",
   "metadata": {},
   "source": [
    "Районов высадки значительно больше"
   ]
  },
  {
   "cell_type": "code",
   "execution_count": 39,
   "id": "ffcc4cf4-8ff5-42b3-a1c1-a36f36f5abd4",
   "metadata": {},
   "outputs": [
    {
     "name": "stdout",
     "output_type": "stream",
     "text": [
      "количество районов высадки, которых нет в мн-ве р-нов посадки: 180\n"
     ]
    }
   ],
   "source": [
    "only_ctd = ctd.filter(ctd[ct.dropoff_ct].isNotNull()).\\\n",
    "join(ctp.filter(ctp[ct.pickup_ct].isNotNull()),\\\n",
    "     ctd[ct.dropoff_ct]==ctp[ct.pickup_ct],'left_anti').cache()\n",
    "only_ctd_count = only_ctd.count()\n",
    "print(\"количество районов высадки, которых нет в мн-ве р-нов посадки:\", only_ctd_count)"
   ]
  },
  {
   "cell_type": "code",
   "execution_count": 40,
   "id": "75dd668a-3b49-4541-bd3b-76dacc2b6550",
   "metadata": {},
   "outputs": [
    {
     "name": "stdout",
     "output_type": "stream",
     "text": [
      "количество районов посадки, которых нет в мн-ве р-нов высадки: 34\n"
     ]
    }
   ],
   "source": [
    "# количество районов посадки, которых нет в мн-ве р-нов высадки\n",
    "only_ctp = ctp.filter(ctp[ct.pickup_ct].isNotNull()).\\\n",
    "join(ctd.filter(ctd[ct.dropoff_ct].isNotNull()),\\\n",
    "     ctd[ct.dropoff_ct]==ctp[ct.pickup_ct],'left_anti').cache()\n",
    "only_ctp_count = only_ctp.count()\n",
    "print(\"количество районов посадки, которых нет в мн-ве р-нов высадки:\", only_ctp_count)"
   ]
  },
  {
   "cell_type": "markdown",
   "id": "7d12bdeb-c262-442c-b66d-892f6f691a24",
   "metadata": {},
   "source": [
    "В значительной части множества значений районов высадки и посадки не пересекаются"
   ]
  },
  {
   "cell_type": "markdown",
   "id": "dea5fc23-0fd8-4a1f-a761-7924ccd7ff7e",
   "metadata": {},
   "source": [
    "Посмотрим состав районов в связке с их координатами-геоточками (кортежи-четверки)"
   ]
  },
  {
   "cell_type": "code",
   "execution_count": 41,
   "id": "a8e81ea1-882a-4091-8718-d1c1b3dd639e",
   "metadata": {},
   "outputs": [
    {
     "data": {
      "text/plain": [
       "DataFrame[Pickup Census Tract: bigint, Pickup Centroid Latitude: double, Pickup Centroid Longitude: double, Pickup Community Area: int, count: bigint]"
      ]
     },
     "execution_count": 41,
     "metadata": {},
     "output_type": "execute_result"
    }
   ],
   "source": [
    "# ДФ по районам посадки, содержащий четверки: код р-на, широта, долгота\n",
    "ctp_geo = taxi.groupBy(\n",
    "    ct.pickup_ct,ct.pickup_cl,ct.pickup_clon,ct.pickup_ca\n",
    ").count().orderBy(\"count\", ascending=False)\n",
    "ctp_geo.cache()"
   ]
  },
  {
   "cell_type": "code",
   "execution_count": 42,
   "id": "fe317296-3031-475a-a31c-7f6622708cbf",
   "metadata": {},
   "outputs": [
    {
     "name": "stdout",
     "output_type": "stream",
     "text": [
      "+-------------------+------------------------+-------------------------+---------------------+------+\n",
      "|Pickup Census Tract|Pickup Centroid Latitude|Pickup Centroid Longitude|Pickup Community Area| count|\n",
      "+-------------------+------------------------+-------------------------+---------------------+------+\n",
      "|               null|            41.899602111|            -87.633308037|                    8|673556|\n",
      "|        17031980000|             41.97907082|            -87.903039661|                   76|519802|\n",
      "|               null|                    null|                     null|                 null|510734|\n",
      "|               null|            41.980264315|            -87.913624596|                   76|469878|\n",
      "|               null|            41.878865584|            -87.625192142|                   32|308122|\n",
      "+-------------------+------------------------+-------------------------+---------------------+------+\n",
      "only showing top 5 rows\n",
      "\n",
      "743\n"
     ]
    }
   ],
   "source": [
    "ctp_geo.show(5)\n",
    "print(ctp_geo.count())"
   ]
  },
  {
   "cell_type": "code",
   "execution_count": 43,
   "id": "04464c2c-0fdb-4379-843c-ea7d4d4778ab",
   "metadata": {},
   "outputs": [
    {
     "name": "stdout",
     "output_type": "stream",
     "text": [
      "+------------------------+-------------------------+-----+\n",
      "|Pickup Centroid Latitude|Pickup Centroid Longitude|count|\n",
      "+------------------------+-------------------------+-----+\n",
      "|                    null|                     null|  127|\n",
      "|            41.728182061|            -87.596475596|    2|\n",
      "+------------------------+-------------------------+-----+\n",
      "\n"
     ]
    }
   ],
   "source": [
    "# Посмотрим повторяющиеся геоточки\n",
    "ctp_geo_dupl = ctp_geo.groupBy(ct.pickup_cl,ct.pickup_clon).count().filter(f.col('count') > 1).cache()\n",
    "ctp_geo_dupl.show()"
   ]
  },
  {
   "cell_type": "markdown",
   "id": "77361c85-a35a-4b1b-8d98-84f56d9f987d",
   "metadata": {},
   "source": [
    "Видим значительное количество пустых геоточек. Отберем отдельно те из них, которые имеют непустое значение для кода района."
   ]
  },
  {
   "cell_type": "code",
   "execution_count": 44,
   "id": "54bb34e1-6b94-4372-86cb-e3dd601bd5cb",
   "metadata": {},
   "outputs": [
    {
     "name": "stdout",
     "output_type": "stream",
     "text": [
      "+-------------------+------------------------+-------------------------+---------------------+-----+\n",
      "|Pickup Census Tract|Pickup Centroid Latitude|Pickup Centroid Longitude|Pickup Community Area|count|\n",
      "+-------------------+------------------------+-------------------------+---------------------+-----+\n",
      "|        17031804603|                    null|                     null|                 null|   42|\n",
      "|        17031804701|                    null|                     null|                 null|   36|\n",
      "|        17031801500|                    null|                     null|                 null|   34|\n",
      "|        17031808200|                    null|                     null|                 null|   31|\n",
      "|        17031806600|                    null|                     null|                 null|   29|\n",
      "+-------------------+------------------------+-------------------------+---------------------+-----+\n",
      "only showing top 5 rows\n",
      "\n"
     ]
    }
   ],
   "source": [
    "# Посмотрим районы с пустыми значениями для широты-долготы и непустыми значениями для районов\n",
    "ctp_geo_nulls = ctp_geo.filter(ctp_geo[ct.pickup_cl].isNull() \\\n",
    "               & ctp_geo[ct.pickup_clon].isNull()\\\n",
    "               & ctp_geo[ct.pickup_ct].isNotNull())\n",
    "ctp_geo_nulls.show(5)"
   ]
  },
  {
   "cell_type": "markdown",
   "id": "2fb6c2d6-ba51-4292-8e04-50b5ed3dbdc6",
   "metadata": {},
   "source": [
    "Также посмотрим коды р-на, для повторяющихся непустых геоточек"
   ]
  },
  {
   "cell_type": "code",
   "execution_count": 45,
   "id": "86ea99a7-6b47-4c2d-a050-6e1266410a2e",
   "metadata": {},
   "outputs": [
    {
     "name": "stdout",
     "output_type": "stream",
     "text": [
      "+-------------------+------------------------+-------------------------+\n",
      "|Pickup Census Tract|Pickup Centroid Latitude|Pickup Centroid Longitude|\n",
      "+-------------------+------------------------+-------------------------+\n",
      "|               null|            41.728182061|            -87.596475596|\n",
      "|        17031470100|            41.728182061|            -87.596475596|\n",
      "+-------------------+------------------------+-------------------------+\n",
      "\n"
     ]
    }
   ],
   "source": [
    "# посмотрим коды р-на, для повторяющихся непустых геоточек\n",
    "# Фильтрация и присвоение алиаса \"a\" для ctp_geo_dupl\n",
    "ctp_geo_dupl_filtered = ctp_geo_dupl.filter(\n",
    "    ctp_geo_dupl[ct.pickup_cl].isNotNull() & ctp_geo_dupl[ct.pickup_clon].isNotNull()\n",
    ").alias(\"a\")\n",
    "\n",
    "# Присвоение алиаса \"b\" для ctp_geo\n",
    "ctp_geo_alias = ctp_geo.alias(\"b\")\n",
    "\n",
    "# Выполнение join с использованием алиасов и квалифицированных имен столбцов\n",
    "result = ctp_geo_dupl_filtered.join(\n",
    "    ctp_geo_alias,\n",
    "    (f.col(\"a.\" + ct.pickup_cl) == f.col(\"b.\" + ct.pickup_cl)) & \n",
    "    (f.col(\"a.\" + ct.pickup_clon) == f.col(\"b.\" + ct.pickup_clon))\n",
    ").select(\n",
    "    f.col(\"b.\" + ct.pickup_ct), \n",
    "    f.col(\"b.\" + ct.pickup_cl), \n",
    "    f.col(\"b.\" + ct.pickup_clon)\n",
    ")\n",
    "\n",
    "result.show()"
   ]
  },
  {
   "cell_type": "markdown",
   "id": "8b2de82f-fb7f-41ae-8341-7e13f138bf5b",
   "metadata": {},
   "source": [
    "Тот же запрос с использованием SQL. Код выглядит более компактным"
   ]
  },
  {
   "cell_type": "code",
   "execution_count": 46,
   "id": "f481ba57-bda6-4418-aab0-29de560259aa",
   "metadata": {},
   "outputs": [
    {
     "name": "stdout",
     "output_type": "stream",
     "text": [
      "+-------------------+------------------------+-------------------------+\n",
      "|Pickup Census Tract|Pickup Centroid Latitude|Pickup Centroid Longitude|\n",
      "+-------------------+------------------------+-------------------------+\n",
      "|               null|            41.728182061|            -87.596475596|\n",
      "|        17031470100|            41.728182061|            -87.596475596|\n",
      "+-------------------+------------------------+-------------------------+\n",
      "\n"
     ]
    }
   ],
   "source": [
    "ctp_geo_dupl.createOrReplaceTempView(\"ctp_geo_dupl\")\n",
    "ctp_geo.createOrReplaceTempView(\"ctp_geo\")\n",
    "\n",
    "sql_query = f\"\"\"\n",
    "SELECT b.`{ct.pickup_ct}`, b.`{ct.pickup_cl}`, b.`{ct.pickup_clon}`\n",
    "FROM ctp_geo_dupl a\n",
    "JOIN ctp_geo b\n",
    "ON a.`{ct.pickup_cl}` = b.`{ct.pickup_cl}` \n",
    "AND a.`{ct.pickup_clon}` = b.`{ct.pickup_clon}`\n",
    "WHERE a.`{ct.pickup_cl}` IS NOT NULL \n",
    "AND a.`{ct.pickup_clon}` IS NOT NULL\n",
    "\"\"\"\n",
    "result = spark.sql(sql_query)\n",
    "result.show()"
   ]
  },
  {
   "cell_type": "markdown",
   "id": "85e138a5-0298-4136-8806-aeb00b3f5c28",
   "metadata": {},
   "source": [
    "Завернем код с отбором пустых/непустых геоточек в функцию, для применения трансформаций также для районов высадки"
   ]
  },
  {
   "cell_type": "code",
   "execution_count": 47,
   "id": "044d6cfe-fbd9-49fe-8a47-fc26940a1d9a",
   "metadata": {},
   "outputs": [],
   "source": [
    "def get_geo_points(df, ct, lat, lon, area):\n",
    "    # Создание DataFrame по районам (посадки или высадки),\n",
    "    # содержащий тройки: код р-на, широта, долгота\n",
    "    geo_df = df.groupBy(\n",
    "        ct, lat, lon, area\n",
    "    ).count().orderBy(\"count\", ascending=False)\n",
    "    geo_df.cache()\n",
    "\n",
    "    # Поиск повторяющихся геоточек\n",
    "    geo_dupl = geo_df.groupBy(lat, lon)\\\n",
    "    .count().filter(f.col('count') > 1).cache()\n",
    "\n",
    "    # Отбор пустых геоточек, которые имеют\n",
    "    # непустое значение для кода района\n",
    "    geo_nulls_ct_notnull = geo_df.filter(\n",
    "        geo_df[lat].isNull() & \n",
    "        geo_df[lon].isNull() & \n",
    "        geo_df[ct].isNotNull()\n",
    "    )\n",
    "    # непустые геоточки и пустые районы\n",
    "    geo_notnull_ct_null = geo_df.filter(\n",
    "        geo_df[lat].isNotNull() & \n",
    "        geo_df[lon].isNotNull() &\n",
    "        geo_df[ct].isNull()\n",
    "    )\n",
    "    \n",
    "    # Фильтрация и присвоение алиаса \"a\" для geo_dupl\n",
    "    geo_dupl_filtered = geo_dupl.filter(\n",
    "        geo_dupl[lat].isNotNull() & \n",
    "        geo_dupl[lon].isNotNull()\n",
    "    ).alias(\"a\")\n",
    "\n",
    "    # Присвоение алиаса \"b\" для geo_df\n",
    "    geo_alias = geo_df.alias(\"b\")\n",
    "\n",
    "    # Выполнение join с использованием алиасов\n",
    "    # и квалифицированных имен столбцов\n",
    "    geo_notnull_dupl = geo_dupl_filtered.join(\n",
    "        geo_alias,\n",
    "        (f.col(f\"a.{lat}\") == f.col(f\"b.{lat}\")) & \n",
    "        (f.col(f\"a.{lon}\") == f.col(f\"b.{lon}\"))\n",
    "    ).select(\n",
    "        f.col(f\"b.{ct}\"), \n",
    "        f.col(f\"b.{lat}\"), \n",
    "        f.col(f\"b.{lon}\")\n",
    "    )\n",
    "\n",
    "    return geo_df, geo_nulls_ct_notnull, geo_notnull_ct_null, geo_notnull_dupl"
   ]
  },
  {
   "cell_type": "markdown",
   "id": "240a4f10-cac2-4df4-925a-052757fb8b03",
   "metadata": {},
   "source": [
    "Получим датафреймы геоточек"
   ]
  },
  {
   "cell_type": "code",
   "execution_count": 48,
   "id": "2612ba6a-73cc-4076-9186-c848d6f5bfd0",
   "metadata": {},
   "outputs": [],
   "source": [
    "ctp_geo, ctp_geo_nulls_ct_notnull, ctp_geo_notnull_ct_null, ctp_geo_notnull_dupl = \\\n",
    "        get_geo_points(taxi, ct.pickup_ct, ct.pickup_cl, ct.pickup_clon, ct.pickup_ca)\n",
    "ctd_geo, ctd_geo_nulls_ct_notnull, ctd_geo_notnull_ct_null, ctd_geo_notnull_dupl = \\\n",
    "        get_geo_points(taxi, ct.dropoff_ct, ct.dropoff_cl, ct.dropoff_clon, ct.dropoff_ca)"
   ]
  },
  {
   "cell_type": "markdown",
   "id": "b6d444ba-f2f9-48a1-acc8-8c5299c27ee5",
   "metadata": {},
   "source": [
    "Проверим на всякий случай- есть ли записи только с одним пустым значением в паре (широта, долгота)"
   ]
  },
  {
   "cell_type": "code",
   "execution_count": 49,
   "id": "cd5e87a2-88af-4740-8abc-26decf2b6ca7",
   "metadata": {},
   "outputs": [
    {
     "data": {
      "text/plain": [
       "0"
      ]
     },
     "execution_count": 49,
     "metadata": {},
     "output_type": "execute_result"
    }
   ],
   "source": [
    "ctd_geo.filter((ctd_geo[ct.dropoff_cl].isNull() \\\n",
    "               & ctd_geo[ct.dropoff_clon].isNotNull())\\\n",
    "               |(ctd_geo[ct.dropoff_cl].isNotNull() \\\n",
    "               & ctd_geo[ct.dropoff_clon].isNull())).count()"
   ]
  },
  {
   "cell_type": "code",
   "execution_count": 50,
   "id": "4372e6ac-414a-478c-afb6-4a904303dab6",
   "metadata": {},
   "outputs": [
    {
     "data": {
      "text/plain": [
       "0"
      ]
     },
     "execution_count": 50,
     "metadata": {},
     "output_type": "execute_result"
    }
   ],
   "source": [
    "ctp_geo.filter((ctp_geo[ct.pickup_cl].isNull() \\\n",
    "               & ctp_geo[ct.pickup_clon].isNotNull())\\\n",
    "               |(ctp_geo[ct.pickup_cl].isNotNull() \\\n",
    "               & ctp_geo[ct.pickup_clon].isNull())).count()"
   ]
  },
  {
   "cell_type": "markdown",
   "id": "bcd0961d-7407-420f-a5f6-57e62624eb3a",
   "metadata": {},
   "source": [
    "Таких записей для точек посадки и высадки нет. Т.е. доп обработка не требуется, можно оперировать парами (широта, долгота)"
   ]
  },
  {
   "cell_type": "markdown",
   "id": "db6c2a65-9667-46fa-8c3f-a5eae71e2827",
   "metadata": {},
   "source": [
    "Посмотрим коды р-нов, для повторяющихся непустых геоточек"
   ]
  },
  {
   "cell_type": "code",
   "execution_count": 51,
   "id": "5a98120a-e081-4bbd-af61-c54edaec0c86",
   "metadata": {},
   "outputs": [
    {
     "name": "stdout",
     "output_type": "stream",
     "text": [
      "+-------------------+------------------------+-------------------------+\n",
      "|Pickup Census Tract|Pickup Centroid Latitude|Pickup Centroid Longitude|\n",
      "+-------------------+------------------------+-------------------------+\n",
      "|               null|            41.728182061|            -87.596475596|\n",
      "|        17031470100|            41.728182061|            -87.596475596|\n",
      "+-------------------+------------------------+-------------------------+\n",
      "\n",
      "+--------------------+-------------------------+--------------------------+\n",
      "|Dropoff Census Tract|Dropoff Centroid Latitude|Dropoff Centroid Longitude|\n",
      "+--------------------+-------------------------+--------------------------+\n",
      "|         17031470100|             41.728182061|             -87.596475596|\n",
      "|                null|             41.728182061|             -87.596475596|\n",
      "+--------------------+-------------------------+--------------------------+\n",
      "\n"
     ]
    }
   ],
   "source": [
    "ctp_geo_notnull_dupl.show()\n",
    "ctd_geo_notnull_dupl.show()"
   ]
  },
  {
   "cell_type": "markdown",
   "id": "3bf35500-1d3b-43ce-9d06-e703ffffd62e",
   "metadata": {},
   "source": [
    "Видим, что такая геоточка одна `(41.728182061|-87.596475596)`, которая соответствует только одному району. И пустые значения района для такой точки могут быть заменены на `17031470100`"
   ]
  },
  {
   "cell_type": "markdown",
   "id": "d9176ddd-6bbc-4b45-a07a-947488456b6e",
   "metadata": {},
   "source": [
    "Также можно сделать вывод, что другие пропуски значений кодов районов нельзя заполнить, связав их с непустыми геоточками."
   ]
  },
  {
   "cell_type": "markdown",
   "id": "b4394cfa-a631-4d05-bda7-e50052099619",
   "metadata": {},
   "source": [
    "Получим общий ДФ (посадки и высадки) для непустых уникальных троек (район, широта, долгота)"
   ]
  },
  {
   "cell_type": "code",
   "execution_count": 52,
   "id": "2d8bc375-d4a5-401e-8d04-142a78a515a4",
   "metadata": {},
   "outputs": [],
   "source": [
    "def get_geo_notnull(df, cols_aliases: dict, empty_cols: list = None):\n",
    "    if empty_cols is None: empty_cols = []\n",
    "    selected_cols = [f.col(key).alias(cols_aliases[key]) for key in cols_aliases]\n",
    "    filter_conditions = [\n",
    "        f.col(alias).isNull() if alias in empty_cols else f.col(alias).isNotNull()\n",
    "        for alias in cols_aliases.values()\n",
    "    ]\n",
    "    combined_filter = reduce(lambda x, y: x & y, filter_conditions)\n",
    "    geo_notnull = df.select(*selected_cols).filter(combined_filter).distinct()\n",
    "    \n",
    "    return geo_notnull"
   ]
  },
  {
   "cell_type": "code",
   "execution_count": 53,
   "id": "2a0d0c06-b543-4851-b254-622514bc9f47",
   "metadata": {},
   "outputs": [
    {
     "name": "stdout",
     "output_type": "stream",
     "text": [
      "+------------+------------+-------------+\n",
      "|census_tract|    latitude|    longitude|\n",
      "+------------+------------+-------------+\n",
      "| 17031040402|41.972562538|-87.678845966|\n",
      "| 17031250300|41.912836784|-87.760884371|\n",
      "| 17031831600|41.925588088|-87.797600684|\n",
      "| 17031351000|41.834673598|-87.610834737|\n",
      "| 17031700301|41.745622882|-87.731711853|\n",
      "+------------+------------+-------------+\n",
      "only showing top 5 rows\n",
      "\n"
     ]
    },
    {
     "data": {
      "text/plain": [
       "613"
      ]
     },
     "execution_count": 53,
     "metadata": {},
     "output_type": "execute_result"
    }
   ],
   "source": [
    "ctp_aliases = {\n",
    "    ct.pickup_ct: \"census_tract\",\n",
    "    ct.pickup_cl: \"latitude\",\n",
    "    ct.pickup_clon: \"longitude\",\n",
    "    # ct.pickup_ca: \"area\"\n",
    "}\n",
    "ctp_geo_notnull = get_geo_notnull(ctp_geo, ctp_aliases)\n",
    "\n",
    "ctd_aliases = {\n",
    "    ct.dropoff_ct: \"census_tract\",\n",
    "    ct.dropoff_cl: \"latitude\",\n",
    "    ct.dropoff_clon: \"longitude\",\n",
    "    # ct.dropoff_ca: \"area\"\n",
    "}\n",
    "ctd_geo_notnull = get_geo_notnull(ctd_geo, ctd_aliases)\n",
    "\n",
    "ct_geo_notnull_union = ctd_geo_notnull.union(ctp_geo_notnull).distinct()\n",
    "ct_geo_notnull_union.show(5)\n",
    "ct_geo_notnull_union.count()"
   ]
  },
  {
   "cell_type": "code",
   "execution_count": 54,
   "id": "49e4da9c-628e-40ec-895c-0029a4cd7669",
   "metadata": {},
   "outputs": [
    {
     "name": "stdout",
     "output_type": "stream",
     "text": [
      "+------------+-------------+----+\n",
      "|    latitude|    longitude|area|\n",
      "+------------+-------------+----+\n",
      "|41.814440937|-87.730733454|  57|\n",
      "| 41.87101588|-87.631406525|  32|\n",
      "| 41.84201118|-87.622036461|  35|\n",
      "|41.870268722|-87.684913926|  28|\n",
      "|41.810879008|-87.726363325|  57|\n",
      "+------------+-------------+----+\n",
      "only showing top 5 rows\n",
      "\n"
     ]
    },
    {
     "data": {
      "text/plain": [
       "688"
      ]
     },
     "execution_count": 54,
     "metadata": {},
     "output_type": "execute_result"
    }
   ],
   "source": [
    "ctp_aliases = {\n",
    "    # ct.pickup_ct: \"census_tract\",\n",
    "    ct.pickup_cl: \"latitude\",\n",
    "    ct.pickup_clon: \"longitude\",\n",
    "    ct.pickup_ca: \"area\"\n",
    "}\n",
    "ctp_geo_notnull_area = get_geo_notnull(ctp_geo, ctp_aliases)\n",
    "\n",
    "ctd_aliases = {\n",
    "    # ct.dropoff_ct: \"census_tract\",\n",
    "    ct.dropoff_cl: \"latitude\",\n",
    "    ct.dropoff_clon: \"longitude\",\n",
    "    ct.dropoff_ca: \"area\"\n",
    "}\n",
    "ctd_geo_notnull_area = get_geo_notnull(ctd_geo, ctd_aliases)\n",
    "\n",
    "ct_geo_notnull_area_union = ctd_geo_notnull_area.union(ctp_geo_notnull_area).distinct()\n",
    "ct_geo_notnull_area_union.show(5)\n",
    "ct_geo_notnull_area_union.count()"
   ]
  },
  {
   "cell_type": "markdown",
   "id": "3d67cc26-2d35-40de-8208-592fd2cb4634",
   "metadata": {},
   "source": [
    "Посмотрим - возможно ли использовать значения непустых троек для заполнения:\n",
    "- пустых значений геоточек (связывая датафреймы по коду района)\n",
    "- пустых значений кодов района (связывая датафреймы по геоточкам)"
   ]
  },
  {
   "cell_type": "code",
   "execution_count": 55,
   "id": "eac38845-f461-435f-b8f2-a68c2c8a1400",
   "metadata": {},
   "outputs": [
    {
     "data": {
      "text/plain": [
       "0"
      ]
     },
     "execution_count": 55,
     "metadata": {},
     "output_type": "execute_result"
    }
   ],
   "source": [
    "# пустые значения геоточек и непустые- районов\n",
    "# посадки\n",
    "ctp_geo_nulls_ct_notnull_in_union = ct_geo_notnull_union.alias(\"a\").join(\n",
    "    ctp_geo_nulls_ct_notnull.alias(\"b\"),\n",
    "    (f.col(\"a.census_tract\") == f.col(f\"b.{ct.pickup_ct}\"))\n",
    ").select(\n",
    "    f.col(\"a.census_tract\"), \n",
    "    f.col(\"a.latitude\"), \n",
    "    f.col(\"a.longitude\")\n",
    ")\n",
    "# ctp_geo_nulls_ct_notnull_in_union.show(5)\n",
    "ctp_geo_nulls_ct_notnull_in_union.count()"
   ]
  },
  {
   "cell_type": "code",
   "execution_count": 56,
   "id": "351821c1-27a9-4010-a321-6bf7298f8af2",
   "metadata": {},
   "outputs": [
    {
     "data": {
      "text/plain": [
       "0"
      ]
     },
     "execution_count": 56,
     "metadata": {},
     "output_type": "execute_result"
    }
   ],
   "source": [
    "# пустые значения геоточек и непустые- районов\n",
    "# высадки\n",
    "ctd_geo_nulls_ct_notnull_in_union = ct_geo_notnull_union.alias(\"a\").join(\n",
    "    ctd_geo_nulls_ct_notnull.alias(\"b\"),\n",
    "    (f.col(\"a.census_tract\") == f.col(f\"b.{ct.dropoff_ct}\"))\n",
    ").select(\n",
    "    f.col(\"a.census_tract\"), \n",
    "    f.col(\"a.latitude\"), \n",
    "    f.col(\"a.longitude\")\n",
    ")\n",
    "# ctd_geo_nulls_ct_notnull_in_union.show(5)\n",
    "ctd_geo_nulls_ct_notnull_in_union.count()"
   ]
  },
  {
   "cell_type": "markdown",
   "id": "538908ad-4061-4ff5-8186-9ec3c1b9b62c",
   "metadata": {},
   "source": [
    "Т.е. для пустых геоточек невозможно получить значения кодов районов из непустых троек"
   ]
  },
  {
   "cell_type": "code",
   "execution_count": 57,
   "id": "f8f3868a-b2bb-407e-a744-158359e441d0",
   "metadata": {},
   "outputs": [
    {
     "name": "stdout",
     "output_type": "stream",
     "text": [
      "+------------+------------+-------------+\n",
      "|census_tract|    latitude|    longitude|\n",
      "+------------+------------+-------------+\n",
      "| 17031470100|41.728182061|-87.596475596|\n",
      "+------------+------------+-------------+\n",
      "\n"
     ]
    },
    {
     "data": {
      "text/plain": [
       "1"
      ]
     },
     "execution_count": 57,
     "metadata": {},
     "output_type": "execute_result"
    }
   ],
   "source": [
    "# непустые значения геоточек и пустые- районов\n",
    "# высадки\n",
    "\n",
    "ctd_geo_notnull_ct_nulls_in_union = ct_geo_notnull_union.alias(\"a\").join(\n",
    "    ctd_geo_notnull_ct_null.alias(\"b\"),\n",
    "    (f.col(\"a.latitude\") == f.col(f\"b.{ct.dropoff_cl}\")) &\n",
    "    (f.col(\"a.longitude\") == f.col(f\"b.{ct.dropoff_clon}\"))\n",
    ").select(\n",
    "    f.col(\"a.census_tract\"), \n",
    "    f.col(\"a.latitude\"), \n",
    "    f.col(\"a.longitude\")\n",
    ")\n",
    "ctd_geo_notnull_ct_nulls_in_union.show(5)\n",
    "ctd_geo_notnull_ct_nulls_in_union.count()"
   ]
  },
  {
   "cell_type": "code",
   "execution_count": 58,
   "id": "2650efd0-6937-448d-981a-8e79d9510cb0",
   "metadata": {},
   "outputs": [
    {
     "name": "stdout",
     "output_type": "stream",
     "text": [
      "+------------+------------+-------------+\n",
      "|census_tract|    latitude|    longitude|\n",
      "+------------+------------+-------------+\n",
      "| 17031470100|41.728182061|-87.596475596|\n",
      "+------------+------------+-------------+\n",
      "\n"
     ]
    },
    {
     "data": {
      "text/plain": [
       "1"
      ]
     },
     "execution_count": 58,
     "metadata": {},
     "output_type": "execute_result"
    }
   ],
   "source": [
    "# непустые значения геоточек и пустые- районов\n",
    "# посадки\n",
    "\n",
    "ctp_geo_notnull_ct_nulls_in_union = ct_geo_notnull_union.alias(\"a\").join(\n",
    "    ctp_geo_notnull_ct_null.alias(\"b\"),\n",
    "    (f.col(\"a.latitude\") == f.col(f\"b.{ct.pickup_cl}\")) &\n",
    "    (f.col(\"a.longitude\") == f.col(f\"b.{ct.pickup_clon}\"))\n",
    ").select(\n",
    "    f.col(\"a.census_tract\"), \n",
    "    f.col(\"a.latitude\"), \n",
    "    f.col(\"a.longitude\")\n",
    ")\n",
    "ctp_geo_notnull_ct_nulls_in_union.show(5)\n",
    "ctp_geo_notnull_ct_nulls_in_union.count()"
   ]
  },
  {
   "cell_type": "markdown",
   "id": "ea5f226d-f6dc-4580-83ab-a340ee1f61cd",
   "metadata": {},
   "source": [
    "Это мы уже видели выше."
   ]
  },
  {
   "cell_type": "markdown",
   "id": "22a4b49d-c7fc-4270-a2e2-3a99ad1a3f17",
   "metadata": {},
   "source": [
    "Осталось посмотреть наличие непустых округов вместе с пустыми тройками (район, шир, долгота)"
   ]
  },
  {
   "cell_type": "code",
   "execution_count": 59,
   "id": "273800c7-4e66-4197-b0b3-8450d040c646",
   "metadata": {},
   "outputs": [
    {
     "name": "stdout",
     "output_type": "stream",
     "text": [
      "Количество непустых округов посадки  вместе с пустыми тройками: 0\n",
      "Количество непустых округов высадки  вместе с пустыми тройками: 0\n"
     ]
    }
   ],
   "source": [
    "# список полей, которые должны быть пустыми в фильтре\n",
    "empty_cols = [\"census_tract\",\"latitude\",\"longitude\"]\n",
    "\n",
    "ctp_aliases = {\n",
    "    ct.pickup_ct: \"census_tract\",\n",
    "    ct.pickup_cl: \"latitude\",\n",
    "    ct.pickup_clon: \"longitude\",\n",
    "    ct.pickup_ca: \"area\"\n",
    "}\n",
    "ctp_geo_only_area = get_geo_notnull(ctp_geo, ctp_aliases, empty_cols=empty_cols)\n",
    "\n",
    "ctd_aliases = {\n",
    "    ct.dropoff_ct: \"census_tract\",\n",
    "    ct.dropoff_cl: \"latitude\",\n",
    "    ct.dropoff_clon: \"longitude\",\n",
    "    ct.dropoff_ca: \"area\"\n",
    "}\n",
    "ctd_geo_only_area = get_geo_notnull(ctd_geo, ctd_aliases, empty_cols=empty_cols)\n",
    "\n",
    "print(\"Количество непустых округов посадки  вместе с пустыми тройками:\",ctp_geo_only_area.count())\n",
    "print(\"Количество непустых округов высадки  вместе с пустыми тройками:\",ctd_geo_only_area.count())"
   ]
  },
  {
   "cell_type": "markdown",
   "id": "a82e5846-d27c-4843-b39d-2e4d32bc5b6b",
   "metadata": {},
   "source": [
    "Т.о. получить доп.информацию из данных по округам для заполнения пропусков в геоточках (кодах районов) не получается. Непустые значения округов всегда идут \"в комплекте\" с непустыми значениями троек (район, широта, долгота)"
   ]
  },
  {
   "cell_type": "code",
   "execution_count": 60,
   "id": "217be27b-d0be-44fb-a18a-cd2001d3f00f",
   "metadata": {},
   "outputs": [
    {
     "name": "stdout",
     "output_type": "stream",
     "text": [
      "+------------+--------+---------+----+------+\n",
      "|census_tract|latitude|longitude|area| count|\n",
      "+------------+--------+---------+----+------+\n",
      "|        null|    null|     null|null|510734|\n",
      "+------------+--------+---------+----+------+\n",
      "\n",
      "Количество записей с пустыми полями по гео-ключам посадки (район, широта, долгота, округ): 510'734\n",
      "Доля таких записей в датасете: 8.00%\n"
     ]
    }
   ],
   "source": [
    "ctp_aliases[\"count\"] = \"count\" # добавим в словарь псевдонимов поле \"count\"\n",
    "selected_cols = [f.col(key).alias(ctp_aliases[key]) for key in ctp_aliases]\n",
    "filter_conditions = [f.col(alias).isNull() for alias in ctp_aliases.values() if alias != \"count\"]\n",
    "combined_filter = reduce(lambda x, y: x & y, filter_conditions)\n",
    "\n",
    "ctp_all_keys_null = ctp_geo.select(selected_cols).filter(combined_filter)\n",
    "ctp_all_keys_null.show()\n",
    "ctp_all_keys_null_count = ctp_all_keys_null.take(1)[0][\"count\"]\n",
    "\n",
    "print(\"Количество записей с пустыми полями по гео-ключам посадки (район, широта, долгота, округ):\",\n",
    "      pds.gvf(ctp_all_keys_null_count))\n",
    "print(f\"Доля таких записей в датасете: {(ctp_all_keys_null_count/row_count)*100:.2f}%\")"
   ]
  },
  {
   "cell_type": "code",
   "execution_count": 61,
   "id": "3b60ecbd-5370-4ee5-925d-7683087aa854",
   "metadata": {},
   "outputs": [
    {
     "name": "stdout",
     "output_type": "stream",
     "text": [
      "+------------+--------+---------+----+------+\n",
      "|census_tract|latitude|longitude|area| count|\n",
      "+------------+--------+---------+----+------+\n",
      "|        null|    null|     null|null|590945|\n",
      "+------------+--------+---------+----+------+\n",
      "\n",
      "Количество записей с пустыми полями по гео-ключам высадки (район, широта, долгота, округ): 590'945\n",
      "Доля таких записей в датасете: 9.26%\n"
     ]
    }
   ],
   "source": [
    "ctd_aliases[\"count\"] = \"count\" # добавим в словарь псевдонимов поле \"count\"\n",
    "selected_cols = [f.col(key).alias(ctd_aliases[key]) for key in ctd_aliases]\n",
    "filter_conditions = [f.col(alias).isNull() for alias in ctd_aliases.values() if alias != \"count\"]\n",
    "combined_filter = reduce(lambda x, y: x & y, filter_conditions)\n",
    "\n",
    "ctd_all_keys_null = ctd_geo.select(selected_cols).filter(combined_filter)\n",
    "ctd_all_keys_null.show()\n",
    "ctd_all_keys_null_count = ctd_all_keys_null.take(1)[0][\"count\"]\n",
    "\n",
    "print(\"Количество записей с пустыми полями по гео-ключам высадки (район, широта, долгота, округ):\",\n",
    "      pds.gvf(ctd_all_keys_null_count))\n",
    "print(f\"Доля таких записей в датасете: {(ctd_all_keys_null_count/row_count)*100:.2f}%\")"
   ]
  },
  {
   "cell_type": "markdown",
   "id": "fabbd3fe-bcc6-4b6b-a5bc-8f4e82aed232",
   "metadata": {},
   "source": [
    "Исходя из проведенного анализа, заключил, что используя данные самого датасета taxi, возможно заполнить пропуски в полях 'census tract' только для записей с геоточкой `(41.728182061, -87.596475596)` значением `17031470100`. Посмотрим количество таких записей."
   ]
  },
  {
   "cell_type": "code",
   "execution_count": 62,
   "id": "d22bc9dd-79ae-450d-af6f-6af4be55ca31",
   "metadata": {},
   "outputs": [
    {
     "name": "stdout",
     "output_type": "stream",
     "text": [
      "Количество строк с пустым значением тракта и геоточкой для pickup: 1729\n",
      "Количество строк с пустым значением тракта и геоточкой для dropoff: 1917\n"
     ]
    }
   ],
   "source": [
    "# Определим значение геоточки\n",
    "latitude_value = 41.728182061\n",
    "longitude_value = -87.596475596\n",
    "\n",
    "# Подсчёт количества строк с заданной геоточкой и пустым значением тракта для pickup\n",
    "ctp_geo_null_ct_count = ctp_geo.filter(\n",
    "    (f.col(\"Pickup Centroid Latitude\") == latitude_value) &\n",
    "    (f.col(\"Pickup Centroid Longitude\") == longitude_value) &\n",
    "    f.col(\"Pickup Census Tract\").isNull()\n",
    ").take(1)[0][\"count\"]\n",
    "\n",
    "# Подсчёт количества строк с заданной геоточкой и пустым значением тракта для dropoff\n",
    "ctd_geo_null_ct_count = ctd_geo.filter(\n",
    "    (f.col(\"Dropoff Centroid Latitude\") == latitude_value) &\n",
    "    (f.col(\"Dropoff Centroid Longitude\") == longitude_value) &\n",
    "    f.col(\"Dropoff Census Tract\").isNull()\n",
    ").take(1)[0][\"count\"]\n",
    "\n",
    "# Выводим результаты\n",
    "print(\"Количество строк с пустым значением тракта и геоточкой для pickup:\", ctp_geo_null_ct_count)\n",
    "print(\"Количество строк с пустым значением тракта и геоточкой для dropoff:\", ctd_geo_null_ct_count)\n"
   ]
  },
  {
   "cell_type": "markdown",
   "id": "0f72e739-30ac-416b-b24e-b28db6893636",
   "metadata": {},
   "source": [
    "В масштабах датасета такое заполнение крайне незначительно снизит долю пропусков. Необходимо использовать дополнительные данные."
   ]
  },
  {
   "cell_type": "markdown",
   "id": "0d5203df-6d43-49b7-9227-00416c17afae",
   "metadata": {},
   "source": [
    "Воспользуемся отдельно загруженными (внешними по отношению к датасету taxi) данными по районам с вычисленными значениями координат цетроидов (геоточек). Свяжем датафреймы с данными по геоточкам (внешний и taxi) по коду района и посмотрим на разницу координат цетроидов."
   ]
  },
  {
   "cell_type": "code",
   "execution_count": 63,
   "id": "3091fb4d-5f31-4c86-85c2-02b2d18c1971",
   "metadata": {},
   "outputs": [
    {
     "name": "stdout",
     "output_type": "stream",
     "text": [
      "Сводные данные разницы координат центроидов для районов посадки\n",
      "+-------+------------+----------+------------+----------+-----------+\n",
      "|summary|    lat_diff|lat_diff_m|    lon_diff|lon_diff_m|dist_diff_m|\n",
      "+-------+------------+----------+------------+----------+-----------+\n",
      "|  count|       538.0|     538.0|       538.0|     538.0|      538.0|\n",
      "|   mean| 1.423575E-4|      15.8| 4.293832E-4|     33.49|       40.7|\n",
      "| stddev| 5.874318E-4|      65.2| 0.001333895|    104.04|     121.62|\n",
      "|    min|      2.6E-9|       0.0|     4.0E-10|       0.0|        0.0|\n",
      "|    max|0.0070677311|    784.52|0.0109527434|    854.31|     923.47|\n",
      "+-------+------------+----------+------------+----------+-----------+\n",
      "\n",
      "Сводные данные разницы координат центроидов для районов высадки\n",
      "+-------+------------+----------+------------+----------+-----------+\n",
      "|summary|    lat_diff|lat_diff_m|    lon_diff|lon_diff_m|dist_diff_m|\n",
      "+-------+------------+----------+------------+----------+-----------+\n",
      "|  count|       583.0|     583.0|       583.0|     583.0|      583.0|\n",
      "|   mean| 1.352909E-4|     15.02|   3.8028E-4|     29.66|       36.9|\n",
      "| stddev| 5.954842E-4|      66.1|0.0012228348|     95.38|     114.94|\n",
      "|    min|      2.6E-9|       0.0|     4.0E-10|       0.0|        0.0|\n",
      "|    max|0.0070677311|    784.52|0.0089007584|    694.26|     813.56|\n",
      "+-------+------------+----------+------------+----------+-----------+\n",
      "\n"
     ]
    }
   ],
   "source": [
    "# Константы для преобразования градусов в метры\n",
    "LAT_TO_METERS = 111000  # 1 градус широты ~ 111 км\n",
    "LON_TO_METERS = 78000  # 1 градус долготы ~ 78 км (на широте 45 градусов)\n",
    "\n",
    "print(\"Сводные данные разницы координат центроидов для районов посадки\")\n",
    "# связываем районы посадки\n",
    "ctp_bound = tract_geo.alias(\"a\").join(\n",
    "    ctp_geo\\\n",
    "    .filter(\n",
    "        (f.col(ct.pickup_cl).isNotNull()) & \n",
    "        (f.col(ct.pickup_clon).isNotNull())\n",
    "    ).alias(\"b\"),\n",
    "    (f.col(\"a.census_tract\") == f.col(f\"b.{ct.pickup_ct}\")))\\\n",
    ".select(\n",
    "    f.col(\"a.census_tract\"),\n",
    "    f.col(\"a.latitude\").alias(\"geo_lat\"),\n",
    "    f.col(\"a.longitude\").alias(\"geo_lon\"),\n",
    "    f.col(\"b.\" + ct.pickup_cl).alias(\"taxi_lat\"),\n",
    "    f.col(\"b.\" + ct.pickup_clon).alias(\"taxi_lon\")\n",
    ")\\\n",
    ".withColumn(\"lat_diff\", f.abs(f.col(\"geo_lat\") - f.col(\"taxi_lat\")))\\\n",
    ".withColumn(\"lon_diff\", f.abs(f.col(\"geo_lon\") - f.col(\"taxi_lon\")))\\\n",
    ".withColumn(\"lat_diff_m\", f.col(\"lat_diff\") * LAT_TO_METERS)\\\n",
    ".withColumn(\"lon_diff_m\", f.col(\"lon_diff\") * LON_TO_METERS)\\\n",
    ".withColumn(\"dist_diff_m\",((f.col(\"lat_diff_m\"))**2+(f.col(\"lon_diff_m\"))**2)**0.5)\\\n",
    ".cache()\n",
    "# ctp_bound.show(3)\n",
    "\n",
    "# print(ctp_bound.count())\n",
    "ctp_bound.select(\"lat_diff\",\"lat_diff_m\",\"lon_diff\",\"lon_diff_m\",\"dist_diff_m\").describe()\\\n",
    ".select(\n",
    "    f.col(\"summary\"),\n",
    "    f.round(f.col(\"lat_diff\").cast(\"double\"), 10).alias(\"lat_diff\"),\n",
    "    f.round(f.col(\"lat_diff_m\").cast(\"double\"), 2).alias(\"lat_diff_m\"),\n",
    "    f.round(f.col(\"lon_diff\").cast(\"double\"), 10).alias(\"lon_diff\"),\n",
    "    f.round(f.col(\"lon_diff_m\").cast(\"double\"), 2).alias(\"lon_diff_m\"),\n",
    "    f.round(f.col(\"dist_diff_m\").cast(\"double\"), 2).alias(\"dist_diff_m\")\n",
    ").show()\n",
    "\n",
    "print(\"Сводные данные разницы координат центроидов для районов высадки\")\n",
    "# связываем районы высадки\n",
    "ctd_bound = tract_geo.alias(\"a\").join(\n",
    "    ctd_geo\\\n",
    "    .filter(\n",
    "        (f.col(ct.dropoff_cl).isNotNull()) & \n",
    "        (f.col(ct.dropoff_clon).isNotNull())\n",
    "    ).alias(\"b\"),\n",
    "    (f.col(\"a.census_tract\") == f.col(f\"b.{ct.dropoff_ct}\")))\\\n",
    ".select(\n",
    "    f.col(\"a.census_tract\"),\n",
    "    f.col(\"a.latitude\").alias(\"geo_lat\"),\n",
    "    f.col(\"a.longitude\").alias(\"geo_lon\"),\n",
    "    f.col(\"b.\" + ct.dropoff_cl).alias(\"taxi_lat\"),\n",
    "    f.col(\"b.\" + ct.dropoff_clon).alias(\"taxi_lon\")\n",
    ")\\\n",
    ".withColumn(\"lat_diff\", f.abs(f.col(\"geo_lat\") - f.col(\"taxi_lat\")))\\\n",
    ".withColumn(\"lon_diff\", f.abs(f.col(\"geo_lon\") - f.col(\"taxi_lon\")))\\\n",
    ".withColumn(\"lat_diff_m\", f.col(\"lat_diff\") * LAT_TO_METERS)\\\n",
    ".withColumn(\"lon_diff_m\", f.col(\"lon_diff\") * LON_TO_METERS)\\\n",
    ".withColumn(\"dist_diff_m\",((f.col(\"lat_diff_m\"))**2+(f.col(\"lon_diff_m\"))**2)**0.5)\\\n",
    ".cache()\n",
    "# ctp_bound.show(3)\n",
    "\n",
    "# print(ctp_bound.count())\n",
    "ctd_bound.select(\"lat_diff\",\"lat_diff_m\",\"lon_diff\",\"lon_diff_m\",\"dist_diff_m\").describe()\\\n",
    ".select(\n",
    "    f.col(\"summary\"),\n",
    "    f.round(f.col(\"lat_diff\").cast(\"double\"), 10).alias(\"lat_diff\"),\n",
    "    f.round(f.col(\"lat_diff_m\").cast(\"double\"), 2).alias(\"lat_diff_m\"),\n",
    "    f.round(f.col(\"lon_diff\").cast(\"double\"), 10).alias(\"lon_diff\"),\n",
    "    f.round(f.col(\"lon_diff_m\").cast(\"double\"), 2).alias(\"lon_diff_m\"),\n",
    "    f.round(f.col(\"dist_diff_m\").cast(\"double\"), 2).alias(\"dist_diff_m\")\n",
    ").show()"
   ]
  },
  {
   "cell_type": "markdown",
   "id": "5c9dee1f-f635-40cb-ba74-54775e2b1f97",
   "metadata": {},
   "source": [
    "Видим, что средние расхождения координат невелики. Но при этом есть и достаточно большие расхождения. Сравним эти расхождения с минимальными расстояниями  между центроидами соседних районов во внешнем датасете tract_geo."
   ]
  },
  {
   "cell_type": "code",
   "execution_count": 64,
   "id": "a2a6cf77-7449-43e0-a75a-d2039b9f6ef4",
   "metadata": {},
   "outputs": [
    {
     "name": "stdout",
     "output_type": "stream",
     "text": [
      "+------------+-----------------+------------------+\n",
      "|census_tract|         latitude|         longitude|\n",
      "+------------+-----------------+------------------+\n",
      "| 17031842400|41.74247518248426|-87.63004035576937|\n",
      "| 17031840300|41.83209440350829| -87.6818820146571|\n",
      "| 17031841100| 41.8510058477232|-87.63509777614824|\n",
      "+------------+-----------------+------------------+\n",
      "only showing top 3 rows\n",
      "\n"
     ]
    }
   ],
   "source": [
    "tract_geo.show(3)"
   ]
  },
  {
   "cell_type": "markdown",
   "id": "9a5e630a-1305-4cfb-abbb-dd71a921d3b5",
   "metadata": {},
   "source": [
    "Воспользуемся алгоритмом поиска ближайших соседей"
   ]
  },
  {
   "cell_type": "code",
   "execution_count": 65,
   "id": "2c4cd0f8-b935-4037-b3ba-e74ccc7bc89e",
   "metadata": {},
   "outputs": [
    {
     "name": "stderr",
     "output_type": "stream",
     "text": [
      "801it [00:01, 779.26it/s]\n"
     ]
    }
   ],
   "source": [
    "# Преобразование Spark DataFrame в pandas DataFrame\n",
    "tract_geo_pandas = tract_geo.toPandas()\n",
    "\n",
    "# Создание GeoDataFrame\n",
    "# Добавляем геометрическую колонку, преобразуя широту и долготу в объекты Point\n",
    "tract_geo_pandas['geometry'] = tract_geo_pandas.apply(lambda row: Point(row['longitude'], row['latitude']), axis=1)\n",
    "tract_geo_gdf = gpd.GeoDataFrame(tract_geo_pandas, geometry='geometry')\n",
    "\n",
    "# Устанавливаем CRS (Coordinate Reference System) для GeoDataFrame\n",
    "# EPSG:4326 - это стандартный координатный референт для широты и долготы\n",
    "tract_geo_gdf.set_crs(epsg=4326, inplace=True)\n",
    "\n",
    "# Преобразование координат в метры (проекция)\n",
    "# EPSG:3857 - это популярная проекция Web Mercator, которая используется в картах, таких как Google Maps\n",
    "tract_geo_gdf_m = tract_geo_gdf.to_crs(epsg=3857)\n",
    "\n",
    "# Массив координат (в метрах) для поиска ближайших соседей\n",
    "coords = np.array(list(zip(tract_geo_gdf_m.geometry.x, tract_geo_gdf_m.geometry.y)))\n",
    "\n",
    "# Поиск ближайших соседей len(coords)\n",
    "nbrs = NearestNeighbors(n_neighbors=2, algorithm='ball_tree').fit(coords)\n",
    "distances, indices = nbrs.kneighbors(coords)\n",
    "\n",
    "# Формирование результата\n",
    "neighbors_data = {}\n",
    "\n",
    "for idx, (distance, index) in tqdm(enumerate(zip(distances, indices))):\n",
    "    # Создаем список пар (distance, index) и сортируем его по расстоянию\n",
    "    sorted_neighbors = sorted(zip(distance[1:], index[1:]), key=lambda x: x[0])\n",
    "    \n",
    "    neighbors_info = {}\n",
    "    for sorted_dist, neighbor_index in sorted_neighbors:\n",
    "        neighbor_tract = tract_geo_gdf.iloc[neighbor_index].census_tract\n",
    "        neighbor_lat = tract_geo_gdf.iloc[neighbor_index].geometry.y\n",
    "        neighbor_lon = tract_geo_gdf.iloc[neighbor_index].geometry.x\n",
    "        neighbors_info[neighbor_tract] = (neighbor_lat, neighbor_lon, sorted_dist)\n",
    "    \n",
    "    neighbors_data[tract_geo_gdf.iloc[idx].census_tract] = neighbors_info"
   ]
  },
  {
   "cell_type": "code",
   "execution_count": 66,
   "id": "8b505b70-1640-4f7a-aee6-451de8b5a343",
   "metadata": {},
   "outputs": [],
   "source": [
    "# для анализа и печати словарей использую класс DictAnalyzer\n",
    "da = DictAnalyzer()"
   ]
  },
  {
   "cell_type": "markdown",
   "id": "4dee4983-ce60-4b60-98e0-32580c74a367",
   "metadata": {},
   "source": [
    "Посмотрим на соседей"
   ]
  },
  {
   "cell_type": "code",
   "execution_count": 67,
   "id": "82fdbaa5-752a-4a9b-969a-9e894b18208f",
   "metadata": {},
   "outputs": [
    {
     "name": "stdout",
     "output_type": "stream",
     "text": [
      "{\n",
      "    17031842400: \n",
      "    {\n",
      "        17031710900: (41.742146887307435, -87.63968998793061, 1075.3081931079691)\n",
      "    }\n",
      "    17031840300: \n",
      "    {\n",
      "        17031590500: (41.82666326227676, -87.67990652024756, 840.6599400921266)\n",
      "    }\n",
      "    17031841100: \n",
      "    {\n",
      "        17031340300: (41.842808556907606, -87.63579100212856, 1227.4000026999881)\n",
      "    }\n",
      "}\n"
     ]
    }
   ],
   "source": [
    "da.print_dict(dict(islice(neighbors_data.items(), 3)))"
   ]
  },
  {
   "cell_type": "markdown",
   "id": "50ca1f8e-d89d-4279-85e6-055d41ac2de6",
   "metadata": {},
   "source": [
    "Теперь сравним расстояния между соседями и расстояния разниц (ошибок) между центроидами в датасетах"
   ]
  },
  {
   "cell_type": "code",
   "execution_count": 68,
   "id": "fc9484d8-b6db-492f-b693-9b1ff6e5d082",
   "metadata": {},
   "outputs": [],
   "source": [
    "quntile_list = [0.01, 0.05, 0.10, 0.25, 0.5, 0.75, 0.9, 0.95, 0.96, 0.97, 0.98, 0.99]\n",
    "\n",
    "#  квантили расстояния разниц (ошибок) между центроидами в датасетах\n",
    "ctp_dist_diff_quantiles = ctp_bound.approxQuantile(\"dist_diff_m\",\n",
    "            quntile_list, 0.0)\n",
    "ctd_dist_diff_quantiles = ctd_bound.approxQuantile(\"dist_diff_m\",\n",
    "            quntile_list, 0.0)"
   ]
  },
  {
   "cell_type": "code",
   "execution_count": 69,
   "id": "8d408bf0-f20d-4ff1-ae77-b1fb8540a0ef",
   "metadata": {},
   "outputs": [],
   "source": [
    "# Извлечение дистанций\n",
    "distances = []\n",
    "for key1, inner_dict in neighbors_data.items():\n",
    "    for key2, value in inner_dict.items():\n",
    "        distances.append(value[2])\n",
    "\n",
    "# Вычисление квантилей расстояний между соседями\n",
    "neighb_dist_quntiles = []\n",
    "for q in quntile_list:\n",
    "    neighb_dist_quntiles.append(np.percentile(distances, q*100))"
   ]
  },
  {
   "cell_type": "code",
   "execution_count": 70,
   "id": "f8e80da0-0716-4933-83bd-ce1c2ecaedf2",
   "metadata": {},
   "outputs": [],
   "source": [
    "dist_quantiles = pd.DataFrame({\n",
    "    'quantile': [f\"{x * 100:.0f}%\" for x in quntile_list],\n",
    "    'ctp_dist_diff_quantiles': ctp_dist_diff_quantiles,\n",
    "    'ctd_dist_diff_quantiles': ctd_dist_diff_quantiles,\n",
    "    'neighb_dist_quntiles': neighb_dist_quntiles\n",
    "})"
   ]
  },
  {
   "cell_type": "code",
   "execution_count": 71,
   "id": "2552734a-78ac-4fc6-a1d1-715d18b5c490",
   "metadata": {},
   "outputs": [
    {
     "data": {
      "text/html": [
       "<div>\n",
       "<style scoped>\n",
       "    .dataframe tbody tr th:only-of-type {\n",
       "        vertical-align: middle;\n",
       "    }\n",
       "\n",
       "    .dataframe tbody tr th {\n",
       "        vertical-align: top;\n",
       "    }\n",
       "\n",
       "    .dataframe thead th {\n",
       "        text-align: right;\n",
       "    }\n",
       "</style>\n",
       "<table border=\"1\" class=\"dataframe\">\n",
       "  <thead>\n",
       "    <tr style=\"text-align: right;\">\n",
       "      <th></th>\n",
       "      <th>quantile</th>\n",
       "      <th>ctp_dist_diff_quantiles</th>\n",
       "      <th>ctd_dist_diff_quantiles</th>\n",
       "      <th>neighb_dist_quntiles</th>\n",
       "    </tr>\n",
       "  </thead>\n",
       "  <tbody>\n",
       "    <tr>\n",
       "      <th>0</th>\n",
       "      <td>1%</td>\n",
       "      <td>0.013538</td>\n",
       "      <td>0.013538</td>\n",
       "      <td>333.389330</td>\n",
       "    </tr>\n",
       "    <tr>\n",
       "      <th>1</th>\n",
       "      <td>5%</td>\n",
       "      <td>0.027044</td>\n",
       "      <td>0.027172</td>\n",
       "      <td>421.052622</td>\n",
       "    </tr>\n",
       "    <tr>\n",
       "      <th>2</th>\n",
       "      <td>10%</td>\n",
       "      <td>0.034179</td>\n",
       "      <td>0.034988</td>\n",
       "      <td>520.208140</td>\n",
       "    </tr>\n",
       "    <tr>\n",
       "      <th>3</th>\n",
       "      <td>25%</td>\n",
       "      <td>0.057707</td>\n",
       "      <td>0.057539</td>\n",
       "      <td>543.471749</td>\n",
       "    </tr>\n",
       "    <tr>\n",
       "      <th>4</th>\n",
       "      <td>50%</td>\n",
       "      <td>0.861344</td>\n",
       "      <td>0.835468</td>\n",
       "      <td>795.478534</td>\n",
       "    </tr>\n",
       "    <tr>\n",
       "      <th>5</th>\n",
       "      <td>75%</td>\n",
       "      <td>4.484805</td>\n",
       "      <td>4.215788</td>\n",
       "      <td>1054.017231</td>\n",
       "    </tr>\n",
       "    <tr>\n",
       "      <th>6</th>\n",
       "      <td>90%</td>\n",
       "      <td>143.719223</td>\n",
       "      <td>96.951431</td>\n",
       "      <td>1179.632653</td>\n",
       "    </tr>\n",
       "    <tr>\n",
       "      <th>7</th>\n",
       "      <td>95%</td>\n",
       "      <td>333.090593</td>\n",
       "      <td>310.419035</td>\n",
       "      <td>1370.838299</td>\n",
       "    </tr>\n",
       "    <tr>\n",
       "      <th>8</th>\n",
       "      <td>96%</td>\n",
       "      <td>370.591558</td>\n",
       "      <td>344.023094</td>\n",
       "      <td>1447.316071</td>\n",
       "    </tr>\n",
       "    <tr>\n",
       "      <th>9</th>\n",
       "      <td>97%</td>\n",
       "      <td>388.575310</td>\n",
       "      <td>387.872937</td>\n",
       "      <td>1533.415310</td>\n",
       "    </tr>\n",
       "    <tr>\n",
       "      <th>10</th>\n",
       "      <td>98%</td>\n",
       "      <td>472.775175</td>\n",
       "      <td>467.440666</td>\n",
       "      <td>1646.998219</td>\n",
       "    </tr>\n",
       "    <tr>\n",
       "      <th>11</th>\n",
       "      <td>99%</td>\n",
       "      <td>656.889555</td>\n",
       "      <td>656.889555</td>\n",
       "      <td>2036.161610</td>\n",
       "    </tr>\n",
       "  </tbody>\n",
       "</table>\n",
       "</div>"
      ],
      "text/plain": [
       "   quantile  ctp_dist_diff_quantiles  ctd_dist_diff_quantiles  \\\n",
       "0        1%                 0.013538                 0.013538   \n",
       "1        5%                 0.027044                 0.027172   \n",
       "2       10%                 0.034179                 0.034988   \n",
       "3       25%                 0.057707                 0.057539   \n",
       "4       50%                 0.861344                 0.835468   \n",
       "5       75%                 4.484805                 4.215788   \n",
       "6       90%               143.719223                96.951431   \n",
       "7       95%               333.090593               310.419035   \n",
       "8       96%               370.591558               344.023094   \n",
       "9       97%               388.575310               387.872937   \n",
       "10      98%               472.775175               467.440666   \n",
       "11      99%               656.889555               656.889555   \n",
       "\n",
       "    neighb_dist_quntiles  \n",
       "0             333.389330  \n",
       "1             421.052622  \n",
       "2             520.208140  \n",
       "3             543.471749  \n",
       "4             795.478534  \n",
       "5            1054.017231  \n",
       "6            1179.632653  \n",
       "7            1370.838299  \n",
       "8            1447.316071  \n",
       "9            1533.415310  \n",
       "10           1646.998219  \n",
       "11           2036.161610  "
      ]
     },
     "execution_count": 71,
     "metadata": {},
     "output_type": "execute_result"
    }
   ],
   "source": [
    "dist_quantiles"
   ]
  },
  {
   "cell_type": "markdown",
   "id": "305fa816-1b0e-4312-8040-2d2cafee5a58",
   "metadata": {},
   "source": [
    "Видим, что несоответствие координат цетрооидов ctp_dist_diff_quantiles и ctd_dist_diff_quantiles (между данными в рабочем датасете taxi и внешними данными tract_geo), выраженное в метрах, только для 5% районов (от 333 м.) может быть \"похоже\" на минимальное расстояние между разными районами.\n",
    "\n",
    "Попробуем теперь получить коды районов для рабочего датасета taxi в записях, где есть координаты центроидов районов (и отсутствуют (пропущены) коды районов). Используем также метод ближайших соседей."
   ]
  },
  {
   "cell_type": "markdown",
   "id": "81e2fbd5-27cc-4e06-90e4-2d39585d72b7",
   "metadata": {},
   "source": [
    "Используем датафреймы:  \n",
    "`ctp_geo, ctp_geo_nulls_ct_notnull, ctp_geo_notnull_ct_null, ctp_geo_notnull_dupl`  \n",
    "`ctd_geo, ctd_geo_nulls_ct_notnull, ctd_geo_notnull_ct_null, ctd_geo_notnull_dupl`\n",
    "\n",
    "Объединим датафреймы ctp_geo_notnull_ct_null, ctd_geo_notnull_ct_null. В качестве значений Census Tract поставим числа (порядковые номера от 1)"
   ]
  },
  {
   "cell_type": "code",
   "execution_count": 72,
   "id": "b3f8150f-d4e4-4c42-8c44-601db2b360e3",
   "metadata": {},
   "outputs": [
    {
     "name": "stdout",
     "output_type": "stream",
     "text": [
      "+------------+------------+-------------+\n",
      "|census_tract|    latitude|    longitude|\n",
      "+------------+------------+-------------+\n",
      "|           1|41.878865584|-87.625192142|\n",
      "|           2|41.874005383| -87.66351755|\n",
      "|           3|42.009622881|-87.670166857|\n",
      "+------------+------------+-------------+\n",
      "only showing top 3 rows\n",
      "\n",
      "77\n"
     ]
    }
   ],
   "source": [
    "geo_notnull_ct_null = \\\n",
    "ctp_geo_notnull_ct_null.select(\n",
    "    f.col(ct.pickup_ct).alias(\"census_tract\"),\n",
    "    f.col(ct.pickup_cl).alias(\"latitude\"),\n",
    "    f.col(ct.pickup_clon).alias(\"longitude\")\n",
    "    )\\\n",
    ".union(\n",
    "ctd_geo_notnull_ct_null.select(\n",
    "    f.col(ct.dropoff_ct).alias(\"census_tract\"),\n",
    "    f.col(ct.dropoff_cl).alias(\"latitude\"),\n",
    "    f.col(ct.dropoff_clon).alias(\"longitude\")\n",
    "    )\n",
    ").distinct()\\\n",
    ".withColumn(\"census_tract\", f.row_number().over(Window.orderBy(f.lit(1))))\n",
    "geo_notnull_ct_null.show(3)\n",
    "print(geo_notnull_ct_null.count())"
   ]
  },
  {
   "cell_type": "markdown",
   "id": "c944ed39-9284-463d-a17c-91de6f0d38f0",
   "metadata": {},
   "source": [
    "Объединим теперь с внешним датафреймом"
   ]
  },
  {
   "cell_type": "code",
   "execution_count": 73,
   "id": "f62bde2b-9b2d-4975-bd04-33390c505a86",
   "metadata": {},
   "outputs": [],
   "source": [
    "tract_geo_ct_null_union = \\\n",
    "tract_geo.union(geo_notnull_ct_null)"
   ]
  },
  {
   "cell_type": "code",
   "execution_count": 74,
   "id": "e348a057-3daf-4f2c-8085-9120516ceb25",
   "metadata": {},
   "outputs": [
    {
     "name": "stdout",
     "output_type": "stream",
     "text": [
      "+------------+-----------------+------------------+\n",
      "|census_tract|         latitude|         longitude|\n",
      "+------------+-----------------+------------------+\n",
      "| 17031842400|41.74247518248426|-87.63004035576937|\n",
      "| 17031840300|41.83209440350829| -87.6818820146571|\n",
      "| 17031841100| 41.8510058477232|-87.63509777614824|\n",
      "+------------+-----------------+------------------+\n",
      "only showing top 3 rows\n",
      "\n"
     ]
    }
   ],
   "source": [
    "tract_geo_ct_null_union.show(3)"
   ]
  },
  {
   "cell_type": "markdown",
   "id": "8cfa1ebf-c077-4b61-b57f-433a4c221721",
   "metadata": {},
   "source": [
    "Ищем соседей"
   ]
  },
  {
   "cell_type": "code",
   "execution_count": 75,
   "id": "8262b1e9-a0d8-40aa-b4ee-e6c1f0e156c5",
   "metadata": {},
   "outputs": [
    {
     "name": "stderr",
     "output_type": "stream",
     "text": [
      "878it [00:00, 2388.37it/s]\n"
     ]
    }
   ],
   "source": [
    "# Преобразование Spark DataFrame в pandas DataFrame\n",
    "tract_geo_pandas = tract_geo_ct_null_union.toPandas()\n",
    "\n",
    "# Создание GeoDataFrame\n",
    "# Добавляем геометрическую колонку, преобразуя широту и долготу в объекты Point\n",
    "tract_geo_pandas['geometry'] = tract_geo_pandas.apply(lambda row: Point(row['longitude'], row['latitude']), axis=1)\n",
    "tract_geo_gdf = gpd.GeoDataFrame(tract_geo_pandas, geometry='geometry')\n",
    "\n",
    "# Устанавливаем CRS (Coordinate Reference System) для GeoDataFrame\n",
    "# EPSG:4326 - это стандартный координатный референт для широты и долготы\n",
    "tract_geo_gdf.set_crs(epsg=4326, inplace=True)\n",
    "\n",
    "# Преобразование координат в метры (проекция)\n",
    "# EPSG:3857 - это популярная проекция Web Mercator, которая используется в картах, таких как Google Maps\n",
    "tract_geo_gdf_m = tract_geo_gdf.to_crs(epsg=3857)\n",
    "\n",
    "# Массив координат (в метрах) для поиска ближайших соседей\n",
    "coords = np.array(list(zip(tract_geo_gdf_m.geometry.x, tract_geo_gdf_m.geometry.y)))\n",
    "\n",
    "# Поиск ближайших соседей len(coords)\n",
    "# используем n_neighbors=2: 1-й это сама точка для которой ищем соседей\n",
    "# 2-й единственный ближайший сосед\n",
    "nbrs = NearestNeighbors(n_neighbors=2, algorithm='ball_tree').fit(coords)\n",
    "distances, indices = nbrs.kneighbors(coords)\n",
    "\n",
    "# Формирование результата\n",
    "neighbors_data = {}\n",
    "\n",
    "for idx, (distance, index) in tqdm(enumerate(zip(distances, indices))):\n",
    "    # print(tract_geo_gdf.iloc[idx].census_tract)\n",
    "    if int(tract_geo_gdf.iloc[idx].census_tract) < 100:\n",
    "        # Создаем список пар (distance, index) и сортируем его по расстоянию\n",
    "        sorted_neighbors = sorted(zip(distance[1:], index[1:]), key=lambda x: x[0])\n",
    "        \n",
    "        neighbors_info = {}\n",
    "        for sorted_dist, neighbor_index in sorted_neighbors:\n",
    "            neighbor_tract = tract_geo_gdf.iloc[neighbor_index].census_tract\n",
    "            neighbor_lat = tract_geo_gdf.iloc[neighbor_index].geometry.y\n",
    "            neighbor_lon = tract_geo_gdf.iloc[neighbor_index].geometry.x\n",
    "            neighbors_info[neighbor_tract] = (neighbor_lat, neighbor_lon, sorted_dist)\n",
    "        \n",
    "        neighbors_data[tract_geo_gdf.iloc[idx].census_tract] = neighbors_info"
   ]
  },
  {
   "cell_type": "markdown",
   "id": "78bb35e1-17b9-47a6-8891-8f7b446b528e",
   "metadata": {},
   "source": [
    "Смотрим на соседей"
   ]
  },
  {
   "cell_type": "code",
   "execution_count": 76,
   "id": "cca122bc-f00f-4a63-a624-834f274116a4",
   "metadata": {},
   "outputs": [
    {
     "name": "stdout",
     "output_type": "stream",
     "text": [
      "{\n",
      "    1: \n",
      "    {\n",
      "        17031030500: (41.987226023368464, -87.66493589008327, 185.8549400899309)\n",
      "    }\n",
      "    2: \n",
      "    {\n",
      "        17031242200: (41.899589367526175, -87.67471876525975, 302.9010553124099)\n",
      "    }\n",
      "    3: \n",
      "    {\n",
      "        17031330100: (41.85938992327736, -87.61529452018165, 650.775410229521)\n",
      "    }\n",
      "}\n"
     ]
    }
   ],
   "source": [
    "da.print_dict(dict(islice(neighbors_data.items(), 3)))"
   ]
  },
  {
   "cell_type": "markdown",
   "id": "46045d5e-abc9-43a5-90e0-689339b943b5",
   "metadata": {},
   "source": [
    "Перенесем словарь с соседями в спарк ДФ"
   ]
  },
  {
   "cell_type": "code",
   "execution_count": 77,
   "id": "54bf88b1-aad2-4d2b-9efd-b954ab3f89fe",
   "metadata": {},
   "outputs": [
    {
     "name": "stdout",
     "output_type": "stream",
     "text": [
      "+------------+-----------+------------------+------------------+-----------------+\n",
      "|taxi_null_ct|     geo_ct|           geo_lat|           geo_lon|        dist_diff|\n",
      "+------------+-----------+------------------+------------------+-----------------+\n",
      "|           1|17031030500|41.987226023368464|-87.66493589008327|185.8549400899309|\n",
      "|           2|17031242200|41.899589367526175|-87.67471876525975|302.9010553124099|\n",
      "|           3|17031330100| 41.85938992327736|-87.61529452018165| 650.775410229521|\n",
      "+------------+-----------+------------------+------------------+-----------------+\n",
      "only showing top 3 rows\n",
      "\n"
     ]
    }
   ],
   "source": [
    "# Преобразование словаря в список кортежей\n",
    "neighbors_data_list = []\n",
    "for taxi_null_ct, neighbors in neighbors_data.items():\n",
    "    for geo_ct, (geo_lat, geo_lon, dist_diff) in neighbors.items():\n",
    "        neighbors_data_list.append(\n",
    "            (int(taxi_null_ct), int(geo_ct),\n",
    "             float(geo_lat), float(geo_lon), float(dist_diff)))\n",
    "\n",
    "# neighbors_data_list\n",
    "\n",
    "# Определение схемы DataFrame\n",
    "schema = StructType([\n",
    "    StructField(\"taxi_null_ct\", IntegerType(), True),\n",
    "    StructField(\"geo_ct\", LongType(), True),\n",
    "    StructField(\"geo_lat\", DoubleType(), True),\n",
    "    StructField(\"geo_lon\", DoubleType(), True),\n",
    "    StructField(\"dist_diff\", DoubleType(), True)\n",
    "])\n",
    "\n",
    "# Создание DataFrame из списка Row объектов\n",
    "taxi_null_ct_df = spark.createDataFrame(neighbors_data_list,schema)\n",
    "\n",
    "taxi_null_ct_df.show(3)"
   ]
  },
  {
   "cell_type": "markdown",
   "id": "8b9290fc-adb1-48ff-9952-c7d4f14a6e8d",
   "metadata": {},
   "source": [
    "Предполагаем, что таким образом мы установили для пропусков в полях цензус трактов их возможные реальные значения с помощью внешних данных.\n",
    "\n",
    "Свяжем теперь полученный ДФ `taxi_null_ct_df` с данными по цензус трактам из исходного ДФ `taxi` - посмотрим какие тракты, отсутствующие в исходных данных нам удалось обнаружить с помощью внешних данных"
   ]
  },
  {
   "cell_type": "code",
   "execution_count": 78,
   "id": "63fdb3ec-f2b5-42d8-bb5c-c390cc8bbb79",
   "metadata": {},
   "outputs": [],
   "source": [
    "ct_taxi = ctp_geo.select(f.col(ct.pickup_ct).alias(\"ct\"))\\\n",
    "    .union(ctd_geo.select(f.col(ct.dropoff_ct).alias(\"ct\")))\\\n",
    "    .distinct().cache()"
   ]
  },
  {
   "cell_type": "code",
   "execution_count": 79,
   "id": "fc453662-cc3d-4a6e-9a67-87f50656ca6c",
   "metadata": {},
   "outputs": [
    {
     "name": "stdout",
     "output_type": "stream",
     "text": [
      "+------------+-----------+------------------+------------------+------------------+\n",
      "|taxi_null_ct|     geo_ct|           geo_lat|           geo_lon|         dist_diff|\n",
      "+------------+-----------+------------------+------------------+------------------+\n",
      "|          11|17031301600| 41.84075721627706|-87.71225203718319|  316.727519837941|\n",
      "|          14|17031260700| 41.87705643741964|-87.72799576235994|338.91303241426317|\n",
      "|          20|17031460200|41.741386820679466|-87.54701103403316| 492.1860232887214|\n",
      "|          21|17031231200|41.899061400462806|-87.72131534423231|157.13238458148797|\n",
      "|          37|17031190702|41.926163042865454| -87.7610395390833| 523.1746922811506|\n",
      "|          44|17031251500| 41.89111169842411|-87.76034552652904|484.41375634734817|\n",
      "|          45|17031381700| 41.80555024715612|-87.62744628001263| 765.3052373117716|\n",
      "|          51|17031838700|41.862577532977795|-87.72018510828305|486.09874381964914|\n",
      "|          58|17031835800|41.813046250581515| -87.6187192016108| 96.77953418579818|\n",
      "|          63|17031611100|41.805059007386454| -87.6575817300694| 617.0455279114473|\n",
      "|          64|17031671200|41.776699279311146| -87.6665822534709|115.01719914783884|\n",
      "|          65|17031650301| 41.77492752559756|-87.72999163032947| 840.8023741395584|\n",
      "|          71|17031170400|   41.948908111081|-87.81271068391457| 826.6865304975947|\n",
      "+------------+-----------+------------------+------------------+------------------+\n",
      "\n"
     ]
    },
    {
     "data": {
      "text/plain": [
       "13"
      ]
     },
     "execution_count": 79,
     "metadata": {},
     "output_type": "execute_result"
    }
   ],
   "source": [
    "taxi_null_ct_geo_bound = taxi_null_ct_df.alias(\"b\")\\\n",
    ".join(\n",
    "    ct_taxi.alias(\"a\")\n",
    "    # ct_geo_notnull_union.select(f.col(\"census_tract\").alias(\"ct\")).alias(\"a\")\n",
    "    ,\n",
    "    (f.col(\"a.ct\")==f.col(\"b.geo_ct\")),\"left_anti\"\n",
    ").cache()\n",
    "taxi_null_ct_geo_bound.show()\n",
    "taxi_null_ct_geo_bound.count()"
   ]
  },
  {
   "cell_type": "markdown",
   "id": "22dcac10-907f-4e52-a4af-53ab93dacf38",
   "metadata": {},
   "source": [
    "13 из 77 значений пустых трактов в исходном ДФ могут быть заполнены полученными данными. Для оставшихся 64 пропусков, найденные во внешних данных соседи - являются существующими трактами в исходном ДФ"
   ]
  },
  {
   "cell_type": "markdown",
   "id": "4dbe1f19-cc9e-48dd-9249-3959a427af64",
   "metadata": {},
   "source": [
    "Теперь свяжем полученный ДФ `taxi_null_ct_df` с данными по цензус трактам из исходного ДФ `taxi` - посмотрим тракты, которые в исходных данных совпадают с найдеными соседями"
   ]
  },
  {
   "cell_type": "code",
   "execution_count": 80,
   "id": "aa78f04d-2588-45d9-861f-753978b9a1b7",
   "metadata": {},
   "outputs": [
    {
     "name": "stdout",
     "output_type": "stream",
     "text": [
      "+---+-----------+----------+-----------+---------+------------+-------------+\n",
      "|  n|         ct|   geo_lat|    geo_lon|dist_diff|    taxi_lat|     taxi_lon|\n",
      "+---+-----------+----------+-----------+---------+------------+-------------+\n",
      "|  1|17031030500| 41.987226|-87.6649359|   185.85|41.987225558|-87.664937724|\n",
      "|  2|17031242200|41.8995894|-87.6747188|    302.9|41.899589796|-87.674719134|\n",
      "|  3|17031330100|41.8593899|-87.6152945|   650.78|41.859349715|-87.617358006|\n",
      "+---+-----------+----------+-----------+---------+------------+-------------+\n",
      "only showing top 3 rows\n",
      "\n"
     ]
    },
    {
     "data": {
      "text/plain": [
       "64"
      ]
     },
     "execution_count": 80,
     "metadata": {},
     "output_type": "execute_result"
    }
   ],
   "source": [
    "taxi_notnull_ct_geo_bound = taxi_null_ct_df.alias(\"b\")\\\n",
    ".join(\n",
    "    ct_geo_notnull_union.select(\n",
    "        f.col(\"census_tract\").alias(\"ct\"),\n",
    "        f.col(\"latitude\").alias(\"taxi_lat\"),\n",
    "        f.col(\"longitude\").alias(\"taxi_lon\")\n",
    "    ).alias(\"a\")\n",
    "    ,\n",
    "    (f.col(\"a.ct\")==f.col(\"b.geo_ct\"))\n",
    ").select(\n",
    "    f.col(\"b.taxi_null_ct\").alias(\"n\"),\n",
    "    f.col(\"a.ct\"),\n",
    "    f.round(f.col(\"b.geo_lat\"),7).alias(\"geo_lat\"),\n",
    "    f.round(f.col(\"b.geo_lon\"),7).alias(\"geo_lon\"),\n",
    "    f.round(f.col(\"b.dist_diff\"),2).alias(\"dist_diff\"),\n",
    "    f.col(\"a.taxi_lat\"),\n",
    "    f.col(\"a.taxi_lon\")\n",
    ").cache()\n",
    "taxi_notnull_ct_geo_bound\\\n",
    ".show(3)\n",
    "taxi_notnull_ct_geo_bound.count()"
   ]
  },
  {
   "cell_type": "markdown",
   "id": "b7565f8f-64f1-434d-9072-ac3133f1a881",
   "metadata": {},
   "source": [
    "И добавим исходные геоточки из ДФ `geo_notnull_ct_null` (тракт - пустой, (широта, долгота) - непустые)"
   ]
  },
  {
   "cell_type": "code",
   "execution_count": 81,
   "id": "bdd7a3ac-6c92-47c6-b507-ca3dcfa5ea47",
   "metadata": {},
   "outputs": [
    {
     "name": "stdout",
     "output_type": "stream",
     "text": [
      "+---+------------+-------------+-----------+----------+-----------+---------+------------+-------------+\n",
      "|  n|       n_lat|        n_lon|         ct|   geo_lat|    geo_lon|dist_diff|    taxi_lat|     taxi_lon|\n",
      "+---+------------+-------------+-----------+----------+-----------+---------+------------+-------------+\n",
      "| 48|41.900069603|-87.720918238|17031831800|41.9782332|-87.7164528|  1133.45|41.978294249|-87.716430416|\n",
      "| 53|41.899602111|-87.633308037|17031540102|41.6673323| -87.605449|  1110.74|41.667365304|-87.605316283|\n",
      "| 50|41.713148612|-87.675075312|17031838800|41.6835098|-87.5723191|  1091.29| 41.68340413|-87.572162863|\n",
      "| 39|41.763246799|-87.616134111|17031980000|41.9802669|-87.9038955|  1083.04| 41.97907082|-87.903039661|\n",
      "| 72|41.993930128|-87.758353588|17031320400|41.8777214|-87.6173668|   887.76|41.877406123|-87.621971652|\n",
      "+---+------------+-------------+-----------+----------+-----------+---------+------------+-------------+\n",
      "only showing top 5 rows\n",
      "\n"
     ]
    }
   ],
   "source": [
    "geo_notnull_ct_null.alias(\"a\").join(\n",
    "    taxi_notnull_ct_geo_bound.alias(\"b\"),\n",
    "    (f.col(\"a.census_tract\")==f.col(\"b.n\"))\n",
    ")\\\n",
    ".select(\n",
    "    f.col(\"a.census_tract\").alias(\"n\"),\n",
    "    f.col(\"a.latitude\").alias(\"n_lat\"),\n",
    "    f.col(\"a.longitude\").alias(\"n_lon\"),\n",
    "    f.col(\"b.ct\"),\n",
    "    f.col(\"b.geo_lat\"),\n",
    "    f.col(\"b.geo_lon\"),\n",
    "    f.col(\"b.dist_diff\"),\n",
    "    f.col(\"b.taxi_lat\"),\n",
    "    f.col(\"b.taxi_lon\")\n",
    ").orderBy(f.col(\"dist_diff\").desc()).show(5)"
   ]
  },
  {
   "cell_type": "markdown",
   "id": "da0354bd-a094-447b-b28b-b1928c5db95b",
   "metadata": {},
   "source": [
    "Поля полученного ДФ:\n",
    "- `n` - пронумерованный ряд для пустых значений трактов исходного ДФ\n",
    "- `n_lat`, `n_lon` -  непустая готочка в исходном ДФ\n",
    "- `ct`, `geo_lat`, `geo_lon` - тракт, геоданные - ближ.соседа из внешнего ДФ\n",
    "- `dist_diff` - расстояние между геоточками исходного и внешнего ДФ по методу ближ.соседа\n",
    "- `taxi_lat`, `taxi_lon` -  геоданные в исходном ДФ, соответствующие тракту найденому по методу ближ.соседа во внешних данных.\n",
    "\n",
    "Получилось следующее. Для исходных данных в тройке `[(тракт, широта, долгота) с пустыми трактами]`, по методу ближ.соседа были найдены пары `(широта, долгота)` во внешних данных, для этих пар во внешнем ДФ существуют тракты, и номера таких трактов в свою очередь есть в исходном ДФ.  \n",
    "Т.о. получилось связать тройки `[(тракт, широта, долгота) с пустыми трактами]` в исходном ДФ с тройками `[(тракт, широта, долгота) с НЕпустыми трактами]` опять же в исходном ДФ. Это можно было сделать и без использования внешнего ДФ. Но внешний ДФ помог нам все-таки найти 13 несуществующих (новых по отношению к исходному ДФ) троек.\n",
    "\n",
    "Предварительно - можно заполнить пропуски полученными значениями трактов.  \n",
    "Посмотрим на тройки `[(тракт, широта, долгота) с непустыми трактами и пустыми координатами]`"
   ]
  },
  {
   "cell_type": "code",
   "execution_count": 82,
   "id": "b8969b15-fc40-4777-9a20-79f873100520",
   "metadata": {},
   "outputs": [
    {
     "name": "stdout",
     "output_type": "stream",
     "text": [
      "+-------------------+------------------------+-------------------------+---------------------+-----+\n",
      "|Pickup Census Tract|Pickup Centroid Latitude|Pickup Centroid Longitude|Pickup Community Area|count|\n",
      "+-------------------+------------------------+-------------------------+---------------------+-----+\n",
      "|        17031804603|                    null|                     null|                 null|   42|\n",
      "|        17031804701|                    null|                     null|                 null|   36|\n",
      "|        17031801500|                    null|                     null|                 null|   34|\n",
      "+-------------------+------------------------+-------------------------+---------------------+-----+\n",
      "only showing top 3 rows\n",
      "\n",
      "126\n",
      "+--------------------+-------------------------+--------------------------+----------------------+-----+\n",
      "|Dropoff Census Tract|Dropoff Centroid Latitude|Dropoff Centroid Longitude|Dropoff Community Area|count|\n",
      "+--------------------+-------------------------+--------------------------+----------------------+-----+\n",
      "|         17031804603|                     null|                      null|                  null| 1525|\n",
      "|         17031809400|                     null|                      null|                  null|  825|\n",
      "|         17031806600|                     null|                      null|                  null|  813|\n",
      "+--------------------+-------------------------+--------------------------+----------------------+-----+\n",
      "only showing top 3 rows\n",
      "\n"
     ]
    },
    {
     "data": {
      "text/plain": [
       "227"
      ]
     },
     "execution_count": 82,
     "metadata": {},
     "output_type": "execute_result"
    }
   ],
   "source": [
    "ctp_geo_nulls_ct_notnull.show(3)\n",
    "print(ctp_geo_nulls_ct_notnull.count())\n",
    "ctd_geo_nulls_ct_notnull.show(3)\n",
    "ctd_geo_nulls_ct_notnull.count()"
   ]
  },
  {
   "cell_type": "code",
   "execution_count": 83,
   "id": "fe94213c-0220-48bb-b82f-ab3a48e0ca03",
   "metadata": {},
   "outputs": [
    {
     "name": "stdout",
     "output_type": "stream",
     "text": [
      "+------------+--------+---------+\n",
      "|census_tract|latitude|lоngitude|\n",
      "+------------+--------+---------+\n",
      "| 17031825600|    null|     null|\n",
      "| 17031820101|    null|     null|\n",
      "| 17031806900|    null|     null|\n",
      "+------------+--------+---------+\n",
      "only showing top 3 rows\n",
      "\n"
     ]
    },
    {
     "data": {
      "text/plain": [
       "232"
      ]
     },
     "execution_count": 83,
     "metadata": {},
     "output_type": "execute_result"
    }
   ],
   "source": [
    "geo_nulls_ct_notnull = \\\n",
    "ctp_geo_nulls_ct_notnull.select(\n",
    "    f.col(ct.pickup_ct).alias(\"census_tract\"),\n",
    "    f.col(ct.pickup_cl).alias(\"latitude\"),\n",
    "    f.col(ct.pickup_clon).alias(\"lоngitude\")\n",
    ")\\\n",
    ".union(ctd_geo_nulls_ct_notnull.select(\n",
    "    f.col(ct.dropoff_ct).alias(\"ct\"),\n",
    "    f.col(ct.dropoff_cl).alias(\"latitude\"),\n",
    "    f.col(ct.dropoff_clon).alias(\"longitude\")\n",
    ")).distinct().cache()\n",
    "geo_nulls_ct_notnull.show(3)\n",
    "geo_nulls_ct_notnull.count()"
   ]
  },
  {
   "cell_type": "markdown",
   "id": "0eeb6e6d-37c9-41a6-af3f-042ab0a2a66f",
   "metadata": {},
   "source": [
    "Свяжем эти тракты с внешним ДФ"
   ]
  },
  {
   "cell_type": "code",
   "execution_count": 84,
   "id": "166ac66b-6570-49a3-a09a-8af1f0ba64d9",
   "metadata": {},
   "outputs": [
    {
     "name": "stdout",
     "output_type": "stream",
     "text": [
      "+------------+--------+---------+------------+--------+---------+\n",
      "|census_tract|latitude|lоngitude|census_tract|latitude|longitude|\n",
      "+------------+--------+---------+------------+--------+---------+\n",
      "+------------+--------+---------+------------+--------+---------+\n",
      "\n"
     ]
    }
   ],
   "source": [
    "geo_nulls_ct_notnull.alias(\"a\").join(\n",
    "    tract_geo.alias(\"b\"),\n",
    "    (f.col(\"a.census_tract\")==f.col(\"b.census_tract\"))\n",
    ").show(3)"
   ]
  },
  {
   "cell_type": "markdown",
   "id": "ebc03801-73b4-42b7-8fed-9bbe83e9197d",
   "metadata": {},
   "source": [
    "Тройки `[(тракт, широта, долгота) с НЕпустыми трактами и пустыми геоточками]` не имеют связи по значениям трактов во внешнем ДФ."
   ]
  },
  {
   "cell_type": "markdown",
   "id": "10cdbbff-008e-4c81-8425-a0d56662875a",
   "metadata": {},
   "source": [
    "Посмотрим еще четверки, где значения для тракта и округа - не пусты, а координаты - пустые."
   ]
  },
  {
   "cell_type": "code",
   "execution_count": 89,
   "id": "9a1c45fd-20e2-4bbb-b235-075dd5203ce1",
   "metadata": {},
   "outputs": [
    {
     "name": "stdout",
     "output_type": "stream",
     "text": [
      "+-------------------+------------------------+-------------------------+---------------------+-----+\n",
      "|Pickup Census Tract|Pickup Centroid Latitude|Pickup Centroid Longitude|Pickup Community Area|count|\n",
      "+-------------------+------------------------+-------------------------+---------------------+-----+\n",
      "+-------------------+------------------------+-------------------------+---------------------+-----+\n",
      "\n",
      "+--------------------+-------------------------+--------------------------+----------------------+-----+\n",
      "|Dropoff Census Tract|Dropoff Centroid Latitude|Dropoff Centroid Longitude|Dropoff Community Area|count|\n",
      "+--------------------+-------------------------+--------------------------+----------------------+-----+\n",
      "+--------------------+-------------------------+--------------------------+----------------------+-----+\n",
      "\n"
     ]
    }
   ],
   "source": [
    "ctp_geo.filter(f.col(ct.pickup_ct).isNotNull() &\\\n",
    "               f.col(ct.pickup_cl).isNull() &\\\n",
    "               f.col(ct.pickup_clon).isNull() &\\\n",
    "               f.col(ct.pickup_ca).isNotNull()).show(5)\n",
    "ctd_geo.filter(f.col(ct.dropoff_ct).isNotNull() &\\\n",
    "               f.col(ct.dropoff_cl).isNull() &\\\n",
    "               f.col(ct.dropoff_clon).isNull() &\\\n",
    "               f.col(ct.dropoff_ca).isNotNull()).show(5)"
   ]
  },
  {
   "cell_type": "markdown",
   "id": "5cc34129-fae4-48eb-baa2-ab2b8562b42e",
   "metadata": {},
   "source": [
    "Т.о. через значение округа не получится определить координаты (диапазоны координат), что могло бы быть полезным для использования меотодов геоанализа."
   ]
  },
  {
   "cell_type": "markdown",
   "id": "26f9596b-d815-408d-806a-658018ea5303",
   "metadata": {},
   "source": [
    "Посчитаем количество (долю) записей с тройками `[(тракт, широта, долгота) с НЕпустыми трактами и пустыми геоточками]`"
   ]
  },
  {
   "cell_type": "code",
   "execution_count": 94,
   "id": "85b22e44-1c48-4571-bf23-e689e95d1d6a",
   "metadata": {},
   "outputs": [
    {
     "name": "stdout",
     "output_type": "stream",
     "text": [
      "количество записей для посадки 817\n",
      "количество записей для высадки 6986\n"
     ]
    }
   ],
   "source": [
    "ctp_coord_null = ctp_geo.filter(f.col(ct.pickup_ct).isNotNull() &\\\n",
    "               f.col(ct.pickup_cl).isNull() &\\\n",
    "               f.col(ct.pickup_clon).isNull()).\\\n",
    "agg(f.sum(\"count\").alias(\"c\")).take(1)[0][\"c\"]\n",
    "print(\"количество записей для посадки\",ctp_coord_null)\n",
    "ctd_coord_null = ctd_geo.filter(f.col(ct.dropoff_ct).isNotNull() &\\\n",
    "               f.col(ct.dropoff_cl).isNull() &\\\n",
    "               f.col(ct.dropoff_clon).isNull()).\\\n",
    "agg(f.sum(\"count\").alias(\"c\")).take(1)[0][\"c\"]\n",
    "print(\"количество записей для высадки\",ctd_coord_null)"
   ]
  },
  {
   "cell_type": "markdown",
   "id": "24533b19-3c6e-4413-b97e-ec1a349402c0",
   "metadata": {},
   "source": [
    "Видим, что количество таких записей мало и может быть удалено"
   ]
  },
  {
   "cell_type": "code",
   "execution_count": null,
   "id": "15f0c875-c959-4bba-97d3-c2f123e04eed",
   "metadata": {},
   "outputs": [],
   "source": []
  },
  {
   "cell_type": "code",
   "execution_count": null,
   "id": "9218c954-4861-41cb-890f-99e24b79f5e0",
   "metadata": {},
   "outputs": [],
   "source": []
  },
  {
   "cell_type": "code",
   "execution_count": null,
   "id": "df859140-a3d9-4995-998a-bdefe2ff9d79",
   "metadata": {},
   "outputs": [],
   "source": []
  },
  {
   "cell_type": "code",
   "execution_count": 39,
   "id": "f79389a7-af32-48df-8f5c-0c0bd409b9b6",
   "metadata": {},
   "outputs": [
    {
     "name": "stdout",
     "output_type": "stream",
     "text": [
      "+--------------------+-------+\n",
      "|Dropoff Census Tract|  count|\n",
      "+--------------------+-------+\n",
      "|                null|3707094|\n",
      "|         17031839100| 328855|\n",
      "|         17031320100| 277879|\n",
      "|         17031980000| 243652|\n",
      "|         17031081500| 160251|\n",
      "+--------------------+-------+\n",
      "only showing top 5 rows\n",
      "\n",
      "============================================\n",
      "dropoff ct count: 811\n"
     ]
    }
   ],
   "source": [
    "geosd = taxi.groupBy(ct.dropoff_ct).count().orderBy(\"count\", ascending=False).cache()\n",
    "ctd.show(5)\n",
    "ctd_count = ctd.filter(ctd[ct.dropoff_ct].isNotNull()).count()\n",
    "print('============================================')\n",
    "print('dropoff ct count:',ctd_count)"
   ]
  },
  {
   "cell_type": "code",
   "execution_count": null,
   "id": "fa455d6b-02cc-46f0-8d5c-8c5c8026b7ae",
   "metadata": {},
   "outputs": [],
   "source": []
  },
  {
   "cell_type": "code",
   "execution_count": 61,
   "id": "e582338c-56f7-4c0b-8630-0a4dc62b8926",
   "metadata": {},
   "outputs": [
    {
     "name": "stdout",
     "output_type": "stream",
     "text": [
      "CPU times: user 23.1 ms, sys: 2.31 ms, total: 25.4 ms\n",
      "Wall time: 16.6 s\n"
     ]
    }
   ],
   "source": [
    "%%time\n",
    "# список уникальных троек\n",
    "f1 = ct.pickup_ct # 'Pickup Census Tract'\n",
    "f2 = ct.pickup_cl # 'Pickup Centroid Latitude'\n",
    "f3 = ct.pickup_clon # 'Pickup Centroid Longitude'\n",
    "pckgeo = taxi.select(f1, f2, f3).distinct().collect()"
   ]
  },
  {
   "cell_type": "code",
   "execution_count": 62,
   "id": "856c9fa8-ceab-4af7-a0f5-d31a7f2d28ac",
   "metadata": {},
   "outputs": [
    {
     "data": {
      "text/plain": [
       "743"
      ]
     },
     "execution_count": 62,
     "metadata": {},
     "output_type": "execute_result"
    }
   ],
   "source": [
    "len(pckgeo)"
   ]
  },
  {
   "cell_type": "code",
   "execution_count": 63,
   "id": "259ad12a-0b29-4cfa-b5bd-4c690c49b392",
   "metadata": {},
   "outputs": [
    {
     "data": {
      "text/plain": [
       "[Row(Pickup Census Tract=17031351000, Pickup Centroid Latitude=41.834673598, Pickup Centroid Longitude=-87.610834737),\n",
       " Row(Pickup Census Tract=17031490400, Pickup Centroid Latitude=41.723821251, Pickup Centroid Longitude=-87.611845985),\n",
       " Row(Pickup Census Tract=17031831600, Pickup Centroid Latitude=41.925588088, Pickup Centroid Longitude=-87.797600684)]"
      ]
     },
     "execution_count": 63,
     "metadata": {},
     "output_type": "execute_result"
    }
   ],
   "source": [
    "pckgeo[:3]"
   ]
  },
  {
   "cell_type": "code",
   "execution_count": 64,
   "id": "be425be6-590f-4073-9436-6459501ca6bd",
   "metadata": {},
   "outputs": [
    {
     "data": {
      "text/plain": [
       "78"
      ]
     },
     "execution_count": 64,
     "metadata": {},
     "output_type": "execute_result"
    }
   ],
   "source": [
    "len([row for row in pckgeo if row[f1] is None])"
   ]
  },
  {
   "cell_type": "code",
   "execution_count": 65,
   "id": "9e0d2bbe-0ecd-4911-8d43-5cab08865451",
   "metadata": {},
   "outputs": [],
   "source": [
    "from collections import defaultdict"
   ]
  },
  {
   "cell_type": "code",
   "execution_count": 66,
   "id": "5ee9f79b-436c-4937-88ba-61d62461e7e6",
   "metadata": {},
   "outputs": [
    {
     "name": "stderr",
     "output_type": "stream",
     "text": [
      "100%|██████████| 743/743 [00:00<00:00, 67468.45it/s]\n"
     ]
    }
   ],
   "source": [
    "# Инициализация словаря для хранения значений\n",
    "tract_to_coords = defaultdict(list)\n",
    "\n",
    "# Заполнение словаря\n",
    "for row in tqdm(pckgeo):\n",
    "    tract = row[f1]\n",
    "    coords = (row[f3], row[f2])\n",
    "    tract_to_coords[tract].append(coords)\n",
    "\n",
    "# Поиск районов с разными значениями широты и долготы\n",
    "repeated_tracts = {tract: coords for tract, coords in tract_to_coords.items() if len(set(coords)) > 1}"
   ]
  },
  {
   "cell_type": "code",
   "execution_count": 67,
   "id": "ef7b7c2b-e80d-470b-8f10-21417c2543fc",
   "metadata": {},
   "outputs": [
    {
     "name": "stdout",
     "output_type": "stream",
     "text": [
      "Район: None, Количетво геоточек: 78\n",
      "\n",
      "Количество районов с разными значениями широты и долготы: 1\n"
     ]
    }
   ],
   "source": [
    "# Вывод результатов\n",
    "for tract, coords in repeated_tracts.items():\n",
    "    print(f\"Район: {tract}, Количетво геоточек: {len(coords)}\")\n",
    "    print()\n",
    "\n",
    "# Количество таких районов\n",
    "print(f\"Количество районов с разными значениями широты и долготы: {len(repeated_tracts)}\")"
   ]
  },
  {
   "cell_type": "code",
   "execution_count": 68,
   "id": "445e33ad-194b-444b-900c-88fac621003d",
   "metadata": {},
   "outputs": [
    {
     "name": "stdout",
     "output_type": "stream",
     "text": [
      "geopoint: (-87.596475596, 41.728182061) - 17031470100\n"
     ]
    }
   ],
   "source": [
    "for geop in repeated_tracts[None]:\n",
    "    if geop == (None,None): continue\n",
    "    # print(f\"geop {geop}\")\n",
    "    for tract, geos in tract_to_coords.items():\n",
    "        if tract is None: continue\n",
    "        if geop in geos:\n",
    "            print(f\"geopoint: {geop} - {tract}\")"
   ]
  },
  {
   "cell_type": "code",
   "execution_count": 69,
   "id": "1a58d7d2-d65b-40e6-a3dd-2f323f994538",
   "metadata": {},
   "outputs": [],
   "source": [
    "# tract_to_coords"
   ]
  },
  {
   "cell_type": "code",
   "execution_count": 70,
   "id": "aba7b7f3-4dd4-4b9f-b6c0-dafac4fb23f1",
   "metadata": {},
   "outputs": [
    {
     "name": "stdout",
     "output_type": "stream",
     "text": [
      "CPU times: user 25.4 ms, sys: 1.55 ms, total: 27 ms\n",
      "Wall time: 17.7 s\n"
     ]
    }
   ],
   "source": [
    "%%time\n",
    "geos_pck = taxi.select(f2, f3).distinct().orderBy(f2, f3).collect()"
   ]
  },
  {
   "cell_type": "code",
   "execution_count": 71,
   "id": "f2431796-d78f-4f51-a591-8c8fec153109",
   "metadata": {},
   "outputs": [
    {
     "data": {
      "text/plain": [
       "616"
      ]
     },
     "execution_count": 71,
     "metadata": {},
     "output_type": "execute_result"
    }
   ],
   "source": [
    "len(geos_pck)"
   ]
  },
  {
   "cell_type": "code",
   "execution_count": 72,
   "id": "1b339658-0653-4c75-bb96-5f9e5eb3b9c9",
   "metadata": {},
   "outputs": [
    {
     "data": {
      "text/plain": [
       "[Row(Pickup Centroid Latitude=None, Pickup Centroid Longitude=None),\n",
       " Row(Pickup Centroid Latitude=41.651921576, Pickup Centroid Longitude=-87.564929171),\n",
       " Row(Pickup Centroid Latitude=41.660136051, Pickup Centroid Longitude=-87.60284764),\n",
       " Row(Pickup Centroid Latitude=41.663670652, Pickup Centroid Longitude=-87.540935513),\n",
       " Row(Pickup Centroid Latitude=41.663759731, Pickup Centroid Longitude=-87.637304085)]"
      ]
     },
     "execution_count": 72,
     "metadata": {},
     "output_type": "execute_result"
    }
   ],
   "source": [
    "geos_pck[:5]"
   ]
  },
  {
   "cell_type": "code",
   "execution_count": 73,
   "id": "63549c1e-2d15-43f6-8ec4-7d08020b1575",
   "metadata": {},
   "outputs": [
    {
     "name": "stdout",
     "output_type": "stream",
     "text": [
      "CPU times: user 25.2 ms, sys: 8.61 ms, total: 33.8 ms\n",
      "Wall time: 16.3 s\n"
     ]
    }
   ],
   "source": [
    "%%time\n",
    "f2 = 'Pickup Centroid Latitude'\n",
    "f3 = 'Pickup Centroid Longitude'\n",
    "geos_pck_not_null = taxi.select(f2, f3).filter(taxi[f2].isNotNull() &\n",
    "                taxi[f3].isNotNull()).distinct().orderBy(taxi[f2].asc(), taxi[f3].asc()).collect()"
   ]
  },
  {
   "cell_type": "code",
   "execution_count": 74,
   "id": "9455028a-f3ab-459c-aacb-4cb140e0c2eb",
   "metadata": {},
   "outputs": [
    {
     "data": {
      "text/plain": [
       "[Row(Pickup Centroid Latitude=41.651921576, Pickup Centroid Longitude=-87.564929171),\n",
       " Row(Pickup Centroid Latitude=41.660136051, Pickup Centroid Longitude=-87.60284764),\n",
       " Row(Pickup Centroid Latitude=41.663670652, Pickup Centroid Longitude=-87.540935513),\n",
       " Row(Pickup Centroid Latitude=41.663759731, Pickup Centroid Longitude=-87.637304085),\n",
       " Row(Pickup Centroid Latitude=41.665167734, Pickup Centroid Longitude=-87.535284961)]"
      ]
     },
     "execution_count": 74,
     "metadata": {},
     "output_type": "execute_result"
    }
   ],
   "source": [
    "geos_pck_not_null[:5]"
   ]
  },
  {
   "cell_type": "code",
   "execution_count": 75,
   "id": "bae0e17e-a42b-4b93-bdf0-77fc4a64419d",
   "metadata": {},
   "outputs": [
    {
     "name": "stdout",
     "output_type": "stream",
     "text": [
      "CPU times: user 3.63 s, sys: 83.9 ms, total: 3.71 s\n",
      "Wall time: 18.7 s\n"
     ]
    }
   ],
   "source": [
    "%%time\n",
    "geos_pck_not_null = taxi.select(f2, f3).filter(taxi[f2].isNull() &\n",
    "                taxi[f3].isNull()).collect()"
   ]
  },
  {
   "cell_type": "code",
   "execution_count": 76,
   "id": "6397549a-0d33-4f8d-b108-604921680901",
   "metadata": {},
   "outputs": [
    {
     "name": "stdout",
     "output_type": "stream",
     "text": [
      "CPU times: user 178 ms, sys: 0 ns, total: 178 ms\n",
      "Wall time: 188 ms\n"
     ]
    }
   ],
   "source": [
    "%%time\n",
    "geos_pck_not_null = taxi.select(f2, f3).filter(taxi[f2].isNull() & taxi[f3].isNull())"
   ]
  },
  {
   "cell_type": "code",
   "execution_count": 77,
   "id": "e36bf6c1-c4cc-4f80-901f-73b6ea4fa03d",
   "metadata": {},
   "outputs": [
    {
     "name": "stdout",
     "output_type": "stream",
     "text": [
      "511'551\n",
      "CPU times: user 0 ns, sys: 8.27 ms, total: 8.27 ms\n",
      "Wall time: 14.3 s\n"
     ]
    }
   ],
   "source": [
    "%%time\n",
    "print(pds.gvf(geos_pck_not_null.count()))"
   ]
  },
  {
   "cell_type": "code",
   "execution_count": 78,
   "id": "fb8eaae9-bc54-40f8-8ec7-2bf6c30b1d71",
   "metadata": {},
   "outputs": [
    {
     "name": "stdout",
     "output_type": "stream",
     "text": [
      "CPU times: user 13.2 ms, sys: 268 µs, total: 13.5 ms\n",
      "Wall time: 14.3 s\n"
     ]
    },
    {
     "data": {
      "text/plain": [
       "0"
      ]
     },
     "execution_count": 78,
     "metadata": {},
     "output_type": "execute_result"
    }
   ],
   "source": [
    "%%time\n",
    "taxi.select(f2, f3).filter(taxi[f2].isNull() &\n",
    "                taxi[f3].isNotNull()).count()"
   ]
  },
  {
   "cell_type": "code",
   "execution_count": 79,
   "id": "758468b7-019f-4e08-959e-1cfb48fa4785",
   "metadata": {},
   "outputs": [
    {
     "name": "stdout",
     "output_type": "stream",
     "text": [
      "CPU times: user 18.5 ms, sys: 177 µs, total: 18.6 ms\n",
      "Wall time: 14.7 s\n"
     ]
    },
    {
     "data": {
      "text/plain": [
       "0"
      ]
     },
     "execution_count": 79,
     "metadata": {},
     "output_type": "execute_result"
    }
   ],
   "source": [
    "%%time\n",
    "taxi.select(f2, f3).filter(taxi[f2].isNotNull() &\n",
    "                taxi[f3].isNull()).count()"
   ]
  },
  {
   "cell_type": "code",
   "execution_count": 80,
   "id": "e1814458-5107-475e-a0da-efcab55e084c",
   "metadata": {},
   "outputs": [
    {
     "data": {
      "text/plain": [
       "78"
      ]
     },
     "execution_count": 80,
     "metadata": {},
     "output_type": "execute_result"
    }
   ],
   "source": [
    "taxi.select(ct.pickup_ca).distinct().count()"
   ]
  },
  {
   "cell_type": "code",
   "execution_count": 81,
   "id": "85d8dcad-483c-4bb7-a409-b55fcf530855",
   "metadata": {},
   "outputs": [
    {
     "data": {
      "text/plain": [
       "78"
      ]
     },
     "execution_count": 81,
     "metadata": {},
     "output_type": "execute_result"
    }
   ],
   "source": [
    "taxi.select(ct.dropoff_ca).distinct().count()"
   ]
  },
  {
   "cell_type": "markdown",
   "id": "52162243-2d7d-473a-9ed1-5c74913820dc",
   "metadata": {},
   "source": [
    "### Частоты \"Census Tract\""
   ]
  },
  {
   "cell_type": "code",
   "execution_count": 32,
   "id": "5ebba126-5855-4844-bed6-bba34d76fac0",
   "metadata": {},
   "outputs": [],
   "source": [
    "# Функция для вычисления частот\n",
    "def frq(df, column):\n",
    "    # Вычисляем частоту для каждого значения\n",
    "    freq_df = df.groupBy(column).count().orderBy(\"count\", ascending=False)\n",
    "    freq_df = freq_df.withColumn(\"ratio\", freq_df[\"count\"]/row_count)\n",
    "    return freq_df"
   ]
  },
  {
   "cell_type": "code",
   "execution_count": 33,
   "id": "061a649b-0b0c-46b2-8eea-1bcd12295987",
   "metadata": {},
   "outputs": [
    {
     "name": "stdout",
     "output_type": "stream",
     "text": [
      "CPU times: user 48.5 ms, sys: 3.36 ms, total: 51.9 ms\n",
      "Wall time: 18.7 s\n"
     ]
    }
   ],
   "source": [
    "%%time\n",
    "pct_frq = frq(taxi,ct.pickup_ct)\n",
    "\n",
    "pct_frq_list = [list(t) for t in \\\n",
    "                zip(*[[str(row[ct.pickup_ct]), row['ratio']] \\\n",
    "                      for row in pct_frq.collect()])]"
   ]
  },
  {
   "cell_type": "markdown",
   "id": "3c4ec0ee-8f4f-4f5a-8e83-95aeaf6714a7",
   "metadata": {},
   "source": [
    "Как указал выше, пустых значений для кварталов более половины"
   ]
  },
  {
   "cell_type": "code",
   "execution_count": 34,
   "id": "febaf365-4efb-49e8-9852-4a14e3400229",
   "metadata": {},
   "outputs": [
    {
     "data": {
      "text/plain": [
       "['None', '0.589']"
      ]
     },
     "execution_count": 34,
     "metadata": {},
     "output_type": "execute_result"
    }
   ],
   "source": [
    "[pct_frq_list[0][0], pds.gvf(pct_frq_list[1][0],\"'\",3)]"
   ]
  },
  {
   "cell_type": "markdown",
   "id": "116a7ed3-d3a7-4a4c-9eb2-cc990555c9c0",
   "metadata": {},
   "source": [
    "Посмотрим распределение для непустых значений первых 30-ти самых активных кварталов посадки"
   ]
  },
  {
   "cell_type": "code",
   "execution_count": 35,
   "id": "10ec86d6-f2f4-4941-99a0-2e17bc5ee1f3",
   "metadata": {},
   "outputs": [
    {
     "data": {
      "image/png": "[encoded data removed]",
      "text/plain": [
       "<Figure size 1200x300 with 1 Axes>"
      ]
     },
     "metadata": {},
     "output_type": "display_data"
    }
   ],
   "source": [
    "# Построение бар-графика\n",
    "# Преобразование значений оси X в строки\n",
    "x_values = [str(x) for x in pct_frq_list[0][1:31]]\n",
    "y_values = pct_frq_list[1][1:31]\n",
    "\n",
    "plt.figure(figsize=(12, 3))\n",
    "plt.bar(range(len(x_values)), y_values, color='orange')\n",
    "plt.xlabel('Pickup Location')\n",
    "plt.ylabel('Frequency')\n",
    "plt.title('Frequency of Pickups by Location')\n",
    "plt.xticks(range(len(x_values)), x_values, rotation=90)\n",
    "\n",
    "plt.show()"
   ]
  },
  {
   "cell_type": "code",
   "execution_count": 31,
   "id": "7d4a6b0e-0585-4b4f-bc89-b330dd5af84c",
   "metadata": {},
   "outputs": [
    {
     "name": "stdout",
     "output_type": "stream",
     "text": [
      "+--------------------+-------+--------------------+\n",
      "|Dropoff Census Tract|  count|               ratio|\n",
      "+--------------------+-------+--------------------+\n",
      "|                null|3707094|  0.5808284468677658|\n",
      "|         17031839100| 328855| 0.05152508646791776|\n",
      "|         17031320100| 277879|0.043538153601491596|\n",
      "|         17031980000| 243652|  0.0381754583876818|\n",
      "|         17031081500| 160251|0.025108168133585587|\n",
      "|         17031330100| 139399|0.021841071379608848|\n",
      "|         17031081403| 133973| 0.02099092429601601|\n",
      "|         17031281900| 129117| 0.02023008495987027|\n",
      "|         17031081700| 114125|0.017881134521753096|\n",
      "|         17031081401| 100596|0.015761407302083457|\n",
      "|         17031081201|  87949|0.013779872070568789|\n",
      "|         17031833000|  83912|0.013147353866281233|\n",
      "|         17031320400|  81112|0.012708649141979734|\n",
      "|         17031081800|  76118|0.011926187930136273|\n",
      "|         17031081300|  75221|0.011785645738101114|\n",
      "|         17031280100|  67209|0.010530323505564107|\n",
      "|         17031320600|  59928| 0.00938953454212153|\n",
      "|         17031980100|  48559|0.007608236681198761|\n",
      "|         17031841000|  42231|0.006616764004277371|\n",
      "|         17031081600|  40664| 0.00637124603892721|\n",
      "+--------------------+-------+--------------------+\n",
      "only showing top 20 rows\n",
      "\n",
      "CPU times: user 32.6 ms, sys: 5.96 ms, total: 38.6 ms\n",
      "Wall time: 36.7 s\n"
     ]
    }
   ],
   "source": [
    "%%time\n",
    "dct_frq = frq(taxi,ct.dropoff_ct)\n",
    "dct_frq.show()"
   ]
  },
  {
   "cell_type": "code",
   "execution_count": 32,
   "id": "57a92771-a8be-44d9-b451-f81ae29af9dd",
   "metadata": {},
   "outputs": [
    {
     "name": "stderr",
     "output_type": "stream",
     "text": [
      "INFO:spark_app:attempt to stop SparkSession app object\n",
      "INFO:spark_app:.stop() instruction has been executed\n",
      "INFO:spark_app:attempt to create new SparkSession app object after stopping\n",
      "WARNING:spark_app:Session stopped correctly\n"
     ]
    },
    {
     "data": {
      "text/plain": [
       "'stopped'"
      ]
     },
     "execution_count": 32,
     "metadata": {},
     "output_type": "execute_result"
    }
   ],
   "source": [
    "spark_app.stop_spark_app()"
   ]
  },
  {
   "cell_type": "code",
   "execution_count": 33,
   "id": "8b678860-9fb3-43c9-aca7-d889a842a451",
   "metadata": {},
   "outputs": [
    {
     "ename": "RuntimeError",
     "evalue": "SparkContext or SparkSession should be created first.",
     "output_type": "error",
     "traceback": [
      "\u001b[0;31m---------------------------------------------------------------------------\u001b[0m",
      "\u001b[0;31mRuntimeError\u001b[0m                              Traceback (most recent call last)",
      "File \u001b[0;32m<timed exec>:1\u001b[0m\n",
      "Cell \u001b[0;32mIn[27], line 4\u001b[0m, in \u001b[0;36mfrq\u001b[0;34m(df, column)\u001b[0m\n\u001b[1;32m      2\u001b[0m \u001b[38;5;28;01mdef\u001b[39;00m \u001b[38;5;21mfrq\u001b[39m(df, column):\n\u001b[1;32m      3\u001b[0m     \u001b[38;5;66;03m# Вычисляем частоту для каждого значения\u001b[39;00m\n\u001b[0;32m----> 4\u001b[0m     freq_df \u001b[38;5;241m=\u001b[39m \u001b[43mdf\u001b[49m\u001b[38;5;241;43m.\u001b[39;49m\u001b[43mgroupBy\u001b[49m\u001b[43m(\u001b[49m\u001b[43mcolumn\u001b[49m\u001b[43m)\u001b[49m\u001b[38;5;241m.\u001b[39mcount()\u001b[38;5;241m.\u001b[39morderBy(\u001b[38;5;124m\"\u001b[39m\u001b[38;5;124mcount\u001b[39m\u001b[38;5;124m\"\u001b[39m, ascending\u001b[38;5;241m=\u001b[39m\u001b[38;5;28;01mFalse\u001b[39;00m)\n\u001b[1;32m      5\u001b[0m     freq_df \u001b[38;5;241m=\u001b[39m freq_df\u001b[38;5;241m.\u001b[39mwithColumn(\u001b[38;5;124m\"\u001b[39m\u001b[38;5;124mratio\u001b[39m\u001b[38;5;124m\"\u001b[39m, freq_df[\u001b[38;5;124m\"\u001b[39m\u001b[38;5;124mcount\u001b[39m\u001b[38;5;124m\"\u001b[39m]\u001b[38;5;241m/\u001b[39mrow_count)\n\u001b[1;32m      6\u001b[0m     \u001b[38;5;28;01mreturn\u001b[39;00m freq_df\n",
      "File \u001b[0;32m/usr/local/spark/python/pyspark/sql/dataframe.py:3223\u001b[0m, in \u001b[0;36mDataFrame.groupBy\u001b[0;34m(self, *cols)\u001b[0m\n\u001b[1;32m   3154\u001b[0m \u001b[38;5;28;01mdef\u001b[39;00m \u001b[38;5;21mgroupBy\u001b[39m(\u001b[38;5;28mself\u001b[39m, \u001b[38;5;241m*\u001b[39mcols: \u001b[38;5;124m\"\u001b[39m\u001b[38;5;124mColumnOrName\u001b[39m\u001b[38;5;124m\"\u001b[39m) \u001b[38;5;241m-\u001b[39m\u001b[38;5;241m>\u001b[39m \u001b[38;5;124m\"\u001b[39m\u001b[38;5;124mGroupedData\u001b[39m\u001b[38;5;124m\"\u001b[39m:  \u001b[38;5;66;03m# type: ignore[misc]\u001b[39;00m\n\u001b[1;32m   3155\u001b[0m \u001b[38;5;250m    \u001b[39m\u001b[38;5;124;03m\"\"\"Groups the :class:`DataFrame` using the specified columns,\u001b[39;00m\n\u001b[1;32m   3156\u001b[0m \u001b[38;5;124;03m    so we can run aggregation on them. See :class:`GroupedData`\u001b[39;00m\n\u001b[1;32m   3157\u001b[0m \u001b[38;5;124;03m    for all the available aggregate functions.\u001b[39;00m\n\u001b[0;32m   (...)\u001b[0m\n\u001b[1;32m   3221\u001b[0m \u001b[38;5;124;03m    +-----+---+-----+\u001b[39;00m\n\u001b[1;32m   3222\u001b[0m \u001b[38;5;124;03m    \"\"\"\u001b[39;00m\n\u001b[0;32m-> 3223\u001b[0m     jgd \u001b[38;5;241m=\u001b[39m \u001b[38;5;28mself\u001b[39m\u001b[38;5;241m.\u001b[39m_jdf\u001b[38;5;241m.\u001b[39mgroupBy(\u001b[38;5;28;43mself\u001b[39;49m\u001b[38;5;241;43m.\u001b[39;49m\u001b[43m_jcols\u001b[49m\u001b[43m(\u001b[49m\u001b[38;5;241;43m*\u001b[39;49m\u001b[43mcols\u001b[49m\u001b[43m)\u001b[49m)\n\u001b[1;32m   3224\u001b[0m     \u001b[38;5;28;01mfrom\u001b[39;00m \u001b[38;5;21;01mpyspark\u001b[39;00m\u001b[38;5;21;01m.\u001b[39;00m\u001b[38;5;21;01msql\u001b[39;00m\u001b[38;5;21;01m.\u001b[39;00m\u001b[38;5;21;01mgroup\u001b[39;00m \u001b[38;5;28;01mimport\u001b[39;00m GroupedData\n\u001b[1;32m   3226\u001b[0m     \u001b[38;5;28;01mreturn\u001b[39;00m GroupedData(jgd, \u001b[38;5;28mself\u001b[39m)\n",
      "File \u001b[0;32m/usr/local/spark/python/pyspark/sql/dataframe.py:2617\u001b[0m, in \u001b[0;36mDataFrame._jcols\u001b[0;34m(self, *cols)\u001b[0m\n\u001b[1;32m   2615\u001b[0m \u001b[38;5;28;01mif\u001b[39;00m \u001b[38;5;28mlen\u001b[39m(cols) \u001b[38;5;241m==\u001b[39m \u001b[38;5;241m1\u001b[39m \u001b[38;5;129;01mand\u001b[39;00m \u001b[38;5;28misinstance\u001b[39m(cols[\u001b[38;5;241m0\u001b[39m], \u001b[38;5;28mlist\u001b[39m):\n\u001b[1;32m   2616\u001b[0m     cols \u001b[38;5;241m=\u001b[39m cols[\u001b[38;5;241m0\u001b[39m]\n\u001b[0;32m-> 2617\u001b[0m \u001b[38;5;28;01mreturn\u001b[39;00m \u001b[38;5;28;43mself\u001b[39;49m\u001b[38;5;241;43m.\u001b[39;49m\u001b[43m_jseq\u001b[49m\u001b[43m(\u001b[49m\u001b[43mcols\u001b[49m\u001b[43m,\u001b[49m\u001b[43m \u001b[49m\u001b[43m_to_java_column\u001b[49m\u001b[43m)\u001b[49m\n",
      "File \u001b[0;32m/usr/local/spark/python/pyspark/sql/dataframe.py:2604\u001b[0m, in \u001b[0;36mDataFrame._jseq\u001b[0;34m(self, cols, converter)\u001b[0m\n\u001b[1;32m   2598\u001b[0m \u001b[38;5;28;01mdef\u001b[39;00m \u001b[38;5;21m_jseq\u001b[39m(\n\u001b[1;32m   2599\u001b[0m     \u001b[38;5;28mself\u001b[39m,\n\u001b[1;32m   2600\u001b[0m     cols: Sequence,\n\u001b[1;32m   2601\u001b[0m     converter: Optional[Callable[\u001b[38;5;241m.\u001b[39m\u001b[38;5;241m.\u001b[39m\u001b[38;5;241m.\u001b[39m, Union[\u001b[38;5;124m\"\u001b[39m\u001b[38;5;124mPrimitiveType\u001b[39m\u001b[38;5;124m\"\u001b[39m, JavaObject]]] \u001b[38;5;241m=\u001b[39m \u001b[38;5;28;01mNone\u001b[39;00m,\n\u001b[1;32m   2602\u001b[0m ) \u001b[38;5;241m-\u001b[39m\u001b[38;5;241m>\u001b[39m JavaObject:\n\u001b[1;32m   2603\u001b[0m \u001b[38;5;250m    \u001b[39m\u001b[38;5;124;03m\"\"\"Return a JVM Seq of Columns from a list of Column or names\"\"\"\u001b[39;00m\n\u001b[0;32m-> 2604\u001b[0m     \u001b[38;5;28;01mreturn\u001b[39;00m \u001b[43m_to_seq\u001b[49m\u001b[43m(\u001b[49m\u001b[38;5;28;43mself\u001b[39;49m\u001b[38;5;241;43m.\u001b[39;49m\u001b[43msparkSession\u001b[49m\u001b[38;5;241;43m.\u001b[39;49m\u001b[43m_sc\u001b[49m\u001b[43m,\u001b[49m\u001b[43m \u001b[49m\u001b[43mcols\u001b[49m\u001b[43m,\u001b[49m\u001b[43m \u001b[49m\u001b[43mconverter\u001b[49m\u001b[43m)\u001b[49m\n",
      "File \u001b[0;32m/usr/local/spark/python/pyspark/sql/column.py:86\u001b[0m, in \u001b[0;36m_to_seq\u001b[0;34m(sc, cols, converter)\u001b[0m\n\u001b[1;32m     79\u001b[0m \u001b[38;5;250m\u001b[39m\u001b[38;5;124;03m\"\"\"\u001b[39;00m\n\u001b[1;32m     80\u001b[0m \u001b[38;5;124;03mConvert a list of Columns (or names) into a JVM Seq of Column.\u001b[39;00m\n\u001b[1;32m     81\u001b[0m \n\u001b[1;32m     82\u001b[0m \u001b[38;5;124;03mAn optional `converter` could be used to convert items in `cols`\u001b[39;00m\n\u001b[1;32m     83\u001b[0m \u001b[38;5;124;03minto JVM Column objects.\u001b[39;00m\n\u001b[1;32m     84\u001b[0m \u001b[38;5;124;03m\"\"\"\u001b[39;00m\n\u001b[1;32m     85\u001b[0m \u001b[38;5;28;01mif\u001b[39;00m converter:\n\u001b[0;32m---> 86\u001b[0m     cols \u001b[38;5;241m=\u001b[39m \u001b[43m[\u001b[49m\u001b[43mconverter\u001b[49m\u001b[43m(\u001b[49m\u001b[43mc\u001b[49m\u001b[43m)\u001b[49m\u001b[43m \u001b[49m\u001b[38;5;28;43;01mfor\u001b[39;49;00m\u001b[43m \u001b[49m\u001b[43mc\u001b[49m\u001b[43m \u001b[49m\u001b[38;5;129;43;01min\u001b[39;49;00m\u001b[43m \u001b[49m\u001b[43mcols\u001b[49m\u001b[43m]\u001b[49m\n\u001b[1;32m     87\u001b[0m \u001b[38;5;28;01massert\u001b[39;00m sc\u001b[38;5;241m.\u001b[39m_jvm \u001b[38;5;129;01mis\u001b[39;00m \u001b[38;5;129;01mnot\u001b[39;00m \u001b[38;5;28;01mNone\u001b[39;00m\n\u001b[1;32m     88\u001b[0m \u001b[38;5;28;01mreturn\u001b[39;00m sc\u001b[38;5;241m.\u001b[39m_jvm\u001b[38;5;241m.\u001b[39mPythonUtils\u001b[38;5;241m.\u001b[39mtoSeq(cols)\n",
      "File \u001b[0;32m/usr/local/spark/python/pyspark/sql/column.py:86\u001b[0m, in \u001b[0;36m<listcomp>\u001b[0;34m(.0)\u001b[0m\n\u001b[1;32m     79\u001b[0m \u001b[38;5;250m\u001b[39m\u001b[38;5;124;03m\"\"\"\u001b[39;00m\n\u001b[1;32m     80\u001b[0m \u001b[38;5;124;03mConvert a list of Columns (or names) into a JVM Seq of Column.\u001b[39;00m\n\u001b[1;32m     81\u001b[0m \n\u001b[1;32m     82\u001b[0m \u001b[38;5;124;03mAn optional `converter` could be used to convert items in `cols`\u001b[39;00m\n\u001b[1;32m     83\u001b[0m \u001b[38;5;124;03minto JVM Column objects.\u001b[39;00m\n\u001b[1;32m     84\u001b[0m \u001b[38;5;124;03m\"\"\"\u001b[39;00m\n\u001b[1;32m     85\u001b[0m \u001b[38;5;28;01mif\u001b[39;00m converter:\n\u001b[0;32m---> 86\u001b[0m     cols \u001b[38;5;241m=\u001b[39m [\u001b[43mconverter\u001b[49m\u001b[43m(\u001b[49m\u001b[43mc\u001b[49m\u001b[43m)\u001b[49m \u001b[38;5;28;01mfor\u001b[39;00m c \u001b[38;5;129;01min\u001b[39;00m cols]\n\u001b[1;32m     87\u001b[0m \u001b[38;5;28;01massert\u001b[39;00m sc\u001b[38;5;241m.\u001b[39m_jvm \u001b[38;5;129;01mis\u001b[39;00m \u001b[38;5;129;01mnot\u001b[39;00m \u001b[38;5;28;01mNone\u001b[39;00m\n\u001b[1;32m     88\u001b[0m \u001b[38;5;28;01mreturn\u001b[39;00m sc\u001b[38;5;241m.\u001b[39m_jvm\u001b[38;5;241m.\u001b[39mPythonUtils\u001b[38;5;241m.\u001b[39mtoSeq(cols)\n",
      "File \u001b[0;32m/usr/local/spark/python/pyspark/sql/column.py:63\u001b[0m, in \u001b[0;36m_to_java_column\u001b[0;34m(col)\u001b[0m\n\u001b[1;32m     61\u001b[0m     jcol \u001b[38;5;241m=\u001b[39m col\u001b[38;5;241m.\u001b[39m_jc\n\u001b[1;32m     62\u001b[0m \u001b[38;5;28;01melif\u001b[39;00m \u001b[38;5;28misinstance\u001b[39m(col, \u001b[38;5;28mstr\u001b[39m):\n\u001b[0;32m---> 63\u001b[0m     jcol \u001b[38;5;241m=\u001b[39m \u001b[43m_create_column_from_name\u001b[49m\u001b[43m(\u001b[49m\u001b[43mcol\u001b[49m\u001b[43m)\u001b[49m\n\u001b[1;32m     64\u001b[0m \u001b[38;5;28;01melse\u001b[39;00m:\n\u001b[1;32m     65\u001b[0m     \u001b[38;5;28;01mraise\u001b[39;00m \u001b[38;5;167;01mTypeError\u001b[39;00m(\n\u001b[1;32m     66\u001b[0m         \u001b[38;5;124m\"\u001b[39m\u001b[38;5;124mInvalid argument, not a string or column: \u001b[39m\u001b[38;5;124m\"\u001b[39m\n\u001b[1;32m     67\u001b[0m         \u001b[38;5;124m\"\u001b[39m\u001b[38;5;132;01m{0}\u001b[39;00m\u001b[38;5;124m of type \u001b[39m\u001b[38;5;132;01m{1}\u001b[39;00m\u001b[38;5;124m. \u001b[39m\u001b[38;5;124m\"\u001b[39m\n\u001b[1;32m     68\u001b[0m         \u001b[38;5;124m\"\u001b[39m\u001b[38;5;124mFor column literals, use \u001b[39m\u001b[38;5;124m'\u001b[39m\u001b[38;5;124mlit\u001b[39m\u001b[38;5;124m'\u001b[39m\u001b[38;5;124m, \u001b[39m\u001b[38;5;124m'\u001b[39m\u001b[38;5;124marray\u001b[39m\u001b[38;5;124m'\u001b[39m\u001b[38;5;124m, \u001b[39m\u001b[38;5;124m'\u001b[39m\u001b[38;5;124mstruct\u001b[39m\u001b[38;5;124m'\u001b[39m\u001b[38;5;124m or \u001b[39m\u001b[38;5;124m'\u001b[39m\u001b[38;5;124mcreate_map\u001b[39m\u001b[38;5;124m'\u001b[39m\u001b[38;5;124m \u001b[39m\u001b[38;5;124m\"\u001b[39m\n\u001b[1;32m     69\u001b[0m         \u001b[38;5;124m\"\u001b[39m\u001b[38;5;124mfunction.\u001b[39m\u001b[38;5;124m\"\u001b[39m\u001b[38;5;241m.\u001b[39mformat(col, \u001b[38;5;28mtype\u001b[39m(col))\n\u001b[1;32m     70\u001b[0m     )\n",
      "File \u001b[0;32m/usr/local/spark/python/pyspark/sql/column.py:55\u001b[0m, in \u001b[0;36m_create_column_from_name\u001b[0;34m(name)\u001b[0m\n\u001b[1;32m     54\u001b[0m \u001b[38;5;28;01mdef\u001b[39;00m \u001b[38;5;21m_create_column_from_name\u001b[39m(name: \u001b[38;5;28mstr\u001b[39m) \u001b[38;5;241m-\u001b[39m\u001b[38;5;241m>\u001b[39m \u001b[38;5;124m\"\u001b[39m\u001b[38;5;124mColumn\u001b[39m\u001b[38;5;124m\"\u001b[39m:\n\u001b[0;32m---> 55\u001b[0m     sc \u001b[38;5;241m=\u001b[39m \u001b[43mget_active_spark_context\u001b[49m\u001b[43m(\u001b[49m\u001b[43m)\u001b[49m\n\u001b[1;32m     56\u001b[0m     \u001b[38;5;28;01mreturn\u001b[39;00m cast(JVMView, sc\u001b[38;5;241m.\u001b[39m_jvm)\u001b[38;5;241m.\u001b[39mfunctions\u001b[38;5;241m.\u001b[39mcol(name)\n",
      "File \u001b[0;32m/usr/local/spark/python/pyspark/sql/utils.py:202\u001b[0m, in \u001b[0;36mget_active_spark_context\u001b[0;34m()\u001b[0m\n\u001b[1;32m    200\u001b[0m sc \u001b[38;5;241m=\u001b[39m SparkContext\u001b[38;5;241m.\u001b[39m_active_spark_context\n\u001b[1;32m    201\u001b[0m \u001b[38;5;28;01mif\u001b[39;00m sc \u001b[38;5;129;01mis\u001b[39;00m \u001b[38;5;28;01mNone\u001b[39;00m \u001b[38;5;129;01mor\u001b[39;00m sc\u001b[38;5;241m.\u001b[39m_jvm \u001b[38;5;129;01mis\u001b[39;00m \u001b[38;5;28;01mNone\u001b[39;00m:\n\u001b[0;32m--> 202\u001b[0m     \u001b[38;5;28;01mraise\u001b[39;00m \u001b[38;5;167;01mRuntimeError\u001b[39;00m(\u001b[38;5;124m\"\u001b[39m\u001b[38;5;124mSparkContext or SparkSession should be created first.\u001b[39m\u001b[38;5;124m\"\u001b[39m)\n\u001b[1;32m    203\u001b[0m \u001b[38;5;28;01mreturn\u001b[39;00m sc\n",
      "\u001b[0;31mRuntimeError\u001b[0m: SparkContext or SparkSession should be created first."
     ]
    }
   ],
   "source": [
    "%%time\n",
    "pca_frq = frq(taxi,ct.pickup_ca)\n",
    "pca_frq.show()"
   ]
  },
  {
   "cell_type": "markdown",
   "id": "73284f19-a4c3-4c4d-bd30-4064b765ebb7",
   "metadata": {},
   "source": [
    "### Уникальные значения для \"Census Tract\""
   ]
  },
  {
   "cell_type": "code",
   "execution_count": 36,
   "id": "a6739042-aee7-4391-89f9-41c86dba77d2",
   "metadata": {},
   "outputs": [],
   "source": [
    "def compare_unique_values(df, field1, field2):\n",
    "    # Извлекаем уникальные значения для каждого поля\n",
    "    unique_values_field1 = df.select(field1).distinct().collect()\n",
    "    unique_values_field2 = df.select(field2).distinct().collect()\n",
    "    \n",
    "    # Преобразуем результаты в множества\n",
    "    set_field1 = {row[field1] for row in unique_values_field1}\n",
    "    set_field2 = {row[field2] for row in unique_values_field2}\n",
    "    \n",
    "    # Находим значения, которые есть в set_field1, но нет в set_field2\n",
    "    only_in_field1 = {value for value in set_field1 if value not in set_field2}\n",
    "    \n",
    "    # Находим значения, которые есть в set_field2, но нет в set_field1\n",
    "    only_in_field2 = {value for value in set_field2 if value not in set_field1}\n",
    "    \n",
    "    return only_in_field1, only_in_field2, set_field1, set_field2"
   ]
  },
  {
   "cell_type": "code",
   "execution_count": 37,
   "id": "26af8d45-70bf-4a25-8b9d-9af4b3726760",
   "metadata": {},
   "outputs": [
    {
     "name": "stdout",
     "output_type": "stream",
     "text": [
      "CPU times: user 50.4 ms, sys: 21.3 ms, total: 71.7 ms\n",
      "Wall time: 33.1 s\n"
     ]
    }
   ],
   "source": [
    "%%time\n",
    "only_pickup, only_dropoff, pickup, dropoff = \\\n",
    "compare_unique_values(taxi, ct.pickup_ct,ct.dropoff_ct)"
   ]
  },
  {
   "cell_type": "code",
   "execution_count": 38,
   "id": "0758ed38-b54f-4d28-aea6-d492759f631d",
   "metadata": {},
   "outputs": [
    {
     "name": "stdout",
     "output_type": "stream",
     "text": [
      "`Pickup Census Tract` distinct count: 666  | only in pickup set: 34\n",
      "`Dropoff Census Tract` distinct count: 812  | only in dropoff set: 180\n"
     ]
    }
   ],
   "source": [
    "print('`Pickup Census Tract` distinct count:',len(pickup), ' | only in pickup set:',len(only_pickup))\n",
    "print('`Dropoff Census Tract` distinct count:',len(dropoff), ' | only in dropoff set:',len(only_dropoff))"
   ]
  },
  {
   "cell_type": "code",
   "execution_count": 82,
   "id": "f46ce5a4-15ec-42c1-ad4d-82ab052e6a5d",
   "metadata": {},
   "outputs": [
    {
     "name": "stdout",
     "output_type": "stream",
     "text": [
      "*******-------------*******\n"
     ]
    }
   ],
   "source": [
    "ct.testtt()"
   ]
  },
  {
   "cell_type": "code",
   "execution_count": 83,
   "id": "1530d7ed-377d-4bd2-b645-fe0d1df28372",
   "metadata": {},
   "outputs": [
    {
     "data": {
      "text/plain": [
       "{'trip_i': 'Trip ID',\n",
       " 'taxi_i': 'Taxi ID',\n",
       " 'trip_st': 'Trip Start Timestamp',\n",
       " 'trip_et': 'Trip End Timestamp',\n",
       " 'trip_s': 'Trip Seconds',\n",
       " 'trip_m': 'Trip Miles',\n",
       " 'pickup_ct': 'Pickup Census Tract',\n",
       " 'dropoff_ct': 'Dropoff Census Tract',\n",
       " 'pickup_ca': 'Pickup Community Area',\n",
       " 'dropoff_ca': 'Dropoff Community Area',\n",
       " 'fare': 'Fare',\n",
       " 'tips': 'Tips',\n",
       " 'tolls': 'Tolls',\n",
       " 'extras': 'Extras',\n",
       " 'trip_t': 'Trip Total',\n",
       " 'payment_t': 'Payment Type',\n",
       " 'company': 'Company',\n",
       " 'pickup_cl': 'Pickup Centroid Latitude',\n",
       " 'pickup_clon': 'Pickup Centroid Longitude',\n",
       " 'pickup_cloc': 'Pickup Centroid Location',\n",
       " 'dropoff_cl': 'Dropoff Centroid Latitude',\n",
       " 'dropoff_clon': 'Dropoff Centroid Longitude',\n",
       " 'dropoff_cloc': 'Dropoff Centroid  Location'}"
      ]
     },
     "execution_count": 83,
     "metadata": {},
     "output_type": "execute_result"
    }
   ],
   "source": [
    "ct.get_aliases()"
   ]
  },
  {
   "cell_type": "code",
   "execution_count": 84,
   "id": "6161184d-dfc3-49f4-94ac-6d08db62cfe3",
   "metadata": {},
   "outputs": [
    {
     "data": {
      "text/plain": [
       "[Row(Trip ID='bcfa19f2539021c054809d4c3993d226996ae095', Taxi ID='368ce5511598af2cc07efdb68067d381174fdac1d47a2837d021e647f4c8febb3d9bf330e155845b8217b9b451c29b1b9ecf5d55d4bfe6cfd5d79ffb49b1f334', Trip Start Timestamp='01/01/2022 12:00:00 AM', Trip End Timestamp='01/01/2022 12:00:00 AM', Trip Seconds=152, Trip Miles=0.1, Pickup Census Tract=None, Dropoff Census Tract=None, Pickup Community Area=None, Dropoff Community Area=None, Fare=3.75, Tips=0.0, Tolls=0.0, Extras=0.0, Trip Total=3.75, Payment Type='Cash', Company='Medallion Leasin', Pickup Centroid Latitude=None, Pickup Centroid Longitude=None, Pickup Centroid Location=None, Dropoff Centroid Latitude=None, Dropoff Centroid Longitude=None, Dropoff Centroid  Location=None)]"
      ]
     },
     "execution_count": 84,
     "metadata": {},
     "output_type": "execute_result"
    }
   ],
   "source": [
    "taxi.take(1)"
   ]
  },
  {
   "cell_type": "code",
   "execution_count": 85,
   "id": "0108e596-867e-404e-94b9-3b5cc0903bcb",
   "metadata": {},
   "outputs": [
    {
     "data": {
      "text/plain": [
       "1777033"
      ]
     },
     "execution_count": 85,
     "metadata": {},
     "output_type": "execute_result"
    }
   ],
   "source": [
    "taxi.filter(taxi[ct.trip_m]>10).count()"
   ]
  },
  {
   "cell_type": "code",
   "execution_count": 86,
   "id": "96364e7f-2cc2-49e6-ab7b-8f6f930d7660",
   "metadata": {},
   "outputs": [],
   "source": [
    "long = taxi.filter((taxi[ct.trip_m]>9.9) & (taxi[ct.trip_m]<10.1) \n",
    "                   & taxi[ct.pickup_cl].isNotNull() & taxi[ct.dropoff_cl].isNotNull() \n",
    "                   & taxi[ct.pickup_clon].isNotNull() & taxi[ct.dropoff_clon].isNotNull()\n",
    "                  )"
   ]
  },
  {
   "cell_type": "code",
   "execution_count": 87,
   "id": "c059e801-b167-416f-bbc9-8259813832e7",
   "metadata": {},
   "outputs": [
    {
     "data": {
      "text/plain": [
       "20855"
      ]
     },
     "execution_count": 87,
     "metadata": {},
     "output_type": "execute_result"
    }
   ],
   "source": [
    "long.count()"
   ]
  },
  {
   "cell_type": "code",
   "execution_count": 88,
   "id": "3f934cc9-fd48-40ed-9446-e610a710501e",
   "metadata": {},
   "outputs": [],
   "source": [
    "long = long.withColumn('Distance',(\n",
    "                                ((taxi[ct.pickup_cl]-taxi[ct.dropoff_cl])**2 +\n",
    "                                (taxi[ct.pickup_clon]-taxi[ct.dropoff_clon])**2))**0.5)"
   ]
  },
  {
   "cell_type": "code",
   "execution_count": 89,
   "id": "11398ee0-0610-4f9b-b108-39183a8ff066",
   "metadata": {},
   "outputs": [
    {
     "name": "stdout",
     "output_type": "stream",
     "text": [
      "CPU times: user 6.84 ms, sys: 9.91 ms, total: 16.7 ms\n",
      "Wall time: 242 ms\n"
     ]
    },
    {
     "data": {
      "text/plain": [
       "[Row(Pickup Centroid Latitude=41.901206994, Dropoff Centroid Latitude=41.901206994, Pickup Centroid Longitude=-87.676355989, Dropoff Centroid Longitude=-87.676355989, Distance=0.0),\n",
       " Row(Pickup Centroid Latitude=41.874005383, Dropoff Centroid Latitude=41.9867118, Pickup Centroid Longitude=-87.66351755, Dropoff Centroid Longitude=-87.663416405, Distance=0.11270646238477244),\n",
       " Row(Pickup Centroid Latitude=41.899602111, Dropoff Centroid Latitude=41.839086906, Pickup Centroid Longitude=-87.633308037, Dropoff Centroid Longitude=-87.714003807, Distance=0.10086573913913337),\n",
       " Row(Pickup Centroid Latitude=41.857183858, Dropoff Centroid Latitude=41.9867118, Pickup Centroid Longitude=-87.620334624, Dropoff Centroid Longitude=-87.663416405, Distance=0.1365046798204703),\n",
       " Row(Pickup Centroid Latitude=41.874005383, Dropoff Centroid Latitude=41.857183858, Pickup Centroid Longitude=-87.66351755, Dropoff Centroid Longitude=-87.620334624, Distance=0.046343595040167315),\n",
       " Row(Pickup Centroid Latitude=41.850266366, Dropoff Centroid Latitude=41.954027649, Pickup Centroid Longitude=-87.667569312, Dropoff Centroid Longitude=-87.763399032, Distance=0.1412435452864429),\n",
       " Row(Pickup Centroid Latitude=41.740205756, Dropoff Centroid Latitude=41.874005383, Pickup Centroid Longitude=-87.615969523, Dropoff Centroid Longitude=-87.66351755, Distance=0.14199702481717558),\n",
       " Row(Pickup Centroid Latitude=41.79259236, Dropoff Centroid Latitude=41.874005383, Pickup Centroid Longitude=-87.769615453, Dropoff Centroid Longitude=-87.66351755, Distance=0.1337342339679578),\n",
       " Row(Pickup Centroid Latitude=41.9867118, Dropoff Centroid Latitude=41.857183858, Pickup Centroid Longitude=-87.663416405, Dropoff Centroid Longitude=-87.620334624, Distance=0.1365046798204703),\n",
       " Row(Pickup Centroid Latitude=41.92276062, Dropoff Centroid Latitude=42.001571027, Pickup Centroid Longitude=-87.699155343, Dropoff Centroid Longitude=-87.695012589, Distance=0.07891921605166885)]"
      ]
     },
     "execution_count": 89,
     "metadata": {},
     "output_type": "execute_result"
    }
   ],
   "source": [
    "%%time\n",
    "long.select(ct.pickup_cl,ct.dropoff_cl,ct.pickup_clon,ct.dropoff_clon,'Distance').take(10)"
   ]
  },
  {
   "cell_type": "markdown",
   "id": "13951a92-0a72-465f-adde-6cb61125c7b6",
   "metadata": {},
   "source": [
    "## UDF"
   ]
  },
  {
   "cell_type": "markdown",
   "id": "31f2f9db-2ce4-46a1-9303-4b4c319669c0",
   "metadata": {},
   "source": [
    "#### Пример UDF (с устаревшим способом указания типа UDF)\n",
    "для возврата значения функции норм.распределения вер-ти для 1М случайных значений"
   ]
  },
  {
   "cell_type": "code",
   "execution_count": 90,
   "id": "a26972ec-8994-4f5b-bb60-6e64bd7ba81a",
   "metadata": {},
   "outputs": [
    {
     "name": "stdout",
     "output_type": "stream",
     "text": [
      "+---+------------------+\n",
      "| id|               val|\n",
      "+---+------------------+\n",
      "|  0|0.6627121395028065|\n",
      "|  1|0.7992250359037549|\n",
      "|  2|0.5431878775820032|\n",
      "+---+------------------+\n",
      "only showing top 3 rows\n",
      "\n"
     ]
    },
    {
     "name": "stderr",
     "output_type": "stream",
     "text": [
      "/opt/conda/lib/python3.11/site-packages/pyspark/sql/pandas/functions.py:399: UserWarning: In Python 3.6+ and Spark 3.0+, it is preferred to specify type hints for pandas UDF instead of specifying pandas UDF type which will be deprecated in the future releases. See SPARK-28264 for more details.\n",
      "  warnings.warn(\n"
     ]
    },
    {
     "name": "stdout",
     "output_type": "stream",
     "text": [
      "+---+------------------+-------------------+\n",
      "| id|               val|        probability|\n",
      "+---+------------------+-------------------+\n",
      "|  0|0.6627121395028065| 0.3202887894528127|\n",
      "|  1|0.7992250359037549| 0.2898711218445793|\n",
      "|  2|0.5431878775820032|0.34422317467295227|\n",
      "|  3|0.3136391980518072| 0.3797951287627703|\n",
      "|  4| 0.887399732086023| 0.2690985322764769|\n",
      "+---+------------------+-------------------+\n",
      "only showing top 5 rows\n",
      "\n",
      "CPU times: user 321 ms, sys: 39.4 ms, total: 361 ms\n",
      "Wall time: 3.15 s\n"
     ]
    }
   ],
   "source": [
    "%%time\n",
    "\n",
    "from scipy import stats\n",
    "\n",
    "big_df = (\n",
    "    spark\n",
    "    .range(0, 1_000_000)\n",
    "    .withColumn('val',f.rand())\n",
    ")\n",
    "\n",
    "big_df.cache()\n",
    "big_df.show(3)\n",
    "\n",
    "@f.pandas_udf('double', f.PandasUDFType.SCALAR)\n",
    "def pandas_pdf(v):\n",
    "    return pd.Series(stats.norm.pdf(v))\n",
    "\n",
    "(\n",
    "    big_df\n",
    "    .withColumn('probability', pandas_pdf(big_df.val))\n",
    "    .show(5)\n",
    ")"
   ]
  },
  {
   "cell_type": "markdown",
   "id": "d486427a-7183-4688-97f9-5f57bf93e353",
   "metadata": {},
   "source": [
    "Предупреждение  \n",
    "`/opt/conda/lib/python3.11/site-packages/pyspark/sql/pandas/functions.py:399: UserWarning: In Python 3.6+ and Spark 3.0+, it is preferred to specify type hints for pandas UDF instead of specifying pandas UDF type which will be deprecated in the future releases. See SPARK-28264 for more details.\r\n",
    "  warnings.warn`  \n",
    "\n",
    "связано с устареванием способа указания типа UDF (User Defined Function) в PySpark. Сообщение указывает на то, что начиная с Python 3.6 и Spark 3.0, предпочтительно использовать аннотации типов вместо указания типа UDF через параметр f.PandasUDFType.\n",
    "\n",
    "Конкретно предупреждение означает, что метод указания типа UDF через f.PandasUDFType.SCALAR будет устаревшим в будущих версиях PySpark, и рекомендуется использовать аннотации типов для Pandas UDF. Это сделано для повышения ясности кода и его поддерживаемости"
   ]
  },
  {
   "cell_type": "markdown",
   "id": "f8b2b360-2d14-4cdc-922e-ca61138f0b5e",
   "metadata": {},
   "source": [
    "В `@f.pandas_udf('double', f.PandasUDFType.SCALAR)`\n",
    "- первый параметр `'double'` указывает тип возвращаемого значения ЮДФ,\n",
    "- второй параметр - это тип функции. Если возвращается один столбец (`.Series(...)`), используется `.PandasUDFType.SCALAR`, если возвращается несколько столбцов (pandas `DataFrame(...)`), `.PandasUDFType.GROUPED_MAP`"
   ]
  },
  {
   "cell_type": "markdown",
   "id": "3b36d823-080b-4716-b243-b1f2157dfaea",
   "metadata": {},
   "source": [
    "### Пример UDF (аргумент - Series) с аннотацией типов"
   ]
  },
  {
   "cell_type": "code",
   "execution_count": 91,
   "id": "e34e0443-4ef2-4cda-b209-9013b9d72c20",
   "metadata": {},
   "outputs": [
    {
     "name": "stdout",
     "output_type": "stream",
     "text": [
      "+---+------------------+\n",
      "| id|               val|\n",
      "+---+------------------+\n",
      "|  0|0.9313134857540163|\n",
      "|  1|0.6350425702139387|\n",
      "|  2| 0.520918598957538|\n",
      "+---+------------------+\n",
      "only showing top 3 rows\n",
      "\n",
      "+---+------------------+-------------------+\n",
      "| id|               val|                pdf|\n",
      "+---+------------------+-------------------+\n",
      "|  0|0.9313134857540163|0.25856428335881904|\n",
      "|  1|0.6350425702139387| 0.3260912378075341|\n",
      "|  2| 0.520918598957538|0.34832594062084027|\n",
      "+---+------------------+-------------------+\n",
      "only showing top 3 rows\n",
      "\n",
      "CPU times: user 23.6 ms, sys: 1.26 ms, total: 24.9 ms\n",
      "Wall time: 2.47 s\n"
     ]
    }
   ],
   "source": [
    "%%time\n",
    "from pyspark.sql.types import DoubleType\n",
    "\n",
    "big_df = (\n",
    "    spark\n",
    "    .range(0, 1_000_000)\n",
    "    .withColumn('val', f.rand())\n",
    ")\n",
    "\n",
    "big_df.cache()\n",
    "big_df.show(3)\n",
    "\n",
    "@f.pandas_udf(DoubleType())\n",
    "def pandas_pdf(v: pd.Series) -> pd.Series:\n",
    "    return pd.Series(stats.norm.pdf(v))\n",
    "\n",
    "result = big_df.withColumn('pdf', pandas_pdf(f.col('val')))\n",
    "result.show(3)"
   ]
  },
  {
   "cell_type": "markdown",
   "id": "38e3bbc7-9015-4c18-8478-e47a8ae347af",
   "metadata": {},
   "source": [
    "Здесь `DoubleType()` используется вместо `f.PandasUDFType.SCALAR`, и типы указаны непосредственно в аннотациях функции `(v: pd.Series) -> pd.Series`. Это улучшает читаемость кода и соответствует новым стандартам PySpark."
   ]
  },
  {
   "cell_type": "markdown",
   "id": "11e067f2-4e7f-4479-badf-ef564dadbec5",
   "metadata": {},
   "source": [
    "В актуальном способе указания типов для PySpark UDF для определения UDF, которая возвращает несколько столбцов (pandas DataFrame), вы можете использовать аннотацию функции и указание типа возвращаемого значения при помощи PySpark StructType. В этом случае вам понадобится указать схему (schema), описывающую структуру возвращаемого DataFrame."
   ]
  },
  {
   "cell_type": "code",
   "execution_count": 92,
   "id": "04ff4ad3-c243-48ad-89ee-2ac33b1d3c4b",
   "metadata": {},
   "outputs": [
    {
     "name": "stdout",
     "output_type": "stream",
     "text": [
      "+-----------------+\n",
      "|my_udf(input_col)|\n",
      "+-----------------+\n",
      "|       {2.0, 1.0}|\n",
      "|       {4.0, 2.0}|\n",
      "|       {6.0, 3.0}|\n",
      "+-----------------+\n",
      "\n"
     ]
    }
   ],
   "source": [
    "from pyspark.sql.functions import pandas_udf\n",
    "from pyspark.sql.types import StructType, StructField, DoubleType, StringType\n",
    "\n",
    "# Определяем схему возвращаемого DataFrame\n",
    "schema = StructType([\n",
    "    StructField(\"col1\", DoubleType(), True),\n",
    "    StructField(\"col2\", StringType(), True)\n",
    "])\n",
    "\n",
    "# Определяем Pandas UDF\n",
    "@pandas_udf(schema)\n",
    "def my_udf(input_col: pd.Series) -> pd.DataFrame:\n",
    "    # Ваш код для обработки DataFrame\n",
    "    result = pd.DataFrame({\n",
    "        \"col1\": input_col * 2,\n",
    "        \"col2\": input_col.astype(str)\n",
    "    })\n",
    "    return result\n",
    "\n",
    "# Создаем DataFrame\n",
    "df = spark.createDataFrame(\n",
    "    [(1.0,), (2.0,), (3.0,)],\n",
    "    ['input_col']\n",
    ")\n",
    "\n",
    "# Применяем UDF к столбцу\n",
    "df.select(my_udf(df['input_col'])).show()"
   ]
  },
  {
   "cell_type": "markdown",
   "id": "d7e70a56-c5a1-49e8-b2e0-9a9295f8768b",
   "metadata": {},
   "source": [
    "Pandas UDF в PySpark может принимать несколько pandas Series объектов в качестве аргументов. Для этого необходимо использовать декоратор @pandas_udf и определить схему выходного DataFrame."
   ]
  },
  {
   "cell_type": "code",
   "execution_count": 93,
   "id": "fae0e4fc-5ab5-4c02-a092-ea7ac440ab55",
   "metadata": {},
   "outputs": [
    {
     "name": "stdout",
     "output_type": "stream",
     "text": [
      "+------------------------------+\n",
      "|my_udf(input_col1, input_col2)|\n",
      "+------------------------------+\n",
      "|                    {3.0, 2.0}|\n",
      "|                   {7.0, 12.0}|\n",
      "|                  {11.0, 30.0}|\n",
      "+------------------------------+\n",
      "\n"
     ]
    }
   ],
   "source": [
    "# Определяем схему выходного DataFrame\n",
    "output_schema = StructType([\n",
    "    StructField('output_col1', DoubleType()),\n",
    "    StructField('output_col2', DoubleType())\n",
    "])\n",
    "\n",
    "# Определяем Pandas UDF с использованием декоратора @pandas_udf\n",
    "@pandas_udf(output_schema)\n",
    "def my_udf(input_col1: pd.Series, input_col2: pd.Series) -> pd.DataFrame:\n",
    "    # Создаем DataFrame из двух входных Series\n",
    "    output_df = pd.DataFrame({\n",
    "        'output_col1': input_col1 + input_col2,\n",
    "        'output_col2': input_col1 * input_col2\n",
    "    })\n",
    "    return output_df\n",
    "\n",
    "# Создаем DataFrame для теста\n",
    "df = spark.createDataFrame(\n",
    "    [(1.0, 2.0), (3.0, 4.0), (5.0, 6.0)],\n",
    "    ['input_col1', 'input_col2']\n",
    ")\n",
    "\n",
    "# Применяем Pandas UDF к DataFrame\n",
    "result_df = df.select(my_udf(df['input_col1'], df['input_col2']))\n",
    "result_df.show()"
   ]
  },
  {
   "cell_type": "markdown",
   "id": "d4a6e373-53b4-4039-8b08-ad4378a8acfe",
   "metadata": {},
   "source": [
    "### Пример UDF (аргумент - DataFrame) с аннотацией типов"
   ]
  },
  {
   "cell_type": "markdown",
   "id": "5ba50e1c-06d1-4019-becc-b3b789f5a760",
   "metadata": {},
   "source": [
    "Вы можете передать в UDF аргумент в виде DataFrame, но это будет работать только с UDF типа GROUPED_MAP. В этом случае каждый входной DataFrame будет представлять собой группу данных, по которой будет выполняться UDF. Для этого типа UDF вам необходимо определить схему входного DataFrame и схему выходного DataFrame."
   ]
  },
  {
   "cell_type": "code",
   "execution_count": 94,
   "id": "5e99fded-d065-40d9-b3e5-12e9e548143c",
   "metadata": {},
   "outputs": [
    {
     "name": "stderr",
     "output_type": "stream",
     "text": [
      "/opt/conda/lib/python3.11/site-packages/pyspark/sql/pandas/group_ops.py:103: UserWarning: It is preferred to use 'applyInPandas' over this API. This API will be deprecated in the future releases. See SPARK-28264 for more details.\n",
      "  warnings.warn(\n"
     ]
    },
    {
     "name": "stdout",
     "output_type": "stream",
     "text": [
      "+----+----+----+\n",
      "|col1|col2|col3|\n",
      "+----+----+----+\n",
      "| 3.0| 4.0| 7.0|\n",
      "| 1.0| 2.0| 3.0|\n",
      "| 5.0| 6.0|11.0|\n",
      "+----+----+----+\n",
      "\n"
     ]
    }
   ],
   "source": [
    "# Определяем схему входного DataFrame\n",
    "input_schema = StructType([\n",
    "    StructField(\"col1\", DoubleType(), True),\n",
    "    StructField(\"col2\", DoubleType(), True)\n",
    "])\n",
    "\n",
    "# Определяем схему возвращаемого DataFrame\n",
    "output_schema = StructType([\n",
    "    StructField(\"col1\", DoubleType(), True),\n",
    "    StructField(\"col2\", DoubleType(), True),\n",
    "    StructField(\"col3\", StringType(), True)\n",
    "])\n",
    "\n",
    "# Определяем Pandas UDF типа GROUPED_MAP\n",
    "@pandas_udf(output_schema, f.PandasUDFType.GROUPED_MAP)\n",
    "def my_udf(pdf: pd.DataFrame) -> pd.DataFrame:\n",
    "    # Ваш код для обработки DataFrame\n",
    "    pdf[\"col3\"] = (pdf[\"col1\"] + pdf[\"col2\"]).astype(str)\n",
    "    return pdf\n",
    "\n",
    "# Создаем DataFrame\n",
    "df = spark.createDataFrame(\n",
    "    [(1.0, 2.0), (3.0, 4.0), (5.0, 6.0)],\n",
    "    ['col1', 'col2']\n",
    ")\n",
    "\n",
    "# Применяем UDF к DataFrame с использованием groupBy и apply\n",
    "# В данном случае мы используем groupBy().apply() даже без явного группирования\n",
    "df.groupBy().apply(my_udf).show()"
   ]
  },
  {
   "cell_type": "markdown",
   "id": "5f1bc7f6-16d8-4864-a392-d58fbdcceed8",
   "metadata": {},
   "source": [
    "Возможное предупреждение  \n",
    "`/opt/conda/lib/python3.11/site-packages/pyspark/sql/pandas/group_ops.py:103: UserWarning: It is preferred to use 'applyInPandas' over this API. This API will be deprecated in the future releases. See SPARK-28264 for more details.\n",
    "  warnings.warn(`  \n",
    "говорит о том, что используется устаревший способ `df.groupBy().apply(my_udf).show()`. Pandas UDFs с использованием `applyInPandas` предоставляют более современный и предпочтительный способ обработки pandas DataFrame."
   ]
  },
  {
   "cell_type": "markdown",
   "id": "7079987e-4705-42ab-b22b-9cbaf7df180e",
   "metadata": {},
   "source": [
    "Pandas UDF в режиме GROUPED_MAP не поддерживает передачу нескольких pandas DataFrame в качестве отдельных аргументов. Вместо этого вы должны объединить данные в один DataFrame до передачи в функцию. В режиме SCALAR Pandas UDF может принимать несколько Series в качестве аргументов.\n",
    "\n",
    "Для использования нескольких pandas DataFrame в Pandas UDF с декоратором @pandas_udf в режиме GROUPED_MAP, вам нужно объединить два DataFrame в один перед тем, как вызывать функцию. PySpark Pandas UDF с типом GROUPED_MAP ожидает один pandas DataFrame в качестве аргумента"
   ]
  },
  {
   "cell_type": "code",
   "execution_count": 95,
   "id": "12113131-d532-462d-8227-87f98f9cb725",
   "metadata": {},
   "outputs": [
    {
     "name": "stdout",
     "output_type": "stream",
     "text": [
      "+---+-----------+-----------+\n",
      "| id|output_col1|output_col2|\n",
      "+---+-----------+-----------+\n",
      "|  1|        3.0|        2.0|\n",
      "|  2|        7.0|       12.0|\n",
      "|  3|       11.0|       30.0|\n",
      "+---+-----------+-----------+\n",
      "\n"
     ]
    }
   ],
   "source": [
    "from pyspark.sql.types import StructType, StructField, DoubleType, IntegerType\n",
    "\n",
    "# Определяем схему выходного DataFrame\n",
    "output_schema = StructType([\n",
    "    StructField('id', IntegerType()),\n",
    "    StructField('output_col1', DoubleType()),\n",
    "    StructField('output_col2', DoubleType())\n",
    "])\n",
    "\n",
    "# Определяем Pandas UDF с использованием декоратора @pandas_udf\n",
    "@pandas_udf(output_schema, f.PandasUDFType.GROUPED_MAP)\n",
    "def my_udf(pdf: pd.DataFrame) -> pd.DataFrame:\n",
    "    # Создаем выходной DataFrame\n",
    "    output_df = pd.DataFrame({\n",
    "        'id': pdf['id'],\n",
    "        'output_col1': pdf['input_col1'] + pdf['input_col2'],\n",
    "        'output_col2': pdf['input_col1'] * pdf['input_col2']\n",
    "    })\n",
    "    return output_df\n",
    "\n",
    "# Создаем два DataFrame для теста\n",
    "df1 = spark.createDataFrame(\n",
    "    [(1, 1.0), (2, 3.0), (3, 5.0)],\n",
    "    ['id', 'input_col1']\n",
    ")\n",
    "\n",
    "df2 = spark.createDataFrame(\n",
    "    [(1, 2.0), (2, 4.0), (3, 6.0)],\n",
    "    ['id', 'input_col2']\n",
    ")\n",
    "\n",
    "# Объединяем два DataFrame по столбцу 'id'\n",
    "df = df1.join(df2, on='id')\n",
    "\n",
    "# Применяем Pandas UDF к DataFrame с использованием groupBy\n",
    "result_df = df.groupBy('id').apply(my_udf)\n",
    "result_df.show()"
   ]
  },
  {
   "cell_type": "markdown",
   "id": "5c349bb5-a91a-4427-8c55-68a572ffb97b",
   "metadata": {},
   "source": [
    "### Сравнение производительности векторизированой и не_ ЮДФ"
   ]
  },
  {
   "cell_type": "code",
   "execution_count": 96,
   "id": "2cf26fbc-5582-4bdc-bcc2-7afa4e7ab81a",
   "metadata": {},
   "outputs": [],
   "source": [
    "big_df = (\n",
    "    spark\n",
    "    .range(0, 1_000_000)\n",
    "    .withColumn('val',f.rand())\n",
    ")"
   ]
  },
  {
   "cell_type": "code",
   "execution_count": 97,
   "id": "c0cba0e8-b839-4f44-af70-45625e39f8f8",
   "metadata": {},
   "outputs": [
    {
     "name": "stdout",
     "output_type": "stream",
     "text": [
      "+------------------+\n",
      "|count(probability)|\n",
      "+------------------+\n",
      "|           1000000|\n",
      "+------------------+\n",
      "\n",
      "+------------------+\n",
      "|count(probability)|\n",
      "+------------------+\n",
      "|           1000000|\n",
      "+------------------+\n",
      "\n",
      "+------------------+\n",
      "|count(probability)|\n",
      "+------------------+\n",
      "|           1000000|\n",
      "+------------------+\n",
      "\n",
      "+------------------+\n",
      "|count(probability)|\n",
      "+------------------+\n",
      "|           1000000|\n",
      "+------------------+\n",
      "\n",
      "+------------------+\n",
      "|count(probability)|\n",
      "+------------------+\n",
      "|           1000000|\n",
      "+------------------+\n",
      "\n",
      "+------------------+\n",
      "|count(probability)|\n",
      "+------------------+\n",
      "|           1000000|\n",
      "+------------------+\n",
      "\n",
      "+------------------+\n",
      "|count(probability)|\n",
      "+------------------+\n",
      "|           1000000|\n",
      "+------------------+\n",
      "\n",
      "711 ms ± 346 ms per loop (mean ± std. dev. of 7 runs, 1 loop each)\n"
     ]
    }
   ],
   "source": [
    "def test_pandas_pdf():\n",
    "    return (\n",
    "        big_df\n",
    "        .withColumn('probability', pandas_pdf(big_df.val))\n",
    "        .agg(f.count(f.col('probability')))\n",
    "        .show()\n",
    "    )\n",
    "\n",
    "%timeit -n 1 test_pandas_pdf()"
   ]
  },
  {
   "cell_type": "code",
   "execution_count": 98,
   "id": "e438425a-b2c7-441e-9252-8f7941e011b0",
   "metadata": {},
   "outputs": [
    {
     "name": "stdout",
     "output_type": "stream",
     "text": [
      "+------------------+\n",
      "|count(probability)|\n",
      "+------------------+\n",
      "|           1000000|\n",
      "+------------------+\n",
      "\n",
      "+------------------+\n",
      "|count(probability)|\n",
      "+------------------+\n",
      "|           1000000|\n",
      "+------------------+\n",
      "\n",
      "+------------------+\n",
      "|count(probability)|\n",
      "+------------------+\n",
      "|           1000000|\n",
      "+------------------+\n",
      "\n",
      "+------------------+\n",
      "|count(probability)|\n",
      "+------------------+\n",
      "|           1000000|\n",
      "+------------------+\n",
      "\n",
      "+------------------+\n",
      "|count(probability)|\n",
      "+------------------+\n",
      "|           1000000|\n",
      "+------------------+\n",
      "\n",
      "+------------------+\n",
      "|count(probability)|\n",
      "+------------------+\n",
      "|           1000000|\n",
      "+------------------+\n",
      "\n",
      "+------------------+\n",
      "|count(probability)|\n",
      "+------------------+\n",
      "|           1000000|\n",
      "+------------------+\n",
      "\n",
      "36.7 s ± 1.42 s per loop (mean ± std. dev. of 7 runs, 1 loop each)\n"
     ]
    }
   ],
   "source": [
    "#row-by-row version with Python-JVM conversion\n",
    "@f.udf('double')\n",
    "def pdf(v):\n",
    "    return float(stats.norm.pdf(v))\n",
    "\n",
    "def test_pdf():\n",
    "    return (\n",
    "        big_df\n",
    "        .withColumn('probability', pdf(big_df.val))\n",
    "        .agg(f.count(f.col('probability')))\n",
    "        .show()\n",
    "    )\n",
    "\n",
    "%timeit -n 1 test_pdf()"
   ]
  },
  {
   "cell_type": "markdown",
   "id": "c0260961-d3f0-408f-8fcc-03e753fa5bc5",
   "metadata": {},
   "source": [
    "Результат для векторизированной ЮДФ - 903 ms, против не_ - 34.4 s\n",
    "\n",
    "Отличие приверно в 40 раз!"
   ]
  },
  {
   "cell_type": "markdown",
   "id": "1c075a1a-a9e9-4212-92bc-059d6684c433",
   "metadata": {},
   "source": [
    "### Использование объектов pandas в Pandas UDF\n",
    "\n",
    "В **Pandas UDF** (User Defined Function) с использование декоратора `@pandas_udf` в Spark DataFrame API, функция pandas_pdf принимает один или несколько pandas Series (DataFrame) объектов и возвращает pandas Series (DataFrame) объект. В этом случае, pandas_pdf принимает Series v (который представляет собой значения из столбца val в DataFrame) и возвращает Series, содержащий значения, вычисленные с использованием функции stats.norm.pdf().\n",
    "\n",
    "Возвращая `pd.Series(stats.norm.pdf(v))`, мы создаем объект Pandas Series, который содержит значения, вычисленные с помощью функции `stats.norm.pdf()`, примененные к каждому элементу входного Series v. Это необходимо потому, что Spark использует PyArrow для обмена данными между JVM и Python, и PyArrow не может обрабатывать объекты `stats.norm.pdf(v)` напрямую, так как они не являются объектами pandas.\n",
    "\n",
    "Поэтому, оборачивая результат stats.norm.pdf(v) в pd.Series(), мы создаем объект pandas, который Spark может обработать, и возвращаем его из функции pandas_pdf."
   ]
  },
  {
   "cell_type": "markdown",
   "id": "aa056b4d-cf76-48a6-b6d3-88bd694310bf",
   "metadata": {},
   "source": [
    "## .cache() .unpersist() - кэш памяти"
   ]
  },
  {
   "cell_type": "markdown",
   "id": "a893e67b-1815-44c9-abcb-381652cd4b4b",
   "metadata": {},
   "source": [
    "Когда вы вызываете `big_df.cache()`, вы помещаете DataFrame big_df в **кэш памяти**. Это означает, что DataFrame будет кэширован в памяти и будет доступен для быстрого доступа к данным при последующих операциях.\n",
    "\n",
    "Однако, если у вас есть ограничения на использование памяти или если кэш становится необходимым для других операций, вы можете явно удалить кэш с помощью метода `unpersist()`.\n",
    "\n",
    "Это удалит кэш из памяти и освободит ресурсы, занимаемые DataFrame big_df. Если вы не удаляете кэш явно с помощью unpersist(), DataFrame останется в кэше и будет занимать память до тех пор, пока не будет удален Spark контекст или пока явно не будет вызвана операция `unpersist()`"
   ]
  },
  {
   "cell_type": "code",
   "execution_count": 99,
   "id": "1c9dc903-7e1e-4bdf-9657-59d95cd471b2",
   "metadata": {},
   "outputs": [
    {
     "data": {
      "text/plain": [
       "DataFrame[id: bigint, val: double]"
      ]
     },
     "execution_count": 99,
     "metadata": {},
     "output_type": "execute_result"
    }
   ],
   "source": [
    "big_df.unpersist()"
   ]
  },
  {
   "cell_type": "markdown",
   "id": "38be90c3-fa49-4296-a82d-acf368a0e911",
   "metadata": {},
   "source": [
    "## Apache Arrow Memory & runtime switch"
   ]
  },
  {
   "cell_type": "markdown",
   "id": "e67575ea-37bf-4abb-8042-6669230189cf",
   "metadata": {},
   "source": [
    "До версии ПиСпарк 2.3 использование ЮДФ в Питоне проигрывало по производительности Скале и Джаве (из-за переключений времени выполнения `runtime` между Питон и JVM).\n",
    "\n",
    "С версии 2.3 Спарк начал использовать **Apache Arrow Memory** - общее пространство памяти для разных сред окружения, поэтому отпала необходимость и расходны на конвертацию объектов.\n",
    "\n",
    "Также Arrow хранит в памяти **столбчатые объекты** (columnar objects), что повышает производительность. Используя это, ПиСпарк отрефакторилился, в результате чего мы получили **векторизированные ЮДФ**."
   ]
  },
  {
   "cell_type": "markdown",
   "id": "b5fa731e-51c9-447b-8236-42593ab214fb",
   "metadata": {},
   "source": [
    "В аспектах программирования и операционных систем (в частности, процессов и потоков), термины \"runtime\" и \"switch runtime\" имеют разные значения. Давайте рассмотрим их подробнее:\n",
    "\n",
    "**Runtime**  \n",
    "**Программирование:**  \n",
    "`Runtime` (время выполнения) - это фаза, когда программа исполняется. В это время происходят все динамические операции, такие как выполнение кода, управление памятью, обработка исключений и т.д. Например, в Python есть интерпретатор, который выполняет код во время исполнения программы.\n",
    "`Runtime Environment` (среда выполнения) - это окружение, в котором исполняется программа. Оно включает в себя библиотеки, интерпретаторы (например, `Python Interpreter`) или виртуальные машины (например, `Java Virtual Machine`).  \n",
    "**Процессы и потоки ОС:**  \n",
    "`Runtime` в контексте ОС может также относиться к продолжительности времени, когда процесс или поток активен и выполняется на процессоре. Это время исполнения может включать в себя время, проведенное на процессоре, и время ожидания (например, ожидание ввода-вывода).\n",
    "\n",
    "**Switch Runtime**  \n",
    "**Программирование:**  \n",
    "`Switch Runtime` (переключение времени выполнения) в программировании часто означает смену среды выполнения для кода. Например, если вы хотите исполнять код, написанный на Python, в среде JVM, это может потребовать использование специального инструмента или транслятора, который позволит исполнять Python-код на Java Virtual Machine (например, Jython).  \n",
    "**Процессы и потоки ОС:**  \n",
    "`Context Switch` (переключение контекста) - это процесс, при котором операционная система переключается от выполнения одного процесса или потока к другому. Это необходимо для многозадачности, чтобы несколько процессов могли совместно использовать ресурсы процессора.\n",
    "В данном контексте, \"switch runtime\" может подразумевать переключение между разными процессами или потоками в ходе их выполнения. То есть операционная система переключает время выполнения между различными задачами для обеспечения параллелизма и эффективного использования процессора.\n",
    "\n",
    "**Примеры**  \n",
    "**Программирование:**  \n",
    "Вы используете Python для разработки, но вам нужно интегрировать код с существующим приложением на Java. Вы используете Jython для \"switch runtime\" и исполняете Python-код в JVM.\n",
    "**Процессы и потоки ОС:**  \n",
    "В многозадачной операционной системе несколько программ работают одновременно. Процессор переключается между задачами (процессами) каждые несколько миллисекунд, обеспечивая иллюзию параллельного выполнения. Это и есть \"context switch\".\n",
    "\n",
    "**Резюме**  \n",
    "`Runtime` (время выполнения): в программировании - фаза исполнения программы; в ОС - время, когда процесс или поток активно выполняется.\n",
    "`Switch Runtime` (переключение времени выполнения): в программировании - смена среды выполнения для кода; в ОС - переключение контекста между процессами или потоками для многозадачности."
   ]
  },
  {
   "cell_type": "markdown",
   "id": "c8222495-788b-4573-9395-7518855a028a",
   "metadata": {},
   "source": [
    "## Объекты Column. Обращение к столбцам через точку"
   ]
  },
  {
   "cell_type": "markdown",
   "id": "43d8d65d-ee39-486a-8980-86c5b28e28c7",
   "metadata": {},
   "source": [
    "Обращение к полям DataFrame в ПиСпарк через точку, если имена полей содержат несколько слов через пробел, невозможно - необходимо использовать квадратные скобки и строковые индексы."
   ]
  },
  {
   "cell_type": "code",
   "execution_count": 100,
   "id": "1144db76-a0f2-45e3-92dc-5bd238d9dd5e",
   "metadata": {},
   "outputs": [
    {
     "name": "stdout",
     "output_type": "stream",
     "text": [
      "+-----------+---+\n",
      "|  full name|age|\n",
      "+-----------+---+\n",
      "|   John Doe| 30|\n",
      "| Jane Smith| 25|\n",
      "|Bob Johnson| 35|\n",
      "+-----------+---+\n",
      "\n",
      "+-----------+\n",
      "|  full name|\n",
      "+-----------+\n",
      "|   John Doe|\n",
      "| Jane Smith|\n",
      "|Bob Johnson|\n",
      "+-----------+\n",
      "\n",
      "Column<'full name'>\n",
      "Column<'age'>\n"
     ]
    },
    {
     "ename": "TypeError",
     "evalue": "'Column' object is not callable",
     "output_type": "error",
     "traceback": [
      "\u001b[0;31m---------------------------------------------------------------------------\u001b[0m",
      "\u001b[0;31mTypeError\u001b[0m                                 Traceback (most recent call last)",
      "Cell \u001b[0;32mIn[100], line 12\u001b[0m\n\u001b[1;32m     10\u001b[0m \u001b[38;5;28mprint\u001b[39m(df[\u001b[38;5;124m\"\u001b[39m\u001b[38;5;124mfull name\u001b[39m\u001b[38;5;124m\"\u001b[39m])\n\u001b[1;32m     11\u001b[0m \u001b[38;5;28mprint\u001b[39m(df\u001b[38;5;241m.\u001b[39mage)\n\u001b[0;32m---> 12\u001b[0m \u001b[43mdf\u001b[49m\u001b[38;5;241;43m.\u001b[39;49m\u001b[43mage\u001b[49m\u001b[38;5;241;43m.\u001b[39;49m\u001b[43mshow\u001b[49m\u001b[43m(\u001b[49m\u001b[43m)\u001b[49m\n",
      "\u001b[0;31mTypeError\u001b[0m: 'Column' object is not callable"
     ]
    }
   ],
   "source": [
    "data = [(\"John Doe\", 30), (\"Jane Smith\", 25), (\"Bob Johnson\", 35)]\n",
    "columns = [\"full name\", \"age\"]\n",
    "\n",
    "# Создание DataFrame\n",
    "df = spark.createDataFrame(data, schema=columns)\n",
    "\n",
    "# Обращение к полям через точку\n",
    "df.show()\n",
    "df.select(\"full name\").show()\n",
    "print(df[\"full name\"])\n",
    "print(df.age)\n",
    "df.age.show()"
   ]
  },
  {
   "cell_type": "markdown",
   "id": "e451537f-708d-4cbd-8264-d8f4fac9a9bf",
   "metadata": {},
   "source": [
    "Для инструкции `df.age.show()` получим ошибку TypeError: 'Column' object is not callable. Обращение к столбцам через точку, как в df.age, может вызвать ошибку TypeError, так как это возвращает объект Column, который не является вызываемым (callable) для метода show().\n",
    "\n",
    "Объекты `df.age` и `df[\"full name\"]` в PySpark являются объектами типа Column. Column - это абстракция, представляющая столбец данных в DataFrame. Объект Column обеспечивает различные методы для выполнения операций на столбцах данных, таких как вычисления, фильтрация, агрегация и т. д.\n",
    "\n",
    "Чтобы использовать объект Column, вы можете использовать его методы для создания новых столбцов, применения функций к существующим столбцам и других операций с данными в DataFrame. Например, вы можете использовать объект Column для создания нового столбца, содержащего возраст пассажиров в годах путем деления столбца \"age\" на 10."
   ]
  },
  {
   "cell_type": "code",
   "execution_count": null,
   "id": "c296fc7b-7c53-4714-8f2d-03b6224b49dc",
   "metadata": {},
   "outputs": [],
   "source": [
    "df = df.withColumn(\"age_in_decades\", df.age/10)\n",
    "df.show()"
   ]
  },
  {
   "cell_type": "markdown",
   "id": "e7ed8de4-3f06-47c9-9a16-01a03721db29",
   "metadata": {},
   "source": [
    "Или можете отфильтровать датафрейм по полю"
   ]
  },
  {
   "cell_type": "code",
   "execution_count": null,
   "id": "ad9be782-509e-46e7-bbe3-0f83a9c8d7cb",
   "metadata": {},
   "outputs": [],
   "source": [
    "df.filter(df.age_in_decades > 3).show()"
   ]
  },
  {
   "cell_type": "code",
   "execution_count": null,
   "id": "5bd72ae5-fab7-4f3f-8ddc-cad52d4f6967",
   "metadata": {},
   "outputs": [],
   "source": []
  },
  {
   "cell_type": "code",
   "execution_count": null,
   "id": "5472158d-d8ef-457c-8138-165261ce5392",
   "metadata": {},
   "outputs": [],
   "source": []
  }
 ],
 "metadata": {
  "kernelspec": {
   "display_name": "Python 3 (ipykernel)",
   "language": "python",
   "name": "python3"
  },
  "language_info": {
   "codemirror_mode": {
    "name": "ipython",
    "version": 3
   },
   "file_extension": ".py",
   "mimetype": "text/x-python",
   "name": "python",
   "nbconvert_exporter": "python",
   "pygments_lexer": "ipython3",
   "version": "3.11.4"
  }
 },
 "nbformat": 4,
 "nbformat_minor": 5
}
