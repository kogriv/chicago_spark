{
 "cells": [
  {
   "cell_type": "code",
   "execution_count": 1,
   "id": "4c22c0b8-1ea3-417e-8289-34ca57326d7d",
   "metadata": {},
   "outputs": [],
   "source": [
    "from ChiSpark import Connection as cn"
   ]
  },
  {
   "cell_type": "code",
   "execution_count": 2,
   "id": "55a91437-60e9-4bc2-a9cb-58365f000efd",
   "metadata": {},
   "outputs": [
    {
     "name": "stderr",
     "output_type": "stream",
     "text": [
      "INFO:chispark_connection:spark_master_ip: 172.18.0.2\n",
      "INFO:chispark_connection:starting building spark app object: pyspark-taxi-forecasting\n",
      "INFO:chispark_connection:builded spark app object: <pyspark.sql.session.SparkSession object at 0x7fc9baec9990>\n"
     ]
    }
   ],
   "source": [
    "spark = cn.spark_app_builder(cn.get_spark_master_ip(),\n",
    "                             spark_app_name = \"pyspark-taxi-forecasting\")"
   ]
  },
  {
   "cell_type": "code",
   "execution_count": null,
   "id": "bd3057ea-d134-44c2-adba-42b0cc4daaa5",
   "metadata": {},
   "outputs": [],
   "source": []
  }
 ],
 "metadata": {
  "kernelspec": {
   "display_name": "Python 3 (ipykernel)",
   "language": "python",
   "name": "python3"
  },
  "language_info": {
   "codemirror_mode": {
    "name": "ipython",
    "version": 3
   },
   "file_extension": ".py",
   "mimetype": "text/x-python",
   "name": "python",
   "nbconvert_exporter": "python",
   "pygments_lexer": "ipython3",
   "version": "3.11.4"
  }
 },
 "nbformat": 4,
 "nbformat_minor": 5
}
