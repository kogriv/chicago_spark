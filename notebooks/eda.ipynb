{
 "cells": [
  {
   "cell_type": "code",
   "execution_count": 1,
   "id": "a2f9b287-4613-4f96-9125-2472424b9cfd",
   "metadata": {
    "editable": true,
    "slideshow": {
     "slide_type": ""
    },
    "tags": []
   },
   "outputs": [],
   "source": [
    "import os\n",
    "import sys"
   ]
  },
  {
   "cell_type": "code",
   "execution_count": 2,
   "id": "07c57728-71d4-43e9-a453-c5d23d6a57a3",
   "metadata": {
    "editable": true,
    "slideshow": {
     "slide_type": ""
    },
    "tags": []
   },
   "outputs": [],
   "source": [
    "import pandas as pd\n",
    "from scipy import stats"
   ]
  },
  {
   "cell_type": "code",
   "execution_count": 3,
   "id": "efbb9443-57d6-4aab-ad7d-c67719e98e03",
   "metadata": {
    "editable": true,
    "slideshow": {
     "slide_type": ""
    },
    "tags": []
   },
   "outputs": [],
   "source": [
    "from importlib import reload\n",
    "import time\n",
    "from tqdm import tqdm"
   ]
  },
  {
   "cell_type": "code",
   "execution_count": 4,
   "id": "d04534c3-1092-4cb4-9ed0-2a6b99acbaa6",
   "metadata": {},
   "outputs": [],
   "source": [
    "import matplotlib.pyplot as plt\n",
    "%matplotlib inline"
   ]
  },
  {
   "cell_type": "code",
   "execution_count": 5,
   "id": "c506d768-519f-49a0-9af6-b44cbcf036bb",
   "metadata": {},
   "outputs": [],
   "source": [
    "from enviserv.dictan import DictAnalyzer # анализ словарей\n",
    "import pandserv as pds # форматирование небольших пандас ДФ"
   ]
  },
  {
   "cell_type": "code",
   "execution_count": 6,
   "id": "4c22c0b8-1ea3-417e-8289-34ca57326d7d",
   "metadata": {},
   "outputs": [],
   "source": [
    "from sparkserv import SparkApp, Cols\n",
    "# в SparkApp упакованы функции создания спарк приложения \n",
    "# с определением IP мастер-ноды и с подключением к кластеру\n",
    "\n",
    "# Col - класс для формирования коротких псевдонимов имен столбцов\n",
    "# при этом исходные имена полей не меняются"
   ]
  },
  {
   "cell_type": "code",
   "execution_count": 7,
   "id": "63596c0d-9087-4e1a-80e3-a1fd7a90babe",
   "metadata": {},
   "outputs": [],
   "source": [
    "import pyspark.sql.functions as f"
   ]
  },
  {
   "cell_type": "markdown",
   "id": "e7e47d77-cebf-4472-99e9-c2e852867df5",
   "metadata": {},
   "source": [
    "### Создание сессии, загрузка данных"
   ]
  },
  {
   "cell_type": "code",
   "execution_count": 8,
   "id": "f6c292a0-9c16-44d8-8aa6-e5a51b5e08ae",
   "metadata": {},
   "outputs": [
    {
     "name": "stderr",
     "output_type": "stream",
     "text": [
      "INFO:spark_app:spark_master_ip: 172.18.0.2\n",
      "INFO:spark_app:pyspark version: 3.4.1\n",
      "INFO:spark_app:starting building spark app object: pyspark-taxi-forecasting\n",
      "INFO:spark_app:Spark app object built as: <pyspark.sql.session.SparkSession object at 0x7fb988e0b210>\n",
      "INFO:spark_app:==================================================================\n",
      "INFO:spark_app:Spark object can be accessed as the SparkApp_object.spark property\n",
      "INFO:spark_app:==================================================================\n"
     ]
    }
   ],
   "source": [
    "spark_app = SparkApp(my_logger_create_level = 'INFO')"
   ]
  },
  {
   "cell_type": "code",
   "execution_count": 9,
   "id": "4de973af-73c4-43f8-90b6-b1d422a3360b",
   "metadata": {},
   "outputs": [
    {
     "name": "stderr",
     "output_type": "stream",
     "text": [
      "INFO:spark_app:spark_master_ip: 172.18.0.2\n"
     ]
    }
   ],
   "source": [
    "spark_master_ip = spark_app.get_spark_master_ip()\n",
    "# print(spark_master_ip)"
   ]
  },
  {
   "cell_type": "code",
   "execution_count": 11,
   "id": "55a91437-60e9-4bc2-a9cb-58365f000efd",
   "metadata": {},
   "outputs": [],
   "source": [
    "# spark = spark_app.build_spark_app(spark_master_ip=spark_master_ip)\n",
    "# spark = spark_app.spark"
   ]
  },
  {
   "cell_type": "markdown",
   "id": "278c7d30-9eed-479c-b899-2fcd6c2d78d4",
   "metadata": {},
   "source": [
    "Для корректного завершения спарк-сессии (например, для переключения между ноутбуками) следует останавливать сессию полностью. Для этого использую метод .stop_spark_app() класса SparkApp"
   ]
  },
  {
   "cell_type": "code",
   "execution_count": 12,
   "id": "412582e5-44f8-44dd-a8f0-7d9fe46ad1f7",
   "metadata": {},
   "outputs": [],
   "source": [
    "# spark_app.stop_spark_app()"
   ]
  },
  {
   "cell_type": "code",
   "execution_count": 13,
   "id": "4b17caf8-7f00-4c20-a83b-744c2d0ab81e",
   "metadata": {},
   "outputs": [
    {
     "name": "stdout",
     "output_type": "stream",
     "text": [
      "<pyspark.sql.session.SparkSession object at 0x7fb988e0b210>\n"
     ]
    }
   ],
   "source": [
    "print(spark_app.spark)"
   ]
  },
  {
   "cell_type": "code",
   "execution_count": 14,
   "id": "5221d404-34f2-4fd8-8b0c-531fd6f93bbb",
   "metadata": {},
   "outputs": [
    {
     "name": "stderr",
     "output_type": "stream",
     "text": [
      "INFO:spark_app:pyspark version: 3.4.1\n",
      "INFO:spark_app:starting building spark app object: pyspark-taxi-forecasting\n",
      "INFO:spark_app:Spark app object built as: <pyspark.sql.session.SparkSession object at 0x7fb988e0b210>\n",
      "INFO:spark_app:==================================================================\n",
      "INFO:spark_app:Spark object can be accessed as the SparkApp_object.spark property\n",
      "INFO:spark_app:==================================================================\n"
     ]
    },
    {
     "data": {
      "text/html": [
       "\n",
       "            <div>\n",
       "                <p><b>SparkSession - in-memory</b></p>\n",
       "                \n",
       "        <div>\n",
       "            <p><b>SparkContext</b></p>\n",
       "\n",
       "            <p><a href=\"http://50f99f303db6:4040\">Spark UI</a></p>\n",
       "\n",
       "            <dl>\n",
       "              <dt>Version</dt>\n",
       "                <dd><code>v3.4.1</code></dd>\n",
       "              <dt>Master</dt>\n",
       "                <dd><code>spark://172.18.0.2:7077</code></dd>\n",
       "              <dt>AppName</dt>\n",
       "                <dd><code>pyspark-taxi-forecasting</code></dd>\n",
       "            </dl>\n",
       "        </div>\n",
       "        \n",
       "            </div>\n",
       "        "
      ],
      "text/plain": [
       "<pyspark.sql.session.SparkSession at 0x7fb988e0b210>"
      ]
     },
     "execution_count": 14,
     "metadata": {},
     "output_type": "execute_result"
    }
   ],
   "source": [
    "spark_app.build_spark_app()"
   ]
  },
  {
   "cell_type": "code",
   "execution_count": 15,
   "id": "56cdf778-5944-484e-a72f-6e151b2ec3e9",
   "metadata": {},
   "outputs": [],
   "source": [
    "spark = spark_app.spark"
   ]
  },
  {
   "cell_type": "code",
   "execution_count": 16,
   "id": "53f1ffcc-7333-4ca1-acfd-12723c7f253d",
   "metadata": {},
   "outputs": [
    {
     "name": "stdout",
     "output_type": "stream",
     "text": [
      "CPU times: user 13.5 ms, sys: 812 µs, total: 14.3 ms\n",
      "Wall time: 33.6 s\n"
     ]
    }
   ],
   "source": [
    "%%time\n",
    "taxi = spark.read.load('/work/data/Taxi_Trips_-_2022.csv', \n",
    "                       format='csv', header='true', inferSchema='true')"
   ]
  },
  {
   "cell_type": "code",
   "execution_count": 17,
   "id": "84592a4a-5677-4480-85cd-d3996a24db8b",
   "metadata": {},
   "outputs": [],
   "source": [
    "# taxi_rdd = spark.sparkContext.textFile('/work/data/Taxi_Trips_-_2022.csv')\n",
    "# taxi_rdd.take(2)"
   ]
  },
  {
   "cell_type": "code",
   "execution_count": 18,
   "id": "93f8e617-56f4-4a62-8e08-ddb0519ecca5",
   "metadata": {},
   "outputs": [],
   "source": [
    "# taxi.printSchema()"
   ]
  },
  {
   "cell_type": "code",
   "execution_count": 19,
   "id": "12869dc1-b838-448b-b34b-d205d1381ab4",
   "metadata": {},
   "outputs": [
    {
     "data": {
      "text/plain": [
       "{'trip_i': 'Trip ID',\n",
       " 'taxi_i': 'Taxi ID',\n",
       " 'trip_st': 'Trip Start Timestamp',\n",
       " 'trip_et': 'Trip End Timestamp',\n",
       " 'trip_s': 'Trip Seconds',\n",
       " 'trip_m': 'Trip Miles',\n",
       " 'pickup_ct': 'Pickup Census Tract',\n",
       " 'dropoff_ct': 'Dropoff Census Tract',\n",
       " 'pickup_ca': 'Pickup Community Area',\n",
       " 'dropoff_ca': 'Dropoff Community Area',\n",
       " 'fare': 'Fare',\n",
       " 'tips': 'Tips',\n",
       " 'tolls': 'Tolls',\n",
       " 'extras': 'Extras',\n",
       " 'trip_t': 'Trip Total',\n",
       " 'payment_t': 'Payment Type',\n",
       " 'company': 'Company',\n",
       " 'pickup_cl': 'Pickup Centroid Latitude',\n",
       " 'pickup_clon': 'Pickup Centroid Longitude',\n",
       " 'pickup_cloc': 'Pickup Centroid Location',\n",
       " 'dropoff_cl': 'Dropoff Centroid Latitude',\n",
       " 'dropoff_clon': 'Dropoff Centroid Longitude',\n",
       " 'dropoff_cloc': 'Dropoff Centroid  Location'}"
      ]
     },
     "execution_count": 19,
     "metadata": {},
     "output_type": "execute_result"
    }
   ],
   "source": [
    "# создадим объект для представления имен полей\n",
    "ct = Cols(taxi)\n",
    "ct.get_aliases()"
   ]
  },
  {
   "cell_type": "code",
   "execution_count": 20,
   "id": "acbcb171-c5c7-452c-b1bd-3339c11664e6",
   "metadata": {},
   "outputs": [
    {
     "data": {
      "text/html": [
       "<div>\n",
       "<style scoped>\n",
       "    .dataframe tbody tr th:only-of-type {\n",
       "        vertical-align: middle;\n",
       "    }\n",
       "\n",
       "    .dataframe tbody tr th {\n",
       "        vertical-align: top;\n",
       "    }\n",
       "\n",
       "    .dataframe thead th {\n",
       "        text-align: right;\n",
       "    }\n",
       "</style>\n",
       "<table border=\"1\" class=\"dataframe\">\n",
       "  <thead>\n",
       "    <tr style=\"text-align: right;\">\n",
       "      <th></th>\n",
       "      <th>Description</th>\n",
       "      <th>Type</th>\n",
       "      <th>Описание</th>\n",
       "      <th>Тип</th>\n",
       "    </tr>\n",
       "    <tr>\n",
       "      <th>Column Name</th>\n",
       "      <th></th>\n",
       "      <th></th>\n",
       "      <th></th>\n",
       "      <th></th>\n",
       "    </tr>\n",
       "  </thead>\n",
       "  <tbody>\n",
       "    <tr>\n",
       "      <th>Trip ID</th>\n",
       "      <td>A unique identifier for the trip.</td>\n",
       "      <td>Plain Text</td>\n",
       "      <td>Уникальный идентификатор поездки</td>\n",
       "      <td>Обычный текст</td>\n",
       "    </tr>\n",
       "    <tr>\n",
       "      <th>Taxi ID</th>\n",
       "      <td>A unique identifier for the taxi.</td>\n",
       "      <td>Plain Text</td>\n",
       "      <td>Уникальный идентификатор такси</td>\n",
       "      <td>Обычный текст</td>\n",
       "    </tr>\n",
       "    <tr>\n",
       "      <th>Trip Start Timestamp</th>\n",
       "      <td>When the trip started rounded to the nearest 15 minutes.</td>\n",
       "      <td>Date &amp; Time</td>\n",
       "      <td>Время начала поездки округленное до ближайших 15 минут</td>\n",
       "      <td>Дата и время</td>\n",
       "    </tr>\n",
       "    <tr>\n",
       "      <th>Trip End Timestamp</th>\n",
       "      <td>When the trip ended rounded to the nearest 15 minutes.</td>\n",
       "      <td>Date &amp; Time</td>\n",
       "      <td>Время окончания поездки округленное до ближайших 15 минут</td>\n",
       "      <td>Дата и время</td>\n",
       "    </tr>\n",
       "    <tr>\n",
       "      <th>Trip Seconds</th>\n",
       "      <td>Time of the trip in seconds.</td>\n",
       "      <td>Number</td>\n",
       "      <td>Продолжительность поездки в секундах</td>\n",
       "      <td>Число</td>\n",
       "    </tr>\n",
       "    <tr>\n",
       "      <th>Trip Miles</th>\n",
       "      <td>Distance of the trip in miles.</td>\n",
       "      <td>Number</td>\n",
       "      <td>Расстояние поездки в милях</td>\n",
       "      <td>Число</td>\n",
       "    </tr>\n",
       "    <tr>\n",
       "      <th>Pickup Census Tract</th>\n",
       "      <td>The Census Tract where the trip began. For privacy  this Census Tract is not shown for some trips. This column often will be blank for locations outside Chicago.</td>\n",
       "      <td>Plain Text</td>\n",
       "      <td>Код района по переписи населения  где началась поездка. В целях конфиденциальности этот код не отображается для некоторых поездок. Это поле часто остается пустым для мест за пределами Чикаго.</td>\n",
       "      <td>Обычный текст</td>\n",
       "    </tr>\n",
       "    <tr>\n",
       "      <th>Dropoff Census Tract</th>\n",
       "      <td>The Census Tract where the trip ended. For privacy  this Census Tract is not shown for some trips. This column often will be blank for locations outside Chicago.</td>\n",
       "      <td>Plain Text</td>\n",
       "      <td>Код района по переписи населения  где завершилась поездка. В целях конфиденциальности этот код не отображается для некоторых поездок. Это поле часто остается пустым для мест за пределами Чикаго.</td>\n",
       "      <td>Обычный текст</td>\n",
       "    </tr>\n",
       "    <tr>\n",
       "      <th>Pickup Community Area</th>\n",
       "      <td>The Community Area where the trip began. This column will be blank for locations outside Chicago.</td>\n",
       "      <td>Number</td>\n",
       "      <td>Номер коммунальной области  где началась поездка. Это поле остается пустым для мест за пределами Чикаго.</td>\n",
       "      <td>Число</td>\n",
       "    </tr>\n",
       "    <tr>\n",
       "      <th>Dropoff Community Area</th>\n",
       "      <td>The Community Area where the trip ended. This column will be blank for locations outside Chicago.</td>\n",
       "      <td>Number</td>\n",
       "      <td>Номер коммунальной области  где завершилась поездка. Это поле остается пустым для мест за пределами Чикаго.</td>\n",
       "      <td>Число</td>\n",
       "    </tr>\n",
       "    <tr>\n",
       "      <th>Fare</th>\n",
       "      <td>The fare for the trip.</td>\n",
       "      <td>Number</td>\n",
       "      <td>Стоимость поездки.</td>\n",
       "      <td>Число</td>\n",
       "    </tr>\n",
       "    <tr>\n",
       "      <th>Tips</th>\n",
       "      <td>The tip for the trip. Cash tips generally will not be recorded.</td>\n",
       "      <td>Number</td>\n",
       "      <td>Сумма чаевых за поездку. Наличные чаевые обычно не записываются.</td>\n",
       "      <td>Число</td>\n",
       "    </tr>\n",
       "    <tr>\n",
       "      <th>Tolls</th>\n",
       "      <td>The tolls for the trip.</td>\n",
       "      <td>Number</td>\n",
       "      <td>Сумма оплаты за проезд (платные дороги) за поездку.</td>\n",
       "      <td>Число</td>\n",
       "    </tr>\n",
       "    <tr>\n",
       "      <th>Extras</th>\n",
       "      <td>Extra charges for the trip.</td>\n",
       "      <td>Number</td>\n",
       "      <td>Дополнительные сборы за поездку.</td>\n",
       "      <td>Число</td>\n",
       "    </tr>\n",
       "    <tr>\n",
       "      <th>Trip Total</th>\n",
       "      <td>Total cost of the trip the total of the previous columns.</td>\n",
       "      <td>Number</td>\n",
       "      <td>Общая стоимость поездки сумма предыдущих столбцов.</td>\n",
       "      <td>Число</td>\n",
       "    </tr>\n",
       "    <tr>\n",
       "      <th>Payment Type</th>\n",
       "      <td>Type of payment for the trip.</td>\n",
       "      <td>Plain Text</td>\n",
       "      <td>Способ оплаты поездки.</td>\n",
       "      <td>Обычный текст</td>\n",
       "    </tr>\n",
       "    <tr>\n",
       "      <th>Company</th>\n",
       "      <td>The taxi company.</td>\n",
       "      <td>Plain Text</td>\n",
       "      <td>Название такси-компании.</td>\n",
       "      <td>Обычный текст</td>\n",
       "    </tr>\n",
       "    <tr>\n",
       "      <th>Pickup Centroid Latitude</th>\n",
       "      <td>The latitude of the center of the pickup census tract or the community area if the census tract has been hidden for privacy. This column often will be blank for locations outside Chicago.</td>\n",
       "      <td>Number</td>\n",
       "      <td>Широта центра района по переписи или коммунальной области для местности, где началась поездка, если код района скрыт в целях конфиденциальности. Это поле часто остается пустым для мест за пределами Чикаго.</td>\n",
       "      <td>Число</td>\n",
       "    </tr>\n",
       "    <tr>\n",
       "      <th>Pickup Centroid Longitude</th>\n",
       "      <td>The longitude of the center of the pickup census tract or the community area if the census tract has been hidden for privacy. This column often will be blank for locations outside Chicago.</td>\n",
       "      <td>Number</td>\n",
       "      <td>Долгота центра района по переписи или коммунальной области для местности, где началась поездка, если код района скрыт в целях конфиденциальности. Это поле часто остается пустым для мест за пределами Чикаго.</td>\n",
       "      <td>Число</td>\n",
       "    </tr>\n",
       "    <tr>\n",
       "      <th>Pickup Centroid Location</th>\n",
       "      <td>The location of the center of the pickup census tract or the community area if the census tract has been hidden for privacy. This column often will be blank for locations outside Chicago.</td>\n",
       "      <td>Point</td>\n",
       "      <td>Местоположение центра района по переписи или коммунальной области для местности, где началась поездка, если код района скрыт в целях конфиденциальности. Это поле часто остается пустым для мест за пределами Чикаго.</td>\n",
       "      <td>Точка (координаты)</td>\n",
       "    </tr>\n",
       "    <tr>\n",
       "      <th>Dropoff Centroid Latitude</th>\n",
       "      <td>The latitude of the center of the dropoff census tract or the community area if the census tract has been hidden for privacy. This column often will be blank for locations outside Chicago.</td>\n",
       "      <td>Number</td>\n",
       "      <td>Широта центра района по переписи или коммунальной области для местности, где завершилась поездка, если код района скрыт в целях конфиденциальности. Это поле часто остается пустым для мест за пределами Чикаго.</td>\n",
       "      <td>Число</td>\n",
       "    </tr>\n",
       "    <tr>\n",
       "      <th>Dropoff Centroid Longitude</th>\n",
       "      <td>The longitude of the center of the dropoff census tract or the community area if the census tract has been hidden for privacy. This column often will be blank for locations outside Chicago.</td>\n",
       "      <td>Number</td>\n",
       "      <td>Долгота центра района по переписи или коммунальной области для местности, где завершилась поездка, если код района скрыт в целях конфиденциальности. Это поле часто остается пустым для мест за пределами Чикаго.</td>\n",
       "      <td>Число</td>\n",
       "    </tr>\n",
       "    <tr>\n",
       "      <th>Dropoff Centroid Location</th>\n",
       "      <td>The location of the center of the dropoff census tract or the community area if the census tract has been hidden for privacy. This column often will be blank for locations outside Chicago.</td>\n",
       "      <td>Point</td>\n",
       "      <td>Местоположение центра района по переписи или коммунальной области для местности, где завершилась поездка, если код района скрыт в целях конфиденциальности. Это поле часто остается пустым для мест за пределами Чикаго.</td>\n",
       "      <td>Точка (координаты)</td>\n",
       "    </tr>\n",
       "  </tbody>\n",
       "</table>\n",
       "</div>"
      ],
      "text/plain": [
       "                                                                                                                                                                                                              Description  \\\n",
       "Column Name                                                                                                                                                                                                                 \n",
       "Trip ID                                                                                                                                                                                 A unique identifier for the trip.   \n",
       "Taxi ID                                                                                                                                                                                 A unique identifier for the taxi.   \n",
       "Trip Start Timestamp                                                                                                                                             When the trip started rounded to the nearest 15 minutes.   \n",
       "Trip End Timestamp                                                                                                                                                 When the trip ended rounded to the nearest 15 minutes.   \n",
       "Trip Seconds                                                                                                                                                                                 Time of the trip in seconds.   \n",
       "Trip Miles                                                                                                                                                                                 Distance of the trip in miles.   \n",
       "Pickup Census Tract                                     The Census Tract where the trip began. For privacy  this Census Tract is not shown for some trips. This column often will be blank for locations outside Chicago.   \n",
       "Dropoff Census Tract                                    The Census Tract where the trip ended. For privacy  this Census Tract is not shown for some trips. This column often will be blank for locations outside Chicago.   \n",
       "Pickup Community Area                                                                                                   The Community Area where the trip began. This column will be blank for locations outside Chicago.   \n",
       "Dropoff Community Area                                                                                                  The Community Area where the trip ended. This column will be blank for locations outside Chicago.   \n",
       "Fare                                                                                                                                                                                               The fare for the trip.   \n",
       "Tips                                                                                                                                                      The tip for the trip. Cash tips generally will not be recorded.   \n",
       "Tolls                                                                                                                                                                                             The tolls for the trip.   \n",
       "Extras                                                                                                                                                                                        Extra charges for the trip.   \n",
       "Trip Total                                                                                                                                                      Total cost of the trip the total of the previous columns.   \n",
       "Payment Type                                                                                                                                                                                Type of payment for the trip.   \n",
       "Company                                                                                                                                                                                                 The taxi company.   \n",
       "Pickup Centroid Latitude      The latitude of the center of the pickup census tract or the community area if the census tract has been hidden for privacy. This column often will be blank for locations outside Chicago.   \n",
       "Pickup Centroid Longitude    The longitude of the center of the pickup census tract or the community area if the census tract has been hidden for privacy. This column often will be blank for locations outside Chicago.   \n",
       "Pickup Centroid Location      The location of the center of the pickup census tract or the community area if the census tract has been hidden for privacy. This column often will be blank for locations outside Chicago.   \n",
       "Dropoff Centroid Latitude    The latitude of the center of the dropoff census tract or the community area if the census tract has been hidden for privacy. This column often will be blank for locations outside Chicago.   \n",
       "Dropoff Centroid Longitude  The longitude of the center of the dropoff census tract or the community area if the census tract has been hidden for privacy. This column often will be blank for locations outside Chicago.   \n",
       "Dropoff Centroid Location    The location of the center of the dropoff census tract or the community area if the census tract has been hidden for privacy. This column often will be blank for locations outside Chicago.   \n",
       "\n",
       "                                   Type  \\\n",
       "Column Name                               \n",
       "Trip ID                      Plain Text   \n",
       "Taxi ID                      Plain Text   \n",
       "Trip Start Timestamp        Date & Time   \n",
       "Trip End Timestamp          Date & Time   \n",
       "Trip Seconds                     Number   \n",
       "Trip Miles                       Number   \n",
       "Pickup Census Tract          Plain Text   \n",
       "Dropoff Census Tract         Plain Text   \n",
       "Pickup Community Area            Number   \n",
       "Dropoff Community Area           Number   \n",
       "Fare                             Number   \n",
       "Tips                             Number   \n",
       "Tolls                            Number   \n",
       "Extras                           Number   \n",
       "Trip Total                       Number   \n",
       "Payment Type                 Plain Text   \n",
       "Company                      Plain Text   \n",
       "Pickup Centroid Latitude         Number   \n",
       "Pickup Centroid Longitude        Number   \n",
       "Pickup Centroid Location          Point   \n",
       "Dropoff Centroid Latitude        Number   \n",
       "Dropoff Centroid Longitude       Number   \n",
       "Dropoff Centroid Location         Point   \n",
       "\n",
       "                                                                                                                                                                                                                                             Описание  \\\n",
       "Column Name                                                                                                                                                                                                                                             \n",
       "Trip ID                                                                                                                                                                                                              Уникальный идентификатор поездки   \n",
       "Taxi ID                                                                                                                                                                                                                Уникальный идентификатор такси   \n",
       "Trip Start Timestamp                                                                                                                                                                           Время начала поездки округленное до ближайших 15 минут   \n",
       "Trip End Timestamp                                                                                                                                                                          Время окончания поездки округленное до ближайших 15 минут   \n",
       "Trip Seconds                                                                                                                                                                                                     Продолжительность поездки в секундах   \n",
       "Trip Miles                                                                                                                                                                                                                 Расстояние поездки в милях   \n",
       "Pickup Census Tract                                   Код района по переписи населения  где началась поездка. В целях конфиденциальности этот код не отображается для некоторых поездок. Это поле часто остается пустым для мест за пределами Чикаго.   \n",
       "Dropoff Census Tract                               Код района по переписи населения  где завершилась поездка. В целях конфиденциальности этот код не отображается для некоторых поездок. Это поле часто остается пустым для мест за пределами Чикаго.   \n",
       "Pickup Community Area                                                                                                                        Номер коммунальной области  где началась поездка. Это поле остается пустым для мест за пределами Чикаго.   \n",
       "Dropoff Community Area                                                                                                                    Номер коммунальной области  где завершилась поездка. Это поле остается пустым для мест за пределами Чикаго.   \n",
       "Fare                                                                                                                                                                                                                               Стоимость поездки.   \n",
       "Tips                                                                                                                                                                                 Сумма чаевых за поездку. Наличные чаевые обычно не записываются.   \n",
       "Tolls                                                                                                                                                                                             Сумма оплаты за проезд (платные дороги) за поездку.   \n",
       "Extras                                                                                                                                                                                                               Дополнительные сборы за поездку.   \n",
       "Trip Total                                                                                                                                                                                         Общая стоимость поездки сумма предыдущих столбцов.   \n",
       "Payment Type                                                                                                                                                                                                                   Способ оплаты поездки.   \n",
       "Company                                                                                                                                                                                                                      Название такси-компании.   \n",
       "Pickup Centroid Latitude                Широта центра района по переписи или коммунальной области для местности, где началась поездка, если код района скрыт в целях конфиденциальности. Это поле часто остается пустым для мест за пределами Чикаго.   \n",
       "Pickup Centroid Longitude              Долгота центра района по переписи или коммунальной области для местности, где началась поездка, если код района скрыт в целях конфиденциальности. Это поле часто остается пустым для мест за пределами Чикаго.   \n",
       "Pickup Centroid Location        Местоположение центра района по переписи или коммунальной области для местности, где началась поездка, если код района скрыт в целях конфиденциальности. Это поле часто остается пустым для мест за пределами Чикаго.   \n",
       "Dropoff Centroid Latitude            Широта центра района по переписи или коммунальной области для местности, где завершилась поездка, если код района скрыт в целях конфиденциальности. Это поле часто остается пустым для мест за пределами Чикаго.   \n",
       "Dropoff Centroid Longitude          Долгота центра района по переписи или коммунальной области для местности, где завершилась поездка, если код района скрыт в целях конфиденциальности. Это поле часто остается пустым для мест за пределами Чикаго.   \n",
       "Dropoff Centroid Location    Местоположение центра района по переписи или коммунальной области для местности, где завершилась поездка, если код района скрыт в целях конфиденциальности. Это поле часто остается пустым для мест за пределами Чикаго.   \n",
       "\n",
       "                                            Тип  \n",
       "Column Name                                      \n",
       "Trip ID                           Обычный текст  \n",
       "Taxi ID                           Обычный текст  \n",
       "Trip Start Timestamp               Дата и время  \n",
       "Trip End Timestamp                 Дата и время  \n",
       "Trip Seconds                              Число  \n",
       "Trip Miles                                Число  \n",
       "Pickup Census Tract               Обычный текст  \n",
       "Dropoff Census Tract              Обычный текст  \n",
       "Pickup Community Area                     Число  \n",
       "Dropoff Community Area                    Число  \n",
       "Fare                                      Число  \n",
       "Tips                                      Число  \n",
       "Tolls                                     Число  \n",
       "Extras                                    Число  \n",
       "Trip Total                                Число  \n",
       "Payment Type                      Обычный текст  \n",
       "Company                           Обычный текст  \n",
       "Pickup Centroid Latitude                  Число  \n",
       "Pickup Centroid Longitude                 Число  \n",
       "Pickup Centroid Location     Точка (координаты)  \n",
       "Dropoff Centroid Latitude                 Число  \n",
       "Dropoff Centroid Longitude                Число  \n",
       "Dropoff Centroid Location    Точка (координаты)  "
      ]
     },
     "metadata": {},
     "output_type": "display_data"
    }
   ],
   "source": [
    "pd.set_option('display.max_colwidth', None)\n",
    "\n",
    "table_descr = pd.read_csv('/work/data/table_descr.csv',sep=';',index_col='Column Name')\n",
    "display(table_descr)\n",
    "\n",
    "pd.reset_option('display.max_colwidth')  # Сброс максимальной ширины столбцов к значению по умолчанию"
   ]
  },
  {
   "cell_type": "markdown",
   "id": "3613edd0-1309-44ad-9227-a6b02f6f93d7",
   "metadata": {},
   "source": [
    "### Описание полей \"Census Tract\" и \"Community Area\""
   ]
  },
  {
   "cell_type": "markdown",
   "id": "5505ab35-98d4-4f00-a075-45f758ab72f3",
   "metadata": {},
   "source": [
    "Поля \"Census Tract\" и \"Community Area\" представляют собой два различных уровня административных единиц:\n",
    "\n",
    "**Census Tract:**  \n",
    "Это статистические единицы, используемые в переписи населения в США, проводимой каждые 10 лет.\n",
    "Census Tract обычно представляют собой географические области, населенные от 1 200 до 8 000 человек.\n",
    "Они предназначены для обеспечения стандартизированных данных для анализа населения, доходов, расового и этнического состава и других социально-экономических параметров.\n",
    "\n",
    "Далее для краткости буду называть данную адм.единицу - **Район** (хотя правильней было бы \"квартал\", но этот термин будет путаться с временным окном)\n",
    "\n",
    "**Community Area:**  \n",
    "Это административные районы в городе Чикаго, разработанные городским правительством.\n",
    "Community Areas используются для организации и управления городскими службами и ресурсами.\n",
    "Обычно Community Areas выступают в качестве единиц анализа для изучения социальных и экономических показателей, таких как уровень преступности, доступность образования и здравоохранения и др.\n",
    "\n",
    "Далее для краткости буду называть данную адм.единицу - **Округ**\n",
    "\n",
    "Community Area представляют собой административные районы, охватывающие большие части города, в то время как Census Tract более мелкие географические области, которые могут быть распределены по всему Community Area. Таким образом, Community Area охватывает несколько Census Tract и представляет собой более крупную административную единицу.\n",
    "\n",
    "В идеальной ситуации каждый Census Tract должен быть частью только одной Community Area, чтобы избежать перекрытий и дублирования данных. Однако в реальности могут быть исключения из-за изменений границ административных районов или других факторов."
   ]
  },
  {
   "cell_type": "code",
   "execution_count": 22,
   "id": "1d676881-4c34-4bf1-8098-3c853e125eca",
   "metadata": {},
   "outputs": [],
   "source": [
    "# %%time\n",
    "# describe_result = taxi.describe().toPandas()\n",
    "\n",
    "# time cost for i5 (7g), 4 workers (x) 2gb RAM \n",
    "# CPU times: user 352 ms, sys: 32.2 ms, total: 384 ms\n",
    "# Wall time: 2min 7s"
   ]
  },
  {
   "cell_type": "code",
   "execution_count": 23,
   "id": "6d7e2066-b329-4f11-ba9b-8eda6aede617",
   "metadata": {},
   "outputs": [],
   "source": [
    "# output_file_path = '/work/data/2022_describe.csv'\n",
    "# describe_result.to_csv(output_file_path, index=False) #transpose()."
   ]
  },
  {
   "cell_type": "markdown",
   "id": "1258a7ed-a5dd-4ccb-a301-7f73b03422a0",
   "metadata": {},
   "source": [
    "Импортируем сохраненную таблицу-описание данных `.describe()`"
   ]
  },
  {
   "cell_type": "code",
   "execution_count": 21,
   "id": "3f652d08-997c-49d2-a7e3-4f09f9f9e6b6",
   "metadata": {},
   "outputs": [],
   "source": [
    "dr = pd.read_csv('/work/data/2022_describe.csv',sep=',',index_col='summary')"
   ]
  },
  {
   "cell_type": "code",
   "execution_count": 22,
   "id": "24e16ba1-2885-4c30-8bc8-af87fcbb04ef",
   "metadata": {},
   "outputs": [],
   "source": [
    "drf = dr.copy()\n",
    "#  отформатируем таблицу описания\n",
    "pds.get_df_formated(drf, '`',2, 10)"
   ]
  },
  {
   "cell_type": "code",
   "execution_count": 23,
   "id": "13926650-cf6a-4c20-a99a-2b47c7ae6dcc",
   "metadata": {},
   "outputs": [
    {
     "data": {
      "text/html": [
       "<div>\n",
       "<style scoped>\n",
       "    .dataframe tbody tr th:only-of-type {\n",
       "        vertical-align: middle;\n",
       "    }\n",
       "\n",
       "    .dataframe tbody tr th {\n",
       "        vertical-align: top;\n",
       "    }\n",
       "\n",
       "    .dataframe thead th {\n",
       "        text-align: right;\n",
       "    }\n",
       "</style>\n",
       "<table border=\"1\" class=\"dataframe\">\n",
       "  <thead>\n",
       "    <tr style=\"text-align: right;\">\n",
       "      <th>summary</th>\n",
       "      <th>count</th>\n",
       "      <th>mean</th>\n",
       "      <th>stddev</th>\n",
       "      <th>min</th>\n",
       "      <th>max</th>\n",
       "    </tr>\n",
       "  </thead>\n",
       "  <tbody>\n",
       "    <tr>\n",
       "      <th>Trip ID</th>\n",
       "      <td>6`382`425</td>\n",
       "      <td>nan</td>\n",
       "      <td>nan</td>\n",
       "      <td>000000bb18</td>\n",
       "      <td>ffffff1aae</td>\n",
       "    </tr>\n",
       "    <tr>\n",
       "      <th>Taxi ID</th>\n",
       "      <td>6`382`425</td>\n",
       "      <td>nan</td>\n",
       "      <td>nan</td>\n",
       "      <td>0041f8f0c9</td>\n",
       "      <td>fff84aa08a</td>\n",
       "    </tr>\n",
       "    <tr>\n",
       "      <th>Trip Start Timestamp</th>\n",
       "      <td>6`382`425</td>\n",
       "      <td>nan</td>\n",
       "      <td>nan</td>\n",
       "      <td>01/01/2022</td>\n",
       "      <td>12/31/2022</td>\n",
       "    </tr>\n",
       "    <tr>\n",
       "      <th>Trip End Timestamp</th>\n",
       "      <td>6`382`213</td>\n",
       "      <td>nan</td>\n",
       "      <td>nan</td>\n",
       "      <td>01/01/2022</td>\n",
       "      <td>12/31/2022</td>\n",
       "    </tr>\n",
       "    <tr>\n",
       "      <th>Trip Seconds</th>\n",
       "      <td>6`380`960</td>\n",
       "      <td>1`198.21</td>\n",
       "      <td>1`895.66</td>\n",
       "      <td>0</td>\n",
       "      <td>86`341</td>\n",
       "    </tr>\n",
       "    <tr>\n",
       "      <th>Trip Miles</th>\n",
       "      <td>6`382`369</td>\n",
       "      <td>6.19</td>\n",
       "      <td>8.00</td>\n",
       "      <td>0</td>\n",
       "      <td>2`967.54</td>\n",
       "    </tr>\n",
       "    <tr>\n",
       "      <th>Pickup Census Tract</th>\n",
       "      <td>2`623`831</td>\n",
       "      <td>17`031`468`160.38</td>\n",
       "      <td>368`945.90</td>\n",
       "      <td>17`031`010`100</td>\n",
       "      <td>17`031`980`100</td>\n",
       "    </tr>\n",
       "    <tr>\n",
       "      <th>Dropoff Census Tract</th>\n",
       "      <td>2`675`331</td>\n",
       "      <td>17`031`411`846.86</td>\n",
       "      <td>345`773.49</td>\n",
       "      <td>17`031`010`100</td>\n",
       "      <td>17`031`980`100</td>\n",
       "    </tr>\n",
       "    <tr>\n",
       "      <th>Pickup Community Area</th>\n",
       "      <td>5`868`572</td>\n",
       "      <td>32.35</td>\n",
       "      <td>25.20</td>\n",
       "      <td>1</td>\n",
       "      <td>77</td>\n",
       "    </tr>\n",
       "    <tr>\n",
       "      <th>Dropoff Community Area</th>\n",
       "      <td>5`748`741</td>\n",
       "      <td>25.84</td>\n",
       "      <td>20.93</td>\n",
       "      <td>1</td>\n",
       "      <td>77</td>\n",
       "    </tr>\n",
       "    <tr>\n",
       "      <th>Fare</th>\n",
       "      <td>6`378`889</td>\n",
       "      <td>21.73</td>\n",
       "      <td>49.42</td>\n",
       "      <td>0</td>\n",
       "      <td>9`999.75</td>\n",
       "    </tr>\n",
       "    <tr>\n",
       "      <th>Tips</th>\n",
       "      <td>6`378`889</td>\n",
       "      <td>2.75</td>\n",
       "      <td>4.08</td>\n",
       "      <td>0</td>\n",
       "      <td>496</td>\n",
       "    </tr>\n",
       "    <tr>\n",
       "      <th>Tolls</th>\n",
       "      <td>6`378`889</td>\n",
       "      <td>0.02</td>\n",
       "      <td>7.66</td>\n",
       "      <td>0</td>\n",
       "      <td>6`666.66</td>\n",
       "    </tr>\n",
       "    <tr>\n",
       "      <th>Extras</th>\n",
       "      <td>6`378`889</td>\n",
       "      <td>2.16</td>\n",
       "      <td>21.75</td>\n",
       "      <td>0</td>\n",
       "      <td>8`888.88</td>\n",
       "    </tr>\n",
       "    <tr>\n",
       "      <th>Trip Total</th>\n",
       "      <td>6`378`889</td>\n",
       "      <td>26.83</td>\n",
       "      <td>56.96</td>\n",
       "      <td>0</td>\n",
       "      <td>9`999.75</td>\n",
       "    </tr>\n",
       "    <tr>\n",
       "      <th>Payment Type</th>\n",
       "      <td>6`382`425</td>\n",
       "      <td>nan</td>\n",
       "      <td>nan</td>\n",
       "      <td>Cash</td>\n",
       "      <td>Unknown</td>\n",
       "    </tr>\n",
       "    <tr>\n",
       "      <th>Company</th>\n",
       "      <td>6`382`425</td>\n",
       "      <td>nan</td>\n",
       "      <td>nan</td>\n",
       "      <td>24 Seven T</td>\n",
       "      <td>U Taxicab</td>\n",
       "    </tr>\n",
       "    <tr>\n",
       "      <th>Pickup Centroid Latitude</th>\n",
       "      <td>5`870`874</td>\n",
       "      <td>41.90</td>\n",
       "      <td>0.06</td>\n",
       "      <td>41.65</td>\n",
       "      <td>42.02</td>\n",
       "    </tr>\n",
       "    <tr>\n",
       "      <th>Pickup Centroid Longitude</th>\n",
       "      <td>5`870`874</td>\n",
       "      <td>-87.69</td>\n",
       "      <td>0.10</td>\n",
       "      <td>-87.91</td>\n",
       "      <td>-87.53</td>\n",
       "    </tr>\n",
       "    <tr>\n",
       "      <th>Pickup Centroid Location</th>\n",
       "      <td>5`870`874</td>\n",
       "      <td>nan</td>\n",
       "      <td>nan</td>\n",
       "      <td>POINT (-87</td>\n",
       "      <td>POINT (-87</td>\n",
       "    </tr>\n",
       "    <tr>\n",
       "      <th>Dropoff Centroid Latitude</th>\n",
       "      <td>5`784`494</td>\n",
       "      <td>41.89</td>\n",
       "      <td>0.06</td>\n",
       "      <td>41.66</td>\n",
       "      <td>42.02</td>\n",
       "    </tr>\n",
       "    <tr>\n",
       "      <th>Dropoff Centroid Longitude</th>\n",
       "      <td>5`784`494</td>\n",
       "      <td>-87.66</td>\n",
       "      <td>0.07</td>\n",
       "      <td>-87.91</td>\n",
       "      <td>-87.53</td>\n",
       "    </tr>\n",
       "    <tr>\n",
       "      <th>Dropoff Centroid  Location</th>\n",
       "      <td>5`784`494</td>\n",
       "      <td>nan</td>\n",
       "      <td>nan</td>\n",
       "      <td>POINT (-87</td>\n",
       "      <td>POINT (-87</td>\n",
       "    </tr>\n",
       "  </tbody>\n",
       "</table>\n",
       "</div>"
      ],
      "text/plain": [
       "summary                         count               mean      stddev  \\\n",
       "Trip ID                     6`382`425                nan         nan   \n",
       "Taxi ID                     6`382`425                nan         nan   \n",
       "Trip Start Timestamp        6`382`425                nan         nan   \n",
       "Trip End Timestamp          6`382`213                nan         nan   \n",
       "Trip Seconds                6`380`960           1`198.21    1`895.66   \n",
       "Trip Miles                  6`382`369               6.19        8.00   \n",
       "Pickup Census Tract         2`623`831  17`031`468`160.38  368`945.90   \n",
       "Dropoff Census Tract        2`675`331  17`031`411`846.86  345`773.49   \n",
       "Pickup Community Area       5`868`572              32.35       25.20   \n",
       "Dropoff Community Area      5`748`741              25.84       20.93   \n",
       "Fare                        6`378`889              21.73       49.42   \n",
       "Tips                        6`378`889               2.75        4.08   \n",
       "Tolls                       6`378`889               0.02        7.66   \n",
       "Extras                      6`378`889               2.16       21.75   \n",
       "Trip Total                  6`378`889              26.83       56.96   \n",
       "Payment Type                6`382`425                nan         nan   \n",
       "Company                     6`382`425                nan         nan   \n",
       "Pickup Centroid Latitude    5`870`874              41.90        0.06   \n",
       "Pickup Centroid Longitude   5`870`874             -87.69        0.10   \n",
       "Pickup Centroid Location    5`870`874                nan         nan   \n",
       "Dropoff Centroid Latitude   5`784`494              41.89        0.06   \n",
       "Dropoff Centroid Longitude  5`784`494             -87.66        0.07   \n",
       "Dropoff Centroid  Location  5`784`494                nan         nan   \n",
       "\n",
       "summary                                min             max  \n",
       "Trip ID                         000000bb18      ffffff1aae  \n",
       "Taxi ID                         0041f8f0c9      fff84aa08a  \n",
       "Trip Start Timestamp            01/01/2022      12/31/2022  \n",
       "Trip End Timestamp              01/01/2022      12/31/2022  \n",
       "Trip Seconds                             0          86`341  \n",
       "Trip Miles                               0        2`967.54  \n",
       "Pickup Census Tract         17`031`010`100  17`031`980`100  \n",
       "Dropoff Census Tract        17`031`010`100  17`031`980`100  \n",
       "Pickup Community Area                    1              77  \n",
       "Dropoff Community Area                   1              77  \n",
       "Fare                                     0        9`999.75  \n",
       "Tips                                     0             496  \n",
       "Tolls                                    0        6`666.66  \n",
       "Extras                                   0        8`888.88  \n",
       "Trip Total                               0        9`999.75  \n",
       "Payment Type                          Cash         Unknown  \n",
       "Company                         24 Seven T       U Taxicab  \n",
       "Pickup Centroid Latitude             41.65           42.02  \n",
       "Pickup Centroid Longitude           -87.91          -87.53  \n",
       "Pickup Centroid Location        POINT (-87      POINT (-87  \n",
       "Dropoff Centroid Latitude            41.66           42.02  \n",
       "Dropoff Centroid Longitude          -87.91          -87.53  \n",
       "Dropoff Centroid  Location      POINT (-87      POINT (-87  "
      ]
     },
     "execution_count": 23,
     "metadata": {},
     "output_type": "execute_result"
    }
   ],
   "source": [
    "drf.transpose()"
   ]
  },
  {
   "cell_type": "code",
   "execution_count": 24,
   "id": "586c2d7a-22b8-479d-92c2-d61433599aa6",
   "metadata": {},
   "outputs": [],
   "source": [
    "# val = int(dr.transpose()['count'].astype(float).max())\n",
    "# print(pds.gvf(val))"
   ]
  },
  {
   "cell_type": "code",
   "execution_count": 25,
   "id": "9e91bc49-f481-4d19-8362-3c28893676b6",
   "metadata": {},
   "outputs": [
    {
     "name": "stdout",
     "output_type": "stream",
     "text": [
      "CPU times: user 4.88 ms, sys: 0 ns, total: 4.88 ms\n",
      "Wall time: 12 s\n"
     ]
    }
   ],
   "source": [
    "%%time\n",
    "row_count = taxi.count()\n",
    "\n",
    "# time cost i5 (7g), 4 workers (x) 2gb RAM\n",
    "# CPU times: user 5.85 ms, sys: 871 µs, total: 6.72 ms\n",
    "# Wall time: 11.8 s"
   ]
  },
  {
   "cell_type": "code",
   "execution_count": 26,
   "id": "23e8d3c0-1123-44d3-a755-b92ab844a2f4",
   "metadata": {},
   "outputs": [
    {
     "name": "stdout",
     "output_type": "stream",
     "text": [
      "6'382'425\n"
     ]
    }
   ],
   "source": [
    "print(pds.gvf(row_count))"
   ]
  },
  {
   "cell_type": "markdown",
   "id": "4764b4a3-e59e-4eb0-9cfd-f05be6efaafe",
   "metadata": {},
   "source": [
    "### Оценим количество пропусков"
   ]
  },
  {
   "cell_type": "code",
   "execution_count": 27,
   "id": "ed8bb929-19dd-48bd-9389-c00cd64a9bb9",
   "metadata": {},
   "outputs": [
    {
     "data": {
      "text/html": [
       "<div>\n",
       "<style scoped>\n",
       "    .dataframe tbody tr th:only-of-type {\n",
       "        vertical-align: middle;\n",
       "    }\n",
       "\n",
       "    .dataframe tbody tr th {\n",
       "        vertical-align: top;\n",
       "    }\n",
       "\n",
       "    .dataframe thead th {\n",
       "        text-align: right;\n",
       "    }\n",
       "</style>\n",
       "<table border=\"1\" class=\"dataframe\">\n",
       "  <thead>\n",
       "    <tr style=\"text-align: right;\">\n",
       "      <th>summary</th>\n",
       "      <th>count</th>\n",
       "      <th>not_null_ratio</th>\n",
       "    </tr>\n",
       "  </thead>\n",
       "  <tbody>\n",
       "    <tr>\n",
       "      <th>Trip ID</th>\n",
       "      <td>6`382`425</td>\n",
       "      <td>1</td>\n",
       "    </tr>\n",
       "    <tr>\n",
       "      <th>Taxi ID</th>\n",
       "      <td>6`382`425</td>\n",
       "      <td>1</td>\n",
       "    </tr>\n",
       "    <tr>\n",
       "      <th>Trip Start Timestamp</th>\n",
       "      <td>6`382`425</td>\n",
       "      <td>1</td>\n",
       "    </tr>\n",
       "    <tr>\n",
       "      <th>Trip End Timestamp</th>\n",
       "      <td>6`382`213</td>\n",
       "      <td>1.0000</td>\n",
       "    </tr>\n",
       "    <tr>\n",
       "      <th>Trip Seconds</th>\n",
       "      <td>6`380`960</td>\n",
       "      <td>0.9998</td>\n",
       "    </tr>\n",
       "    <tr>\n",
       "      <th>Trip Miles</th>\n",
       "      <td>6`382`369</td>\n",
       "      <td>1.0000</td>\n",
       "    </tr>\n",
       "    <tr>\n",
       "      <th>Pickup Census Tract</th>\n",
       "      <td>2`623`831</td>\n",
       "      <td>0.4111</td>\n",
       "    </tr>\n",
       "    <tr>\n",
       "      <th>Dropoff Census Tract</th>\n",
       "      <td>2`675`331</td>\n",
       "      <td>0.4192</td>\n",
       "    </tr>\n",
       "    <tr>\n",
       "      <th>Pickup Community Area</th>\n",
       "      <td>5`868`572</td>\n",
       "      <td>0.9195</td>\n",
       "    </tr>\n",
       "    <tr>\n",
       "      <th>Dropoff Community Area</th>\n",
       "      <td>5`748`741</td>\n",
       "      <td>0.9007</td>\n",
       "    </tr>\n",
       "    <tr>\n",
       "      <th>Fare</th>\n",
       "      <td>6`378`889</td>\n",
       "      <td>0.9994</td>\n",
       "    </tr>\n",
       "    <tr>\n",
       "      <th>Tips</th>\n",
       "      <td>6`378`889</td>\n",
       "      <td>0.9994</td>\n",
       "    </tr>\n",
       "    <tr>\n",
       "      <th>Tolls</th>\n",
       "      <td>6`378`889</td>\n",
       "      <td>0.9994</td>\n",
       "    </tr>\n",
       "    <tr>\n",
       "      <th>Extras</th>\n",
       "      <td>6`378`889</td>\n",
       "      <td>0.9994</td>\n",
       "    </tr>\n",
       "    <tr>\n",
       "      <th>Trip Total</th>\n",
       "      <td>6`378`889</td>\n",
       "      <td>0.9994</td>\n",
       "    </tr>\n",
       "    <tr>\n",
       "      <th>Payment Type</th>\n",
       "      <td>6`382`425</td>\n",
       "      <td>1</td>\n",
       "    </tr>\n",
       "    <tr>\n",
       "      <th>Company</th>\n",
       "      <td>6`382`425</td>\n",
       "      <td>1</td>\n",
       "    </tr>\n",
       "    <tr>\n",
       "      <th>Pickup Centroid Latitude</th>\n",
       "      <td>5`870`874</td>\n",
       "      <td>0.9199</td>\n",
       "    </tr>\n",
       "    <tr>\n",
       "      <th>Pickup Centroid Longitude</th>\n",
       "      <td>5`870`874</td>\n",
       "      <td>0.9199</td>\n",
       "    </tr>\n",
       "    <tr>\n",
       "      <th>Pickup Centroid Location</th>\n",
       "      <td>5`870`874</td>\n",
       "      <td>0.9199</td>\n",
       "    </tr>\n",
       "    <tr>\n",
       "      <th>Dropoff Centroid Latitude</th>\n",
       "      <td>5`784`494</td>\n",
       "      <td>0.9063</td>\n",
       "    </tr>\n",
       "    <tr>\n",
       "      <th>Dropoff Centroid Longitude</th>\n",
       "      <td>5`784`494</td>\n",
       "      <td>0.9063</td>\n",
       "    </tr>\n",
       "    <tr>\n",
       "      <th>Dropoff Centroid  Location</th>\n",
       "      <td>5`784`494</td>\n",
       "      <td>0.9063</td>\n",
       "    </tr>\n",
       "  </tbody>\n",
       "</table>\n",
       "</div>"
      ],
      "text/plain": [
       "summary                         count not_null_ratio\n",
       "Trip ID                     6`382`425              1\n",
       "Taxi ID                     6`382`425              1\n",
       "Trip Start Timestamp        6`382`425              1\n",
       "Trip End Timestamp          6`382`213         1.0000\n",
       "Trip Seconds                6`380`960         0.9998\n",
       "Trip Miles                  6`382`369         1.0000\n",
       "Pickup Census Tract         2`623`831         0.4111\n",
       "Dropoff Census Tract        2`675`331         0.4192\n",
       "Pickup Community Area       5`868`572         0.9195\n",
       "Dropoff Community Area      5`748`741         0.9007\n",
       "Fare                        6`378`889         0.9994\n",
       "Tips                        6`378`889         0.9994\n",
       "Tolls                       6`378`889         0.9994\n",
       "Extras                      6`378`889         0.9994\n",
       "Trip Total                  6`378`889         0.9994\n",
       "Payment Type                6`382`425              1\n",
       "Company                     6`382`425              1\n",
       "Pickup Centroid Latitude    5`870`874         0.9199\n",
       "Pickup Centroid Longitude   5`870`874         0.9199\n",
       "Pickup Centroid Location    5`870`874         0.9199\n",
       "Dropoff Centroid Latitude   5`784`494         0.9063\n",
       "Dropoff Centroid Longitude  5`784`494         0.9063\n",
       "Dropoff Centroid  Location  5`784`494         0.9063"
      ]
     },
     "metadata": {},
     "output_type": "display_data"
    },
    {
     "name": "stdout",
     "output_type": "stream",
     "text": [
      "============================================\n",
      "=== columns count ================== 23 ====\n",
      "============================================\n"
     ]
    }
   ],
   "source": [
    "drt = dr.transpose()\n",
    "drt['count'] = drt['count'].astype(int)\n",
    "drt['not_null_ratio']=drt['count']/row_count\n",
    "\n",
    "drt = drt[['count','not_null_ratio']]\n",
    "\n",
    "# отображение отформатированных данных\n",
    "pds.get_df_formated(drt,'`',4, 10)\n",
    "\n",
    "display(drt)\n",
    "\n",
    "print('============================================')\n",
    "print('=== columns count ==================',int(len(drt)),'====')\n",
    "print('============================================')"
   ]
  },
  {
   "cell_type": "markdown",
   "id": "2c358511-088e-4892-ba78-c3c68159333a",
   "metadata": {},
   "source": [
    "Видим, что  \n",
    "- 7 полей не содержат пропусков, в т.ч 2 почти их не имеют;\n",
    "- 8 полей заполнены более чем на 99%;\n",
    "- `Pickup Census Tract`, `Dropoff Census Tract` заполнены менее, чем на 50%;\n",
    "- соответствующие поля с геоданными заполнены более, чем на 90%\n",
    "\n",
    "Поскольку прогноз строится для кварталов, следует связать поля геоданных и кварталов. Попробую заполнить пропуски. В случае невозможности заполненения пропусков для кварталов, в качестве ключа-аггрегатора буду использовать геоточки."
   ]
  },
  {
   "cell_type": "code",
   "execution_count": null,
   "id": "a39263ba-9693-4ef2-801c-267b7d24519f",
   "metadata": {},
   "outputs": [],
   "source": []
  },
  {
   "cell_type": "markdown",
   "id": "a4e4cd7f-5f44-432f-aed8-695df14fab80",
   "metadata": {
    "editable": true,
    "slideshow": {
     "slide_type": ""
    },
    "tags": []
   },
   "source": [
    "### Ключи-агрегаторы"
   ]
  },
  {
   "cell_type": "markdown",
   "id": "d6ee2823-d614-432a-81b2-79da02f3ed8a",
   "metadata": {},
   "source": [
    "В качестве ключа предполагается использовать кортеж-тройку (код квартала, широта, долгота)"
   ]
  },
  {
   "cell_type": "markdown",
   "id": "821e4f4f-9763-4f61-a427-f16a949c2440",
   "metadata": {},
   "source": [
    "Проверю взаимнооднозначность множеств кварталов и геоточек (для непустых зачений)"
   ]
  },
  {
   "cell_type": "code",
   "execution_count": 28,
   "id": "3d9a80ee-080b-4147-88a8-c158733b9a88",
   "metadata": {},
   "outputs": [
    {
     "name": "stdout",
     "output_type": "stream",
     "text": [
      "+-------------------+-------+\n",
      "|Pickup Census Tract|  count|\n",
      "+-------------------+-------+\n",
      "|               null|3758594|\n",
      "|        17031980000| 519802|\n",
      "|        17031320100| 304178|\n",
      "|        17031839100| 284131|\n",
      "|        17031281900| 188178|\n",
      "+-------------------+-------+\n",
      "only showing top 5 rows\n",
      "\n",
      "============================================\n",
      "pickup ct count: 665\n"
     ]
    }
   ],
   "source": [
    "# ctp - pickup census tract\n",
    "ctp = taxi.groupBy(ct.pickup_ct).count().orderBy(\"count\", ascending=False).cache()\n",
    "ctp.show(5)\n",
    "ctp_count = ctp.filter(ctp[ct.pickup_ct].isNotNull()).count()\n",
    "print('============================================')\n",
    "print('pickup ct count:',ctp_count)"
   ]
  },
  {
   "cell_type": "code",
   "execution_count": 29,
   "id": "4515cc4b-d24f-4d7f-b869-71c4674c3abb",
   "metadata": {},
   "outputs": [
    {
     "name": "stdout",
     "output_type": "stream",
     "text": [
      "+--------------------+-------+\n",
      "|Dropoff Census Tract|  count|\n",
      "+--------------------+-------+\n",
      "|                null|3707094|\n",
      "|         17031839100| 328855|\n",
      "|         17031320100| 277879|\n",
      "|         17031980000| 243652|\n",
      "|         17031081500| 160251|\n",
      "+--------------------+-------+\n",
      "only showing top 5 rows\n",
      "\n",
      "============================================\n",
      "dropoff ct count: 811\n"
     ]
    }
   ],
   "source": [
    "# ctd - dropoff census tract\n",
    "ctd = taxi.groupBy(ct.dropoff_ct).count().orderBy(\"count\", ascending=False).cache()\n",
    "ctd.show(5)\n",
    "ctd_count = ctd.filter(ctd[ct.dropoff_ct].isNotNull()).count()\n",
    "print('============================================')\n",
    "print('dropoff ct count:',ctd_count)"
   ]
  },
  {
   "cell_type": "code",
   "execution_count": 30,
   "id": "ffcc4cf4-8ff5-42b3-a1c1-a36f36f5abd4",
   "metadata": {},
   "outputs": [
    {
     "data": {
      "text/plain": [
       "180"
      ]
     },
     "execution_count": 30,
     "metadata": {},
     "output_type": "execute_result"
    }
   ],
   "source": [
    "# количество районов высадки, которых нет в мн-ве р-нов посадки\n",
    "ctd.filter(ctd[ct.dropoff_ct].isNotNull()).\\\n",
    "join(ctp.filter(ctp[ct.pickup_ct].isNotNull()),\\\n",
    "     ctd[ct.dropoff_ct]==ctp[ct.pickup_ct],'left_anti').count()"
   ]
  },
  {
   "cell_type": "code",
   "execution_count": 31,
   "id": "75dd668a-3b49-4541-bd3b-76dacc2b6550",
   "metadata": {},
   "outputs": [
    {
     "data": {
      "text/plain": [
       "34"
      ]
     },
     "execution_count": 31,
     "metadata": {},
     "output_type": "execute_result"
    }
   ],
   "source": [
    "# количество районов посадки, которых нет в мн-ве р-нов высадки\n",
    "ctp.filter(ctp[ct.pickup_ct].isNotNull()).\\\n",
    "join(ctd.filter(ctd[ct.dropoff_ct].isNotNull()),\\\n",
    "     ctd[ct.dropoff_ct]==ctp[ct.pickup_ct],'left_anti').count()"
   ]
  },
  {
   "cell_type": "code",
   "execution_count": 35,
   "id": "614e13b6-da8b-4bdf-a8c2-0c50709ddc6e",
   "metadata": {},
   "outputs": [
    {
     "data": {
      "text/plain": [
       "DataFrame[Dropoff Census Tract: bigint, Dropoff Centroid Latitude: double, Dropoff Centroid Longitude: double, count: bigint]"
      ]
     },
     "execution_count": 35,
     "metadata": {},
     "output_type": "execute_result"
    }
   ],
   "source": [
    "# ДФ по районам высадки, содержащий тройки: код р-на, широта, долгота\n",
    "ctd_geo = taxi.groupBy(ct.dropoff_ct,ct.dropoff_cl,ct.dropoff_clon).count().orderBy(\"count\", ascending=False)\n",
    "ctd_geo.cache()"
   ]
  },
  {
   "cell_type": "code",
   "execution_count": 36,
   "id": "3d7cf7a1-f777-4752-8793-9183201d6dd0",
   "metadata": {},
   "outputs": [
    {
     "name": "stdout",
     "output_type": "stream",
     "text": [
      "+--------------------+-------------------------+--------------------------+------+\n",
      "|Dropoff Census Tract|Dropoff Centroid Latitude|Dropoff Centroid Longitude| count|\n",
      "+--------------------+-------------------------+--------------------------+------+\n",
      "|                null|                     null|                      null|590945|\n",
      "|                null|             41.899602111|             -87.633308037|526527|\n",
      "|         17031839100|             41.880994471|             -87.632746489|328855|\n",
      "|         17031320100|             41.884987192|             -87.620992913|277879|\n",
      "|                null|             41.944226601|             -87.655998182|273116|\n",
      "+--------------------+-------------------------+--------------------------+------+\n",
      "only showing top 5 rows\n",
      "\n",
      "889\n"
     ]
    }
   ],
   "source": [
    "ctd_geo.show(5)\n",
    "print(ctd_geo.count())"
   ]
  },
  {
   "cell_type": "markdown",
   "id": "1bf56607-61e4-48ec-94d5-7f352eda1376",
   "metadata": {},
   "source": [
    "посмотрим есть ли записи где есть только есть только одно пустое значение в паре (широта, долгота)"
   ]
  },
  {
   "cell_type": "code",
   "execution_count": 61,
   "id": "cd5e87a2-88af-4740-8abc-26decf2b6ca7",
   "metadata": {},
   "outputs": [
    {
     "data": {
      "text/plain": [
       "0"
      ]
     },
     "execution_count": 61,
     "metadata": {},
     "output_type": "execute_result"
    }
   ],
   "source": [
    "ctd_geo.filter((ctd_geo[ct.dropoff_cl].isNull() \\\n",
    "               & ctd_geo[ct.dropoff_clon].isNotNull())\\\n",
    "               |(ctd_geo[ct.dropoff_cl].isNotNull() \\\n",
    "               & ctd_geo[ct.dropoff_clon].isNull())).count()"
   ]
  },
  {
   "cell_type": "markdown",
   "id": "e8e32de7-970a-426f-b1e0-ce4f8f058ad9",
   "metadata": {},
   "source": [
    "Таких записей нет"
   ]
  },
  {
   "cell_type": "code",
   "execution_count": 38,
   "id": "b72f6a19-c885-45e5-a3c9-a0b78fb42b6d",
   "metadata": {},
   "outputs": [
    {
     "name": "stdout",
     "output_type": "stream",
     "text": [
      "+-------------------------+--------------------------+-----+\n",
      "|Dropoff Centroid Latitude|Dropoff Centroid Longitude|count|\n",
      "+-------------------------+--------------------------+-----+\n",
      "|                     null|                      null|  228|\n",
      "|             41.728182061|             -87.596475596|    2|\n",
      "+-------------------------+--------------------------+-----+\n",
      "\n"
     ]
    }
   ],
   "source": [
    "ctd_geo.groupBy(ct.dropoff_cl,ct.dropoff_clon).count().filter(f.col('count') > 1).show()"
   ]
  },
  {
   "cell_type": "code",
   "execution_count": 44,
   "id": "d03a13e6-cdc5-4971-b445-39c890117e4f",
   "metadata": {},
   "outputs": [],
   "source": [
    "# посмотрим районы высадки с пустыми значениями для широты-долготы\n",
    "# и непустыми значениями для районов\n",
    "ctd_geo_nulls = ctd_geo.filter(ctd_geo[ct.dropoff_cl].isNull() \\\n",
    "               & ctd_geo[ct.dropoff_clon].isNull()\\\n",
    "               & ctd_geo[ct.dropoff_ct].isNotNull())"
   ]
  },
  {
   "cell_type": "code",
   "execution_count": 55,
   "id": "f7d2c638-4ed8-4783-bfe3-fd3d70c2268e",
   "metadata": {},
   "outputs": [
    {
     "data": {
      "text/plain": [
       "0"
      ]
     },
     "execution_count": 55,
     "metadata": {},
     "output_type": "execute_result"
    }
   ],
   "source": [
    "ctd_geo_nulls\\\n",
    "    .groupBy(ct.dropoff_ct)\\\n",
    "    .count()\\\n",
    "    .filter(f.col('count') > 1)\\\n",
    "    .count()"
   ]
  },
  {
   "cell_type": "markdown",
   "id": "85e138a5-0298-4136-8806-aeb00b3f5c28",
   "metadata": {},
   "source": [
    "Соберем такие де данные для районов посадки"
   ]
  },
  {
   "cell_type": "code",
   "execution_count": 46,
   "id": "a8e81ea1-882a-4091-8718-d1c1b3dd639e",
   "metadata": {},
   "outputs": [
    {
     "data": {
      "text/plain": [
       "DataFrame[Pickup Census Tract: bigint, Pickup Centroid Latitude: double, Pickup Centroid Longitude: double, count: bigint]"
      ]
     },
     "execution_count": 46,
     "metadata": {},
     "output_type": "execute_result"
    }
   ],
   "source": [
    "# ДФ по районам посадки, содержащий тройки: код р-на, широта, долгота\n",
    "ctp_geo = taxi.groupBy(ct.pickup_ct,ct.pickup_cl,ct.pickup_clon).count().orderBy(\"count\", ascending=False)\n",
    "ctp_geo.cache()"
   ]
  },
  {
   "cell_type": "code",
   "execution_count": 47,
   "id": "fe317296-3031-475a-a31c-7f6622708cbf",
   "metadata": {},
   "outputs": [
    {
     "name": "stdout",
     "output_type": "stream",
     "text": [
      "+-------------------+------------------------+-------------------------+------+\n",
      "|Pickup Census Tract|Pickup Centroid Latitude|Pickup Centroid Longitude| count|\n",
      "+-------------------+------------------------+-------------------------+------+\n",
      "|               null|            41.899602111|            -87.633308037|673556|\n",
      "|        17031980000|             41.97907082|            -87.903039661|519802|\n",
      "|               null|                    null|                     null|510734|\n",
      "|               null|            41.980264315|            -87.913624596|469878|\n",
      "|               null|            41.878865584|            -87.625192142|308122|\n",
      "+-------------------+------------------------+-------------------------+------+\n",
      "only showing top 5 rows\n",
      "\n",
      "743\n"
     ]
    }
   ],
   "source": [
    "ctp_geo.show(5)\n",
    "print(ctp_geo.count())"
   ]
  },
  {
   "cell_type": "markdown",
   "id": "093bdefe-b7c0-47be-a7f9-6b3faff44efd",
   "metadata": {},
   "source": [
    "Посмотрим повторяющиеся геоточки"
   ]
  },
  {
   "cell_type": "code",
   "execution_count": 64,
   "id": "04464c2c-0fdb-4379-843c-ea7d4d4778ab",
   "metadata": {},
   "outputs": [
    {
     "name": "stdout",
     "output_type": "stream",
     "text": [
      "+------------------------+-------------------------+-----+\n",
      "|Pickup Centroid Latitude|Pickup Centroid Longitude|count|\n",
      "+------------------------+-------------------------+-----+\n",
      "|                    null|                     null|  127|\n",
      "|            41.728182061|            -87.596475596|    2|\n",
      "+------------------------+-------------------------+-----+\n",
      "\n"
     ]
    }
   ],
   "source": [
    "ctp_geo_dupl = ctp_geo.groupBy(ct.pickup_cl,ct.pickup_clon).count().filter(f.col('count') > 1).cache()\n",
    "ctp_geo_dupl.show()"
   ]
  },
  {
   "cell_type": "markdown",
   "id": "c4a95f3a-77cb-4b07-9d5a-5b372a88be32",
   "metadata": {},
   "source": [
    "Видим значительное количество пустых геоточек. Отберем отдельно те из них, которые имеют непустое значение для кода района. Очевидно, их должно быть на 1 меньше чем всех пар (нулл, нулл), т.е. 126.  \n",
    "ДФ `ctp_geo_nulls` далее попробуем связаять с непустыми тройками (р-н, шир, долг)"
   ]
  },
  {
   "cell_type": "code",
   "execution_count": 50,
   "id": "54bb34e1-6b94-4372-86cb-e3dd601bd5cb",
   "metadata": {},
   "outputs": [],
   "source": [
    "ctp_geo_nulls = ctp_geo.filter(ctp_geo[ct.pickup_cl].isNull() \\\n",
    "               & ctp_geo[ct.pickup_clon].isNull()\\\n",
    "               & ctp_geo[ct.pickup_ct].isNotNull())"
   ]
  },
  {
   "cell_type": "markdown",
   "id": "021b379c-62f6-4274-86f8-f1ad277bd02a",
   "metadata": {},
   "source": [
    "Также посмотрим коды р-на, для повторяющихся непустых геоточек"
   ]
  },
  {
   "cell_type": "code",
   "execution_count": 78,
   "id": "86ea99a7-6b47-4c2d-a050-6e1266410a2e",
   "metadata": {},
   "outputs": [
    {
     "name": "stdout",
     "output_type": "stream",
     "text": [
      "+-------------------+------------------------+-------------------------+\n",
      "|Pickup Census Tract|Pickup Centroid Latitude|Pickup Centroid Longitude|\n",
      "+-------------------+------------------------+-------------------------+\n",
      "|               null|            41.728182061|            -87.596475596|\n",
      "|        17031470100|            41.728182061|            -87.596475596|\n",
      "+-------------------+------------------------+-------------------------+\n",
      "\n"
     ]
    }
   ],
   "source": [
    "# Фильтрация и присвоение алиаса \"a\" для ctp_geo_dupl\n",
    "ctp_geo_dupl_filtered = ctp_geo_dupl.filter(\n",
    "    ctp_geo_dupl[ct.pickup_cl].isNotNull() & ctp_geo_dupl[ct.pickup_clon].isNotNull()\n",
    ").alias(\"a\")\n",
    "\n",
    "# Присвоение алиаса \"b\" для ctp_geo\n",
    "ctp_geo_alias = ctp_geo.alias(\"b\")\n",
    "\n",
    "# Выполнение join с использованием алиасов и квалифицированных имен столбцов\n",
    "result = ctp_geo_dupl_filtered.join(\n",
    "    ctp_geo_alias,\n",
    "    (f.col(\"a.\" + ct.pickup_cl) == f.col(\"b.\" + ct.pickup_cl)) & \n",
    "    (f.col(\"a.\" + ct.pickup_clon) == f.col(\"b.\" + ct.pickup_clon))\n",
    ").select(\n",
    "    f.col(\"b.\" + ct.pickup_ct), \n",
    "    f.col(\"b.\" + ct.pickup_cl), \n",
    "    f.col(\"b.\" + ct.pickup_clon)\n",
    ")\n",
    "\n",
    "result.show()"
   ]
  },
  {
   "cell_type": "code",
   "execution_count": null,
   "id": "f481ba57-bda6-4418-aab0-29de560259aa",
   "metadata": {},
   "outputs": [],
   "source": []
  },
  {
   "cell_type": "code",
   "execution_count": null,
   "id": "044d6cfe-fbd9-49fe-8a47-fc26940a1d9a",
   "metadata": {},
   "outputs": [],
   "source": []
  },
  {
   "cell_type": "code",
   "execution_count": null,
   "id": "2612ba6a-73cc-4076-9186-c848d6f5bfd0",
   "metadata": {},
   "outputs": [],
   "source": []
  },
  {
   "cell_type": "code",
   "execution_count": null,
   "id": "e3fbcf8d-f812-41da-9910-a02f8ef60ca3",
   "metadata": {},
   "outputs": [],
   "source": []
  },
  {
   "cell_type": "code",
   "execution_count": 39,
   "id": "f79389a7-af32-48df-8f5c-0c0bd409b9b6",
   "metadata": {},
   "outputs": [
    {
     "name": "stdout",
     "output_type": "stream",
     "text": [
      "+--------------------+-------+\n",
      "|Dropoff Census Tract|  count|\n",
      "+--------------------+-------+\n",
      "|                null|3707094|\n",
      "|         17031839100| 328855|\n",
      "|         17031320100| 277879|\n",
      "|         17031980000| 243652|\n",
      "|         17031081500| 160251|\n",
      "+--------------------+-------+\n",
      "only showing top 5 rows\n",
      "\n",
      "============================================\n",
      "dropoff ct count: 811\n"
     ]
    }
   ],
   "source": [
    "geosd = taxi.groupBy(ct.dropoff_ct).count().orderBy(\"count\", ascending=False).cache()\n",
    "ctd.show(5)\n",
    "ctd_count = ctd.filter(ctd[ct.dropoff_ct].isNotNull()).count()\n",
    "print('============================================')\n",
    "print('dropoff ct count:',ctd_count)"
   ]
  },
  {
   "cell_type": "code",
   "execution_count": null,
   "id": "fa455d6b-02cc-46f0-8d5c-8c5c8026b7ae",
   "metadata": {},
   "outputs": [],
   "source": []
  },
  {
   "cell_type": "code",
   "execution_count": 61,
   "id": "e582338c-56f7-4c0b-8630-0a4dc62b8926",
   "metadata": {},
   "outputs": [
    {
     "name": "stdout",
     "output_type": "stream",
     "text": [
      "CPU times: user 23.1 ms, sys: 2.31 ms, total: 25.4 ms\n",
      "Wall time: 16.6 s\n"
     ]
    }
   ],
   "source": [
    "%%time\n",
    "# список уникальных троек\n",
    "f1 = ct.pickup_ct # 'Pickup Census Tract'\n",
    "f2 = ct.pickup_cl # 'Pickup Centroid Latitude'\n",
    "f3 = ct.pickup_clon # 'Pickup Centroid Longitude'\n",
    "pckgeo = taxi.select(f1, f2, f3).distinct().collect()"
   ]
  },
  {
   "cell_type": "code",
   "execution_count": 62,
   "id": "856c9fa8-ceab-4af7-a0f5-d31a7f2d28ac",
   "metadata": {},
   "outputs": [
    {
     "data": {
      "text/plain": [
       "743"
      ]
     },
     "execution_count": 62,
     "metadata": {},
     "output_type": "execute_result"
    }
   ],
   "source": [
    "len(pckgeo)"
   ]
  },
  {
   "cell_type": "code",
   "execution_count": 63,
   "id": "259ad12a-0b29-4cfa-b5bd-4c690c49b392",
   "metadata": {},
   "outputs": [
    {
     "data": {
      "text/plain": [
       "[Row(Pickup Census Tract=17031351000, Pickup Centroid Latitude=41.834673598, Pickup Centroid Longitude=-87.610834737),\n",
       " Row(Pickup Census Tract=17031490400, Pickup Centroid Latitude=41.723821251, Pickup Centroid Longitude=-87.611845985),\n",
       " Row(Pickup Census Tract=17031831600, Pickup Centroid Latitude=41.925588088, Pickup Centroid Longitude=-87.797600684)]"
      ]
     },
     "execution_count": 63,
     "metadata": {},
     "output_type": "execute_result"
    }
   ],
   "source": [
    "pckgeo[:3]"
   ]
  },
  {
   "cell_type": "code",
   "execution_count": 64,
   "id": "be425be6-590f-4073-9436-6459501ca6bd",
   "metadata": {},
   "outputs": [
    {
     "data": {
      "text/plain": [
       "78"
      ]
     },
     "execution_count": 64,
     "metadata": {},
     "output_type": "execute_result"
    }
   ],
   "source": [
    "len([row for row in pckgeo if row[f1] is None])"
   ]
  },
  {
   "cell_type": "code",
   "execution_count": 65,
   "id": "9e0d2bbe-0ecd-4911-8d43-5cab08865451",
   "metadata": {},
   "outputs": [],
   "source": [
    "from collections import defaultdict"
   ]
  },
  {
   "cell_type": "code",
   "execution_count": 66,
   "id": "5ee9f79b-436c-4937-88ba-61d62461e7e6",
   "metadata": {},
   "outputs": [
    {
     "name": "stderr",
     "output_type": "stream",
     "text": [
      "100%|██████████| 743/743 [00:00<00:00, 67468.45it/s]\n"
     ]
    }
   ],
   "source": [
    "# Инициализация словаря для хранения значений\n",
    "tract_to_coords = defaultdict(list)\n",
    "\n",
    "# Заполнение словаря\n",
    "for row in tqdm(pckgeo):\n",
    "    tract = row[f1]\n",
    "    coords = (row[f3], row[f2])\n",
    "    tract_to_coords[tract].append(coords)\n",
    "\n",
    "# Поиск районов с разными значениями широты и долготы\n",
    "repeated_tracts = {tract: coords for tract, coords in tract_to_coords.items() if len(set(coords)) > 1}"
   ]
  },
  {
   "cell_type": "code",
   "execution_count": 67,
   "id": "ef7b7c2b-e80d-470b-8f10-21417c2543fc",
   "metadata": {},
   "outputs": [
    {
     "name": "stdout",
     "output_type": "stream",
     "text": [
      "Район: None, Количетво геоточек: 78\n",
      "\n",
      "Количество районов с разными значениями широты и долготы: 1\n"
     ]
    }
   ],
   "source": [
    "# Вывод результатов\n",
    "for tract, coords in repeated_tracts.items():\n",
    "    print(f\"Район: {tract}, Количетво геоточек: {len(coords)}\")\n",
    "    print()\n",
    "\n",
    "# Количество таких районов\n",
    "print(f\"Количество районов с разными значениями широты и долготы: {len(repeated_tracts)}\")"
   ]
  },
  {
   "cell_type": "code",
   "execution_count": 68,
   "id": "445e33ad-194b-444b-900c-88fac621003d",
   "metadata": {},
   "outputs": [
    {
     "name": "stdout",
     "output_type": "stream",
     "text": [
      "geopoint: (-87.596475596, 41.728182061) - 17031470100\n"
     ]
    }
   ],
   "source": [
    "for geop in repeated_tracts[None]:\n",
    "    if geop == (None,None): continue\n",
    "    # print(f\"geop {geop}\")\n",
    "    for tract, geos in tract_to_coords.items():\n",
    "        if tract is None: continue\n",
    "        if geop in geos:\n",
    "            print(f\"geopoint: {geop} - {tract}\")"
   ]
  },
  {
   "cell_type": "code",
   "execution_count": 69,
   "id": "1a58d7d2-d65b-40e6-a3dd-2f323f994538",
   "metadata": {},
   "outputs": [],
   "source": [
    "# tract_to_coords"
   ]
  },
  {
   "cell_type": "code",
   "execution_count": 70,
   "id": "aba7b7f3-4dd4-4b9f-b6c0-dafac4fb23f1",
   "metadata": {},
   "outputs": [
    {
     "name": "stdout",
     "output_type": "stream",
     "text": [
      "CPU times: user 25.4 ms, sys: 1.55 ms, total: 27 ms\n",
      "Wall time: 17.7 s\n"
     ]
    }
   ],
   "source": [
    "%%time\n",
    "geos_pck = taxi.select(f2, f3).distinct().orderBy(f2, f3).collect()"
   ]
  },
  {
   "cell_type": "code",
   "execution_count": 71,
   "id": "f2431796-d78f-4f51-a591-8c8fec153109",
   "metadata": {},
   "outputs": [
    {
     "data": {
      "text/plain": [
       "616"
      ]
     },
     "execution_count": 71,
     "metadata": {},
     "output_type": "execute_result"
    }
   ],
   "source": [
    "len(geos_pck)"
   ]
  },
  {
   "cell_type": "code",
   "execution_count": 72,
   "id": "1b339658-0653-4c75-bb96-5f9e5eb3b9c9",
   "metadata": {},
   "outputs": [
    {
     "data": {
      "text/plain": [
       "[Row(Pickup Centroid Latitude=None, Pickup Centroid Longitude=None),\n",
       " Row(Pickup Centroid Latitude=41.651921576, Pickup Centroid Longitude=-87.564929171),\n",
       " Row(Pickup Centroid Latitude=41.660136051, Pickup Centroid Longitude=-87.60284764),\n",
       " Row(Pickup Centroid Latitude=41.663670652, Pickup Centroid Longitude=-87.540935513),\n",
       " Row(Pickup Centroid Latitude=41.663759731, Pickup Centroid Longitude=-87.637304085)]"
      ]
     },
     "execution_count": 72,
     "metadata": {},
     "output_type": "execute_result"
    }
   ],
   "source": [
    "geos_pck[:5]"
   ]
  },
  {
   "cell_type": "code",
   "execution_count": 73,
   "id": "63549c1e-2d15-43f6-8ec4-7d08020b1575",
   "metadata": {},
   "outputs": [
    {
     "name": "stdout",
     "output_type": "stream",
     "text": [
      "CPU times: user 25.2 ms, sys: 8.61 ms, total: 33.8 ms\n",
      "Wall time: 16.3 s\n"
     ]
    }
   ],
   "source": [
    "%%time\n",
    "f2 = 'Pickup Centroid Latitude'\n",
    "f3 = 'Pickup Centroid Longitude'\n",
    "geos_pck_not_null = taxi.select(f2, f3).filter(taxi[f2].isNotNull() &\n",
    "                taxi[f3].isNotNull()).distinct().orderBy(taxi[f2].asc(), taxi[f3].asc()).collect()"
   ]
  },
  {
   "cell_type": "code",
   "execution_count": 74,
   "id": "9455028a-f3ab-459c-aacb-4cb140e0c2eb",
   "metadata": {},
   "outputs": [
    {
     "data": {
      "text/plain": [
       "[Row(Pickup Centroid Latitude=41.651921576, Pickup Centroid Longitude=-87.564929171),\n",
       " Row(Pickup Centroid Latitude=41.660136051, Pickup Centroid Longitude=-87.60284764),\n",
       " Row(Pickup Centroid Latitude=41.663670652, Pickup Centroid Longitude=-87.540935513),\n",
       " Row(Pickup Centroid Latitude=41.663759731, Pickup Centroid Longitude=-87.637304085),\n",
       " Row(Pickup Centroid Latitude=41.665167734, Pickup Centroid Longitude=-87.535284961)]"
      ]
     },
     "execution_count": 74,
     "metadata": {},
     "output_type": "execute_result"
    }
   ],
   "source": [
    "geos_pck_not_null[:5]"
   ]
  },
  {
   "cell_type": "code",
   "execution_count": 75,
   "id": "bae0e17e-a42b-4b93-bdf0-77fc4a64419d",
   "metadata": {},
   "outputs": [
    {
     "name": "stdout",
     "output_type": "stream",
     "text": [
      "CPU times: user 3.63 s, sys: 83.9 ms, total: 3.71 s\n",
      "Wall time: 18.7 s\n"
     ]
    }
   ],
   "source": [
    "%%time\n",
    "geos_pck_not_null = taxi.select(f2, f3).filter(taxi[f2].isNull() &\n",
    "                taxi[f3].isNull()).collect()"
   ]
  },
  {
   "cell_type": "code",
   "execution_count": 76,
   "id": "6397549a-0d33-4f8d-b108-604921680901",
   "metadata": {},
   "outputs": [
    {
     "name": "stdout",
     "output_type": "stream",
     "text": [
      "CPU times: user 178 ms, sys: 0 ns, total: 178 ms\n",
      "Wall time: 188 ms\n"
     ]
    }
   ],
   "source": [
    "%%time\n",
    "geos_pck_not_null = taxi.select(f2, f3).filter(taxi[f2].isNull() & taxi[f3].isNull())"
   ]
  },
  {
   "cell_type": "code",
   "execution_count": 77,
   "id": "e36bf6c1-c4cc-4f80-901f-73b6ea4fa03d",
   "metadata": {},
   "outputs": [
    {
     "name": "stdout",
     "output_type": "stream",
     "text": [
      "511'551\n",
      "CPU times: user 0 ns, sys: 8.27 ms, total: 8.27 ms\n",
      "Wall time: 14.3 s\n"
     ]
    }
   ],
   "source": [
    "%%time\n",
    "print(pds.gvf(geos_pck_not_null.count()))"
   ]
  },
  {
   "cell_type": "code",
   "execution_count": 78,
   "id": "fb8eaae9-bc54-40f8-8ec7-2bf6c30b1d71",
   "metadata": {},
   "outputs": [
    {
     "name": "stdout",
     "output_type": "stream",
     "text": [
      "CPU times: user 13.2 ms, sys: 268 µs, total: 13.5 ms\n",
      "Wall time: 14.3 s\n"
     ]
    },
    {
     "data": {
      "text/plain": [
       "0"
      ]
     },
     "execution_count": 78,
     "metadata": {},
     "output_type": "execute_result"
    }
   ],
   "source": [
    "%%time\n",
    "taxi.select(f2, f3).filter(taxi[f2].isNull() &\n",
    "                taxi[f3].isNotNull()).count()"
   ]
  },
  {
   "cell_type": "code",
   "execution_count": 79,
   "id": "758468b7-019f-4e08-959e-1cfb48fa4785",
   "metadata": {},
   "outputs": [
    {
     "name": "stdout",
     "output_type": "stream",
     "text": [
      "CPU times: user 18.5 ms, sys: 177 µs, total: 18.6 ms\n",
      "Wall time: 14.7 s\n"
     ]
    },
    {
     "data": {
      "text/plain": [
       "0"
      ]
     },
     "execution_count": 79,
     "metadata": {},
     "output_type": "execute_result"
    }
   ],
   "source": [
    "%%time\n",
    "taxi.select(f2, f3).filter(taxi[f2].isNotNull() &\n",
    "                taxi[f3].isNull()).count()"
   ]
  },
  {
   "cell_type": "code",
   "execution_count": 80,
   "id": "e1814458-5107-475e-a0da-efcab55e084c",
   "metadata": {},
   "outputs": [
    {
     "data": {
      "text/plain": [
       "78"
      ]
     },
     "execution_count": 80,
     "metadata": {},
     "output_type": "execute_result"
    }
   ],
   "source": [
    "taxi.select(ct.pickup_ca).distinct().count()"
   ]
  },
  {
   "cell_type": "code",
   "execution_count": 81,
   "id": "85d8dcad-483c-4bb7-a409-b55fcf530855",
   "metadata": {},
   "outputs": [
    {
     "data": {
      "text/plain": [
       "78"
      ]
     },
     "execution_count": 81,
     "metadata": {},
     "output_type": "execute_result"
    }
   ],
   "source": [
    "taxi.select(ct.dropoff_ca).distinct().count()"
   ]
  },
  {
   "cell_type": "markdown",
   "id": "52162243-2d7d-473a-9ed1-5c74913820dc",
   "metadata": {},
   "source": [
    "### Частоты \"Census Tract\""
   ]
  },
  {
   "cell_type": "code",
   "execution_count": 32,
   "id": "5ebba126-5855-4844-bed6-bba34d76fac0",
   "metadata": {},
   "outputs": [],
   "source": [
    "# Функция для вычисления частот\n",
    "def frq(df, column):\n",
    "    # Вычисляем частоту для каждого значения\n",
    "    freq_df = df.groupBy(column).count().orderBy(\"count\", ascending=False)\n",
    "    freq_df = freq_df.withColumn(\"ratio\", freq_df[\"count\"]/row_count)\n",
    "    return freq_df"
   ]
  },
  {
   "cell_type": "code",
   "execution_count": 33,
   "id": "061a649b-0b0c-46b2-8eea-1bcd12295987",
   "metadata": {},
   "outputs": [
    {
     "name": "stdout",
     "output_type": "stream",
     "text": [
      "CPU times: user 48.5 ms, sys: 3.36 ms, total: 51.9 ms\n",
      "Wall time: 18.7 s\n"
     ]
    }
   ],
   "source": [
    "%%time\n",
    "pct_frq = frq(taxi,ct.pickup_ct)\n",
    "\n",
    "pct_frq_list = [list(t) for t in \\\n",
    "                zip(*[[str(row[ct.pickup_ct]), row['ratio']] \\\n",
    "                      for row in pct_frq.collect()])]"
   ]
  },
  {
   "cell_type": "markdown",
   "id": "3c4ec0ee-8f4f-4f5a-8e83-95aeaf6714a7",
   "metadata": {},
   "source": [
    "Как указал выше, пустых значений для кварталов более половины"
   ]
  },
  {
   "cell_type": "code",
   "execution_count": 34,
   "id": "febaf365-4efb-49e8-9852-4a14e3400229",
   "metadata": {},
   "outputs": [
    {
     "data": {
      "text/plain": [
       "['None', '0.589']"
      ]
     },
     "execution_count": 34,
     "metadata": {},
     "output_type": "execute_result"
    }
   ],
   "source": [
    "[pct_frq_list[0][0], pds.gvf(pct_frq_list[1][0],\"'\",3)]"
   ]
  },
  {
   "cell_type": "markdown",
   "id": "116a7ed3-d3a7-4a4c-9eb2-cc990555c9c0",
   "metadata": {},
   "source": [
    "Посмотрим распределение для непустых значений первых 30-ти самых активных кварталов посадки"
   ]
  },
  {
   "cell_type": "code",
   "execution_count": 35,
   "id": "10ec86d6-f2f4-4941-99a0-2e17bc5ee1f3",
   "metadata": {},
   "outputs": [
    {
     "data": {
      "image/png": "[encoded data removed]",
      "text/plain": [
       "<Figure size 1200x300 with 1 Axes>"
      ]
     },
     "metadata": {},
     "output_type": "display_data"
    }
   ],
   "source": [
    "# Построение бар-графика\n",
    "# Преобразование значений оси X в строки\n",
    "x_values = [str(x) for x in pct_frq_list[0][1:31]]\n",
    "y_values = pct_frq_list[1][1:31]\n",
    "\n",
    "plt.figure(figsize=(12, 3))\n",
    "plt.bar(range(len(x_values)), y_values, color='orange')\n",
    "plt.xlabel('Pickup Location')\n",
    "plt.ylabel('Frequency')\n",
    "plt.title('Frequency of Pickups by Location')\n",
    "plt.xticks(range(len(x_values)), x_values, rotation=90)\n",
    "\n",
    "plt.show()"
   ]
  },
  {
   "cell_type": "code",
   "execution_count": 31,
   "id": "7d4a6b0e-0585-4b4f-bc89-b330dd5af84c",
   "metadata": {},
   "outputs": [
    {
     "name": "stdout",
     "output_type": "stream",
     "text": [
      "+--------------------+-------+--------------------+\n",
      "|Dropoff Census Tract|  count|               ratio|\n",
      "+--------------------+-------+--------------------+\n",
      "|                null|3707094|  0.5808284468677658|\n",
      "|         17031839100| 328855| 0.05152508646791776|\n",
      "|         17031320100| 277879|0.043538153601491596|\n",
      "|         17031980000| 243652|  0.0381754583876818|\n",
      "|         17031081500| 160251|0.025108168133585587|\n",
      "|         17031330100| 139399|0.021841071379608848|\n",
      "|         17031081403| 133973| 0.02099092429601601|\n",
      "|         17031281900| 129117| 0.02023008495987027|\n",
      "|         17031081700| 114125|0.017881134521753096|\n",
      "|         17031081401| 100596|0.015761407302083457|\n",
      "|         17031081201|  87949|0.013779872070568789|\n",
      "|         17031833000|  83912|0.013147353866281233|\n",
      "|         17031320400|  81112|0.012708649141979734|\n",
      "|         17031081800|  76118|0.011926187930136273|\n",
      "|         17031081300|  75221|0.011785645738101114|\n",
      "|         17031280100|  67209|0.010530323505564107|\n",
      "|         17031320600|  59928| 0.00938953454212153|\n",
      "|         17031980100|  48559|0.007608236681198761|\n",
      "|         17031841000|  42231|0.006616764004277371|\n",
      "|         17031081600|  40664| 0.00637124603892721|\n",
      "+--------------------+-------+--------------------+\n",
      "only showing top 20 rows\n",
      "\n",
      "CPU times: user 32.6 ms, sys: 5.96 ms, total: 38.6 ms\n",
      "Wall time: 36.7 s\n"
     ]
    }
   ],
   "source": [
    "%%time\n",
    "dct_frq = frq(taxi,ct.dropoff_ct)\n",
    "dct_frq.show()"
   ]
  },
  {
   "cell_type": "code",
   "execution_count": 32,
   "id": "57a92771-a8be-44d9-b451-f81ae29af9dd",
   "metadata": {},
   "outputs": [
    {
     "name": "stderr",
     "output_type": "stream",
     "text": [
      "INFO:spark_app:attempt to stop SparkSession app object\n",
      "INFO:spark_app:.stop() instruction has been executed\n",
      "INFO:spark_app:attempt to create new SparkSession app object after stopping\n",
      "WARNING:spark_app:Session stopped correctly\n"
     ]
    },
    {
     "data": {
      "text/plain": [
       "'stopped'"
      ]
     },
     "execution_count": 32,
     "metadata": {},
     "output_type": "execute_result"
    }
   ],
   "source": [
    "spark_app.stop_spark_app()"
   ]
  },
  {
   "cell_type": "code",
   "execution_count": 33,
   "id": "8b678860-9fb3-43c9-aca7-d889a842a451",
   "metadata": {},
   "outputs": [
    {
     "ename": "RuntimeError",
     "evalue": "SparkContext or SparkSession should be created first.",
     "output_type": "error",
     "traceback": [
      "\u001b[0;31m---------------------------------------------------------------------------\u001b[0m",
      "\u001b[0;31mRuntimeError\u001b[0m                              Traceback (most recent call last)",
      "File \u001b[0;32m<timed exec>:1\u001b[0m\n",
      "Cell \u001b[0;32mIn[27], line 4\u001b[0m, in \u001b[0;36mfrq\u001b[0;34m(df, column)\u001b[0m\n\u001b[1;32m      2\u001b[0m \u001b[38;5;28;01mdef\u001b[39;00m \u001b[38;5;21mfrq\u001b[39m(df, column):\n\u001b[1;32m      3\u001b[0m     \u001b[38;5;66;03m# Вычисляем частоту для каждого значения\u001b[39;00m\n\u001b[0;32m----> 4\u001b[0m     freq_df \u001b[38;5;241m=\u001b[39m \u001b[43mdf\u001b[49m\u001b[38;5;241;43m.\u001b[39;49m\u001b[43mgroupBy\u001b[49m\u001b[43m(\u001b[49m\u001b[43mcolumn\u001b[49m\u001b[43m)\u001b[49m\u001b[38;5;241m.\u001b[39mcount()\u001b[38;5;241m.\u001b[39morderBy(\u001b[38;5;124m\"\u001b[39m\u001b[38;5;124mcount\u001b[39m\u001b[38;5;124m\"\u001b[39m, ascending\u001b[38;5;241m=\u001b[39m\u001b[38;5;28;01mFalse\u001b[39;00m)\n\u001b[1;32m      5\u001b[0m     freq_df \u001b[38;5;241m=\u001b[39m freq_df\u001b[38;5;241m.\u001b[39mwithColumn(\u001b[38;5;124m\"\u001b[39m\u001b[38;5;124mratio\u001b[39m\u001b[38;5;124m\"\u001b[39m, freq_df[\u001b[38;5;124m\"\u001b[39m\u001b[38;5;124mcount\u001b[39m\u001b[38;5;124m\"\u001b[39m]\u001b[38;5;241m/\u001b[39mrow_count)\n\u001b[1;32m      6\u001b[0m     \u001b[38;5;28;01mreturn\u001b[39;00m freq_df\n",
      "File \u001b[0;32m/usr/local/spark/python/pyspark/sql/dataframe.py:3223\u001b[0m, in \u001b[0;36mDataFrame.groupBy\u001b[0;34m(self, *cols)\u001b[0m\n\u001b[1;32m   3154\u001b[0m \u001b[38;5;28;01mdef\u001b[39;00m \u001b[38;5;21mgroupBy\u001b[39m(\u001b[38;5;28mself\u001b[39m, \u001b[38;5;241m*\u001b[39mcols: \u001b[38;5;124m\"\u001b[39m\u001b[38;5;124mColumnOrName\u001b[39m\u001b[38;5;124m\"\u001b[39m) \u001b[38;5;241m-\u001b[39m\u001b[38;5;241m>\u001b[39m \u001b[38;5;124m\"\u001b[39m\u001b[38;5;124mGroupedData\u001b[39m\u001b[38;5;124m\"\u001b[39m:  \u001b[38;5;66;03m# type: ignore[misc]\u001b[39;00m\n\u001b[1;32m   3155\u001b[0m \u001b[38;5;250m    \u001b[39m\u001b[38;5;124;03m\"\"\"Groups the :class:`DataFrame` using the specified columns,\u001b[39;00m\n\u001b[1;32m   3156\u001b[0m \u001b[38;5;124;03m    so we can run aggregation on them. See :class:`GroupedData`\u001b[39;00m\n\u001b[1;32m   3157\u001b[0m \u001b[38;5;124;03m    for all the available aggregate functions.\u001b[39;00m\n\u001b[0;32m   (...)\u001b[0m\n\u001b[1;32m   3221\u001b[0m \u001b[38;5;124;03m    +-----+---+-----+\u001b[39;00m\n\u001b[1;32m   3222\u001b[0m \u001b[38;5;124;03m    \"\"\"\u001b[39;00m\n\u001b[0;32m-> 3223\u001b[0m     jgd \u001b[38;5;241m=\u001b[39m \u001b[38;5;28mself\u001b[39m\u001b[38;5;241m.\u001b[39m_jdf\u001b[38;5;241m.\u001b[39mgroupBy(\u001b[38;5;28;43mself\u001b[39;49m\u001b[38;5;241;43m.\u001b[39;49m\u001b[43m_jcols\u001b[49m\u001b[43m(\u001b[49m\u001b[38;5;241;43m*\u001b[39;49m\u001b[43mcols\u001b[49m\u001b[43m)\u001b[49m)\n\u001b[1;32m   3224\u001b[0m     \u001b[38;5;28;01mfrom\u001b[39;00m \u001b[38;5;21;01mpyspark\u001b[39;00m\u001b[38;5;21;01m.\u001b[39;00m\u001b[38;5;21;01msql\u001b[39;00m\u001b[38;5;21;01m.\u001b[39;00m\u001b[38;5;21;01mgroup\u001b[39;00m \u001b[38;5;28;01mimport\u001b[39;00m GroupedData\n\u001b[1;32m   3226\u001b[0m     \u001b[38;5;28;01mreturn\u001b[39;00m GroupedData(jgd, \u001b[38;5;28mself\u001b[39m)\n",
      "File \u001b[0;32m/usr/local/spark/python/pyspark/sql/dataframe.py:2617\u001b[0m, in \u001b[0;36mDataFrame._jcols\u001b[0;34m(self, *cols)\u001b[0m\n\u001b[1;32m   2615\u001b[0m \u001b[38;5;28;01mif\u001b[39;00m \u001b[38;5;28mlen\u001b[39m(cols) \u001b[38;5;241m==\u001b[39m \u001b[38;5;241m1\u001b[39m \u001b[38;5;129;01mand\u001b[39;00m \u001b[38;5;28misinstance\u001b[39m(cols[\u001b[38;5;241m0\u001b[39m], \u001b[38;5;28mlist\u001b[39m):\n\u001b[1;32m   2616\u001b[0m     cols \u001b[38;5;241m=\u001b[39m cols[\u001b[38;5;241m0\u001b[39m]\n\u001b[0;32m-> 2617\u001b[0m \u001b[38;5;28;01mreturn\u001b[39;00m \u001b[38;5;28;43mself\u001b[39;49m\u001b[38;5;241;43m.\u001b[39;49m\u001b[43m_jseq\u001b[49m\u001b[43m(\u001b[49m\u001b[43mcols\u001b[49m\u001b[43m,\u001b[49m\u001b[43m \u001b[49m\u001b[43m_to_java_column\u001b[49m\u001b[43m)\u001b[49m\n",
      "File \u001b[0;32m/usr/local/spark/python/pyspark/sql/dataframe.py:2604\u001b[0m, in \u001b[0;36mDataFrame._jseq\u001b[0;34m(self, cols, converter)\u001b[0m\n\u001b[1;32m   2598\u001b[0m \u001b[38;5;28;01mdef\u001b[39;00m \u001b[38;5;21m_jseq\u001b[39m(\n\u001b[1;32m   2599\u001b[0m     \u001b[38;5;28mself\u001b[39m,\n\u001b[1;32m   2600\u001b[0m     cols: Sequence,\n\u001b[1;32m   2601\u001b[0m     converter: Optional[Callable[\u001b[38;5;241m.\u001b[39m\u001b[38;5;241m.\u001b[39m\u001b[38;5;241m.\u001b[39m, Union[\u001b[38;5;124m\"\u001b[39m\u001b[38;5;124mPrimitiveType\u001b[39m\u001b[38;5;124m\"\u001b[39m, JavaObject]]] \u001b[38;5;241m=\u001b[39m \u001b[38;5;28;01mNone\u001b[39;00m,\n\u001b[1;32m   2602\u001b[0m ) \u001b[38;5;241m-\u001b[39m\u001b[38;5;241m>\u001b[39m JavaObject:\n\u001b[1;32m   2603\u001b[0m \u001b[38;5;250m    \u001b[39m\u001b[38;5;124;03m\"\"\"Return a JVM Seq of Columns from a list of Column or names\"\"\"\u001b[39;00m\n\u001b[0;32m-> 2604\u001b[0m     \u001b[38;5;28;01mreturn\u001b[39;00m \u001b[43m_to_seq\u001b[49m\u001b[43m(\u001b[49m\u001b[38;5;28;43mself\u001b[39;49m\u001b[38;5;241;43m.\u001b[39;49m\u001b[43msparkSession\u001b[49m\u001b[38;5;241;43m.\u001b[39;49m\u001b[43m_sc\u001b[49m\u001b[43m,\u001b[49m\u001b[43m \u001b[49m\u001b[43mcols\u001b[49m\u001b[43m,\u001b[49m\u001b[43m \u001b[49m\u001b[43mconverter\u001b[49m\u001b[43m)\u001b[49m\n",
      "File \u001b[0;32m/usr/local/spark/python/pyspark/sql/column.py:86\u001b[0m, in \u001b[0;36m_to_seq\u001b[0;34m(sc, cols, converter)\u001b[0m\n\u001b[1;32m     79\u001b[0m \u001b[38;5;250m\u001b[39m\u001b[38;5;124;03m\"\"\"\u001b[39;00m\n\u001b[1;32m     80\u001b[0m \u001b[38;5;124;03mConvert a list of Columns (or names) into a JVM Seq of Column.\u001b[39;00m\n\u001b[1;32m     81\u001b[0m \n\u001b[1;32m     82\u001b[0m \u001b[38;5;124;03mAn optional `converter` could be used to convert items in `cols`\u001b[39;00m\n\u001b[1;32m     83\u001b[0m \u001b[38;5;124;03minto JVM Column objects.\u001b[39;00m\n\u001b[1;32m     84\u001b[0m \u001b[38;5;124;03m\"\"\"\u001b[39;00m\n\u001b[1;32m     85\u001b[0m \u001b[38;5;28;01mif\u001b[39;00m converter:\n\u001b[0;32m---> 86\u001b[0m     cols \u001b[38;5;241m=\u001b[39m \u001b[43m[\u001b[49m\u001b[43mconverter\u001b[49m\u001b[43m(\u001b[49m\u001b[43mc\u001b[49m\u001b[43m)\u001b[49m\u001b[43m \u001b[49m\u001b[38;5;28;43;01mfor\u001b[39;49;00m\u001b[43m \u001b[49m\u001b[43mc\u001b[49m\u001b[43m \u001b[49m\u001b[38;5;129;43;01min\u001b[39;49;00m\u001b[43m \u001b[49m\u001b[43mcols\u001b[49m\u001b[43m]\u001b[49m\n\u001b[1;32m     87\u001b[0m \u001b[38;5;28;01massert\u001b[39;00m sc\u001b[38;5;241m.\u001b[39m_jvm \u001b[38;5;129;01mis\u001b[39;00m \u001b[38;5;129;01mnot\u001b[39;00m \u001b[38;5;28;01mNone\u001b[39;00m\n\u001b[1;32m     88\u001b[0m \u001b[38;5;28;01mreturn\u001b[39;00m sc\u001b[38;5;241m.\u001b[39m_jvm\u001b[38;5;241m.\u001b[39mPythonUtils\u001b[38;5;241m.\u001b[39mtoSeq(cols)\n",
      "File \u001b[0;32m/usr/local/spark/python/pyspark/sql/column.py:86\u001b[0m, in \u001b[0;36m<listcomp>\u001b[0;34m(.0)\u001b[0m\n\u001b[1;32m     79\u001b[0m \u001b[38;5;250m\u001b[39m\u001b[38;5;124;03m\"\"\"\u001b[39;00m\n\u001b[1;32m     80\u001b[0m \u001b[38;5;124;03mConvert a list of Columns (or names) into a JVM Seq of Column.\u001b[39;00m\n\u001b[1;32m     81\u001b[0m \n\u001b[1;32m     82\u001b[0m \u001b[38;5;124;03mAn optional `converter` could be used to convert items in `cols`\u001b[39;00m\n\u001b[1;32m     83\u001b[0m \u001b[38;5;124;03minto JVM Column objects.\u001b[39;00m\n\u001b[1;32m     84\u001b[0m \u001b[38;5;124;03m\"\"\"\u001b[39;00m\n\u001b[1;32m     85\u001b[0m \u001b[38;5;28;01mif\u001b[39;00m converter:\n\u001b[0;32m---> 86\u001b[0m     cols \u001b[38;5;241m=\u001b[39m [\u001b[43mconverter\u001b[49m\u001b[43m(\u001b[49m\u001b[43mc\u001b[49m\u001b[43m)\u001b[49m \u001b[38;5;28;01mfor\u001b[39;00m c \u001b[38;5;129;01min\u001b[39;00m cols]\n\u001b[1;32m     87\u001b[0m \u001b[38;5;28;01massert\u001b[39;00m sc\u001b[38;5;241m.\u001b[39m_jvm \u001b[38;5;129;01mis\u001b[39;00m \u001b[38;5;129;01mnot\u001b[39;00m \u001b[38;5;28;01mNone\u001b[39;00m\n\u001b[1;32m     88\u001b[0m \u001b[38;5;28;01mreturn\u001b[39;00m sc\u001b[38;5;241m.\u001b[39m_jvm\u001b[38;5;241m.\u001b[39mPythonUtils\u001b[38;5;241m.\u001b[39mtoSeq(cols)\n",
      "File \u001b[0;32m/usr/local/spark/python/pyspark/sql/column.py:63\u001b[0m, in \u001b[0;36m_to_java_column\u001b[0;34m(col)\u001b[0m\n\u001b[1;32m     61\u001b[0m     jcol \u001b[38;5;241m=\u001b[39m col\u001b[38;5;241m.\u001b[39m_jc\n\u001b[1;32m     62\u001b[0m \u001b[38;5;28;01melif\u001b[39;00m \u001b[38;5;28misinstance\u001b[39m(col, \u001b[38;5;28mstr\u001b[39m):\n\u001b[0;32m---> 63\u001b[0m     jcol \u001b[38;5;241m=\u001b[39m \u001b[43m_create_column_from_name\u001b[49m\u001b[43m(\u001b[49m\u001b[43mcol\u001b[49m\u001b[43m)\u001b[49m\n\u001b[1;32m     64\u001b[0m \u001b[38;5;28;01melse\u001b[39;00m:\n\u001b[1;32m     65\u001b[0m     \u001b[38;5;28;01mraise\u001b[39;00m \u001b[38;5;167;01mTypeError\u001b[39;00m(\n\u001b[1;32m     66\u001b[0m         \u001b[38;5;124m\"\u001b[39m\u001b[38;5;124mInvalid argument, not a string or column: \u001b[39m\u001b[38;5;124m\"\u001b[39m\n\u001b[1;32m     67\u001b[0m         \u001b[38;5;124m\"\u001b[39m\u001b[38;5;132;01m{0}\u001b[39;00m\u001b[38;5;124m of type \u001b[39m\u001b[38;5;132;01m{1}\u001b[39;00m\u001b[38;5;124m. \u001b[39m\u001b[38;5;124m\"\u001b[39m\n\u001b[1;32m     68\u001b[0m         \u001b[38;5;124m\"\u001b[39m\u001b[38;5;124mFor column literals, use \u001b[39m\u001b[38;5;124m'\u001b[39m\u001b[38;5;124mlit\u001b[39m\u001b[38;5;124m'\u001b[39m\u001b[38;5;124m, \u001b[39m\u001b[38;5;124m'\u001b[39m\u001b[38;5;124marray\u001b[39m\u001b[38;5;124m'\u001b[39m\u001b[38;5;124m, \u001b[39m\u001b[38;5;124m'\u001b[39m\u001b[38;5;124mstruct\u001b[39m\u001b[38;5;124m'\u001b[39m\u001b[38;5;124m or \u001b[39m\u001b[38;5;124m'\u001b[39m\u001b[38;5;124mcreate_map\u001b[39m\u001b[38;5;124m'\u001b[39m\u001b[38;5;124m \u001b[39m\u001b[38;5;124m\"\u001b[39m\n\u001b[1;32m     69\u001b[0m         \u001b[38;5;124m\"\u001b[39m\u001b[38;5;124mfunction.\u001b[39m\u001b[38;5;124m\"\u001b[39m\u001b[38;5;241m.\u001b[39mformat(col, \u001b[38;5;28mtype\u001b[39m(col))\n\u001b[1;32m     70\u001b[0m     )\n",
      "File \u001b[0;32m/usr/local/spark/python/pyspark/sql/column.py:55\u001b[0m, in \u001b[0;36m_create_column_from_name\u001b[0;34m(name)\u001b[0m\n\u001b[1;32m     54\u001b[0m \u001b[38;5;28;01mdef\u001b[39;00m \u001b[38;5;21m_create_column_from_name\u001b[39m(name: \u001b[38;5;28mstr\u001b[39m) \u001b[38;5;241m-\u001b[39m\u001b[38;5;241m>\u001b[39m \u001b[38;5;124m\"\u001b[39m\u001b[38;5;124mColumn\u001b[39m\u001b[38;5;124m\"\u001b[39m:\n\u001b[0;32m---> 55\u001b[0m     sc \u001b[38;5;241m=\u001b[39m \u001b[43mget_active_spark_context\u001b[49m\u001b[43m(\u001b[49m\u001b[43m)\u001b[49m\n\u001b[1;32m     56\u001b[0m     \u001b[38;5;28;01mreturn\u001b[39;00m cast(JVMView, sc\u001b[38;5;241m.\u001b[39m_jvm)\u001b[38;5;241m.\u001b[39mfunctions\u001b[38;5;241m.\u001b[39mcol(name)\n",
      "File \u001b[0;32m/usr/local/spark/python/pyspark/sql/utils.py:202\u001b[0m, in \u001b[0;36mget_active_spark_context\u001b[0;34m()\u001b[0m\n\u001b[1;32m    200\u001b[0m sc \u001b[38;5;241m=\u001b[39m SparkContext\u001b[38;5;241m.\u001b[39m_active_spark_context\n\u001b[1;32m    201\u001b[0m \u001b[38;5;28;01mif\u001b[39;00m sc \u001b[38;5;129;01mis\u001b[39;00m \u001b[38;5;28;01mNone\u001b[39;00m \u001b[38;5;129;01mor\u001b[39;00m sc\u001b[38;5;241m.\u001b[39m_jvm \u001b[38;5;129;01mis\u001b[39;00m \u001b[38;5;28;01mNone\u001b[39;00m:\n\u001b[0;32m--> 202\u001b[0m     \u001b[38;5;28;01mraise\u001b[39;00m \u001b[38;5;167;01mRuntimeError\u001b[39;00m(\u001b[38;5;124m\"\u001b[39m\u001b[38;5;124mSparkContext or SparkSession should be created first.\u001b[39m\u001b[38;5;124m\"\u001b[39m)\n\u001b[1;32m    203\u001b[0m \u001b[38;5;28;01mreturn\u001b[39;00m sc\n",
      "\u001b[0;31mRuntimeError\u001b[0m: SparkContext or SparkSession should be created first."
     ]
    }
   ],
   "source": [
    "%%time\n",
    "pca_frq = frq(taxi,ct.pickup_ca)\n",
    "pca_frq.show()"
   ]
  },
  {
   "cell_type": "markdown",
   "id": "73284f19-a4c3-4c4d-bd30-4064b765ebb7",
   "metadata": {},
   "source": [
    "### Уникальные значения для \"Census Tract\""
   ]
  },
  {
   "cell_type": "code",
   "execution_count": 36,
   "id": "a6739042-aee7-4391-89f9-41c86dba77d2",
   "metadata": {},
   "outputs": [],
   "source": [
    "def compare_unique_values(df, field1, field2):\n",
    "    # Извлекаем уникальные значения для каждого поля\n",
    "    unique_values_field1 = df.select(field1).distinct().collect()\n",
    "    unique_values_field2 = df.select(field2).distinct().collect()\n",
    "    \n",
    "    # Преобразуем результаты в множества\n",
    "    set_field1 = {row[field1] for row in unique_values_field1}\n",
    "    set_field2 = {row[field2] for row in unique_values_field2}\n",
    "    \n",
    "    # Находим значения, которые есть в set_field1, но нет в set_field2\n",
    "    only_in_field1 = {value for value in set_field1 if value not in set_field2}\n",
    "    \n",
    "    # Находим значения, которые есть в set_field2, но нет в set_field1\n",
    "    only_in_field2 = {value for value in set_field2 if value not in set_field1}\n",
    "    \n",
    "    return only_in_field1, only_in_field2, set_field1, set_field2"
   ]
  },
  {
   "cell_type": "code",
   "execution_count": 37,
   "id": "26af8d45-70bf-4a25-8b9d-9af4b3726760",
   "metadata": {},
   "outputs": [
    {
     "name": "stdout",
     "output_type": "stream",
     "text": [
      "CPU times: user 50.4 ms, sys: 21.3 ms, total: 71.7 ms\n",
      "Wall time: 33.1 s\n"
     ]
    }
   ],
   "source": [
    "%%time\n",
    "only_pickup, only_dropoff, pickup, dropoff = \\\n",
    "compare_unique_values(taxi, ct.pickup_ct,ct.dropoff_ct)"
   ]
  },
  {
   "cell_type": "code",
   "execution_count": 38,
   "id": "0758ed38-b54f-4d28-aea6-d492759f631d",
   "metadata": {},
   "outputs": [
    {
     "name": "stdout",
     "output_type": "stream",
     "text": [
      "`Pickup Census Tract` distinct count: 666  | only in pickup set: 34\n",
      "`Dropoff Census Tract` distinct count: 812  | only in dropoff set: 180\n"
     ]
    }
   ],
   "source": [
    "print('`Pickup Census Tract` distinct count:',len(pickup), ' | only in pickup set:',len(only_pickup))\n",
    "print('`Dropoff Census Tract` distinct count:',len(dropoff), ' | only in dropoff set:',len(only_dropoff))"
   ]
  },
  {
   "cell_type": "code",
   "execution_count": 82,
   "id": "f46ce5a4-15ec-42c1-ad4d-82ab052e6a5d",
   "metadata": {},
   "outputs": [
    {
     "name": "stdout",
     "output_type": "stream",
     "text": [
      "*******-------------*******\n"
     ]
    }
   ],
   "source": [
    "ct.testtt()"
   ]
  },
  {
   "cell_type": "code",
   "execution_count": 83,
   "id": "1530d7ed-377d-4bd2-b645-fe0d1df28372",
   "metadata": {},
   "outputs": [
    {
     "data": {
      "text/plain": [
       "{'trip_i': 'Trip ID',\n",
       " 'taxi_i': 'Taxi ID',\n",
       " 'trip_st': 'Trip Start Timestamp',\n",
       " 'trip_et': 'Trip End Timestamp',\n",
       " 'trip_s': 'Trip Seconds',\n",
       " 'trip_m': 'Trip Miles',\n",
       " 'pickup_ct': 'Pickup Census Tract',\n",
       " 'dropoff_ct': 'Dropoff Census Tract',\n",
       " 'pickup_ca': 'Pickup Community Area',\n",
       " 'dropoff_ca': 'Dropoff Community Area',\n",
       " 'fare': 'Fare',\n",
       " 'tips': 'Tips',\n",
       " 'tolls': 'Tolls',\n",
       " 'extras': 'Extras',\n",
       " 'trip_t': 'Trip Total',\n",
       " 'payment_t': 'Payment Type',\n",
       " 'company': 'Company',\n",
       " 'pickup_cl': 'Pickup Centroid Latitude',\n",
       " 'pickup_clon': 'Pickup Centroid Longitude',\n",
       " 'pickup_cloc': 'Pickup Centroid Location',\n",
       " 'dropoff_cl': 'Dropoff Centroid Latitude',\n",
       " 'dropoff_clon': 'Dropoff Centroid Longitude',\n",
       " 'dropoff_cloc': 'Dropoff Centroid  Location'}"
      ]
     },
     "execution_count": 83,
     "metadata": {},
     "output_type": "execute_result"
    }
   ],
   "source": [
    "ct.get_aliases()"
   ]
  },
  {
   "cell_type": "code",
   "execution_count": 84,
   "id": "6161184d-dfc3-49f4-94ac-6d08db62cfe3",
   "metadata": {},
   "outputs": [
    {
     "data": {
      "text/plain": [
       "[Row(Trip ID='bcfa19f2539021c054809d4c3993d226996ae095', Taxi ID='368ce5511598af2cc07efdb68067d381174fdac1d47a2837d021e647f4c8febb3d9bf330e155845b8217b9b451c29b1b9ecf5d55d4bfe6cfd5d79ffb49b1f334', Trip Start Timestamp='01/01/2022 12:00:00 AM', Trip End Timestamp='01/01/2022 12:00:00 AM', Trip Seconds=152, Trip Miles=0.1, Pickup Census Tract=None, Dropoff Census Tract=None, Pickup Community Area=None, Dropoff Community Area=None, Fare=3.75, Tips=0.0, Tolls=0.0, Extras=0.0, Trip Total=3.75, Payment Type='Cash', Company='Medallion Leasin', Pickup Centroid Latitude=None, Pickup Centroid Longitude=None, Pickup Centroid Location=None, Dropoff Centroid Latitude=None, Dropoff Centroid Longitude=None, Dropoff Centroid  Location=None)]"
      ]
     },
     "execution_count": 84,
     "metadata": {},
     "output_type": "execute_result"
    }
   ],
   "source": [
    "taxi.take(1)"
   ]
  },
  {
   "cell_type": "code",
   "execution_count": 85,
   "id": "0108e596-867e-404e-94b9-3b5cc0903bcb",
   "metadata": {},
   "outputs": [
    {
     "data": {
      "text/plain": [
       "1777033"
      ]
     },
     "execution_count": 85,
     "metadata": {},
     "output_type": "execute_result"
    }
   ],
   "source": [
    "taxi.filter(taxi[ct.trip_m]>10).count()"
   ]
  },
  {
   "cell_type": "code",
   "execution_count": 86,
   "id": "96364e7f-2cc2-49e6-ab7b-8f6f930d7660",
   "metadata": {},
   "outputs": [],
   "source": [
    "long = taxi.filter((taxi[ct.trip_m]>9.9) & (taxi[ct.trip_m]<10.1) \n",
    "                   & taxi[ct.pickup_cl].isNotNull() & taxi[ct.dropoff_cl].isNotNull() \n",
    "                   & taxi[ct.pickup_clon].isNotNull() & taxi[ct.dropoff_clon].isNotNull()\n",
    "                  )"
   ]
  },
  {
   "cell_type": "code",
   "execution_count": 87,
   "id": "c059e801-b167-416f-bbc9-8259813832e7",
   "metadata": {},
   "outputs": [
    {
     "data": {
      "text/plain": [
       "20855"
      ]
     },
     "execution_count": 87,
     "metadata": {},
     "output_type": "execute_result"
    }
   ],
   "source": [
    "long.count()"
   ]
  },
  {
   "cell_type": "code",
   "execution_count": 88,
   "id": "3f934cc9-fd48-40ed-9446-e610a710501e",
   "metadata": {},
   "outputs": [],
   "source": [
    "long = long.withColumn('Distance',(\n",
    "                                ((taxi[ct.pickup_cl]-taxi[ct.dropoff_cl])**2 +\n",
    "                                (taxi[ct.pickup_clon]-taxi[ct.dropoff_clon])**2))**0.5)"
   ]
  },
  {
   "cell_type": "code",
   "execution_count": 89,
   "id": "11398ee0-0610-4f9b-b108-39183a8ff066",
   "metadata": {},
   "outputs": [
    {
     "name": "stdout",
     "output_type": "stream",
     "text": [
      "CPU times: user 6.84 ms, sys: 9.91 ms, total: 16.7 ms\n",
      "Wall time: 242 ms\n"
     ]
    },
    {
     "data": {
      "text/plain": [
       "[Row(Pickup Centroid Latitude=41.901206994, Dropoff Centroid Latitude=41.901206994, Pickup Centroid Longitude=-87.676355989, Dropoff Centroid Longitude=-87.676355989, Distance=0.0),\n",
       " Row(Pickup Centroid Latitude=41.874005383, Dropoff Centroid Latitude=41.9867118, Pickup Centroid Longitude=-87.66351755, Dropoff Centroid Longitude=-87.663416405, Distance=0.11270646238477244),\n",
       " Row(Pickup Centroid Latitude=41.899602111, Dropoff Centroid Latitude=41.839086906, Pickup Centroid Longitude=-87.633308037, Dropoff Centroid Longitude=-87.714003807, Distance=0.10086573913913337),\n",
       " Row(Pickup Centroid Latitude=41.857183858, Dropoff Centroid Latitude=41.9867118, Pickup Centroid Longitude=-87.620334624, Dropoff Centroid Longitude=-87.663416405, Distance=0.1365046798204703),\n",
       " Row(Pickup Centroid Latitude=41.874005383, Dropoff Centroid Latitude=41.857183858, Pickup Centroid Longitude=-87.66351755, Dropoff Centroid Longitude=-87.620334624, Distance=0.046343595040167315),\n",
       " Row(Pickup Centroid Latitude=41.850266366, Dropoff Centroid Latitude=41.954027649, Pickup Centroid Longitude=-87.667569312, Dropoff Centroid Longitude=-87.763399032, Distance=0.1412435452864429),\n",
       " Row(Pickup Centroid Latitude=41.740205756, Dropoff Centroid Latitude=41.874005383, Pickup Centroid Longitude=-87.615969523, Dropoff Centroid Longitude=-87.66351755, Distance=0.14199702481717558),\n",
       " Row(Pickup Centroid Latitude=41.79259236, Dropoff Centroid Latitude=41.874005383, Pickup Centroid Longitude=-87.769615453, Dropoff Centroid Longitude=-87.66351755, Distance=0.1337342339679578),\n",
       " Row(Pickup Centroid Latitude=41.9867118, Dropoff Centroid Latitude=41.857183858, Pickup Centroid Longitude=-87.663416405, Dropoff Centroid Longitude=-87.620334624, Distance=0.1365046798204703),\n",
       " Row(Pickup Centroid Latitude=41.92276062, Dropoff Centroid Latitude=42.001571027, Pickup Centroid Longitude=-87.699155343, Dropoff Centroid Longitude=-87.695012589, Distance=0.07891921605166885)]"
      ]
     },
     "execution_count": 89,
     "metadata": {},
     "output_type": "execute_result"
    }
   ],
   "source": [
    "%%time\n",
    "long.select(ct.pickup_cl,ct.dropoff_cl,ct.pickup_clon,ct.dropoff_clon,'Distance').take(10)"
   ]
  },
  {
   "cell_type": "markdown",
   "id": "13951a92-0a72-465f-adde-6cb61125c7b6",
   "metadata": {},
   "source": [
    "## UDF"
   ]
  },
  {
   "cell_type": "markdown",
   "id": "31f2f9db-2ce4-46a1-9303-4b4c319669c0",
   "metadata": {},
   "source": [
    "#### Пример UDF (с устаревшим способом указания типа UDF)\n",
    "для возврата значения функции норм.распределения вер-ти для 1М случайных значений"
   ]
  },
  {
   "cell_type": "code",
   "execution_count": 90,
   "id": "a26972ec-8994-4f5b-bb60-6e64bd7ba81a",
   "metadata": {},
   "outputs": [
    {
     "name": "stdout",
     "output_type": "stream",
     "text": [
      "+---+------------------+\n",
      "| id|               val|\n",
      "+---+------------------+\n",
      "|  0|0.6627121395028065|\n",
      "|  1|0.7992250359037549|\n",
      "|  2|0.5431878775820032|\n",
      "+---+------------------+\n",
      "only showing top 3 rows\n",
      "\n"
     ]
    },
    {
     "name": "stderr",
     "output_type": "stream",
     "text": [
      "/opt/conda/lib/python3.11/site-packages/pyspark/sql/pandas/functions.py:399: UserWarning: In Python 3.6+ and Spark 3.0+, it is preferred to specify type hints for pandas UDF instead of specifying pandas UDF type which will be deprecated in the future releases. See SPARK-28264 for more details.\n",
      "  warnings.warn(\n"
     ]
    },
    {
     "name": "stdout",
     "output_type": "stream",
     "text": [
      "+---+------------------+-------------------+\n",
      "| id|               val|        probability|\n",
      "+---+------------------+-------------------+\n",
      "|  0|0.6627121395028065| 0.3202887894528127|\n",
      "|  1|0.7992250359037549| 0.2898711218445793|\n",
      "|  2|0.5431878775820032|0.34422317467295227|\n",
      "|  3|0.3136391980518072| 0.3797951287627703|\n",
      "|  4| 0.887399732086023| 0.2690985322764769|\n",
      "+---+------------------+-------------------+\n",
      "only showing top 5 rows\n",
      "\n",
      "CPU times: user 321 ms, sys: 39.4 ms, total: 361 ms\n",
      "Wall time: 3.15 s\n"
     ]
    }
   ],
   "source": [
    "%%time\n",
    "\n",
    "from scipy import stats\n",
    "\n",
    "big_df = (\n",
    "    spark\n",
    "    .range(0, 1_000_000)\n",
    "    .withColumn('val',f.rand())\n",
    ")\n",
    "\n",
    "big_df.cache()\n",
    "big_df.show(3)\n",
    "\n",
    "@f.pandas_udf('double', f.PandasUDFType.SCALAR)\n",
    "def pandas_pdf(v):\n",
    "    return pd.Series(stats.norm.pdf(v))\n",
    "\n",
    "(\n",
    "    big_df\n",
    "    .withColumn('probability', pandas_pdf(big_df.val))\n",
    "    .show(5)\n",
    ")"
   ]
  },
  {
   "cell_type": "markdown",
   "id": "d486427a-7183-4688-97f9-5f57bf93e353",
   "metadata": {},
   "source": [
    "Предупреждение  \n",
    "`/opt/conda/lib/python3.11/site-packages/pyspark/sql/pandas/functions.py:399: UserWarning: In Python 3.6+ and Spark 3.0+, it is preferred to specify type hints for pandas UDF instead of specifying pandas UDF type which will be deprecated in the future releases. See SPARK-28264 for more details.\r\n",
    "  warnings.warn`  \n",
    "\n",
    "связано с устареванием способа указания типа UDF (User Defined Function) в PySpark. Сообщение указывает на то, что начиная с Python 3.6 и Spark 3.0, предпочтительно использовать аннотации типов вместо указания типа UDF через параметр f.PandasUDFType.\n",
    "\n",
    "Конкретно предупреждение означает, что метод указания типа UDF через f.PandasUDFType.SCALAR будет устаревшим в будущих версиях PySpark, и рекомендуется использовать аннотации типов для Pandas UDF. Это сделано для повышения ясности кода и его поддерживаемости"
   ]
  },
  {
   "cell_type": "markdown",
   "id": "f8b2b360-2d14-4cdc-922e-ca61138f0b5e",
   "metadata": {},
   "source": [
    "В `@f.pandas_udf('double', f.PandasUDFType.SCALAR)`\n",
    "- первый параметр `'double'` указывает тип возвращаемого значения ЮДФ,\n",
    "- второй параметр - это тип функции. Если возвращается один столбец (`.Series(...)`), используется `.PandasUDFType.SCALAR`, если возвращается несколько столбцов (pandas `DataFrame(...)`), `.PandasUDFType.GROUPED_MAP`"
   ]
  },
  {
   "cell_type": "markdown",
   "id": "3b36d823-080b-4716-b243-b1f2157dfaea",
   "metadata": {},
   "source": [
    "### Пример UDF (аргумент - Series) с аннотацией типов"
   ]
  },
  {
   "cell_type": "code",
   "execution_count": 91,
   "id": "e34e0443-4ef2-4cda-b209-9013b9d72c20",
   "metadata": {},
   "outputs": [
    {
     "name": "stdout",
     "output_type": "stream",
     "text": [
      "+---+------------------+\n",
      "| id|               val|\n",
      "+---+------------------+\n",
      "|  0|0.9313134857540163|\n",
      "|  1|0.6350425702139387|\n",
      "|  2| 0.520918598957538|\n",
      "+---+------------------+\n",
      "only showing top 3 rows\n",
      "\n",
      "+---+------------------+-------------------+\n",
      "| id|               val|                pdf|\n",
      "+---+------------------+-------------------+\n",
      "|  0|0.9313134857540163|0.25856428335881904|\n",
      "|  1|0.6350425702139387| 0.3260912378075341|\n",
      "|  2| 0.520918598957538|0.34832594062084027|\n",
      "+---+------------------+-------------------+\n",
      "only showing top 3 rows\n",
      "\n",
      "CPU times: user 23.6 ms, sys: 1.26 ms, total: 24.9 ms\n",
      "Wall time: 2.47 s\n"
     ]
    }
   ],
   "source": [
    "%%time\n",
    "from pyspark.sql.types import DoubleType\n",
    "\n",
    "big_df = (\n",
    "    spark\n",
    "    .range(0, 1_000_000)\n",
    "    .withColumn('val', f.rand())\n",
    ")\n",
    "\n",
    "big_df.cache()\n",
    "big_df.show(3)\n",
    "\n",
    "@f.pandas_udf(DoubleType())\n",
    "def pandas_pdf(v: pd.Series) -> pd.Series:\n",
    "    return pd.Series(stats.norm.pdf(v))\n",
    "\n",
    "result = big_df.withColumn('pdf', pandas_pdf(f.col('val')))\n",
    "result.show(3)"
   ]
  },
  {
   "cell_type": "markdown",
   "id": "38e3bbc7-9015-4c18-8478-e47a8ae347af",
   "metadata": {},
   "source": [
    "Здесь `DoubleType()` используется вместо `f.PandasUDFType.SCALAR`, и типы указаны непосредственно в аннотациях функции `(v: pd.Series) -> pd.Series`. Это улучшает читаемость кода и соответствует новым стандартам PySpark."
   ]
  },
  {
   "cell_type": "markdown",
   "id": "11e067f2-4e7f-4479-badf-ef564dadbec5",
   "metadata": {},
   "source": [
    "В актуальном способе указания типов для PySpark UDF для определения UDF, которая возвращает несколько столбцов (pandas DataFrame), вы можете использовать аннотацию функции и указание типа возвращаемого значения при помощи PySpark StructType. В этом случае вам понадобится указать схему (schema), описывающую структуру возвращаемого DataFrame."
   ]
  },
  {
   "cell_type": "code",
   "execution_count": 92,
   "id": "04ff4ad3-c243-48ad-89ee-2ac33b1d3c4b",
   "metadata": {},
   "outputs": [
    {
     "name": "stdout",
     "output_type": "stream",
     "text": [
      "+-----------------+\n",
      "|my_udf(input_col)|\n",
      "+-----------------+\n",
      "|       {2.0, 1.0}|\n",
      "|       {4.0, 2.0}|\n",
      "|       {6.0, 3.0}|\n",
      "+-----------------+\n",
      "\n"
     ]
    }
   ],
   "source": [
    "from pyspark.sql.functions import pandas_udf\n",
    "from pyspark.sql.types import StructType, StructField, DoubleType, StringType\n",
    "\n",
    "# Определяем схему возвращаемого DataFrame\n",
    "schema = StructType([\n",
    "    StructField(\"col1\", DoubleType(), True),\n",
    "    StructField(\"col2\", StringType(), True)\n",
    "])\n",
    "\n",
    "# Определяем Pandas UDF\n",
    "@pandas_udf(schema)\n",
    "def my_udf(input_col: pd.Series) -> pd.DataFrame:\n",
    "    # Ваш код для обработки DataFrame\n",
    "    result = pd.DataFrame({\n",
    "        \"col1\": input_col * 2,\n",
    "        \"col2\": input_col.astype(str)\n",
    "    })\n",
    "    return result\n",
    "\n",
    "# Создаем DataFrame\n",
    "df = spark.createDataFrame(\n",
    "    [(1.0,), (2.0,), (3.0,)],\n",
    "    ['input_col']\n",
    ")\n",
    "\n",
    "# Применяем UDF к столбцу\n",
    "df.select(my_udf(df['input_col'])).show()"
   ]
  },
  {
   "cell_type": "markdown",
   "id": "d7e70a56-c5a1-49e8-b2e0-9a9295f8768b",
   "metadata": {},
   "source": [
    "Pandas UDF в PySpark может принимать несколько pandas Series объектов в качестве аргументов. Для этого необходимо использовать декоратор @pandas_udf и определить схему выходного DataFrame."
   ]
  },
  {
   "cell_type": "code",
   "execution_count": 93,
   "id": "fae0e4fc-5ab5-4c02-a092-ea7ac440ab55",
   "metadata": {},
   "outputs": [
    {
     "name": "stdout",
     "output_type": "stream",
     "text": [
      "+------------------------------+\n",
      "|my_udf(input_col1, input_col2)|\n",
      "+------------------------------+\n",
      "|                    {3.0, 2.0}|\n",
      "|                   {7.0, 12.0}|\n",
      "|                  {11.0, 30.0}|\n",
      "+------------------------------+\n",
      "\n"
     ]
    }
   ],
   "source": [
    "# Определяем схему выходного DataFrame\n",
    "output_schema = StructType([\n",
    "    StructField('output_col1', DoubleType()),\n",
    "    StructField('output_col2', DoubleType())\n",
    "])\n",
    "\n",
    "# Определяем Pandas UDF с использованием декоратора @pandas_udf\n",
    "@pandas_udf(output_schema)\n",
    "def my_udf(input_col1: pd.Series, input_col2: pd.Series) -> pd.DataFrame:\n",
    "    # Создаем DataFrame из двух входных Series\n",
    "    output_df = pd.DataFrame({\n",
    "        'output_col1': input_col1 + input_col2,\n",
    "        'output_col2': input_col1 * input_col2\n",
    "    })\n",
    "    return output_df\n",
    "\n",
    "# Создаем DataFrame для теста\n",
    "df = spark.createDataFrame(\n",
    "    [(1.0, 2.0), (3.0, 4.0), (5.0, 6.0)],\n",
    "    ['input_col1', 'input_col2']\n",
    ")\n",
    "\n",
    "# Применяем Pandas UDF к DataFrame\n",
    "result_df = df.select(my_udf(df['input_col1'], df['input_col2']))\n",
    "result_df.show()"
   ]
  },
  {
   "cell_type": "markdown",
   "id": "d4a6e373-53b4-4039-8b08-ad4378a8acfe",
   "metadata": {},
   "source": [
    "### Пример UDF (аргумент - DataFrame) с аннотацией типов"
   ]
  },
  {
   "cell_type": "markdown",
   "id": "5ba50e1c-06d1-4019-becc-b3b789f5a760",
   "metadata": {},
   "source": [
    "Вы можете передать в UDF аргумент в виде DataFrame, но это будет работать только с UDF типа GROUPED_MAP. В этом случае каждый входной DataFrame будет представлять собой группу данных, по которой будет выполняться UDF. Для этого типа UDF вам необходимо определить схему входного DataFrame и схему выходного DataFrame."
   ]
  },
  {
   "cell_type": "code",
   "execution_count": 94,
   "id": "5e99fded-d065-40d9-b3e5-12e9e548143c",
   "metadata": {},
   "outputs": [
    {
     "name": "stderr",
     "output_type": "stream",
     "text": [
      "/opt/conda/lib/python3.11/site-packages/pyspark/sql/pandas/group_ops.py:103: UserWarning: It is preferred to use 'applyInPandas' over this API. This API will be deprecated in the future releases. See SPARK-28264 for more details.\n",
      "  warnings.warn(\n"
     ]
    },
    {
     "name": "stdout",
     "output_type": "stream",
     "text": [
      "+----+----+----+\n",
      "|col1|col2|col3|\n",
      "+----+----+----+\n",
      "| 3.0| 4.0| 7.0|\n",
      "| 1.0| 2.0| 3.0|\n",
      "| 5.0| 6.0|11.0|\n",
      "+----+----+----+\n",
      "\n"
     ]
    }
   ],
   "source": [
    "# Определяем схему входного DataFrame\n",
    "input_schema = StructType([\n",
    "    StructField(\"col1\", DoubleType(), True),\n",
    "    StructField(\"col2\", DoubleType(), True)\n",
    "])\n",
    "\n",
    "# Определяем схему возвращаемого DataFrame\n",
    "output_schema = StructType([\n",
    "    StructField(\"col1\", DoubleType(), True),\n",
    "    StructField(\"col2\", DoubleType(), True),\n",
    "    StructField(\"col3\", StringType(), True)\n",
    "])\n",
    "\n",
    "# Определяем Pandas UDF типа GROUPED_MAP\n",
    "@pandas_udf(output_schema, f.PandasUDFType.GROUPED_MAP)\n",
    "def my_udf(pdf: pd.DataFrame) -> pd.DataFrame:\n",
    "    # Ваш код для обработки DataFrame\n",
    "    pdf[\"col3\"] = (pdf[\"col1\"] + pdf[\"col2\"]).astype(str)\n",
    "    return pdf\n",
    "\n",
    "# Создаем DataFrame\n",
    "df = spark.createDataFrame(\n",
    "    [(1.0, 2.0), (3.0, 4.0), (5.0, 6.0)],\n",
    "    ['col1', 'col2']\n",
    ")\n",
    "\n",
    "# Применяем UDF к DataFrame с использованием groupBy и apply\n",
    "# В данном случае мы используем groupBy().apply() даже без явного группирования\n",
    "df.groupBy().apply(my_udf).show()"
   ]
  },
  {
   "cell_type": "markdown",
   "id": "5f1bc7f6-16d8-4864-a392-d58fbdcceed8",
   "metadata": {},
   "source": [
    "Возможное предупреждение  \n",
    "`/opt/conda/lib/python3.11/site-packages/pyspark/sql/pandas/group_ops.py:103: UserWarning: It is preferred to use 'applyInPandas' over this API. This API will be deprecated in the future releases. See SPARK-28264 for more details.\n",
    "  warnings.warn(`  \n",
    "говорит о том, что используется устаревший способ `df.groupBy().apply(my_udf).show()`. Pandas UDFs с использованием `applyInPandas` предоставляют более современный и предпочтительный способ обработки pandas DataFrame."
   ]
  },
  {
   "cell_type": "markdown",
   "id": "7079987e-4705-42ab-b22b-9cbaf7df180e",
   "metadata": {},
   "source": [
    "Pandas UDF в режиме GROUPED_MAP не поддерживает передачу нескольких pandas DataFrame в качестве отдельных аргументов. Вместо этого вы должны объединить данные в один DataFrame до передачи в функцию. В режиме SCALAR Pandas UDF может принимать несколько Series в качестве аргументов.\n",
    "\n",
    "Для использования нескольких pandas DataFrame в Pandas UDF с декоратором @pandas_udf в режиме GROUPED_MAP, вам нужно объединить два DataFrame в один перед тем, как вызывать функцию. PySpark Pandas UDF с типом GROUPED_MAP ожидает один pandas DataFrame в качестве аргумента"
   ]
  },
  {
   "cell_type": "code",
   "execution_count": 95,
   "id": "12113131-d532-462d-8227-87f98f9cb725",
   "metadata": {},
   "outputs": [
    {
     "name": "stdout",
     "output_type": "stream",
     "text": [
      "+---+-----------+-----------+\n",
      "| id|output_col1|output_col2|\n",
      "+---+-----------+-----------+\n",
      "|  1|        3.0|        2.0|\n",
      "|  2|        7.0|       12.0|\n",
      "|  3|       11.0|       30.0|\n",
      "+---+-----------+-----------+\n",
      "\n"
     ]
    }
   ],
   "source": [
    "from pyspark.sql.types import StructType, StructField, DoubleType, IntegerType\n",
    "\n",
    "# Определяем схему выходного DataFrame\n",
    "output_schema = StructType([\n",
    "    StructField('id', IntegerType()),\n",
    "    StructField('output_col1', DoubleType()),\n",
    "    StructField('output_col2', DoubleType())\n",
    "])\n",
    "\n",
    "# Определяем Pandas UDF с использованием декоратора @pandas_udf\n",
    "@pandas_udf(output_schema, f.PandasUDFType.GROUPED_MAP)\n",
    "def my_udf(pdf: pd.DataFrame) -> pd.DataFrame:\n",
    "    # Создаем выходной DataFrame\n",
    "    output_df = pd.DataFrame({\n",
    "        'id': pdf['id'],\n",
    "        'output_col1': pdf['input_col1'] + pdf['input_col2'],\n",
    "        'output_col2': pdf['input_col1'] * pdf['input_col2']\n",
    "    })\n",
    "    return output_df\n",
    "\n",
    "# Создаем два DataFrame для теста\n",
    "df1 = spark.createDataFrame(\n",
    "    [(1, 1.0), (2, 3.0), (3, 5.0)],\n",
    "    ['id', 'input_col1']\n",
    ")\n",
    "\n",
    "df2 = spark.createDataFrame(\n",
    "    [(1, 2.0), (2, 4.0), (3, 6.0)],\n",
    "    ['id', 'input_col2']\n",
    ")\n",
    "\n",
    "# Объединяем два DataFrame по столбцу 'id'\n",
    "df = df1.join(df2, on='id')\n",
    "\n",
    "# Применяем Pandas UDF к DataFrame с использованием groupBy\n",
    "result_df = df.groupBy('id').apply(my_udf)\n",
    "result_df.show()"
   ]
  },
  {
   "cell_type": "markdown",
   "id": "5c349bb5-a91a-4427-8c55-68a572ffb97b",
   "metadata": {},
   "source": [
    "### Сравнение производительности векторизированой и не_ ЮДФ"
   ]
  },
  {
   "cell_type": "code",
   "execution_count": 96,
   "id": "2cf26fbc-5582-4bdc-bcc2-7afa4e7ab81a",
   "metadata": {},
   "outputs": [],
   "source": [
    "big_df = (\n",
    "    spark\n",
    "    .range(0, 1_000_000)\n",
    "    .withColumn('val',f.rand())\n",
    ")"
   ]
  },
  {
   "cell_type": "code",
   "execution_count": 97,
   "id": "c0cba0e8-b839-4f44-af70-45625e39f8f8",
   "metadata": {},
   "outputs": [
    {
     "name": "stdout",
     "output_type": "stream",
     "text": [
      "+------------------+\n",
      "|count(probability)|\n",
      "+------------------+\n",
      "|           1000000|\n",
      "+------------------+\n",
      "\n",
      "+------------------+\n",
      "|count(probability)|\n",
      "+------------------+\n",
      "|           1000000|\n",
      "+------------------+\n",
      "\n",
      "+------------------+\n",
      "|count(probability)|\n",
      "+------------------+\n",
      "|           1000000|\n",
      "+------------------+\n",
      "\n",
      "+------------------+\n",
      "|count(probability)|\n",
      "+------------------+\n",
      "|           1000000|\n",
      "+------------------+\n",
      "\n",
      "+------------------+\n",
      "|count(probability)|\n",
      "+------------------+\n",
      "|           1000000|\n",
      "+------------------+\n",
      "\n",
      "+------------------+\n",
      "|count(probability)|\n",
      "+------------------+\n",
      "|           1000000|\n",
      "+------------------+\n",
      "\n",
      "+------------------+\n",
      "|count(probability)|\n",
      "+------------------+\n",
      "|           1000000|\n",
      "+------------------+\n",
      "\n",
      "711 ms ± 346 ms per loop (mean ± std. dev. of 7 runs, 1 loop each)\n"
     ]
    }
   ],
   "source": [
    "def test_pandas_pdf():\n",
    "    return (\n",
    "        big_df\n",
    "        .withColumn('probability', pandas_pdf(big_df.val))\n",
    "        .agg(f.count(f.col('probability')))\n",
    "        .show()\n",
    "    )\n",
    "\n",
    "%timeit -n 1 test_pandas_pdf()"
   ]
  },
  {
   "cell_type": "code",
   "execution_count": 98,
   "id": "e438425a-b2c7-441e-9252-8f7941e011b0",
   "metadata": {},
   "outputs": [
    {
     "name": "stdout",
     "output_type": "stream",
     "text": [
      "+------------------+\n",
      "|count(probability)|\n",
      "+------------------+\n",
      "|           1000000|\n",
      "+------------------+\n",
      "\n",
      "+------------------+\n",
      "|count(probability)|\n",
      "+------------------+\n",
      "|           1000000|\n",
      "+------------------+\n",
      "\n",
      "+------------------+\n",
      "|count(probability)|\n",
      "+------------------+\n",
      "|           1000000|\n",
      "+------------------+\n",
      "\n",
      "+------------------+\n",
      "|count(probability)|\n",
      "+------------------+\n",
      "|           1000000|\n",
      "+------------------+\n",
      "\n",
      "+------------------+\n",
      "|count(probability)|\n",
      "+------------------+\n",
      "|           1000000|\n",
      "+------------------+\n",
      "\n",
      "+------------------+\n",
      "|count(probability)|\n",
      "+------------------+\n",
      "|           1000000|\n",
      "+------------------+\n",
      "\n",
      "+------------------+\n",
      "|count(probability)|\n",
      "+------------------+\n",
      "|           1000000|\n",
      "+------------------+\n",
      "\n",
      "36.7 s ± 1.42 s per loop (mean ± std. dev. of 7 runs, 1 loop each)\n"
     ]
    }
   ],
   "source": [
    "#row-by-row version with Python-JVM conversion\n",
    "@f.udf('double')\n",
    "def pdf(v):\n",
    "    return float(stats.norm.pdf(v))\n",
    "\n",
    "def test_pdf():\n",
    "    return (\n",
    "        big_df\n",
    "        .withColumn('probability', pdf(big_df.val))\n",
    "        .agg(f.count(f.col('probability')))\n",
    "        .show()\n",
    "    )\n",
    "\n",
    "%timeit -n 1 test_pdf()"
   ]
  },
  {
   "cell_type": "markdown",
   "id": "c0260961-d3f0-408f-8fcc-03e753fa5bc5",
   "metadata": {},
   "source": [
    "Результат для векторизированной ЮДФ - 903 ms, против не_ - 34.4 s\n",
    "\n",
    "Отличие приверно в 40 раз!"
   ]
  },
  {
   "cell_type": "markdown",
   "id": "1c075a1a-a9e9-4212-92bc-059d6684c433",
   "metadata": {},
   "source": [
    "### Использование объектов pandas в Pandas UDF\n",
    "\n",
    "В **Pandas UDF** (User Defined Function) с использование декоратора `@pandas_udf` в Spark DataFrame API, функция pandas_pdf принимает один или несколько pandas Series (DataFrame) объектов и возвращает pandas Series (DataFrame) объект. В этом случае, pandas_pdf принимает Series v (который представляет собой значения из столбца val в DataFrame) и возвращает Series, содержащий значения, вычисленные с использованием функции stats.norm.pdf().\n",
    "\n",
    "Возвращая `pd.Series(stats.norm.pdf(v))`, мы создаем объект Pandas Series, который содержит значения, вычисленные с помощью функции `stats.norm.pdf()`, примененные к каждому элементу входного Series v. Это необходимо потому, что Spark использует PyArrow для обмена данными между JVM и Python, и PyArrow не может обрабатывать объекты `stats.norm.pdf(v)` напрямую, так как они не являются объектами pandas.\n",
    "\n",
    "Поэтому, оборачивая результат stats.norm.pdf(v) в pd.Series(), мы создаем объект pandas, который Spark может обработать, и возвращаем его из функции pandas_pdf."
   ]
  },
  {
   "cell_type": "markdown",
   "id": "aa056b4d-cf76-48a6-b6d3-88bd694310bf",
   "metadata": {},
   "source": [
    "## .cache() .unpersist() - кэш памяти"
   ]
  },
  {
   "cell_type": "markdown",
   "id": "a893e67b-1815-44c9-abcb-381652cd4b4b",
   "metadata": {},
   "source": [
    "Когда вы вызываете `big_df.cache()`, вы помещаете DataFrame big_df в **кэш памяти**. Это означает, что DataFrame будет кэширован в памяти и будет доступен для быстрого доступа к данным при последующих операциях.\n",
    "\n",
    "Однако, если у вас есть ограничения на использование памяти или если кэш становится необходимым для других операций, вы можете явно удалить кэш с помощью метода `unpersist()`.\n",
    "\n",
    "Это удалит кэш из памяти и освободит ресурсы, занимаемые DataFrame big_df. Если вы не удаляете кэш явно с помощью unpersist(), DataFrame останется в кэше и будет занимать память до тех пор, пока не будет удален Spark контекст или пока явно не будет вызвана операция `unpersist()`"
   ]
  },
  {
   "cell_type": "code",
   "execution_count": 99,
   "id": "1c9dc903-7e1e-4bdf-9657-59d95cd471b2",
   "metadata": {},
   "outputs": [
    {
     "data": {
      "text/plain": [
       "DataFrame[id: bigint, val: double]"
      ]
     },
     "execution_count": 99,
     "metadata": {},
     "output_type": "execute_result"
    }
   ],
   "source": [
    "big_df.unpersist()"
   ]
  },
  {
   "cell_type": "markdown",
   "id": "38be90c3-fa49-4296-a82d-acf368a0e911",
   "metadata": {},
   "source": [
    "## Apache Arrow Memory & runtime switch"
   ]
  },
  {
   "cell_type": "markdown",
   "id": "e67575ea-37bf-4abb-8042-6669230189cf",
   "metadata": {},
   "source": [
    "До версии ПиСпарк 2.3 использование ЮДФ в Питоне проигрывало по производительности Скале и Джаве (из-за переключений времени выполнения `runtime` между Питон и JVM).\n",
    "\n",
    "С версии 2.3 Спарк начал использовать **Apache Arrow Memory** - общее пространство памяти для разных сред окружения, поэтому отпала необходимость и расходны на конвертацию объектов.\n",
    "\n",
    "Также Arrow хранит в памяти **столбчатые объекты** (columnar objects), что повышает производительность. Используя это, ПиСпарк отрефакторилился, в результате чего мы получили **векторизированные ЮДФ**."
   ]
  },
  {
   "cell_type": "markdown",
   "id": "b5fa731e-51c9-447b-8236-42593ab214fb",
   "metadata": {},
   "source": [
    "В аспектах программирования и операционных систем (в частности, процессов и потоков), термины \"runtime\" и \"switch runtime\" имеют разные значения. Давайте рассмотрим их подробнее:\n",
    "\n",
    "**Runtime**  \n",
    "**Программирование:**  \n",
    "`Runtime` (время выполнения) - это фаза, когда программа исполняется. В это время происходят все динамические операции, такие как выполнение кода, управление памятью, обработка исключений и т.д. Например, в Python есть интерпретатор, который выполняет код во время исполнения программы.\n",
    "`Runtime Environment` (среда выполнения) - это окружение, в котором исполняется программа. Оно включает в себя библиотеки, интерпретаторы (например, `Python Interpreter`) или виртуальные машины (например, `Java Virtual Machine`).  \n",
    "**Процессы и потоки ОС:**  \n",
    "`Runtime` в контексте ОС может также относиться к продолжительности времени, когда процесс или поток активен и выполняется на процессоре. Это время исполнения может включать в себя время, проведенное на процессоре, и время ожидания (например, ожидание ввода-вывода).\n",
    "\n",
    "**Switch Runtime**  \n",
    "**Программирование:**  \n",
    "`Switch Runtime` (переключение времени выполнения) в программировании часто означает смену среды выполнения для кода. Например, если вы хотите исполнять код, написанный на Python, в среде JVM, это может потребовать использование специального инструмента или транслятора, который позволит исполнять Python-код на Java Virtual Machine (например, Jython).  \n",
    "**Процессы и потоки ОС:**  \n",
    "`Context Switch` (переключение контекста) - это процесс, при котором операционная система переключается от выполнения одного процесса или потока к другому. Это необходимо для многозадачности, чтобы несколько процессов могли совместно использовать ресурсы процессора.\n",
    "В данном контексте, \"switch runtime\" может подразумевать переключение между разными процессами или потоками в ходе их выполнения. То есть операционная система переключает время выполнения между различными задачами для обеспечения параллелизма и эффективного использования процессора.\n",
    "\n",
    "**Примеры**  \n",
    "**Программирование:**  \n",
    "Вы используете Python для разработки, но вам нужно интегрировать код с существующим приложением на Java. Вы используете Jython для \"switch runtime\" и исполняете Python-код в JVM.\n",
    "**Процессы и потоки ОС:**  \n",
    "В многозадачной операционной системе несколько программ работают одновременно. Процессор переключается между задачами (процессами) каждые несколько миллисекунд, обеспечивая иллюзию параллельного выполнения. Это и есть \"context switch\".\n",
    "\n",
    "**Резюме**  \n",
    "`Runtime` (время выполнения): в программировании - фаза исполнения программы; в ОС - время, когда процесс или поток активно выполняется.\n",
    "`Switch Runtime` (переключение времени выполнения): в программировании - смена среды выполнения для кода; в ОС - переключение контекста между процессами или потоками для многозадачности."
   ]
  },
  {
   "cell_type": "markdown",
   "id": "c8222495-788b-4573-9395-7518855a028a",
   "metadata": {},
   "source": [
    "## Объекты Column. Обращение к столбцам через точку"
   ]
  },
  {
   "cell_type": "markdown",
   "id": "43d8d65d-ee39-486a-8980-86c5b28e28c7",
   "metadata": {},
   "source": [
    "Обращение к полям DataFrame в ПиСпарк через точку, если имена полей содержат несколько слов через пробел, невозможно - необходимо использовать квадратные скобки и строковые индексы."
   ]
  },
  {
   "cell_type": "code",
   "execution_count": 100,
   "id": "1144db76-a0f2-45e3-92dc-5bd238d9dd5e",
   "metadata": {},
   "outputs": [
    {
     "name": "stdout",
     "output_type": "stream",
     "text": [
      "+-----------+---+\n",
      "|  full name|age|\n",
      "+-----------+---+\n",
      "|   John Doe| 30|\n",
      "| Jane Smith| 25|\n",
      "|Bob Johnson| 35|\n",
      "+-----------+---+\n",
      "\n",
      "+-----------+\n",
      "|  full name|\n",
      "+-----------+\n",
      "|   John Doe|\n",
      "| Jane Smith|\n",
      "|Bob Johnson|\n",
      "+-----------+\n",
      "\n",
      "Column<'full name'>\n",
      "Column<'age'>\n"
     ]
    },
    {
     "ename": "TypeError",
     "evalue": "'Column' object is not callable",
     "output_type": "error",
     "traceback": [
      "\u001b[0;31m---------------------------------------------------------------------------\u001b[0m",
      "\u001b[0;31mTypeError\u001b[0m                                 Traceback (most recent call last)",
      "Cell \u001b[0;32mIn[100], line 12\u001b[0m\n\u001b[1;32m     10\u001b[0m \u001b[38;5;28mprint\u001b[39m(df[\u001b[38;5;124m\"\u001b[39m\u001b[38;5;124mfull name\u001b[39m\u001b[38;5;124m\"\u001b[39m])\n\u001b[1;32m     11\u001b[0m \u001b[38;5;28mprint\u001b[39m(df\u001b[38;5;241m.\u001b[39mage)\n\u001b[0;32m---> 12\u001b[0m \u001b[43mdf\u001b[49m\u001b[38;5;241;43m.\u001b[39;49m\u001b[43mage\u001b[49m\u001b[38;5;241;43m.\u001b[39;49m\u001b[43mshow\u001b[49m\u001b[43m(\u001b[49m\u001b[43m)\u001b[49m\n",
      "\u001b[0;31mTypeError\u001b[0m: 'Column' object is not callable"
     ]
    }
   ],
   "source": [
    "data = [(\"John Doe\", 30), (\"Jane Smith\", 25), (\"Bob Johnson\", 35)]\n",
    "columns = [\"full name\", \"age\"]\n",
    "\n",
    "# Создание DataFrame\n",
    "df = spark.createDataFrame(data, schema=columns)\n",
    "\n",
    "# Обращение к полям через точку\n",
    "df.show()\n",
    "df.select(\"full name\").show()\n",
    "print(df[\"full name\"])\n",
    "print(df.age)\n",
    "df.age.show()"
   ]
  },
  {
   "cell_type": "markdown",
   "id": "e451537f-708d-4cbd-8264-d8f4fac9a9bf",
   "metadata": {},
   "source": [
    "Для инструкции `df.age.show()` получим ошибку TypeError: 'Column' object is not callable. Обращение к столбцам через точку, как в df.age, может вызвать ошибку TypeError, так как это возвращает объект Column, который не является вызываемым (callable) для метода show().\n",
    "\n",
    "Объекты `df.age` и `df[\"full name\"]` в PySpark являются объектами типа Column. Column - это абстракция, представляющая столбец данных в DataFrame. Объект Column обеспечивает различные методы для выполнения операций на столбцах данных, таких как вычисления, фильтрация, агрегация и т. д.\n",
    "\n",
    "Чтобы использовать объект Column, вы можете использовать его методы для создания новых столбцов, применения функций к существующим столбцам и других операций с данными в DataFrame. Например, вы можете использовать объект Column для создания нового столбца, содержащего возраст пассажиров в годах путем деления столбца \"age\" на 10."
   ]
  },
  {
   "cell_type": "code",
   "execution_count": null,
   "id": "c296fc7b-7c53-4714-8f2d-03b6224b49dc",
   "metadata": {},
   "outputs": [],
   "source": [
    "df = df.withColumn(\"age_in_decades\", df.age/10)\n",
    "df.show()"
   ]
  },
  {
   "cell_type": "markdown",
   "id": "e7ed8de4-3f06-47c9-9a16-01a03721db29",
   "metadata": {},
   "source": [
    "Или можете отфильтровать датафрейм по полю"
   ]
  },
  {
   "cell_type": "code",
   "execution_count": null,
   "id": "ad9be782-509e-46e7-bbe3-0f83a9c8d7cb",
   "metadata": {},
   "outputs": [],
   "source": [
    "df.filter(df.age_in_decades > 3).show()"
   ]
  },
  {
   "cell_type": "code",
   "execution_count": null,
   "id": "5bd72ae5-fab7-4f3f-8ddc-cad52d4f6967",
   "metadata": {},
   "outputs": [],
   "source": []
  },
  {
   "cell_type": "code",
   "execution_count": null,
   "id": "5472158d-d8ef-457c-8138-165261ce5392",
   "metadata": {},
   "outputs": [],
   "source": []
  }
 ],
 "metadata": {
  "kernelspec": {
   "display_name": "Python 3 (ipykernel)",
   "language": "python",
   "name": "python3"
  },
  "language_info": {
   "codemirror_mode": {
    "name": "ipython",
    "version": 3
   },
   "file_extension": ".py",
   "mimetype": "text/x-python",
   "name": "python",
   "nbconvert_exporter": "python",
   "pygments_lexer": "ipython3",
   "version": "3.11.4"
  }
 },
 "nbformat": 4,
 "nbformat_minor": 5
}
