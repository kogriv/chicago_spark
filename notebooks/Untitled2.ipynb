{
 "cells": [
  {
   "cell_type": "code",
   "execution_count": 1,
   "id": "95186cae-9448-4402-827b-e78be211e3b8",
   "metadata": {},
   "outputs": [],
   "source": [
    "from ChiSpark.enviserv.depsgetter import DepsGetter\n",
    "# from importlib.metadata import version, PackageNotFoundError\n",
    "import copy"
   ]
  },
  {
   "cell_type": "code",
   "execution_count": 2,
   "id": "3d8e1f06-4aa0-4e5c-9bd1-a09032b43604",
   "metadata": {},
   "outputs": [],
   "source": [
    "dg = DepsGetter()"
   ]
  },
  {
   "cell_type": "code",
   "execution_count": 8,
   "id": "327f5d68-9cae-4a25-aa0a-6d38c2b90b2d",
   "metadata": {},
   "outputs": [
    {
     "name": "stdout",
     "output_type": "stream",
     "text": [
      "*\n",
      ",,,,,\n",
      ",,,,,,,,,,,,,,\n",
      ",,,,,,,,,,,,,,,,,,,,,,,,,,,\n",
      ",,,,,,,,,,,,,,,,,,,,,,,,,,,,,,,,,,,,,,,,,,,,,,,,\n"
     ]
    }
   ],
   "source": [
    "dg.print_dashes(symb=\",\",m=5, n=5, delay=600, increase = 1.4)"
   ]
  },
  {
   "cell_type": "code",
   "execution_count": 9,
   "id": "9c41045e-867c-4db7-a84a-c523cdc4dcfd",
   "metadata": {},
   "outputs": [
    {
     "data": {
      "text/plain": [
       "{'venv': {}, 'virtualenvs': {}, 'conda': {}}"
      ]
     },
     "execution_count": 9,
     "metadata": {},
     "output_type": "execute_result"
    }
   ],
   "source": [
    "dg.grouped_paths"
   ]
  },
  {
   "cell_type": "code",
   "execution_count": 10,
   "id": "a4864d42-928f-4582-9bc9-5db997ac6c11",
   "metadata": {},
   "outputs": [
    {
     "name": "stderr",
     "output_type": "stream",
     "text": [
      "Shell bash is available\n",
      "Shell Bash and Path to find equal to '/', finding using Python os.walk()\n",
      "Attempting to find files using Python\n"
     ]
    }
   ],
   "source": [
    "dg.get_venvs_paths()"
   ]
  },
  {
   "cell_type": "code",
   "execution_count": 11,
   "id": "7cbc4697-a64a-492c-9899-c19eea767570",
   "metadata": {},
   "outputs": [
    {
     "data": {
      "text/plain": [
       "{'venv': {'base': '/usr/lib/python3.10/venv/scripts/common/activate'},\n",
       " 'virtualenvs': {},\n",
       " 'conda': {'base': '/opt/conda/lib/python3.11/venv/scripts/common/activate'}}"
      ]
     },
     "execution_count": 11,
     "metadata": {},
     "output_type": "execute_result"
    }
   ],
   "source": [
    "dg.grouped_paths"
   ]
  },
  {
   "cell_type": "code",
   "execution_count": 12,
   "id": "6629520f-bf7a-4dd3-9783-1a45674f0bb9",
   "metadata": {},
   "outputs": [
    {
     "data": {
      "text/plain": [
       "{'base': '/opt/conda', 'myenv': '/opt/conda/envs/myenv'}"
      ]
     },
     "execution_count": 12,
     "metadata": {},
     "output_type": "execute_result"
    }
   ],
   "source": [
    "dg.get_conda_envs()"
   ]
  },
  {
   "cell_type": "code",
   "execution_count": 13,
   "id": "a7d577f2-8dd8-4567-ab4c-1c03ab399bf8",
   "metadata": {},
   "outputs": [
    {
     "data": {
      "text/plain": [
       "{'venv': {'base': '/usr/lib/python3.10/venv/scripts/common/activate'},\n",
       " 'virtualenvs': {},\n",
       " 'conda': {'base': '/opt/conda', 'myenv': '/opt/conda/envs/myenv'}}"
      ]
     },
     "execution_count": 13,
     "metadata": {},
     "output_type": "execute_result"
    }
   ],
   "source": [
    "dg.grouped_paths"
   ]
  },
  {
   "cell_type": "code",
   "execution_count": 14,
   "id": "d747157b-36f9-45cc-87df-7d4e922cc7cf",
   "metadata": {},
   "outputs": [
    {
     "data": {
      "text/plain": [
       "{}"
      ]
     },
     "execution_count": 14,
     "metadata": {},
     "output_type": "execute_result"
    }
   ],
   "source": [
    "dg.all_deps"
   ]
  },
  {
   "cell_type": "code",
   "execution_count": 15,
   "id": "4a5314e1-187d-4422-ba23-f242d9c5d6a2",
   "metadata": {},
   "outputs": [
    {
     "data": {
      "text/plain": [
       "{'venv': {'base': '/usr/lib/python3.10/venv/scripts/common/activate'},\n",
       " 'virtualenvs': {},\n",
       " 'conda': {'base': '/opt/conda', 'myenv': '/opt/conda/envs/myenv'}}"
      ]
     },
     "execution_count": 15,
     "metadata": {},
     "output_type": "execute_result"
    }
   ],
   "source": [
    "dg.all_deps = copy.deepcopy(dg.grouped_paths)\n",
    "dg.all_deps"
   ]
  },
  {
   "cell_type": "code",
   "execution_count": 16,
   "id": "91a74e44-1f10-4890-99b1-b11f8a6f037e",
   "metadata": {},
   "outputs": [
    {
     "name": "stdout",
     "output_type": "stream",
     "text": [
      "---------------------------------------------------------\n",
      "- Function get_all_dependencies() started ---------------\n",
      "- Getting all dependencies. This may take a while -------\n",
      "---------------------------------------------------------\n",
      "--packman = virtualenvs exists in venvs dict -------------\n",
      "---------------------------------------------------------\n",
      "--packman = conda exists in venvs dict -------------\n",
      "Venv dict contains packman = conda | env_name = base\n",
      "---- Dependencies obtained! Dictionary will be added ----\n",
      "Venv dict contains packman = conda | env_name = myenv\n",
      "---- Dependencies NOT obtained. Nothing will be added ----\n",
      "---------------------------------------------------------\n",
      "--packman = venv exists in venvs dict -------------\n",
      "Venv dict contains packman = venv | env_name = base\n",
      "---- Dependencies obtained! Dictionary will be added ----\n",
      "==== FINDING VIRTUAL ENVS DEPENDENCIES FINISHED ====\n"
     ]
    }
   ],
   "source": [
    "dg.get_all_dependencies(environments=dg.grouped_paths, verbose=True)"
   ]
  },
  {
   "cell_type": "code",
   "execution_count": null,
   "id": "20b68fe4-31d2-49e7-920b-809b499c6089",
   "metadata": {},
   "outputs": [],
   "source": [
    "# dg.all_deps"
   ]
  },
  {
   "cell_type": "code",
   "execution_count": 17,
   "id": "599fca6c-d43a-46c4-bc5c-6fa209c05262",
   "metadata": {},
   "outputs": [],
   "source": [
    "deps_conda_base = copy.deepcopy(dg.all_deps['conda']['base'])\n",
    "deps_venv_base = copy.deepcopy(dg.all_deps['venv']['base'])"
   ]
  },
  {
   "cell_type": "code",
   "execution_count": 18,
   "id": "74fe176b-1adf-4927-b290-0373fe278c41",
   "metadata": {},
   "outputs": [
    {
     "name": "stdout",
     "output_type": "stream",
     "text": [
      "Count of specified venv deps in current venv:  213  | Total count of specifed deps dict: 358\n",
      "Checked vevn not equal current\n"
     ]
    },
    {
     "data": {
      "text/plain": [
       "(213, 358)"
      ]
     },
     "execution_count": 18,
     "metadata": {},
     "output_type": "execute_result"
    }
   ],
   "source": [
    "dg.count_specifed_venv_deps_is_in_current_venv(deps_conda_base ,verbose=True)"
   ]
  },
  {
   "cell_type": "code",
   "execution_count": 19,
   "id": "981451ff-a3a3-4ddd-ae39-4a2078fd6311",
   "metadata": {},
   "outputs": [
    {
     "name": "stdout",
     "output_type": "stream",
     "text": [
      "Count of specified venv deps in current venv:  213  | Total count of specifed deps dict: 213\n",
      "Checked vevn equal (or included in)  current\n"
     ]
    },
    {
     "data": {
      "text/plain": [
       "(213, 213)"
      ]
     },
     "execution_count": 19,
     "metadata": {},
     "output_type": "execute_result"
    }
   ],
   "source": [
    "dg.count_specifed_venv_deps_is_in_current_venv(deps_venv_base ,verbose=True)"
   ]
  },
  {
   "cell_type": "code",
   "execution_count": 20,
   "id": "7fc51350-fb51-4890-8dce-d3de3e357199",
   "metadata": {},
   "outputs": [
    {
     "name": "stdout",
     "output_type": "stream",
     "text": [
      "*\n",
      "---\n",
      "------\n",
      "---------\n",
      "------------\n",
      "-------------------------------------------------------------------\n",
      "function check_current_venv_path started...\n",
      "Count of specified venv deps in current venv:  213  | Total count of specifed deps dict: 213\n",
      "Checked vevn equal (or included in)  current\n",
      "Installed: 213  | Count: 213\n",
      "Current vevn equal (or included in) some venv\n",
      "-------------------------------------------------------------\n",
      "Current venv defined as base | packman as venv\n",
      "Path to activate script (venv folder) is:\n",
      "/usr/lib/python3.10/venv/scripts/common/activate\n",
      "path wil be returnred\n",
      "-------------------------------------------------------------\n"
     ]
    },
    {
     "data": {
      "text/plain": [
       "'/usr/lib/python3.10/venv/scripts/common/activate'"
      ]
     },
     "execution_count": 20,
     "metadata": {},
     "output_type": "execute_result"
    }
   ],
   "source": [
    "dg.check_current_venv_path(update_data = False, verbose=True)"
   ]
  },
  {
   "cell_type": "code",
   "execution_count": 3,
   "id": "f1303077-8e1c-40d1-a459-87f731d03cf4",
   "metadata": {},
   "outputs": [
    {
     "name": "stdout",
     "output_type": "stream",
     "text": [
      "*\n",
      "-----\n",
      "--------------\n",
      "---------------------------\n"
     ]
    },
    {
     "name": "stderr",
     "output_type": "stream",
     "text": [
      "Shell bash is available\n",
      "Shell Bash and Path to find equal to '/', finding using Python os.walk()\n",
      "Attempting to find files using Python\n"
     ]
    },
    {
     "name": "stdout",
     "output_type": "stream",
     "text": [
      "------------------------------------------------\n",
      "-------------------------------------------------------------------\n",
      "Function check_current_venv_path started\n",
      "Checking / updating venvs dict grouped_paths...\n",
      "Attempting find and get paths to activation scripts\n",
      "Conda installed.\n",
      "Function get_conda_envs finished successfully\n",
      "-------------------------------------------------------------------\n",
      "Choosed update_data. Attimpting get all_dependencies...\n",
      "---------------------------------------------------------\n",
      "- Function get_all_dependencies() started ---------------\n",
      "- Getting all dependencies. This may take a while -------\n",
      "---------------------------------------------------------\n",
      "--packman = virtualenvs exists in venvs dict -------------\n",
      "---------------------------------------------------------\n",
      "--packman = conda exists in venvs dict -------------\n",
      "Venv dict contains packman = conda | env_name = base\n",
      "---- Dependencies obtained! Dictionary will be added ----\n",
      "Venv dict contains packman = conda | env_name = myenv\n",
      "---- Dependencies NOT obtained. Nothing will be added ----\n",
      "---------------------------------------------------------\n",
      "--packman = venv exists in venvs dict -------------\n",
      "Venv dict contains packman = venv | env_name = base\n",
      "---- Dependencies obtained! Dictionary will be added ----\n",
      "==== FINDING VIRTUAL ENVS DEPENDENCIES FINISHED ====\n",
      "-------------------------------------------------------------------\n",
      "-------------------------------------------------------------------\n",
      "Checking ||| packman = conda ||| venv = base ||| ---\n",
      "Count of specified venv deps in current venv:  213  | Total count of specifed deps dict: 358\n",
      "Checked vevn not equal current\n",
      "Installed: 188  | Count: 213\n",
      "Current venev not equal (or not included in) to some vevn\n",
      "-------------------------------------------------------------------\n",
      "Checking ||| packman = conda ||| venv = myenv ||| ---\n",
      "checked venv is empty. skiping\n",
      "-------------------------------------------------------------------\n",
      "-------------------------------------------------------------------\n",
      "Checking ||| packman = venv ||| venv = base ||| ---\n",
      "Count of specified venv deps in current venv:  213  | Total count of specifed deps dict: 213\n",
      "Checked vevn equal (or included in)  current\n",
      "Installed: 213  | Count: 213\n",
      "Current vevn equal (or included in) some venv\n",
      "-------------------------------------------------------------\n",
      "Current venv defined as ||| base |||| packman as ||| venv ||| \n",
      "Path to activate script (venv folder) is:\n",
      "/usr/lib/python3.10/venv/scripts/common/activate\n",
      "path wil be returnred\n",
      "-------------------------------------------------------------\n"
     ]
    },
    {
     "data": {
      "text/plain": [
       "'/usr/lib/python3.10/venv/scripts/common/activate'"
      ]
     },
     "execution_count": 3,
     "metadata": {},
     "output_type": "execute_result"
    }
   ],
   "source": [
    "dg.check_current_venv_path(update_data = True, verbose=True)"
   ]
  },
  {
   "cell_type": "code",
   "execution_count": null,
   "id": "94f2f869-ba79-4f27-abc4-ced569c0b268",
   "metadata": {},
   "outputs": [],
   "source": [
    "# dg.all_deps"
   ]
  },
  {
   "cell_type": "code",
   "execution_count": null,
   "id": "5555aa28-5507-4aed-b3f0-aa886070282c",
   "metadata": {},
   "outputs": [],
   "source": []
  }
 ],
 "metadata": {
  "kernelspec": {
   "display_name": "Python 3 (ipykernel)",
   "language": "python",
   "name": "python3"
  },
  "language_info": {
   "codemirror_mode": {
    "name": "ipython",
    "version": 3
   },
   "file_extension": ".py",
   "mimetype": "text/x-python",
   "name": "python",
   "nbconvert_exporter": "python",
   "pygments_lexer": "ipython3",
   "version": "3.11.6"
  }
 },
 "nbformat": 4,
 "nbformat_minor": 5
}
